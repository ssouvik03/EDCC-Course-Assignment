{
 "cells": [
  {
   "cell_type": "markdown",
   "id": "25d27ab0",
   "metadata": {},
   "source": [
    "# 🌊 Marine Microplastic Prediction - Interactive Visualizations\n",
    "\n",
    "This notebook provides comprehensive interactive visualizations for marine microplastic prediction analysis.\n",
    "\n",
    "## Features:\n",
    "- 🗺️ Interactive global hotspot maps\n",
    "- 📊 Real-time prediction charts\n",
    "- 🔥 Concentration heatmaps\n",
    "- 📈 Temporal trend analysis\n",
    "- 🌡️ Environmental correlation analysis\n",
    "- 📋 Risk assessment dashboards"
   ]
  },
  {
   "cell_type": "code",
   "execution_count": 12,
   "id": "86988d6d",
   "metadata": {},
   "outputs": [
    {
     "name": "stdout",
     "output_type": "stream",
     "text": [
      "📦 All libraries imported successfully!\n",
      "🎨 Visualization system ready!\n"
     ]
    }
   ],
   "source": [
    "# Import required libraries\n",
    "import sys\n",
    "import os\n",
    "sys.path.append('../')\n",
    "\n",
    "import pandas as pd\n",
    "import numpy as np\n",
    "import folium\n",
    "import plotly.express as px\n",
    "import plotly.graph_objects as go\n",
    "from plotly.subplots import make_subplots\n",
    "import seaborn as sns\n",
    "import matplotlib.pyplot as plt\n",
    "from datetime import datetime, timedelta\n",
    "\n",
    "# Import our visualization module\n",
    "from src.visualization.interactive_maps import MarineMicroplasticVisualizer\n",
    "from src.inference.predict_and_advise import PredictionEngine\n",
    "\n",
    "# Configure plotting\n",
    "plt.style.use('seaborn-v0_8')\n",
    "sns.set_palette(\"husl\")\n",
    "\n",
    "print(\"📦 All libraries imported successfully!\")\n",
    "print(\"🎨 Visualization system ready!\")"
   ]
  },
  {
   "cell_type": "markdown",
   "id": "f9b74df8",
   "metadata": {},
   "source": [
    "## 🔧 Initialize Visualization System"
   ]
  },
  {
   "cell_type": "code",
   "execution_count": 13,
   "id": "258fdfa7",
   "metadata": {},
   "outputs": [
    {
     "name": "stderr",
     "output_type": "stream",
     "text": [
      "WARNING:src.visualization.interactive_maps:Data file not found: data/processed_marine_microplastics.csv\n",
      "INFO:src.visualization.interactive_maps:Created sample visualization data with 200 records\n",
      "INFO:src.visualization.interactive_maps:Created sample visualization data with 200 records\n"
     ]
    },
    {
     "name": "stdout",
     "output_type": "stream",
     "text": [
      "✅ Loaded 200 data points for visualization\n",
      "📅 Date range: 2024-10-17 16:06:16.038169 to 2025-10-16 16:06:16.038169\n",
      "🌍 Coordinate range:\n",
      "   Latitude: -59.3° to 58.4°\n",
      "   Longitude: -178.2° to 176.6°\n",
      "🎯 Hotspot ratio: 6.5%\n"
     ]
    }
   ],
   "source": [
    "# Initialize the visualizer\n",
    "visualizer = MarineMicroplasticVisualizer()\n",
    "visualizer.load_data()\n",
    "\n",
    "print(f\"✅ Loaded {len(visualizer.data)} data points for visualization\")\n",
    "print(f\"📅 Date range: {visualizer.data['timestamp'].min()} to {visualizer.data['timestamp'].max()}\")\n",
    "print(f\"🌍 Coordinate range:\")\n",
    "print(f\"   Latitude: {visualizer.data['latitude'].min():.1f}° to {visualizer.data['latitude'].max():.1f}°\")\n",
    "print(f\"   Longitude: {visualizer.data['longitude'].min():.1f}° to {visualizer.data['longitude'].max():.1f}°\")\n",
    "print(f\"🎯 Hotspot ratio: {visualizer.data['is_hotspot'].mean():.1%}\")"
   ]
  },
  {
   "cell_type": "markdown",
   "id": "2f4ac77f",
   "metadata": {},
   "source": [
    "## 🗺️ Interactive Global Hotspot Map"
   ]
  },
  {
   "cell_type": "code",
   "execution_count": 14,
   "id": "519497cf",
   "metadata": {},
   "outputs": [
    {
     "name": "stderr",
     "output_type": "stream",
     "text": [
      "INFO:src.visualization.interactive_maps:Global hotspot map saved to visualizations/global_hotspot_map.html\n"
     ]
    },
    {
     "name": "stdout",
     "output_type": "stream",
     "text": [
      "🗺️ Interactive global hotspot map created!\n",
      "💡 The map shows:\n",
      "   • Circle size = Hotspot probability\n",
      "   • Color = Risk level (green=low, red=high)\n",
      "   • Click markers for detailed information\n",
      "   • Use layer controls to switch map styles\n"
     ]
    },
    {
     "data": {
      "text/html": [
       "<div style=\"width:100%;\"><div style=\"position:relative;width:100%;height:0;padding-bottom:60%;\"><span style=\"color:#565656\">Make this Notebook Trusted to load map: File -> Trust Notebook</span><iframe srcdoc=\"&lt;!DOCTYPE html&gt;\n",
       "&lt;html&gt;\n",
       "&lt;head&gt;\n",
       "    \n",
       "    &lt;meta http-equiv=&quot;content-type&quot; content=&quot;text/html; charset=UTF-8&quot; /&gt;\n",
       "    &lt;script src=&quot;https://cdn.jsdelivr.net/npm/leaflet@1.9.3/dist/leaflet.js&quot;&gt;&lt;/script&gt;\n",
       "    &lt;script src=&quot;https://code.jquery.com/jquery-3.7.1.min.js&quot;&gt;&lt;/script&gt;\n",
       "    &lt;script src=&quot;https://cdn.jsdelivr.net/npm/bootstrap@5.2.2/dist/js/bootstrap.bundle.min.js&quot;&gt;&lt;/script&gt;\n",
       "    &lt;script src=&quot;https://cdnjs.cloudflare.com/ajax/libs/Leaflet.awesome-markers/2.0.2/leaflet.awesome-markers.js&quot;&gt;&lt;/script&gt;\n",
       "    &lt;link rel=&quot;stylesheet&quot; href=&quot;https://cdn.jsdelivr.net/npm/leaflet@1.9.3/dist/leaflet.css&quot;/&gt;\n",
       "    &lt;link rel=&quot;stylesheet&quot; href=&quot;https://cdn.jsdelivr.net/npm/bootstrap@5.2.2/dist/css/bootstrap.min.css&quot;/&gt;\n",
       "    &lt;link rel=&quot;stylesheet&quot; href=&quot;https://netdna.bootstrapcdn.com/bootstrap/3.0.0/css/bootstrap-glyphicons.css&quot;/&gt;\n",
       "    &lt;link rel=&quot;stylesheet&quot; href=&quot;https://cdn.jsdelivr.net/npm/@fortawesome/fontawesome-free@6.2.0/css/all.min.css&quot;/&gt;\n",
       "    &lt;link rel=&quot;stylesheet&quot; href=&quot;https://cdnjs.cloudflare.com/ajax/libs/Leaflet.awesome-markers/2.0.2/leaflet.awesome-markers.css&quot;/&gt;\n",
       "    &lt;link rel=&quot;stylesheet&quot; href=&quot;https://cdn.jsdelivr.net/gh/python-visualization/folium/folium/templates/leaflet.awesome.rotate.min.css&quot;/&gt;\n",
       "    \n",
       "            &lt;meta name=&quot;viewport&quot; content=&quot;width=device-width,\n",
       "                initial-scale=1.0, maximum-scale=1.0, user-scalable=no&quot; /&gt;\n",
       "            &lt;style&gt;\n",
       "                #map_0f194e2aaa6e0c52ce4a98779fb6afef {\n",
       "                    position: relative;\n",
       "                    width: 100.0%;\n",
       "                    height: 100.0%;\n",
       "                    left: 0.0%;\n",
       "                    top: 0.0%;\n",
       "                }\n",
       "                .leaflet-container { font-size: 1rem; }\n",
       "            &lt;/style&gt;\n",
       "\n",
       "            &lt;style&gt;html, body {\n",
       "                width: 100%;\n",
       "                height: 100%;\n",
       "                margin: 0;\n",
       "                padding: 0;\n",
       "            }\n",
       "            &lt;/style&gt;\n",
       "\n",
       "            &lt;style&gt;#map {\n",
       "                position:absolute;\n",
       "                top:0;\n",
       "                bottom:0;\n",
       "                right:0;\n",
       "                left:0;\n",
       "                }\n",
       "            &lt;/style&gt;\n",
       "\n",
       "            &lt;script&gt;\n",
       "                L_NO_TOUCH = false;\n",
       "                L_DISABLE_3D = false;\n",
       "            &lt;/script&gt;\n",
       "\n",
       "        \n",
       "&lt;/head&gt;\n",
       "&lt;body&gt;\n",
       "    \n",
       "    \n",
       "        &lt;div style=&quot;position: fixed; \n",
       "                    bottom: 50px; left: 50px; width: 150px; height: 120px; \n",
       "                    background-color: white; border:2px solid grey; z-index:9999; \n",
       "                    font-size:14px; padding: 10px;&quot;&gt;\n",
       "        &lt;h4&gt;Hotspot Risk&lt;/h4&gt;\n",
       "        &lt;p&gt;&lt;i class=&quot;fa fa-circle&quot; style=&quot;color:green&quot;&gt;&lt;/i&gt; Very Low (0-20%)&lt;/p&gt;\n",
       "        &lt;p&gt;&lt;i class=&quot;fa fa-circle&quot; style=&quot;color:yellow&quot;&gt;&lt;/i&gt; Low (20-40%)&lt;/p&gt;\n",
       "        &lt;p&gt;&lt;i class=&quot;fa fa-circle&quot; style=&quot;color:orange&quot;&gt;&lt;/i&gt; Moderate (40-60%)&lt;/p&gt;\n",
       "        &lt;p&gt;&lt;i class=&quot;fa fa-circle&quot; style=&quot;color:red&quot;&gt;&lt;/i&gt; High (60-80%)&lt;/p&gt;\n",
       "        &lt;p&gt;&lt;i class=&quot;fa fa-circle&quot; style=&quot;color:darkred&quot;&gt;&lt;/i&gt; Very High (80%+)&lt;/p&gt;\n",
       "        &lt;/div&gt;\n",
       "        \n",
       "    \n",
       "            &lt;div class=&quot;folium-map&quot; id=&quot;map_0f194e2aaa6e0c52ce4a98779fb6afef&quot; &gt;&lt;/div&gt;\n",
       "        \n",
       "&lt;/body&gt;\n",
       "&lt;script&gt;\n",
       "    \n",
       "    \n",
       "            var map_0f194e2aaa6e0c52ce4a98779fb6afef = L.map(\n",
       "                &quot;map_0f194e2aaa6e0c52ce4a98779fb6afef&quot;,\n",
       "                {\n",
       "                    center: [20.0, 0.0],\n",
       "                    crs: L.CRS.EPSG3857,\n",
       "                    ...{\n",
       "  &quot;zoom&quot;: 3,\n",
       "  &quot;zoomControl&quot;: true,\n",
       "  &quot;preferCanvas&quot;: false,\n",
       "}\n",
       "\n",
       "                }\n",
       "            );\n",
       "\n",
       "            \n",
       "\n",
       "        \n",
       "    \n",
       "            var tile_layer_ca775de16f76261e5b25d419a49281d8 = L.tileLayer(\n",
       "                &quot;https://tile.openstreetmap.org/{z}/{x}/{y}.png&quot;,\n",
       "                {\n",
       "  &quot;minZoom&quot;: 0,\n",
       "  &quot;maxZoom&quot;: 19,\n",
       "  &quot;maxNativeZoom&quot;: 19,\n",
       "  &quot;noWrap&quot;: false,\n",
       "  &quot;attribution&quot;: &quot;\\u0026copy; \\u003ca href=\\&quot;https://www.openstreetmap.org/copyright\\&quot;\\u003eOpenStreetMap\\u003c/a\\u003e contributors&quot;,\n",
       "  &quot;subdomains&quot;: &quot;abc&quot;,\n",
       "  &quot;detectRetina&quot;: false,\n",
       "  &quot;tms&quot;: false,\n",
       "  &quot;opacity&quot;: 1,\n",
       "}\n",
       "\n",
       "            );\n",
       "        \n",
       "    \n",
       "            tile_layer_ca775de16f76261e5b25d419a49281d8.addTo(map_0f194e2aaa6e0c52ce4a98779fb6afef);\n",
       "        \n",
       "    \n",
       "            var tile_layer_656256e01d7a66835d8710aa9b779949 = L.tileLayer(\n",
       "                &quot;https://{s}.basemaps.cartocdn.com/light_all/{z}/{x}/{y}{r}.png&quot;,\n",
       "                {\n",
       "  &quot;minZoom&quot;: 0,\n",
       "  &quot;maxZoom&quot;: 20,\n",
       "  &quot;maxNativeZoom&quot;: 20,\n",
       "  &quot;noWrap&quot;: false,\n",
       "  &quot;attribution&quot;: &quot;\\u0026copy; \\u003ca href=\\&quot;https://www.openstreetmap.org/copyright\\&quot;\\u003eOpenStreetMap\\u003c/a\\u003e contributors \\u0026copy; \\u003ca href=\\&quot;https://carto.com/attributions\\&quot;\\u003eCARTO\\u003c/a\\u003e&quot;,\n",
       "  &quot;subdomains&quot;: &quot;abcd&quot;,\n",
       "  &quot;detectRetina&quot;: false,\n",
       "  &quot;tms&quot;: false,\n",
       "  &quot;opacity&quot;: 1,\n",
       "}\n",
       "\n",
       "            );\n",
       "        \n",
       "    \n",
       "            tile_layer_656256e01d7a66835d8710aa9b779949.addTo(map_0f194e2aaa6e0c52ce4a98779fb6afef);\n",
       "        \n",
       "    \n",
       "            var tile_layer_bfc7320f3310f79186ac899e80d59abf = L.tileLayer(\n",
       "                &quot;https://{s}.basemaps.cartocdn.com/dark_all/{z}/{x}/{y}{r}.png&quot;,\n",
       "                {\n",
       "  &quot;minZoom&quot;: 0,\n",
       "  &quot;maxZoom&quot;: 20,\n",
       "  &quot;maxNativeZoom&quot;: 20,\n",
       "  &quot;noWrap&quot;: false,\n",
       "  &quot;attribution&quot;: &quot;\\u0026copy; \\u003ca href=\\&quot;https://www.openstreetmap.org/copyright\\&quot;\\u003eOpenStreetMap\\u003c/a\\u003e contributors \\u0026copy; \\u003ca href=\\&quot;https://carto.com/attributions\\&quot;\\u003eCARTO\\u003c/a\\u003e&quot;,\n",
       "  &quot;subdomains&quot;: &quot;abcd&quot;,\n",
       "  &quot;detectRetina&quot;: false,\n",
       "  &quot;tms&quot;: false,\n",
       "  &quot;opacity&quot;: 1,\n",
       "}\n",
       "\n",
       "            );\n",
       "        \n",
       "    \n",
       "            tile_layer_bfc7320f3310f79186ac899e80d59abf.addTo(map_0f194e2aaa6e0c52ce4a98779fb6afef);\n",
       "        \n",
       "    \n",
       "            var circle_marker_64ffcb99b7d347d6ded8097fd908e4fb = L.circleMarker(\n",
       "                [-15.055185738316501, 51.1313926155436],\n",
       "                {&quot;bubblingMouseEvents&quot;: true, &quot;color&quot;: &quot;black&quot;, &quot;dashArray&quot;: null, &quot;dashOffset&quot;: null, &quot;fill&quot;: true, &quot;fillColor&quot;: &quot;yellow&quot;, &quot;fillOpacity&quot;: 0.7, &quot;fillRule&quot;: &quot;evenodd&quot;, &quot;lineCap&quot;: &quot;round&quot;, &quot;lineJoin&quot;: &quot;round&quot;, &quot;opacity&quot;: 1.0, &quot;radius&quot;: 3.4582182107314936, &quot;stroke&quot;: true, &quot;weight&quot;: 1}\n",
       "            ).addTo(map_0f194e2aaa6e0c52ce4a98779fb6afef);\n",
       "        \n",
       "    \n",
       "        var popup_e8f9e58c77ef218a3c2d8db9ef84d534 = L.popup({\n",
       "  &quot;maxWidth&quot;: 250,\n",
       "});\n",
       "\n",
       "        \n",
       "            \n",
       "                var html_8128176a77bf00a5617c51615c87f83c = $(`&lt;div id=&quot;html_8128176a77bf00a5617c51615c87f83c&quot; style=&quot;width: 100.0%; height: 100.0%;&quot;&gt;             &lt;div style=&quot;width: 200px;&quot;&gt;                 &lt;h4&gt;Marine Monitoring Point&lt;/h4&gt;                 &lt;p&gt;&lt;strong&gt;Coordinates:&lt;/strong&gt; -15.055, 51.131&lt;/p&gt;                 &lt;p&gt;&lt;strong&gt;Hotspot Probability:&lt;/strong&gt; 23.1%&lt;/p&gt;                 &lt;p&gt;&lt;strong&gt;Concentration:&lt;/strong&gt; 2.57 particles/m³&lt;/p&gt;                 &lt;p&gt;&lt;strong&gt;Water Temp:&lt;/strong&gt; 28.9°C&lt;/p&gt;                 &lt;p&gt;&lt;strong&gt;Current Speed:&lt;/strong&gt; 19.5 m/s&lt;/p&gt;                 &lt;p&gt;&lt;strong&gt;Date:&lt;/strong&gt; 2025-05-24&lt;/p&gt;             &lt;/div&gt;             &lt;/div&gt;`)[0];\n",
       "                popup_e8f9e58c77ef218a3c2d8db9ef84d534.setContent(html_8128176a77bf00a5617c51615c87f83c);\n",
       "            \n",
       "        \n",
       "\n",
       "        circle_marker_64ffcb99b7d347d6ded8097fd908e4fb.bindPopup(popup_e8f9e58c77ef218a3c2d8db9ef84d534)\n",
       "        ;\n",
       "\n",
       "        \n",
       "    \n",
       "    \n",
       "            circle_marker_64ffcb99b7d347d6ded8097fd908e4fb.bindTooltip(\n",
       "                `&lt;div&gt;\n",
       "                     Hotspot Risk: 23.1%\n",
       "                 &lt;/div&gt;`,\n",
       "                {\n",
       "  &quot;sticky&quot;: true,\n",
       "}\n",
       "            );\n",
       "        \n",
       "    \n",
       "            var circle_marker_0e9370938e061efddd5942767cf59ce0 = L.circleMarker(\n",
       "                [54.08571676918994, -149.70961260178242],\n",
       "                {&quot;bubblingMouseEvents&quot;: true, &quot;color&quot;: &quot;black&quot;, &quot;dashArray&quot;: null, &quot;dashOffset&quot;: null, &quot;fill&quot;: true, &quot;fillColor&quot;: &quot;green&quot;, &quot;fillOpacity&quot;: 0.7, &quot;fillRule&quot;: &quot;evenodd&quot;, &quot;lineCap&quot;: &quot;round&quot;, &quot;lineJoin&quot;: &quot;round&quot;, &quot;opacity&quot;: 1.0, &quot;radius&quot;: 3, &quot;stroke&quot;: true, &quot;weight&quot;: 1}\n",
       "            ).addTo(map_0f194e2aaa6e0c52ce4a98779fb6afef);\n",
       "        \n",
       "    \n",
       "        var popup_48fcc28edf145ade7562b9d682d81891 = L.popup({\n",
       "  &quot;maxWidth&quot;: 250,\n",
       "});\n",
       "\n",
       "        \n",
       "            \n",
       "                var html_011dfef2082fab69c4b505b33dda57c6 = $(`&lt;div id=&quot;html_011dfef2082fab69c4b505b33dda57c6&quot; style=&quot;width: 100.0%; height: 100.0%;&quot;&gt;             &lt;div style=&quot;width: 200px;&quot;&gt;                 &lt;h4&gt;Marine Monitoring Point&lt;/h4&gt;                 &lt;p&gt;&lt;strong&gt;Coordinates:&lt;/strong&gt; 54.086, -149.710&lt;/p&gt;                 &lt;p&gt;&lt;strong&gt;Hotspot Probability:&lt;/strong&gt; 10.2%&lt;/p&gt;                 &lt;p&gt;&lt;strong&gt;Concentration:&lt;/strong&gt; 3.56 particles/m³&lt;/p&gt;                 &lt;p&gt;&lt;strong&gt;Water Temp:&lt;/strong&gt; 16.3°C&lt;/p&gt;                 &lt;p&gt;&lt;strong&gt;Current Speed:&lt;/strong&gt; 4.3 m/s&lt;/p&gt;                 &lt;p&gt;&lt;strong&gt;Date:&lt;/strong&gt; 2024-12-30&lt;/p&gt;             &lt;/div&gt;             &lt;/div&gt;`)[0];\n",
       "                popup_48fcc28edf145ade7562b9d682d81891.setContent(html_011dfef2082fab69c4b505b33dda57c6);\n",
       "            \n",
       "        \n",
       "\n",
       "        circle_marker_0e9370938e061efddd5942767cf59ce0.bindPopup(popup_48fcc28edf145ade7562b9d682d81891)\n",
       "        ;\n",
       "\n",
       "        \n",
       "    \n",
       "    \n",
       "            circle_marker_0e9370938e061efddd5942767cf59ce0.bindTooltip(\n",
       "                `&lt;div&gt;\n",
       "                     Hotspot Risk: 10.2%\n",
       "                 &lt;/div&gt;`,\n",
       "                {\n",
       "  &quot;sticky&quot;: true,\n",
       "}\n",
       "            );\n",
       "        \n",
       "    \n",
       "            var circle_marker_5c1414dd5bd8c1bc2c4a1a6515595a7d = L.circleMarker(\n",
       "                [27.839273017368612, -121.81366292593904],\n",
       "                {&quot;bubblingMouseEvents&quot;: true, &quot;color&quot;: &quot;black&quot;, &quot;dashArray&quot;: null, &quot;dashOffset&quot;: null, &quot;fill&quot;: true, &quot;fillColor&quot;: &quot;red&quot;, &quot;fillOpacity&quot;: 0.7, &quot;fillRule&quot;: &quot;evenodd&quot;, &quot;lineCap&quot;: &quot;round&quot;, &quot;lineJoin&quot;: &quot;round&quot;, &quot;opacity&quot;: 1.0, &quot;radius&quot;: 11.522929456942444, &quot;stroke&quot;: true, &quot;weight&quot;: 1}\n",
       "            ).addTo(map_0f194e2aaa6e0c52ce4a98779fb6afef);\n",
       "        \n",
       "    \n",
       "        var popup_13029122985f73cb22f6671d9bef9889 = L.popup({\n",
       "  &quot;maxWidth&quot;: 250,\n",
       "});\n",
       "\n",
       "        \n",
       "            \n",
       "                var html_cfc84883a798da0f7b5da9a637bdb207 = $(`&lt;div id=&quot;html_cfc84883a798da0f7b5da9a637bdb207&quot; style=&quot;width: 100.0%; height: 100.0%;&quot;&gt;             &lt;div style=&quot;width: 200px;&quot;&gt;                 &lt;h4&gt;Marine Monitoring Point&lt;/h4&gt;                 &lt;p&gt;&lt;strong&gt;Coordinates:&lt;/strong&gt; 27.839, -121.814&lt;/p&gt;                 &lt;p&gt;&lt;strong&gt;Hotspot Probability:&lt;/strong&gt; 76.8%&lt;/p&gt;                 &lt;p&gt;&lt;strong&gt;Concentration:&lt;/strong&gt; 1.52 particles/m³&lt;/p&gt;                 &lt;p&gt;&lt;strong&gt;Water Temp:&lt;/strong&gt; 14.9°C&lt;/p&gt;                 &lt;p&gt;&lt;strong&gt;Current Speed:&lt;/strong&gt; 3.1 m/s&lt;/p&gt;                 &lt;p&gt;&lt;strong&gt;Date:&lt;/strong&gt; 2024-10-20&lt;/p&gt;             &lt;/div&gt;             &lt;/div&gt;`)[0];\n",
       "                popup_13029122985f73cb22f6671d9bef9889.setContent(html_cfc84883a798da0f7b5da9a637bdb207);\n",
       "            \n",
       "        \n",
       "\n",
       "        circle_marker_5c1414dd5bd8c1bc2c4a1a6515595a7d.bindPopup(popup_13029122985f73cb22f6671d9bef9889)\n",
       "        ;\n",
       "\n",
       "        \n",
       "    \n",
       "    \n",
       "            circle_marker_5c1414dd5bd8c1bc2c4a1a6515595a7d.bindTooltip(\n",
       "                `&lt;div&gt;\n",
       "                     Hotspot Risk: 76.8%\n",
       "                 &lt;/div&gt;`,\n",
       "                {\n",
       "  &quot;sticky&quot;: true,\n",
       "}\n",
       "            );\n",
       "        \n",
       "    \n",
       "            var circle_marker_0bf7ec2a178dcc07e67312c274e2bf9b = L.circleMarker(\n",
       "                [11.839018103644392, 143.47950786974852],\n",
       "                {&quot;bubblingMouseEvents&quot;: true, &quot;color&quot;: &quot;black&quot;, &quot;dashArray&quot;: null, &quot;dashOffset&quot;: null, &quot;fill&quot;: true, &quot;fillColor&quot;: &quot;green&quot;, &quot;fillOpacity&quot;: 0.7, &quot;fillRule&quot;: &quot;evenodd&quot;, &quot;lineCap&quot;: &quot;round&quot;, &quot;lineJoin&quot;: &quot;round&quot;, &quot;opacity&quot;: 1.0, &quot;radius&quot;: 3, &quot;stroke&quot;: true, &quot;weight&quot;: 1}\n",
       "            ).addTo(map_0f194e2aaa6e0c52ce4a98779fb6afef);\n",
       "        \n",
       "    \n",
       "        var popup_58ae10166cc3755d6ffe91c583f90452 = L.popup({\n",
       "  &quot;maxWidth&quot;: 250,\n",
       "});\n",
       "\n",
       "        \n",
       "            \n",
       "                var html_8f3201ae458ae1d0440eee2c8cccae88 = $(`&lt;div id=&quot;html_8f3201ae458ae1d0440eee2c8cccae88&quot; style=&quot;width: 100.0%; height: 100.0%;&quot;&gt;             &lt;div style=&quot;width: 200px;&quot;&gt;                 &lt;h4&gt;Marine Monitoring Point&lt;/h4&gt;                 &lt;p&gt;&lt;strong&gt;Coordinates:&lt;/strong&gt; 11.839, 143.480&lt;/p&gt;                 &lt;p&gt;&lt;strong&gt;Hotspot Probability:&lt;/strong&gt; 6.9%&lt;/p&gt;                 &lt;p&gt;&lt;strong&gt;Concentration:&lt;/strong&gt; 30.43 particles/m³&lt;/p&gt;                 &lt;p&gt;&lt;strong&gt;Water Temp:&lt;/strong&gt; 13.9°C&lt;/p&gt;                 &lt;p&gt;&lt;strong&gt;Current Speed:&lt;/strong&gt; 2.5 m/s&lt;/p&gt;                 &lt;p&gt;&lt;strong&gt;Date:&lt;/strong&gt; 2025-09-16&lt;/p&gt;             &lt;/div&gt;             &lt;/div&gt;`)[0];\n",
       "                popup_58ae10166cc3755d6ffe91c583f90452.setContent(html_8f3201ae458ae1d0440eee2c8cccae88);\n",
       "            \n",
       "        \n",
       "\n",
       "        circle_marker_0bf7ec2a178dcc07e67312c274e2bf9b.bindPopup(popup_58ae10166cc3755d6ffe91c583f90452)\n",
       "        ;\n",
       "\n",
       "        \n",
       "    \n",
       "    \n",
       "            circle_marker_0bf7ec2a178dcc07e67312c274e2bf9b.bindTooltip(\n",
       "                `&lt;div&gt;\n",
       "                     Hotspot Risk: 6.9%\n",
       "                 &lt;/div&gt;`,\n",
       "                {\n",
       "  &quot;sticky&quot;: true,\n",
       "}\n",
       "            );\n",
       "        \n",
       "    \n",
       "            var circle_marker_81ea44e2543d41986ef56a65964f5f20 = L.circleMarker(\n",
       "                [-41.27776314690762, 38.314461477452376],\n",
       "                {&quot;bubblingMouseEvents&quot;: true, &quot;color&quot;: &quot;black&quot;, &quot;dashArray&quot;: null, &quot;dashOffset&quot;: null, &quot;fill&quot;: true, &quot;fillColor&quot;: &quot;green&quot;, &quot;fillOpacity&quot;: 0.7, &quot;fillRule&quot;: &quot;evenodd&quot;, &quot;lineCap&quot;: &quot;round&quot;, &quot;lineJoin&quot;: &quot;round&quot;, &quot;opacity&quot;: 1.0, &quot;radius&quot;: 3, &quot;stroke&quot;: true, &quot;weight&quot;: 1}\n",
       "            ).addTo(map_0f194e2aaa6e0c52ce4a98779fb6afef);\n",
       "        \n",
       "    \n",
       "        var popup_d3792afd58e2f833715aaa536e8cc62c = L.popup({\n",
       "  &quot;maxWidth&quot;: 250,\n",
       "});\n",
       "\n",
       "        \n",
       "            \n",
       "                var html_da025e871bce187268f7566639f3c29b = $(`&lt;div id=&quot;html_da025e871bce187268f7566639f3c29b&quot; style=&quot;width: 100.0%; height: 100.0%;&quot;&gt;             &lt;div style=&quot;width: 200px;&quot;&gt;                 &lt;h4&gt;Marine Monitoring Point&lt;/h4&gt;                 &lt;p&gt;&lt;strong&gt;Coordinates:&lt;/strong&gt; -41.278, 38.314&lt;/p&gt;                 &lt;p&gt;&lt;strong&gt;Hotspot Probability:&lt;/strong&gt; 13.2%&lt;/p&gt;                 &lt;p&gt;&lt;strong&gt;Concentration:&lt;/strong&gt; 3.33 particles/m³&lt;/p&gt;                 &lt;p&gt;&lt;strong&gt;Water Temp:&lt;/strong&gt; 21.3°C&lt;/p&gt;                 &lt;p&gt;&lt;strong&gt;Current Speed:&lt;/strong&gt; 5.1 m/s&lt;/p&gt;                 &lt;p&gt;&lt;strong&gt;Date:&lt;/strong&gt; 2025-02-27&lt;/p&gt;             &lt;/div&gt;             &lt;/div&gt;`)[0];\n",
       "                popup_d3792afd58e2f833715aaa536e8cc62c.setContent(html_da025e871bce187268f7566639f3c29b);\n",
       "            \n",
       "        \n",
       "\n",
       "        circle_marker_81ea44e2543d41986ef56a65964f5f20.bindPopup(popup_d3792afd58e2f833715aaa536e8cc62c)\n",
       "        ;\n",
       "\n",
       "        \n",
       "    \n",
       "    \n",
       "            circle_marker_81ea44e2543d41986ef56a65964f5f20.bindTooltip(\n",
       "                `&lt;div&gt;\n",
       "                     Hotspot Risk: 13.2%\n",
       "                 &lt;/div&gt;`,\n",
       "                {\n",
       "  &quot;sticky&quot;: true,\n",
       "}\n",
       "            );\n",
       "        \n",
       "    \n",
       "            var circle_marker_41ee9aa0192001f342df6a3e828f90a7 = L.circleMarker(\n",
       "                [-41.28065755965568, -176.68906141801332],\n",
       "                {&quot;bubblingMouseEvents&quot;: true, &quot;color&quot;: &quot;black&quot;, &quot;dashArray&quot;: null, &quot;dashOffset&quot;: null, &quot;fill&quot;: true, &quot;fillColor&quot;: &quot;green&quot;, &quot;fillOpacity&quot;: 0.7, &quot;fillRule&quot;: &quot;evenodd&quot;, &quot;lineCap&quot;: &quot;round&quot;, &quot;lineJoin&quot;: &quot;round&quot;, &quot;opacity&quot;: 1.0, &quot;radius&quot;: 3, &quot;stroke&quot;: true, &quot;weight&quot;: 1}\n",
       "            ).addTo(map_0f194e2aaa6e0c52ce4a98779fb6afef);\n",
       "        \n",
       "    \n",
       "        var popup_f1b20b24ab5e1d079162224fda1abe9a = L.popup({\n",
       "  &quot;maxWidth&quot;: 250,\n",
       "});\n",
       "\n",
       "        \n",
       "            \n",
       "                var html_442a39633c94aca711db08e4b2a4f842 = $(`&lt;div id=&quot;html_442a39633c94aca711db08e4b2a4f842&quot; style=&quot;width: 100.0%; height: 100.0%;&quot;&gt;             &lt;div style=&quot;width: 200px;&quot;&gt;                 &lt;h4&gt;Marine Monitoring Point&lt;/h4&gt;                 &lt;p&gt;&lt;strong&gt;Coordinates:&lt;/strong&gt; -41.281, -176.689&lt;/p&gt;                 &lt;p&gt;&lt;strong&gt;Hotspot Probability:&lt;/strong&gt; 8.7%&lt;/p&gt;                 &lt;p&gt;&lt;strong&gt;Concentration:&lt;/strong&gt; 14.31 particles/m³&lt;/p&gt;                 &lt;p&gt;&lt;strong&gt;Water Temp:&lt;/strong&gt; 11.4°C&lt;/p&gt;                 &lt;p&gt;&lt;strong&gt;Current Speed:&lt;/strong&gt; 7.2 m/s&lt;/p&gt;                 &lt;p&gt;&lt;strong&gt;Date:&lt;/strong&gt; 2025-02-11&lt;/p&gt;             &lt;/div&gt;             &lt;/div&gt;`)[0];\n",
       "                popup_f1b20b24ab5e1d079162224fda1abe9a.setContent(html_442a39633c94aca711db08e4b2a4f842);\n",
       "            \n",
       "        \n",
       "\n",
       "        circle_marker_41ee9aa0192001f342df6a3e828f90a7.bindPopup(popup_f1b20b24ab5e1d079162224fda1abe9a)\n",
       "        ;\n",
       "\n",
       "        \n",
       "    \n",
       "    \n",
       "            circle_marker_41ee9aa0192001f342df6a3e828f90a7.bindTooltip(\n",
       "                `&lt;div&gt;\n",
       "                     Hotspot Risk: 8.7%\n",
       "                 &lt;/div&gt;`,\n",
       "                {\n",
       "  &quot;sticky&quot;: true,\n",
       "}\n",
       "            );\n",
       "        \n",
       "    \n",
       "            var circle_marker_37fa6c63d033e7a46583ab62fb378949 = L.circleMarker(\n",
       "                [-53.029966539816066, -143.47024456822845],\n",
       "                {&quot;bubblingMouseEvents&quot;: true, &quot;color&quot;: &quot;black&quot;, &quot;dashArray&quot;: null, &quot;dashOffset&quot;: null, &quot;fill&quot;: true, &quot;fillColor&quot;: &quot;green&quot;, &quot;fillOpacity&quot;: 0.7, &quot;fillRule&quot;: &quot;evenodd&quot;, &quot;lineCap&quot;: &quot;round&quot;, &quot;lineJoin&quot;: &quot;round&quot;, &quot;opacity&quot;: 1.0, &quot;radius&quot;: 3, &quot;stroke&quot;: true, &quot;weight&quot;: 1}\n",
       "            ).addTo(map_0f194e2aaa6e0c52ce4a98779fb6afef);\n",
       "        \n",
       "    \n",
       "        var popup_9a12452dfc3298c5809f2824df207b32 = L.popup({\n",
       "  &quot;maxWidth&quot;: 250,\n",
       "});\n",
       "\n",
       "        \n",
       "            \n",
       "                var html_2bba63cea0c6028f4d1f94d26385e59e = $(`&lt;div id=&quot;html_2bba63cea0c6028f4d1f94d26385e59e&quot; style=&quot;width: 100.0%; height: 100.0%;&quot;&gt;             &lt;div style=&quot;width: 200px;&quot;&gt;                 &lt;h4&gt;Marine Monitoring Point&lt;/h4&gt;                 &lt;p&gt;&lt;strong&gt;Coordinates:&lt;/strong&gt; -53.030, -143.470&lt;/p&gt;                 &lt;p&gt;&lt;strong&gt;Hotspot Probability:&lt;/strong&gt; 11.0%&lt;/p&gt;                 &lt;p&gt;&lt;strong&gt;Concentration:&lt;/strong&gt; 11.89 particles/m³&lt;/p&gt;                 &lt;p&gt;&lt;strong&gt;Water Temp:&lt;/strong&gt; 20.3°C&lt;/p&gt;                 &lt;p&gt;&lt;strong&gt;Current Speed:&lt;/strong&gt; 1.0 m/s&lt;/p&gt;                 &lt;p&gt;&lt;strong&gt;Date:&lt;/strong&gt; 2025-01-18&lt;/p&gt;             &lt;/div&gt;             &lt;/div&gt;`)[0];\n",
       "                popup_9a12452dfc3298c5809f2824df207b32.setContent(html_2bba63cea0c6028f4d1f94d26385e59e);\n",
       "            \n",
       "        \n",
       "\n",
       "        circle_marker_37fa6c63d033e7a46583ab62fb378949.bindPopup(popup_9a12452dfc3298c5809f2824df207b32)\n",
       "        ;\n",
       "\n",
       "        \n",
       "    \n",
       "    \n",
       "            circle_marker_37fa6c63d033e7a46583ab62fb378949.bindTooltip(\n",
       "                `&lt;div&gt;\n",
       "                     Hotspot Risk: 11.0%\n",
       "                 &lt;/div&gt;`,\n",
       "                {\n",
       "  &quot;sticky&quot;: true,\n",
       "}\n",
       "            );\n",
       "        \n",
       "    \n",
       "            var circle_marker_36facae9796577f82092ec65278d2ca7 = L.circleMarker(\n",
       "                [43.94113749299222, 58.86063687890009],\n",
       "                {&quot;bubblingMouseEvents&quot;: true, &quot;color&quot;: &quot;black&quot;, &quot;dashArray&quot;: null, &quot;dashOffset&quot;: null, &quot;fill&quot;: true, &quot;fillColor&quot;: &quot;green&quot;, &quot;fillOpacity&quot;: 0.7, &quot;fillRule&quot;: &quot;evenodd&quot;, &quot;lineCap&quot;: &quot;round&quot;, &quot;lineJoin&quot;: &quot;round&quot;, &quot;opacity&quot;: 1.0, &quot;radius&quot;: 3, &quot;stroke&quot;: true, &quot;weight&quot;: 1}\n",
       "            ).addTo(map_0f194e2aaa6e0c52ce4a98779fb6afef);\n",
       "        \n",
       "    \n",
       "        var popup_6b1b750ff8fd6673a65c903b3ed8123b = L.popup({\n",
       "  &quot;maxWidth&quot;: 250,\n",
       "});\n",
       "\n",
       "        \n",
       "            \n",
       "                var html_023d53a161ad2114bbf16402d6a28402 = $(`&lt;div id=&quot;html_023d53a161ad2114bbf16402d6a28402&quot; style=&quot;width: 100.0%; height: 100.0%;&quot;&gt;             &lt;div style=&quot;width: 200px;&quot;&gt;                 &lt;h4&gt;Marine Monitoring Point&lt;/h4&gt;                 &lt;p&gt;&lt;strong&gt;Coordinates:&lt;/strong&gt; 43.941, 58.861&lt;/p&gt;                 &lt;p&gt;&lt;strong&gt;Hotspot Probability:&lt;/strong&gt; 16.0%&lt;/p&gt;                 &lt;p&gt;&lt;strong&gt;Concentration:&lt;/strong&gt; 27.63 particles/m³&lt;/p&gt;                 &lt;p&gt;&lt;strong&gt;Water Temp:&lt;/strong&gt; 27.9°C&lt;/p&gt;                 &lt;p&gt;&lt;strong&gt;Current Speed:&lt;/strong&gt; 0.7 m/s&lt;/p&gt;                 &lt;p&gt;&lt;strong&gt;Date:&lt;/strong&gt; 2024-12-17&lt;/p&gt;             &lt;/div&gt;             &lt;/div&gt;`)[0];\n",
       "                popup_6b1b750ff8fd6673a65c903b3ed8123b.setContent(html_023d53a161ad2114bbf16402d6a28402);\n",
       "            \n",
       "        \n",
       "\n",
       "        circle_marker_36facae9796577f82092ec65278d2ca7.bindPopup(popup_6b1b750ff8fd6673a65c903b3ed8123b)\n",
       "        ;\n",
       "\n",
       "        \n",
       "    \n",
       "    \n",
       "            circle_marker_36facae9796577f82092ec65278d2ca7.bindTooltip(\n",
       "                `&lt;div&gt;\n",
       "                     Hotspot Risk: 16.0%\n",
       "                 &lt;/div&gt;`,\n",
       "                {\n",
       "  &quot;sticky&quot;: true,\n",
       "}\n",
       "            );\n",
       "        \n",
       "    \n",
       "            var circle_marker_bfb79321f76ace67701acb7d90623a9b = L.circleMarker(\n",
       "                [12.133801409185057, -178.17782981536126],\n",
       "                {&quot;bubblingMouseEvents&quot;: true, &quot;color&quot;: &quot;black&quot;, &quot;dashArray&quot;: null, &quot;dashOffset&quot;: null, &quot;fill&quot;: true, &quot;fillColor&quot;: &quot;green&quot;, &quot;fillOpacity&quot;: 0.7, &quot;fillRule&quot;: &quot;evenodd&quot;, &quot;lineCap&quot;: &quot;round&quot;, &quot;lineJoin&quot;: &quot;round&quot;, &quot;opacity&quot;: 1.0, &quot;radius&quot;: 3, &quot;stroke&quot;: true, &quot;weight&quot;: 1}\n",
       "            ).addTo(map_0f194e2aaa6e0c52ce4a98779fb6afef);\n",
       "        \n",
       "    \n",
       "        var popup_e993a906730d5455f74f18a83da955e9 = L.popup({\n",
       "  &quot;maxWidth&quot;: 250,\n",
       "});\n",
       "\n",
       "        \n",
       "            \n",
       "                var html_b9d6393b390717945c7b9c9bd404dfc4 = $(`&lt;div id=&quot;html_b9d6393b390717945c7b9c9bd404dfc4&quot; style=&quot;width: 100.0%; height: 100.0%;&quot;&gt;             &lt;div style=&quot;width: 200px;&quot;&gt;                 &lt;h4&gt;Marine Monitoring Point&lt;/h4&gt;                 &lt;p&gt;&lt;strong&gt;Coordinates:&lt;/strong&gt; 12.134, -178.178&lt;/p&gt;                 &lt;p&gt;&lt;strong&gt;Hotspot Probability:&lt;/strong&gt; 1.8%&lt;/p&gt;                 &lt;p&gt;&lt;strong&gt;Concentration:&lt;/strong&gt; 5.99 particles/m³&lt;/p&gt;                 &lt;p&gt;&lt;strong&gt;Water Temp:&lt;/strong&gt; 18.7°C&lt;/p&gt;                 &lt;p&gt;&lt;strong&gt;Current Speed:&lt;/strong&gt; 5.7 m/s&lt;/p&gt;                 &lt;p&gt;&lt;strong&gt;Date:&lt;/strong&gt; 2025-04-28&lt;/p&gt;             &lt;/div&gt;             &lt;/div&gt;`)[0];\n",
       "                popup_e993a906730d5455f74f18a83da955e9.setContent(html_b9d6393b390717945c7b9c9bd404dfc4);\n",
       "            \n",
       "        \n",
       "\n",
       "        circle_marker_bfb79321f76ace67701acb7d90623a9b.bindPopup(popup_e993a906730d5455f74f18a83da955e9)\n",
       "        ;\n",
       "\n",
       "        \n",
       "    \n",
       "    \n",
       "            circle_marker_bfb79321f76ace67701acb7d90623a9b.bindTooltip(\n",
       "                `&lt;div&gt;\n",
       "                     Hotspot Risk: 1.8%\n",
       "                 &lt;/div&gt;`,\n",
       "                {\n",
       "  &quot;sticky&quot;: true,\n",
       "}\n",
       "            );\n",
       "        \n",
       "    \n",
       "            var circle_marker_ec5659a0248fbc9074e33a31bd484093 = L.circleMarker(\n",
       "                [24.96870933552546, -122.10910148970048],\n",
       "                {&quot;bubblingMouseEvents&quot;: true, &quot;color&quot;: &quot;black&quot;, &quot;dashArray&quot;: null, &quot;dashOffset&quot;: null, &quot;fill&quot;: true, &quot;fillColor&quot;: &quot;darkred&quot;, &quot;fillOpacity&quot;: 0.7, &quot;fillRule&quot;: &quot;evenodd&quot;, &quot;lineCap&quot;: &quot;round&quot;, &quot;lineJoin&quot;: &quot;round&quot;, &quot;opacity&quot;: 1.0, &quot;radius&quot;: 13.63858091352819, &quot;stroke&quot;: true, &quot;weight&quot;: 1}\n",
       "            ).addTo(map_0f194e2aaa6e0c52ce4a98779fb6afef);\n",
       "        \n",
       "    \n",
       "        var popup_c007d14b936d8c5fad77c9668e7f0729 = L.popup({\n",
       "  &quot;maxWidth&quot;: 250,\n",
       "});\n",
       "\n",
       "        \n",
       "            \n",
       "                var html_c0344e5a503c8a4f8412f7ea0562427d = $(`&lt;div id=&quot;html_c0344e5a503c8a4f8412f7ea0562427d&quot; style=&quot;width: 100.0%; height: 100.0%;&quot;&gt;             &lt;div style=&quot;width: 200px;&quot;&gt;                 &lt;h4&gt;Marine Monitoring Point&lt;/h4&gt;                 &lt;p&gt;&lt;strong&gt;Coordinates:&lt;/strong&gt; 24.969, -122.109&lt;/p&gt;                 &lt;p&gt;&lt;strong&gt;Hotspot Probability:&lt;/strong&gt; 90.9%&lt;/p&gt;                 &lt;p&gt;&lt;strong&gt;Concentration:&lt;/strong&gt; 2.86 particles/m³&lt;/p&gt;                 &lt;p&gt;&lt;strong&gt;Water Temp:&lt;/strong&gt; 13.0°C&lt;/p&gt;                 &lt;p&gt;&lt;strong&gt;Current Speed:&lt;/strong&gt; 1.8 m/s&lt;/p&gt;                 &lt;p&gt;&lt;strong&gt;Date:&lt;/strong&gt; 2025-09-16&lt;/p&gt;             &lt;/div&gt;             &lt;/div&gt;`)[0];\n",
       "                popup_c007d14b936d8c5fad77c9668e7f0729.setContent(html_c0344e5a503c8a4f8412f7ea0562427d);\n",
       "            \n",
       "        \n",
       "\n",
       "        circle_marker_ec5659a0248fbc9074e33a31bd484093.bindPopup(popup_c007d14b936d8c5fad77c9668e7f0729)\n",
       "        ;\n",
       "\n",
       "        \n",
       "    \n",
       "    \n",
       "            circle_marker_ec5659a0248fbc9074e33a31bd484093.bindTooltip(\n",
       "                `&lt;div&gt;\n",
       "                     Hotspot Risk: 90.9%\n",
       "                 &lt;/div&gt;`,\n",
       "                {\n",
       "  &quot;sticky&quot;: true,\n",
       "}\n",
       "            );\n",
       "        \n",
       "    \n",
       "            var circle_marker_2d2378ce5189ed7494c77e13284bcdd9 = L.circleMarker(\n",
       "                [-57.5298606845037, 17.544164171971005],\n",
       "                {&quot;bubblingMouseEvents&quot;: true, &quot;color&quot;: &quot;black&quot;, &quot;dashArray&quot;: null, &quot;dashOffset&quot;: null, &quot;fill&quot;: true, &quot;fillColor&quot;: &quot;green&quot;, &quot;fillOpacity&quot;: 0.7, &quot;fillRule&quot;: &quot;evenodd&quot;, &quot;lineCap&quot;: &quot;round&quot;, &quot;lineJoin&quot;: &quot;round&quot;, &quot;opacity&quot;: 1.0, &quot;radius&quot;: 3, &quot;stroke&quot;: true, &quot;weight&quot;: 1}\n",
       "            ).addTo(map_0f194e2aaa6e0c52ce4a98779fb6afef);\n",
       "        \n",
       "    \n",
       "        var popup_3ac63670d2c47fa650fa8e9ebe45b257 = L.popup({\n",
       "  &quot;maxWidth&quot;: 250,\n",
       "});\n",
       "\n",
       "        \n",
       "            \n",
       "                var html_e695d6bbd1ae9abe95c59cc9079a95dc = $(`&lt;div id=&quot;html_e695d6bbd1ae9abe95c59cc9079a95dc&quot; style=&quot;width: 100.0%; height: 100.0%;&quot;&gt;             &lt;div style=&quot;width: 200px;&quot;&gt;                 &lt;h4&gt;Marine Monitoring Point&lt;/h4&gt;                 &lt;p&gt;&lt;strong&gt;Coordinates:&lt;/strong&gt; -57.530, 17.544&lt;/p&gt;                 &lt;p&gt;&lt;strong&gt;Hotspot Probability:&lt;/strong&gt; -0.1%&lt;/p&gt;                 &lt;p&gt;&lt;strong&gt;Concentration:&lt;/strong&gt; 1.56 particles/m³&lt;/p&gt;                 &lt;p&gt;&lt;strong&gt;Water Temp:&lt;/strong&gt; 7.4°C&lt;/p&gt;                 &lt;p&gt;&lt;strong&gt;Current Speed:&lt;/strong&gt; 0.9 m/s&lt;/p&gt;                 &lt;p&gt;&lt;strong&gt;Date:&lt;/strong&gt; 2025-05-07&lt;/p&gt;             &lt;/div&gt;             &lt;/div&gt;`)[0];\n",
       "                popup_3ac63670d2c47fa650fa8e9ebe45b257.setContent(html_e695d6bbd1ae9abe95c59cc9079a95dc);\n",
       "            \n",
       "        \n",
       "\n",
       "        circle_marker_2d2378ce5189ed7494c77e13284bcdd9.bindPopup(popup_3ac63670d2c47fa650fa8e9ebe45b257)\n",
       "        ;\n",
       "\n",
       "        \n",
       "    \n",
       "    \n",
       "            circle_marker_2d2378ce5189ed7494c77e13284bcdd9.bindTooltip(\n",
       "                `&lt;div&gt;\n",
       "                     Hotspot Risk: -0.1%\n",
       "                 &lt;/div&gt;`,\n",
       "                {\n",
       "  &quot;sticky&quot;: true,\n",
       "}\n",
       "            );\n",
       "        \n",
       "    \n",
       "            var circle_marker_7f05d08d5b9366815015b1c85b271604 = L.circleMarker(\n",
       "                [56.389182259439316, 69.08227116936958],\n",
       "                {&quot;bubblingMouseEvents&quot;: true, &quot;color&quot;: &quot;black&quot;, &quot;dashArray&quot;: null, &quot;dashOffset&quot;: null, &quot;fill&quot;: true, &quot;fillColor&quot;: &quot;green&quot;, &quot;fillOpacity&quot;: 0.7, &quot;fillRule&quot;: &quot;evenodd&quot;, &quot;lineCap&quot;: &quot;round&quot;, &quot;lineJoin&quot;: &quot;round&quot;, &quot;opacity&quot;: 1.0, &quot;radius&quot;: 3, &quot;stroke&quot;: true, &quot;weight&quot;: 1}\n",
       "            ).addTo(map_0f194e2aaa6e0c52ce4a98779fb6afef);\n",
       "        \n",
       "    \n",
       "        var popup_285dd0608b7ae487b305bdcc4c4c3383 = L.popup({\n",
       "  &quot;maxWidth&quot;: 250,\n",
       "});\n",
       "\n",
       "        \n",
       "            \n",
       "                var html_d8eb0e1091aa76250f2a3f2aa46ab2c0 = $(`&lt;div id=&quot;html_d8eb0e1091aa76250f2a3f2aa46ab2c0&quot; style=&quot;width: 100.0%; height: 100.0%;&quot;&gt;             &lt;div style=&quot;width: 200px;&quot;&gt;                 &lt;h4&gt;Marine Monitoring Point&lt;/h4&gt;                 &lt;p&gt;&lt;strong&gt;Coordinates:&lt;/strong&gt; 56.389, 69.082&lt;/p&gt;                 &lt;p&gt;&lt;strong&gt;Hotspot Probability:&lt;/strong&gt; -2.1%&lt;/p&gt;                 &lt;p&gt;&lt;strong&gt;Concentration:&lt;/strong&gt; 0.46 particles/m³&lt;/p&gt;                 &lt;p&gt;&lt;strong&gt;Water Temp:&lt;/strong&gt; 12.8°C&lt;/p&gt;                 &lt;p&gt;&lt;strong&gt;Current Speed:&lt;/strong&gt; 8.6 m/s&lt;/p&gt;                 &lt;p&gt;&lt;strong&gt;Date:&lt;/strong&gt; 2024-11-11&lt;/p&gt;             &lt;/div&gt;             &lt;/div&gt;`)[0];\n",
       "                popup_285dd0608b7ae487b305bdcc4c4c3383.setContent(html_d8eb0e1091aa76250f2a3f2aa46ab2c0);\n",
       "            \n",
       "        \n",
       "\n",
       "        circle_marker_7f05d08d5b9366815015b1c85b271604.bindPopup(popup_285dd0608b7ae487b305bdcc4c4c3383)\n",
       "        ;\n",
       "\n",
       "        \n",
       "    \n",
       "    \n",
       "            circle_marker_7f05d08d5b9366815015b1c85b271604.bindTooltip(\n",
       "                `&lt;div&gt;\n",
       "                     Hotspot Risk: -2.1%\n",
       "                 &lt;/div&gt;`,\n",
       "                {\n",
       "  &quot;sticky&quot;: true,\n",
       "}\n",
       "            );\n",
       "        \n",
       "    \n",
       "            var circle_marker_ee8485f71aa2024c65dee6f4e122a930 = L.circleMarker(\n",
       "                [39.89311689605061, 54.70605342093619],\n",
       "                {&quot;bubblingMouseEvents&quot;: true, &quot;color&quot;: &quot;black&quot;, &quot;dashArray&quot;: null, &quot;dashOffset&quot;: null, &quot;fill&quot;: true, &quot;fillColor&quot;: &quot;yellow&quot;, &quot;fillOpacity&quot;: 0.7, &quot;fillRule&quot;: &quot;evenodd&quot;, &quot;lineCap&quot;: &quot;round&quot;, &quot;lineJoin&quot;: &quot;round&quot;, &quot;opacity&quot;: 1.0, &quot;radius&quot;: 3.237166310250102, &quot;stroke&quot;: true, &quot;weight&quot;: 1}\n",
       "            ).addTo(map_0f194e2aaa6e0c52ce4a98779fb6afef);\n",
       "        \n",
       "    \n",
       "        var popup_f3d8d73b759b8771bffea02f149594c4 = L.popup({\n",
       "  &quot;maxWidth&quot;: 250,\n",
       "});\n",
       "\n",
       "        \n",
       "            \n",
       "                var html_766e2ad23bd071be4c1c4220fbe0a7a8 = $(`&lt;div id=&quot;html_766e2ad23bd071be4c1c4220fbe0a7a8&quot; style=&quot;width: 100.0%; height: 100.0%;&quot;&gt;             &lt;div style=&quot;width: 200px;&quot;&gt;                 &lt;h4&gt;Marine Monitoring Point&lt;/h4&gt;                 &lt;p&gt;&lt;strong&gt;Coordinates:&lt;/strong&gt; 39.893, 54.706&lt;/p&gt;                 &lt;p&gt;&lt;strong&gt;Hotspot Probability:&lt;/strong&gt; 21.6%&lt;/p&gt;                 &lt;p&gt;&lt;strong&gt;Concentration:&lt;/strong&gt; 8.68 particles/m³&lt;/p&gt;                 &lt;p&gt;&lt;strong&gt;Water Temp:&lt;/strong&gt; 19.5°C&lt;/p&gt;                 &lt;p&gt;&lt;strong&gt;Current Speed:&lt;/strong&gt; 3.1 m/s&lt;/p&gt;                 &lt;p&gt;&lt;strong&gt;Date:&lt;/strong&gt; 2025-04-07&lt;/p&gt;             &lt;/div&gt;             &lt;/div&gt;`)[0];\n",
       "                popup_f3d8d73b759b8771bffea02f149594c4.setContent(html_766e2ad23bd071be4c1c4220fbe0a7a8);\n",
       "            \n",
       "        \n",
       "\n",
       "        circle_marker_ee8485f71aa2024c65dee6f4e122a930.bindPopup(popup_f3d8d73b759b8771bffea02f149594c4)\n",
       "        ;\n",
       "\n",
       "        \n",
       "    \n",
       "    \n",
       "            circle_marker_ee8485f71aa2024c65dee6f4e122a930.bindTooltip(\n",
       "                `&lt;div&gt;\n",
       "                     Hotspot Risk: 21.6%\n",
       "                 &lt;/div&gt;`,\n",
       "                {\n",
       "  &quot;sticky&quot;: true,\n",
       "}\n",
       "            );\n",
       "        \n",
       "    \n",
       "            var circle_marker_30c3f038dc235de7f99ed329f6a6a540 = L.circleMarker(\n",
       "                [-34.51930671860686, -99.26304859419848],\n",
       "                {&quot;bubblingMouseEvents&quot;: true, &quot;color&quot;: &quot;black&quot;, &quot;dashArray&quot;: null, &quot;dashOffset&quot;: null, &quot;fill&quot;: true, &quot;fillColor&quot;: &quot;green&quot;, &quot;fillOpacity&quot;: 0.7, &quot;fillRule&quot;: &quot;evenodd&quot;, &quot;lineCap&quot;: &quot;round&quot;, &quot;lineJoin&quot;: &quot;round&quot;, &quot;opacity&quot;: 1.0, &quot;radius&quot;: 3, &quot;stroke&quot;: true, &quot;weight&quot;: 1}\n",
       "            ).addTo(map_0f194e2aaa6e0c52ce4a98779fb6afef);\n",
       "        \n",
       "    \n",
       "        var popup_69b4c45520024f723a09694daf284755 = L.popup({\n",
       "  &quot;maxWidth&quot;: 250,\n",
       "});\n",
       "\n",
       "        \n",
       "            \n",
       "                var html_02bb0c93edc8d9fe5c2af64f8ec72d20 = $(`&lt;div id=&quot;html_02bb0c93edc8d9fe5c2af64f8ec72d20&quot; style=&quot;width: 100.0%; height: 100.0%;&quot;&gt;             &lt;div style=&quot;width: 200px;&quot;&gt;                 &lt;h4&gt;Marine Monitoring Point&lt;/h4&gt;                 &lt;p&gt;&lt;strong&gt;Coordinates:&lt;/strong&gt; -34.519, -99.263&lt;/p&gt;                 &lt;p&gt;&lt;strong&gt;Hotspot Probability:&lt;/strong&gt; 17.9%&lt;/p&gt;                 &lt;p&gt;&lt;strong&gt;Concentration:&lt;/strong&gt; 16.05 particles/m³&lt;/p&gt;                 &lt;p&gt;&lt;strong&gt;Water Temp:&lt;/strong&gt; 2.7°C&lt;/p&gt;                 &lt;p&gt;&lt;strong&gt;Current Speed:&lt;/strong&gt; 1.8 m/s&lt;/p&gt;                 &lt;p&gt;&lt;strong&gt;Date:&lt;/strong&gt; 2025-08-12&lt;/p&gt;             &lt;/div&gt;             &lt;/div&gt;`)[0];\n",
       "                popup_69b4c45520024f723a09694daf284755.setContent(html_02bb0c93edc8d9fe5c2af64f8ec72d20);\n",
       "            \n",
       "        \n",
       "\n",
       "        circle_marker_30c3f038dc235de7f99ed329f6a6a540.bindPopup(popup_69b4c45520024f723a09694daf284755)\n",
       "        ;\n",
       "\n",
       "        \n",
       "    \n",
       "    \n",
       "            circle_marker_30c3f038dc235de7f99ed329f6a6a540.bindTooltip(\n",
       "                `&lt;div&gt;\n",
       "                     Hotspot Risk: 17.9%\n",
       "                 &lt;/div&gt;`,\n",
       "                {\n",
       "  &quot;sticky&quot;: true,\n",
       "}\n",
       "            );\n",
       "        \n",
       "    \n",
       "            var circle_marker_b09a9fb620100fad9ebb910580aa1fb6 = L.circleMarker(\n",
       "                [-38.18100393514793, 76.3845196851129],\n",
       "                {&quot;bubblingMouseEvents&quot;: true, &quot;color&quot;: &quot;black&quot;, &quot;dashArray&quot;: null, &quot;dashOffset&quot;: null, &quot;fill&quot;: true, &quot;fillColor&quot;: &quot;green&quot;, &quot;fillOpacity&quot;: 0.7, &quot;fillRule&quot;: &quot;evenodd&quot;, &quot;lineCap&quot;: &quot;round&quot;, &quot;lineJoin&quot;: &quot;round&quot;, &quot;opacity&quot;: 1.0, &quot;radius&quot;: 3, &quot;stroke&quot;: true, &quot;weight&quot;: 1}\n",
       "            ).addTo(map_0f194e2aaa6e0c52ce4a98779fb6afef);\n",
       "        \n",
       "    \n",
       "        var popup_bbda5b830874141de746aacf2a84ad4a = L.popup({\n",
       "  &quot;maxWidth&quot;: 250,\n",
       "});\n",
       "\n",
       "        \n",
       "            \n",
       "                var html_d15d4067123fda8bf8f9372265c8db06 = $(`&lt;div id=&quot;html_d15d4067123fda8bf8f9372265c8db06&quot; style=&quot;width: 100.0%; height: 100.0%;&quot;&gt;             &lt;div style=&quot;width: 200px;&quot;&gt;                 &lt;h4&gt;Marine Monitoring Point&lt;/h4&gt;                 &lt;p&gt;&lt;strong&gt;Coordinates:&lt;/strong&gt; -38.181, 76.385&lt;/p&gt;                 &lt;p&gt;&lt;strong&gt;Hotspot Probability:&lt;/strong&gt; 16.2%&lt;/p&gt;                 &lt;p&gt;&lt;strong&gt;Concentration:&lt;/strong&gt; 11.84 particles/m³&lt;/p&gt;                 &lt;p&gt;&lt;strong&gt;Water Temp:&lt;/strong&gt; 21.7°C&lt;/p&gt;                 &lt;p&gt;&lt;strong&gt;Current Speed:&lt;/strong&gt; 9.1 m/s&lt;/p&gt;                 &lt;p&gt;&lt;strong&gt;Date:&lt;/strong&gt; 2025-02-26&lt;/p&gt;             &lt;/div&gt;             &lt;/div&gt;`)[0];\n",
       "                popup_bbda5b830874141de746aacf2a84ad4a.setContent(html_d15d4067123fda8bf8f9372265c8db06);\n",
       "            \n",
       "        \n",
       "\n",
       "        circle_marker_b09a9fb620100fad9ebb910580aa1fb6.bindPopup(popup_bbda5b830874141de746aacf2a84ad4a)\n",
       "        ;\n",
       "\n",
       "        \n",
       "    \n",
       "    \n",
       "            circle_marker_b09a9fb620100fad9ebb910580aa1fb6.bindTooltip(\n",
       "                `&lt;div&gt;\n",
       "                     Hotspot Risk: 16.2%\n",
       "                 &lt;/div&gt;`,\n",
       "                {\n",
       "  &quot;sticky&quot;: true,\n",
       "}\n",
       "            );\n",
       "        \n",
       "    \n",
       "            var circle_marker_985c5618619847e8bebaaebc8a32fe52 = L.circleMarker(\n",
       "                [-37.99145881758794, -94.59032850115197],\n",
       "                {&quot;bubblingMouseEvents&quot;: true, &quot;color&quot;: &quot;black&quot;, &quot;dashArray&quot;: null, &quot;dashOffset&quot;: null, &quot;fill&quot;: true, &quot;fillColor&quot;: &quot;green&quot;, &quot;fillOpacity&quot;: 0.7, &quot;fillRule&quot;: &quot;evenodd&quot;, &quot;lineCap&quot;: &quot;round&quot;, &quot;lineJoin&quot;: &quot;round&quot;, &quot;opacity&quot;: 1.0, &quot;radius&quot;: 3, &quot;stroke&quot;: true, &quot;weight&quot;: 1}\n",
       "            ).addTo(map_0f194e2aaa6e0c52ce4a98779fb6afef);\n",
       "        \n",
       "    \n",
       "        var popup_a41aa6f9cc18d361446b930a2583881f = L.popup({\n",
       "  &quot;maxWidth&quot;: 250,\n",
       "});\n",
       "\n",
       "        \n",
       "            \n",
       "                var html_c66a64a59056eef824f0175a3e1dddde = $(`&lt;div id=&quot;html_c66a64a59056eef824f0175a3e1dddde&quot; style=&quot;width: 100.0%; height: 100.0%;&quot;&gt;             &lt;div style=&quot;width: 200px;&quot;&gt;                 &lt;h4&gt;Marine Monitoring Point&lt;/h4&gt;                 &lt;p&gt;&lt;strong&gt;Coordinates:&lt;/strong&gt; -37.991, -94.590&lt;/p&gt;                 &lt;p&gt;&lt;strong&gt;Hotspot Probability:&lt;/strong&gt; 16.3%&lt;/p&gt;                 &lt;p&gt;&lt;strong&gt;Concentration:&lt;/strong&gt; 1.60 particles/m³&lt;/p&gt;                 &lt;p&gt;&lt;strong&gt;Water Temp:&lt;/strong&gt; 16.7°C&lt;/p&gt;                 &lt;p&gt;&lt;strong&gt;Current Speed:&lt;/strong&gt; 10.5 m/s&lt;/p&gt;                 &lt;p&gt;&lt;strong&gt;Date:&lt;/strong&gt; 2025-09-07&lt;/p&gt;             &lt;/div&gt;             &lt;/div&gt;`)[0];\n",
       "                popup_a41aa6f9cc18d361446b930a2583881f.setContent(html_c66a64a59056eef824f0175a3e1dddde);\n",
       "            \n",
       "        \n",
       "\n",
       "        circle_marker_985c5618619847e8bebaaebc8a32fe52.bindPopup(popup_a41aa6f9cc18d361446b930a2583881f)\n",
       "        ;\n",
       "\n",
       "        \n",
       "    \n",
       "    \n",
       "            circle_marker_985c5618619847e8bebaaebc8a32fe52.bindTooltip(\n",
       "                `&lt;div&gt;\n",
       "                     Hotspot Risk: 16.3%\n",
       "                 &lt;/div&gt;`,\n",
       "                {\n",
       "  &quot;sticky&quot;: true,\n",
       "}\n",
       "            );\n",
       "        \n",
       "    \n",
       "            var circle_marker_99df99062c881c14da1d334ff5ad42e3 = L.circleMarker(\n",
       "                [-23.490930844855473, -62.856108662663615],\n",
       "                {&quot;bubblingMouseEvents&quot;: true, &quot;color&quot;: &quot;black&quot;, &quot;dashArray&quot;: null, &quot;dashOffset&quot;: null, &quot;fill&quot;: true, &quot;fillColor&quot;: &quot;green&quot;, &quot;fillOpacity&quot;: 0.7, &quot;fillRule&quot;: &quot;evenodd&quot;, &quot;lineCap&quot;: &quot;round&quot;, &quot;lineJoin&quot;: &quot;round&quot;, &quot;opacity&quot;: 1.0, &quot;radius&quot;: 3, &quot;stroke&quot;: true, &quot;weight&quot;: 1}\n",
       "            ).addTo(map_0f194e2aaa6e0c52ce4a98779fb6afef);\n",
       "        \n",
       "    \n",
       "        var popup_f4300fabb0c2829b773e7536aa1c9563 = L.popup({\n",
       "  &quot;maxWidth&quot;: 250,\n",
       "});\n",
       "\n",
       "        \n",
       "            \n",
       "                var html_8355bd94b5b783e67c18f217833f206f = $(`&lt;div id=&quot;html_8355bd94b5b783e67c18f217833f206f&quot; style=&quot;width: 100.0%; height: 100.0%;&quot;&gt;             &lt;div style=&quot;width: 200px;&quot;&gt;                 &lt;h4&gt;Marine Monitoring Point&lt;/h4&gt;                 &lt;p&gt;&lt;strong&gt;Coordinates:&lt;/strong&gt; -23.491, -62.856&lt;/p&gt;                 &lt;p&gt;&lt;strong&gt;Hotspot Probability:&lt;/strong&gt; 9.9%&lt;/p&gt;                 &lt;p&gt;&lt;strong&gt;Concentration:&lt;/strong&gt; 20.88 particles/m³&lt;/p&gt;                 &lt;p&gt;&lt;strong&gt;Water Temp:&lt;/strong&gt; 13.8°C&lt;/p&gt;                 &lt;p&gt;&lt;strong&gt;Current Speed:&lt;/strong&gt; 0.9 m/s&lt;/p&gt;                 &lt;p&gt;&lt;strong&gt;Date:&lt;/strong&gt; 2025-02-11&lt;/p&gt;             &lt;/div&gt;             &lt;/div&gt;`)[0];\n",
       "                popup_f4300fabb0c2829b773e7536aa1c9563.setContent(html_8355bd94b5b783e67c18f217833f206f);\n",
       "            \n",
       "        \n",
       "\n",
       "        circle_marker_99df99062c881c14da1d334ff5ad42e3.bindPopup(popup_f4300fabb0c2829b773e7536aa1c9563)\n",
       "        ;\n",
       "\n",
       "        \n",
       "    \n",
       "    \n",
       "            circle_marker_99df99062c881c14da1d334ff5ad42e3.bindTooltip(\n",
       "                `&lt;div&gt;\n",
       "                     Hotspot Risk: 9.9%\n",
       "                 &lt;/div&gt;`,\n",
       "                {\n",
       "  &quot;sticky&quot;: true,\n",
       "}\n",
       "            );\n",
       "        \n",
       "    \n",
       "            var circle_marker_ed4b66d2152ed3019a0b11502b4a5c03 = L.circleMarker(\n",
       "                [2.970771795868541, 88.7369058424887],\n",
       "                {&quot;bubblingMouseEvents&quot;: true, &quot;color&quot;: &quot;black&quot;, &quot;dashArray&quot;: null, &quot;dashOffset&quot;: null, &quot;fill&quot;: true, &quot;fillColor&quot;: &quot;green&quot;, &quot;fillOpacity&quot;: 0.7, &quot;fillRule&quot;: &quot;evenodd&quot;, &quot;lineCap&quot;: &quot;round&quot;, &quot;lineJoin&quot;: &quot;round&quot;, &quot;opacity&quot;: 1.0, &quot;radius&quot;: 3, &quot;stroke&quot;: true, &quot;weight&quot;: 1}\n",
       "            ).addTo(map_0f194e2aaa6e0c52ce4a98779fb6afef);\n",
       "        \n",
       "    \n",
       "        var popup_802c704a9632c202b677461589a5719a = L.popup({\n",
       "  &quot;maxWidth&quot;: 250,\n",
       "});\n",
       "\n",
       "        \n",
       "            \n",
       "                var html_34aaa09c51a83449123a49e8dbc4a37a = $(`&lt;div id=&quot;html_34aaa09c51a83449123a49e8dbc4a37a&quot; style=&quot;width: 100.0%; height: 100.0%;&quot;&gt;             &lt;div style=&quot;width: 200px;&quot;&gt;                 &lt;h4&gt;Marine Monitoring Point&lt;/h4&gt;                 &lt;p&gt;&lt;strong&gt;Coordinates:&lt;/strong&gt; 2.971, 88.737&lt;/p&gt;                 &lt;p&gt;&lt;strong&gt;Hotspot Probability:&lt;/strong&gt; 1.0%&lt;/p&gt;                 &lt;p&gt;&lt;strong&gt;Concentration:&lt;/strong&gt; 3.68 particles/m³&lt;/p&gt;                 &lt;p&gt;&lt;strong&gt;Water Temp:&lt;/strong&gt; 9.7°C&lt;/p&gt;                 &lt;p&gt;&lt;strong&gt;Current Speed:&lt;/strong&gt; 6.9 m/s&lt;/p&gt;                 &lt;p&gt;&lt;strong&gt;Date:&lt;/strong&gt; 2025-09-05&lt;/p&gt;             &lt;/div&gt;             &lt;/div&gt;`)[0];\n",
       "                popup_802c704a9632c202b677461589a5719a.setContent(html_34aaa09c51a83449123a49e8dbc4a37a);\n",
       "            \n",
       "        \n",
       "\n",
       "        circle_marker_ed4b66d2152ed3019a0b11502b4a5c03.bindPopup(popup_802c704a9632c202b677461589a5719a)\n",
       "        ;\n",
       "\n",
       "        \n",
       "    \n",
       "    \n",
       "            circle_marker_ed4b66d2152ed3019a0b11502b4a5c03.bindTooltip(\n",
       "                `&lt;div&gt;\n",
       "                     Hotspot Risk: 1.0%\n",
       "                 &lt;/div&gt;`,\n",
       "                {\n",
       "  &quot;sticky&quot;: true,\n",
       "}\n",
       "            );\n",
       "        \n",
       "    \n",
       "            var circle_marker_0b18443d26e9cce82cc491630f17eedc = L.circleMarker(\n",
       "                [-8.166597762946108, 53.86784365699728],\n",
       "                {&quot;bubblingMouseEvents&quot;: true, &quot;color&quot;: &quot;black&quot;, &quot;dashArray&quot;: null, &quot;dashOffset&quot;: null, &quot;fill&quot;: true, &quot;fillColor&quot;: &quot;green&quot;, &quot;fillOpacity&quot;: 0.7, &quot;fillRule&quot;: &quot;evenodd&quot;, &quot;lineCap&quot;: &quot;round&quot;, &quot;lineJoin&quot;: &quot;round&quot;, &quot;opacity&quot;: 1.0, &quot;radius&quot;: 3, &quot;stroke&quot;: true, &quot;weight&quot;: 1}\n",
       "            ).addTo(map_0f194e2aaa6e0c52ce4a98779fb6afef);\n",
       "        \n",
       "    \n",
       "        var popup_862e24da43c6da6a99c5623efbf6011b = L.popup({\n",
       "  &quot;maxWidth&quot;: 250,\n",
       "});\n",
       "\n",
       "        \n",
       "            \n",
       "                var html_827f2d4db3159dedb35ab1c4ba781d3a = $(`&lt;div id=&quot;html_827f2d4db3159dedb35ab1c4ba781d3a&quot; style=&quot;width: 100.0%; height: 100.0%;&quot;&gt;             &lt;div style=&quot;width: 200px;&quot;&gt;                 &lt;h4&gt;Marine Monitoring Point&lt;/h4&gt;                 &lt;p&gt;&lt;strong&gt;Coordinates:&lt;/strong&gt; -8.167, 53.868&lt;/p&gt;                 &lt;p&gt;&lt;strong&gt;Hotspot Probability:&lt;/strong&gt; 10.8%&lt;/p&gt;                 &lt;p&gt;&lt;strong&gt;Concentration:&lt;/strong&gt; 2.98 particles/m³&lt;/p&gt;                 &lt;p&gt;&lt;strong&gt;Water Temp:&lt;/strong&gt; 11.2°C&lt;/p&gt;                 &lt;p&gt;&lt;strong&gt;Current Speed:&lt;/strong&gt; 3.4 m/s&lt;/p&gt;                 &lt;p&gt;&lt;strong&gt;Date:&lt;/strong&gt; 2025-07-18&lt;/p&gt;             &lt;/div&gt;             &lt;/div&gt;`)[0];\n",
       "                popup_862e24da43c6da6a99c5623efbf6011b.setContent(html_827f2d4db3159dedb35ab1c4ba781d3a);\n",
       "            \n",
       "        \n",
       "\n",
       "        circle_marker_0b18443d26e9cce82cc491630f17eedc.bindPopup(popup_862e24da43c6da6a99c5623efbf6011b)\n",
       "        ;\n",
       "\n",
       "        \n",
       "    \n",
       "    \n",
       "            circle_marker_0b18443d26e9cce82cc491630f17eedc.bindTooltip(\n",
       "                `&lt;div&gt;\n",
       "                     Hotspot Risk: 10.8%\n",
       "                 &lt;/div&gt;`,\n",
       "                {\n",
       "  &quot;sticky&quot;: true,\n",
       "}\n",
       "            );\n",
       "        \n",
       "    \n",
       "            var circle_marker_7543fa9dc3f02e9afefd286df8a49139 = L.circleMarker(\n",
       "                [-25.05250317623497, 125.72042777790405],\n",
       "                {&quot;bubblingMouseEvents&quot;: true, &quot;color&quot;: &quot;black&quot;, &quot;dashArray&quot;: null, &quot;dashOffset&quot;: null, &quot;fill&quot;: true, &quot;fillColor&quot;: &quot;green&quot;, &quot;fillOpacity&quot;: 0.7, &quot;fillRule&quot;: &quot;evenodd&quot;, &quot;lineCap&quot;: &quot;round&quot;, &quot;lineJoin&quot;: &quot;round&quot;, &quot;opacity&quot;: 1.0, &quot;radius&quot;: 3, &quot;stroke&quot;: true, &quot;weight&quot;: 1}\n",
       "            ).addTo(map_0f194e2aaa6e0c52ce4a98779fb6afef);\n",
       "        \n",
       "    \n",
       "        var popup_5db9b3c64275b63d2b5b3593a9f75a0a = L.popup({\n",
       "  &quot;maxWidth&quot;: 250,\n",
       "});\n",
       "\n",
       "        \n",
       "            \n",
       "                var html_e0de7c2034ac319792de72d42514d524 = $(`&lt;div id=&quot;html_e0de7c2034ac319792de72d42514d524&quot; style=&quot;width: 100.0%; height: 100.0%;&quot;&gt;             &lt;div style=&quot;width: 200px;&quot;&gt;                 &lt;h4&gt;Marine Monitoring Point&lt;/h4&gt;                 &lt;p&gt;&lt;strong&gt;Coordinates:&lt;/strong&gt; -25.053, 125.720&lt;/p&gt;                 &lt;p&gt;&lt;strong&gt;Hotspot Probability:&lt;/strong&gt; 3.2%&lt;/p&gt;                 &lt;p&gt;&lt;strong&gt;Concentration:&lt;/strong&gt; 3.59 particles/m³&lt;/p&gt;                 &lt;p&gt;&lt;strong&gt;Water Temp:&lt;/strong&gt; 19.8°C&lt;/p&gt;                 &lt;p&gt;&lt;strong&gt;Current Speed:&lt;/strong&gt; 3.1 m/s&lt;/p&gt;                 &lt;p&gt;&lt;strong&gt;Date:&lt;/strong&gt; 2025-05-16&lt;/p&gt;             &lt;/div&gt;             &lt;/div&gt;`)[0];\n",
       "                popup_5db9b3c64275b63d2b5b3593a9f75a0a.setContent(html_e0de7c2034ac319792de72d42514d524);\n",
       "            \n",
       "        \n",
       "\n",
       "        circle_marker_7543fa9dc3f02e9afefd286df8a49139.bindPopup(popup_5db9b3c64275b63d2b5b3593a9f75a0a)\n",
       "        ;\n",
       "\n",
       "        \n",
       "    \n",
       "    \n",
       "            circle_marker_7543fa9dc3f02e9afefd286df8a49139.bindTooltip(\n",
       "                `&lt;div&gt;\n",
       "                     Hotspot Risk: 3.2%\n",
       "                 &lt;/div&gt;`,\n",
       "                {\n",
       "  &quot;sticky&quot;: true,\n",
       "}\n",
       "            );\n",
       "        \n",
       "    \n",
       "            var circle_marker_9cf867b09e5d981d01851e0246c58278 = L.circleMarker(\n",
       "                [13.422347366685536, 56.740641228123614],\n",
       "                {&quot;bubblingMouseEvents&quot;: true, &quot;color&quot;: &quot;black&quot;, &quot;dashArray&quot;: null, &quot;dashOffset&quot;: null, &quot;fill&quot;: true, &quot;fillColor&quot;: &quot;green&quot;, &quot;fillOpacity&quot;: 0.7, &quot;fillRule&quot;: &quot;evenodd&quot;, &quot;lineCap&quot;: &quot;round&quot;, &quot;lineJoin&quot;: &quot;round&quot;, &quot;opacity&quot;: 1.0, &quot;radius&quot;: 3, &quot;stroke&quot;: true, &quot;weight&quot;: 1}\n",
       "            ).addTo(map_0f194e2aaa6e0c52ce4a98779fb6afef);\n",
       "        \n",
       "    \n",
       "        var popup_2f07f30ada27ed8476a57646ca8b5f70 = L.popup({\n",
       "  &quot;maxWidth&quot;: 250,\n",
       "});\n",
       "\n",
       "        \n",
       "            \n",
       "                var html_32c59358b360a7537eb7b61b477d974b = $(`&lt;div id=&quot;html_32c59358b360a7537eb7b61b477d974b&quot; style=&quot;width: 100.0%; height: 100.0%;&quot;&gt;             &lt;div style=&quot;width: 200px;&quot;&gt;                 &lt;h4&gt;Marine Monitoring Point&lt;/h4&gt;                 &lt;p&gt;&lt;strong&gt;Coordinates:&lt;/strong&gt; 13.422, 56.741&lt;/p&gt;                 &lt;p&gt;&lt;strong&gt;Hotspot Probability:&lt;/strong&gt; 19.8%&lt;/p&gt;                 &lt;p&gt;&lt;strong&gt;Concentration:&lt;/strong&gt; 7.99 particles/m³&lt;/p&gt;                 &lt;p&gt;&lt;strong&gt;Water Temp:&lt;/strong&gt; 14.0°C&lt;/p&gt;                 &lt;p&gt;&lt;strong&gt;Current Speed:&lt;/strong&gt; 1.7 m/s&lt;/p&gt;                 &lt;p&gt;&lt;strong&gt;Date:&lt;/strong&gt; 2025-05-29&lt;/p&gt;             &lt;/div&gt;             &lt;/div&gt;`)[0];\n",
       "                popup_2f07f30ada27ed8476a57646ca8b5f70.setContent(html_32c59358b360a7537eb7b61b477d974b);\n",
       "            \n",
       "        \n",
       "\n",
       "        circle_marker_9cf867b09e5d981d01851e0246c58278.bindPopup(popup_2f07f30ada27ed8476a57646ca8b5f70)\n",
       "        ;\n",
       "\n",
       "        \n",
       "    \n",
       "    \n",
       "            circle_marker_9cf867b09e5d981d01851e0246c58278.bindTooltip(\n",
       "                `&lt;div&gt;\n",
       "                     Hotspot Risk: 19.8%\n",
       "                 &lt;/div&gt;`,\n",
       "                {\n",
       "  &quot;sticky&quot;: true,\n",
       "}\n",
       "            );\n",
       "        \n",
       "    \n",
       "            var circle_marker_c7cd8c1f95084729dca1f3db23b2f219 = L.circleMarker(\n",
       "                [-43.26073672175498, 24.59109720076978],\n",
       "                {&quot;bubblingMouseEvents&quot;: true, &quot;color&quot;: &quot;black&quot;, &quot;dashArray&quot;: null, &quot;dashOffset&quot;: null, &quot;fill&quot;: true, &quot;fillColor&quot;: &quot;green&quot;, &quot;fillOpacity&quot;: 0.7, &quot;fillRule&quot;: &quot;evenodd&quot;, &quot;lineCap&quot;: &quot;round&quot;, &quot;lineJoin&quot;: &quot;round&quot;, &quot;opacity&quot;: 1.0, &quot;radius&quot;: 3, &quot;stroke&quot;: true, &quot;weight&quot;: 1}\n",
       "            ).addTo(map_0f194e2aaa6e0c52ce4a98779fb6afef);\n",
       "        \n",
       "    \n",
       "        var popup_73112af2555267b7b7468e44db3a1ed3 = L.popup({\n",
       "  &quot;maxWidth&quot;: 250,\n",
       "});\n",
       "\n",
       "        \n",
       "            \n",
       "                var html_3ec497ad2a0badd11a746923aaa151d5 = $(`&lt;div id=&quot;html_3ec497ad2a0badd11a746923aaa151d5&quot; style=&quot;width: 100.0%; height: 100.0%;&quot;&gt;             &lt;div style=&quot;width: 200px;&quot;&gt;                 &lt;h4&gt;Marine Monitoring Point&lt;/h4&gt;                 &lt;p&gt;&lt;strong&gt;Coordinates:&lt;/strong&gt; -43.261, 24.591&lt;/p&gt;                 &lt;p&gt;&lt;strong&gt;Hotspot Probability:&lt;/strong&gt; 8.5%&lt;/p&gt;                 &lt;p&gt;&lt;strong&gt;Concentration:&lt;/strong&gt; 1.67 particles/m³&lt;/p&gt;                 &lt;p&gt;&lt;strong&gt;Water Temp:&lt;/strong&gt; 11.0°C&lt;/p&gt;                 &lt;p&gt;&lt;strong&gt;Current Speed:&lt;/strong&gt; 1.7 m/s&lt;/p&gt;                 &lt;p&gt;&lt;strong&gt;Date:&lt;/strong&gt; 2024-11-05&lt;/p&gt;             &lt;/div&gt;             &lt;/div&gt;`)[0];\n",
       "                popup_73112af2555267b7b7468e44db3a1ed3.setContent(html_3ec497ad2a0badd11a746923aaa151d5);\n",
       "            \n",
       "        \n",
       "\n",
       "        circle_marker_c7cd8c1f95084729dca1f3db23b2f219.bindPopup(popup_73112af2555267b7b7468e44db3a1ed3)\n",
       "        ;\n",
       "\n",
       "        \n",
       "    \n",
       "    \n",
       "            circle_marker_c7cd8c1f95084729dca1f3db23b2f219.bindTooltip(\n",
       "                `&lt;div&gt;\n",
       "                     Hotspot Risk: 8.5%\n",
       "                 &lt;/div&gt;`,\n",
       "                {\n",
       "  &quot;sticky&quot;: true,\n",
       "}\n",
       "            );\n",
       "        \n",
       "    \n",
       "            var circle_marker_aaf059906d68da2f5181fc2e581c5b79 = L.circleMarker(\n",
       "                [-24.94264217577382, -146.2770835818867],\n",
       "                {&quot;bubblingMouseEvents&quot;: true, &quot;color&quot;: &quot;black&quot;, &quot;dashArray&quot;: null, &quot;dashOffset&quot;: null, &quot;fill&quot;: true, &quot;fillColor&quot;: &quot;green&quot;, &quot;fillOpacity&quot;: 0.7, &quot;fillRule&quot;: &quot;evenodd&quot;, &quot;lineCap&quot;: &quot;round&quot;, &quot;lineJoin&quot;: &quot;round&quot;, &quot;opacity&quot;: 1.0, &quot;radius&quot;: 3, &quot;stroke&quot;: true, &quot;weight&quot;: 1}\n",
       "            ).addTo(map_0f194e2aaa6e0c52ce4a98779fb6afef);\n",
       "        \n",
       "    \n",
       "        var popup_56473c5eb567c84f67b90b4c5c1ca744 = L.popup({\n",
       "  &quot;maxWidth&quot;: 250,\n",
       "});\n",
       "\n",
       "        \n",
       "            \n",
       "                var html_5d90c89c818c62cbfb85efc47832a28e = $(`&lt;div id=&quot;html_5d90c89c818c62cbfb85efc47832a28e&quot; style=&quot;width: 100.0%; height: 100.0%;&quot;&gt;             &lt;div style=&quot;width: 200px;&quot;&gt;                 &lt;h4&gt;Marine Monitoring Point&lt;/h4&gt;                 &lt;p&gt;&lt;strong&gt;Coordinates:&lt;/strong&gt; -24.943, -146.277&lt;/p&gt;                 &lt;p&gt;&lt;strong&gt;Hotspot Probability:&lt;/strong&gt; 1.7%&lt;/p&gt;                 &lt;p&gt;&lt;strong&gt;Concentration:&lt;/strong&gt; 7.12 particles/m³&lt;/p&gt;                 &lt;p&gt;&lt;strong&gt;Water Temp:&lt;/strong&gt; 18.7°C&lt;/p&gt;                 &lt;p&gt;&lt;strong&gt;Current Speed:&lt;/strong&gt; 2.0 m/s&lt;/p&gt;                 &lt;p&gt;&lt;strong&gt;Date:&lt;/strong&gt; 2025-02-06&lt;/p&gt;             &lt;/div&gt;             &lt;/div&gt;`)[0];\n",
       "                popup_56473c5eb567c84f67b90b4c5c1ca744.setContent(html_5d90c89c818c62cbfb85efc47832a28e);\n",
       "            \n",
       "        \n",
       "\n",
       "        circle_marker_aaf059906d68da2f5181fc2e581c5b79.bindPopup(popup_56473c5eb567c84f67b90b4c5c1ca744)\n",
       "        ;\n",
       "\n",
       "        \n",
       "    \n",
       "    \n",
       "            circle_marker_aaf059906d68da2f5181fc2e581c5b79.bindTooltip(\n",
       "                `&lt;div&gt;\n",
       "                     Hotspot Risk: 1.7%\n",
       "                 &lt;/div&gt;`,\n",
       "                {\n",
       "  &quot;sticky&quot;: true,\n",
       "}\n",
       "            );\n",
       "        \n",
       "    \n",
       "            var circle_marker_28331c94fa9aa3c2c287d83183c6426f = L.circleMarker(\n",
       "                [-16.036578804756996, -47.622310898603935],\n",
       "                {&quot;bubblingMouseEvents&quot;: true, &quot;color&quot;: &quot;black&quot;, &quot;dashArray&quot;: null, &quot;dashOffset&quot;: null, &quot;fill&quot;: true, &quot;fillColor&quot;: &quot;green&quot;, &quot;fillOpacity&quot;: 0.7, &quot;fillRule&quot;: &quot;evenodd&quot;, &quot;lineCap&quot;: &quot;round&quot;, &quot;lineJoin&quot;: &quot;round&quot;, &quot;opacity&quot;: 1.0, &quot;radius&quot;: 3, &quot;stroke&quot;: true, &quot;weight&quot;: 1}\n",
       "            ).addTo(map_0f194e2aaa6e0c52ce4a98779fb6afef);\n",
       "        \n",
       "    \n",
       "        var popup_08871c15a9c950e487b2bc3631bb80d9 = L.popup({\n",
       "  &quot;maxWidth&quot;: 250,\n",
       "});\n",
       "\n",
       "        \n",
       "            \n",
       "                var html_12fa634a9a368795c6a308026d883965 = $(`&lt;div id=&quot;html_12fa634a9a368795c6a308026d883965&quot; style=&quot;width: 100.0%; height: 100.0%;&quot;&gt;             &lt;div style=&quot;width: 200px;&quot;&gt;                 &lt;h4&gt;Marine Monitoring Point&lt;/h4&gt;                 &lt;p&gt;&lt;strong&gt;Coordinates:&lt;/strong&gt; -16.037, -47.622&lt;/p&gt;                 &lt;p&gt;&lt;strong&gt;Hotspot Probability:&lt;/strong&gt; 6.8%&lt;/p&gt;                 &lt;p&gt;&lt;strong&gt;Concentration:&lt;/strong&gt; 11.35 particles/m³&lt;/p&gt;                 &lt;p&gt;&lt;strong&gt;Water Temp:&lt;/strong&gt; 19.1°C&lt;/p&gt;                 &lt;p&gt;&lt;strong&gt;Current Speed:&lt;/strong&gt; 0.4 m/s&lt;/p&gt;                 &lt;p&gt;&lt;strong&gt;Date:&lt;/strong&gt; 2025-03-05&lt;/p&gt;             &lt;/div&gt;             &lt;/div&gt;`)[0];\n",
       "                popup_08871c15a9c950e487b2bc3631bb80d9.setContent(html_12fa634a9a368795c6a308026d883965);\n",
       "            \n",
       "        \n",
       "\n",
       "        circle_marker_28331c94fa9aa3c2c287d83183c6426f.bindPopup(popup_08871c15a9c950e487b2bc3631bb80d9)\n",
       "        ;\n",
       "\n",
       "        \n",
       "    \n",
       "    \n",
       "            circle_marker_28331c94fa9aa3c2c287d83183c6426f.bindTooltip(\n",
       "                `&lt;div&gt;\n",
       "                     Hotspot Risk: 6.8%\n",
       "                 &lt;/div&gt;`,\n",
       "                {\n",
       "  &quot;sticky&quot;: true,\n",
       "}\n",
       "            );\n",
       "        \n",
       "    \n",
       "            var circle_marker_d0fe7280441f74fc6393389af4f0129e = L.circleMarker(\n",
       "                [-5.271601893955689, -84.52714763457884],\n",
       "                {&quot;bubblingMouseEvents&quot;: true, &quot;color&quot;: &quot;black&quot;, &quot;dashArray&quot;: null, &quot;dashOffset&quot;: null, &quot;fill&quot;: true, &quot;fillColor&quot;: &quot;green&quot;, &quot;fillOpacity&quot;: 0.7, &quot;fillRule&quot;: &quot;evenodd&quot;, &quot;lineCap&quot;: &quot;round&quot;, &quot;lineJoin&quot;: &quot;round&quot;, &quot;opacity&quot;: 1.0, &quot;radius&quot;: 3, &quot;stroke&quot;: true, &quot;weight&quot;: 1}\n",
       "            ).addTo(map_0f194e2aaa6e0c52ce4a98779fb6afef);\n",
       "        \n",
       "    \n",
       "        var popup_9e21c10df14e566962dc480f050c9960 = L.popup({\n",
       "  &quot;maxWidth&quot;: 250,\n",
       "});\n",
       "\n",
       "        \n",
       "            \n",
       "                var html_4ca0053d7eb6b8a6b67dce30d6ecfabd = $(`&lt;div id=&quot;html_4ca0053d7eb6b8a6b67dce30d6ecfabd&quot; style=&quot;width: 100.0%; height: 100.0%;&quot;&gt;             &lt;div style=&quot;width: 200px;&quot;&gt;                 &lt;h4&gt;Marine Monitoring Point&lt;/h4&gt;                 &lt;p&gt;&lt;strong&gt;Coordinates:&lt;/strong&gt; -5.272, -84.527&lt;/p&gt;                 &lt;p&gt;&lt;strong&gt;Hotspot Probability:&lt;/strong&gt; 14.1%&lt;/p&gt;                 &lt;p&gt;&lt;strong&gt;Concentration:&lt;/strong&gt; 22.36 particles/m³&lt;/p&gt;                 &lt;p&gt;&lt;strong&gt;Water Temp:&lt;/strong&gt; 5.0°C&lt;/p&gt;                 &lt;p&gt;&lt;strong&gt;Current Speed:&lt;/strong&gt; 1.0 m/s&lt;/p&gt;                 &lt;p&gt;&lt;strong&gt;Date:&lt;/strong&gt; 2024-12-02&lt;/p&gt;             &lt;/div&gt;             &lt;/div&gt;`)[0];\n",
       "                popup_9e21c10df14e566962dc480f050c9960.setContent(html_4ca0053d7eb6b8a6b67dce30d6ecfabd);\n",
       "            \n",
       "        \n",
       "\n",
       "        circle_marker_d0fe7280441f74fc6393389af4f0129e.bindPopup(popup_9e21c10df14e566962dc480f050c9960)\n",
       "        ;\n",
       "\n",
       "        \n",
       "    \n",
       "    \n",
       "            circle_marker_d0fe7280441f74fc6393389af4f0129e.bindTooltip(\n",
       "                `&lt;div&gt;\n",
       "                     Hotspot Risk: 14.1%\n",
       "                 &lt;/div&gt;`,\n",
       "                {\n",
       "  &quot;sticky&quot;: true,\n",
       "}\n",
       "            );\n",
       "        \n",
       "    \n",
       "            var circle_marker_782041f49f83c8a0815b9299f9aa6b34 = L.circleMarker(\n",
       "                [34.22111536716163, -92.16372838352991],\n",
       "                {&quot;bubblingMouseEvents&quot;: true, &quot;color&quot;: &quot;black&quot;, &quot;dashArray&quot;: null, &quot;dashOffset&quot;: null, &quot;fill&quot;: true, &quot;fillColor&quot;: &quot;green&quot;, &quot;fillOpacity&quot;: 0.7, &quot;fillRule&quot;: &quot;evenodd&quot;, &quot;lineCap&quot;: &quot;round&quot;, &quot;lineJoin&quot;: &quot;round&quot;, &quot;opacity&quot;: 1.0, &quot;radius&quot;: 3, &quot;stroke&quot;: true, &quot;weight&quot;: 1}\n",
       "            ).addTo(map_0f194e2aaa6e0c52ce4a98779fb6afef);\n",
       "        \n",
       "    \n",
       "        var popup_cdb16feaa06b85114722376348f400c4 = L.popup({\n",
       "  &quot;maxWidth&quot;: 250,\n",
       "});\n",
       "\n",
       "        \n",
       "            \n",
       "                var html_7071f2a02a70931e0dc5b91d44e15dd8 = $(`&lt;div id=&quot;html_7071f2a02a70931e0dc5b91d44e15dd8&quot; style=&quot;width: 100.0%; height: 100.0%;&quot;&gt;             &lt;div style=&quot;width: 200px;&quot;&gt;                 &lt;h4&gt;Marine Monitoring Point&lt;/h4&gt;                 &lt;p&gt;&lt;strong&gt;Coordinates:&lt;/strong&gt; 34.221, -92.164&lt;/p&gt;                 &lt;p&gt;&lt;strong&gt;Hotspot Probability:&lt;/strong&gt; 4.4%&lt;/p&gt;                 &lt;p&gt;&lt;strong&gt;Concentration:&lt;/strong&gt; 8.81 particles/m³&lt;/p&gt;                 &lt;p&gt;&lt;strong&gt;Water Temp:&lt;/strong&gt; 19.6°C&lt;/p&gt;                 &lt;p&gt;&lt;strong&gt;Current Speed:&lt;/strong&gt; 1.0 m/s&lt;/p&gt;                 &lt;p&gt;&lt;strong&gt;Date:&lt;/strong&gt; 2024-10-17&lt;/p&gt;             &lt;/div&gt;             &lt;/div&gt;`)[0];\n",
       "                popup_cdb16feaa06b85114722376348f400c4.setContent(html_7071f2a02a70931e0dc5b91d44e15dd8);\n",
       "            \n",
       "        \n",
       "\n",
       "        circle_marker_782041f49f83c8a0815b9299f9aa6b34.bindPopup(popup_cdb16feaa06b85114722376348f400c4)\n",
       "        ;\n",
       "\n",
       "        \n",
       "    \n",
       "    \n",
       "            circle_marker_782041f49f83c8a0815b9299f9aa6b34.bindTooltip(\n",
       "                `&lt;div&gt;\n",
       "                     Hotspot Risk: 4.4%\n",
       "                 &lt;/div&gt;`,\n",
       "                {\n",
       "  &quot;sticky&quot;: true,\n",
       "}\n",
       "            );\n",
       "        \n",
       "    \n",
       "            var circle_marker_ab2dd83f629bba1361effe89f2645a7f = L.circleMarker(\n",
       "                [-36.039146140996834, 170.2837997108804],\n",
       "                {&quot;bubblingMouseEvents&quot;: true, &quot;color&quot;: &quot;black&quot;, &quot;dashArray&quot;: null, &quot;dashOffset&quot;: null, &quot;fill&quot;: true, &quot;fillColor&quot;: &quot;green&quot;, &quot;fillOpacity&quot;: 0.7, &quot;fillRule&quot;: &quot;evenodd&quot;, &quot;lineCap&quot;: &quot;round&quot;, &quot;lineJoin&quot;: &quot;round&quot;, &quot;opacity&quot;: 1.0, &quot;radius&quot;: 3, &quot;stroke&quot;: true, &quot;weight&quot;: 1}\n",
       "            ).addTo(map_0f194e2aaa6e0c52ce4a98779fb6afef);\n",
       "        \n",
       "    \n",
       "        var popup_c1110ef38a93921125a32b9fc95bb243 = L.popup({\n",
       "  &quot;maxWidth&quot;: 250,\n",
       "});\n",
       "\n",
       "        \n",
       "            \n",
       "                var html_c7b7973f3e0bfe750bf38ccf52446c69 = $(`&lt;div id=&quot;html_c7b7973f3e0bfe750bf38ccf52446c69&quot; style=&quot;width: 100.0%; height: 100.0%;&quot;&gt;             &lt;div style=&quot;width: 200px;&quot;&gt;                 &lt;h4&gt;Marine Monitoring Point&lt;/h4&gt;                 &lt;p&gt;&lt;strong&gt;Coordinates:&lt;/strong&gt; -36.039, 170.284&lt;/p&gt;                 &lt;p&gt;&lt;strong&gt;Hotspot Probability:&lt;/strong&gt; 1.8%&lt;/p&gt;                 &lt;p&gt;&lt;strong&gt;Concentration:&lt;/strong&gt; 1.94 particles/m³&lt;/p&gt;                 &lt;p&gt;&lt;strong&gt;Water Temp:&lt;/strong&gt; 35.0°C&lt;/p&gt;                 &lt;p&gt;&lt;strong&gt;Current Speed:&lt;/strong&gt; 0.8 m/s&lt;/p&gt;                 &lt;p&gt;&lt;strong&gt;Date:&lt;/strong&gt; 2025-01-14&lt;/p&gt;             &lt;/div&gt;             &lt;/div&gt;`)[0];\n",
       "                popup_c1110ef38a93921125a32b9fc95bb243.setContent(html_c7b7973f3e0bfe750bf38ccf52446c69);\n",
       "            \n",
       "        \n",
       "\n",
       "        circle_marker_ab2dd83f629bba1361effe89f2645a7f.bindPopup(popup_c1110ef38a93921125a32b9fc95bb243)\n",
       "        ;\n",
       "\n",
       "        \n",
       "    \n",
       "    \n",
       "            circle_marker_ab2dd83f629bba1361effe89f2645a7f.bindTooltip(\n",
       "                `&lt;div&gt;\n",
       "                     Hotspot Risk: 1.8%\n",
       "                 &lt;/div&gt;`,\n",
       "                {\n",
       "  &quot;sticky&quot;: true,\n",
       "}\n",
       "            );\n",
       "        \n",
       "    \n",
       "            var circle_marker_4679a2193adc1add38d8274e87ca4cbb = L.circleMarker(\n",
       "                [1.7081326096333926, -38.484819119966254],\n",
       "                {&quot;bubblingMouseEvents&quot;: true, &quot;color&quot;: &quot;black&quot;, &quot;dashArray&quot;: null, &quot;dashOffset&quot;: null, &quot;fill&quot;: true, &quot;fillColor&quot;: &quot;green&quot;, &quot;fillOpacity&quot;: 0.7, &quot;fillRule&quot;: &quot;evenodd&quot;, &quot;lineCap&quot;: &quot;round&quot;, &quot;lineJoin&quot;: &quot;round&quot;, &quot;opacity&quot;: 1.0, &quot;radius&quot;: 3, &quot;stroke&quot;: true, &quot;weight&quot;: 1}\n",
       "            ).addTo(map_0f194e2aaa6e0c52ce4a98779fb6afef);\n",
       "        \n",
       "    \n",
       "        var popup_894cdb24ac22c38850d40186534a03bf = L.popup({\n",
       "  &quot;maxWidth&quot;: 250,\n",
       "});\n",
       "\n",
       "        \n",
       "            \n",
       "                var html_c93e9dcadfc40d08774725815a8ba9c4 = $(`&lt;div id=&quot;html_c93e9dcadfc40d08774725815a8ba9c4&quot; style=&quot;width: 100.0%; height: 100.0%;&quot;&gt;             &lt;div style=&quot;width: 200px;&quot;&gt;                 &lt;h4&gt;Marine Monitoring Point&lt;/h4&gt;                 &lt;p&gt;&lt;strong&gt;Coordinates:&lt;/strong&gt; 1.708, -38.485&lt;/p&gt;                 &lt;p&gt;&lt;strong&gt;Hotspot Probability:&lt;/strong&gt; 12.4%&lt;/p&gt;                 &lt;p&gt;&lt;strong&gt;Concentration:&lt;/strong&gt; 8.58 particles/m³&lt;/p&gt;                 &lt;p&gt;&lt;strong&gt;Water Temp:&lt;/strong&gt; 18.8°C&lt;/p&gt;                 &lt;p&gt;&lt;strong&gt;Current Speed:&lt;/strong&gt; 8.9 m/s&lt;/p&gt;                 &lt;p&gt;&lt;strong&gt;Date:&lt;/strong&gt; 2025-03-07&lt;/p&gt;             &lt;/div&gt;             &lt;/div&gt;`)[0];\n",
       "                popup_894cdb24ac22c38850d40186534a03bf.setContent(html_c93e9dcadfc40d08774725815a8ba9c4);\n",
       "            \n",
       "        \n",
       "\n",
       "        circle_marker_4679a2193adc1add38d8274e87ca4cbb.bindPopup(popup_894cdb24ac22c38850d40186534a03bf)\n",
       "        ;\n",
       "\n",
       "        \n",
       "    \n",
       "    \n",
       "            circle_marker_4679a2193adc1add38d8274e87ca4cbb.bindTooltip(\n",
       "                `&lt;div&gt;\n",
       "                     Hotspot Risk: 12.4%\n",
       "                 &lt;/div&gt;`,\n",
       "                {\n",
       "  &quot;sticky&quot;: true,\n",
       "}\n",
       "            );\n",
       "        \n",
       "    \n",
       "            var circle_marker_2cb1ec69b51b2c228f1c0117ce290469 = L.circleMarker(\n",
       "                [11.089748263445095, 141.13675986376077],\n",
       "                {&quot;bubblingMouseEvents&quot;: true, &quot;color&quot;: &quot;black&quot;, &quot;dashArray&quot;: null, &quot;dashOffset&quot;: null, &quot;fill&quot;: true, &quot;fillColor&quot;: &quot;green&quot;, &quot;fillOpacity&quot;: 0.7, &quot;fillRule&quot;: &quot;evenodd&quot;, &quot;lineCap&quot;: &quot;round&quot;, &quot;lineJoin&quot;: &quot;round&quot;, &quot;opacity&quot;: 1.0, &quot;radius&quot;: 3, &quot;stroke&quot;: true, &quot;weight&quot;: 1}\n",
       "            ).addTo(map_0f194e2aaa6e0c52ce4a98779fb6afef);\n",
       "        \n",
       "    \n",
       "        var popup_27d663933b1473e5dd3949d685c36622 = L.popup({\n",
       "  &quot;maxWidth&quot;: 250,\n",
       "});\n",
       "\n",
       "        \n",
       "            \n",
       "                var html_9c2fa5f22d9adf73baa146c82f7fd71c = $(`&lt;div id=&quot;html_9c2fa5f22d9adf73baa146c82f7fd71c&quot; style=&quot;width: 100.0%; height: 100.0%;&quot;&gt;             &lt;div style=&quot;width: 200px;&quot;&gt;                 &lt;h4&gt;Marine Monitoring Point&lt;/h4&gt;                 &lt;p&gt;&lt;strong&gt;Coordinates:&lt;/strong&gt; 11.090, 141.137&lt;/p&gt;                 &lt;p&gt;&lt;strong&gt;Hotspot Probability:&lt;/strong&gt; 12.4%&lt;/p&gt;                 &lt;p&gt;&lt;strong&gt;Concentration:&lt;/strong&gt; 2.56 particles/m³&lt;/p&gt;                 &lt;p&gt;&lt;strong&gt;Water Temp:&lt;/strong&gt; 1.4°C&lt;/p&gt;                 &lt;p&gt;&lt;strong&gt;Current Speed:&lt;/strong&gt; 3.8 m/s&lt;/p&gt;                 &lt;p&gt;&lt;strong&gt;Date:&lt;/strong&gt; 2025-09-01&lt;/p&gt;             &lt;/div&gt;             &lt;/div&gt;`)[0];\n",
       "                popup_27d663933b1473e5dd3949d685c36622.setContent(html_9c2fa5f22d9adf73baa146c82f7fd71c);\n",
       "            \n",
       "        \n",
       "\n",
       "        circle_marker_2cb1ec69b51b2c228f1c0117ce290469.bindPopup(popup_27d663933b1473e5dd3949d685c36622)\n",
       "        ;\n",
       "\n",
       "        \n",
       "    \n",
       "    \n",
       "            circle_marker_2cb1ec69b51b2c228f1c0117ce290469.bindTooltip(\n",
       "                `&lt;div&gt;\n",
       "                     Hotspot Risk: 12.4%\n",
       "                 &lt;/div&gt;`,\n",
       "                {\n",
       "  &quot;sticky&quot;: true,\n",
       "}\n",
       "            );\n",
       "        \n",
       "    \n",
       "            var circle_marker_dea0cddbb183fced01841a03e89394a3 = L.circleMarker(\n",
       "                [-54.425950473600274, 47.20990535901464],\n",
       "                {&quot;bubblingMouseEvents&quot;: true, &quot;color&quot;: &quot;black&quot;, &quot;dashArray&quot;: null, &quot;dashOffset&quot;: null, &quot;fill&quot;: true, &quot;fillColor&quot;: &quot;green&quot;, &quot;fillOpacity&quot;: 0.7, &quot;fillRule&quot;: &quot;evenodd&quot;, &quot;lineCap&quot;: &quot;round&quot;, &quot;lineJoin&quot;: &quot;round&quot;, &quot;opacity&quot;: 1.0, &quot;radius&quot;: 3, &quot;stroke&quot;: true, &quot;weight&quot;: 1}\n",
       "            ).addTo(map_0f194e2aaa6e0c52ce4a98779fb6afef);\n",
       "        \n",
       "    \n",
       "        var popup_3f284960ee6db1c97d0f58c2db0a387c = L.popup({\n",
       "  &quot;maxWidth&quot;: 250,\n",
       "});\n",
       "\n",
       "        \n",
       "            \n",
       "                var html_70783d7f5a0d013404e8a8e06ae24633 = $(`&lt;div id=&quot;html_70783d7f5a0d013404e8a8e06ae24633&quot; style=&quot;width: 100.0%; height: 100.0%;&quot;&gt;             &lt;div style=&quot;width: 200px;&quot;&gt;                 &lt;h4&gt;Marine Monitoring Point&lt;/h4&gt;                 &lt;p&gt;&lt;strong&gt;Coordinates:&lt;/strong&gt; -54.426, 47.210&lt;/p&gt;                 &lt;p&gt;&lt;strong&gt;Hotspot Probability:&lt;/strong&gt; 4.9%&lt;/p&gt;                 &lt;p&gt;&lt;strong&gt;Concentration:&lt;/strong&gt; 2.42 particles/m³&lt;/p&gt;                 &lt;p&gt;&lt;strong&gt;Water Temp:&lt;/strong&gt; 16.4°C&lt;/p&gt;                 &lt;p&gt;&lt;strong&gt;Current Speed:&lt;/strong&gt; 3.8 m/s&lt;/p&gt;                 &lt;p&gt;&lt;strong&gt;Date:&lt;/strong&gt; 2024-11-23&lt;/p&gt;             &lt;/div&gt;             &lt;/div&gt;`)[0];\n",
       "                popup_3f284960ee6db1c97d0f58c2db0a387c.setContent(html_70783d7f5a0d013404e8a8e06ae24633);\n",
       "            \n",
       "        \n",
       "\n",
       "        circle_marker_dea0cddbb183fced01841a03e89394a3.bindPopup(popup_3f284960ee6db1c97d0f58c2db0a387c)\n",
       "        ;\n",
       "\n",
       "        \n",
       "    \n",
       "    \n",
       "            circle_marker_dea0cddbb183fced01841a03e89394a3.bindTooltip(\n",
       "                `&lt;div&gt;\n",
       "                     Hotspot Risk: 4.9%\n",
       "                 &lt;/div&gt;`,\n",
       "                {\n",
       "  &quot;sticky&quot;: true,\n",
       "}\n",
       "            );\n",
       "        \n",
       "    \n",
       "            var circle_marker_c935518fb6ff28ba2ecfddbb034ffd8a = L.circleMarker(\n",
       "                [12.905382228172604, 106.13206927499343],\n",
       "                {&quot;bubblingMouseEvents&quot;: true, &quot;color&quot;: &quot;black&quot;, &quot;dashArray&quot;: null, &quot;dashOffset&quot;: null, &quot;fill&quot;: true, &quot;fillColor&quot;: &quot;green&quot;, &quot;fillOpacity&quot;: 0.7, &quot;fillRule&quot;: &quot;evenodd&quot;, &quot;lineCap&quot;: &quot;round&quot;, &quot;lineJoin&quot;: &quot;round&quot;, &quot;opacity&quot;: 1.0, &quot;radius&quot;: 3, &quot;stroke&quot;: true, &quot;weight&quot;: 1}\n",
       "            ).addTo(map_0f194e2aaa6e0c52ce4a98779fb6afef);\n",
       "        \n",
       "    \n",
       "        var popup_b408a6b27fe1bb5f7272d75ca2e52e8d = L.popup({\n",
       "  &quot;maxWidth&quot;: 250,\n",
       "});\n",
       "\n",
       "        \n",
       "            \n",
       "                var html_02c70f3a7ba4edf52a598d90b80d46d2 = $(`&lt;div id=&quot;html_02c70f3a7ba4edf52a598d90b80d46d2&quot; style=&quot;width: 100.0%; height: 100.0%;&quot;&gt;             &lt;div style=&quot;width: 200px;&quot;&gt;                 &lt;h4&gt;Marine Monitoring Point&lt;/h4&gt;                 &lt;p&gt;&lt;strong&gt;Coordinates:&lt;/strong&gt; 12.905, 106.132&lt;/p&gt;                 &lt;p&gt;&lt;strong&gt;Hotspot Probability:&lt;/strong&gt; 5.3%&lt;/p&gt;                 &lt;p&gt;&lt;strong&gt;Concentration:&lt;/strong&gt; 1.89 particles/m³&lt;/p&gt;                 &lt;p&gt;&lt;strong&gt;Water Temp:&lt;/strong&gt; 0.4°C&lt;/p&gt;                 &lt;p&gt;&lt;strong&gt;Current Speed:&lt;/strong&gt; 7.0 m/s&lt;/p&gt;                 &lt;p&gt;&lt;strong&gt;Date:&lt;/strong&gt; 2025-08-05&lt;/p&gt;             &lt;/div&gt;             &lt;/div&gt;`)[0];\n",
       "                popup_b408a6b27fe1bb5f7272d75ca2e52e8d.setContent(html_02c70f3a7ba4edf52a598d90b80d46d2);\n",
       "            \n",
       "        \n",
       "\n",
       "        circle_marker_c935518fb6ff28ba2ecfddbb034ffd8a.bindPopup(popup_b408a6b27fe1bb5f7272d75ca2e52e8d)\n",
       "        ;\n",
       "\n",
       "        \n",
       "    \n",
       "    \n",
       "            circle_marker_c935518fb6ff28ba2ecfddbb034ffd8a.bindTooltip(\n",
       "                `&lt;div&gt;\n",
       "                     Hotspot Risk: 5.3%\n",
       "                 &lt;/div&gt;`,\n",
       "                {\n",
       "  &quot;sticky&quot;: true,\n",
       "}\n",
       "            );\n",
       "        \n",
       "    \n",
       "            var circle_marker_31f4fc5004f549c4d122535035f5496e = L.circleMarker(\n",
       "                [-39.53710515752502, 0.9493535178691603],\n",
       "                {&quot;bubblingMouseEvents&quot;: true, &quot;color&quot;: &quot;black&quot;, &quot;dashArray&quot;: null, &quot;dashOffset&quot;: null, &quot;fill&quot;: true, &quot;fillColor&quot;: &quot;green&quot;, &quot;fillOpacity&quot;: 0.7, &quot;fillRule&quot;: &quot;evenodd&quot;, &quot;lineCap&quot;: &quot;round&quot;, &quot;lineJoin&quot;: &quot;round&quot;, &quot;opacity&quot;: 1.0, &quot;radius&quot;: 3, &quot;stroke&quot;: true, &quot;weight&quot;: 1}\n",
       "            ).addTo(map_0f194e2aaa6e0c52ce4a98779fb6afef);\n",
       "        \n",
       "    \n",
       "        var popup_2fcc890b676e96090dfe7bb092f0c884 = L.popup({\n",
       "  &quot;maxWidth&quot;: 250,\n",
       "});\n",
       "\n",
       "        \n",
       "            \n",
       "                var html_9e7dbdf8c2e2debd5e2ec94547681c68 = $(`&lt;div id=&quot;html_9e7dbdf8c2e2debd5e2ec94547681c68&quot; style=&quot;width: 100.0%; height: 100.0%;&quot;&gt;             &lt;div style=&quot;width: 200px;&quot;&gt;                 &lt;h4&gt;Marine Monitoring Point&lt;/h4&gt;                 &lt;p&gt;&lt;strong&gt;Coordinates:&lt;/strong&gt; -39.537, 0.949&lt;/p&gt;                 &lt;p&gt;&lt;strong&gt;Hotspot Probability:&lt;/strong&gt; 12.3%&lt;/p&gt;                 &lt;p&gt;&lt;strong&gt;Concentration:&lt;/strong&gt; 1.09 particles/m³&lt;/p&gt;                 &lt;p&gt;&lt;strong&gt;Water Temp:&lt;/strong&gt; 40.3°C&lt;/p&gt;                 &lt;p&gt;&lt;strong&gt;Current Speed:&lt;/strong&gt; 1.1 m/s&lt;/p&gt;                 &lt;p&gt;&lt;strong&gt;Date:&lt;/strong&gt; 2025-03-04&lt;/p&gt;             &lt;/div&gt;             &lt;/div&gt;`)[0];\n",
       "                popup_2fcc890b676e96090dfe7bb092f0c884.setContent(html_9e7dbdf8c2e2debd5e2ec94547681c68);\n",
       "            \n",
       "        \n",
       "\n",
       "        circle_marker_31f4fc5004f549c4d122535035f5496e.bindPopup(popup_2fcc890b676e96090dfe7bb092f0c884)\n",
       "        ;\n",
       "\n",
       "        \n",
       "    \n",
       "    \n",
       "            circle_marker_31f4fc5004f549c4d122535035f5496e.bindTooltip(\n",
       "                `&lt;div&gt;\n",
       "                     Hotspot Risk: 12.3%\n",
       "                 &lt;/div&gt;`,\n",
       "                {\n",
       "  &quot;sticky&quot;: true,\n",
       "}\n",
       "            );\n",
       "        \n",
       "    \n",
       "            var circle_marker_d700e8f3565f65fe0781f166db422535 = L.circleMarker(\n",
       "                [-52.193808841766455, 27.68539846548928],\n",
       "                {&quot;bubblingMouseEvents&quot;: true, &quot;color&quot;: &quot;black&quot;, &quot;dashArray&quot;: null, &quot;dashOffset&quot;: null, &quot;fill&quot;: true, &quot;fillColor&quot;: &quot;green&quot;, &quot;fillOpacity&quot;: 0.7, &quot;fillRule&quot;: &quot;evenodd&quot;, &quot;lineCap&quot;: &quot;round&quot;, &quot;lineJoin&quot;: &quot;round&quot;, &quot;opacity&quot;: 1.0, &quot;radius&quot;: 3, &quot;stroke&quot;: true, &quot;weight&quot;: 1}\n",
       "            ).addTo(map_0f194e2aaa6e0c52ce4a98779fb6afef);\n",
       "        \n",
       "    \n",
       "        var popup_0debf22fe4ea81b3e9fff2684e6f8ce6 = L.popup({\n",
       "  &quot;maxWidth&quot;: 250,\n",
       "});\n",
       "\n",
       "        \n",
       "            \n",
       "                var html_8fb44197a540edcdf2c7dcb1504c025c = $(`&lt;div id=&quot;html_8fb44197a540edcdf2c7dcb1504c025c&quot; style=&quot;width: 100.0%; height: 100.0%;&quot;&gt;             &lt;div style=&quot;width: 200px;&quot;&gt;                 &lt;h4&gt;Marine Monitoring Point&lt;/h4&gt;                 &lt;p&gt;&lt;strong&gt;Coordinates:&lt;/strong&gt; -52.194, 27.685&lt;/p&gt;                 &lt;p&gt;&lt;strong&gt;Hotspot Probability:&lt;/strong&gt; -4.5%&lt;/p&gt;                 &lt;p&gt;&lt;strong&gt;Concentration:&lt;/strong&gt; 4.19 particles/m³&lt;/p&gt;                 &lt;p&gt;&lt;strong&gt;Water Temp:&lt;/strong&gt; 32.9°C&lt;/p&gt;                 &lt;p&gt;&lt;strong&gt;Current Speed:&lt;/strong&gt; 5.2 m/s&lt;/p&gt;                 &lt;p&gt;&lt;strong&gt;Date:&lt;/strong&gt; 2025-10-07&lt;/p&gt;             &lt;/div&gt;             &lt;/div&gt;`)[0];\n",
       "                popup_0debf22fe4ea81b3e9fff2684e6f8ce6.setContent(html_8fb44197a540edcdf2c7dcb1504c025c);\n",
       "            \n",
       "        \n",
       "\n",
       "        circle_marker_d700e8f3565f65fe0781f166db422535.bindPopup(popup_0debf22fe4ea81b3e9fff2684e6f8ce6)\n",
       "        ;\n",
       "\n",
       "        \n",
       "    \n",
       "    \n",
       "            circle_marker_d700e8f3565f65fe0781f166db422535.bindTooltip(\n",
       "                `&lt;div&gt;\n",
       "                     Hotspot Risk: -4.5%\n",
       "                 &lt;/div&gt;`,\n",
       "                {\n",
       "  &quot;sticky&quot;: true,\n",
       "}\n",
       "            );\n",
       "        \n",
       "    \n",
       "            var circle_marker_a1c82cb88dddd81188d077ba4e171315 = L.circleMarker(\n",
       "                [53.86626447039999, -2.693630225208996],\n",
       "                {&quot;bubblingMouseEvents&quot;: true, &quot;color&quot;: &quot;black&quot;, &quot;dashArray&quot;: null, &quot;dashOffset&quot;: null, &quot;fill&quot;: true, &quot;fillColor&quot;: &quot;green&quot;, &quot;fillOpacity&quot;: 0.7, &quot;fillRule&quot;: &quot;evenodd&quot;, &quot;lineCap&quot;: &quot;round&quot;, &quot;lineJoin&quot;: &quot;round&quot;, &quot;opacity&quot;: 1.0, &quot;radius&quot;: 3, &quot;stroke&quot;: true, &quot;weight&quot;: 1}\n",
       "            ).addTo(map_0f194e2aaa6e0c52ce4a98779fb6afef);\n",
       "        \n",
       "    \n",
       "        var popup_d1a4969117f351f20bf2b79000e724db = L.popup({\n",
       "  &quot;maxWidth&quot;: 250,\n",
       "});\n",
       "\n",
       "        \n",
       "            \n",
       "                var html_46f4a4b6d314126bde42d648417cd394 = $(`&lt;div id=&quot;html_46f4a4b6d314126bde42d648417cd394&quot; style=&quot;width: 100.0%; height: 100.0%;&quot;&gt;             &lt;div style=&quot;width: 200px;&quot;&gt;                 &lt;h4&gt;Marine Monitoring Point&lt;/h4&gt;                 &lt;p&gt;&lt;strong&gt;Coordinates:&lt;/strong&gt; 53.866, -2.694&lt;/p&gt;                 &lt;p&gt;&lt;strong&gt;Hotspot Probability:&lt;/strong&gt; -4.1%&lt;/p&gt;                 &lt;p&gt;&lt;strong&gt;Concentration:&lt;/strong&gt; 22.85 particles/m³&lt;/p&gt;                 &lt;p&gt;&lt;strong&gt;Water Temp:&lt;/strong&gt; 9.7°C&lt;/p&gt;                 &lt;p&gt;&lt;strong&gt;Current Speed:&lt;/strong&gt; 3.9 m/s&lt;/p&gt;                 &lt;p&gt;&lt;strong&gt;Date:&lt;/strong&gt; 2025-09-14&lt;/p&gt;             &lt;/div&gt;             &lt;/div&gt;`)[0];\n",
       "                popup_d1a4969117f351f20bf2b79000e724db.setContent(html_46f4a4b6d314126bde42d648417cd394);\n",
       "            \n",
       "        \n",
       "\n",
       "        circle_marker_a1c82cb88dddd81188d077ba4e171315.bindPopup(popup_d1a4969117f351f20bf2b79000e724db)\n",
       "        ;\n",
       "\n",
       "        \n",
       "    \n",
       "    \n",
       "            circle_marker_a1c82cb88dddd81188d077ba4e171315.bindTooltip(\n",
       "                `&lt;div&gt;\n",
       "                     Hotspot Risk: -4.1%\n",
       "                 &lt;/div&gt;`,\n",
       "                {\n",
       "  &quot;sticky&quot;: true,\n",
       "}\n",
       "            );\n",
       "        \n",
       "    \n",
       "            var circle_marker_4f3b2cdd66dae0ffbda7091a86fe7596 = L.circleMarker(\n",
       "                [55.87584396894712, -109.71252439270398],\n",
       "                {&quot;bubblingMouseEvents&quot;: true, &quot;color&quot;: &quot;black&quot;, &quot;dashArray&quot;: null, &quot;dashOffset&quot;: null, &quot;fill&quot;: true, &quot;fillColor&quot;: &quot;green&quot;, &quot;fillOpacity&quot;: 0.7, &quot;fillRule&quot;: &quot;evenodd&quot;, &quot;lineCap&quot;: &quot;round&quot;, &quot;lineJoin&quot;: &quot;round&quot;, &quot;opacity&quot;: 1.0, &quot;radius&quot;: 3, &quot;stroke&quot;: true, &quot;weight&quot;: 1}\n",
       "            ).addTo(map_0f194e2aaa6e0c52ce4a98779fb6afef);\n",
       "        \n",
       "    \n",
       "        var popup_d9d7dec04dfa70ef5c7b81710fbab1ea = L.popup({\n",
       "  &quot;maxWidth&quot;: 250,\n",
       "});\n",
       "\n",
       "        \n",
       "            \n",
       "                var html_e87373b364696f21fa54e580a0b022bd = $(`&lt;div id=&quot;html_e87373b364696f21fa54e580a0b022bd&quot; style=&quot;width: 100.0%; height: 100.0%;&quot;&gt;             &lt;div style=&quot;width: 200px;&quot;&gt;                 &lt;h4&gt;Marine Monitoring Point&lt;/h4&gt;                 &lt;p&gt;&lt;strong&gt;Coordinates:&lt;/strong&gt; 55.876, -109.713&lt;/p&gt;                 &lt;p&gt;&lt;strong&gt;Hotspot Probability:&lt;/strong&gt; 2.8%&lt;/p&gt;                 &lt;p&gt;&lt;strong&gt;Concentration:&lt;/strong&gt; 70.56 particles/m³&lt;/p&gt;                 &lt;p&gt;&lt;strong&gt;Water Temp:&lt;/strong&gt; -3.0°C&lt;/p&gt;                 &lt;p&gt;&lt;strong&gt;Current Speed:&lt;/strong&gt; 1.5 m/s&lt;/p&gt;                 &lt;p&gt;&lt;strong&gt;Date:&lt;/strong&gt; 2025-07-02&lt;/p&gt;             &lt;/div&gt;             &lt;/div&gt;`)[0];\n",
       "                popup_d9d7dec04dfa70ef5c7b81710fbab1ea.setContent(html_e87373b364696f21fa54e580a0b022bd);\n",
       "            \n",
       "        \n",
       "\n",
       "        circle_marker_4f3b2cdd66dae0ffbda7091a86fe7596.bindPopup(popup_d9d7dec04dfa70ef5c7b81710fbab1ea)\n",
       "        ;\n",
       "\n",
       "        \n",
       "    \n",
       "    \n",
       "            circle_marker_4f3b2cdd66dae0ffbda7091a86fe7596.bindTooltip(\n",
       "                `&lt;div&gt;\n",
       "                     Hotspot Risk: 2.8%\n",
       "                 &lt;/div&gt;`,\n",
       "                {\n",
       "  &quot;sticky&quot;: true,\n",
       "}\n",
       "            );\n",
       "        \n",
       "    \n",
       "            var circle_marker_0da33e308c4a3d43ff02b77ada4787c5 = L.circleMarker(\n",
       "                [37.007681773975335, 80.08276149414192],\n",
       "                {&quot;bubblingMouseEvents&quot;: true, &quot;color&quot;: &quot;black&quot;, &quot;dashArray&quot;: null, &quot;dashOffset&quot;: null, &quot;fill&quot;: true, &quot;fillColor&quot;: &quot;green&quot;, &quot;fillOpacity&quot;: 0.7, &quot;fillRule&quot;: &quot;evenodd&quot;, &quot;lineCap&quot;: &quot;round&quot;, &quot;lineJoin&quot;: &quot;round&quot;, &quot;opacity&quot;: 1.0, &quot;radius&quot;: 3, &quot;stroke&quot;: true, &quot;weight&quot;: 1}\n",
       "            ).addTo(map_0f194e2aaa6e0c52ce4a98779fb6afef);\n",
       "        \n",
       "    \n",
       "        var popup_662ad0bfc548e8721aa6a76fe1642aad = L.popup({\n",
       "  &quot;maxWidth&quot;: 250,\n",
       "});\n",
       "\n",
       "        \n",
       "            \n",
       "                var html_77b4d017dcc0e7ded786136d8d2353bf = $(`&lt;div id=&quot;html_77b4d017dcc0e7ded786136d8d2353bf&quot; style=&quot;width: 100.0%; height: 100.0%;&quot;&gt;             &lt;div style=&quot;width: 200px;&quot;&gt;                 &lt;h4&gt;Marine Monitoring Point&lt;/h4&gt;                 &lt;p&gt;&lt;strong&gt;Coordinates:&lt;/strong&gt; 37.008, 80.083&lt;/p&gt;                 &lt;p&gt;&lt;strong&gt;Hotspot Probability:&lt;/strong&gt; 7.9%&lt;/p&gt;                 &lt;p&gt;&lt;strong&gt;Concentration:&lt;/strong&gt; 4.16 particles/m³&lt;/p&gt;                 &lt;p&gt;&lt;strong&gt;Water Temp:&lt;/strong&gt; 8.0°C&lt;/p&gt;                 &lt;p&gt;&lt;strong&gt;Current Speed:&lt;/strong&gt; 11.5 m/s&lt;/p&gt;                 &lt;p&gt;&lt;strong&gt;Date:&lt;/strong&gt; 2025-03-26&lt;/p&gt;             &lt;/div&gt;             &lt;/div&gt;`)[0];\n",
       "                popup_662ad0bfc548e8721aa6a76fe1642aad.setContent(html_77b4d017dcc0e7ded786136d8d2353bf);\n",
       "            \n",
       "        \n",
       "\n",
       "        circle_marker_0da33e308c4a3d43ff02b77ada4787c5.bindPopup(popup_662ad0bfc548e8721aa6a76fe1642aad)\n",
       "        ;\n",
       "\n",
       "        \n",
       "    \n",
       "    \n",
       "            circle_marker_0da33e308c4a3d43ff02b77ada4787c5.bindTooltip(\n",
       "                `&lt;div&gt;\n",
       "                     Hotspot Risk: 7.9%\n",
       "                 &lt;/div&gt;`,\n",
       "                {\n",
       "  &quot;sticky&quot;: true,\n",
       "}\n",
       "            );\n",
       "        \n",
       "    \n",
       "            var circle_marker_ea715560f3649ff99fbf4512e0bf5c06 = L.circleMarker(\n",
       "                [-23.446347699195517, -78.9219495212919],\n",
       "                {&quot;bubblingMouseEvents&quot;: true, &quot;color&quot;: &quot;black&quot;, &quot;dashArray&quot;: null, &quot;dashOffset&quot;: null, &quot;fill&quot;: true, &quot;fillColor&quot;: &quot;green&quot;, &quot;fillOpacity&quot;: 0.7, &quot;fillRule&quot;: &quot;evenodd&quot;, &quot;lineCap&quot;: &quot;round&quot;, &quot;lineJoin&quot;: &quot;round&quot;, &quot;opacity&quot;: 1.0, &quot;radius&quot;: 3, &quot;stroke&quot;: true, &quot;weight&quot;: 1}\n",
       "            ).addTo(map_0f194e2aaa6e0c52ce4a98779fb6afef);\n",
       "        \n",
       "    \n",
       "        var popup_ab9ce1244fcbad33ac4596e2970c7b8f = L.popup({\n",
       "  &quot;maxWidth&quot;: 250,\n",
       "});\n",
       "\n",
       "        \n",
       "            \n",
       "                var html_f6c51b942c5ec2c3dc3e0f9b7766f489 = $(`&lt;div id=&quot;html_f6c51b942c5ec2c3dc3e0f9b7766f489&quot; style=&quot;width: 100.0%; height: 100.0%;&quot;&gt;             &lt;div style=&quot;width: 200px;&quot;&gt;                 &lt;h4&gt;Marine Monitoring Point&lt;/h4&gt;                 &lt;p&gt;&lt;strong&gt;Coordinates:&lt;/strong&gt; -23.446, -78.922&lt;/p&gt;                 &lt;p&gt;&lt;strong&gt;Hotspot Probability:&lt;/strong&gt; 13.1%&lt;/p&gt;                 &lt;p&gt;&lt;strong&gt;Concentration:&lt;/strong&gt; 21.89 particles/m³&lt;/p&gt;                 &lt;p&gt;&lt;strong&gt;Water Temp:&lt;/strong&gt; 13.6°C&lt;/p&gt;                 &lt;p&gt;&lt;strong&gt;Current Speed:&lt;/strong&gt; 2.8 m/s&lt;/p&gt;                 &lt;p&gt;&lt;strong&gt;Date:&lt;/strong&gt; 2025-04-12&lt;/p&gt;             &lt;/div&gt;             &lt;/div&gt;`)[0];\n",
       "                popup_ab9ce1244fcbad33ac4596e2970c7b8f.setContent(html_f6c51b942c5ec2c3dc3e0f9b7766f489);\n",
       "            \n",
       "        \n",
       "\n",
       "        circle_marker_ea715560f3649ff99fbf4512e0bf5c06.bindPopup(popup_ab9ce1244fcbad33ac4596e2970c7b8f)\n",
       "        ;\n",
       "\n",
       "        \n",
       "    \n",
       "    \n",
       "            circle_marker_ea715560f3649ff99fbf4512e0bf5c06.bindTooltip(\n",
       "                `&lt;div&gt;\n",
       "                     Hotspot Risk: 13.1%\n",
       "                 &lt;/div&gt;`,\n",
       "                {\n",
       "  &quot;sticky&quot;: true,\n",
       "}\n",
       "            );\n",
       "        \n",
       "    \n",
       "            var circle_marker_b85b68a9c4af86f6baa7ccabacd6d9bf = L.circleMarker(\n",
       "                [-48.27934631923394, -171.24625208467663],\n",
       "                {&quot;bubblingMouseEvents&quot;: true, &quot;color&quot;: &quot;black&quot;, &quot;dashArray&quot;: null, &quot;dashOffset&quot;: null, &quot;fill&quot;: true, &quot;fillColor&quot;: &quot;yellow&quot;, &quot;fillOpacity&quot;: 0.7, &quot;fillRule&quot;: &quot;evenodd&quot;, &quot;lineCap&quot;: &quot;round&quot;, &quot;lineJoin&quot;: &quot;round&quot;, &quot;opacity&quot;: 1.0, &quot;radius&quot;: 3.7130343254243283, &quot;stroke&quot;: true, &quot;weight&quot;: 1}\n",
       "            ).addTo(map_0f194e2aaa6e0c52ce4a98779fb6afef);\n",
       "        \n",
       "    \n",
       "        var popup_041bf7ac11c9c4aa1be41cea0ec85285 = L.popup({\n",
       "  &quot;maxWidth&quot;: 250,\n",
       "});\n",
       "\n",
       "        \n",
       "            \n",
       "                var html_3bdbf7d97c0cae7aaccea7d33161a0bd = $(`&lt;div id=&quot;html_3bdbf7d97c0cae7aaccea7d33161a0bd&quot; style=&quot;width: 100.0%; height: 100.0%;&quot;&gt;             &lt;div style=&quot;width: 200px;&quot;&gt;                 &lt;h4&gt;Marine Monitoring Point&lt;/h4&gt;                 &lt;p&gt;&lt;strong&gt;Coordinates:&lt;/strong&gt; -48.279, -171.246&lt;/p&gt;                 &lt;p&gt;&lt;strong&gt;Hotspot Probability:&lt;/strong&gt; 24.8%&lt;/p&gt;                 &lt;p&gt;&lt;strong&gt;Concentration:&lt;/strong&gt; 4.98 particles/m³&lt;/p&gt;                 &lt;p&gt;&lt;strong&gt;Water Temp:&lt;/strong&gt; 0.9°C&lt;/p&gt;                 &lt;p&gt;&lt;strong&gt;Current Speed:&lt;/strong&gt; 3.5 m/s&lt;/p&gt;                 &lt;p&gt;&lt;strong&gt;Date:&lt;/strong&gt; 2024-10-26&lt;/p&gt;             &lt;/div&gt;             &lt;/div&gt;`)[0];\n",
       "                popup_041bf7ac11c9c4aa1be41cea0ec85285.setContent(html_3bdbf7d97c0cae7aaccea7d33161a0bd);\n",
       "            \n",
       "        \n",
       "\n",
       "        circle_marker_b85b68a9c4af86f6baa7ccabacd6d9bf.bindPopup(popup_041bf7ac11c9c4aa1be41cea0ec85285)\n",
       "        ;\n",
       "\n",
       "        \n",
       "    \n",
       "    \n",
       "            circle_marker_b85b68a9c4af86f6baa7ccabacd6d9bf.bindTooltip(\n",
       "                `&lt;div&gt;\n",
       "                     Hotspot Risk: 24.8%\n",
       "                 &lt;/div&gt;`,\n",
       "                {\n",
       "  &quot;sticky&quot;: true,\n",
       "}\n",
       "            );\n",
       "        \n",
       "    \n",
       "            var circle_marker_37f4bc6a44478a2b82f6cbcd423f48d6 = L.circleMarker(\n",
       "                [22.107963181458828, 52.37002652658041],\n",
       "                {&quot;bubblingMouseEvents&quot;: true, &quot;color&quot;: &quot;black&quot;, &quot;dashArray&quot;: null, &quot;dashOffset&quot;: null, &quot;fill&quot;: true, &quot;fillColor&quot;: &quot;green&quot;, &quot;fillOpacity&quot;: 0.7, &quot;fillRule&quot;: &quot;evenodd&quot;, &quot;lineCap&quot;: &quot;round&quot;, &quot;lineJoin&quot;: &quot;round&quot;, &quot;opacity&quot;: 1.0, &quot;radius&quot;: 3, &quot;stroke&quot;: true, &quot;weight&quot;: 1}\n",
       "            ).addTo(map_0f194e2aaa6e0c52ce4a98779fb6afef);\n",
       "        \n",
       "    \n",
       "        var popup_260801a252e982e36b6c245893756a3e = L.popup({\n",
       "  &quot;maxWidth&quot;: 250,\n",
       "});\n",
       "\n",
       "        \n",
       "            \n",
       "                var html_762534d850ff045de6015b733421baf9 = $(`&lt;div id=&quot;html_762534d850ff045de6015b733421baf9&quot; style=&quot;width: 100.0%; height: 100.0%;&quot;&gt;             &lt;div style=&quot;width: 200px;&quot;&gt;                 &lt;h4&gt;Marine Monitoring Point&lt;/h4&gt;                 &lt;p&gt;&lt;strong&gt;Coordinates:&lt;/strong&gt; 22.108, 52.370&lt;/p&gt;                 &lt;p&gt;&lt;strong&gt;Hotspot Probability:&lt;/strong&gt; 18.6%&lt;/p&gt;                 &lt;p&gt;&lt;strong&gt;Concentration:&lt;/strong&gt; 1.42 particles/m³&lt;/p&gt;                 &lt;p&gt;&lt;strong&gt;Water Temp:&lt;/strong&gt; 14.4°C&lt;/p&gt;                 &lt;p&gt;&lt;strong&gt;Current Speed:&lt;/strong&gt; 4.5 m/s&lt;/p&gt;                 &lt;p&gt;&lt;strong&gt;Date:&lt;/strong&gt; 2025-07-04&lt;/p&gt;             &lt;/div&gt;             &lt;/div&gt;`)[0];\n",
       "                popup_260801a252e982e36b6c245893756a3e.setContent(html_762534d850ff045de6015b733421baf9);\n",
       "            \n",
       "        \n",
       "\n",
       "        circle_marker_37f4bc6a44478a2b82f6cbcd423f48d6.bindPopup(popup_260801a252e982e36b6c245893756a3e)\n",
       "        ;\n",
       "\n",
       "        \n",
       "    \n",
       "    \n",
       "            circle_marker_37f4bc6a44478a2b82f6cbcd423f48d6.bindTooltip(\n",
       "                `&lt;div&gt;\n",
       "                     Hotspot Risk: 18.6%\n",
       "                 &lt;/div&gt;`,\n",
       "                {\n",
       "  &quot;sticky&quot;: true,\n",
       "}\n",
       "            );\n",
       "        \n",
       "    \n",
       "            var circle_marker_292481b808388d7af0802ead879f4098 = L.circleMarker(\n",
       "                [-7.181700751247844, -116.24015541346238],\n",
       "                {&quot;bubblingMouseEvents&quot;: true, &quot;color&quot;: &quot;black&quot;, &quot;dashArray&quot;: null, &quot;dashOffset&quot;: null, &quot;fill&quot;: true, &quot;fillColor&quot;: &quot;green&quot;, &quot;fillOpacity&quot;: 0.7, &quot;fillRule&quot;: &quot;evenodd&quot;, &quot;lineCap&quot;: &quot;round&quot;, &quot;lineJoin&quot;: &quot;round&quot;, &quot;opacity&quot;: 1.0, &quot;radius&quot;: 3, &quot;stroke&quot;: true, &quot;weight&quot;: 1}\n",
       "            ).addTo(map_0f194e2aaa6e0c52ce4a98779fb6afef);\n",
       "        \n",
       "    \n",
       "        var popup_83ba312cfb07fe9bbdc747e40098dea8 = L.popup({\n",
       "  &quot;maxWidth&quot;: 250,\n",
       "});\n",
       "\n",
       "        \n",
       "            \n",
       "                var html_ace590077fd656228f9115333cd82d35 = $(`&lt;div id=&quot;html_ace590077fd656228f9115333cd82d35&quot; style=&quot;width: 100.0%; height: 100.0%;&quot;&gt;             &lt;div style=&quot;width: 200px;&quot;&gt;                 &lt;h4&gt;Marine Monitoring Point&lt;/h4&gt;                 &lt;p&gt;&lt;strong&gt;Coordinates:&lt;/strong&gt; -7.182, -116.240&lt;/p&gt;                 &lt;p&gt;&lt;strong&gt;Hotspot Probability:&lt;/strong&gt; 8.4%&lt;/p&gt;                 &lt;p&gt;&lt;strong&gt;Concentration:&lt;/strong&gt; 14.89 particles/m³&lt;/p&gt;                 &lt;p&gt;&lt;strong&gt;Water Temp:&lt;/strong&gt; 13.5°C&lt;/p&gt;                 &lt;p&gt;&lt;strong&gt;Current Speed:&lt;/strong&gt; 4.6 m/s&lt;/p&gt;                 &lt;p&gt;&lt;strong&gt;Date:&lt;/strong&gt; 2025-03-03&lt;/p&gt;             &lt;/div&gt;             &lt;/div&gt;`)[0];\n",
       "                popup_83ba312cfb07fe9bbdc747e40098dea8.setContent(html_ace590077fd656228f9115333cd82d35);\n",
       "            \n",
       "        \n",
       "\n",
       "        circle_marker_292481b808388d7af0802ead879f4098.bindPopup(popup_83ba312cfb07fe9bbdc747e40098dea8)\n",
       "        ;\n",
       "\n",
       "        \n",
       "    \n",
       "    \n",
       "            circle_marker_292481b808388d7af0802ead879f4098.bindTooltip(\n",
       "                `&lt;div&gt;\n",
       "                     Hotspot Risk: 8.4%\n",
       "                 &lt;/div&gt;`,\n",
       "                {\n",
       "  &quot;sticky&quot;: true,\n",
       "}\n",
       "            );\n",
       "        \n",
       "    \n",
       "            var circle_marker_369026dee5642813af79a664c8477ac1 = L.circleMarker(\n",
       "                [-45.35541181862654, 158.56509036704915],\n",
       "                {&quot;bubblingMouseEvents&quot;: true, &quot;color&quot;: &quot;black&quot;, &quot;dashArray&quot;: null, &quot;dashOffset&quot;: null, &quot;fill&quot;: true, &quot;fillColor&quot;: &quot;green&quot;, &quot;fillOpacity&quot;: 0.7, &quot;fillRule&quot;: &quot;evenodd&quot;, &quot;lineCap&quot;: &quot;round&quot;, &quot;lineJoin&quot;: &quot;round&quot;, &quot;opacity&quot;: 1.0, &quot;radius&quot;: 3, &quot;stroke&quot;: true, &quot;weight&quot;: 1}\n",
       "            ).addTo(map_0f194e2aaa6e0c52ce4a98779fb6afef);\n",
       "        \n",
       "    \n",
       "        var popup_bde6e0ac8e52ff3919aec7cc273a5251 = L.popup({\n",
       "  &quot;maxWidth&quot;: 250,\n",
       "});\n",
       "\n",
       "        \n",
       "            \n",
       "                var html_4ecb7fa42d153419428d35dfd9a27c81 = $(`&lt;div id=&quot;html_4ecb7fa42d153419428d35dfd9a27c81&quot; style=&quot;width: 100.0%; height: 100.0%;&quot;&gt;             &lt;div style=&quot;width: 200px;&quot;&gt;                 &lt;h4&gt;Marine Monitoring Point&lt;/h4&gt;                 &lt;p&gt;&lt;strong&gt;Coordinates:&lt;/strong&gt; -45.355, 158.565&lt;/p&gt;                 &lt;p&gt;&lt;strong&gt;Hotspot Probability:&lt;/strong&gt; 9.8%&lt;/p&gt;                 &lt;p&gt;&lt;strong&gt;Concentration:&lt;/strong&gt; 9.34 particles/m³&lt;/p&gt;                 &lt;p&gt;&lt;strong&gt;Water Temp:&lt;/strong&gt; 16.0°C&lt;/p&gt;                 &lt;p&gt;&lt;strong&gt;Current Speed:&lt;/strong&gt; 0.3 m/s&lt;/p&gt;                 &lt;p&gt;&lt;strong&gt;Date:&lt;/strong&gt; 2025-04-06&lt;/p&gt;             &lt;/div&gt;             &lt;/div&gt;`)[0];\n",
       "                popup_bde6e0ac8e52ff3919aec7cc273a5251.setContent(html_4ecb7fa42d153419428d35dfd9a27c81);\n",
       "            \n",
       "        \n",
       "\n",
       "        circle_marker_369026dee5642813af79a664c8477ac1.bindPopup(popup_bde6e0ac8e52ff3919aec7cc273a5251)\n",
       "        ;\n",
       "\n",
       "        \n",
       "    \n",
       "    \n",
       "            circle_marker_369026dee5642813af79a664c8477ac1.bindTooltip(\n",
       "                `&lt;div&gt;\n",
       "                     Hotspot Risk: 9.8%\n",
       "                 &lt;/div&gt;`,\n",
       "                {\n",
       "  &quot;sticky&quot;: true,\n",
       "}\n",
       "            );\n",
       "        \n",
       "    \n",
       "            var circle_marker_ecb0012ba78f4ec8843abfd54025fcc5 = L.circleMarker(\n",
       "                [-0.5787707866475778, 163.41428772093144],\n",
       "                {&quot;bubblingMouseEvents&quot;: true, &quot;color&quot;: &quot;black&quot;, &quot;dashArray&quot;: null, &quot;dashOffset&quot;: null, &quot;fill&quot;: true, &quot;fillColor&quot;: &quot;yellow&quot;, &quot;fillOpacity&quot;: 0.7, &quot;fillRule&quot;: &quot;evenodd&quot;, &quot;lineCap&quot;: &quot;round&quot;, &quot;lineJoin&quot;: &quot;round&quot;, &quot;opacity&quot;: 1.0, &quot;radius&quot;: 4.496205953043288, &quot;stroke&quot;: true, &quot;weight&quot;: 1}\n",
       "            ).addTo(map_0f194e2aaa6e0c52ce4a98779fb6afef);\n",
       "        \n",
       "    \n",
       "        var popup_df63e463da34478b70025c6faf2df7ff = L.popup({\n",
       "  &quot;maxWidth&quot;: 250,\n",
       "});\n",
       "\n",
       "        \n",
       "            \n",
       "                var html_39944d6a41c1d3688e6e22b5eca11743 = $(`&lt;div id=&quot;html_39944d6a41c1d3688e6e22b5eca11743&quot; style=&quot;width: 100.0%; height: 100.0%;&quot;&gt;             &lt;div style=&quot;width: 200px;&quot;&gt;                 &lt;h4&gt;Marine Monitoring Point&lt;/h4&gt;                 &lt;p&gt;&lt;strong&gt;Coordinates:&lt;/strong&gt; -0.579, 163.414&lt;/p&gt;                 &lt;p&gt;&lt;strong&gt;Hotspot Probability:&lt;/strong&gt; 30.0%&lt;/p&gt;                 &lt;p&gt;&lt;strong&gt;Concentration:&lt;/strong&gt; 45.51 particles/m³&lt;/p&gt;                 &lt;p&gt;&lt;strong&gt;Water Temp:&lt;/strong&gt; 16.8°C&lt;/p&gt;                 &lt;p&gt;&lt;strong&gt;Current Speed:&lt;/strong&gt; 1.8 m/s&lt;/p&gt;                 &lt;p&gt;&lt;strong&gt;Date:&lt;/strong&gt; 2024-10-29&lt;/p&gt;             &lt;/div&gt;             &lt;/div&gt;`)[0];\n",
       "                popup_df63e463da34478b70025c6faf2df7ff.setContent(html_39944d6a41c1d3688e6e22b5eca11743);\n",
       "            \n",
       "        \n",
       "\n",
       "        circle_marker_ecb0012ba78f4ec8843abfd54025fcc5.bindPopup(popup_df63e463da34478b70025c6faf2df7ff)\n",
       "        ;\n",
       "\n",
       "        \n",
       "    \n",
       "    \n",
       "            circle_marker_ecb0012ba78f4ec8843abfd54025fcc5.bindTooltip(\n",
       "                `&lt;div&gt;\n",
       "                     Hotspot Risk: 30.0%\n",
       "                 &lt;/div&gt;`,\n",
       "                {\n",
       "  &quot;sticky&quot;: true,\n",
       "}\n",
       "            );\n",
       "        \n",
       "    \n",
       "            var circle_marker_6616747a8ef3cb04e4465484365e0d39 = L.circleMarker(\n",
       "                [-55.87337746617379, 149.35118047936146],\n",
       "                {&quot;bubblingMouseEvents&quot;: true, &quot;color&quot;: &quot;black&quot;, &quot;dashArray&quot;: null, &quot;dashOffset&quot;: null, &quot;fill&quot;: true, &quot;fillColor&quot;: &quot;green&quot;, &quot;fillOpacity&quot;: 0.7, &quot;fillRule&quot;: &quot;evenodd&quot;, &quot;lineCap&quot;: &quot;round&quot;, &quot;lineJoin&quot;: &quot;round&quot;, &quot;opacity&quot;: 1.0, &quot;radius&quot;: 3, &quot;stroke&quot;: true, &quot;weight&quot;: 1}\n",
       "            ).addTo(map_0f194e2aaa6e0c52ce4a98779fb6afef);\n",
       "        \n",
       "    \n",
       "        var popup_c99cc793f2ca2661c9adff4802ad272a = L.popup({\n",
       "  &quot;maxWidth&quot;: 250,\n",
       "});\n",
       "\n",
       "        \n",
       "            \n",
       "                var html_4f716d2fe2341a2b176cccb2e3b86d35 = $(`&lt;div id=&quot;html_4f716d2fe2341a2b176cccb2e3b86d35&quot; style=&quot;width: 100.0%; height: 100.0%;&quot;&gt;             &lt;div style=&quot;width: 200px;&quot;&gt;                 &lt;h4&gt;Marine Monitoring Point&lt;/h4&gt;                 &lt;p&gt;&lt;strong&gt;Coordinates:&lt;/strong&gt; -55.873, 149.351&lt;/p&gt;                 &lt;p&gt;&lt;strong&gt;Hotspot Probability:&lt;/strong&gt; 9.8%&lt;/p&gt;                 &lt;p&gt;&lt;strong&gt;Concentration:&lt;/strong&gt; 1.59 particles/m³&lt;/p&gt;                 &lt;p&gt;&lt;strong&gt;Water Temp:&lt;/strong&gt; 7.3°C&lt;/p&gt;                 &lt;p&gt;&lt;strong&gt;Current Speed:&lt;/strong&gt; 4.8 m/s&lt;/p&gt;                 &lt;p&gt;&lt;strong&gt;Date:&lt;/strong&gt; 2025-04-02&lt;/p&gt;             &lt;/div&gt;             &lt;/div&gt;`)[0];\n",
       "                popup_c99cc793f2ca2661c9adff4802ad272a.setContent(html_4f716d2fe2341a2b176cccb2e3b86d35);\n",
       "            \n",
       "        \n",
       "\n",
       "        circle_marker_6616747a8ef3cb04e4465484365e0d39.bindPopup(popup_c99cc793f2ca2661c9adff4802ad272a)\n",
       "        ;\n",
       "\n",
       "        \n",
       "    \n",
       "    \n",
       "            circle_marker_6616747a8ef3cb04e4465484365e0d39.bindTooltip(\n",
       "                `&lt;div&gt;\n",
       "                     Hotspot Risk: 9.8%\n",
       "                 &lt;/div&gt;`,\n",
       "                {\n",
       "  &quot;sticky&quot;: true,\n",
       "}\n",
       "            );\n",
       "        \n",
       "    \n",
       "            var circle_marker_ce29083fcd94482c783e5e8069305c11 = L.circleMarker(\n",
       "                [49.11844824945385, -46.74286790804002],\n",
       "                {&quot;bubblingMouseEvents&quot;: true, &quot;color&quot;: &quot;black&quot;, &quot;dashArray&quot;: null, &quot;dashOffset&quot;: null, &quot;fill&quot;: true, &quot;fillColor&quot;: &quot;green&quot;, &quot;fillOpacity&quot;: 0.7, &quot;fillRule&quot;: &quot;evenodd&quot;, &quot;lineCap&quot;: &quot;round&quot;, &quot;lineJoin&quot;: &quot;round&quot;, &quot;opacity&quot;: 1.0, &quot;radius&quot;: 3, &quot;stroke&quot;: true, &quot;weight&quot;: 1}\n",
       "            ).addTo(map_0f194e2aaa6e0c52ce4a98779fb6afef);\n",
       "        \n",
       "    \n",
       "        var popup_3ccd2826c191c9da8ee521fd49901d4c = L.popup({\n",
       "  &quot;maxWidth&quot;: 250,\n",
       "});\n",
       "\n",
       "        \n",
       "            \n",
       "                var html_39f2b23af6ef6197d39742e2b65308d9 = $(`&lt;div id=&quot;html_39f2b23af6ef6197d39742e2b65308d9&quot; style=&quot;width: 100.0%; height: 100.0%;&quot;&gt;             &lt;div style=&quot;width: 200px;&quot;&gt;                 &lt;h4&gt;Marine Monitoring Point&lt;/h4&gt;                 &lt;p&gt;&lt;strong&gt;Coordinates:&lt;/strong&gt; 49.118, -46.743&lt;/p&gt;                 &lt;p&gt;&lt;strong&gt;Hotspot Probability:&lt;/strong&gt; 7.1%&lt;/p&gt;                 &lt;p&gt;&lt;strong&gt;Concentration:&lt;/strong&gt; 121.03 particles/m³&lt;/p&gt;                 &lt;p&gt;&lt;strong&gt;Water Temp:&lt;/strong&gt; 8.2°C&lt;/p&gt;                 &lt;p&gt;&lt;strong&gt;Current Speed:&lt;/strong&gt; 2.3 m/s&lt;/p&gt;                 &lt;p&gt;&lt;strong&gt;Date:&lt;/strong&gt; 2025-02-23&lt;/p&gt;             &lt;/div&gt;             &lt;/div&gt;`)[0];\n",
       "                popup_3ccd2826c191c9da8ee521fd49901d4c.setContent(html_39f2b23af6ef6197d39742e2b65308d9);\n",
       "            \n",
       "        \n",
       "\n",
       "        circle_marker_ce29083fcd94482c783e5e8069305c11.bindPopup(popup_3ccd2826c191c9da8ee521fd49901d4c)\n",
       "        ;\n",
       "\n",
       "        \n",
       "    \n",
       "    \n",
       "            circle_marker_ce29083fcd94482c783e5e8069305c11.bindTooltip(\n",
       "                `&lt;div&gt;\n",
       "                     Hotspot Risk: 7.1%\n",
       "                 &lt;/div&gt;`,\n",
       "                {\n",
       "  &quot;sticky&quot;: true,\n",
       "}\n",
       "            );\n",
       "        \n",
       "    \n",
       "            var circle_marker_fbb58d273744b4fecbda020946796235 = L.circleMarker(\n",
       "                [-28.94640220799797, -174.43561804960774],\n",
       "                {&quot;bubblingMouseEvents&quot;: true, &quot;color&quot;: &quot;black&quot;, &quot;dashArray&quot;: null, &quot;dashOffset&quot;: null, &quot;fill&quot;: true, &quot;fillColor&quot;: &quot;green&quot;, &quot;fillOpacity&quot;: 0.7, &quot;fillRule&quot;: &quot;evenodd&quot;, &quot;lineCap&quot;: &quot;round&quot;, &quot;lineJoin&quot;: &quot;round&quot;, &quot;opacity&quot;: 1.0, &quot;radius&quot;: 3, &quot;stroke&quot;: true, &quot;weight&quot;: 1}\n",
       "            ).addTo(map_0f194e2aaa6e0c52ce4a98779fb6afef);\n",
       "        \n",
       "    \n",
       "        var popup_8c0e2a7ad5172629ad5c43a9cb8157c9 = L.popup({\n",
       "  &quot;maxWidth&quot;: 250,\n",
       "});\n",
       "\n",
       "        \n",
       "            \n",
       "                var html_c84bd71362d37fa91cc8c0460c5edb57 = $(`&lt;div id=&quot;html_c84bd71362d37fa91cc8c0460c5edb57&quot; style=&quot;width: 100.0%; height: 100.0%;&quot;&gt;             &lt;div style=&quot;width: 200px;&quot;&gt;                 &lt;h4&gt;Marine Monitoring Point&lt;/h4&gt;                 &lt;p&gt;&lt;strong&gt;Coordinates:&lt;/strong&gt; -28.946, -174.436&lt;/p&gt;                 &lt;p&gt;&lt;strong&gt;Hotspot Probability:&lt;/strong&gt; 13.2%&lt;/p&gt;                 &lt;p&gt;&lt;strong&gt;Concentration:&lt;/strong&gt; 36.30 particles/m³&lt;/p&gt;                 &lt;p&gt;&lt;strong&gt;Water Temp:&lt;/strong&gt; 15.4°C&lt;/p&gt;                 &lt;p&gt;&lt;strong&gt;Current Speed:&lt;/strong&gt; 2.0 m/s&lt;/p&gt;                 &lt;p&gt;&lt;strong&gt;Date:&lt;/strong&gt; 2025-01-08&lt;/p&gt;             &lt;/div&gt;             &lt;/div&gt;`)[0];\n",
       "                popup_8c0e2a7ad5172629ad5c43a9cb8157c9.setContent(html_c84bd71362d37fa91cc8c0460c5edb57);\n",
       "            \n",
       "        \n",
       "\n",
       "        circle_marker_fbb58d273744b4fecbda020946796235.bindPopup(popup_8c0e2a7ad5172629ad5c43a9cb8157c9)\n",
       "        ;\n",
       "\n",
       "        \n",
       "    \n",
       "    \n",
       "            circle_marker_fbb58d273744b4fecbda020946796235.bindTooltip(\n",
       "                `&lt;div&gt;\n",
       "                     Hotspot Risk: 13.2%\n",
       "                 &lt;/div&gt;`,\n",
       "                {\n",
       "  &quot;sticky&quot;: true,\n",
       "}\n",
       "            );\n",
       "        \n",
       "    \n",
       "            var circle_marker_d9f0dfc8ab309e958ca2ef8416822b2c = L.circleMarker(\n",
       "                [19.502674122477835, 154.19468253158115],\n",
       "                {&quot;bubblingMouseEvents&quot;: true, &quot;color&quot;: &quot;black&quot;, &quot;dashArray&quot;: null, &quot;dashOffset&quot;: null, &quot;fill&quot;: true, &quot;fillColor&quot;: &quot;green&quot;, &quot;fillOpacity&quot;: 0.7, &quot;fillRule&quot;: &quot;evenodd&quot;, &quot;lineCap&quot;: &quot;round&quot;, &quot;lineJoin&quot;: &quot;round&quot;, &quot;opacity&quot;: 1.0, &quot;radius&quot;: 3, &quot;stroke&quot;: true, &quot;weight&quot;: 1}\n",
       "            ).addTo(map_0f194e2aaa6e0c52ce4a98779fb6afef);\n",
       "        \n",
       "    \n",
       "        var popup_7f8604e7643e53f44dfefd3e7c873a01 = L.popup({\n",
       "  &quot;maxWidth&quot;: 250,\n",
       "});\n",
       "\n",
       "        \n",
       "            \n",
       "                var html_922d74cc0c00a89c0cff1786a3b0e8c9 = $(`&lt;div id=&quot;html_922d74cc0c00a89c0cff1786a3b0e8c9&quot; style=&quot;width: 100.0%; height: 100.0%;&quot;&gt;             &lt;div style=&quot;width: 200px;&quot;&gt;                 &lt;h4&gt;Marine Monitoring Point&lt;/h4&gt;                 &lt;p&gt;&lt;strong&gt;Coordinates:&lt;/strong&gt; 19.503, 154.195&lt;/p&gt;                 &lt;p&gt;&lt;strong&gt;Hotspot Probability:&lt;/strong&gt; 1.7%&lt;/p&gt;                 &lt;p&gt;&lt;strong&gt;Concentration:&lt;/strong&gt; 7.26 particles/m³&lt;/p&gt;                 &lt;p&gt;&lt;strong&gt;Water Temp:&lt;/strong&gt; 10.0°C&lt;/p&gt;                 &lt;p&gt;&lt;strong&gt;Current Speed:&lt;/strong&gt; 3.1 m/s&lt;/p&gt;                 &lt;p&gt;&lt;strong&gt;Date:&lt;/strong&gt; 2025-09-02&lt;/p&gt;             &lt;/div&gt;             &lt;/div&gt;`)[0];\n",
       "                popup_7f8604e7643e53f44dfefd3e7c873a01.setContent(html_922d74cc0c00a89c0cff1786a3b0e8c9);\n",
       "            \n",
       "        \n",
       "\n",
       "        circle_marker_d9f0dfc8ab309e958ca2ef8416822b2c.bindPopup(popup_7f8604e7643e53f44dfefd3e7c873a01)\n",
       "        ;\n",
       "\n",
       "        \n",
       "    \n",
       "    \n",
       "            circle_marker_d9f0dfc8ab309e958ca2ef8416822b2c.bindTooltip(\n",
       "                `&lt;div&gt;\n",
       "                     Hotspot Risk: 1.7%\n",
       "                 &lt;/div&gt;`,\n",
       "                {\n",
       "  &quot;sticky&quot;: true,\n",
       "}\n",
       "            );\n",
       "        \n",
       "    \n",
       "            var circle_marker_2540b1c9805996ca528a4f22b60c49cf = L.circleMarker(\n",
       "                [-22.594670869270686, -25.853706605766842],\n",
       "                {&quot;bubblingMouseEvents&quot;: true, &quot;color&quot;: &quot;black&quot;, &quot;dashArray&quot;: null, &quot;dashOffset&quot;: null, &quot;fill&quot;: true, &quot;fillColor&quot;: &quot;green&quot;, &quot;fillOpacity&quot;: 0.7, &quot;fillRule&quot;: &quot;evenodd&quot;, &quot;lineCap&quot;: &quot;round&quot;, &quot;lineJoin&quot;: &quot;round&quot;, &quot;opacity&quot;: 1.0, &quot;radius&quot;: 3, &quot;stroke&quot;: true, &quot;weight&quot;: 1}\n",
       "            ).addTo(map_0f194e2aaa6e0c52ce4a98779fb6afef);\n",
       "        \n",
       "    \n",
       "        var popup_c6a51bf9f9cbcbe357c3b3216d5ad64a = L.popup({\n",
       "  &quot;maxWidth&quot;: 250,\n",
       "});\n",
       "\n",
       "        \n",
       "            \n",
       "                var html_a588dfb129bf82732fadc05635387d7f = $(`&lt;div id=&quot;html_a588dfb129bf82732fadc05635387d7f&quot; style=&quot;width: 100.0%; height: 100.0%;&quot;&gt;             &lt;div style=&quot;width: 200px;&quot;&gt;                 &lt;h4&gt;Marine Monitoring Point&lt;/h4&gt;                 &lt;p&gt;&lt;strong&gt;Coordinates:&lt;/strong&gt; -22.595, -25.854&lt;/p&gt;                 &lt;p&gt;&lt;strong&gt;Hotspot Probability:&lt;/strong&gt; 15.2%&lt;/p&gt;                 &lt;p&gt;&lt;strong&gt;Concentration:&lt;/strong&gt; 5.48 particles/m³&lt;/p&gt;                 &lt;p&gt;&lt;strong&gt;Water Temp:&lt;/strong&gt; 22.3°C&lt;/p&gt;                 &lt;p&gt;&lt;strong&gt;Current Speed:&lt;/strong&gt; 3.3 m/s&lt;/p&gt;                 &lt;p&gt;&lt;strong&gt;Date:&lt;/strong&gt; 2025-08-31&lt;/p&gt;             &lt;/div&gt;             &lt;/div&gt;`)[0];\n",
       "                popup_c6a51bf9f9cbcbe357c3b3216d5ad64a.setContent(html_a588dfb129bf82732fadc05635387d7f);\n",
       "            \n",
       "        \n",
       "\n",
       "        circle_marker_2540b1c9805996ca528a4f22b60c49cf.bindPopup(popup_c6a51bf9f9cbcbe357c3b3216d5ad64a)\n",
       "        ;\n",
       "\n",
       "        \n",
       "    \n",
       "    \n",
       "            circle_marker_2540b1c9805996ca528a4f22b60c49cf.bindTooltip(\n",
       "                `&lt;div&gt;\n",
       "                     Hotspot Risk: 15.2%\n",
       "                 &lt;/div&gt;`,\n",
       "                {\n",
       "  &quot;sticky&quot;: true,\n",
       "}\n",
       "            );\n",
       "        \n",
       "    \n",
       "            var circle_marker_b2250dea76f27312efd81ea64a59b015 = L.circleMarker(\n",
       "                [2.4081625413372976, 167.99573485572105],\n",
       "                {&quot;bubblingMouseEvents&quot;: true, &quot;color&quot;: &quot;black&quot;, &quot;dashArray&quot;: null, &quot;dashOffset&quot;: null, &quot;fill&quot;: true, &quot;fillColor&quot;: &quot;orange&quot;, &quot;fillOpacity&quot;: 0.7, &quot;fillRule&quot;: &quot;evenodd&quot;, &quot;lineCap&quot;: &quot;round&quot;, &quot;lineJoin&quot;: &quot;round&quot;, &quot;opacity&quot;: 1.0, &quot;radius&quot;: 8.299108369503868, &quot;stroke&quot;: true, &quot;weight&quot;: 1}\n",
       "            ).addTo(map_0f194e2aaa6e0c52ce4a98779fb6afef);\n",
       "        \n",
       "    \n",
       "        var popup_b072965b84ac1c21070b15742c1ed02a = L.popup({\n",
       "  &quot;maxWidth&quot;: 250,\n",
       "});\n",
       "\n",
       "        \n",
       "            \n",
       "                var html_ea1a03614be3207b28f54a9c497006e8 = $(`&lt;div id=&quot;html_ea1a03614be3207b28f54a9c497006e8&quot; style=&quot;width: 100.0%; height: 100.0%;&quot;&gt;             &lt;div style=&quot;width: 200px;&quot;&gt;                 &lt;h4&gt;Marine Monitoring Point&lt;/h4&gt;                 &lt;p&gt;&lt;strong&gt;Coordinates:&lt;/strong&gt; 2.408, 167.996&lt;/p&gt;                 &lt;p&gt;&lt;strong&gt;Hotspot Probability:&lt;/strong&gt; 55.3%&lt;/p&gt;                 &lt;p&gt;&lt;strong&gt;Concentration:&lt;/strong&gt; 3.61 particles/m³&lt;/p&gt;                 &lt;p&gt;&lt;strong&gt;Water Temp:&lt;/strong&gt; 15.3°C&lt;/p&gt;                 &lt;p&gt;&lt;strong&gt;Current Speed:&lt;/strong&gt; 4.4 m/s&lt;/p&gt;                 &lt;p&gt;&lt;strong&gt;Date:&lt;/strong&gt; 2025-01-25&lt;/p&gt;             &lt;/div&gt;             &lt;/div&gt;`)[0];\n",
       "                popup_b072965b84ac1c21070b15742c1ed02a.setContent(html_ea1a03614be3207b28f54a9c497006e8);\n",
       "            \n",
       "        \n",
       "\n",
       "        circle_marker_b2250dea76f27312efd81ea64a59b015.bindPopup(popup_b072965b84ac1c21070b15742c1ed02a)\n",
       "        ;\n",
       "\n",
       "        \n",
       "    \n",
       "    \n",
       "            circle_marker_b2250dea76f27312efd81ea64a59b015.bindTooltip(\n",
       "                `&lt;div&gt;\n",
       "                     Hotspot Risk: 55.3%\n",
       "                 &lt;/div&gt;`,\n",
       "                {\n",
       "  &quot;sticky&quot;: true,\n",
       "}\n",
       "            );\n",
       "        \n",
       "    \n",
       "            var circle_marker_88920be06276c8e85eff39e8e4999fca = L.circleMarker(\n",
       "                [5.605233521193558, 166.90319175213102],\n",
       "                {&quot;bubblingMouseEvents&quot;: true, &quot;color&quot;: &quot;black&quot;, &quot;dashArray&quot;: null, &quot;dashOffset&quot;: null, &quot;fill&quot;: true, &quot;fillColor&quot;: &quot;yellow&quot;, &quot;fillOpacity&quot;: 0.7, &quot;fillRule&quot;: &quot;evenodd&quot;, &quot;lineCap&quot;: &quot;round&quot;, &quot;lineJoin&quot;: &quot;round&quot;, &quot;opacity&quot;: 1.0, &quot;radius&quot;: 5.8368597773147135, &quot;stroke&quot;: true, &quot;weight&quot;: 1}\n",
       "            ).addTo(map_0f194e2aaa6e0c52ce4a98779fb6afef);\n",
       "        \n",
       "    \n",
       "        var popup_08a771db4e142291f955361b6fd4abf1 = L.popup({\n",
       "  &quot;maxWidth&quot;: 250,\n",
       "});\n",
       "\n",
       "        \n",
       "            \n",
       "                var html_1bca35882ebaf094b90567c4f11eeae9 = $(`&lt;div id=&quot;html_1bca35882ebaf094b90567c4f11eeae9&quot; style=&quot;width: 100.0%; height: 100.0%;&quot;&gt;             &lt;div style=&quot;width: 200px;&quot;&gt;                 &lt;h4&gt;Marine Monitoring Point&lt;/h4&gt;                 &lt;p&gt;&lt;strong&gt;Coordinates:&lt;/strong&gt; 5.605, 166.903&lt;/p&gt;                 &lt;p&gt;&lt;strong&gt;Hotspot Probability:&lt;/strong&gt; 38.9%&lt;/p&gt;                 &lt;p&gt;&lt;strong&gt;Concentration:&lt;/strong&gt; 8.25 particles/m³&lt;/p&gt;                 &lt;p&gt;&lt;strong&gt;Water Temp:&lt;/strong&gt; 29.9°C&lt;/p&gt;                 &lt;p&gt;&lt;strong&gt;Current Speed:&lt;/strong&gt; 4.8 m/s&lt;/p&gt;                 &lt;p&gt;&lt;strong&gt;Date:&lt;/strong&gt; 2025-09-10&lt;/p&gt;             &lt;/div&gt;             &lt;/div&gt;`)[0];\n",
       "                popup_08a771db4e142291f955361b6fd4abf1.setContent(html_1bca35882ebaf094b90567c4f11eeae9);\n",
       "            \n",
       "        \n",
       "\n",
       "        circle_marker_88920be06276c8e85eff39e8e4999fca.bindPopup(popup_08a771db4e142291f955361b6fd4abf1)\n",
       "        ;\n",
       "\n",
       "        \n",
       "    \n",
       "    \n",
       "            circle_marker_88920be06276c8e85eff39e8e4999fca.bindTooltip(\n",
       "                `&lt;div&gt;\n",
       "                     Hotspot Risk: 38.9%\n",
       "                 &lt;/div&gt;`,\n",
       "                {\n",
       "  &quot;sticky&quot;: true,\n",
       "}\n",
       "            );\n",
       "        \n",
       "    \n",
       "            var circle_marker_dcf23f510e6868e36f1c9c10f313ba3b = L.circleMarker(\n",
       "                [-37.817465336936756, 127.08340396824963],\n",
       "                {&quot;bubblingMouseEvents&quot;: true, &quot;color&quot;: &quot;black&quot;, &quot;dashArray&quot;: null, &quot;dashOffset&quot;: null, &quot;fill&quot;: true, &quot;fillColor&quot;: &quot;green&quot;, &quot;fillOpacity&quot;: 0.7, &quot;fillRule&quot;: &quot;evenodd&quot;, &quot;lineCap&quot;: &quot;round&quot;, &quot;lineJoin&quot;: &quot;round&quot;, &quot;opacity&quot;: 1.0, &quot;radius&quot;: 3, &quot;stroke&quot;: true, &quot;weight&quot;: 1}\n",
       "            ).addTo(map_0f194e2aaa6e0c52ce4a98779fb6afef);\n",
       "        \n",
       "    \n",
       "        var popup_58b1ba2cfa02fc263ed9e5effa647663 = L.popup({\n",
       "  &quot;maxWidth&quot;: 250,\n",
       "});\n",
       "\n",
       "        \n",
       "            \n",
       "                var html_df0a0897e03c9e7887926796727a6860 = $(`&lt;div id=&quot;html_df0a0897e03c9e7887926796727a6860&quot; style=&quot;width: 100.0%; height: 100.0%;&quot;&gt;             &lt;div style=&quot;width: 200px;&quot;&gt;                 &lt;h4&gt;Marine Monitoring Point&lt;/h4&gt;                 &lt;p&gt;&lt;strong&gt;Coordinates:&lt;/strong&gt; -37.817, 127.083&lt;/p&gt;                 &lt;p&gt;&lt;strong&gt;Hotspot Probability:&lt;/strong&gt; 14.0%&lt;/p&gt;                 &lt;p&gt;&lt;strong&gt;Concentration:&lt;/strong&gt; 6.15 particles/m³&lt;/p&gt;                 &lt;p&gt;&lt;strong&gt;Water Temp:&lt;/strong&gt; 21.6°C&lt;/p&gt;                 &lt;p&gt;&lt;strong&gt;Current Speed:&lt;/strong&gt; 3.8 m/s&lt;/p&gt;                 &lt;p&gt;&lt;strong&gt;Date:&lt;/strong&gt; 2025-07-16&lt;/p&gt;             &lt;/div&gt;             &lt;/div&gt;`)[0];\n",
       "                popup_58b1ba2cfa02fc263ed9e5effa647663.setContent(html_df0a0897e03c9e7887926796727a6860);\n",
       "            \n",
       "        \n",
       "\n",
       "        circle_marker_dcf23f510e6868e36f1c9c10f313ba3b.bindPopup(popup_58b1ba2cfa02fc263ed9e5effa647663)\n",
       "        ;\n",
       "\n",
       "        \n",
       "    \n",
       "    \n",
       "            circle_marker_dcf23f510e6868e36f1c9c10f313ba3b.bindTooltip(\n",
       "                `&lt;div&gt;\n",
       "                     Hotspot Risk: 14.0%\n",
       "                 &lt;/div&gt;`,\n",
       "                {\n",
       "  &quot;sticky&quot;: true,\n",
       "}\n",
       "            );\n",
       "        \n",
       "    \n",
       "            var circle_marker_61ecb048e54f0c0c0abaa17ab23db4c3 = L.circleMarker(\n",
       "                [56.350155331747025, -73.99839885494916],\n",
       "                {&quot;bubblingMouseEvents&quot;: true, &quot;color&quot;: &quot;black&quot;, &quot;dashArray&quot;: null, &quot;dashOffset&quot;: null, &quot;fill&quot;: true, &quot;fillColor&quot;: &quot;green&quot;, &quot;fillOpacity&quot;: 0.7, &quot;fillRule&quot;: &quot;evenodd&quot;, &quot;lineCap&quot;: &quot;round&quot;, &quot;lineJoin&quot;: &quot;round&quot;, &quot;opacity&quot;: 1.0, &quot;radius&quot;: 3, &quot;stroke&quot;: true, &quot;weight&quot;: 1}\n",
       "            ).addTo(map_0f194e2aaa6e0c52ce4a98779fb6afef);\n",
       "        \n",
       "    \n",
       "        var popup_6cac54d4e519c504b0cf2da46d013406 = L.popup({\n",
       "  &quot;maxWidth&quot;: 250,\n",
       "});\n",
       "\n",
       "        \n",
       "            \n",
       "                var html_0d8cbc767aa918aeb2ab5db33f3038a4 = $(`&lt;div id=&quot;html_0d8cbc767aa918aeb2ab5db33f3038a4&quot; style=&quot;width: 100.0%; height: 100.0%;&quot;&gt;             &lt;div style=&quot;width: 200px;&quot;&gt;                 &lt;h4&gt;Marine Monitoring Point&lt;/h4&gt;                 &lt;p&gt;&lt;strong&gt;Coordinates:&lt;/strong&gt; 56.350, -73.998&lt;/p&gt;                 &lt;p&gt;&lt;strong&gt;Hotspot Probability:&lt;/strong&gt; 16.9%&lt;/p&gt;                 &lt;p&gt;&lt;strong&gt;Concentration:&lt;/strong&gt; 12.35 particles/m³&lt;/p&gt;                 &lt;p&gt;&lt;strong&gt;Water Temp:&lt;/strong&gt; 23.8°C&lt;/p&gt;                 &lt;p&gt;&lt;strong&gt;Current Speed:&lt;/strong&gt; 5.7 m/s&lt;/p&gt;                 &lt;p&gt;&lt;strong&gt;Date:&lt;/strong&gt; 2025-07-08&lt;/p&gt;             &lt;/div&gt;             &lt;/div&gt;`)[0];\n",
       "                popup_6cac54d4e519c504b0cf2da46d013406.setContent(html_0d8cbc767aa918aeb2ab5db33f3038a4);\n",
       "            \n",
       "        \n",
       "\n",
       "        circle_marker_61ecb048e54f0c0c0abaa17ab23db4c3.bindPopup(popup_6cac54d4e519c504b0cf2da46d013406)\n",
       "        ;\n",
       "\n",
       "        \n",
       "    \n",
       "    \n",
       "            circle_marker_61ecb048e54f0c0c0abaa17ab23db4c3.bindTooltip(\n",
       "                `&lt;div&gt;\n",
       "                     Hotspot Risk: 16.9%\n",
       "                 &lt;/div&gt;`,\n",
       "                {\n",
       "  &quot;sticky&quot;: true,\n",
       "}\n",
       "            );\n",
       "        \n",
       "    \n",
       "            var circle_marker_76bbeae48eb632490afaa8140e27a517 = L.circleMarker(\n",
       "                [33.015938803333746, -41.364817703306905],\n",
       "                {&quot;bubblingMouseEvents&quot;: true, &quot;color&quot;: &quot;black&quot;, &quot;dashArray&quot;: null, &quot;dashOffset&quot;: null, &quot;fill&quot;: true, &quot;fillColor&quot;: &quot;orange&quot;, &quot;fillOpacity&quot;: 0.7, &quot;fillRule&quot;: &quot;evenodd&quot;, &quot;lineCap&quot;: &quot;round&quot;, &quot;lineJoin&quot;: &quot;round&quot;, &quot;opacity&quot;: 1.0, &quot;radius&quot;: 8.398169292171247, &quot;stroke&quot;: true, &quot;weight&quot;: 1}\n",
       "            ).addTo(map_0f194e2aaa6e0c52ce4a98779fb6afef);\n",
       "        \n",
       "    \n",
       "        var popup_850ce5481e06f9b6ba8d84fc49dabfd1 = L.popup({\n",
       "  &quot;maxWidth&quot;: 250,\n",
       "});\n",
       "\n",
       "        \n",
       "            \n",
       "                var html_fcd21fed3e95c421700ef83da9bbbcb8 = $(`&lt;div id=&quot;html_fcd21fed3e95c421700ef83da9bbbcb8&quot; style=&quot;width: 100.0%; height: 100.0%;&quot;&gt;             &lt;div style=&quot;width: 200px;&quot;&gt;                 &lt;h4&gt;Marine Monitoring Point&lt;/h4&gt;                 &lt;p&gt;&lt;strong&gt;Coordinates:&lt;/strong&gt; 33.016, -41.365&lt;/p&gt;                 &lt;p&gt;&lt;strong&gt;Hotspot Probability:&lt;/strong&gt; 56.0%&lt;/p&gt;                 &lt;p&gt;&lt;strong&gt;Concentration:&lt;/strong&gt; 5.50 particles/m³&lt;/p&gt;                 &lt;p&gt;&lt;strong&gt;Water Temp:&lt;/strong&gt; 16.1°C&lt;/p&gt;                 &lt;p&gt;&lt;strong&gt;Current Speed:&lt;/strong&gt; 6.0 m/s&lt;/p&gt;                 &lt;p&gt;&lt;strong&gt;Date:&lt;/strong&gt; 2024-11-23&lt;/p&gt;             &lt;/div&gt;             &lt;/div&gt;`)[0];\n",
       "                popup_850ce5481e06f9b6ba8d84fc49dabfd1.setContent(html_fcd21fed3e95c421700ef83da9bbbcb8);\n",
       "            \n",
       "        \n",
       "\n",
       "        circle_marker_76bbeae48eb632490afaa8140e27a517.bindPopup(popup_850ce5481e06f9b6ba8d84fc49dabfd1)\n",
       "        ;\n",
       "\n",
       "        \n",
       "    \n",
       "    \n",
       "            circle_marker_76bbeae48eb632490afaa8140e27a517.bindTooltip(\n",
       "                `&lt;div&gt;\n",
       "                     Hotspot Risk: 56.0%\n",
       "                 &lt;/div&gt;`,\n",
       "                {\n",
       "  &quot;sticky&quot;: true,\n",
       "}\n",
       "            );\n",
       "        \n",
       "    \n",
       "            var circle_marker_59d455cb4f383f3637d626feeb6b8747 = L.circleMarker(\n",
       "                [52.7398729877027, 126.40920174606849],\n",
       "                {&quot;bubblingMouseEvents&quot;: true, &quot;color&quot;: &quot;black&quot;, &quot;dashArray&quot;: null, &quot;dashOffset&quot;: null, &quot;fill&quot;: true, &quot;fillColor&quot;: &quot;green&quot;, &quot;fillOpacity&quot;: 0.7, &quot;fillRule&quot;: &quot;evenodd&quot;, &quot;lineCap&quot;: &quot;round&quot;, &quot;lineJoin&quot;: &quot;round&quot;, &quot;opacity&quot;: 1.0, &quot;radius&quot;: 3, &quot;stroke&quot;: true, &quot;weight&quot;: 1}\n",
       "            ).addTo(map_0f194e2aaa6e0c52ce4a98779fb6afef);\n",
       "        \n",
       "    \n",
       "        var popup_24ecab283d72f8c69c40a77e90806c15 = L.popup({\n",
       "  &quot;maxWidth&quot;: 250,\n",
       "});\n",
       "\n",
       "        \n",
       "            \n",
       "                var html_c6b06731c895e3a65e3b2378ae53164f = $(`&lt;div id=&quot;html_c6b06731c895e3a65e3b2378ae53164f&quot; style=&quot;width: 100.0%; height: 100.0%;&quot;&gt;             &lt;div style=&quot;width: 200px;&quot;&gt;                 &lt;h4&gt;Marine Monitoring Point&lt;/h4&gt;                 &lt;p&gt;&lt;strong&gt;Coordinates:&lt;/strong&gt; 52.740, 126.409&lt;/p&gt;                 &lt;p&gt;&lt;strong&gt;Hotspot Probability:&lt;/strong&gt; 12.2%&lt;/p&gt;                 &lt;p&gt;&lt;strong&gt;Concentration:&lt;/strong&gt; 30.42 particles/m³&lt;/p&gt;                 &lt;p&gt;&lt;strong&gt;Water Temp:&lt;/strong&gt; 16.3°C&lt;/p&gt;                 &lt;p&gt;&lt;strong&gt;Current Speed:&lt;/strong&gt; 10.6 m/s&lt;/p&gt;                 &lt;p&gt;&lt;strong&gt;Date:&lt;/strong&gt; 2025-01-18&lt;/p&gt;             &lt;/div&gt;             &lt;/div&gt;`)[0];\n",
       "                popup_24ecab283d72f8c69c40a77e90806c15.setContent(html_c6b06731c895e3a65e3b2378ae53164f);\n",
       "            \n",
       "        \n",
       "\n",
       "        circle_marker_59d455cb4f383f3637d626feeb6b8747.bindPopup(popup_24ecab283d72f8c69c40a77e90806c15)\n",
       "        ;\n",
       "\n",
       "        \n",
       "    \n",
       "    \n",
       "            circle_marker_59d455cb4f383f3637d626feeb6b8747.bindTooltip(\n",
       "                `&lt;div&gt;\n",
       "                     Hotspot Risk: 12.2%\n",
       "                 &lt;/div&gt;`,\n",
       "                {\n",
       "  &quot;sticky&quot;: true,\n",
       "}\n",
       "            );\n",
       "        \n",
       "    \n",
       "            var circle_marker_3d5b270421beb0457a307f9c166a1791 = L.circleMarker(\n",
       "                [47.37928205131786, -65.90807814374004],\n",
       "                {&quot;bubblingMouseEvents&quot;: true, &quot;color&quot;: &quot;black&quot;, &quot;dashArray&quot;: null, &quot;dashOffset&quot;: null, &quot;fill&quot;: true, &quot;fillColor&quot;: &quot;green&quot;, &quot;fillOpacity&quot;: 0.7, &quot;fillRule&quot;: &quot;evenodd&quot;, &quot;lineCap&quot;: &quot;round&quot;, &quot;lineJoin&quot;: &quot;round&quot;, &quot;opacity&quot;: 1.0, &quot;radius&quot;: 3, &quot;stroke&quot;: true, &quot;weight&quot;: 1}\n",
       "            ).addTo(map_0f194e2aaa6e0c52ce4a98779fb6afef);\n",
       "        \n",
       "    \n",
       "        var popup_2512a6b5b9f8ae17ddf9575a7af9305d = L.popup({\n",
       "  &quot;maxWidth&quot;: 250,\n",
       "});\n",
       "\n",
       "        \n",
       "            \n",
       "                var html_c27661d6ee48499d2022f3e338a993d8 = $(`&lt;div id=&quot;html_c27661d6ee48499d2022f3e338a993d8&quot; style=&quot;width: 100.0%; height: 100.0%;&quot;&gt;             &lt;div style=&quot;width: 200px;&quot;&gt;                 &lt;h4&gt;Marine Monitoring Point&lt;/h4&gt;                 &lt;p&gt;&lt;strong&gt;Coordinates:&lt;/strong&gt; 47.379, -65.908&lt;/p&gt;                 &lt;p&gt;&lt;strong&gt;Hotspot Probability:&lt;/strong&gt; 10.1%&lt;/p&gt;                 &lt;p&gt;&lt;strong&gt;Concentration:&lt;/strong&gt; 8.37 particles/m³&lt;/p&gt;                 &lt;p&gt;&lt;strong&gt;Water Temp:&lt;/strong&gt; 28.9°C&lt;/p&gt;                 &lt;p&gt;&lt;strong&gt;Current Speed:&lt;/strong&gt; 0.7 m/s&lt;/p&gt;                 &lt;p&gt;&lt;strong&gt;Date:&lt;/strong&gt; 2025-01-19&lt;/p&gt;             &lt;/div&gt;             &lt;/div&gt;`)[0];\n",
       "                popup_2512a6b5b9f8ae17ddf9575a7af9305d.setContent(html_c27661d6ee48499d2022f3e338a993d8);\n",
       "            \n",
       "        \n",
       "\n",
       "        circle_marker_3d5b270421beb0457a307f9c166a1791.bindPopup(popup_2512a6b5b9f8ae17ddf9575a7af9305d)\n",
       "        ;\n",
       "\n",
       "        \n",
       "    \n",
       "    \n",
       "            circle_marker_3d5b270421beb0457a307f9c166a1791.bindTooltip(\n",
       "                `&lt;div&gt;\n",
       "                     Hotspot Risk: 10.1%\n",
       "                 &lt;/div&gt;`,\n",
       "                {\n",
       "  &quot;sticky&quot;: true,\n",
       "}\n",
       "            );\n",
       "        \n",
       "    \n",
       "            var circle_marker_33a2d827438683d32e535dfdefb181e4 = L.circleMarker(\n",
       "                [11.747997457330218, -118.9826111930067],\n",
       "                {&quot;bubblingMouseEvents&quot;: true, &quot;color&quot;: &quot;black&quot;, &quot;dashArray&quot;: null, &quot;dashOffset&quot;: null, &quot;fill&quot;: true, &quot;fillColor&quot;: &quot;green&quot;, &quot;fillOpacity&quot;: 0.7, &quot;fillRule&quot;: &quot;evenodd&quot;, &quot;lineCap&quot;: &quot;round&quot;, &quot;lineJoin&quot;: &quot;round&quot;, &quot;opacity&quot;: 1.0, &quot;radius&quot;: 3, &quot;stroke&quot;: true, &quot;weight&quot;: 1}\n",
       "            ).addTo(map_0f194e2aaa6e0c52ce4a98779fb6afef);\n",
       "        \n",
       "    \n",
       "        var popup_90a86a46fefcddf044364643d3d65e52 = L.popup({\n",
       "  &quot;maxWidth&quot;: 250,\n",
       "});\n",
       "\n",
       "        \n",
       "            \n",
       "                var html_a172d20b4c8868f44c6887969f127959 = $(`&lt;div id=&quot;html_a172d20b4c8868f44c6887969f127959&quot; style=&quot;width: 100.0%; height: 100.0%;&quot;&gt;             &lt;div style=&quot;width: 200px;&quot;&gt;                 &lt;h4&gt;Marine Monitoring Point&lt;/h4&gt;                 &lt;p&gt;&lt;strong&gt;Coordinates:&lt;/strong&gt; 11.748, -118.983&lt;/p&gt;                 &lt;p&gt;&lt;strong&gt;Hotspot Probability:&lt;/strong&gt; 11.0%&lt;/p&gt;                 &lt;p&gt;&lt;strong&gt;Concentration:&lt;/strong&gt; 5.72 particles/m³&lt;/p&gt;                 &lt;p&gt;&lt;strong&gt;Water Temp:&lt;/strong&gt; 12.0°C&lt;/p&gt;                 &lt;p&gt;&lt;strong&gt;Current Speed:&lt;/strong&gt; 6.4 m/s&lt;/p&gt;                 &lt;p&gt;&lt;strong&gt;Date:&lt;/strong&gt; 2025-08-17&lt;/p&gt;             &lt;/div&gt;             &lt;/div&gt;`)[0];\n",
       "                popup_90a86a46fefcddf044364643d3d65e52.setContent(html_a172d20b4c8868f44c6887969f127959);\n",
       "            \n",
       "        \n",
       "\n",
       "        circle_marker_33a2d827438683d32e535dfdefb181e4.bindPopup(popup_90a86a46fefcddf044364643d3d65e52)\n",
       "        ;\n",
       "\n",
       "        \n",
       "    \n",
       "    \n",
       "            circle_marker_33a2d827438683d32e535dfdefb181e4.bindTooltip(\n",
       "                `&lt;div&gt;\n",
       "                     Hotspot Risk: 11.0%\n",
       "                 &lt;/div&gt;`,\n",
       "                {\n",
       "  &quot;sticky&quot;: true,\n",
       "}\n",
       "            );\n",
       "        \n",
       "    \n",
       "            var circle_marker_4907201e9af9d069f38856c8ae07cc41 = L.circleMarker(\n",
       "                [50.62490820277402, 20.448454485006057],\n",
       "                {&quot;bubblingMouseEvents&quot;: true, &quot;color&quot;: &quot;black&quot;, &quot;dashArray&quot;: null, &quot;dashOffset&quot;: null, &quot;fill&quot;: true, &quot;fillColor&quot;: &quot;green&quot;, &quot;fillOpacity&quot;: 0.7, &quot;fillRule&quot;: &quot;evenodd&quot;, &quot;lineCap&quot;: &quot;round&quot;, &quot;lineJoin&quot;: &quot;round&quot;, &quot;opacity&quot;: 1.0, &quot;radius&quot;: 3, &quot;stroke&quot;: true, &quot;weight&quot;: 1}\n",
       "            ).addTo(map_0f194e2aaa6e0c52ce4a98779fb6afef);\n",
       "        \n",
       "    \n",
       "        var popup_3f7c273a3d866703a7ea134e2b0f40a6 = L.popup({\n",
       "  &quot;maxWidth&quot;: 250,\n",
       "});\n",
       "\n",
       "        \n",
       "            \n",
       "                var html_7b0a88d4b05eeba97053aa225963ab58 = $(`&lt;div id=&quot;html_7b0a88d4b05eeba97053aa225963ab58&quot; style=&quot;width: 100.0%; height: 100.0%;&quot;&gt;             &lt;div style=&quot;width: 200px;&quot;&gt;                 &lt;h4&gt;Marine Monitoring Point&lt;/h4&gt;                 &lt;p&gt;&lt;strong&gt;Coordinates:&lt;/strong&gt; 50.625, 20.448&lt;/p&gt;                 &lt;p&gt;&lt;strong&gt;Hotspot Probability:&lt;/strong&gt; 2.3%&lt;/p&gt;                 &lt;p&gt;&lt;strong&gt;Concentration:&lt;/strong&gt; 20.58 particles/m³&lt;/p&gt;                 &lt;p&gt;&lt;strong&gt;Water Temp:&lt;/strong&gt; 19.4°C&lt;/p&gt;                 &lt;p&gt;&lt;strong&gt;Current Speed:&lt;/strong&gt; 2.5 m/s&lt;/p&gt;                 &lt;p&gt;&lt;strong&gt;Date:&lt;/strong&gt; 2024-12-24&lt;/p&gt;             &lt;/div&gt;             &lt;/div&gt;`)[0];\n",
       "                popup_3f7c273a3d866703a7ea134e2b0f40a6.setContent(html_7b0a88d4b05eeba97053aa225963ab58);\n",
       "            \n",
       "        \n",
       "\n",
       "        circle_marker_4907201e9af9d069f38856c8ae07cc41.bindPopup(popup_3f7c273a3d866703a7ea134e2b0f40a6)\n",
       "        ;\n",
       "\n",
       "        \n",
       "    \n",
       "    \n",
       "            circle_marker_4907201e9af9d069f38856c8ae07cc41.bindTooltip(\n",
       "                `&lt;div&gt;\n",
       "                     Hotspot Risk: 2.3%\n",
       "                 &lt;/div&gt;`,\n",
       "                {\n",
       "  &quot;sticky&quot;: true,\n",
       "}\n",
       "            );\n",
       "        \n",
       "    \n",
       "            var circle_marker_48816dac50d30a9f469f57e72f43553d = L.circleMarker(\n",
       "                [-49.38089975376966, 157.01571869788114],\n",
       "                {&quot;bubblingMouseEvents&quot;: true, &quot;color&quot;: &quot;black&quot;, &quot;dashArray&quot;: null, &quot;dashOffset&quot;: null, &quot;fill&quot;: true, &quot;fillColor&quot;: &quot;green&quot;, &quot;fillOpacity&quot;: 0.7, &quot;fillRule&quot;: &quot;evenodd&quot;, &quot;lineCap&quot;: &quot;round&quot;, &quot;lineJoin&quot;: &quot;round&quot;, &quot;opacity&quot;: 1.0, &quot;radius&quot;: 3, &quot;stroke&quot;: true, &quot;weight&quot;: 1}\n",
       "            ).addTo(map_0f194e2aaa6e0c52ce4a98779fb6afef);\n",
       "        \n",
       "    \n",
       "        var popup_9baa187b7490ef4767b96b6dfa599804 = L.popup({\n",
       "  &quot;maxWidth&quot;: 250,\n",
       "});\n",
       "\n",
       "        \n",
       "            \n",
       "                var html_35dcfcc490216b397ac464055ec4c73f = $(`&lt;div id=&quot;html_35dcfcc490216b397ac464055ec4c73f&quot; style=&quot;width: 100.0%; height: 100.0%;&quot;&gt;             &lt;div style=&quot;width: 200px;&quot;&gt;                 &lt;h4&gt;Marine Monitoring Point&lt;/h4&gt;                 &lt;p&gt;&lt;strong&gt;Coordinates:&lt;/strong&gt; -49.381, 157.016&lt;/p&gt;                 &lt;p&gt;&lt;strong&gt;Hotspot Probability:&lt;/strong&gt; 10.2%&lt;/p&gt;                 &lt;p&gt;&lt;strong&gt;Concentration:&lt;/strong&gt; 1.46 particles/m³&lt;/p&gt;                 &lt;p&gt;&lt;strong&gt;Water Temp:&lt;/strong&gt; 12.9°C&lt;/p&gt;                 &lt;p&gt;&lt;strong&gt;Current Speed:&lt;/strong&gt; 3.9 m/s&lt;/p&gt;                 &lt;p&gt;&lt;strong&gt;Date:&lt;/strong&gt; 2025-08-30&lt;/p&gt;             &lt;/div&gt;             &lt;/div&gt;`)[0];\n",
       "                popup_9baa187b7490ef4767b96b6dfa599804.setContent(html_35dcfcc490216b397ac464055ec4c73f);\n",
       "            \n",
       "        \n",
       "\n",
       "        circle_marker_48816dac50d30a9f469f57e72f43553d.bindPopup(popup_9baa187b7490ef4767b96b6dfa599804)\n",
       "        ;\n",
       "\n",
       "        \n",
       "    \n",
       "    \n",
       "            circle_marker_48816dac50d30a9f469f57e72f43553d.bindTooltip(\n",
       "                `&lt;div&gt;\n",
       "                     Hotspot Risk: 10.2%\n",
       "                 &lt;/div&gt;`,\n",
       "                {\n",
       "  &quot;sticky&quot;: true,\n",
       "}\n",
       "            );\n",
       "        \n",
       "    \n",
       "            var circle_marker_af67775fa3b0100425394860923392b2 = L.circleMarker(\n",
       "                [-36.48205650970257, 70.57072680299028],\n",
       "                {&quot;bubblingMouseEvents&quot;: true, &quot;color&quot;: &quot;black&quot;, &quot;dashArray&quot;: null, &quot;dashOffset&quot;: null, &quot;fill&quot;: true, &quot;fillColor&quot;: &quot;green&quot;, &quot;fillOpacity&quot;: 0.7, &quot;fillRule&quot;: &quot;evenodd&quot;, &quot;lineCap&quot;: &quot;round&quot;, &quot;lineJoin&quot;: &quot;round&quot;, &quot;opacity&quot;: 1.0, &quot;radius&quot;: 3, &quot;stroke&quot;: true, &quot;weight&quot;: 1}\n",
       "            ).addTo(map_0f194e2aaa6e0c52ce4a98779fb6afef);\n",
       "        \n",
       "    \n",
       "        var popup_56ea720c663189d5ed483b57be43b9ec = L.popup({\n",
       "  &quot;maxWidth&quot;: 250,\n",
       "});\n",
       "\n",
       "        \n",
       "            \n",
       "                var html_6a4a8eeb2486dc36d5af9eb0d32ae95e = $(`&lt;div id=&quot;html_6a4a8eeb2486dc36d5af9eb0d32ae95e&quot; style=&quot;width: 100.0%; height: 100.0%;&quot;&gt;             &lt;div style=&quot;width: 200px;&quot;&gt;                 &lt;h4&gt;Marine Monitoring Point&lt;/h4&gt;                 &lt;p&gt;&lt;strong&gt;Coordinates:&lt;/strong&gt; -36.482, 70.571&lt;/p&gt;                 &lt;p&gt;&lt;strong&gt;Hotspot Probability:&lt;/strong&gt; 15.0%&lt;/p&gt;                 &lt;p&gt;&lt;strong&gt;Concentration:&lt;/strong&gt; 10.39 particles/m³&lt;/p&gt;                 &lt;p&gt;&lt;strong&gt;Water Temp:&lt;/strong&gt; 12.9°C&lt;/p&gt;                 &lt;p&gt;&lt;strong&gt;Current Speed:&lt;/strong&gt; 7.6 m/s&lt;/p&gt;                 &lt;p&gt;&lt;strong&gt;Date:&lt;/strong&gt; 2025-06-09&lt;/p&gt;             &lt;/div&gt;             &lt;/div&gt;`)[0];\n",
       "                popup_56ea720c663189d5ed483b57be43b9ec.setContent(html_6a4a8eeb2486dc36d5af9eb0d32ae95e);\n",
       "            \n",
       "        \n",
       "\n",
       "        circle_marker_af67775fa3b0100425394860923392b2.bindPopup(popup_56ea720c663189d5ed483b57be43b9ec)\n",
       "        ;\n",
       "\n",
       "        \n",
       "    \n",
       "    \n",
       "            circle_marker_af67775fa3b0100425394860923392b2.bindTooltip(\n",
       "                `&lt;div&gt;\n",
       "                     Hotspot Risk: 15.0%\n",
       "                 &lt;/div&gt;`,\n",
       "                {\n",
       "  &quot;sticky&quot;: true,\n",
       "}\n",
       "            );\n",
       "        \n",
       "    \n",
       "            var circle_marker_39743c2f4938a070c710461eee569344 = L.circleMarker(\n",
       "                [-54.57272533073543, 25.222021232171386],\n",
       "                {&quot;bubblingMouseEvents&quot;: true, &quot;color&quot;: &quot;black&quot;, &quot;dashArray&quot;: null, &quot;dashOffset&quot;: null, &quot;fill&quot;: true, &quot;fillColor&quot;: &quot;yellow&quot;, &quot;fillOpacity&quot;: 0.7, &quot;fillRule&quot;: &quot;evenodd&quot;, &quot;lineCap&quot;: &quot;round&quot;, &quot;lineJoin&quot;: &quot;round&quot;, &quot;opacity&quot;: 1.0, &quot;radius&quot;: 3.676715411692563, &quot;stroke&quot;: true, &quot;weight&quot;: 1}\n",
       "            ).addTo(map_0f194e2aaa6e0c52ce4a98779fb6afef);\n",
       "        \n",
       "    \n",
       "        var popup_6fac8c6df46b9d60802b10757c0b0bae = L.popup({\n",
       "  &quot;maxWidth&quot;: 250,\n",
       "});\n",
       "\n",
       "        \n",
       "            \n",
       "                var html_0248f197493c9e30acfbe6b281719f93 = $(`&lt;div id=&quot;html_0248f197493c9e30acfbe6b281719f93&quot; style=&quot;width: 100.0%; height: 100.0%;&quot;&gt;             &lt;div style=&quot;width: 200px;&quot;&gt;                 &lt;h4&gt;Marine Monitoring Point&lt;/h4&gt;                 &lt;p&gt;&lt;strong&gt;Coordinates:&lt;/strong&gt; -54.573, 25.222&lt;/p&gt;                 &lt;p&gt;&lt;strong&gt;Hotspot Probability:&lt;/strong&gt; 24.5%&lt;/p&gt;                 &lt;p&gt;&lt;strong&gt;Concentration:&lt;/strong&gt; 7.58 particles/m³&lt;/p&gt;                 &lt;p&gt;&lt;strong&gt;Water Temp:&lt;/strong&gt; 5.6°C&lt;/p&gt;                 &lt;p&gt;&lt;strong&gt;Current Speed:&lt;/strong&gt; 5.5 m/s&lt;/p&gt;                 &lt;p&gt;&lt;strong&gt;Date:&lt;/strong&gt; 2025-09-15&lt;/p&gt;             &lt;/div&gt;             &lt;/div&gt;`)[0];\n",
       "                popup_6fac8c6df46b9d60802b10757c0b0bae.setContent(html_0248f197493c9e30acfbe6b281719f93);\n",
       "            \n",
       "        \n",
       "\n",
       "        circle_marker_39743c2f4938a070c710461eee569344.bindPopup(popup_6fac8c6df46b9d60802b10757c0b0bae)\n",
       "        ;\n",
       "\n",
       "        \n",
       "    \n",
       "    \n",
       "            circle_marker_39743c2f4938a070c710461eee569344.bindTooltip(\n",
       "                `&lt;div&gt;\n",
       "                     Hotspot Risk: 24.5%\n",
       "                 &lt;/div&gt;`,\n",
       "                {\n",
       "  &quot;sticky&quot;: true,\n",
       "}\n",
       "            );\n",
       "        \n",
       "    \n",
       "            var circle_marker_066f7dbac0911feefbff276362115bf6 = L.circleMarker(\n",
       "                [-20.96036030840828, -145.01646224252332],\n",
       "                {&quot;bubblingMouseEvents&quot;: true, &quot;color&quot;: &quot;black&quot;, &quot;dashArray&quot;: null, &quot;dashOffset&quot;: null, &quot;fill&quot;: true, &quot;fillColor&quot;: &quot;green&quot;, &quot;fillOpacity&quot;: 0.7, &quot;fillRule&quot;: &quot;evenodd&quot;, &quot;lineCap&quot;: &quot;round&quot;, &quot;lineJoin&quot;: &quot;round&quot;, &quot;opacity&quot;: 1.0, &quot;radius&quot;: 3, &quot;stroke&quot;: true, &quot;weight&quot;: 1}\n",
       "            ).addTo(map_0f194e2aaa6e0c52ce4a98779fb6afef);\n",
       "        \n",
       "    \n",
       "        var popup_289346b3cd9ab024b1de87fda2e229eb = L.popup({\n",
       "  &quot;maxWidth&quot;: 250,\n",
       "});\n",
       "\n",
       "        \n",
       "            \n",
       "                var html_dbc3311a9a97b3ccb8eed8d816b4141b = $(`&lt;div id=&quot;html_dbc3311a9a97b3ccb8eed8d816b4141b&quot; style=&quot;width: 100.0%; height: 100.0%;&quot;&gt;             &lt;div style=&quot;width: 200px;&quot;&gt;                 &lt;h4&gt;Marine Monitoring Point&lt;/h4&gt;                 &lt;p&gt;&lt;strong&gt;Coordinates:&lt;/strong&gt; -20.960, -145.016&lt;/p&gt;                 &lt;p&gt;&lt;strong&gt;Hotspot Probability:&lt;/strong&gt; 19.6%&lt;/p&gt;                 &lt;p&gt;&lt;strong&gt;Concentration:&lt;/strong&gt; 1.80 particles/m³&lt;/p&gt;                 &lt;p&gt;&lt;strong&gt;Water Temp:&lt;/strong&gt; 9.1°C&lt;/p&gt;                 &lt;p&gt;&lt;strong&gt;Current Speed:&lt;/strong&gt; 5.8 m/s&lt;/p&gt;                 &lt;p&gt;&lt;strong&gt;Date:&lt;/strong&gt; 2025-03-02&lt;/p&gt;             &lt;/div&gt;             &lt;/div&gt;`)[0];\n",
       "                popup_289346b3cd9ab024b1de87fda2e229eb.setContent(html_dbc3311a9a97b3ccb8eed8d816b4141b);\n",
       "            \n",
       "        \n",
       "\n",
       "        circle_marker_066f7dbac0911feefbff276362115bf6.bindPopup(popup_289346b3cd9ab024b1de87fda2e229eb)\n",
       "        ;\n",
       "\n",
       "        \n",
       "    \n",
       "    \n",
       "            circle_marker_066f7dbac0911feefbff276362115bf6.bindTooltip(\n",
       "                `&lt;div&gt;\n",
       "                     Hotspot Risk: 19.6%\n",
       "                 &lt;/div&gt;`,\n",
       "                {\n",
       "  &quot;sticky&quot;: true,\n",
       "}\n",
       "            );\n",
       "        \n",
       "    \n",
       "            var circle_marker_3206055acafe179edff0a47106ac39a4 = L.circleMarker(\n",
       "                [-13.35872523726216, 41.40260161170111],\n",
       "                {&quot;bubblingMouseEvents&quot;: true, &quot;color&quot;: &quot;black&quot;, &quot;dashArray&quot;: null, &quot;dashOffset&quot;: null, &quot;fill&quot;: true, &quot;fillColor&quot;: &quot;yellow&quot;, &quot;fillOpacity&quot;: 0.7, &quot;fillRule&quot;: &quot;evenodd&quot;, &quot;lineCap&quot;: &quot;round&quot;, &quot;lineJoin&quot;: &quot;round&quot;, &quot;opacity&quot;: 1.0, &quot;radius&quot;: 4.729773686267334, &quot;stroke&quot;: true, &quot;weight&quot;: 1}\n",
       "            ).addTo(map_0f194e2aaa6e0c52ce4a98779fb6afef);\n",
       "        \n",
       "    \n",
       "        var popup_0eeda7c3c1ef77ad318730734e10ce91 = L.popup({\n",
       "  &quot;maxWidth&quot;: 250,\n",
       "});\n",
       "\n",
       "        \n",
       "            \n",
       "                var html_f679c1b3857191daee2541dcec5a554a = $(`&lt;div id=&quot;html_f679c1b3857191daee2541dcec5a554a&quot; style=&quot;width: 100.0%; height: 100.0%;&quot;&gt;             &lt;div style=&quot;width: 200px;&quot;&gt;                 &lt;h4&gt;Marine Monitoring Point&lt;/h4&gt;                 &lt;p&gt;&lt;strong&gt;Coordinates:&lt;/strong&gt; -13.359, 41.403&lt;/p&gt;                 &lt;p&gt;&lt;strong&gt;Hotspot Probability:&lt;/strong&gt; 31.5%&lt;/p&gt;                 &lt;p&gt;&lt;strong&gt;Concentration:&lt;/strong&gt; 1.34 particles/m³&lt;/p&gt;                 &lt;p&gt;&lt;strong&gt;Water Temp:&lt;/strong&gt; 7.6°C&lt;/p&gt;                 &lt;p&gt;&lt;strong&gt;Current Speed:&lt;/strong&gt; 2.4 m/s&lt;/p&gt;                 &lt;p&gt;&lt;strong&gt;Date:&lt;/strong&gt; 2024-12-31&lt;/p&gt;             &lt;/div&gt;             &lt;/div&gt;`)[0];\n",
       "                popup_0eeda7c3c1ef77ad318730734e10ce91.setContent(html_f679c1b3857191daee2541dcec5a554a);\n",
       "            \n",
       "        \n",
       "\n",
       "        circle_marker_3206055acafe179edff0a47106ac39a4.bindPopup(popup_0eeda7c3c1ef77ad318730734e10ce91)\n",
       "        ;\n",
       "\n",
       "        \n",
       "    \n",
       "    \n",
       "            circle_marker_3206055acafe179edff0a47106ac39a4.bindTooltip(\n",
       "                `&lt;div&gt;\n",
       "                     Hotspot Risk: 31.5%\n",
       "                 &lt;/div&gt;`,\n",
       "                {\n",
       "  &quot;sticky&quot;: true,\n",
       "}\n",
       "            );\n",
       "        \n",
       "    \n",
       "            var circle_marker_a1451ca9e57869fa6afd052932df0066 = L.circleMarker(\n",
       "                [-27.43811618713249, 176.4193860375348],\n",
       "                {&quot;bubblingMouseEvents&quot;: true, &quot;color&quot;: &quot;black&quot;, &quot;dashArray&quot;: null, &quot;dashOffset&quot;: null, &quot;fill&quot;: true, &quot;fillColor&quot;: &quot;yellow&quot;, &quot;fillOpacity&quot;: 0.7, &quot;fillRule&quot;: &quot;evenodd&quot;, &quot;lineCap&quot;: &quot;round&quot;, &quot;lineJoin&quot;: &quot;round&quot;, &quot;opacity&quot;: 1.0, &quot;radius&quot;: 4.848978655667926, &quot;stroke&quot;: true, &quot;weight&quot;: 1}\n",
       "            ).addTo(map_0f194e2aaa6e0c52ce4a98779fb6afef);\n",
       "        \n",
       "    \n",
       "        var popup_be7b5e294c63d87e42272bd995a2696e = L.popup({\n",
       "  &quot;maxWidth&quot;: 250,\n",
       "});\n",
       "\n",
       "        \n",
       "            \n",
       "                var html_d36330e33c3b29202322d57922e6917a = $(`&lt;div id=&quot;html_d36330e33c3b29202322d57922e6917a&quot; style=&quot;width: 100.0%; height: 100.0%;&quot;&gt;             &lt;div style=&quot;width: 200px;&quot;&gt;                 &lt;h4&gt;Marine Monitoring Point&lt;/h4&gt;                 &lt;p&gt;&lt;strong&gt;Coordinates:&lt;/strong&gt; -27.438, 176.419&lt;/p&gt;                 &lt;p&gt;&lt;strong&gt;Hotspot Probability:&lt;/strong&gt; 32.3%&lt;/p&gt;                 &lt;p&gt;&lt;strong&gt;Concentration:&lt;/strong&gt; 20.29 particles/m³&lt;/p&gt;                 &lt;p&gt;&lt;strong&gt;Water Temp:&lt;/strong&gt; 19.8°C&lt;/p&gt;                 &lt;p&gt;&lt;strong&gt;Current Speed:&lt;/strong&gt; 0.9 m/s&lt;/p&gt;                 &lt;p&gt;&lt;strong&gt;Date:&lt;/strong&gt; 2024-11-20&lt;/p&gt;             &lt;/div&gt;             &lt;/div&gt;`)[0];\n",
       "                popup_be7b5e294c63d87e42272bd995a2696e.setContent(html_d36330e33c3b29202322d57922e6917a);\n",
       "            \n",
       "        \n",
       "\n",
       "        circle_marker_a1451ca9e57869fa6afd052932df0066.bindPopup(popup_be7b5e294c63d87e42272bd995a2696e)\n",
       "        ;\n",
       "\n",
       "        \n",
       "    \n",
       "    \n",
       "            circle_marker_a1451ca9e57869fa6afd052932df0066.bindTooltip(\n",
       "                `&lt;div&gt;\n",
       "                     Hotspot Risk: 32.3%\n",
       "                 &lt;/div&gt;`,\n",
       "                {\n",
       "  &quot;sticky&quot;: true,\n",
       "}\n",
       "            );\n",
       "        \n",
       "    \n",
       "            var circle_marker_516cea03ef16574fa4cee1fdc00e1177 = L.circleMarker(\n",
       "                [39.44850109823152, -129.56975451485135],\n",
       "                {&quot;bubblingMouseEvents&quot;: true, &quot;color&quot;: &quot;black&quot;, &quot;dashArray&quot;: null, &quot;dashOffset&quot;: null, &quot;fill&quot;: true, &quot;fillColor&quot;: &quot;red&quot;, &quot;fillOpacity&quot;: 0.7, &quot;fillRule&quot;: &quot;evenodd&quot;, &quot;lineCap&quot;: &quot;round&quot;, &quot;lineJoin&quot;: &quot;round&quot;, &quot;opacity&quot;: 1.0, &quot;radius&quot;: 11.808480955081016, &quot;stroke&quot;: true, &quot;weight&quot;: 1}\n",
       "            ).addTo(map_0f194e2aaa6e0c52ce4a98779fb6afef);\n",
       "        \n",
       "    \n",
       "        var popup_3bff5194f3c5416d0cd3026ab4f70c1f = L.popup({\n",
       "  &quot;maxWidth&quot;: 250,\n",
       "});\n",
       "\n",
       "        \n",
       "            \n",
       "                var html_e6002cd17313cb90e0c214fecadb3d1e = $(`&lt;div id=&quot;html_e6002cd17313cb90e0c214fecadb3d1e&quot; style=&quot;width: 100.0%; height: 100.0%;&quot;&gt;             &lt;div style=&quot;width: 200px;&quot;&gt;                 &lt;h4&gt;Marine Monitoring Point&lt;/h4&gt;                 &lt;p&gt;&lt;strong&gt;Coordinates:&lt;/strong&gt; 39.449, -129.570&lt;/p&gt;                 &lt;p&gt;&lt;strong&gt;Hotspot Probability:&lt;/strong&gt; 78.7%&lt;/p&gt;                 &lt;p&gt;&lt;strong&gt;Concentration:&lt;/strong&gt; 19.35 particles/m³&lt;/p&gt;                 &lt;p&gt;&lt;strong&gt;Water Temp:&lt;/strong&gt; 23.3°C&lt;/p&gt;                 &lt;p&gt;&lt;strong&gt;Current Speed:&lt;/strong&gt; 7.3 m/s&lt;/p&gt;                 &lt;p&gt;&lt;strong&gt;Date:&lt;/strong&gt; 2024-10-17&lt;/p&gt;             &lt;/div&gt;             &lt;/div&gt;`)[0];\n",
       "                popup_3bff5194f3c5416d0cd3026ab4f70c1f.setContent(html_e6002cd17313cb90e0c214fecadb3d1e);\n",
       "            \n",
       "        \n",
       "\n",
       "        circle_marker_516cea03ef16574fa4cee1fdc00e1177.bindPopup(popup_3bff5194f3c5416d0cd3026ab4f70c1f)\n",
       "        ;\n",
       "\n",
       "        \n",
       "    \n",
       "    \n",
       "            circle_marker_516cea03ef16574fa4cee1fdc00e1177.bindTooltip(\n",
       "                `&lt;div&gt;\n",
       "                     Hotspot Risk: 78.7%\n",
       "                 &lt;/div&gt;`,\n",
       "                {\n",
       "  &quot;sticky&quot;: true,\n",
       "}\n",
       "            );\n",
       "        \n",
       "    \n",
       "            var circle_marker_65061ab2af17d28c1467a3ceee921541 = L.circleMarker(\n",
       "                [-17.189600796769287, 6.598674850945225],\n",
       "                {&quot;bubblingMouseEvents&quot;: true, &quot;color&quot;: &quot;black&quot;, &quot;dashArray&quot;: null, &quot;dashOffset&quot;: null, &quot;fill&quot;: true, &quot;fillColor&quot;: &quot;orange&quot;, &quot;fillOpacity&quot;: 0.7, &quot;fillRule&quot;: &quot;evenodd&quot;, &quot;lineCap&quot;: &quot;round&quot;, &quot;lineJoin&quot;: &quot;round&quot;, &quot;opacity&quot;: 1.0, &quot;radius&quot;: 6.2750130086075275, &quot;stroke&quot;: true, &quot;weight&quot;: 1}\n",
       "            ).addTo(map_0f194e2aaa6e0c52ce4a98779fb6afef);\n",
       "        \n",
       "    \n",
       "        var popup_3a52eef933a4536fdfb8a3c4b34b1b77 = L.popup({\n",
       "  &quot;maxWidth&quot;: 250,\n",
       "});\n",
       "\n",
       "        \n",
       "            \n",
       "                var html_90060e766ed0ab9fceb6dc456e64f61b = $(`&lt;div id=&quot;html_90060e766ed0ab9fceb6dc456e64f61b&quot; style=&quot;width: 100.0%; height: 100.0%;&quot;&gt;             &lt;div style=&quot;width: 200px;&quot;&gt;                 &lt;h4&gt;Marine Monitoring Point&lt;/h4&gt;                 &lt;p&gt;&lt;strong&gt;Coordinates:&lt;/strong&gt; -17.190, 6.599&lt;/p&gt;                 &lt;p&gt;&lt;strong&gt;Hotspot Probability:&lt;/strong&gt; 41.8%&lt;/p&gt;                 &lt;p&gt;&lt;strong&gt;Concentration:&lt;/strong&gt; 8.78 particles/m³&lt;/p&gt;                 &lt;p&gt;&lt;strong&gt;Water Temp:&lt;/strong&gt; 14.2°C&lt;/p&gt;                 &lt;p&gt;&lt;strong&gt;Current Speed:&lt;/strong&gt; 0.4 m/s&lt;/p&gt;                 &lt;p&gt;&lt;strong&gt;Date:&lt;/strong&gt; 2025-08-08&lt;/p&gt;             &lt;/div&gt;             &lt;/div&gt;`)[0];\n",
       "                popup_3a52eef933a4536fdfb8a3c4b34b1b77.setContent(html_90060e766ed0ab9fceb6dc456e64f61b);\n",
       "            \n",
       "        \n",
       "\n",
       "        circle_marker_65061ab2af17d28c1467a3ceee921541.bindPopup(popup_3a52eef933a4536fdfb8a3c4b34b1b77)\n",
       "        ;\n",
       "\n",
       "        \n",
       "    \n",
       "    \n",
       "            circle_marker_65061ab2af17d28c1467a3ceee921541.bindTooltip(\n",
       "                `&lt;div&gt;\n",
       "                     Hotspot Risk: 41.8%\n",
       "                 &lt;/div&gt;`,\n",
       "                {\n",
       "  &quot;sticky&quot;: true,\n",
       "}\n",
       "            );\n",
       "        \n",
       "    \n",
       "            var circle_marker_5e3fede7a5b81cf2e533d6187fd16151 = L.circleMarker(\n",
       "                [-26.287858837514307, 135.85430589406397],\n",
       "                {&quot;bubblingMouseEvents&quot;: true, &quot;color&quot;: &quot;black&quot;, &quot;dashArray&quot;: null, &quot;dashOffset&quot;: null, &quot;fill&quot;: true, &quot;fillColor&quot;: &quot;yellow&quot;, &quot;fillOpacity&quot;: 0.7, &quot;fillRule&quot;: &quot;evenodd&quot;, &quot;lineCap&quot;: &quot;round&quot;, &quot;lineJoin&quot;: &quot;round&quot;, &quot;opacity&quot;: 1.0, &quot;radius&quot;: 4.784704399826508, &quot;stroke&quot;: true, &quot;weight&quot;: 1}\n",
       "            ).addTo(map_0f194e2aaa6e0c52ce4a98779fb6afef);\n",
       "        \n",
       "    \n",
       "        var popup_cd7d73882497a91a0000808ded1773c1 = L.popup({\n",
       "  &quot;maxWidth&quot;: 250,\n",
       "});\n",
       "\n",
       "        \n",
       "            \n",
       "                var html_d3f39f8a3c57fe46326eee7752e921d8 = $(`&lt;div id=&quot;html_d3f39f8a3c57fe46326eee7752e921d8&quot; style=&quot;width: 100.0%; height: 100.0%;&quot;&gt;             &lt;div style=&quot;width: 200px;&quot;&gt;                 &lt;h4&gt;Marine Monitoring Point&lt;/h4&gt;                 &lt;p&gt;&lt;strong&gt;Coordinates:&lt;/strong&gt; -26.288, 135.854&lt;/p&gt;                 &lt;p&gt;&lt;strong&gt;Hotspot Probability:&lt;/strong&gt; 31.9%&lt;/p&gt;                 &lt;p&gt;&lt;strong&gt;Concentration:&lt;/strong&gt; 41.13 particles/m³&lt;/p&gt;                 &lt;p&gt;&lt;strong&gt;Water Temp:&lt;/strong&gt; 16.8°C&lt;/p&gt;                 &lt;p&gt;&lt;strong&gt;Current Speed:&lt;/strong&gt; 6.9 m/s&lt;/p&gt;                 &lt;p&gt;&lt;strong&gt;Date:&lt;/strong&gt; 2025-09-01&lt;/p&gt;             &lt;/div&gt;             &lt;/div&gt;`)[0];\n",
       "                popup_cd7d73882497a91a0000808ded1773c1.setContent(html_d3f39f8a3c57fe46326eee7752e921d8);\n",
       "            \n",
       "        \n",
       "\n",
       "        circle_marker_5e3fede7a5b81cf2e533d6187fd16151.bindPopup(popup_cd7d73882497a91a0000808ded1773c1)\n",
       "        ;\n",
       "\n",
       "        \n",
       "    \n",
       "    \n",
       "            circle_marker_5e3fede7a5b81cf2e533d6187fd16151.bindTooltip(\n",
       "                `&lt;div&gt;\n",
       "                     Hotspot Risk: 31.9%\n",
       "                 &lt;/div&gt;`,\n",
       "                {\n",
       "  &quot;sticky&quot;: true,\n",
       "}\n",
       "            );\n",
       "        \n",
       "    \n",
       "            var circle_marker_16ad26826178712bb4c3f22e2dc0e0a3 = L.circleMarker(\n",
       "                [5.123529978989816, 86.6767023915136],\n",
       "                {&quot;bubblingMouseEvents&quot;: true, &quot;color&quot;: &quot;black&quot;, &quot;dashArray&quot;: null, &quot;dashOffset&quot;: null, &quot;fill&quot;: true, &quot;fillColor&quot;: &quot;green&quot;, &quot;fillOpacity&quot;: 0.7, &quot;fillRule&quot;: &quot;evenodd&quot;, &quot;lineCap&quot;: &quot;round&quot;, &quot;lineJoin&quot;: &quot;round&quot;, &quot;opacity&quot;: 1.0, &quot;radius&quot;: 3, &quot;stroke&quot;: true, &quot;weight&quot;: 1}\n",
       "            ).addTo(map_0f194e2aaa6e0c52ce4a98779fb6afef);\n",
       "        \n",
       "    \n",
       "        var popup_e052ad2db2e803c7f148ef63f28f5a27 = L.popup({\n",
       "  &quot;maxWidth&quot;: 250,\n",
       "});\n",
       "\n",
       "        \n",
       "            \n",
       "                var html_9a40c19d4a6a175f3a89f0507867e1f1 = $(`&lt;div id=&quot;html_9a40c19d4a6a175f3a89f0507867e1f1&quot; style=&quot;width: 100.0%; height: 100.0%;&quot;&gt;             &lt;div style=&quot;width: 200px;&quot;&gt;                 &lt;h4&gt;Marine Monitoring Point&lt;/h4&gt;                 &lt;p&gt;&lt;strong&gt;Coordinates:&lt;/strong&gt; 5.124, 86.677&lt;/p&gt;                 &lt;p&gt;&lt;strong&gt;Hotspot Probability:&lt;/strong&gt; 1.9%&lt;/p&gt;                 &lt;p&gt;&lt;strong&gt;Concentration:&lt;/strong&gt; 11.48 particles/m³&lt;/p&gt;                 &lt;p&gt;&lt;strong&gt;Water Temp:&lt;/strong&gt; 13.8°C&lt;/p&gt;                 &lt;p&gt;&lt;strong&gt;Current Speed:&lt;/strong&gt; 0.3 m/s&lt;/p&gt;                 &lt;p&gt;&lt;strong&gt;Date:&lt;/strong&gt; 2024-12-15&lt;/p&gt;             &lt;/div&gt;             &lt;/div&gt;`)[0];\n",
       "                popup_e052ad2db2e803c7f148ef63f28f5a27.setContent(html_9a40c19d4a6a175f3a89f0507867e1f1);\n",
       "            \n",
       "        \n",
       "\n",
       "        circle_marker_16ad26826178712bb4c3f22e2dc0e0a3.bindPopup(popup_e052ad2db2e803c7f148ef63f28f5a27)\n",
       "        ;\n",
       "\n",
       "        \n",
       "    \n",
       "    \n",
       "            circle_marker_16ad26826178712bb4c3f22e2dc0e0a3.bindTooltip(\n",
       "                `&lt;div&gt;\n",
       "                     Hotspot Risk: 1.9%\n",
       "                 &lt;/div&gt;`,\n",
       "                {\n",
       "  &quot;sticky&quot;: true,\n",
       "}\n",
       "            );\n",
       "        \n",
       "    \n",
       "            var circle_marker_f219a239ef958e3b7d3fd60d461d39b4 = L.circleMarker(\n",
       "                [-43.08909300302848, 70.92566675829647],\n",
       "                {&quot;bubblingMouseEvents&quot;: true, &quot;color&quot;: &quot;black&quot;, &quot;dashArray&quot;: null, &quot;dashOffset&quot;: null, &quot;fill&quot;: true, &quot;fillColor&quot;: &quot;green&quot;, &quot;fillOpacity&quot;: 0.7, &quot;fillRule&quot;: &quot;evenodd&quot;, &quot;lineCap&quot;: &quot;round&quot;, &quot;lineJoin&quot;: &quot;round&quot;, &quot;opacity&quot;: 1.0, &quot;radius&quot;: 3, &quot;stroke&quot;: true, &quot;weight&quot;: 1}\n",
       "            ).addTo(map_0f194e2aaa6e0c52ce4a98779fb6afef);\n",
       "        \n",
       "    \n",
       "        var popup_ab7b01c241dde06b1b1cb52fa4d8e3da = L.popup({\n",
       "  &quot;maxWidth&quot;: 250,\n",
       "});\n",
       "\n",
       "        \n",
       "            \n",
       "                var html_563de5d127f87c21d305754023789bf3 = $(`&lt;div id=&quot;html_563de5d127f87c21d305754023789bf3&quot; style=&quot;width: 100.0%; height: 100.0%;&quot;&gt;             &lt;div style=&quot;width: 200px;&quot;&gt;                 &lt;h4&gt;Marine Monitoring Point&lt;/h4&gt;                 &lt;p&gt;&lt;strong&gt;Coordinates:&lt;/strong&gt; -43.089, 70.926&lt;/p&gt;                 &lt;p&gt;&lt;strong&gt;Hotspot Probability:&lt;/strong&gt; 1.6%&lt;/p&gt;                 &lt;p&gt;&lt;strong&gt;Concentration:&lt;/strong&gt; 25.79 particles/m³&lt;/p&gt;                 &lt;p&gt;&lt;strong&gt;Water Temp:&lt;/strong&gt; 8.5°C&lt;/p&gt;                 &lt;p&gt;&lt;strong&gt;Current Speed:&lt;/strong&gt; 10.3 m/s&lt;/p&gt;                 &lt;p&gt;&lt;strong&gt;Date:&lt;/strong&gt; 2025-09-01&lt;/p&gt;             &lt;/div&gt;             &lt;/div&gt;`)[0];\n",
       "                popup_ab7b01c241dde06b1b1cb52fa4d8e3da.setContent(html_563de5d127f87c21d305754023789bf3);\n",
       "            \n",
       "        \n",
       "\n",
       "        circle_marker_f219a239ef958e3b7d3fd60d461d39b4.bindPopup(popup_ab7b01c241dde06b1b1cb52fa4d8e3da)\n",
       "        ;\n",
       "\n",
       "        \n",
       "    \n",
       "    \n",
       "            circle_marker_f219a239ef958e3b7d3fd60d461d39b4.bindTooltip(\n",
       "                `&lt;div&gt;\n",
       "                     Hotspot Risk: 1.6%\n",
       "                 &lt;/div&gt;`,\n",
       "                {\n",
       "  &quot;sticky&quot;: true,\n",
       "}\n",
       "            );\n",
       "        \n",
       "    \n",
       "            var circle_marker_ac50b80b0b41dc4ed47f4c3fe5c28680 = L.circleMarker(\n",
       "                [36.26363769048476, 72.89427023535933],\n",
       "                {&quot;bubblingMouseEvents&quot;: true, &quot;color&quot;: &quot;black&quot;, &quot;dashArray&quot;: null, &quot;dashOffset&quot;: null, &quot;fill&quot;: true, &quot;fillColor&quot;: &quot;green&quot;, &quot;fillOpacity&quot;: 0.7, &quot;fillRule&quot;: &quot;evenodd&quot;, &quot;lineCap&quot;: &quot;round&quot;, &quot;lineJoin&quot;: &quot;round&quot;, &quot;opacity&quot;: 1.0, &quot;radius&quot;: 3, &quot;stroke&quot;: true, &quot;weight&quot;: 1}\n",
       "            ).addTo(map_0f194e2aaa6e0c52ce4a98779fb6afef);\n",
       "        \n",
       "    \n",
       "        var popup_2a034efb2918af339a54e243c41de082 = L.popup({\n",
       "  &quot;maxWidth&quot;: 250,\n",
       "});\n",
       "\n",
       "        \n",
       "            \n",
       "                var html_60e34d12db267903ce283ea2bd4cd125 = $(`&lt;div id=&quot;html_60e34d12db267903ce283ea2bd4cd125&quot; style=&quot;width: 100.0%; height: 100.0%;&quot;&gt;             &lt;div style=&quot;width: 200px;&quot;&gt;                 &lt;h4&gt;Marine Monitoring Point&lt;/h4&gt;                 &lt;p&gt;&lt;strong&gt;Coordinates:&lt;/strong&gt; 36.264, 72.894&lt;/p&gt;                 &lt;p&gt;&lt;strong&gt;Hotspot Probability:&lt;/strong&gt; 4.0%&lt;/p&gt;                 &lt;p&gt;&lt;strong&gt;Concentration:&lt;/strong&gt; 11.25 particles/m³&lt;/p&gt;                 &lt;p&gt;&lt;strong&gt;Water Temp:&lt;/strong&gt; 21.9°C&lt;/p&gt;                 &lt;p&gt;&lt;strong&gt;Current Speed:&lt;/strong&gt; 4.6 m/s&lt;/p&gt;                 &lt;p&gt;&lt;strong&gt;Date:&lt;/strong&gt; 2025-09-30&lt;/p&gt;             &lt;/div&gt;             &lt;/div&gt;`)[0];\n",
       "                popup_2a034efb2918af339a54e243c41de082.setContent(html_60e34d12db267903ce283ea2bd4cd125);\n",
       "            \n",
       "        \n",
       "\n",
       "        circle_marker_ac50b80b0b41dc4ed47f4c3fe5c28680.bindPopup(popup_2a034efb2918af339a54e243c41de082)\n",
       "        ;\n",
       "\n",
       "        \n",
       "    \n",
       "    \n",
       "            circle_marker_ac50b80b0b41dc4ed47f4c3fe5c28680.bindTooltip(\n",
       "                `&lt;div&gt;\n",
       "                     Hotspot Risk: 4.0%\n",
       "                 &lt;/div&gt;`,\n",
       "                {\n",
       "  &quot;sticky&quot;: true,\n",
       "}\n",
       "            );\n",
       "        \n",
       "    \n",
       "            var circle_marker_7e90ebe84a353d8360c18962c7eb95fa = L.circleMarker(\n",
       "                [-51.053922758427504, -50.58318556088814],\n",
       "                {&quot;bubblingMouseEvents&quot;: true, &quot;color&quot;: &quot;black&quot;, &quot;dashArray&quot;: null, &quot;dashOffset&quot;: null, &quot;fill&quot;: true, &quot;fillColor&quot;: &quot;green&quot;, &quot;fillOpacity&quot;: 0.7, &quot;fillRule&quot;: &quot;evenodd&quot;, &quot;lineCap&quot;: &quot;round&quot;, &quot;lineJoin&quot;: &quot;round&quot;, &quot;opacity&quot;: 1.0, &quot;radius&quot;: 3, &quot;stroke&quot;: true, &quot;weight&quot;: 1}\n",
       "            ).addTo(map_0f194e2aaa6e0c52ce4a98779fb6afef);\n",
       "        \n",
       "    \n",
       "        var popup_9feb96078efa8dc4d998ed7dc36e67c9 = L.popup({\n",
       "  &quot;maxWidth&quot;: 250,\n",
       "});\n",
       "\n",
       "        \n",
       "            \n",
       "                var html_6fe1e95211eac4ae1e0217a9d91b0eb0 = $(`&lt;div id=&quot;html_6fe1e95211eac4ae1e0217a9d91b0eb0&quot; style=&quot;width: 100.0%; height: 100.0%;&quot;&gt;             &lt;div style=&quot;width: 200px;&quot;&gt;                 &lt;h4&gt;Marine Monitoring Point&lt;/h4&gt;                 &lt;p&gt;&lt;strong&gt;Coordinates:&lt;/strong&gt; -51.054, -50.583&lt;/p&gt;                 &lt;p&gt;&lt;strong&gt;Hotspot Probability:&lt;/strong&gt; -11.2%&lt;/p&gt;                 &lt;p&gt;&lt;strong&gt;Concentration:&lt;/strong&gt; 5.61 particles/m³&lt;/p&gt;                 &lt;p&gt;&lt;strong&gt;Water Temp:&lt;/strong&gt; 20.2°C&lt;/p&gt;                 &lt;p&gt;&lt;strong&gt;Current Speed:&lt;/strong&gt; 1.3 m/s&lt;/p&gt;                 &lt;p&gt;&lt;strong&gt;Date:&lt;/strong&gt; 2025-09-09&lt;/p&gt;             &lt;/div&gt;             &lt;/div&gt;`)[0];\n",
       "                popup_9feb96078efa8dc4d998ed7dc36e67c9.setContent(html_6fe1e95211eac4ae1e0217a9d91b0eb0);\n",
       "            \n",
       "        \n",
       "\n",
       "        circle_marker_7e90ebe84a353d8360c18962c7eb95fa.bindPopup(popup_9feb96078efa8dc4d998ed7dc36e67c9)\n",
       "        ;\n",
       "\n",
       "        \n",
       "    \n",
       "    \n",
       "            circle_marker_7e90ebe84a353d8360c18962c7eb95fa.bindTooltip(\n",
       "                `&lt;div&gt;\n",
       "                     Hotspot Risk: -11.2%\n",
       "                 &lt;/div&gt;`,\n",
       "                {\n",
       "  &quot;sticky&quot;: true,\n",
       "}\n",
       "            );\n",
       "        \n",
       "    \n",
       "            var circle_marker_e8a250a5fcce095fb749288d9cb33bc2 = L.circleMarker(\n",
       "                [58.426432392062075, -74.30693606478239],\n",
       "                {&quot;bubblingMouseEvents&quot;: true, &quot;color&quot;: &quot;black&quot;, &quot;dashArray&quot;: null, &quot;dashOffset&quot;: null, &quot;fill&quot;: true, &quot;fillColor&quot;: &quot;green&quot;, &quot;fillOpacity&quot;: 0.7, &quot;fillRule&quot;: &quot;evenodd&quot;, &quot;lineCap&quot;: &quot;round&quot;, &quot;lineJoin&quot;: &quot;round&quot;, &quot;opacity&quot;: 1.0, &quot;radius&quot;: 3, &quot;stroke&quot;: true, &quot;weight&quot;: 1}\n",
       "            ).addTo(map_0f194e2aaa6e0c52ce4a98779fb6afef);\n",
       "        \n",
       "    \n",
       "        var popup_c477040424813e730ddadf70b6f870b7 = L.popup({\n",
       "  &quot;maxWidth&quot;: 250,\n",
       "});\n",
       "\n",
       "        \n",
       "            \n",
       "                var html_76dd836437f53871d7e82bebbe92f6ce = $(`&lt;div id=&quot;html_76dd836437f53871d7e82bebbe92f6ce&quot; style=&quot;width: 100.0%; height: 100.0%;&quot;&gt;             &lt;div style=&quot;width: 200px;&quot;&gt;                 &lt;h4&gt;Marine Monitoring Point&lt;/h4&gt;                 &lt;p&gt;&lt;strong&gt;Coordinates:&lt;/strong&gt; 58.426, -74.307&lt;/p&gt;                 &lt;p&gt;&lt;strong&gt;Hotspot Probability:&lt;/strong&gt; 4.7%&lt;/p&gt;                 &lt;p&gt;&lt;strong&gt;Concentration:&lt;/strong&gt; 2.57 particles/m³&lt;/p&gt;                 &lt;p&gt;&lt;strong&gt;Water Temp:&lt;/strong&gt; -0.1°C&lt;/p&gt;                 &lt;p&gt;&lt;strong&gt;Current Speed:&lt;/strong&gt; 5.2 m/s&lt;/p&gt;                 &lt;p&gt;&lt;strong&gt;Date:&lt;/strong&gt; 2025-07-10&lt;/p&gt;             &lt;/div&gt;             &lt;/div&gt;`)[0];\n",
       "                popup_c477040424813e730ddadf70b6f870b7.setContent(html_76dd836437f53871d7e82bebbe92f6ce);\n",
       "            \n",
       "        \n",
       "\n",
       "        circle_marker_e8a250a5fcce095fb749288d9cb33bc2.bindPopup(popup_c477040424813e730ddadf70b6f870b7)\n",
       "        ;\n",
       "\n",
       "        \n",
       "    \n",
       "    \n",
       "            circle_marker_e8a250a5fcce095fb749288d9cb33bc2.bindTooltip(\n",
       "                `&lt;div&gt;\n",
       "                     Hotspot Risk: 4.7%\n",
       "                 &lt;/div&gt;`,\n",
       "                {\n",
       "  &quot;sticky&quot;: true,\n",
       "}\n",
       "            );\n",
       "        \n",
       "    \n",
       "            var circle_marker_5f7ce18c00f89e775c402e63f5a176f3 = L.circleMarker(\n",
       "                [32.66937231559889, 111.3700159722649],\n",
       "                {&quot;bubblingMouseEvents&quot;: true, &quot;color&quot;: &quot;black&quot;, &quot;dashArray&quot;: null, &quot;dashOffset&quot;: null, &quot;fill&quot;: true, &quot;fillColor&quot;: &quot;green&quot;, &quot;fillOpacity&quot;: 0.7, &quot;fillRule&quot;: &quot;evenodd&quot;, &quot;lineCap&quot;: &quot;round&quot;, &quot;lineJoin&quot;: &quot;round&quot;, &quot;opacity&quot;: 1.0, &quot;radius&quot;: 3, &quot;stroke&quot;: true, &quot;weight&quot;: 1}\n",
       "            ).addTo(map_0f194e2aaa6e0c52ce4a98779fb6afef);\n",
       "        \n",
       "    \n",
       "        var popup_f6d3138803828b3c116ed88fef31a13e = L.popup({\n",
       "  &quot;maxWidth&quot;: 250,\n",
       "});\n",
       "\n",
       "        \n",
       "            \n",
       "                var html_3e2d0827ba17bcb4ee6d75e4b48d97da = $(`&lt;div id=&quot;html_3e2d0827ba17bcb4ee6d75e4b48d97da&quot; style=&quot;width: 100.0%; height: 100.0%;&quot;&gt;             &lt;div style=&quot;width: 200px;&quot;&gt;                 &lt;h4&gt;Marine Monitoring Point&lt;/h4&gt;                 &lt;p&gt;&lt;strong&gt;Coordinates:&lt;/strong&gt; 32.669, 111.370&lt;/p&gt;                 &lt;p&gt;&lt;strong&gt;Hotspot Probability:&lt;/strong&gt; 2.4%&lt;/p&gt;                 &lt;p&gt;&lt;strong&gt;Concentration:&lt;/strong&gt; 4.04 particles/m³&lt;/p&gt;                 &lt;p&gt;&lt;strong&gt;Water Temp:&lt;/strong&gt; 12.7°C&lt;/p&gt;                 &lt;p&gt;&lt;strong&gt;Current Speed:&lt;/strong&gt; 3.5 m/s&lt;/p&gt;                 &lt;p&gt;&lt;strong&gt;Date:&lt;/strong&gt; 2025-10-12&lt;/p&gt;             &lt;/div&gt;             &lt;/div&gt;`)[0];\n",
       "                popup_f6d3138803828b3c116ed88fef31a13e.setContent(html_3e2d0827ba17bcb4ee6d75e4b48d97da);\n",
       "            \n",
       "        \n",
       "\n",
       "        circle_marker_5f7ce18c00f89e775c402e63f5a176f3.bindPopup(popup_f6d3138803828b3c116ed88fef31a13e)\n",
       "        ;\n",
       "\n",
       "        \n",
       "    \n",
       "    \n",
       "            circle_marker_5f7ce18c00f89e775c402e63f5a176f3.bindTooltip(\n",
       "                `&lt;div&gt;\n",
       "                     Hotspot Risk: 2.4%\n",
       "                 &lt;/div&gt;`,\n",
       "                {\n",
       "  &quot;sticky&quot;: true,\n",
       "}\n",
       "            );\n",
       "        \n",
       "    \n",
       "            var circle_marker_814e068ef993e2d9bbcd10ea7292b1c3 = L.circleMarker(\n",
       "                [-36.15411821589931, 111.64082208450507],\n",
       "                {&quot;bubblingMouseEvents&quot;: true, &quot;color&quot;: &quot;black&quot;, &quot;dashArray&quot;: null, &quot;dashOffset&quot;: null, &quot;fill&quot;: true, &quot;fillColor&quot;: &quot;green&quot;, &quot;fillOpacity&quot;: 0.7, &quot;fillRule&quot;: &quot;evenodd&quot;, &quot;lineCap&quot;: &quot;round&quot;, &quot;lineJoin&quot;: &quot;round&quot;, &quot;opacity&quot;: 1.0, &quot;radius&quot;: 3, &quot;stroke&quot;: true, &quot;weight&quot;: 1}\n",
       "            ).addTo(map_0f194e2aaa6e0c52ce4a98779fb6afef);\n",
       "        \n",
       "    \n",
       "        var popup_fed2f2ca1c7f01f210bc238fd0760518 = L.popup({\n",
       "  &quot;maxWidth&quot;: 250,\n",
       "});\n",
       "\n",
       "        \n",
       "            \n",
       "                var html_9a098cda455ad1d62d3445f3f6d7fee4 = $(`&lt;div id=&quot;html_9a098cda455ad1d62d3445f3f6d7fee4&quot; style=&quot;width: 100.0%; height: 100.0%;&quot;&gt;             &lt;div style=&quot;width: 200px;&quot;&gt;                 &lt;h4&gt;Marine Monitoring Point&lt;/h4&gt;                 &lt;p&gt;&lt;strong&gt;Coordinates:&lt;/strong&gt; -36.154, 111.641&lt;/p&gt;                 &lt;p&gt;&lt;strong&gt;Hotspot Probability:&lt;/strong&gt; 11.5%&lt;/p&gt;                 &lt;p&gt;&lt;strong&gt;Concentration:&lt;/strong&gt; 5.71 particles/m³&lt;/p&gt;                 &lt;p&gt;&lt;strong&gt;Water Temp:&lt;/strong&gt; 7.9°C&lt;/p&gt;                 &lt;p&gt;&lt;strong&gt;Current Speed:&lt;/strong&gt; 3.6 m/s&lt;/p&gt;                 &lt;p&gt;&lt;strong&gt;Date:&lt;/strong&gt; 2025-06-02&lt;/p&gt;             &lt;/div&gt;             &lt;/div&gt;`)[0];\n",
       "                popup_fed2f2ca1c7f01f210bc238fd0760518.setContent(html_9a098cda455ad1d62d3445f3f6d7fee4);\n",
       "            \n",
       "        \n",
       "\n",
       "        circle_marker_814e068ef993e2d9bbcd10ea7292b1c3.bindPopup(popup_fed2f2ca1c7f01f210bc238fd0760518)\n",
       "        ;\n",
       "\n",
       "        \n",
       "    \n",
       "    \n",
       "            circle_marker_814e068ef993e2d9bbcd10ea7292b1c3.bindTooltip(\n",
       "                `&lt;div&gt;\n",
       "                     Hotspot Risk: 11.5%\n",
       "                 &lt;/div&gt;`,\n",
       "                {\n",
       "  &quot;sticky&quot;: true,\n",
       "}\n",
       "            );\n",
       "        \n",
       "    \n",
       "            var circle_marker_6c2fc962ea1dd9b3612d6523a6b44cff = L.circleMarker(\n",
       "                [-59.33734594516771, 132.14603468883732],\n",
       "                {&quot;bubblingMouseEvents&quot;: true, &quot;color&quot;: &quot;black&quot;, &quot;dashArray&quot;: null, &quot;dashOffset&quot;: null, &quot;fill&quot;: true, &quot;fillColor&quot;: &quot;green&quot;, &quot;fillOpacity&quot;: 0.7, &quot;fillRule&quot;: &quot;evenodd&quot;, &quot;lineCap&quot;: &quot;round&quot;, &quot;lineJoin&quot;: &quot;round&quot;, &quot;opacity&quot;: 1.0, &quot;radius&quot;: 3, &quot;stroke&quot;: true, &quot;weight&quot;: 1}\n",
       "            ).addTo(map_0f194e2aaa6e0c52ce4a98779fb6afef);\n",
       "        \n",
       "    \n",
       "        var popup_3c92c3860155c23c4506e183ab6a59d1 = L.popup({\n",
       "  &quot;maxWidth&quot;: 250,\n",
       "});\n",
       "\n",
       "        \n",
       "            \n",
       "                var html_30dea85cb34a4f2dba1a1c3afec18e42 = $(`&lt;div id=&quot;html_30dea85cb34a4f2dba1a1c3afec18e42&quot; style=&quot;width: 100.0%; height: 100.0%;&quot;&gt;             &lt;div style=&quot;width: 200px;&quot;&gt;                 &lt;h4&gt;Marine Monitoring Point&lt;/h4&gt;                 &lt;p&gt;&lt;strong&gt;Coordinates:&lt;/strong&gt; -59.337, 132.146&lt;/p&gt;                 &lt;p&gt;&lt;strong&gt;Hotspot Probability:&lt;/strong&gt; 13.4%&lt;/p&gt;                 &lt;p&gt;&lt;strong&gt;Concentration:&lt;/strong&gt; 28.88 particles/m³&lt;/p&gt;                 &lt;p&gt;&lt;strong&gt;Water Temp:&lt;/strong&gt; 11.9°C&lt;/p&gt;                 &lt;p&gt;&lt;strong&gt;Current Speed:&lt;/strong&gt; 1.1 m/s&lt;/p&gt;                 &lt;p&gt;&lt;strong&gt;Date:&lt;/strong&gt; 2025-07-13&lt;/p&gt;             &lt;/div&gt;             &lt;/div&gt;`)[0];\n",
       "                popup_3c92c3860155c23c4506e183ab6a59d1.setContent(html_30dea85cb34a4f2dba1a1c3afec18e42);\n",
       "            \n",
       "        \n",
       "\n",
       "        circle_marker_6c2fc962ea1dd9b3612d6523a6b44cff.bindPopup(popup_3c92c3860155c23c4506e183ab6a59d1)\n",
       "        ;\n",
       "\n",
       "        \n",
       "    \n",
       "    \n",
       "            circle_marker_6c2fc962ea1dd9b3612d6523a6b44cff.bindTooltip(\n",
       "                `&lt;div&gt;\n",
       "                     Hotspot Risk: 13.4%\n",
       "                 &lt;/div&gt;`,\n",
       "                {\n",
       "  &quot;sticky&quot;: true,\n",
       "}\n",
       "            );\n",
       "        \n",
       "    \n",
       "            var circle_marker_28ae1ad64b8e606c3a4270038d098e79 = L.circleMarker(\n",
       "                [37.8553714145801, 148.76659892032967],\n",
       "                {&quot;bubblingMouseEvents&quot;: true, &quot;color&quot;: &quot;black&quot;, &quot;dashArray&quot;: null, &quot;dashOffset&quot;: null, &quot;fill&quot;: true, &quot;fillColor&quot;: &quot;yellow&quot;, &quot;fillOpacity&quot;: 0.7, &quot;fillRule&quot;: &quot;evenodd&quot;, &quot;lineCap&quot;: &quot;round&quot;, &quot;lineJoin&quot;: &quot;round&quot;, &quot;opacity&quot;: 1.0, &quot;radius&quot;: 4.314256258823829, &quot;stroke&quot;: true, &quot;weight&quot;: 1}\n",
       "            ).addTo(map_0f194e2aaa6e0c52ce4a98779fb6afef);\n",
       "        \n",
       "    \n",
       "        var popup_b78f9f570afc40cfbaf23d33fd66b67d = L.popup({\n",
       "  &quot;maxWidth&quot;: 250,\n",
       "});\n",
       "\n",
       "        \n",
       "            \n",
       "                var html_421caf607fac1dda512318384a56c929 = $(`&lt;div id=&quot;html_421caf607fac1dda512318384a56c929&quot; style=&quot;width: 100.0%; height: 100.0%;&quot;&gt;             &lt;div style=&quot;width: 200px;&quot;&gt;                 &lt;h4&gt;Marine Monitoring Point&lt;/h4&gt;                 &lt;p&gt;&lt;strong&gt;Coordinates:&lt;/strong&gt; 37.855, 148.767&lt;/p&gt;                 &lt;p&gt;&lt;strong&gt;Hotspot Probability:&lt;/strong&gt; 28.8%&lt;/p&gt;                 &lt;p&gt;&lt;strong&gt;Concentration:&lt;/strong&gt; 15.96 particles/m³&lt;/p&gt;                 &lt;p&gt;&lt;strong&gt;Water Temp:&lt;/strong&gt; 9.6°C&lt;/p&gt;                 &lt;p&gt;&lt;strong&gt;Current Speed:&lt;/strong&gt; 6.7 m/s&lt;/p&gt;                 &lt;p&gt;&lt;strong&gt;Date:&lt;/strong&gt; 2025-08-28&lt;/p&gt;             &lt;/div&gt;             &lt;/div&gt;`)[0];\n",
       "                popup_b78f9f570afc40cfbaf23d33fd66b67d.setContent(html_421caf607fac1dda512318384a56c929);\n",
       "            \n",
       "        \n",
       "\n",
       "        circle_marker_28ae1ad64b8e606c3a4270038d098e79.bindPopup(popup_b78f9f570afc40cfbaf23d33fd66b67d)\n",
       "        ;\n",
       "\n",
       "        \n",
       "    \n",
       "    \n",
       "            circle_marker_28ae1ad64b8e606c3a4270038d098e79.bindTooltip(\n",
       "                `&lt;div&gt;\n",
       "                     Hotspot Risk: 28.8%\n",
       "                 &lt;/div&gt;`,\n",
       "                {\n",
       "  &quot;sticky&quot;: true,\n",
       "}\n",
       "            );\n",
       "        \n",
       "    \n",
       "            var circle_marker_59c5d4ec371c6d3ecd65b4173c514157 = L.circleMarker(\n",
       "                [24.822881261714052, 4.083263589937607],\n",
       "                {&quot;bubblingMouseEvents&quot;: true, &quot;color&quot;: &quot;black&quot;, &quot;dashArray&quot;: null, &quot;dashOffset&quot;: null, &quot;fill&quot;: true, &quot;fillColor&quot;: &quot;orange&quot;, &quot;fillOpacity&quot;: 0.7, &quot;fillRule&quot;: &quot;evenodd&quot;, &quot;lineCap&quot;: &quot;round&quot;, &quot;lineJoin&quot;: &quot;round&quot;, &quot;opacity&quot;: 1.0, &quot;radius&quot;: 7.425635757279076, &quot;stroke&quot;: true, &quot;weight&quot;: 1}\n",
       "            ).addTo(map_0f194e2aaa6e0c52ce4a98779fb6afef);\n",
       "        \n",
       "    \n",
       "        var popup_0a50a7284d5106fffb87d025beba7f8c = L.popup({\n",
       "  &quot;maxWidth&quot;: 250,\n",
       "});\n",
       "\n",
       "        \n",
       "            \n",
       "                var html_010f1e65459a446df7df0a501624b1ef = $(`&lt;div id=&quot;html_010f1e65459a446df7df0a501624b1ef&quot; style=&quot;width: 100.0%; height: 100.0%;&quot;&gt;             &lt;div style=&quot;width: 200px;&quot;&gt;                 &lt;h4&gt;Marine Monitoring Point&lt;/h4&gt;                 &lt;p&gt;&lt;strong&gt;Coordinates:&lt;/strong&gt; 24.823, 4.083&lt;/p&gt;                 &lt;p&gt;&lt;strong&gt;Hotspot Probability:&lt;/strong&gt; 49.5%&lt;/p&gt;                 &lt;p&gt;&lt;strong&gt;Concentration:&lt;/strong&gt; 10.28 particles/m³&lt;/p&gt;                 &lt;p&gt;&lt;strong&gt;Water Temp:&lt;/strong&gt; 14.6°C&lt;/p&gt;                 &lt;p&gt;&lt;strong&gt;Current Speed:&lt;/strong&gt; 0.3 m/s&lt;/p&gt;                 &lt;p&gt;&lt;strong&gt;Date:&lt;/strong&gt; 2025-07-29&lt;/p&gt;             &lt;/div&gt;             &lt;/div&gt;`)[0];\n",
       "                popup_0a50a7284d5106fffb87d025beba7f8c.setContent(html_010f1e65459a446df7df0a501624b1ef);\n",
       "            \n",
       "        \n",
       "\n",
       "        circle_marker_59c5d4ec371c6d3ecd65b4173c514157.bindPopup(popup_0a50a7284d5106fffb87d025beba7f8c)\n",
       "        ;\n",
       "\n",
       "        \n",
       "    \n",
       "    \n",
       "            circle_marker_59c5d4ec371c6d3ecd65b4173c514157.bindTooltip(\n",
       "                `&lt;div&gt;\n",
       "                     Hotspot Risk: 49.5%\n",
       "                 &lt;/div&gt;`,\n",
       "                {\n",
       "  &quot;sticky&quot;: true,\n",
       "}\n",
       "            );\n",
       "        \n",
       "    \n",
       "            var circle_marker_12224d98a06ebc48770be1f00177a97a = L.circleMarker(\n",
       "                [27.480860164918475, 0.5458660873918575],\n",
       "                {&quot;bubblingMouseEvents&quot;: true, &quot;color&quot;: &quot;black&quot;, &quot;dashArray&quot;: null, &quot;dashOffset&quot;: null, &quot;fill&quot;: true, &quot;fillColor&quot;: &quot;yellow&quot;, &quot;fillOpacity&quot;: 0.7, &quot;fillRule&quot;: &quot;evenodd&quot;, &quot;lineCap&quot;: &quot;round&quot;, &quot;lineJoin&quot;: &quot;round&quot;, &quot;opacity&quot;: 1.0, &quot;radius&quot;: 5.134644516506396, &quot;stroke&quot;: true, &quot;weight&quot;: 1}\n",
       "            ).addTo(map_0f194e2aaa6e0c52ce4a98779fb6afef);\n",
       "        \n",
       "    \n",
       "        var popup_7d72572808c7facdcaa0a66c54ef770b = L.popup({\n",
       "  &quot;maxWidth&quot;: 250,\n",
       "});\n",
       "\n",
       "        \n",
       "            \n",
       "                var html_e2ec56b9979ac550133ffe0de9abbb8b = $(`&lt;div id=&quot;html_e2ec56b9979ac550133ffe0de9abbb8b&quot; style=&quot;width: 100.0%; height: 100.0%;&quot;&gt;             &lt;div style=&quot;width: 200px;&quot;&gt;                 &lt;h4&gt;Marine Monitoring Point&lt;/h4&gt;                 &lt;p&gt;&lt;strong&gt;Coordinates:&lt;/strong&gt; 27.481, 0.546&lt;/p&gt;                 &lt;p&gt;&lt;strong&gt;Hotspot Probability:&lt;/strong&gt; 34.2%&lt;/p&gt;                 &lt;p&gt;&lt;strong&gt;Concentration:&lt;/strong&gt; 17.64 particles/m³&lt;/p&gt;                 &lt;p&gt;&lt;strong&gt;Water Temp:&lt;/strong&gt; 12.4°C&lt;/p&gt;                 &lt;p&gt;&lt;strong&gt;Current Speed:&lt;/strong&gt; 8.0 m/s&lt;/p&gt;                 &lt;p&gt;&lt;strong&gt;Date:&lt;/strong&gt; 2025-08-03&lt;/p&gt;             &lt;/div&gt;             &lt;/div&gt;`)[0];\n",
       "                popup_7d72572808c7facdcaa0a66c54ef770b.setContent(html_e2ec56b9979ac550133ffe0de9abbb8b);\n",
       "            \n",
       "        \n",
       "\n",
       "        circle_marker_12224d98a06ebc48770be1f00177a97a.bindPopup(popup_7d72572808c7facdcaa0a66c54ef770b)\n",
       "        ;\n",
       "\n",
       "        \n",
       "    \n",
       "    \n",
       "            circle_marker_12224d98a06ebc48770be1f00177a97a.bindTooltip(\n",
       "                `&lt;div&gt;\n",
       "                     Hotspot Risk: 34.2%\n",
       "                 &lt;/div&gt;`,\n",
       "                {\n",
       "  &quot;sticky&quot;: true,\n",
       "}\n",
       "            );\n",
       "        \n",
       "    \n",
       "            var circle_marker_cf82faad74a5172590002e84111047ef = L.circleMarker(\n",
       "                [32.552441602313486, 107.38626442803906],\n",
       "                {&quot;bubblingMouseEvents&quot;: true, &quot;color&quot;: &quot;black&quot;, &quot;dashArray&quot;: null, &quot;dashOffset&quot;: null, &quot;fill&quot;: true, &quot;fillColor&quot;: &quot;green&quot;, &quot;fillOpacity&quot;: 0.7, &quot;fillRule&quot;: &quot;evenodd&quot;, &quot;lineCap&quot;: &quot;round&quot;, &quot;lineJoin&quot;: &quot;round&quot;, &quot;opacity&quot;: 1.0, &quot;radius&quot;: 3, &quot;stroke&quot;: true, &quot;weight&quot;: 1}\n",
       "            ).addTo(map_0f194e2aaa6e0c52ce4a98779fb6afef);\n",
       "        \n",
       "    \n",
       "        var popup_36c71f2c9236b841d0c60384840b8323 = L.popup({\n",
       "  &quot;maxWidth&quot;: 250,\n",
       "});\n",
       "\n",
       "        \n",
       "            \n",
       "                var html_4748b9a750e89eced06d32d89727c520 = $(`&lt;div id=&quot;html_4748b9a750e89eced06d32d89727c520&quot; style=&quot;width: 100.0%; height: 100.0%;&quot;&gt;             &lt;div style=&quot;width: 200px;&quot;&gt;                 &lt;h4&gt;Marine Monitoring Point&lt;/h4&gt;                 &lt;p&gt;&lt;strong&gt;Coordinates:&lt;/strong&gt; 32.552, 107.386&lt;/p&gt;                 &lt;p&gt;&lt;strong&gt;Hotspot Probability:&lt;/strong&gt; 1.0%&lt;/p&gt;                 &lt;p&gt;&lt;strong&gt;Concentration:&lt;/strong&gt; 12.52 particles/m³&lt;/p&gt;                 &lt;p&gt;&lt;strong&gt;Water Temp:&lt;/strong&gt; 12.2°C&lt;/p&gt;                 &lt;p&gt;&lt;strong&gt;Current Speed:&lt;/strong&gt; 3.6 m/s&lt;/p&gt;                 &lt;p&gt;&lt;strong&gt;Date:&lt;/strong&gt; 2025-05-17&lt;/p&gt;             &lt;/div&gt;             &lt;/div&gt;`)[0];\n",
       "                popup_36c71f2c9236b841d0c60384840b8323.setContent(html_4748b9a750e89eced06d32d89727c520);\n",
       "            \n",
       "        \n",
       "\n",
       "        circle_marker_cf82faad74a5172590002e84111047ef.bindPopup(popup_36c71f2c9236b841d0c60384840b8323)\n",
       "        ;\n",
       "\n",
       "        \n",
       "    \n",
       "    \n",
       "            circle_marker_cf82faad74a5172590002e84111047ef.bindTooltip(\n",
       "                `&lt;div&gt;\n",
       "                     Hotspot Risk: 1.0%\n",
       "                 &lt;/div&gt;`,\n",
       "                {\n",
       "  &quot;sticky&quot;: true,\n",
       "}\n",
       "            );\n",
       "        \n",
       "    \n",
       "            var circle_marker_ea8f63f11d51d0775ae67ae186155328 = L.circleMarker(\n",
       "                [-51.11464179190916, 53.98701507999546],\n",
       "                {&quot;bubblingMouseEvents&quot;: true, &quot;color&quot;: &quot;black&quot;, &quot;dashArray&quot;: null, &quot;dashOffset&quot;: null, &quot;fill&quot;: true, &quot;fillColor&quot;: &quot;green&quot;, &quot;fillOpacity&quot;: 0.7, &quot;fillRule&quot;: &quot;evenodd&quot;, &quot;lineCap&quot;: &quot;round&quot;, &quot;lineJoin&quot;: &quot;round&quot;, &quot;opacity&quot;: 1.0, &quot;radius&quot;: 3, &quot;stroke&quot;: true, &quot;weight&quot;: 1}\n",
       "            ).addTo(map_0f194e2aaa6e0c52ce4a98779fb6afef);\n",
       "        \n",
       "    \n",
       "        var popup_b9f46afec6f3106df911abe05873bd17 = L.popup({\n",
       "  &quot;maxWidth&quot;: 250,\n",
       "});\n",
       "\n",
       "        \n",
       "            \n",
       "                var html_8f0bfae1669a4b3ffd022d10a94fcc53 = $(`&lt;div id=&quot;html_8f0bfae1669a4b3ffd022d10a94fcc53&quot; style=&quot;width: 100.0%; height: 100.0%;&quot;&gt;             &lt;div style=&quot;width: 200px;&quot;&gt;                 &lt;h4&gt;Marine Monitoring Point&lt;/h4&gt;                 &lt;p&gt;&lt;strong&gt;Coordinates:&lt;/strong&gt; -51.115, 53.987&lt;/p&gt;                 &lt;p&gt;&lt;strong&gt;Hotspot Probability:&lt;/strong&gt; 14.9%&lt;/p&gt;                 &lt;p&gt;&lt;strong&gt;Concentration:&lt;/strong&gt; 9.60 particles/m³&lt;/p&gt;                 &lt;p&gt;&lt;strong&gt;Water Temp:&lt;/strong&gt; 23.9°C&lt;/p&gt;                 &lt;p&gt;&lt;strong&gt;Current Speed:&lt;/strong&gt; 1.1 m/s&lt;/p&gt;                 &lt;p&gt;&lt;strong&gt;Date:&lt;/strong&gt; 2025-03-30&lt;/p&gt;             &lt;/div&gt;             &lt;/div&gt;`)[0];\n",
       "                popup_b9f46afec6f3106df911abe05873bd17.setContent(html_8f0bfae1669a4b3ffd022d10a94fcc53);\n",
       "            \n",
       "        \n",
       "\n",
       "        circle_marker_ea8f63f11d51d0775ae67ae186155328.bindPopup(popup_b9f46afec6f3106df911abe05873bd17)\n",
       "        ;\n",
       "\n",
       "        \n",
       "    \n",
       "    \n",
       "            circle_marker_ea8f63f11d51d0775ae67ae186155328.bindTooltip(\n",
       "                `&lt;div&gt;\n",
       "                     Hotspot Risk: 14.9%\n",
       "                 &lt;/div&gt;`,\n",
       "                {\n",
       "  &quot;sticky&quot;: true,\n",
       "}\n",
       "            );\n",
       "        \n",
       "    \n",
       "            var circle_marker_af48ee4f7ca5e9d905b7778d5ee9b007 = L.circleMarker(\n",
       "                [-16.984112574687288, 72.7080758127732],\n",
       "                {&quot;bubblingMouseEvents&quot;: true, &quot;color&quot;: &quot;black&quot;, &quot;dashArray&quot;: null, &quot;dashOffset&quot;: null, &quot;fill&quot;: true, &quot;fillColor&quot;: &quot;green&quot;, &quot;fillOpacity&quot;: 0.7, &quot;fillRule&quot;: &quot;evenodd&quot;, &quot;lineCap&quot;: &quot;round&quot;, &quot;lineJoin&quot;: &quot;round&quot;, &quot;opacity&quot;: 1.0, &quot;radius&quot;: 3, &quot;stroke&quot;: true, &quot;weight&quot;: 1}\n",
       "            ).addTo(map_0f194e2aaa6e0c52ce4a98779fb6afef);\n",
       "        \n",
       "    \n",
       "        var popup_5892d00ce3c1e7d1d468309a8522b0ac = L.popup({\n",
       "  &quot;maxWidth&quot;: 250,\n",
       "});\n",
       "\n",
       "        \n",
       "            \n",
       "                var html_45809e90e6e0aae446e79a7936a79079 = $(`&lt;div id=&quot;html_45809e90e6e0aae446e79a7936a79079&quot; style=&quot;width: 100.0%; height: 100.0%;&quot;&gt;             &lt;div style=&quot;width: 200px;&quot;&gt;                 &lt;h4&gt;Marine Monitoring Point&lt;/h4&gt;                 &lt;p&gt;&lt;strong&gt;Coordinates:&lt;/strong&gt; -16.984, 72.708&lt;/p&gt;                 &lt;p&gt;&lt;strong&gt;Hotspot Probability:&lt;/strong&gt; -3.2%&lt;/p&gt;                 &lt;p&gt;&lt;strong&gt;Concentration:&lt;/strong&gt; 1.65 particles/m³&lt;/p&gt;                 &lt;p&gt;&lt;strong&gt;Water Temp:&lt;/strong&gt; 19.5°C&lt;/p&gt;                 &lt;p&gt;&lt;strong&gt;Current Speed:&lt;/strong&gt; 9.1 m/s&lt;/p&gt;                 &lt;p&gt;&lt;strong&gt;Date:&lt;/strong&gt; 2024-10-21&lt;/p&gt;             &lt;/div&gt;             &lt;/div&gt;`)[0];\n",
       "                popup_5892d00ce3c1e7d1d468309a8522b0ac.setContent(html_45809e90e6e0aae446e79a7936a79079);\n",
       "            \n",
       "        \n",
       "\n",
       "        circle_marker_af48ee4f7ca5e9d905b7778d5ee9b007.bindPopup(popup_5892d00ce3c1e7d1d468309a8522b0ac)\n",
       "        ;\n",
       "\n",
       "        \n",
       "    \n",
       "    \n",
       "            circle_marker_af48ee4f7ca5e9d905b7778d5ee9b007.bindTooltip(\n",
       "                `&lt;div&gt;\n",
       "                     Hotspot Risk: -3.2%\n",
       "                 &lt;/div&gt;`,\n",
       "                {\n",
       "  &quot;sticky&quot;: true,\n",
       "}\n",
       "            );\n",
       "        \n",
       "    \n",
       "            var circle_marker_a2342ac84bb984f9f6b7627d2252e444 = L.circleMarker(\n",
       "                [-46.095712856984434, 106.48536099699638],\n",
       "                {&quot;bubblingMouseEvents&quot;: true, &quot;color&quot;: &quot;black&quot;, &quot;dashArray&quot;: null, &quot;dashOffset&quot;: null, &quot;fill&quot;: true, &quot;fillColor&quot;: &quot;yellow&quot;, &quot;fillOpacity&quot;: 0.7, &quot;fillRule&quot;: &quot;evenodd&quot;, &quot;lineCap&quot;: &quot;round&quot;, &quot;lineJoin&quot;: &quot;round&quot;, &quot;opacity&quot;: 1.0, &quot;radius&quot;: 4.247188148781531, &quot;stroke&quot;: true, &quot;weight&quot;: 1}\n",
       "            ).addTo(map_0f194e2aaa6e0c52ce4a98779fb6afef);\n",
       "        \n",
       "    \n",
       "        var popup_b4b5bed2098f8e3748e25e00e5f90414 = L.popup({\n",
       "  &quot;maxWidth&quot;: 250,\n",
       "});\n",
       "\n",
       "        \n",
       "            \n",
       "                var html_3b5bfbdef63ce57fd9b4991f1e7a37d4 = $(`&lt;div id=&quot;html_3b5bfbdef63ce57fd9b4991f1e7a37d4&quot; style=&quot;width: 100.0%; height: 100.0%;&quot;&gt;             &lt;div style=&quot;width: 200px;&quot;&gt;                 &lt;h4&gt;Marine Monitoring Point&lt;/h4&gt;                 &lt;p&gt;&lt;strong&gt;Coordinates:&lt;/strong&gt; -46.096, 106.485&lt;/p&gt;                 &lt;p&gt;&lt;strong&gt;Hotspot Probability:&lt;/strong&gt; 28.3%&lt;/p&gt;                 &lt;p&gt;&lt;strong&gt;Concentration:&lt;/strong&gt; 23.08 particles/m³&lt;/p&gt;                 &lt;p&gt;&lt;strong&gt;Water Temp:&lt;/strong&gt; 9.4°C&lt;/p&gt;                 &lt;p&gt;&lt;strong&gt;Current Speed:&lt;/strong&gt; 2.3 m/s&lt;/p&gt;                 &lt;p&gt;&lt;strong&gt;Date:&lt;/strong&gt; 2025-09-20&lt;/p&gt;             &lt;/div&gt;             &lt;/div&gt;`)[0];\n",
       "                popup_b4b5bed2098f8e3748e25e00e5f90414.setContent(html_3b5bfbdef63ce57fd9b4991f1e7a37d4);\n",
       "            \n",
       "        \n",
       "\n",
       "        circle_marker_a2342ac84bb984f9f6b7627d2252e444.bindPopup(popup_b4b5bed2098f8e3748e25e00e5f90414)\n",
       "        ;\n",
       "\n",
       "        \n",
       "    \n",
       "    \n",
       "            circle_marker_a2342ac84bb984f9f6b7627d2252e444.bindTooltip(\n",
       "                `&lt;div&gt;\n",
       "                     Hotspot Risk: 28.3%\n",
       "                 &lt;/div&gt;`,\n",
       "                {\n",
       "  &quot;sticky&quot;: true,\n",
       "}\n",
       "            );\n",
       "        \n",
       "    \n",
       "            var circle_marker_d802fa59f39321f066d43863fb5b0a6b = L.circleMarker(\n",
       "                [43.572411105071225, 140.40192305432387],\n",
       "                {&quot;bubblingMouseEvents&quot;: true, &quot;color&quot;: &quot;black&quot;, &quot;dashArray&quot;: null, &quot;dashOffset&quot;: null, &quot;fill&quot;: true, &quot;fillColor&quot;: &quot;yellow&quot;, &quot;fillOpacity&quot;: 0.7, &quot;fillRule&quot;: &quot;evenodd&quot;, &quot;lineCap&quot;: &quot;round&quot;, &quot;lineJoin&quot;: &quot;round&quot;, &quot;opacity&quot;: 1.0, &quot;radius&quot;: 3.2691601810819306, &quot;stroke&quot;: true, &quot;weight&quot;: 1}\n",
       "            ).addTo(map_0f194e2aaa6e0c52ce4a98779fb6afef);\n",
       "        \n",
       "    \n",
       "        var popup_d8a327f7083e3defa54f24bd559da421 = L.popup({\n",
       "  &quot;maxWidth&quot;: 250,\n",
       "});\n",
       "\n",
       "        \n",
       "            \n",
       "                var html_53d791a6ae6fa97bdd699f66d4af6e30 = $(`&lt;div id=&quot;html_53d791a6ae6fa97bdd699f66d4af6e30&quot; style=&quot;width: 100.0%; height: 100.0%;&quot;&gt;             &lt;div style=&quot;width: 200px;&quot;&gt;                 &lt;h4&gt;Marine Monitoring Point&lt;/h4&gt;                 &lt;p&gt;&lt;strong&gt;Coordinates:&lt;/strong&gt; 43.572, 140.402&lt;/p&gt;                 &lt;p&gt;&lt;strong&gt;Hotspot Probability:&lt;/strong&gt; 21.8%&lt;/p&gt;                 &lt;p&gt;&lt;strong&gt;Concentration:&lt;/strong&gt; 4.67 particles/m³&lt;/p&gt;                 &lt;p&gt;&lt;strong&gt;Water Temp:&lt;/strong&gt; 10.6°C&lt;/p&gt;                 &lt;p&gt;&lt;strong&gt;Current Speed:&lt;/strong&gt; 2.3 m/s&lt;/p&gt;                 &lt;p&gt;&lt;strong&gt;Date:&lt;/strong&gt; 2025-01-02&lt;/p&gt;             &lt;/div&gt;             &lt;/div&gt;`)[0];\n",
       "                popup_d8a327f7083e3defa54f24bd559da421.setContent(html_53d791a6ae6fa97bdd699f66d4af6e30);\n",
       "            \n",
       "        \n",
       "\n",
       "        circle_marker_d802fa59f39321f066d43863fb5b0a6b.bindPopup(popup_d8a327f7083e3defa54f24bd559da421)\n",
       "        ;\n",
       "\n",
       "        \n",
       "    \n",
       "    \n",
       "            circle_marker_d802fa59f39321f066d43863fb5b0a6b.bindTooltip(\n",
       "                `&lt;div&gt;\n",
       "                     Hotspot Risk: 21.8%\n",
       "                 &lt;/div&gt;`,\n",
       "                {\n",
       "  &quot;sticky&quot;: true,\n",
       "}\n",
       "            );\n",
       "        \n",
       "    \n",
       "            var circle_marker_160c96bf05800d58e57ce65a332e6614 = L.circleMarker(\n",
       "                [14.79577521930695, -58.32174353344711],\n",
       "                {&quot;bubblingMouseEvents&quot;: true, &quot;color&quot;: &quot;black&quot;, &quot;dashArray&quot;: null, &quot;dashOffset&quot;: null, &quot;fill&quot;: true, &quot;fillColor&quot;: &quot;green&quot;, &quot;fillOpacity&quot;: 0.7, &quot;fillRule&quot;: &quot;evenodd&quot;, &quot;lineCap&quot;: &quot;round&quot;, &quot;lineJoin&quot;: &quot;round&quot;, &quot;opacity&quot;: 1.0, &quot;radius&quot;: 3, &quot;stroke&quot;: true, &quot;weight&quot;: 1}\n",
       "            ).addTo(map_0f194e2aaa6e0c52ce4a98779fb6afef);\n",
       "        \n",
       "    \n",
       "        var popup_6966ad0bf185773f2d261174e3dacee9 = L.popup({\n",
       "  &quot;maxWidth&quot;: 250,\n",
       "});\n",
       "\n",
       "        \n",
       "            \n",
       "                var html_962307b424e763f52e9eb10221429ee0 = $(`&lt;div id=&quot;html_962307b424e763f52e9eb10221429ee0&quot; style=&quot;width: 100.0%; height: 100.0%;&quot;&gt;             &lt;div style=&quot;width: 200px;&quot;&gt;                 &lt;h4&gt;Marine Monitoring Point&lt;/h4&gt;                 &lt;p&gt;&lt;strong&gt;Coordinates:&lt;/strong&gt; 14.796, -58.322&lt;/p&gt;                 &lt;p&gt;&lt;strong&gt;Hotspot Probability:&lt;/strong&gt; 5.3%&lt;/p&gt;                 &lt;p&gt;&lt;strong&gt;Concentration:&lt;/strong&gt; 21.95 particles/m³&lt;/p&gt;                 &lt;p&gt;&lt;strong&gt;Water Temp:&lt;/strong&gt; 18.9°C&lt;/p&gt;                 &lt;p&gt;&lt;strong&gt;Current Speed:&lt;/strong&gt; 4.9 m/s&lt;/p&gt;                 &lt;p&gt;&lt;strong&gt;Date:&lt;/strong&gt; 2024-12-17&lt;/p&gt;             &lt;/div&gt;             &lt;/div&gt;`)[0];\n",
       "                popup_6966ad0bf185773f2d261174e3dacee9.setContent(html_962307b424e763f52e9eb10221429ee0);\n",
       "            \n",
       "        \n",
       "\n",
       "        circle_marker_160c96bf05800d58e57ce65a332e6614.bindPopup(popup_6966ad0bf185773f2d261174e3dacee9)\n",
       "        ;\n",
       "\n",
       "        \n",
       "    \n",
       "    \n",
       "            circle_marker_160c96bf05800d58e57ce65a332e6614.bindTooltip(\n",
       "                `&lt;div&gt;\n",
       "                     Hotspot Risk: 5.3%\n",
       "                 &lt;/div&gt;`,\n",
       "                {\n",
       "  &quot;sticky&quot;: true,\n",
       "}\n",
       "            );\n",
       "        \n",
       "    \n",
       "            var circle_marker_2dd83e69c8f8c936400ba1033dbf5217 = L.circleMarker(\n",
       "                [-20.292237017682098, -44.79013704962016],\n",
       "                {&quot;bubblingMouseEvents&quot;: true, &quot;color&quot;: &quot;black&quot;, &quot;dashArray&quot;: null, &quot;dashOffset&quot;: null, &quot;fill&quot;: true, &quot;fillColor&quot;: &quot;green&quot;, &quot;fillOpacity&quot;: 0.7, &quot;fillRule&quot;: &quot;evenodd&quot;, &quot;lineCap&quot;: &quot;round&quot;, &quot;lineJoin&quot;: &quot;round&quot;, &quot;opacity&quot;: 1.0, &quot;radius&quot;: 3, &quot;stroke&quot;: true, &quot;weight&quot;: 1}\n",
       "            ).addTo(map_0f194e2aaa6e0c52ce4a98779fb6afef);\n",
       "        \n",
       "    \n",
       "        var popup_b66d2a4c6afbbc2c8c75c6e72fe4fb3d = L.popup({\n",
       "  &quot;maxWidth&quot;: 250,\n",
       "});\n",
       "\n",
       "        \n",
       "            \n",
       "                var html_bbe2129e2f71ff43ca4153a563dc329e = $(`&lt;div id=&quot;html_bbe2129e2f71ff43ca4153a563dc329e&quot; style=&quot;width: 100.0%; height: 100.0%;&quot;&gt;             &lt;div style=&quot;width: 200px;&quot;&gt;                 &lt;h4&gt;Marine Monitoring Point&lt;/h4&gt;                 &lt;p&gt;&lt;strong&gt;Coordinates:&lt;/strong&gt; -20.292, -44.790&lt;/p&gt;                 &lt;p&gt;&lt;strong&gt;Hotspot Probability:&lt;/strong&gt; -7.1%&lt;/p&gt;                 &lt;p&gt;&lt;strong&gt;Concentration:&lt;/strong&gt; 24.17 particles/m³&lt;/p&gt;                 &lt;p&gt;&lt;strong&gt;Water Temp:&lt;/strong&gt; 18.9°C&lt;/p&gt;                 &lt;p&gt;&lt;strong&gt;Current Speed:&lt;/strong&gt; 3.9 m/s&lt;/p&gt;                 &lt;p&gt;&lt;strong&gt;Date:&lt;/strong&gt; 2025-02-25&lt;/p&gt;             &lt;/div&gt;             &lt;/div&gt;`)[0];\n",
       "                popup_b66d2a4c6afbbc2c8c75c6e72fe4fb3d.setContent(html_bbe2129e2f71ff43ca4153a563dc329e);\n",
       "            \n",
       "        \n",
       "\n",
       "        circle_marker_2dd83e69c8f8c936400ba1033dbf5217.bindPopup(popup_b66d2a4c6afbbc2c8c75c6e72fe4fb3d)\n",
       "        ;\n",
       "\n",
       "        \n",
       "    \n",
       "    \n",
       "            circle_marker_2dd83e69c8f8c936400ba1033dbf5217.bindTooltip(\n",
       "                `&lt;div&gt;\n",
       "                     Hotspot Risk: -7.1%\n",
       "                 &lt;/div&gt;`,\n",
       "                {\n",
       "  &quot;sticky&quot;: true,\n",
       "}\n",
       "            );\n",
       "        \n",
       "    \n",
       "            var circle_marker_3b8d61f51722477be46c5c9cbb526def = L.circleMarker(\n",
       "                [-52.372997965677165, -146.16650165728717],\n",
       "                {&quot;bubblingMouseEvents&quot;: true, &quot;color&quot;: &quot;black&quot;, &quot;dashArray&quot;: null, &quot;dashOffset&quot;: null, &quot;fill&quot;: true, &quot;fillColor&quot;: &quot;yellow&quot;, &quot;fillOpacity&quot;: 0.7, &quot;fillRule&quot;: &quot;evenodd&quot;, &quot;lineCap&quot;: &quot;round&quot;, &quot;lineJoin&quot;: &quot;round&quot;, &quot;opacity&quot;: 1.0, &quot;radius&quot;: 3.53080856124812, &quot;stroke&quot;: true, &quot;weight&quot;: 1}\n",
       "            ).addTo(map_0f194e2aaa6e0c52ce4a98779fb6afef);\n",
       "        \n",
       "    \n",
       "        var popup_bedf1cec054aea05298d980fc831f325 = L.popup({\n",
       "  &quot;maxWidth&quot;: 250,\n",
       "});\n",
       "\n",
       "        \n",
       "            \n",
       "                var html_1c18c553be36868cfb4be6e14475e912 = $(`&lt;div id=&quot;html_1c18c553be36868cfb4be6e14475e912&quot; style=&quot;width: 100.0%; height: 100.0%;&quot;&gt;             &lt;div style=&quot;width: 200px;&quot;&gt;                 &lt;h4&gt;Marine Monitoring Point&lt;/h4&gt;                 &lt;p&gt;&lt;strong&gt;Coordinates:&lt;/strong&gt; -52.373, -146.167&lt;/p&gt;                 &lt;p&gt;&lt;strong&gt;Hotspot Probability:&lt;/strong&gt; 23.5%&lt;/p&gt;                 &lt;p&gt;&lt;strong&gt;Concentration:&lt;/strong&gt; 3.78 particles/m³&lt;/p&gt;                 &lt;p&gt;&lt;strong&gt;Water Temp:&lt;/strong&gt; 10.2°C&lt;/p&gt;                 &lt;p&gt;&lt;strong&gt;Current Speed:&lt;/strong&gt; 4.0 m/s&lt;/p&gt;                 &lt;p&gt;&lt;strong&gt;Date:&lt;/strong&gt; 2025-01-13&lt;/p&gt;             &lt;/div&gt;             &lt;/div&gt;`)[0];\n",
       "                popup_bedf1cec054aea05298d980fc831f325.setContent(html_1c18c553be36868cfb4be6e14475e912);\n",
       "            \n",
       "        \n",
       "\n",
       "        circle_marker_3b8d61f51722477be46c5c9cbb526def.bindPopup(popup_bedf1cec054aea05298d980fc831f325)\n",
       "        ;\n",
       "\n",
       "        \n",
       "    \n",
       "    \n",
       "            circle_marker_3b8d61f51722477be46c5c9cbb526def.bindTooltip(\n",
       "                `&lt;div&gt;\n",
       "                     Hotspot Risk: 23.5%\n",
       "                 &lt;/div&gt;`,\n",
       "                {\n",
       "  &quot;sticky&quot;: true,\n",
       "}\n",
       "            );\n",
       "        \n",
       "    \n",
       "            var circle_marker_b02db91f4fb8f50b61ef2c4eabf3cb90 = L.circleMarker(\n",
       "                [-22.682121394120536, 28.180850758622633],\n",
       "                {&quot;bubblingMouseEvents&quot;: true, &quot;color&quot;: &quot;black&quot;, &quot;dashArray&quot;: null, &quot;dashOffset&quot;: null, &quot;fill&quot;: true, &quot;fillColor&quot;: &quot;green&quot;, &quot;fillOpacity&quot;: 0.7, &quot;fillRule&quot;: &quot;evenodd&quot;, &quot;lineCap&quot;: &quot;round&quot;, &quot;lineJoin&quot;: &quot;round&quot;, &quot;opacity&quot;: 1.0, &quot;radius&quot;: 3, &quot;stroke&quot;: true, &quot;weight&quot;: 1}\n",
       "            ).addTo(map_0f194e2aaa6e0c52ce4a98779fb6afef);\n",
       "        \n",
       "    \n",
       "        var popup_8ecb8aaabfdd9dad3f6d00f466935c81 = L.popup({\n",
       "  &quot;maxWidth&quot;: 250,\n",
       "});\n",
       "\n",
       "        \n",
       "            \n",
       "                var html_ed7c9f1e25ff4fec4276c0983ce18e26 = $(`&lt;div id=&quot;html_ed7c9f1e25ff4fec4276c0983ce18e26&quot; style=&quot;width: 100.0%; height: 100.0%;&quot;&gt;             &lt;div style=&quot;width: 200px;&quot;&gt;                 &lt;h4&gt;Marine Monitoring Point&lt;/h4&gt;                 &lt;p&gt;&lt;strong&gt;Coordinates:&lt;/strong&gt; -22.682, 28.181&lt;/p&gt;                 &lt;p&gt;&lt;strong&gt;Hotspot Probability:&lt;/strong&gt; 8.9%&lt;/p&gt;                 &lt;p&gt;&lt;strong&gt;Concentration:&lt;/strong&gt; 19.10 particles/m³&lt;/p&gt;                 &lt;p&gt;&lt;strong&gt;Water Temp:&lt;/strong&gt; 13.1°C&lt;/p&gt;                 &lt;p&gt;&lt;strong&gt;Current Speed:&lt;/strong&gt; 2.2 m/s&lt;/p&gt;                 &lt;p&gt;&lt;strong&gt;Date:&lt;/strong&gt; 2025-06-10&lt;/p&gt;             &lt;/div&gt;             &lt;/div&gt;`)[0];\n",
       "                popup_8ecb8aaabfdd9dad3f6d00f466935c81.setContent(html_ed7c9f1e25ff4fec4276c0983ce18e26);\n",
       "            \n",
       "        \n",
       "\n",
       "        circle_marker_b02db91f4fb8f50b61ef2c4eabf3cb90.bindPopup(popup_8ecb8aaabfdd9dad3f6d00f466935c81)\n",
       "        ;\n",
       "\n",
       "        \n",
       "    \n",
       "    \n",
       "            circle_marker_b02db91f4fb8f50b61ef2c4eabf3cb90.bindTooltip(\n",
       "                `&lt;div&gt;\n",
       "                     Hotspot Risk: 8.9%\n",
       "                 &lt;/div&gt;`,\n",
       "                {\n",
       "  &quot;sticky&quot;: true,\n",
       "}\n",
       "            );\n",
       "        \n",
       "    \n",
       "            var circle_marker_10433d3aeab8935732a92678b68ffb42 = L.circleMarker(\n",
       "                [-20.978001356790354, -167.06078143317285],\n",
       "                {&quot;bubblingMouseEvents&quot;: true, &quot;color&quot;: &quot;black&quot;, &quot;dashArray&quot;: null, &quot;dashOffset&quot;: null, &quot;fill&quot;: true, &quot;fillColor&quot;: &quot;yellow&quot;, &quot;fillOpacity&quot;: 0.7, &quot;fillRule&quot;: &quot;evenodd&quot;, &quot;lineCap&quot;: &quot;round&quot;, &quot;lineJoin&quot;: &quot;round&quot;, &quot;opacity&quot;: 1.0, &quot;radius&quot;: 3.3567244679601926, &quot;stroke&quot;: true, &quot;weight&quot;: 1}\n",
       "            ).addTo(map_0f194e2aaa6e0c52ce4a98779fb6afef);\n",
       "        \n",
       "    \n",
       "        var popup_46bdbd63b442d6050bfefe46b983c64a = L.popup({\n",
       "  &quot;maxWidth&quot;: 250,\n",
       "});\n",
       "\n",
       "        \n",
       "            \n",
       "                var html_d492fd9ff74a717ba53e968081ad9222 = $(`&lt;div id=&quot;html_d492fd9ff74a717ba53e968081ad9222&quot; style=&quot;width: 100.0%; height: 100.0%;&quot;&gt;             &lt;div style=&quot;width: 200px;&quot;&gt;                 &lt;h4&gt;Marine Monitoring Point&lt;/h4&gt;                 &lt;p&gt;&lt;strong&gt;Coordinates:&lt;/strong&gt; -20.978, -167.061&lt;/p&gt;                 &lt;p&gt;&lt;strong&gt;Hotspot Probability:&lt;/strong&gt; 22.4%&lt;/p&gt;                 &lt;p&gt;&lt;strong&gt;Concentration:&lt;/strong&gt; 5.15 particles/m³&lt;/p&gt;                 &lt;p&gt;&lt;strong&gt;Water Temp:&lt;/strong&gt; 29.8°C&lt;/p&gt;                 &lt;p&gt;&lt;strong&gt;Current Speed:&lt;/strong&gt; 3.6 m/s&lt;/p&gt;                 &lt;p&gt;&lt;strong&gt;Date:&lt;/strong&gt; 2024-11-27&lt;/p&gt;             &lt;/div&gt;             &lt;/div&gt;`)[0];\n",
       "                popup_46bdbd63b442d6050bfefe46b983c64a.setContent(html_d492fd9ff74a717ba53e968081ad9222);\n",
       "            \n",
       "        \n",
       "\n",
       "        circle_marker_10433d3aeab8935732a92678b68ffb42.bindPopup(popup_46bdbd63b442d6050bfefe46b983c64a)\n",
       "        ;\n",
       "\n",
       "        \n",
       "    \n",
       "    \n",
       "            circle_marker_10433d3aeab8935732a92678b68ffb42.bindTooltip(\n",
       "                `&lt;div&gt;\n",
       "                     Hotspot Risk: 22.4%\n",
       "                 &lt;/div&gt;`,\n",
       "                {\n",
       "  &quot;sticky&quot;: true,\n",
       "}\n",
       "            );\n",
       "        \n",
       "    \n",
       "            var circle_marker_336e66f0af10e78401d9256d32880ef2 = L.circleMarker(\n",
       "                [27.55274140056769, -12.384713472314344],\n",
       "                {&quot;bubblingMouseEvents&quot;: true, &quot;color&quot;: &quot;black&quot;, &quot;dashArray&quot;: null, &quot;dashOffset&quot;: null, &quot;fill&quot;: true, &quot;fillColor&quot;: &quot;yellow&quot;, &quot;fillOpacity&quot;: 0.7, &quot;fillRule&quot;: &quot;evenodd&quot;, &quot;lineCap&quot;: &quot;round&quot;, &quot;lineJoin&quot;: &quot;round&quot;, &quot;opacity&quot;: 1.0, &quot;radius&quot;: 3.6083585118084494, &quot;stroke&quot;: true, &quot;weight&quot;: 1}\n",
       "            ).addTo(map_0f194e2aaa6e0c52ce4a98779fb6afef);\n",
       "        \n",
       "    \n",
       "        var popup_fd925776d5ae9c72ead0b51627b8ae65 = L.popup({\n",
       "  &quot;maxWidth&quot;: 250,\n",
       "});\n",
       "\n",
       "        \n",
       "            \n",
       "                var html_0f124b1995308763120f2ad65879eda7 = $(`&lt;div id=&quot;html_0f124b1995308763120f2ad65879eda7&quot; style=&quot;width: 100.0%; height: 100.0%;&quot;&gt;             &lt;div style=&quot;width: 200px;&quot;&gt;                 &lt;h4&gt;Marine Monitoring Point&lt;/h4&gt;                 &lt;p&gt;&lt;strong&gt;Coordinates:&lt;/strong&gt; 27.553, -12.385&lt;/p&gt;                 &lt;p&gt;&lt;strong&gt;Hotspot Probability:&lt;/strong&gt; 24.1%&lt;/p&gt;                 &lt;p&gt;&lt;strong&gt;Concentration:&lt;/strong&gt; 5.18 particles/m³&lt;/p&gt;                 &lt;p&gt;&lt;strong&gt;Water Temp:&lt;/strong&gt; 10.3°C&lt;/p&gt;                 &lt;p&gt;&lt;strong&gt;Current Speed:&lt;/strong&gt; 8.0 m/s&lt;/p&gt;                 &lt;p&gt;&lt;strong&gt;Date:&lt;/strong&gt; 2025-01-13&lt;/p&gt;             &lt;/div&gt;             &lt;/div&gt;`)[0];\n",
       "                popup_fd925776d5ae9c72ead0b51627b8ae65.setContent(html_0f124b1995308763120f2ad65879eda7);\n",
       "            \n",
       "        \n",
       "\n",
       "        circle_marker_336e66f0af10e78401d9256d32880ef2.bindPopup(popup_fd925776d5ae9c72ead0b51627b8ae65)\n",
       "        ;\n",
       "\n",
       "        \n",
       "    \n",
       "    \n",
       "            circle_marker_336e66f0af10e78401d9256d32880ef2.bindTooltip(\n",
       "                `&lt;div&gt;\n",
       "                     Hotspot Risk: 24.1%\n",
       "                 &lt;/div&gt;`,\n",
       "                {\n",
       "  &quot;sticky&quot;: true,\n",
       "}\n",
       "            );\n",
       "        \n",
       "    \n",
       "            var circle_marker_45da75ad7e2da7c2eb21702be4103045 = L.circleMarker(\n",
       "                [16.506896562625574, 15.352068494727584],\n",
       "                {&quot;bubblingMouseEvents&quot;: true, &quot;color&quot;: &quot;black&quot;, &quot;dashArray&quot;: null, &quot;dashOffset&quot;: null, &quot;fill&quot;: true, &quot;fillColor&quot;: &quot;yellow&quot;, &quot;fillOpacity&quot;: 0.7, &quot;fillRule&quot;: &quot;evenodd&quot;, &quot;lineCap&quot;: &quot;round&quot;, &quot;lineJoin&quot;: &quot;round&quot;, &quot;opacity&quot;: 1.0, &quot;radius&quot;: 5.1009374655693405, &quot;stroke&quot;: true, &quot;weight&quot;: 1}\n",
       "            ).addTo(map_0f194e2aaa6e0c52ce4a98779fb6afef);\n",
       "        \n",
       "    \n",
       "        var popup_961d1013332b1474f467621e256e8332 = L.popup({\n",
       "  &quot;maxWidth&quot;: 250,\n",
       "});\n",
       "\n",
       "        \n",
       "            \n",
       "                var html_be718582064d53f66fd1033fb28385e5 = $(`&lt;div id=&quot;html_be718582064d53f66fd1033fb28385e5&quot; style=&quot;width: 100.0%; height: 100.0%;&quot;&gt;             &lt;div style=&quot;width: 200px;&quot;&gt;                 &lt;h4&gt;Marine Monitoring Point&lt;/h4&gt;                 &lt;p&gt;&lt;strong&gt;Coordinates:&lt;/strong&gt; 16.507, 15.352&lt;/p&gt;                 &lt;p&gt;&lt;strong&gt;Hotspot Probability:&lt;/strong&gt; 34.0%&lt;/p&gt;                 &lt;p&gt;&lt;strong&gt;Concentration:&lt;/strong&gt; 9.56 particles/m³&lt;/p&gt;                 &lt;p&gt;&lt;strong&gt;Water Temp:&lt;/strong&gt; 30.3°C&lt;/p&gt;                 &lt;p&gt;&lt;strong&gt;Current Speed:&lt;/strong&gt; 2.1 m/s&lt;/p&gt;                 &lt;p&gt;&lt;strong&gt;Date:&lt;/strong&gt; 2025-08-08&lt;/p&gt;             &lt;/div&gt;             &lt;/div&gt;`)[0];\n",
       "                popup_961d1013332b1474f467621e256e8332.setContent(html_be718582064d53f66fd1033fb28385e5);\n",
       "            \n",
       "        \n",
       "\n",
       "        circle_marker_45da75ad7e2da7c2eb21702be4103045.bindPopup(popup_961d1013332b1474f467621e256e8332)\n",
       "        ;\n",
       "\n",
       "        \n",
       "    \n",
       "    \n",
       "            circle_marker_45da75ad7e2da7c2eb21702be4103045.bindTooltip(\n",
       "                `&lt;div&gt;\n",
       "                     Hotspot Risk: 34.0%\n",
       "                 &lt;/div&gt;`,\n",
       "                {\n",
       "  &quot;sticky&quot;: true,\n",
       "}\n",
       "            );\n",
       "        \n",
       "    \n",
       "            var circle_marker_d4ce2118c33acb9a57bfd651eef0c3f2 = L.circleMarker(\n",
       "                [46.465529109159185, -76.84514923381761],\n",
       "                {&quot;bubblingMouseEvents&quot;: true, &quot;color&quot;: &quot;black&quot;, &quot;dashArray&quot;: null, &quot;dashOffset&quot;: null, &quot;fill&quot;: true, &quot;fillColor&quot;: &quot;green&quot;, &quot;fillOpacity&quot;: 0.7, &quot;fillRule&quot;: &quot;evenodd&quot;, &quot;lineCap&quot;: &quot;round&quot;, &quot;lineJoin&quot;: &quot;round&quot;, &quot;opacity&quot;: 1.0, &quot;radius&quot;: 3, &quot;stroke&quot;: true, &quot;weight&quot;: 1}\n",
       "            ).addTo(map_0f194e2aaa6e0c52ce4a98779fb6afef);\n",
       "        \n",
       "    \n",
       "        var popup_d4861fbb15c39f8770e231949a21a248 = L.popup({\n",
       "  &quot;maxWidth&quot;: 250,\n",
       "});\n",
       "\n",
       "        \n",
       "            \n",
       "                var html_3e88fb4c89ade7f0ece9d35e680d7fd0 = $(`&lt;div id=&quot;html_3e88fb4c89ade7f0ece9d35e680d7fd0&quot; style=&quot;width: 100.0%; height: 100.0%;&quot;&gt;             &lt;div style=&quot;width: 200px;&quot;&gt;                 &lt;h4&gt;Marine Monitoring Point&lt;/h4&gt;                 &lt;p&gt;&lt;strong&gt;Coordinates:&lt;/strong&gt; 46.466, -76.845&lt;/p&gt;                 &lt;p&gt;&lt;strong&gt;Hotspot Probability:&lt;/strong&gt; 10.1%&lt;/p&gt;                 &lt;p&gt;&lt;strong&gt;Concentration:&lt;/strong&gt; 9.82 particles/m³&lt;/p&gt;                 &lt;p&gt;&lt;strong&gt;Water Temp:&lt;/strong&gt; 23.8°C&lt;/p&gt;                 &lt;p&gt;&lt;strong&gt;Current Speed:&lt;/strong&gt; 4.8 m/s&lt;/p&gt;                 &lt;p&gt;&lt;strong&gt;Date:&lt;/strong&gt; 2025-09-09&lt;/p&gt;             &lt;/div&gt;             &lt;/div&gt;`)[0];\n",
       "                popup_d4861fbb15c39f8770e231949a21a248.setContent(html_3e88fb4c89ade7f0ece9d35e680d7fd0);\n",
       "            \n",
       "        \n",
       "\n",
       "        circle_marker_d4ce2118c33acb9a57bfd651eef0c3f2.bindPopup(popup_d4861fbb15c39f8770e231949a21a248)\n",
       "        ;\n",
       "\n",
       "        \n",
       "    \n",
       "    \n",
       "            circle_marker_d4ce2118c33acb9a57bfd651eef0c3f2.bindTooltip(\n",
       "                `&lt;div&gt;\n",
       "                     Hotspot Risk: 10.1%\n",
       "                 &lt;/div&gt;`,\n",
       "                {\n",
       "  &quot;sticky&quot;: true,\n",
       "}\n",
       "            );\n",
       "        \n",
       "    \n",
       "            var circle_marker_7497d95e38806d03a7411f77bdeb994d = L.circleMarker(\n",
       "                [-3.3342089805660846, 32.69997380484387],\n",
       "                {&quot;bubblingMouseEvents&quot;: true, &quot;color&quot;: &quot;black&quot;, &quot;dashArray&quot;: null, &quot;dashOffset&quot;: null, &quot;fill&quot;: true, &quot;fillColor&quot;: &quot;green&quot;, &quot;fillOpacity&quot;: 0.7, &quot;fillRule&quot;: &quot;evenodd&quot;, &quot;lineCap&quot;: &quot;round&quot;, &quot;lineJoin&quot;: &quot;round&quot;, &quot;opacity&quot;: 1.0, &quot;radius&quot;: 3, &quot;stroke&quot;: true, &quot;weight&quot;: 1}\n",
       "            ).addTo(map_0f194e2aaa6e0c52ce4a98779fb6afef);\n",
       "        \n",
       "    \n",
       "        var popup_a35fe141d2b9066bf5731f3ed5252d48 = L.popup({\n",
       "  &quot;maxWidth&quot;: 250,\n",
       "});\n",
       "\n",
       "        \n",
       "            \n",
       "                var html_8eb02e4e9d22270282f7cd084765aa03 = $(`&lt;div id=&quot;html_8eb02e4e9d22270282f7cd084765aa03&quot; style=&quot;width: 100.0%; height: 100.0%;&quot;&gt;             &lt;div style=&quot;width: 200px;&quot;&gt;                 &lt;h4&gt;Marine Monitoring Point&lt;/h4&gt;                 &lt;p&gt;&lt;strong&gt;Coordinates:&lt;/strong&gt; -3.334, 32.700&lt;/p&gt;                 &lt;p&gt;&lt;strong&gt;Hotspot Probability:&lt;/strong&gt; 10.5%&lt;/p&gt;                 &lt;p&gt;&lt;strong&gt;Concentration:&lt;/strong&gt; 7.68 particles/m³&lt;/p&gt;                 &lt;p&gt;&lt;strong&gt;Water Temp:&lt;/strong&gt; 28.8°C&lt;/p&gt;                 &lt;p&gt;&lt;strong&gt;Current Speed:&lt;/strong&gt; 1.6 m/s&lt;/p&gt;                 &lt;p&gt;&lt;strong&gt;Date:&lt;/strong&gt; 2025-08-07&lt;/p&gt;             &lt;/div&gt;             &lt;/div&gt;`)[0];\n",
       "                popup_a35fe141d2b9066bf5731f3ed5252d48.setContent(html_8eb02e4e9d22270282f7cd084765aa03);\n",
       "            \n",
       "        \n",
       "\n",
       "        circle_marker_7497d95e38806d03a7411f77bdeb994d.bindPopup(popup_a35fe141d2b9066bf5731f3ed5252d48)\n",
       "        ;\n",
       "\n",
       "        \n",
       "    \n",
       "    \n",
       "            circle_marker_7497d95e38806d03a7411f77bdeb994d.bindTooltip(\n",
       "                `&lt;div&gt;\n",
       "                     Hotspot Risk: 10.5%\n",
       "                 &lt;/div&gt;`,\n",
       "                {\n",
       "  &quot;sticky&quot;: true,\n",
       "}\n",
       "            );\n",
       "        \n",
       "    \n",
       "            var circle_marker_3807ff0142b6537efd32ecbe64756149 = L.circleMarker(\n",
       "                [-45.6486904874038, -169.0199100219422],\n",
       "                {&quot;bubblingMouseEvents&quot;: true, &quot;color&quot;: &quot;black&quot;, &quot;dashArray&quot;: null, &quot;dashOffset&quot;: null, &quot;fill&quot;: true, &quot;fillColor&quot;: &quot;green&quot;, &quot;fillOpacity&quot;: 0.7, &quot;fillRule&quot;: &quot;evenodd&quot;, &quot;lineCap&quot;: &quot;round&quot;, &quot;lineJoin&quot;: &quot;round&quot;, &quot;opacity&quot;: 1.0, &quot;radius&quot;: 3, &quot;stroke&quot;: true, &quot;weight&quot;: 1}\n",
       "            ).addTo(map_0f194e2aaa6e0c52ce4a98779fb6afef);\n",
       "        \n",
       "    \n",
       "        var popup_ad03a6cbb4a26234e1af9b239d435183 = L.popup({\n",
       "  &quot;maxWidth&quot;: 250,\n",
       "});\n",
       "\n",
       "        \n",
       "            \n",
       "                var html_0c880fa6d769f06b1ee15212beb58de0 = $(`&lt;div id=&quot;html_0c880fa6d769f06b1ee15212beb58de0&quot; style=&quot;width: 100.0%; height: 100.0%;&quot;&gt;             &lt;div style=&quot;width: 200px;&quot;&gt;                 &lt;h4&gt;Marine Monitoring Point&lt;/h4&gt;                 &lt;p&gt;&lt;strong&gt;Coordinates:&lt;/strong&gt; -45.649, -169.020&lt;/p&gt;                 &lt;p&gt;&lt;strong&gt;Hotspot Probability:&lt;/strong&gt; 5.5%&lt;/p&gt;                 &lt;p&gt;&lt;strong&gt;Concentration:&lt;/strong&gt; 1.95 particles/m³&lt;/p&gt;                 &lt;p&gt;&lt;strong&gt;Water Temp:&lt;/strong&gt; 10.0°C&lt;/p&gt;                 &lt;p&gt;&lt;strong&gt;Current Speed:&lt;/strong&gt; 3.0 m/s&lt;/p&gt;                 &lt;p&gt;&lt;strong&gt;Date:&lt;/strong&gt; 2025-01-28&lt;/p&gt;             &lt;/div&gt;             &lt;/div&gt;`)[0];\n",
       "                popup_ad03a6cbb4a26234e1af9b239d435183.setContent(html_0c880fa6d769f06b1ee15212beb58de0);\n",
       "            \n",
       "        \n",
       "\n",
       "        circle_marker_3807ff0142b6537efd32ecbe64756149.bindPopup(popup_ad03a6cbb4a26234e1af9b239d435183)\n",
       "        ;\n",
       "\n",
       "        \n",
       "    \n",
       "    \n",
       "            circle_marker_3807ff0142b6537efd32ecbe64756149.bindTooltip(\n",
       "                `&lt;div&gt;\n",
       "                     Hotspot Risk: 5.5%\n",
       "                 &lt;/div&gt;`,\n",
       "                {\n",
       "  &quot;sticky&quot;: true,\n",
       "}\n",
       "            );\n",
       "        \n",
       "    \n",
       "            var circle_marker_750469f569407fc34d613917b9cdf477 = L.circleMarker(\n",
       "                [25.589374466759402, -166.5546520502828],\n",
       "                {&quot;bubblingMouseEvents&quot;: true, &quot;color&quot;: &quot;black&quot;, &quot;dashArray&quot;: null, &quot;dashOffset&quot;: null, &quot;fill&quot;: true, &quot;fillColor&quot;: &quot;green&quot;, &quot;fillOpacity&quot;: 0.7, &quot;fillRule&quot;: &quot;evenodd&quot;, &quot;lineCap&quot;: &quot;round&quot;, &quot;lineJoin&quot;: &quot;round&quot;, &quot;opacity&quot;: 1.0, &quot;radius&quot;: 3, &quot;stroke&quot;: true, &quot;weight&quot;: 1}\n",
       "            ).addTo(map_0f194e2aaa6e0c52ce4a98779fb6afef);\n",
       "        \n",
       "    \n",
       "        var popup_f9bc169ffe65a9c6e489be202d30321e = L.popup({\n",
       "  &quot;maxWidth&quot;: 250,\n",
       "});\n",
       "\n",
       "        \n",
       "            \n",
       "                var html_aca18b4f40932261a395ddf13c57174e = $(`&lt;div id=&quot;html_aca18b4f40932261a395ddf13c57174e&quot; style=&quot;width: 100.0%; height: 100.0%;&quot;&gt;             &lt;div style=&quot;width: 200px;&quot;&gt;                 &lt;h4&gt;Marine Monitoring Point&lt;/h4&gt;                 &lt;p&gt;&lt;strong&gt;Coordinates:&lt;/strong&gt; 25.589, -166.555&lt;/p&gt;                 &lt;p&gt;&lt;strong&gt;Hotspot Probability:&lt;/strong&gt; 16.2%&lt;/p&gt;                 &lt;p&gt;&lt;strong&gt;Concentration:&lt;/strong&gt; 6.54 particles/m³&lt;/p&gt;                 &lt;p&gt;&lt;strong&gt;Water Temp:&lt;/strong&gt; 13.7°C&lt;/p&gt;                 &lt;p&gt;&lt;strong&gt;Current Speed:&lt;/strong&gt; 1.4 m/s&lt;/p&gt;                 &lt;p&gt;&lt;strong&gt;Date:&lt;/strong&gt; 2024-10-30&lt;/p&gt;             &lt;/div&gt;             &lt;/div&gt;`)[0];\n",
       "                popup_f9bc169ffe65a9c6e489be202d30321e.setContent(html_aca18b4f40932261a395ddf13c57174e);\n",
       "            \n",
       "        \n",
       "\n",
       "        circle_marker_750469f569407fc34d613917b9cdf477.bindPopup(popup_f9bc169ffe65a9c6e489be202d30321e)\n",
       "        ;\n",
       "\n",
       "        \n",
       "    \n",
       "    \n",
       "            circle_marker_750469f569407fc34d613917b9cdf477.bindTooltip(\n",
       "                `&lt;div&gt;\n",
       "                     Hotspot Risk: 16.2%\n",
       "                 &lt;/div&gt;`,\n",
       "                {\n",
       "  &quot;sticky&quot;: true,\n",
       "}\n",
       "            );\n",
       "        \n",
       "    \n",
       "            var circle_marker_2ed04c25229785265b5078f419ff2438 = L.circleMarker(\n",
       "                [31.294205834027693, 116.13620183747697],\n",
       "                {&quot;bubblingMouseEvents&quot;: true, &quot;color&quot;: &quot;black&quot;, &quot;dashArray&quot;: null, &quot;dashOffset&quot;: null, &quot;fill&quot;: true, &quot;fillColor&quot;: &quot;green&quot;, &quot;fillOpacity&quot;: 0.7, &quot;fillRule&quot;: &quot;evenodd&quot;, &quot;lineCap&quot;: &quot;round&quot;, &quot;lineJoin&quot;: &quot;round&quot;, &quot;opacity&quot;: 1.0, &quot;radius&quot;: 3, &quot;stroke&quot;: true, &quot;weight&quot;: 1}\n",
       "            ).addTo(map_0f194e2aaa6e0c52ce4a98779fb6afef);\n",
       "        \n",
       "    \n",
       "        var popup_6d3d5a73d48d3a80a1db97b23c62f766 = L.popup({\n",
       "  &quot;maxWidth&quot;: 250,\n",
       "});\n",
       "\n",
       "        \n",
       "            \n",
       "                var html_460aa867b7635878564911c862c73467 = $(`&lt;div id=&quot;html_460aa867b7635878564911c862c73467&quot; style=&quot;width: 100.0%; height: 100.0%;&quot;&gt;             &lt;div style=&quot;width: 200px;&quot;&gt;                 &lt;h4&gt;Marine Monitoring Point&lt;/h4&gt;                 &lt;p&gt;&lt;strong&gt;Coordinates:&lt;/strong&gt; 31.294, 116.136&lt;/p&gt;                 &lt;p&gt;&lt;strong&gt;Hotspot Probability:&lt;/strong&gt; -0.7%&lt;/p&gt;                 &lt;p&gt;&lt;strong&gt;Concentration:&lt;/strong&gt; 72.13 particles/m³&lt;/p&gt;                 &lt;p&gt;&lt;strong&gt;Water Temp:&lt;/strong&gt; 11.4°C&lt;/p&gt;                 &lt;p&gt;&lt;strong&gt;Current Speed:&lt;/strong&gt; 3.5 m/s&lt;/p&gt;                 &lt;p&gt;&lt;strong&gt;Date:&lt;/strong&gt; 2025-07-31&lt;/p&gt;             &lt;/div&gt;             &lt;/div&gt;`)[0];\n",
       "                popup_6d3d5a73d48d3a80a1db97b23c62f766.setContent(html_460aa867b7635878564911c862c73467);\n",
       "            \n",
       "        \n",
       "\n",
       "        circle_marker_2ed04c25229785265b5078f419ff2438.bindPopup(popup_6d3d5a73d48d3a80a1db97b23c62f766)\n",
       "        ;\n",
       "\n",
       "        \n",
       "    \n",
       "    \n",
       "            circle_marker_2ed04c25229785265b5078f419ff2438.bindTooltip(\n",
       "                `&lt;div&gt;\n",
       "                     Hotspot Risk: -0.7%\n",
       "                 &lt;/div&gt;`,\n",
       "                {\n",
       "  &quot;sticky&quot;: true,\n",
       "}\n",
       "            );\n",
       "        \n",
       "    \n",
       "            var circle_marker_b39dc18c831968d8118afd2dfebec930 = L.circleMarker(\n",
       "                [7.353263708339548, -50.33136909194536],\n",
       "                {&quot;bubblingMouseEvents&quot;: true, &quot;color&quot;: &quot;black&quot;, &quot;dashArray&quot;: null, &quot;dashOffset&quot;: null, &quot;fill&quot;: true, &quot;fillColor&quot;: &quot;green&quot;, &quot;fillOpacity&quot;: 0.7, &quot;fillRule&quot;: &quot;evenodd&quot;, &quot;lineCap&quot;: &quot;round&quot;, &quot;lineJoin&quot;: &quot;round&quot;, &quot;opacity&quot;: 1.0, &quot;radius&quot;: 3, &quot;stroke&quot;: true, &quot;weight&quot;: 1}\n",
       "            ).addTo(map_0f194e2aaa6e0c52ce4a98779fb6afef);\n",
       "        \n",
       "    \n",
       "        var popup_5a00c2c4f6ca0081702bdee6a6e6784e = L.popup({\n",
       "  &quot;maxWidth&quot;: 250,\n",
       "});\n",
       "\n",
       "        \n",
       "            \n",
       "                var html_7d1074ebba75315b827a7fe52b7aa9aa = $(`&lt;div id=&quot;html_7d1074ebba75315b827a7fe52b7aa9aa&quot; style=&quot;width: 100.0%; height: 100.0%;&quot;&gt;             &lt;div style=&quot;width: 200px;&quot;&gt;                 &lt;h4&gt;Marine Monitoring Point&lt;/h4&gt;                 &lt;p&gt;&lt;strong&gt;Coordinates:&lt;/strong&gt; 7.353, -50.331&lt;/p&gt;                 &lt;p&gt;&lt;strong&gt;Hotspot Probability:&lt;/strong&gt; 8.6%&lt;/p&gt;                 &lt;p&gt;&lt;strong&gt;Concentration:&lt;/strong&gt; 0.46 particles/m³&lt;/p&gt;                 &lt;p&gt;&lt;strong&gt;Water Temp:&lt;/strong&gt; 24.0°C&lt;/p&gt;                 &lt;p&gt;&lt;strong&gt;Current Speed:&lt;/strong&gt; 15.2 m/s&lt;/p&gt;                 &lt;p&gt;&lt;strong&gt;Date:&lt;/strong&gt; 2025-04-13&lt;/p&gt;             &lt;/div&gt;             &lt;/div&gt;`)[0];\n",
       "                popup_5a00c2c4f6ca0081702bdee6a6e6784e.setContent(html_7d1074ebba75315b827a7fe52b7aa9aa);\n",
       "            \n",
       "        \n",
       "\n",
       "        circle_marker_b39dc18c831968d8118afd2dfebec930.bindPopup(popup_5a00c2c4f6ca0081702bdee6a6e6784e)\n",
       "        ;\n",
       "\n",
       "        \n",
       "    \n",
       "    \n",
       "            circle_marker_b39dc18c831968d8118afd2dfebec930.bindTooltip(\n",
       "                `&lt;div&gt;\n",
       "                     Hotspot Risk: 8.6%\n",
       "                 &lt;/div&gt;`,\n",
       "                {\n",
       "  &quot;sticky&quot;: true,\n",
       "}\n",
       "            );\n",
       "        \n",
       "    \n",
       "            var circle_marker_0852ebbd5defaae3c9bcb6077e716daf = L.circleMarker(\n",
       "                [32.51606159454732, -134.25821544532147],\n",
       "                {&quot;bubblingMouseEvents&quot;: true, &quot;color&quot;: &quot;black&quot;, &quot;dashArray&quot;: null, &quot;dashOffset&quot;: null, &quot;fill&quot;: true, &quot;fillColor&quot;: &quot;red&quot;, &quot;fillOpacity&quot;: 0.7, &quot;fillRule&quot;: &quot;evenodd&quot;, &quot;lineCap&quot;: &quot;round&quot;, &quot;lineJoin&quot;: &quot;round&quot;, &quot;opacity&quot;: 1.0, &quot;radius&quot;: 10.680443447567848, &quot;stroke&quot;: true, &quot;weight&quot;: 1}\n",
       "            ).addTo(map_0f194e2aaa6e0c52ce4a98779fb6afef);\n",
       "        \n",
       "    \n",
       "        var popup_126b5ef02ad68aa4761d5269411983ff = L.popup({\n",
       "  &quot;maxWidth&quot;: 250,\n",
       "});\n",
       "\n",
       "        \n",
       "            \n",
       "                var html_dd3cc787cd8b8161d86d9c26c508fdcb = $(`&lt;div id=&quot;html_dd3cc787cd8b8161d86d9c26c508fdcb&quot; style=&quot;width: 100.0%; height: 100.0%;&quot;&gt;             &lt;div style=&quot;width: 200px;&quot;&gt;                 &lt;h4&gt;Marine Monitoring Point&lt;/h4&gt;                 &lt;p&gt;&lt;strong&gt;Coordinates:&lt;/strong&gt; 32.516, -134.258&lt;/p&gt;                 &lt;p&gt;&lt;strong&gt;Hotspot Probability:&lt;/strong&gt; 71.2%&lt;/p&gt;                 &lt;p&gt;&lt;strong&gt;Concentration:&lt;/strong&gt; 17.63 particles/m³&lt;/p&gt;                 &lt;p&gt;&lt;strong&gt;Water Temp:&lt;/strong&gt; 10.5°C&lt;/p&gt;                 &lt;p&gt;&lt;strong&gt;Current Speed:&lt;/strong&gt; 4.5 m/s&lt;/p&gt;                 &lt;p&gt;&lt;strong&gt;Date:&lt;/strong&gt; 2025-02-18&lt;/p&gt;             &lt;/div&gt;             &lt;/div&gt;`)[0];\n",
       "                popup_126b5ef02ad68aa4761d5269411983ff.setContent(html_dd3cc787cd8b8161d86d9c26c508fdcb);\n",
       "            \n",
       "        \n",
       "\n",
       "        circle_marker_0852ebbd5defaae3c9bcb6077e716daf.bindPopup(popup_126b5ef02ad68aa4761d5269411983ff)\n",
       "        ;\n",
       "\n",
       "        \n",
       "    \n",
       "    \n",
       "            circle_marker_0852ebbd5defaae3c9bcb6077e716daf.bindTooltip(\n",
       "                `&lt;div&gt;\n",
       "                     Hotspot Risk: 71.2%\n",
       "                 &lt;/div&gt;`,\n",
       "                {\n",
       "  &quot;sticky&quot;: true,\n",
       "}\n",
       "            );\n",
       "        \n",
       "    \n",
       "            var circle_marker_e6901c02356bcc9d6d946d174074d499 = L.circleMarker(\n",
       "                [-0.7445284362731108, 8.007573619729573],\n",
       "                {&quot;bubblingMouseEvents&quot;: true, &quot;color&quot;: &quot;black&quot;, &quot;dashArray&quot;: null, &quot;dashOffset&quot;: null, &quot;fill&quot;: true, &quot;fillColor&quot;: &quot;orange&quot;, &quot;fillOpacity&quot;: 0.7, &quot;fillRule&quot;: &quot;evenodd&quot;, &quot;lineCap&quot;: &quot;round&quot;, &quot;lineJoin&quot;: &quot;round&quot;, &quot;opacity&quot;: 1.0, &quot;radius&quot;: 6.771658251088124, &quot;stroke&quot;: true, &quot;weight&quot;: 1}\n",
       "            ).addTo(map_0f194e2aaa6e0c52ce4a98779fb6afef);\n",
       "        \n",
       "    \n",
       "        var popup_c5dc6a184171baed2522822cad4d7cb9 = L.popup({\n",
       "  &quot;maxWidth&quot;: 250,\n",
       "});\n",
       "\n",
       "        \n",
       "            \n",
       "                var html_b48cb81d1846dba49e29028893a8ade4 = $(`&lt;div id=&quot;html_b48cb81d1846dba49e29028893a8ade4&quot; style=&quot;width: 100.0%; height: 100.0%;&quot;&gt;             &lt;div style=&quot;width: 200px;&quot;&gt;                 &lt;h4&gt;Marine Monitoring Point&lt;/h4&gt;                 &lt;p&gt;&lt;strong&gt;Coordinates:&lt;/strong&gt; -0.745, 8.008&lt;/p&gt;                 &lt;p&gt;&lt;strong&gt;Hotspot Probability:&lt;/strong&gt; 45.1%&lt;/p&gt;                 &lt;p&gt;&lt;strong&gt;Concentration:&lt;/strong&gt; 21.27 particles/m³&lt;/p&gt;                 &lt;p&gt;&lt;strong&gt;Water Temp:&lt;/strong&gt; 20.8°C&lt;/p&gt;                 &lt;p&gt;&lt;strong&gt;Current Speed:&lt;/strong&gt; 2.3 m/s&lt;/p&gt;                 &lt;p&gt;&lt;strong&gt;Date:&lt;/strong&gt; 2025-10-04&lt;/p&gt;             &lt;/div&gt;             &lt;/div&gt;`)[0];\n",
       "                popup_c5dc6a184171baed2522822cad4d7cb9.setContent(html_b48cb81d1846dba49e29028893a8ade4);\n",
       "            \n",
       "        \n",
       "\n",
       "        circle_marker_e6901c02356bcc9d6d946d174074d499.bindPopup(popup_c5dc6a184171baed2522822cad4d7cb9)\n",
       "        ;\n",
       "\n",
       "        \n",
       "    \n",
       "    \n",
       "            circle_marker_e6901c02356bcc9d6d946d174074d499.bindTooltip(\n",
       "                `&lt;div&gt;\n",
       "                     Hotspot Risk: 45.1%\n",
       "                 &lt;/div&gt;`,\n",
       "                {\n",
       "  &quot;sticky&quot;: true,\n",
       "}\n",
       "            );\n",
       "        \n",
       "    \n",
       "            var circle_marker_e9f3783e3de56b77d482c7570d324616 = L.circleMarker(\n",
       "                [2.727939525839287, 97.19767911549991],\n",
       "                {&quot;bubblingMouseEvents&quot;: true, &quot;color&quot;: &quot;black&quot;, &quot;dashArray&quot;: null, &quot;dashOffset&quot;: null, &quot;fill&quot;: true, &quot;fillColor&quot;: &quot;green&quot;, &quot;fillOpacity&quot;: 0.7, &quot;fillRule&quot;: &quot;evenodd&quot;, &quot;lineCap&quot;: &quot;round&quot;, &quot;lineJoin&quot;: &quot;round&quot;, &quot;opacity&quot;: 1.0, &quot;radius&quot;: 3, &quot;stroke&quot;: true, &quot;weight&quot;: 1}\n",
       "            ).addTo(map_0f194e2aaa6e0c52ce4a98779fb6afef);\n",
       "        \n",
       "    \n",
       "        var popup_3e91118f88c5028078a5ed9794c0e348 = L.popup({\n",
       "  &quot;maxWidth&quot;: 250,\n",
       "});\n",
       "\n",
       "        \n",
       "            \n",
       "                var html_1644cfd38967036b9a3a2cc53a05f8e5 = $(`&lt;div id=&quot;html_1644cfd38967036b9a3a2cc53a05f8e5&quot; style=&quot;width: 100.0%; height: 100.0%;&quot;&gt;             &lt;div style=&quot;width: 200px;&quot;&gt;                 &lt;h4&gt;Marine Monitoring Point&lt;/h4&gt;                 &lt;p&gt;&lt;strong&gt;Coordinates:&lt;/strong&gt; 2.728, 97.198&lt;/p&gt;                 &lt;p&gt;&lt;strong&gt;Hotspot Probability:&lt;/strong&gt; 17.1%&lt;/p&gt;                 &lt;p&gt;&lt;strong&gt;Concentration:&lt;/strong&gt; 1.90 particles/m³&lt;/p&gt;                 &lt;p&gt;&lt;strong&gt;Water Temp:&lt;/strong&gt; 20.4°C&lt;/p&gt;                 &lt;p&gt;&lt;strong&gt;Current Speed:&lt;/strong&gt; 1.2 m/s&lt;/p&gt;                 &lt;p&gt;&lt;strong&gt;Date:&lt;/strong&gt; 2024-11-08&lt;/p&gt;             &lt;/div&gt;             &lt;/div&gt;`)[0];\n",
       "                popup_3e91118f88c5028078a5ed9794c0e348.setContent(html_1644cfd38967036b9a3a2cc53a05f8e5);\n",
       "            \n",
       "        \n",
       "\n",
       "        circle_marker_e9f3783e3de56b77d482c7570d324616.bindPopup(popup_3e91118f88c5028078a5ed9794c0e348)\n",
       "        ;\n",
       "\n",
       "        \n",
       "    \n",
       "    \n",
       "            circle_marker_e9f3783e3de56b77d482c7570d324616.bindTooltip(\n",
       "                `&lt;div&gt;\n",
       "                     Hotspot Risk: 17.1%\n",
       "                 &lt;/div&gt;`,\n",
       "                {\n",
       "  &quot;sticky&quot;: true,\n",
       "}\n",
       "            );\n",
       "        \n",
       "    \n",
       "            var circle_marker_a9dad5c2afbe0b0eeef9e025a5efd9c9 = L.circleMarker(\n",
       "                [-8.695077796974044, -102.30443010113646],\n",
       "                {&quot;bubblingMouseEvents&quot;: true, &quot;color&quot;: &quot;black&quot;, &quot;dashArray&quot;: null, &quot;dashOffset&quot;: null, &quot;fill&quot;: true, &quot;fillColor&quot;: &quot;green&quot;, &quot;fillOpacity&quot;: 0.7, &quot;fillRule&quot;: &quot;evenodd&quot;, &quot;lineCap&quot;: &quot;round&quot;, &quot;lineJoin&quot;: &quot;round&quot;, &quot;opacity&quot;: 1.0, &quot;radius&quot;: 3, &quot;stroke&quot;: true, &quot;weight&quot;: 1}\n",
       "            ).addTo(map_0f194e2aaa6e0c52ce4a98779fb6afef);\n",
       "        \n",
       "    \n",
       "        var popup_9e2829e4aed36a00374a70831101b67d = L.popup({\n",
       "  &quot;maxWidth&quot;: 250,\n",
       "});\n",
       "\n",
       "        \n",
       "            \n",
       "                var html_ea64e41d621cb5668838f0f75dd1fe73 = $(`&lt;div id=&quot;html_ea64e41d621cb5668838f0f75dd1fe73&quot; style=&quot;width: 100.0%; height: 100.0%;&quot;&gt;             &lt;div style=&quot;width: 200px;&quot;&gt;                 &lt;h4&gt;Marine Monitoring Point&lt;/h4&gt;                 &lt;p&gt;&lt;strong&gt;Coordinates:&lt;/strong&gt; -8.695, -102.304&lt;/p&gt;                 &lt;p&gt;&lt;strong&gt;Hotspot Probability:&lt;/strong&gt; -1.2%&lt;/p&gt;                 &lt;p&gt;&lt;strong&gt;Concentration:&lt;/strong&gt; 4.62 particles/m³&lt;/p&gt;                 &lt;p&gt;&lt;strong&gt;Water Temp:&lt;/strong&gt; 14.6°C&lt;/p&gt;                 &lt;p&gt;&lt;strong&gt;Current Speed:&lt;/strong&gt; 0.7 m/s&lt;/p&gt;                 &lt;p&gt;&lt;strong&gt;Date:&lt;/strong&gt; 2024-12-18&lt;/p&gt;             &lt;/div&gt;             &lt;/div&gt;`)[0];\n",
       "                popup_9e2829e4aed36a00374a70831101b67d.setContent(html_ea64e41d621cb5668838f0f75dd1fe73);\n",
       "            \n",
       "        \n",
       "\n",
       "        circle_marker_a9dad5c2afbe0b0eeef9e025a5efd9c9.bindPopup(popup_9e2829e4aed36a00374a70831101b67d)\n",
       "        ;\n",
       "\n",
       "        \n",
       "    \n",
       "    \n",
       "            circle_marker_a9dad5c2afbe0b0eeef9e025a5efd9c9.bindTooltip(\n",
       "                `&lt;div&gt;\n",
       "                     Hotspot Risk: -1.2%\n",
       "                 &lt;/div&gt;`,\n",
       "                {\n",
       "  &quot;sticky&quot;: true,\n",
       "}\n",
       "            );\n",
       "        \n",
       "    \n",
       "            var circle_marker_68e9ca1034968d7555883125c732ad04 = L.circleMarker(\n",
       "                [-56.94970479070858, 44.240571294840095],\n",
       "                {&quot;bubblingMouseEvents&quot;: true, &quot;color&quot;: &quot;black&quot;, &quot;dashArray&quot;: null, &quot;dashOffset&quot;: null, &quot;fill&quot;: true, &quot;fillColor&quot;: &quot;green&quot;, &quot;fillOpacity&quot;: 0.7, &quot;fillRule&quot;: &quot;evenodd&quot;, &quot;lineCap&quot;: &quot;round&quot;, &quot;lineJoin&quot;: &quot;round&quot;, &quot;opacity&quot;: 1.0, &quot;radius&quot;: 3, &quot;stroke&quot;: true, &quot;weight&quot;: 1}\n",
       "            ).addTo(map_0f194e2aaa6e0c52ce4a98779fb6afef);\n",
       "        \n",
       "    \n",
       "        var popup_25a4929e4c1fc5730fa37a0642036790 = L.popup({\n",
       "  &quot;maxWidth&quot;: 250,\n",
       "});\n",
       "\n",
       "        \n",
       "            \n",
       "                var html_3b28b3a8b385a2eb55e93d172386e0e2 = $(`&lt;div id=&quot;html_3b28b3a8b385a2eb55e93d172386e0e2&quot; style=&quot;width: 100.0%; height: 100.0%;&quot;&gt;             &lt;div style=&quot;width: 200px;&quot;&gt;                 &lt;h4&gt;Marine Monitoring Point&lt;/h4&gt;                 &lt;p&gt;&lt;strong&gt;Coordinates:&lt;/strong&gt; -56.950, 44.241&lt;/p&gt;                 &lt;p&gt;&lt;strong&gt;Hotspot Probability:&lt;/strong&gt; -5.3%&lt;/p&gt;                 &lt;p&gt;&lt;strong&gt;Concentration:&lt;/strong&gt; 2.72 particles/m³&lt;/p&gt;                 &lt;p&gt;&lt;strong&gt;Water Temp:&lt;/strong&gt; 25.4°C&lt;/p&gt;                 &lt;p&gt;&lt;strong&gt;Current Speed:&lt;/strong&gt; 4.4 m/s&lt;/p&gt;                 &lt;p&gt;&lt;strong&gt;Date:&lt;/strong&gt; 2025-03-08&lt;/p&gt;             &lt;/div&gt;             &lt;/div&gt;`)[0];\n",
       "                popup_25a4929e4c1fc5730fa37a0642036790.setContent(html_3b28b3a8b385a2eb55e93d172386e0e2);\n",
       "            \n",
       "        \n",
       "\n",
       "        circle_marker_68e9ca1034968d7555883125c732ad04.bindPopup(popup_25a4929e4c1fc5730fa37a0642036790)\n",
       "        ;\n",
       "\n",
       "        \n",
       "    \n",
       "    \n",
       "            circle_marker_68e9ca1034968d7555883125c732ad04.bindTooltip(\n",
       "                `&lt;div&gt;\n",
       "                     Hotspot Risk: -5.3%\n",
       "                 &lt;/div&gt;`,\n",
       "                {\n",
       "  &quot;sticky&quot;: true,\n",
       "}\n",
       "            );\n",
       "        \n",
       "    \n",
       "            var circle_marker_59cd73cbf997d14955d15b77cb10204d = L.circleMarker(\n",
       "                [-47.053028760803464, -149.27491260224352],\n",
       "                {&quot;bubblingMouseEvents&quot;: true, &quot;color&quot;: &quot;black&quot;, &quot;dashArray&quot;: null, &quot;dashOffset&quot;: null, &quot;fill&quot;: true, &quot;fillColor&quot;: &quot;yellow&quot;, &quot;fillOpacity&quot;: 0.7, &quot;fillRule&quot;: &quot;evenodd&quot;, &quot;lineCap&quot;: &quot;round&quot;, &quot;lineJoin&quot;: &quot;round&quot;, &quot;opacity&quot;: 1.0, &quot;radius&quot;: 3.4165152328477637, &quot;stroke&quot;: true, &quot;weight&quot;: 1}\n",
       "            ).addTo(map_0f194e2aaa6e0c52ce4a98779fb6afef);\n",
       "        \n",
       "    \n",
       "        var popup_a543e550a791dbd0728a2e2ac95f9ce3 = L.popup({\n",
       "  &quot;maxWidth&quot;: 250,\n",
       "});\n",
       "\n",
       "        \n",
       "            \n",
       "                var html_99db8f59810edf3abbee379f9557466d = $(`&lt;div id=&quot;html_99db8f59810edf3abbee379f9557466d&quot; style=&quot;width: 100.0%; height: 100.0%;&quot;&gt;             &lt;div style=&quot;width: 200px;&quot;&gt;                 &lt;h4&gt;Marine Monitoring Point&lt;/h4&gt;                 &lt;p&gt;&lt;strong&gt;Coordinates:&lt;/strong&gt; -47.053, -149.275&lt;/p&gt;                 &lt;p&gt;&lt;strong&gt;Hotspot Probability:&lt;/strong&gt; 22.8%&lt;/p&gt;                 &lt;p&gt;&lt;strong&gt;Concentration:&lt;/strong&gt; 47.18 particles/m³&lt;/p&gt;                 &lt;p&gt;&lt;strong&gt;Water Temp:&lt;/strong&gt; 15.9°C&lt;/p&gt;                 &lt;p&gt;&lt;strong&gt;Current Speed:&lt;/strong&gt; 4.6 m/s&lt;/p&gt;                 &lt;p&gt;&lt;strong&gt;Date:&lt;/strong&gt; 2025-03-18&lt;/p&gt;             &lt;/div&gt;             &lt;/div&gt;`)[0];\n",
       "                popup_a543e550a791dbd0728a2e2ac95f9ce3.setContent(html_99db8f59810edf3abbee379f9557466d);\n",
       "            \n",
       "        \n",
       "\n",
       "        circle_marker_59cd73cbf997d14955d15b77cb10204d.bindPopup(popup_a543e550a791dbd0728a2e2ac95f9ce3)\n",
       "        ;\n",
       "\n",
       "        \n",
       "    \n",
       "    \n",
       "            circle_marker_59cd73cbf997d14955d15b77cb10204d.bindTooltip(\n",
       "                `&lt;div&gt;\n",
       "                     Hotspot Risk: 22.8%\n",
       "                 &lt;/div&gt;`,\n",
       "                {\n",
       "  &quot;sticky&quot;: true,\n",
       "}\n",
       "            );\n",
       "        \n",
       "    \n",
       "            var circle_marker_212ba7e09d0f64082a3e6ef95dd0f71e = L.circleMarker(\n",
       "                [-56.22849771759189, -161.39458037930123],\n",
       "                {&quot;bubblingMouseEvents&quot;: true, &quot;color&quot;: &quot;black&quot;, &quot;dashArray&quot;: null, &quot;dashOffset&quot;: null, &quot;fill&quot;: true, &quot;fillColor&quot;: &quot;green&quot;, &quot;fillOpacity&quot;: 0.7, &quot;fillRule&quot;: &quot;evenodd&quot;, &quot;lineCap&quot;: &quot;round&quot;, &quot;lineJoin&quot;: &quot;round&quot;, &quot;opacity&quot;: 1.0, &quot;radius&quot;: 3, &quot;stroke&quot;: true, &quot;weight&quot;: 1}\n",
       "            ).addTo(map_0f194e2aaa6e0c52ce4a98779fb6afef);\n",
       "        \n",
       "    \n",
       "        var popup_784049ce71e7500983ebb343e2a953fb = L.popup({\n",
       "  &quot;maxWidth&quot;: 250,\n",
       "});\n",
       "\n",
       "        \n",
       "            \n",
       "                var html_725573ac46a62374a6c1743a497512bd = $(`&lt;div id=&quot;html_725573ac46a62374a6c1743a497512bd&quot; style=&quot;width: 100.0%; height: 100.0%;&quot;&gt;             &lt;div style=&quot;width: 200px;&quot;&gt;                 &lt;h4&gt;Marine Monitoring Point&lt;/h4&gt;                 &lt;p&gt;&lt;strong&gt;Coordinates:&lt;/strong&gt; -56.228, -161.395&lt;/p&gt;                 &lt;p&gt;&lt;strong&gt;Hotspot Probability:&lt;/strong&gt; 13.3%&lt;/p&gt;                 &lt;p&gt;&lt;strong&gt;Concentration:&lt;/strong&gt; 22.27 particles/m³&lt;/p&gt;                 &lt;p&gt;&lt;strong&gt;Water Temp:&lt;/strong&gt; 21.7°C&lt;/p&gt;                 &lt;p&gt;&lt;strong&gt;Current Speed:&lt;/strong&gt; 6.2 m/s&lt;/p&gt;                 &lt;p&gt;&lt;strong&gt;Date:&lt;/strong&gt; 2025-03-10&lt;/p&gt;             &lt;/div&gt;             &lt;/div&gt;`)[0];\n",
       "                popup_784049ce71e7500983ebb343e2a953fb.setContent(html_725573ac46a62374a6c1743a497512bd);\n",
       "            \n",
       "        \n",
       "\n",
       "        circle_marker_212ba7e09d0f64082a3e6ef95dd0f71e.bindPopup(popup_784049ce71e7500983ebb343e2a953fb)\n",
       "        ;\n",
       "\n",
       "        \n",
       "    \n",
       "    \n",
       "            circle_marker_212ba7e09d0f64082a3e6ef95dd0f71e.bindTooltip(\n",
       "                `&lt;div&gt;\n",
       "                     Hotspot Risk: 13.3%\n",
       "                 &lt;/div&gt;`,\n",
       "                {\n",
       "  &quot;sticky&quot;: true,\n",
       "}\n",
       "            );\n",
       "        \n",
       "    \n",
       "            var circle_marker_482c47143de4b4ac49d33c0a5384b432 = L.circleMarker(\n",
       "                [16.369249351653647, 11.287667364533277],\n",
       "                {&quot;bubblingMouseEvents&quot;: true, &quot;color&quot;: &quot;black&quot;, &quot;dashArray&quot;: null, &quot;dashOffset&quot;: null, &quot;fill&quot;: true, &quot;fillColor&quot;: &quot;yellow&quot;, &quot;fillOpacity&quot;: 0.7, &quot;fillRule&quot;: &quot;evenodd&quot;, &quot;lineCap&quot;: &quot;round&quot;, &quot;lineJoin&quot;: &quot;round&quot;, &quot;opacity&quot;: 1.0, &quot;radius&quot;: 4.8772701951651705, &quot;stroke&quot;: true, &quot;weight&quot;: 1}\n",
       "            ).addTo(map_0f194e2aaa6e0c52ce4a98779fb6afef);\n",
       "        \n",
       "    \n",
       "        var popup_282fff88112cc7c7728beb9d07518433 = L.popup({\n",
       "  &quot;maxWidth&quot;: 250,\n",
       "});\n",
       "\n",
       "        \n",
       "            \n",
       "                var html_57278191c0bb738ac3e164c5af7e3ad1 = $(`&lt;div id=&quot;html_57278191c0bb738ac3e164c5af7e3ad1&quot; style=&quot;width: 100.0%; height: 100.0%;&quot;&gt;             &lt;div style=&quot;width: 200px;&quot;&gt;                 &lt;h4&gt;Marine Monitoring Point&lt;/h4&gt;                 &lt;p&gt;&lt;strong&gt;Coordinates:&lt;/strong&gt; 16.369, 11.288&lt;/p&gt;                 &lt;p&gt;&lt;strong&gt;Hotspot Probability:&lt;/strong&gt; 32.5%&lt;/p&gt;                 &lt;p&gt;&lt;strong&gt;Concentration:&lt;/strong&gt; 23.37 particles/m³&lt;/p&gt;                 &lt;p&gt;&lt;strong&gt;Water Temp:&lt;/strong&gt; 11.0°C&lt;/p&gt;                 &lt;p&gt;&lt;strong&gt;Current Speed:&lt;/strong&gt; 2.7 m/s&lt;/p&gt;                 &lt;p&gt;&lt;strong&gt;Date:&lt;/strong&gt; 2025-05-29&lt;/p&gt;             &lt;/div&gt;             &lt;/div&gt;`)[0];\n",
       "                popup_282fff88112cc7c7728beb9d07518433.setContent(html_57278191c0bb738ac3e164c5af7e3ad1);\n",
       "            \n",
       "        \n",
       "\n",
       "        circle_marker_482c47143de4b4ac49d33c0a5384b432.bindPopup(popup_282fff88112cc7c7728beb9d07518433)\n",
       "        ;\n",
       "\n",
       "        \n",
       "    \n",
       "    \n",
       "            circle_marker_482c47143de4b4ac49d33c0a5384b432.bindTooltip(\n",
       "                `&lt;div&gt;\n",
       "                     Hotspot Risk: 32.5%\n",
       "                 &lt;/div&gt;`,\n",
       "                {\n",
       "  &quot;sticky&quot;: true,\n",
       "}\n",
       "            );\n",
       "        \n",
       "    \n",
       "            var circle_marker_979453d3b118233a8e2e4f7ad18c0635 = L.circleMarker(\n",
       "                [-22.2772822708408, 14.628643779638345],\n",
       "                {&quot;bubblingMouseEvents&quot;: true, &quot;color&quot;: &quot;black&quot;, &quot;dashArray&quot;: null, &quot;dashOffset&quot;: null, &quot;fill&quot;: true, &quot;fillColor&quot;: &quot;orange&quot;, &quot;fillOpacity&quot;: 0.7, &quot;fillRule&quot;: &quot;evenodd&quot;, &quot;lineCap&quot;: &quot;round&quot;, &quot;lineJoin&quot;: &quot;round&quot;, &quot;opacity&quot;: 1.0, &quot;radius&quot;: 8.326727963283785, &quot;stroke&quot;: true, &quot;weight&quot;: 1}\n",
       "            ).addTo(map_0f194e2aaa6e0c52ce4a98779fb6afef);\n",
       "        \n",
       "    \n",
       "        var popup_553a24044c4df29c5f62fa8833fce9fa = L.popup({\n",
       "  &quot;maxWidth&quot;: 250,\n",
       "});\n",
       "\n",
       "        \n",
       "            \n",
       "                var html_4226659c98307ca424563b00db37250b = $(`&lt;div id=&quot;html_4226659c98307ca424563b00db37250b&quot; style=&quot;width: 100.0%; height: 100.0%;&quot;&gt;             &lt;div style=&quot;width: 200px;&quot;&gt;                 &lt;h4&gt;Marine Monitoring Point&lt;/h4&gt;                 &lt;p&gt;&lt;strong&gt;Coordinates:&lt;/strong&gt; -22.277, 14.629&lt;/p&gt;                 &lt;p&gt;&lt;strong&gt;Hotspot Probability:&lt;/strong&gt; 55.5%&lt;/p&gt;                 &lt;p&gt;&lt;strong&gt;Concentration:&lt;/strong&gt; 8.34 particles/m³&lt;/p&gt;                 &lt;p&gt;&lt;strong&gt;Water Temp:&lt;/strong&gt; 9.2°C&lt;/p&gt;                 &lt;p&gt;&lt;strong&gt;Current Speed:&lt;/strong&gt; 1.2 m/s&lt;/p&gt;                 &lt;p&gt;&lt;strong&gt;Date:&lt;/strong&gt; 2025-08-21&lt;/p&gt;             &lt;/div&gt;             &lt;/div&gt;`)[0];\n",
       "                popup_553a24044c4df29c5f62fa8833fce9fa.setContent(html_4226659c98307ca424563b00db37250b);\n",
       "            \n",
       "        \n",
       "\n",
       "        circle_marker_979453d3b118233a8e2e4f7ad18c0635.bindPopup(popup_553a24044c4df29c5f62fa8833fce9fa)\n",
       "        ;\n",
       "\n",
       "        \n",
       "    \n",
       "    \n",
       "            circle_marker_979453d3b118233a8e2e4f7ad18c0635.bindTooltip(\n",
       "                `&lt;div&gt;\n",
       "                     Hotspot Risk: 55.5%\n",
       "                 &lt;/div&gt;`,\n",
       "                {\n",
       "  &quot;sticky&quot;: true,\n",
       "}\n",
       "            );\n",
       "        \n",
       "    \n",
       "            var circle_marker_ad5aeed609e36461c9225319a5fa996d = L.circleMarker(\n",
       "                [1.0284829397643325, 49.47476453935436],\n",
       "                {&quot;bubblingMouseEvents&quot;: true, &quot;color&quot;: &quot;black&quot;, &quot;dashArray&quot;: null, &quot;dashOffset&quot;: null, &quot;fill&quot;: true, &quot;fillColor&quot;: &quot;green&quot;, &quot;fillOpacity&quot;: 0.7, &quot;fillRule&quot;: &quot;evenodd&quot;, &quot;lineCap&quot;: &quot;round&quot;, &quot;lineJoin&quot;: &quot;round&quot;, &quot;opacity&quot;: 1.0, &quot;radius&quot;: 3, &quot;stroke&quot;: true, &quot;weight&quot;: 1}\n",
       "            ).addTo(map_0f194e2aaa6e0c52ce4a98779fb6afef);\n",
       "        \n",
       "    \n",
       "        var popup_30a9f07bed2cb9cad758eb41e1c8921b = L.popup({\n",
       "  &quot;maxWidth&quot;: 250,\n",
       "});\n",
       "\n",
       "        \n",
       "            \n",
       "                var html_319a2c8c63094cb507ab711f1a634b5c = $(`&lt;div id=&quot;html_319a2c8c63094cb507ab711f1a634b5c&quot; style=&quot;width: 100.0%; height: 100.0%;&quot;&gt;             &lt;div style=&quot;width: 200px;&quot;&gt;                 &lt;h4&gt;Marine Monitoring Point&lt;/h4&gt;                 &lt;p&gt;&lt;strong&gt;Coordinates:&lt;/strong&gt; 1.028, 49.475&lt;/p&gt;                 &lt;p&gt;&lt;strong&gt;Hotspot Probability:&lt;/strong&gt; 11.2%&lt;/p&gt;                 &lt;p&gt;&lt;strong&gt;Concentration:&lt;/strong&gt; 27.44 particles/m³&lt;/p&gt;                 &lt;p&gt;&lt;strong&gt;Water Temp:&lt;/strong&gt; 20.8°C&lt;/p&gt;                 &lt;p&gt;&lt;strong&gt;Current Speed:&lt;/strong&gt; 3.1 m/s&lt;/p&gt;                 &lt;p&gt;&lt;strong&gt;Date:&lt;/strong&gt; 2025-01-28&lt;/p&gt;             &lt;/div&gt;             &lt;/div&gt;`)[0];\n",
       "                popup_30a9f07bed2cb9cad758eb41e1c8921b.setContent(html_319a2c8c63094cb507ab711f1a634b5c);\n",
       "            \n",
       "        \n",
       "\n",
       "        circle_marker_ad5aeed609e36461c9225319a5fa996d.bindPopup(popup_30a9f07bed2cb9cad758eb41e1c8921b)\n",
       "        ;\n",
       "\n",
       "        \n",
       "    \n",
       "    \n",
       "            circle_marker_ad5aeed609e36461c9225319a5fa996d.bindTooltip(\n",
       "                `&lt;div&gt;\n",
       "                     Hotspot Risk: 11.2%\n",
       "                 &lt;/div&gt;`,\n",
       "                {\n",
       "  &quot;sticky&quot;: true,\n",
       "}\n",
       "            );\n",
       "        \n",
       "    \n",
       "            var circle_marker_e085e95fdfd3453adb4d653021968d85 = L.circleMarker(\n",
       "                [48.90797687113116, 81.39288014015816],\n",
       "                {&quot;bubblingMouseEvents&quot;: true, &quot;color&quot;: &quot;black&quot;, &quot;dashArray&quot;: null, &quot;dashOffset&quot;: null, &quot;fill&quot;: true, &quot;fillColor&quot;: &quot;yellow&quot;, &quot;fillOpacity&quot;: 0.7, &quot;fillRule&quot;: &quot;evenodd&quot;, &quot;lineCap&quot;: &quot;round&quot;, &quot;lineJoin&quot;: &quot;round&quot;, &quot;opacity&quot;: 1.0, &quot;radius&quot;: 3.2689457760957397, &quot;stroke&quot;: true, &quot;weight&quot;: 1}\n",
       "            ).addTo(map_0f194e2aaa6e0c52ce4a98779fb6afef);\n",
       "        \n",
       "    \n",
       "        var popup_86dd2298dd233f96a1fb0ad787444a1d = L.popup({\n",
       "  &quot;maxWidth&quot;: 250,\n",
       "});\n",
       "\n",
       "        \n",
       "            \n",
       "                var html_28900bb5722580cc3628ed620973ecb6 = $(`&lt;div id=&quot;html_28900bb5722580cc3628ed620973ecb6&quot; style=&quot;width: 100.0%; height: 100.0%;&quot;&gt;             &lt;div style=&quot;width: 200px;&quot;&gt;                 &lt;h4&gt;Marine Monitoring Point&lt;/h4&gt;                 &lt;p&gt;&lt;strong&gt;Coordinates:&lt;/strong&gt; 48.908, 81.393&lt;/p&gt;                 &lt;p&gt;&lt;strong&gt;Hotspot Probability:&lt;/strong&gt; 21.8%&lt;/p&gt;                 &lt;p&gt;&lt;strong&gt;Concentration:&lt;/strong&gt; 7.33 particles/m³&lt;/p&gt;                 &lt;p&gt;&lt;strong&gt;Water Temp:&lt;/strong&gt; 18.4°C&lt;/p&gt;                 &lt;p&gt;&lt;strong&gt;Current Speed:&lt;/strong&gt; 7.0 m/s&lt;/p&gt;                 &lt;p&gt;&lt;strong&gt;Date:&lt;/strong&gt; 2025-01-28&lt;/p&gt;             &lt;/div&gt;             &lt;/div&gt;`)[0];\n",
       "                popup_86dd2298dd233f96a1fb0ad787444a1d.setContent(html_28900bb5722580cc3628ed620973ecb6);\n",
       "            \n",
       "        \n",
       "\n",
       "        circle_marker_e085e95fdfd3453adb4d653021968d85.bindPopup(popup_86dd2298dd233f96a1fb0ad787444a1d)\n",
       "        ;\n",
       "\n",
       "        \n",
       "    \n",
       "    \n",
       "            circle_marker_e085e95fdfd3453adb4d653021968d85.bindTooltip(\n",
       "                `&lt;div&gt;\n",
       "                     Hotspot Risk: 21.8%\n",
       "                 &lt;/div&gt;`,\n",
       "                {\n",
       "  &quot;sticky&quot;: true,\n",
       "}\n",
       "            );\n",
       "        \n",
       "    \n",
       "            var circle_marker_c2a681846ae80598f5da95252a7f2e88 = L.circleMarker(\n",
       "                [-30.084932502135008, 171.30674860651246],\n",
       "                {&quot;bubblingMouseEvents&quot;: true, &quot;color&quot;: &quot;black&quot;, &quot;dashArray&quot;: null, &quot;dashOffset&quot;: null, &quot;fill&quot;: true, &quot;fillColor&quot;: &quot;green&quot;, &quot;fillOpacity&quot;: 0.7, &quot;fillRule&quot;: &quot;evenodd&quot;, &quot;lineCap&quot;: &quot;round&quot;, &quot;lineJoin&quot;: &quot;round&quot;, &quot;opacity&quot;: 1.0, &quot;radius&quot;: 3, &quot;stroke&quot;: true, &quot;weight&quot;: 1}\n",
       "            ).addTo(map_0f194e2aaa6e0c52ce4a98779fb6afef);\n",
       "        \n",
       "    \n",
       "        var popup_f31e8446af7cd416fb1937854c8f0e67 = L.popup({\n",
       "  &quot;maxWidth&quot;: 250,\n",
       "});\n",
       "\n",
       "        \n",
       "            \n",
       "                var html_4f23e99d5ac6127007e490b0d5034b6f = $(`&lt;div id=&quot;html_4f23e99d5ac6127007e490b0d5034b6f&quot; style=&quot;width: 100.0%; height: 100.0%;&quot;&gt;             &lt;div style=&quot;width: 200px;&quot;&gt;                 &lt;h4&gt;Marine Monitoring Point&lt;/h4&gt;                 &lt;p&gt;&lt;strong&gt;Coordinates:&lt;/strong&gt; -30.085, 171.307&lt;/p&gt;                 &lt;p&gt;&lt;strong&gt;Hotspot Probability:&lt;/strong&gt; 10.7%&lt;/p&gt;                 &lt;p&gt;&lt;strong&gt;Concentration:&lt;/strong&gt; 28.76 particles/m³&lt;/p&gt;                 &lt;p&gt;&lt;strong&gt;Water Temp:&lt;/strong&gt; 16.9°C&lt;/p&gt;                 &lt;p&gt;&lt;strong&gt;Current Speed:&lt;/strong&gt; 1.3 m/s&lt;/p&gt;                 &lt;p&gt;&lt;strong&gt;Date:&lt;/strong&gt; 2024-11-24&lt;/p&gt;             &lt;/div&gt;             &lt;/div&gt;`)[0];\n",
       "                popup_f31e8446af7cd416fb1937854c8f0e67.setContent(html_4f23e99d5ac6127007e490b0d5034b6f);\n",
       "            \n",
       "        \n",
       "\n",
       "        circle_marker_c2a681846ae80598f5da95252a7f2e88.bindPopup(popup_f31e8446af7cd416fb1937854c8f0e67)\n",
       "        ;\n",
       "\n",
       "        \n",
       "    \n",
       "    \n",
       "            circle_marker_c2a681846ae80598f5da95252a7f2e88.bindTooltip(\n",
       "                `&lt;div&gt;\n",
       "                     Hotspot Risk: 10.7%\n",
       "                 &lt;/div&gt;`,\n",
       "                {\n",
       "  &quot;sticky&quot;: true,\n",
       "}\n",
       "            );\n",
       "        \n",
       "    \n",
       "            var circle_marker_55527b3d9dfb4ba842f4eaf03b8916a9 = L.circleMarker(\n",
       "                [-10.754049235724432, 5.868125388430312],\n",
       "                {&quot;bubblingMouseEvents&quot;: true, &quot;color&quot;: &quot;black&quot;, &quot;dashArray&quot;: null, &quot;dashOffset&quot;: null, &quot;fill&quot;: true, &quot;fillColor&quot;: &quot;red&quot;, &quot;fillOpacity&quot;: 0.7, &quot;fillRule&quot;: &quot;evenodd&quot;, &quot;lineCap&quot;: &quot;round&quot;, &quot;lineJoin&quot;: &quot;round&quot;, &quot;opacity&quot;: 1.0, &quot;radius&quot;: 9.09112188732298, &quot;stroke&quot;: true, &quot;weight&quot;: 1}\n",
       "            ).addTo(map_0f194e2aaa6e0c52ce4a98779fb6afef);\n",
       "        \n",
       "    \n",
       "        var popup_b3c5a165457ee01e25b52d2c25beb9b9 = L.popup({\n",
       "  &quot;maxWidth&quot;: 250,\n",
       "});\n",
       "\n",
       "        \n",
       "            \n",
       "                var html_f8cf49eed3027962cfec2298d6a92b18 = $(`&lt;div id=&quot;html_f8cf49eed3027962cfec2298d6a92b18&quot; style=&quot;width: 100.0%; height: 100.0%;&quot;&gt;             &lt;div style=&quot;width: 200px;&quot;&gt;                 &lt;h4&gt;Marine Monitoring Point&lt;/h4&gt;                 &lt;p&gt;&lt;strong&gt;Coordinates:&lt;/strong&gt; -10.754, 5.868&lt;/p&gt;                 &lt;p&gt;&lt;strong&gt;Hotspot Probability:&lt;/strong&gt; 60.6%&lt;/p&gt;                 &lt;p&gt;&lt;strong&gt;Concentration:&lt;/strong&gt; 6.37 particles/m³&lt;/p&gt;                 &lt;p&gt;&lt;strong&gt;Water Temp:&lt;/strong&gt; 12.3°C&lt;/p&gt;                 &lt;p&gt;&lt;strong&gt;Current Speed:&lt;/strong&gt; 1.8 m/s&lt;/p&gt;                 &lt;p&gt;&lt;strong&gt;Date:&lt;/strong&gt; 2025-05-02&lt;/p&gt;             &lt;/div&gt;             &lt;/div&gt;`)[0];\n",
       "                popup_b3c5a165457ee01e25b52d2c25beb9b9.setContent(html_f8cf49eed3027962cfec2298d6a92b18);\n",
       "            \n",
       "        \n",
       "\n",
       "        circle_marker_55527b3d9dfb4ba842f4eaf03b8916a9.bindPopup(popup_b3c5a165457ee01e25b52d2c25beb9b9)\n",
       "        ;\n",
       "\n",
       "        \n",
       "    \n",
       "    \n",
       "            circle_marker_55527b3d9dfb4ba842f4eaf03b8916a9.bindTooltip(\n",
       "                `&lt;div&gt;\n",
       "                     Hotspot Risk: 60.6%\n",
       "                 &lt;/div&gt;`,\n",
       "                {\n",
       "  &quot;sticky&quot;: true,\n",
       "}\n",
       "            );\n",
       "        \n",
       "    \n",
       "            var circle_marker_5d12a87607ddc6f1c303d6624b0f22bf = L.circleMarker(\n",
       "                [30.66613662516584, -63.735669741151455],\n",
       "                {&quot;bubblingMouseEvents&quot;: true, &quot;color&quot;: &quot;black&quot;, &quot;dashArray&quot;: null, &quot;dashOffset&quot;: null, &quot;fill&quot;: true, &quot;fillColor&quot;: &quot;red&quot;, &quot;fillOpacity&quot;: 0.7, &quot;fillRule&quot;: &quot;evenodd&quot;, &quot;lineCap&quot;: &quot;round&quot;, &quot;lineJoin&quot;: &quot;round&quot;, &quot;opacity&quot;: 1.0, &quot;radius&quot;: 11.633011263664807, &quot;stroke&quot;: true, &quot;weight&quot;: 1}\n",
       "            ).addTo(map_0f194e2aaa6e0c52ce4a98779fb6afef);\n",
       "        \n",
       "    \n",
       "        var popup_e2230b5ef306dcbccd36c4a6e2ccd845 = L.popup({\n",
       "  &quot;maxWidth&quot;: 250,\n",
       "});\n",
       "\n",
       "        \n",
       "            \n",
       "                var html_f9a4ff25b34598b909c63dc4db33846d = $(`&lt;div id=&quot;html_f9a4ff25b34598b909c63dc4db33846d&quot; style=&quot;width: 100.0%; height: 100.0%;&quot;&gt;             &lt;div style=&quot;width: 200px;&quot;&gt;                 &lt;h4&gt;Marine Monitoring Point&lt;/h4&gt;                 &lt;p&gt;&lt;strong&gt;Coordinates:&lt;/strong&gt; 30.666, -63.736&lt;/p&gt;                 &lt;p&gt;&lt;strong&gt;Hotspot Probability:&lt;/strong&gt; 77.6%&lt;/p&gt;                 &lt;p&gt;&lt;strong&gt;Concentration:&lt;/strong&gt; 3.75 particles/m³&lt;/p&gt;                 &lt;p&gt;&lt;strong&gt;Water Temp:&lt;/strong&gt; 27.4°C&lt;/p&gt;                 &lt;p&gt;&lt;strong&gt;Current Speed:&lt;/strong&gt; 5.6 m/s&lt;/p&gt;                 &lt;p&gt;&lt;strong&gt;Date:&lt;/strong&gt; 2025-02-27&lt;/p&gt;             &lt;/div&gt;             &lt;/div&gt;`)[0];\n",
       "                popup_e2230b5ef306dcbccd36c4a6e2ccd845.setContent(html_f9a4ff25b34598b909c63dc4db33846d);\n",
       "            \n",
       "        \n",
       "\n",
       "        circle_marker_5d12a87607ddc6f1c303d6624b0f22bf.bindPopup(popup_e2230b5ef306dcbccd36c4a6e2ccd845)\n",
       "        ;\n",
       "\n",
       "        \n",
       "    \n",
       "    \n",
       "            circle_marker_5d12a87607ddc6f1c303d6624b0f22bf.bindTooltip(\n",
       "                `&lt;div&gt;\n",
       "                     Hotspot Risk: 77.6%\n",
       "                 &lt;/div&gt;`,\n",
       "                {\n",
       "  &quot;sticky&quot;: true,\n",
       "}\n",
       "            );\n",
       "        \n",
       "    \n",
       "            var circle_marker_68ff1a30eff0a96bacc9bb35313b812c = L.circleMarker(\n",
       "                [-32.544220141005304, 106.26703011673332],\n",
       "                {&quot;bubblingMouseEvents&quot;: true, &quot;color&quot;: &quot;black&quot;, &quot;dashArray&quot;: null, &quot;dashOffset&quot;: null, &quot;fill&quot;: true, &quot;fillColor&quot;: &quot;green&quot;, &quot;fillOpacity&quot;: 0.7, &quot;fillRule&quot;: &quot;evenodd&quot;, &quot;lineCap&quot;: &quot;round&quot;, &quot;lineJoin&quot;: &quot;round&quot;, &quot;opacity&quot;: 1.0, &quot;radius&quot;: 3, &quot;stroke&quot;: true, &quot;weight&quot;: 1}\n",
       "            ).addTo(map_0f194e2aaa6e0c52ce4a98779fb6afef);\n",
       "        \n",
       "    \n",
       "        var popup_9ed8a42652199f1f875bfddd551a5da3 = L.popup({\n",
       "  &quot;maxWidth&quot;: 250,\n",
       "});\n",
       "\n",
       "        \n",
       "            \n",
       "                var html_cc8b7196c923026d0cc3411d8dfdcedf = $(`&lt;div id=&quot;html_cc8b7196c923026d0cc3411d8dfdcedf&quot; style=&quot;width: 100.0%; height: 100.0%;&quot;&gt;             &lt;div style=&quot;width: 200px;&quot;&gt;                 &lt;h4&gt;Marine Monitoring Point&lt;/h4&gt;                 &lt;p&gt;&lt;strong&gt;Coordinates:&lt;/strong&gt; -32.544, 106.267&lt;/p&gt;                 &lt;p&gt;&lt;strong&gt;Hotspot Probability:&lt;/strong&gt; 7.5%&lt;/p&gt;                 &lt;p&gt;&lt;strong&gt;Concentration:&lt;/strong&gt; 45.19 particles/m³&lt;/p&gt;                 &lt;p&gt;&lt;strong&gt;Water Temp:&lt;/strong&gt; 6.1°C&lt;/p&gt;                 &lt;p&gt;&lt;strong&gt;Current Speed:&lt;/strong&gt; 0.9 m/s&lt;/p&gt;                 &lt;p&gt;&lt;strong&gt;Date:&lt;/strong&gt; 2024-12-22&lt;/p&gt;             &lt;/div&gt;             &lt;/div&gt;`)[0];\n",
       "                popup_9ed8a42652199f1f875bfddd551a5da3.setContent(html_cc8b7196c923026d0cc3411d8dfdcedf);\n",
       "            \n",
       "        \n",
       "\n",
       "        circle_marker_68ff1a30eff0a96bacc9bb35313b812c.bindPopup(popup_9ed8a42652199f1f875bfddd551a5da3)\n",
       "        ;\n",
       "\n",
       "        \n",
       "    \n",
       "    \n",
       "            circle_marker_68ff1a30eff0a96bacc9bb35313b812c.bindTooltip(\n",
       "                `&lt;div&gt;\n",
       "                     Hotspot Risk: 7.5%\n",
       "                 &lt;/div&gt;`,\n",
       "                {\n",
       "  &quot;sticky&quot;: true,\n",
       "}\n",
       "            );\n",
       "        \n",
       "    \n",
       "            var circle_marker_e2d37d2caf3ed6f6b4ade1a6fd606de0 = L.circleMarker(\n",
       "                [-50.762410820544844, -82.50038954565328],\n",
       "                {&quot;bubblingMouseEvents&quot;: true, &quot;color&quot;: &quot;black&quot;, &quot;dashArray&quot;: null, &quot;dashOffset&quot;: null, &quot;fill&quot;: true, &quot;fillColor&quot;: &quot;green&quot;, &quot;fillOpacity&quot;: 0.7, &quot;fillRule&quot;: &quot;evenodd&quot;, &quot;lineCap&quot;: &quot;round&quot;, &quot;lineJoin&quot;: &quot;round&quot;, &quot;opacity&quot;: 1.0, &quot;radius&quot;: 3, &quot;stroke&quot;: true, &quot;weight&quot;: 1}\n",
       "            ).addTo(map_0f194e2aaa6e0c52ce4a98779fb6afef);\n",
       "        \n",
       "    \n",
       "        var popup_25d28eef0f7c7fd2a16c77f4dbe3610b = L.popup({\n",
       "  &quot;maxWidth&quot;: 250,\n",
       "});\n",
       "\n",
       "        \n",
       "            \n",
       "                var html_d665c7acb2071002ec724938d7d4bcdf = $(`&lt;div id=&quot;html_d665c7acb2071002ec724938d7d4bcdf&quot; style=&quot;width: 100.0%; height: 100.0%;&quot;&gt;             &lt;div style=&quot;width: 200px;&quot;&gt;                 &lt;h4&gt;Marine Monitoring Point&lt;/h4&gt;                 &lt;p&gt;&lt;strong&gt;Coordinates:&lt;/strong&gt; -50.762, -82.500&lt;/p&gt;                 &lt;p&gt;&lt;strong&gt;Hotspot Probability:&lt;/strong&gt; 19.7%&lt;/p&gt;                 &lt;p&gt;&lt;strong&gt;Concentration:&lt;/strong&gt; 7.24 particles/m³&lt;/p&gt;                 &lt;p&gt;&lt;strong&gt;Water Temp:&lt;/strong&gt; 5.6°C&lt;/p&gt;                 &lt;p&gt;&lt;strong&gt;Current Speed:&lt;/strong&gt; 5.4 m/s&lt;/p&gt;                 &lt;p&gt;&lt;strong&gt;Date:&lt;/strong&gt; 2025-04-13&lt;/p&gt;             &lt;/div&gt;             &lt;/div&gt;`)[0];\n",
       "                popup_25d28eef0f7c7fd2a16c77f4dbe3610b.setContent(html_d665c7acb2071002ec724938d7d4bcdf);\n",
       "            \n",
       "        \n",
       "\n",
       "        circle_marker_e2d37d2caf3ed6f6b4ade1a6fd606de0.bindPopup(popup_25d28eef0f7c7fd2a16c77f4dbe3610b)\n",
       "        ;\n",
       "\n",
       "        \n",
       "    \n",
       "    \n",
       "            circle_marker_e2d37d2caf3ed6f6b4ade1a6fd606de0.bindTooltip(\n",
       "                `&lt;div&gt;\n",
       "                     Hotspot Risk: 19.7%\n",
       "                 &lt;/div&gt;`,\n",
       "                {\n",
       "  &quot;sticky&quot;: true,\n",
       "}\n",
       "            );\n",
       "        \n",
       "    \n",
       "            var circle_marker_8df7f6caee904ee84a5d3caadb201894 = L.circleMarker(\n",
       "                [-25.229825650347838, -21.970288545971002],\n",
       "                {&quot;bubblingMouseEvents&quot;: true, &quot;color&quot;: &quot;black&quot;, &quot;dashArray&quot;: null, &quot;dashOffset&quot;: null, &quot;fill&quot;: true, &quot;fillColor&quot;: &quot;green&quot;, &quot;fillOpacity&quot;: 0.7, &quot;fillRule&quot;: &quot;evenodd&quot;, &quot;lineCap&quot;: &quot;round&quot;, &quot;lineJoin&quot;: &quot;round&quot;, &quot;opacity&quot;: 1.0, &quot;radius&quot;: 3, &quot;stroke&quot;: true, &quot;weight&quot;: 1}\n",
       "            ).addTo(map_0f194e2aaa6e0c52ce4a98779fb6afef);\n",
       "        \n",
       "    \n",
       "        var popup_e5b5a480bf58c860d93600ababe61932 = L.popup({\n",
       "  &quot;maxWidth&quot;: 250,\n",
       "});\n",
       "\n",
       "        \n",
       "            \n",
       "                var html_9c2ef529cdb89d77eed7338cc99793bf = $(`&lt;div id=&quot;html_9c2ef529cdb89d77eed7338cc99793bf&quot; style=&quot;width: 100.0%; height: 100.0%;&quot;&gt;             &lt;div style=&quot;width: 200px;&quot;&gt;                 &lt;h4&gt;Marine Monitoring Point&lt;/h4&gt;                 &lt;p&gt;&lt;strong&gt;Coordinates:&lt;/strong&gt; -25.230, -21.970&lt;/p&gt;                 &lt;p&gt;&lt;strong&gt;Hotspot Probability:&lt;/strong&gt; 16.5%&lt;/p&gt;                 &lt;p&gt;&lt;strong&gt;Concentration:&lt;/strong&gt; 3.01 particles/m³&lt;/p&gt;                 &lt;p&gt;&lt;strong&gt;Water Temp:&lt;/strong&gt; 22.5°C&lt;/p&gt;                 &lt;p&gt;&lt;strong&gt;Current Speed:&lt;/strong&gt; 0.7 m/s&lt;/p&gt;                 &lt;p&gt;&lt;strong&gt;Date:&lt;/strong&gt; 2024-11-27&lt;/p&gt;             &lt;/div&gt;             &lt;/div&gt;`)[0];\n",
       "                popup_e5b5a480bf58c860d93600ababe61932.setContent(html_9c2ef529cdb89d77eed7338cc99793bf);\n",
       "            \n",
       "        \n",
       "\n",
       "        circle_marker_8df7f6caee904ee84a5d3caadb201894.bindPopup(popup_e5b5a480bf58c860d93600ababe61932)\n",
       "        ;\n",
       "\n",
       "        \n",
       "    \n",
       "    \n",
       "            circle_marker_8df7f6caee904ee84a5d3caadb201894.bindTooltip(\n",
       "                `&lt;div&gt;\n",
       "                     Hotspot Risk: 16.5%\n",
       "                 &lt;/div&gt;`,\n",
       "                {\n",
       "  &quot;sticky&quot;: true,\n",
       "}\n",
       "            );\n",
       "        \n",
       "    \n",
       "            var circle_marker_e31cc6bcc7892be2ed7cd0a0469bc130 = L.circleMarker(\n",
       "                [-40.65344552951947, -151.75570271678424],\n",
       "                {&quot;bubblingMouseEvents&quot;: true, &quot;color&quot;: &quot;black&quot;, &quot;dashArray&quot;: null, &quot;dashOffset&quot;: null, &quot;fill&quot;: true, &quot;fillColor&quot;: &quot;yellow&quot;, &quot;fillOpacity&quot;: 0.7, &quot;fillRule&quot;: &quot;evenodd&quot;, &quot;lineCap&quot;: &quot;round&quot;, &quot;lineJoin&quot;: &quot;round&quot;, &quot;opacity&quot;: 1.0, &quot;radius&quot;: 3.5529473362985233, &quot;stroke&quot;: true, &quot;weight&quot;: 1}\n",
       "            ).addTo(map_0f194e2aaa6e0c52ce4a98779fb6afef);\n",
       "        \n",
       "    \n",
       "        var popup_8c0d302b4d3db5f03e1bf64017d6734f = L.popup({\n",
       "  &quot;maxWidth&quot;: 250,\n",
       "});\n",
       "\n",
       "        \n",
       "            \n",
       "                var html_94c1cf3e6817afd5c27352cd8be40998 = $(`&lt;div id=&quot;html_94c1cf3e6817afd5c27352cd8be40998&quot; style=&quot;width: 100.0%; height: 100.0%;&quot;&gt;             &lt;div style=&quot;width: 200px;&quot;&gt;                 &lt;h4&gt;Marine Monitoring Point&lt;/h4&gt;                 &lt;p&gt;&lt;strong&gt;Coordinates:&lt;/strong&gt; -40.653, -151.756&lt;/p&gt;                 &lt;p&gt;&lt;strong&gt;Hotspot Probability:&lt;/strong&gt; 23.7%&lt;/p&gt;                 &lt;p&gt;&lt;strong&gt;Concentration:&lt;/strong&gt; 2.98 particles/m³&lt;/p&gt;                 &lt;p&gt;&lt;strong&gt;Water Temp:&lt;/strong&gt; 21.9°C&lt;/p&gt;                 &lt;p&gt;&lt;strong&gt;Current Speed:&lt;/strong&gt; 10.0 m/s&lt;/p&gt;                 &lt;p&gt;&lt;strong&gt;Date:&lt;/strong&gt; 2024-10-31&lt;/p&gt;             &lt;/div&gt;             &lt;/div&gt;`)[0];\n",
       "                popup_8c0d302b4d3db5f03e1bf64017d6734f.setContent(html_94c1cf3e6817afd5c27352cd8be40998);\n",
       "            \n",
       "        \n",
       "\n",
       "        circle_marker_e31cc6bcc7892be2ed7cd0a0469bc130.bindPopup(popup_8c0d302b4d3db5f03e1bf64017d6734f)\n",
       "        ;\n",
       "\n",
       "        \n",
       "    \n",
       "    \n",
       "            circle_marker_e31cc6bcc7892be2ed7cd0a0469bc130.bindTooltip(\n",
       "                `&lt;div&gt;\n",
       "                     Hotspot Risk: 23.7%\n",
       "                 &lt;/div&gt;`,\n",
       "                {\n",
       "  &quot;sticky&quot;: true,\n",
       "}\n",
       "            );\n",
       "        \n",
       "    \n",
       "            var circle_marker_3d253b3d8b07755f136c4741edb7ef9a = L.circleMarker(\n",
       "                [51.56371828110877, -170.8737323704353],\n",
       "                {&quot;bubblingMouseEvents&quot;: true, &quot;color&quot;: &quot;black&quot;, &quot;dashArray&quot;: null, &quot;dashOffset&quot;: null, &quot;fill&quot;: true, &quot;fillColor&quot;: &quot;green&quot;, &quot;fillOpacity&quot;: 0.7, &quot;fillRule&quot;: &quot;evenodd&quot;, &quot;lineCap&quot;: &quot;round&quot;, &quot;lineJoin&quot;: &quot;round&quot;, &quot;opacity&quot;: 1.0, &quot;radius&quot;: 3, &quot;stroke&quot;: true, &quot;weight&quot;: 1}\n",
       "            ).addTo(map_0f194e2aaa6e0c52ce4a98779fb6afef);\n",
       "        \n",
       "    \n",
       "        var popup_6bedc4f0376c18570c819a97969f31ff = L.popup({\n",
       "  &quot;maxWidth&quot;: 250,\n",
       "});\n",
       "\n",
       "        \n",
       "            \n",
       "                var html_f293a76ee9a58051632a1eb9b063b9b8 = $(`&lt;div id=&quot;html_f293a76ee9a58051632a1eb9b063b9b8&quot; style=&quot;width: 100.0%; height: 100.0%;&quot;&gt;             &lt;div style=&quot;width: 200px;&quot;&gt;                 &lt;h4&gt;Marine Monitoring Point&lt;/h4&gt;                 &lt;p&gt;&lt;strong&gt;Coordinates:&lt;/strong&gt; 51.564, -170.874&lt;/p&gt;                 &lt;p&gt;&lt;strong&gt;Hotspot Probability:&lt;/strong&gt; 0.4%&lt;/p&gt;                 &lt;p&gt;&lt;strong&gt;Concentration:&lt;/strong&gt; 2.98 particles/m³&lt;/p&gt;                 &lt;p&gt;&lt;strong&gt;Water Temp:&lt;/strong&gt; 17.8°C&lt;/p&gt;                 &lt;p&gt;&lt;strong&gt;Current Speed:&lt;/strong&gt; 2.4 m/s&lt;/p&gt;                 &lt;p&gt;&lt;strong&gt;Date:&lt;/strong&gt; 2025-02-04&lt;/p&gt;             &lt;/div&gt;             &lt;/div&gt;`)[0];\n",
       "                popup_6bedc4f0376c18570c819a97969f31ff.setContent(html_f293a76ee9a58051632a1eb9b063b9b8);\n",
       "            \n",
       "        \n",
       "\n",
       "        circle_marker_3d253b3d8b07755f136c4741edb7ef9a.bindPopup(popup_6bedc4f0376c18570c819a97969f31ff)\n",
       "        ;\n",
       "\n",
       "        \n",
       "    \n",
       "    \n",
       "            circle_marker_3d253b3d8b07755f136c4741edb7ef9a.bindTooltip(\n",
       "                `&lt;div&gt;\n",
       "                     Hotspot Risk: 0.4%\n",
       "                 &lt;/div&gt;`,\n",
       "                {\n",
       "  &quot;sticky&quot;: true,\n",
       "}\n",
       "            );\n",
       "        \n",
       "    \n",
       "            var circle_marker_59b40c37143e5895b291d1a703b64406 = L.circleMarker(\n",
       "                [36.974445547730035, 166.553429284053],\n",
       "                {&quot;bubblingMouseEvents&quot;: true, &quot;color&quot;: &quot;black&quot;, &quot;dashArray&quot;: null, &quot;dashOffset&quot;: null, &quot;fill&quot;: true, &quot;fillColor&quot;: &quot;green&quot;, &quot;fillOpacity&quot;: 0.7, &quot;fillRule&quot;: &quot;evenodd&quot;, &quot;lineCap&quot;: &quot;round&quot;, &quot;lineJoin&quot;: &quot;round&quot;, &quot;opacity&quot;: 1.0, &quot;radius&quot;: 3, &quot;stroke&quot;: true, &quot;weight&quot;: 1}\n",
       "            ).addTo(map_0f194e2aaa6e0c52ce4a98779fb6afef);\n",
       "        \n",
       "    \n",
       "        var popup_2dd36aec8b2a646e63648da2a0413d8b = L.popup({\n",
       "  &quot;maxWidth&quot;: 250,\n",
       "});\n",
       "\n",
       "        \n",
       "            \n",
       "                var html_60814b1efeac897d72859b457c8f437a = $(`&lt;div id=&quot;html_60814b1efeac897d72859b457c8f437a&quot; style=&quot;width: 100.0%; height: 100.0%;&quot;&gt;             &lt;div style=&quot;width: 200px;&quot;&gt;                 &lt;h4&gt;Marine Monitoring Point&lt;/h4&gt;                 &lt;p&gt;&lt;strong&gt;Coordinates:&lt;/strong&gt; 36.974, 166.553&lt;/p&gt;                 &lt;p&gt;&lt;strong&gt;Hotspot Probability:&lt;/strong&gt; 16.9%&lt;/p&gt;                 &lt;p&gt;&lt;strong&gt;Concentration:&lt;/strong&gt; 17.19 particles/m³&lt;/p&gt;                 &lt;p&gt;&lt;strong&gt;Water Temp:&lt;/strong&gt; 12.7°C&lt;/p&gt;                 &lt;p&gt;&lt;strong&gt;Current Speed:&lt;/strong&gt; 4.4 m/s&lt;/p&gt;                 &lt;p&gt;&lt;strong&gt;Date:&lt;/strong&gt; 2025-03-22&lt;/p&gt;             &lt;/div&gt;             &lt;/div&gt;`)[0];\n",
       "                popup_2dd36aec8b2a646e63648da2a0413d8b.setContent(html_60814b1efeac897d72859b457c8f437a);\n",
       "            \n",
       "        \n",
       "\n",
       "        circle_marker_59b40c37143e5895b291d1a703b64406.bindPopup(popup_2dd36aec8b2a646e63648da2a0413d8b)\n",
       "        ;\n",
       "\n",
       "        \n",
       "    \n",
       "    \n",
       "            circle_marker_59b40c37143e5895b291d1a703b64406.bindTooltip(\n",
       "                `&lt;div&gt;\n",
       "                     Hotspot Risk: 16.9%\n",
       "                 &lt;/div&gt;`,\n",
       "                {\n",
       "  &quot;sticky&quot;: true,\n",
       "}\n",
       "            );\n",
       "        \n",
       "    \n",
       "            var circle_marker_abd0de531e526d53e44cc121db11c354 = L.circleMarker(\n",
       "                [16.008450781250815, 120.9528433843941],\n",
       "                {&quot;bubblingMouseEvents&quot;: true, &quot;color&quot;: &quot;black&quot;, &quot;dashArray&quot;: null, &quot;dashOffset&quot;: null, &quot;fill&quot;: true, &quot;fillColor&quot;: &quot;yellow&quot;, &quot;fillOpacity&quot;: 0.7, &quot;fillRule&quot;: &quot;evenodd&quot;, &quot;lineCap&quot;: &quot;round&quot;, &quot;lineJoin&quot;: &quot;round&quot;, &quot;opacity&quot;: 1.0, &quot;radius&quot;: 3.087636730274382, &quot;stroke&quot;: true, &quot;weight&quot;: 1}\n",
       "            ).addTo(map_0f194e2aaa6e0c52ce4a98779fb6afef);\n",
       "        \n",
       "    \n",
       "        var popup_8ed154e0f73179008a67dc725dc81698 = L.popup({\n",
       "  &quot;maxWidth&quot;: 250,\n",
       "});\n",
       "\n",
       "        \n",
       "            \n",
       "                var html_ce38d542cc28fc7263da123dfea1ee7d = $(`&lt;div id=&quot;html_ce38d542cc28fc7263da123dfea1ee7d&quot; style=&quot;width: 100.0%; height: 100.0%;&quot;&gt;             &lt;div style=&quot;width: 200px;&quot;&gt;                 &lt;h4&gt;Marine Monitoring Point&lt;/h4&gt;                 &lt;p&gt;&lt;strong&gt;Coordinates:&lt;/strong&gt; 16.008, 120.953&lt;/p&gt;                 &lt;p&gt;&lt;strong&gt;Hotspot Probability:&lt;/strong&gt; 20.6%&lt;/p&gt;                 &lt;p&gt;&lt;strong&gt;Concentration:&lt;/strong&gt; 6.69 particles/m³&lt;/p&gt;                 &lt;p&gt;&lt;strong&gt;Water Temp:&lt;/strong&gt; 19.0°C&lt;/p&gt;                 &lt;p&gt;&lt;strong&gt;Current Speed:&lt;/strong&gt; 7.5 m/s&lt;/p&gt;                 &lt;p&gt;&lt;strong&gt;Date:&lt;/strong&gt; 2025-08-01&lt;/p&gt;             &lt;/div&gt;             &lt;/div&gt;`)[0];\n",
       "                popup_8ed154e0f73179008a67dc725dc81698.setContent(html_ce38d542cc28fc7263da123dfea1ee7d);\n",
       "            \n",
       "        \n",
       "\n",
       "        circle_marker_abd0de531e526d53e44cc121db11c354.bindPopup(popup_8ed154e0f73179008a67dc725dc81698)\n",
       "        ;\n",
       "\n",
       "        \n",
       "    \n",
       "    \n",
       "            circle_marker_abd0de531e526d53e44cc121db11c354.bindTooltip(\n",
       "                `&lt;div&gt;\n",
       "                     Hotspot Risk: 20.6%\n",
       "                 &lt;/div&gt;`,\n",
       "                {\n",
       "  &quot;sticky&quot;: true,\n",
       "}\n",
       "            );\n",
       "        \n",
       "    \n",
       "            var circle_marker_d1f63f9468eeb641c2b308b8cf31f871 = L.circleMarker(\n",
       "                [44.57527082252612, 70.55071419373127],\n",
       "                {&quot;bubblingMouseEvents&quot;: true, &quot;color&quot;: &quot;black&quot;, &quot;dashArray&quot;: null, &quot;dashOffset&quot;: null, &quot;fill&quot;: true, &quot;fillColor&quot;: &quot;green&quot;, &quot;fillOpacity&quot;: 0.7, &quot;fillRule&quot;: &quot;evenodd&quot;, &quot;lineCap&quot;: &quot;round&quot;, &quot;lineJoin&quot;: &quot;round&quot;, &quot;opacity&quot;: 1.0, &quot;radius&quot;: 3, &quot;stroke&quot;: true, &quot;weight&quot;: 1}\n",
       "            ).addTo(map_0f194e2aaa6e0c52ce4a98779fb6afef);\n",
       "        \n",
       "    \n",
       "        var popup_d2b687c80292a71058d014556acb1eee = L.popup({\n",
       "  &quot;maxWidth&quot;: 250,\n",
       "});\n",
       "\n",
       "        \n",
       "            \n",
       "                var html_554485f21c3f846d447641df77a21e33 = $(`&lt;div id=&quot;html_554485f21c3f846d447641df77a21e33&quot; style=&quot;width: 100.0%; height: 100.0%;&quot;&gt;             &lt;div style=&quot;width: 200px;&quot;&gt;                 &lt;h4&gt;Marine Monitoring Point&lt;/h4&gt;                 &lt;p&gt;&lt;strong&gt;Coordinates:&lt;/strong&gt; 44.575, 70.551&lt;/p&gt;                 &lt;p&gt;&lt;strong&gt;Hotspot Probability:&lt;/strong&gt; -7.6%&lt;/p&gt;                 &lt;p&gt;&lt;strong&gt;Concentration:&lt;/strong&gt; 73.55 particles/m³&lt;/p&gt;                 &lt;p&gt;&lt;strong&gt;Water Temp:&lt;/strong&gt; 28.8°C&lt;/p&gt;                 &lt;p&gt;&lt;strong&gt;Current Speed:&lt;/strong&gt; 1.7 m/s&lt;/p&gt;                 &lt;p&gt;&lt;strong&gt;Date:&lt;/strong&gt; 2025-06-04&lt;/p&gt;             &lt;/div&gt;             &lt;/div&gt;`)[0];\n",
       "                popup_d2b687c80292a71058d014556acb1eee.setContent(html_554485f21c3f846d447641df77a21e33);\n",
       "            \n",
       "        \n",
       "\n",
       "        circle_marker_d1f63f9468eeb641c2b308b8cf31f871.bindPopup(popup_d2b687c80292a71058d014556acb1eee)\n",
       "        ;\n",
       "\n",
       "        \n",
       "    \n",
       "    \n",
       "            circle_marker_d1f63f9468eeb641c2b308b8cf31f871.bindTooltip(\n",
       "                `&lt;div&gt;\n",
       "                     Hotspot Risk: -7.6%\n",
       "                 &lt;/div&gt;`,\n",
       "                {\n",
       "  &quot;sticky&quot;: true,\n",
       "}\n",
       "            );\n",
       "        \n",
       "    \n",
       "            var circle_marker_1557919245f03a9358f0778e1efaea16 = L.circleMarker(\n",
       "                [36.440649227893736, -32.776940010862845],\n",
       "                {&quot;bubblingMouseEvents&quot;: true, &quot;color&quot;: &quot;black&quot;, &quot;dashArray&quot;: null, &quot;dashOffset&quot;: null, &quot;fill&quot;: true, &quot;fillColor&quot;: &quot;green&quot;, &quot;fillOpacity&quot;: 0.7, &quot;fillRule&quot;: &quot;evenodd&quot;, &quot;lineCap&quot;: &quot;round&quot;, &quot;lineJoin&quot;: &quot;round&quot;, &quot;opacity&quot;: 1.0, &quot;radius&quot;: 3, &quot;stroke&quot;: true, &quot;weight&quot;: 1}\n",
       "            ).addTo(map_0f194e2aaa6e0c52ce4a98779fb6afef);\n",
       "        \n",
       "    \n",
       "        var popup_edda6564da62a1a2b57b973ac6c6bc6d = L.popup({\n",
       "  &quot;maxWidth&quot;: 250,\n",
       "});\n",
       "\n",
       "        \n",
       "            \n",
       "                var html_24c9c1f7e488a379b3609793ad89cb9e = $(`&lt;div id=&quot;html_24c9c1f7e488a379b3609793ad89cb9e&quot; style=&quot;width: 100.0%; height: 100.0%;&quot;&gt;             &lt;div style=&quot;width: 200px;&quot;&gt;                 &lt;h4&gt;Marine Monitoring Point&lt;/h4&gt;                 &lt;p&gt;&lt;strong&gt;Coordinates:&lt;/strong&gt; 36.441, -32.777&lt;/p&gt;                 &lt;p&gt;&lt;strong&gt;Hotspot Probability:&lt;/strong&gt; -1.8%&lt;/p&gt;                 &lt;p&gt;&lt;strong&gt;Concentration:&lt;/strong&gt; 24.20 particles/m³&lt;/p&gt;                 &lt;p&gt;&lt;strong&gt;Water Temp:&lt;/strong&gt; 35.1°C&lt;/p&gt;                 &lt;p&gt;&lt;strong&gt;Current Speed:&lt;/strong&gt; 6.1 m/s&lt;/p&gt;                 &lt;p&gt;&lt;strong&gt;Date:&lt;/strong&gt; 2025-03-22&lt;/p&gt;             &lt;/div&gt;             &lt;/div&gt;`)[0];\n",
       "                popup_edda6564da62a1a2b57b973ac6c6bc6d.setContent(html_24c9c1f7e488a379b3609793ad89cb9e);\n",
       "            \n",
       "        \n",
       "\n",
       "        circle_marker_1557919245f03a9358f0778e1efaea16.bindPopup(popup_edda6564da62a1a2b57b973ac6c6bc6d)\n",
       "        ;\n",
       "\n",
       "        \n",
       "    \n",
       "    \n",
       "            circle_marker_1557919245f03a9358f0778e1efaea16.bindTooltip(\n",
       "                `&lt;div&gt;\n",
       "                     Hotspot Risk: -1.8%\n",
       "                 &lt;/div&gt;`,\n",
       "                {\n",
       "  &quot;sticky&quot;: true,\n",
       "}\n",
       "            );\n",
       "        \n",
       "    \n",
       "            var circle_marker_f2d3b52bfa263b64d535359d7b33969d = L.circleMarker(\n",
       "                [-37.6115929336757, -117.61404477449553],\n",
       "                {&quot;bubblingMouseEvents&quot;: true, &quot;color&quot;: &quot;black&quot;, &quot;dashArray&quot;: null, &quot;dashOffset&quot;: null, &quot;fill&quot;: true, &quot;fillColor&quot;: &quot;green&quot;, &quot;fillOpacity&quot;: 0.7, &quot;fillRule&quot;: &quot;evenodd&quot;, &quot;lineCap&quot;: &quot;round&quot;, &quot;lineJoin&quot;: &quot;round&quot;, &quot;opacity&quot;: 1.0, &quot;radius&quot;: 3, &quot;stroke&quot;: true, &quot;weight&quot;: 1}\n",
       "            ).addTo(map_0f194e2aaa6e0c52ce4a98779fb6afef);\n",
       "        \n",
       "    \n",
       "        var popup_d39b6d7d6fa1eb49f1e7cdd06eea178c = L.popup({\n",
       "  &quot;maxWidth&quot;: 250,\n",
       "});\n",
       "\n",
       "        \n",
       "            \n",
       "                var html_977f83acca3f7812fd86274fbf2e4031 = $(`&lt;div id=&quot;html_977f83acca3f7812fd86274fbf2e4031&quot; style=&quot;width: 100.0%; height: 100.0%;&quot;&gt;             &lt;div style=&quot;width: 200px;&quot;&gt;                 &lt;h4&gt;Marine Monitoring Point&lt;/h4&gt;                 &lt;p&gt;&lt;strong&gt;Coordinates:&lt;/strong&gt; -37.612, -117.614&lt;/p&gt;                 &lt;p&gt;&lt;strong&gt;Hotspot Probability:&lt;/strong&gt; -10.4%&lt;/p&gt;                 &lt;p&gt;&lt;strong&gt;Concentration:&lt;/strong&gt; 9.56 particles/m³&lt;/p&gt;                 &lt;p&gt;&lt;strong&gt;Water Temp:&lt;/strong&gt; 1.7°C&lt;/p&gt;                 &lt;p&gt;&lt;strong&gt;Current Speed:&lt;/strong&gt; 0.6 m/s&lt;/p&gt;                 &lt;p&gt;&lt;strong&gt;Date:&lt;/strong&gt; 2024-11-23&lt;/p&gt;             &lt;/div&gt;             &lt;/div&gt;`)[0];\n",
       "                popup_d39b6d7d6fa1eb49f1e7cdd06eea178c.setContent(html_977f83acca3f7812fd86274fbf2e4031);\n",
       "            \n",
       "        \n",
       "\n",
       "        circle_marker_f2d3b52bfa263b64d535359d7b33969d.bindPopup(popup_d39b6d7d6fa1eb49f1e7cdd06eea178c)\n",
       "        ;\n",
       "\n",
       "        \n",
       "    \n",
       "    \n",
       "            circle_marker_f2d3b52bfa263b64d535359d7b33969d.bindTooltip(\n",
       "                `&lt;div&gt;\n",
       "                     Hotspot Risk: -10.4%\n",
       "                 &lt;/div&gt;`,\n",
       "                {\n",
       "  &quot;sticky&quot;: true,\n",
       "}\n",
       "            );\n",
       "        \n",
       "    \n",
       "            var circle_marker_378f70810523bf0bbbe15b0ff42d6aa8 = L.circleMarker(\n",
       "                [47.10707981879733, -123.68266463840902],\n",
       "                {&quot;bubblingMouseEvents&quot;: true, &quot;color&quot;: &quot;black&quot;, &quot;dashArray&quot;: null, &quot;dashOffset&quot;: null, &quot;fill&quot;: true, &quot;fillColor&quot;: &quot;green&quot;, &quot;fillOpacity&quot;: 0.7, &quot;fillRule&quot;: &quot;evenodd&quot;, &quot;lineCap&quot;: &quot;round&quot;, &quot;lineJoin&quot;: &quot;round&quot;, &quot;opacity&quot;: 1.0, &quot;radius&quot;: 3, &quot;stroke&quot;: true, &quot;weight&quot;: 1}\n",
       "            ).addTo(map_0f194e2aaa6e0c52ce4a98779fb6afef);\n",
       "        \n",
       "    \n",
       "        var popup_b87ffee2dd85cbd76b59824f381366db = L.popup({\n",
       "  &quot;maxWidth&quot;: 250,\n",
       "});\n",
       "\n",
       "        \n",
       "            \n",
       "                var html_279235107094deeb27282fe4d1c0fb55 = $(`&lt;div id=&quot;html_279235107094deeb27282fe4d1c0fb55&quot; style=&quot;width: 100.0%; height: 100.0%;&quot;&gt;             &lt;div style=&quot;width: 200px;&quot;&gt;                 &lt;h4&gt;Marine Monitoring Point&lt;/h4&gt;                 &lt;p&gt;&lt;strong&gt;Coordinates:&lt;/strong&gt; 47.107, -123.683&lt;/p&gt;                 &lt;p&gt;&lt;strong&gt;Hotspot Probability:&lt;/strong&gt; 7.3%&lt;/p&gt;                 &lt;p&gt;&lt;strong&gt;Concentration:&lt;/strong&gt; 30.08 particles/m³&lt;/p&gt;                 &lt;p&gt;&lt;strong&gt;Water Temp:&lt;/strong&gt; 11.6°C&lt;/p&gt;                 &lt;p&gt;&lt;strong&gt;Current Speed:&lt;/strong&gt; 1.0 m/s&lt;/p&gt;                 &lt;p&gt;&lt;strong&gt;Date:&lt;/strong&gt; 2025-01-21&lt;/p&gt;             &lt;/div&gt;             &lt;/div&gt;`)[0];\n",
       "                popup_b87ffee2dd85cbd76b59824f381366db.setContent(html_279235107094deeb27282fe4d1c0fb55);\n",
       "            \n",
       "        \n",
       "\n",
       "        circle_marker_378f70810523bf0bbbe15b0ff42d6aa8.bindPopup(popup_b87ffee2dd85cbd76b59824f381366db)\n",
       "        ;\n",
       "\n",
       "        \n",
       "    \n",
       "    \n",
       "            circle_marker_378f70810523bf0bbbe15b0ff42d6aa8.bindTooltip(\n",
       "                `&lt;div&gt;\n",
       "                     Hotspot Risk: 7.3%\n",
       "                 &lt;/div&gt;`,\n",
       "                {\n",
       "  &quot;sticky&quot;: true,\n",
       "}\n",
       "            );\n",
       "        \n",
       "    \n",
       "            var circle_marker_5e25e20a456717401568ee41b89ec940 = L.circleMarker(\n",
       "                [4.721069029878087, -89.91255666074568],\n",
       "                {&quot;bubblingMouseEvents&quot;: true, &quot;color&quot;: &quot;black&quot;, &quot;dashArray&quot;: null, &quot;dashOffset&quot;: null, &quot;fill&quot;: true, &quot;fillColor&quot;: &quot;green&quot;, &quot;fillOpacity&quot;: 0.7, &quot;fillRule&quot;: &quot;evenodd&quot;, &quot;lineCap&quot;: &quot;round&quot;, &quot;lineJoin&quot;: &quot;round&quot;, &quot;opacity&quot;: 1.0, &quot;radius&quot;: 3, &quot;stroke&quot;: true, &quot;weight&quot;: 1}\n",
       "            ).addTo(map_0f194e2aaa6e0c52ce4a98779fb6afef);\n",
       "        \n",
       "    \n",
       "        var popup_c085ceef6d3305579dc473b45b896e67 = L.popup({\n",
       "  &quot;maxWidth&quot;: 250,\n",
       "});\n",
       "\n",
       "        \n",
       "            \n",
       "                var html_0a143653da379412ce53973c566da211 = $(`&lt;div id=&quot;html_0a143653da379412ce53973c566da211&quot; style=&quot;width: 100.0%; height: 100.0%;&quot;&gt;             &lt;div style=&quot;width: 200px;&quot;&gt;                 &lt;h4&gt;Marine Monitoring Point&lt;/h4&gt;                 &lt;p&gt;&lt;strong&gt;Coordinates:&lt;/strong&gt; 4.721, -89.913&lt;/p&gt;                 &lt;p&gt;&lt;strong&gt;Hotspot Probability:&lt;/strong&gt; 17.2%&lt;/p&gt;                 &lt;p&gt;&lt;strong&gt;Concentration:&lt;/strong&gt; 4.50 particles/m³&lt;/p&gt;                 &lt;p&gt;&lt;strong&gt;Water Temp:&lt;/strong&gt; 11.1°C&lt;/p&gt;                 &lt;p&gt;&lt;strong&gt;Current Speed:&lt;/strong&gt; 7.7 m/s&lt;/p&gt;                 &lt;p&gt;&lt;strong&gt;Date:&lt;/strong&gt; 2025-08-01&lt;/p&gt;             &lt;/div&gt;             &lt;/div&gt;`)[0];\n",
       "                popup_c085ceef6d3305579dc473b45b896e67.setContent(html_0a143653da379412ce53973c566da211);\n",
       "            \n",
       "        \n",
       "\n",
       "        circle_marker_5e25e20a456717401568ee41b89ec940.bindPopup(popup_c085ceef6d3305579dc473b45b896e67)\n",
       "        ;\n",
       "\n",
       "        \n",
       "    \n",
       "    \n",
       "            circle_marker_5e25e20a456717401568ee41b89ec940.bindTooltip(\n",
       "                `&lt;div&gt;\n",
       "                     Hotspot Risk: 17.2%\n",
       "                 &lt;/div&gt;`,\n",
       "                {\n",
       "  &quot;sticky&quot;: true,\n",
       "}\n",
       "            );\n",
       "        \n",
       "    \n",
       "            var circle_marker_127ff143449a9692931ae721870cd671 = L.circleMarker(\n",
       "                [36.8928186196875, 17.72159929420337],\n",
       "                {&quot;bubblingMouseEvents&quot;: true, &quot;color&quot;: &quot;black&quot;, &quot;dashArray&quot;: null, &quot;dashOffset&quot;: null, &quot;fill&quot;: true, &quot;fillColor&quot;: &quot;red&quot;, &quot;fillOpacity&quot;: 0.7, &quot;fillRule&quot;: &quot;evenodd&quot;, &quot;lineCap&quot;: &quot;round&quot;, &quot;lineJoin&quot;: &quot;round&quot;, &quot;opacity&quot;: 1.0, &quot;radius&quot;: 9.753535578144042, &quot;stroke&quot;: true, &quot;weight&quot;: 1}\n",
       "            ).addTo(map_0f194e2aaa6e0c52ce4a98779fb6afef);\n",
       "        \n",
       "    \n",
       "        var popup_2fbc687f146cdd8d2d82cc7aadcaa541 = L.popup({\n",
       "  &quot;maxWidth&quot;: 250,\n",
       "});\n",
       "\n",
       "        \n",
       "            \n",
       "                var html_53d0e4eb967bb697401c22fdd1561a38 = $(`&lt;div id=&quot;html_53d0e4eb967bb697401c22fdd1561a38&quot; style=&quot;width: 100.0%; height: 100.0%;&quot;&gt;             &lt;div style=&quot;width: 200px;&quot;&gt;                 &lt;h4&gt;Marine Monitoring Point&lt;/h4&gt;                 &lt;p&gt;&lt;strong&gt;Coordinates:&lt;/strong&gt; 36.893, 17.722&lt;/p&gt;                 &lt;p&gt;&lt;strong&gt;Hotspot Probability:&lt;/strong&gt; 65.0%&lt;/p&gt;                 &lt;p&gt;&lt;strong&gt;Concentration:&lt;/strong&gt; 1.16 particles/m³&lt;/p&gt;                 &lt;p&gt;&lt;strong&gt;Water Temp:&lt;/strong&gt; 28.0°C&lt;/p&gt;                 &lt;p&gt;&lt;strong&gt;Current Speed:&lt;/strong&gt; 2.8 m/s&lt;/p&gt;                 &lt;p&gt;&lt;strong&gt;Date:&lt;/strong&gt; 2025-06-27&lt;/p&gt;             &lt;/div&gt;             &lt;/div&gt;`)[0];\n",
       "                popup_2fbc687f146cdd8d2d82cc7aadcaa541.setContent(html_53d0e4eb967bb697401c22fdd1561a38);\n",
       "            \n",
       "        \n",
       "\n",
       "        circle_marker_127ff143449a9692931ae721870cd671.bindPopup(popup_2fbc687f146cdd8d2d82cc7aadcaa541)\n",
       "        ;\n",
       "\n",
       "        \n",
       "    \n",
       "    \n",
       "            circle_marker_127ff143449a9692931ae721870cd671.bindTooltip(\n",
       "                `&lt;div&gt;\n",
       "                     Hotspot Risk: 65.0%\n",
       "                 &lt;/div&gt;`,\n",
       "                {\n",
       "  &quot;sticky&quot;: true,\n",
       "}\n",
       "            );\n",
       "        \n",
       "    \n",
       "            var circle_marker_6138ee1bd8aaf55bbd59c6e1204a12ad = L.circleMarker(\n",
       "                [47.53095599081919, 77.25453217202244],\n",
       "                {&quot;bubblingMouseEvents&quot;: true, &quot;color&quot;: &quot;black&quot;, &quot;dashArray&quot;: null, &quot;dashOffset&quot;: null, &quot;fill&quot;: true, &quot;fillColor&quot;: &quot;green&quot;, &quot;fillOpacity&quot;: 0.7, &quot;fillRule&quot;: &quot;evenodd&quot;, &quot;lineCap&quot;: &quot;round&quot;, &quot;lineJoin&quot;: &quot;round&quot;, &quot;opacity&quot;: 1.0, &quot;radius&quot;: 3, &quot;stroke&quot;: true, &quot;weight&quot;: 1}\n",
       "            ).addTo(map_0f194e2aaa6e0c52ce4a98779fb6afef);\n",
       "        \n",
       "    \n",
       "        var popup_3fd790fe4ee9c6d552cc531566d30784 = L.popup({\n",
       "  &quot;maxWidth&quot;: 250,\n",
       "});\n",
       "\n",
       "        \n",
       "            \n",
       "                var html_8ce77b681c33c99cf39633045d58ec24 = $(`&lt;div id=&quot;html_8ce77b681c33c99cf39633045d58ec24&quot; style=&quot;width: 100.0%; height: 100.0%;&quot;&gt;             &lt;div style=&quot;width: 200px;&quot;&gt;                 &lt;h4&gt;Marine Monitoring Point&lt;/h4&gt;                 &lt;p&gt;&lt;strong&gt;Coordinates:&lt;/strong&gt; 47.531, 77.255&lt;/p&gt;                 &lt;p&gt;&lt;strong&gt;Hotspot Probability:&lt;/strong&gt; 10.7%&lt;/p&gt;                 &lt;p&gt;&lt;strong&gt;Concentration:&lt;/strong&gt; 2.75 particles/m³&lt;/p&gt;                 &lt;p&gt;&lt;strong&gt;Water Temp:&lt;/strong&gt; -4.9°C&lt;/p&gt;                 &lt;p&gt;&lt;strong&gt;Current Speed:&lt;/strong&gt; 0.9 m/s&lt;/p&gt;                 &lt;p&gt;&lt;strong&gt;Date:&lt;/strong&gt; 2025-04-30&lt;/p&gt;             &lt;/div&gt;             &lt;/div&gt;`)[0];\n",
       "                popup_3fd790fe4ee9c6d552cc531566d30784.setContent(html_8ce77b681c33c99cf39633045d58ec24);\n",
       "            \n",
       "        \n",
       "\n",
       "        circle_marker_6138ee1bd8aaf55bbd59c6e1204a12ad.bindPopup(popup_3fd790fe4ee9c6d552cc531566d30784)\n",
       "        ;\n",
       "\n",
       "        \n",
       "    \n",
       "    \n",
       "            circle_marker_6138ee1bd8aaf55bbd59c6e1204a12ad.bindTooltip(\n",
       "                `&lt;div&gt;\n",
       "                     Hotspot Risk: 10.7%\n",
       "                 &lt;/div&gt;`,\n",
       "                {\n",
       "  &quot;sticky&quot;: true,\n",
       "}\n",
       "            );\n",
       "        \n",
       "    \n",
       "            var circle_marker_ef4ac3af431000136c2cd69d8cdb0ddc = L.circleMarker(\n",
       "                [-21.839583003376333, 57.67105561838326],\n",
       "                {&quot;bubblingMouseEvents&quot;: true, &quot;color&quot;: &quot;black&quot;, &quot;dashArray&quot;: null, &quot;dashOffset&quot;: null, &quot;fill&quot;: true, &quot;fillColor&quot;: &quot;yellow&quot;, &quot;fillOpacity&quot;: 0.7, &quot;fillRule&quot;: &quot;evenodd&quot;, &quot;lineCap&quot;: &quot;round&quot;, &quot;lineJoin&quot;: &quot;round&quot;, &quot;opacity&quot;: 1.0, &quot;radius&quot;: 3.9429233183569385, &quot;stroke&quot;: true, &quot;weight&quot;: 1}\n",
       "            ).addTo(map_0f194e2aaa6e0c52ce4a98779fb6afef);\n",
       "        \n",
       "    \n",
       "        var popup_57c4318a86d7074a5b3fe89add4b8f30 = L.popup({\n",
       "  &quot;maxWidth&quot;: 250,\n",
       "});\n",
       "\n",
       "        \n",
       "            \n",
       "                var html_753383fa53b2aca24ef49f84cf5bae68 = $(`&lt;div id=&quot;html_753383fa53b2aca24ef49f84cf5bae68&quot; style=&quot;width: 100.0%; height: 100.0%;&quot;&gt;             &lt;div style=&quot;width: 200px;&quot;&gt;                 &lt;h4&gt;Marine Monitoring Point&lt;/h4&gt;                 &lt;p&gt;&lt;strong&gt;Coordinates:&lt;/strong&gt; -21.840, 57.671&lt;/p&gt;                 &lt;p&gt;&lt;strong&gt;Hotspot Probability:&lt;/strong&gt; 26.3%&lt;/p&gt;                 &lt;p&gt;&lt;strong&gt;Concentration:&lt;/strong&gt; 8.56 particles/m³&lt;/p&gt;                 &lt;p&gt;&lt;strong&gt;Water Temp:&lt;/strong&gt; 19.1°C&lt;/p&gt;                 &lt;p&gt;&lt;strong&gt;Current Speed:&lt;/strong&gt; 5.9 m/s&lt;/p&gt;                 &lt;p&gt;&lt;strong&gt;Date:&lt;/strong&gt; 2025-01-10&lt;/p&gt;             &lt;/div&gt;             &lt;/div&gt;`)[0];\n",
       "                popup_57c4318a86d7074a5b3fe89add4b8f30.setContent(html_753383fa53b2aca24ef49f84cf5bae68);\n",
       "            \n",
       "        \n",
       "\n",
       "        circle_marker_ef4ac3af431000136c2cd69d8cdb0ddc.bindPopup(popup_57c4318a86d7074a5b3fe89add4b8f30)\n",
       "        ;\n",
       "\n",
       "        \n",
       "    \n",
       "    \n",
       "            circle_marker_ef4ac3af431000136c2cd69d8cdb0ddc.bindTooltip(\n",
       "                `&lt;div&gt;\n",
       "                     Hotspot Risk: 26.3%\n",
       "                 &lt;/div&gt;`,\n",
       "                {\n",
       "  &quot;sticky&quot;: true,\n",
       "}\n",
       "            );\n",
       "        \n",
       "    \n",
       "            var circle_marker_45c73b1964f34bc6adb473dcecd13e16 = L.circleMarker(\n",
       "                [-46.79376905667879, -79.22379709946058],\n",
       "                {&quot;bubblingMouseEvents&quot;: true, &quot;color&quot;: &quot;black&quot;, &quot;dashArray&quot;: null, &quot;dashOffset&quot;: null, &quot;fill&quot;: true, &quot;fillColor&quot;: &quot;green&quot;, &quot;fillOpacity&quot;: 0.7, &quot;fillRule&quot;: &quot;evenodd&quot;, &quot;lineCap&quot;: &quot;round&quot;, &quot;lineJoin&quot;: &quot;round&quot;, &quot;opacity&quot;: 1.0, &quot;radius&quot;: 3, &quot;stroke&quot;: true, &quot;weight&quot;: 1}\n",
       "            ).addTo(map_0f194e2aaa6e0c52ce4a98779fb6afef);\n",
       "        \n",
       "    \n",
       "        var popup_92ccec956c6ed064de32378c53f62236 = L.popup({\n",
       "  &quot;maxWidth&quot;: 250,\n",
       "});\n",
       "\n",
       "        \n",
       "            \n",
       "                var html_10e4de8cc9c54956f3a7fb4ccd85864b = $(`&lt;div id=&quot;html_10e4de8cc9c54956f3a7fb4ccd85864b&quot; style=&quot;width: 100.0%; height: 100.0%;&quot;&gt;             &lt;div style=&quot;width: 200px;&quot;&gt;                 &lt;h4&gt;Marine Monitoring Point&lt;/h4&gt;                 &lt;p&gt;&lt;strong&gt;Coordinates:&lt;/strong&gt; -46.794, -79.224&lt;/p&gt;                 &lt;p&gt;&lt;strong&gt;Hotspot Probability:&lt;/strong&gt; -3.8%&lt;/p&gt;                 &lt;p&gt;&lt;strong&gt;Concentration:&lt;/strong&gt; 5.91 particles/m³&lt;/p&gt;                 &lt;p&gt;&lt;strong&gt;Water Temp:&lt;/strong&gt; 12.9°C&lt;/p&gt;                 &lt;p&gt;&lt;strong&gt;Current Speed:&lt;/strong&gt; 2.7 m/s&lt;/p&gt;                 &lt;p&gt;&lt;strong&gt;Date:&lt;/strong&gt; 2025-09-03&lt;/p&gt;             &lt;/div&gt;             &lt;/div&gt;`)[0];\n",
       "                popup_92ccec956c6ed064de32378c53f62236.setContent(html_10e4de8cc9c54956f3a7fb4ccd85864b);\n",
       "            \n",
       "        \n",
       "\n",
       "        circle_marker_45c73b1964f34bc6adb473dcecd13e16.bindPopup(popup_92ccec956c6ed064de32378c53f62236)\n",
       "        ;\n",
       "\n",
       "        \n",
       "    \n",
       "    \n",
       "            circle_marker_45c73b1964f34bc6adb473dcecd13e16.bindTooltip(\n",
       "                `&lt;div&gt;\n",
       "                     Hotspot Risk: -3.8%\n",
       "                 &lt;/div&gt;`,\n",
       "                {\n",
       "  &quot;sticky&quot;: true,\n",
       "}\n",
       "            );\n",
       "        \n",
       "    \n",
       "            var circle_marker_583f929e9291bd3b581d76741d0bc709 = L.circleMarker(\n",
       "                [-32.647780494966995, 163.75150103874986],\n",
       "                {&quot;bubblingMouseEvents&quot;: true, &quot;color&quot;: &quot;black&quot;, &quot;dashArray&quot;: null, &quot;dashOffset&quot;: null, &quot;fill&quot;: true, &quot;fillColor&quot;: &quot;green&quot;, &quot;fillOpacity&quot;: 0.7, &quot;fillRule&quot;: &quot;evenodd&quot;, &quot;lineCap&quot;: &quot;round&quot;, &quot;lineJoin&quot;: &quot;round&quot;, &quot;opacity&quot;: 1.0, &quot;radius&quot;: 3, &quot;stroke&quot;: true, &quot;weight&quot;: 1}\n",
       "            ).addTo(map_0f194e2aaa6e0c52ce4a98779fb6afef);\n",
       "        \n",
       "    \n",
       "        var popup_11d6c42219122c30eecc04867cd0cad5 = L.popup({\n",
       "  &quot;maxWidth&quot;: 250,\n",
       "});\n",
       "\n",
       "        \n",
       "            \n",
       "                var html_b2af05aa33d586d7815fab5cf403b20b = $(`&lt;div id=&quot;html_b2af05aa33d586d7815fab5cf403b20b&quot; style=&quot;width: 100.0%; height: 100.0%;&quot;&gt;             &lt;div style=&quot;width: 200px;&quot;&gt;                 &lt;h4&gt;Marine Monitoring Point&lt;/h4&gt;                 &lt;p&gt;&lt;strong&gt;Coordinates:&lt;/strong&gt; -32.648, 163.752&lt;/p&gt;                 &lt;p&gt;&lt;strong&gt;Hotspot Probability:&lt;/strong&gt; -7.0%&lt;/p&gt;                 &lt;p&gt;&lt;strong&gt;Concentration:&lt;/strong&gt; 16.85 particles/m³&lt;/p&gt;                 &lt;p&gt;&lt;strong&gt;Water Temp:&lt;/strong&gt; 28.1°C&lt;/p&gt;                 &lt;p&gt;&lt;strong&gt;Current Speed:&lt;/strong&gt; 0.7 m/s&lt;/p&gt;                 &lt;p&gt;&lt;strong&gt;Date:&lt;/strong&gt; 2024-10-26&lt;/p&gt;             &lt;/div&gt;             &lt;/div&gt;`)[0];\n",
       "                popup_11d6c42219122c30eecc04867cd0cad5.setContent(html_b2af05aa33d586d7815fab5cf403b20b);\n",
       "            \n",
       "        \n",
       "\n",
       "        circle_marker_583f929e9291bd3b581d76741d0bc709.bindPopup(popup_11d6c42219122c30eecc04867cd0cad5)\n",
       "        ;\n",
       "\n",
       "        \n",
       "    \n",
       "    \n",
       "            circle_marker_583f929e9291bd3b581d76741d0bc709.bindTooltip(\n",
       "                `&lt;div&gt;\n",
       "                     Hotspot Risk: -7.0%\n",
       "                 &lt;/div&gt;`,\n",
       "                {\n",
       "  &quot;sticky&quot;: true,\n",
       "}\n",
       "            );\n",
       "        \n",
       "    \n",
       "            var circle_marker_fdc0d6d64bdc91f6b6bf128b54736c5f = L.circleMarker(\n",
       "                [-8.747065364849242, 85.64289001047666],\n",
       "                {&quot;bubblingMouseEvents&quot;: true, &quot;color&quot;: &quot;black&quot;, &quot;dashArray&quot;: null, &quot;dashOffset&quot;: null, &quot;fill&quot;: true, &quot;fillColor&quot;: &quot;green&quot;, &quot;fillOpacity&quot;: 0.7, &quot;fillRule&quot;: &quot;evenodd&quot;, &quot;lineCap&quot;: &quot;round&quot;, &quot;lineJoin&quot;: &quot;round&quot;, &quot;opacity&quot;: 1.0, &quot;radius&quot;: 3, &quot;stroke&quot;: true, &quot;weight&quot;: 1}\n",
       "            ).addTo(map_0f194e2aaa6e0c52ce4a98779fb6afef);\n",
       "        \n",
       "    \n",
       "        var popup_f47f159090fd9d7fa1e54c570bfe84af = L.popup({\n",
       "  &quot;maxWidth&quot;: 250,\n",
       "});\n",
       "\n",
       "        \n",
       "            \n",
       "                var html_e6b4878bdb434361f7a10a6be01bf2aa = $(`&lt;div id=&quot;html_e6b4878bdb434361f7a10a6be01bf2aa&quot; style=&quot;width: 100.0%; height: 100.0%;&quot;&gt;             &lt;div style=&quot;width: 200px;&quot;&gt;                 &lt;h4&gt;Marine Monitoring Point&lt;/h4&gt;                 &lt;p&gt;&lt;strong&gt;Coordinates:&lt;/strong&gt; -8.747, 85.643&lt;/p&gt;                 &lt;p&gt;&lt;strong&gt;Hotspot Probability:&lt;/strong&gt; 9.4%&lt;/p&gt;                 &lt;p&gt;&lt;strong&gt;Concentration:&lt;/strong&gt; 6.52 particles/m³&lt;/p&gt;                 &lt;p&gt;&lt;strong&gt;Water Temp:&lt;/strong&gt; 27.0°C&lt;/p&gt;                 &lt;p&gt;&lt;strong&gt;Current Speed:&lt;/strong&gt; 0.9 m/s&lt;/p&gt;                 &lt;p&gt;&lt;strong&gt;Date:&lt;/strong&gt; 2024-10-21&lt;/p&gt;             &lt;/div&gt;             &lt;/div&gt;`)[0];\n",
       "                popup_f47f159090fd9d7fa1e54c570bfe84af.setContent(html_e6b4878bdb434361f7a10a6be01bf2aa);\n",
       "            \n",
       "        \n",
       "\n",
       "        circle_marker_fdc0d6d64bdc91f6b6bf128b54736c5f.bindPopup(popup_f47f159090fd9d7fa1e54c570bfe84af)\n",
       "        ;\n",
       "\n",
       "        \n",
       "    \n",
       "    \n",
       "            circle_marker_fdc0d6d64bdc91f6b6bf128b54736c5f.bindTooltip(\n",
       "                `&lt;div&gt;\n",
       "                     Hotspot Risk: 9.4%\n",
       "                 &lt;/div&gt;`,\n",
       "                {\n",
       "  &quot;sticky&quot;: true,\n",
       "}\n",
       "            );\n",
       "        \n",
       "    \n",
       "            var circle_marker_dd9163557bec1cbd345780209f116818 = L.circleMarker(\n",
       "                [38.16177191069917, 19.567458904104246],\n",
       "                {&quot;bubblingMouseEvents&quot;: true, &quot;color&quot;: &quot;black&quot;, &quot;dashArray&quot;: null, &quot;dashOffset&quot;: null, &quot;fill&quot;: true, &quot;fillColor&quot;: &quot;orange&quot;, &quot;fillOpacity&quot;: 0.7, &quot;fillRule&quot;: &quot;evenodd&quot;, &quot;lineCap&quot;: &quot;round&quot;, &quot;lineJoin&quot;: &quot;round&quot;, &quot;opacity&quot;: 1.0, &quot;radius&quot;: 8.07609817340896, &quot;stroke&quot;: true, &quot;weight&quot;: 1}\n",
       "            ).addTo(map_0f194e2aaa6e0c52ce4a98779fb6afef);\n",
       "        \n",
       "    \n",
       "        var popup_41fa3a9f1906cc365c35d1348433b61f = L.popup({\n",
       "  &quot;maxWidth&quot;: 250,\n",
       "});\n",
       "\n",
       "        \n",
       "            \n",
       "                var html_b8848ffe1c59e03cef1986dc7d97ab73 = $(`&lt;div id=&quot;html_b8848ffe1c59e03cef1986dc7d97ab73&quot; style=&quot;width: 100.0%; height: 100.0%;&quot;&gt;             &lt;div style=&quot;width: 200px;&quot;&gt;                 &lt;h4&gt;Marine Monitoring Point&lt;/h4&gt;                 &lt;p&gt;&lt;strong&gt;Coordinates:&lt;/strong&gt; 38.162, 19.567&lt;/p&gt;                 &lt;p&gt;&lt;strong&gt;Hotspot Probability:&lt;/strong&gt; 53.8%&lt;/p&gt;                 &lt;p&gt;&lt;strong&gt;Concentration:&lt;/strong&gt; 15.61 particles/m³&lt;/p&gt;                 &lt;p&gt;&lt;strong&gt;Water Temp:&lt;/strong&gt; 17.9°C&lt;/p&gt;                 &lt;p&gt;&lt;strong&gt;Current Speed:&lt;/strong&gt; 6.1 m/s&lt;/p&gt;                 &lt;p&gt;&lt;strong&gt;Date:&lt;/strong&gt; 2025-02-16&lt;/p&gt;             &lt;/div&gt;             &lt;/div&gt;`)[0];\n",
       "                popup_41fa3a9f1906cc365c35d1348433b61f.setContent(html_b8848ffe1c59e03cef1986dc7d97ab73);\n",
       "            \n",
       "        \n",
       "\n",
       "        circle_marker_dd9163557bec1cbd345780209f116818.bindPopup(popup_41fa3a9f1906cc365c35d1348433b61f)\n",
       "        ;\n",
       "\n",
       "        \n",
       "    \n",
       "    \n",
       "            circle_marker_dd9163557bec1cbd345780209f116818.bindTooltip(\n",
       "                `&lt;div&gt;\n",
       "                     Hotspot Risk: 53.8%\n",
       "                 &lt;/div&gt;`,\n",
       "                {\n",
       "  &quot;sticky&quot;: true,\n",
       "}\n",
       "            );\n",
       "        \n",
       "    \n",
       "            var circle_marker_40d5e795c02643f2b2d529126585fff5 = L.circleMarker(\n",
       "                [43.287669990761216, 40.219468644366806],\n",
       "                {&quot;bubblingMouseEvents&quot;: true, &quot;color&quot;: &quot;black&quot;, &quot;dashArray&quot;: null, &quot;dashOffset&quot;: null, &quot;fill&quot;: true, &quot;fillColor&quot;: &quot;green&quot;, &quot;fillOpacity&quot;: 0.7, &quot;fillRule&quot;: &quot;evenodd&quot;, &quot;lineCap&quot;: &quot;round&quot;, &quot;lineJoin&quot;: &quot;round&quot;, &quot;opacity&quot;: 1.0, &quot;radius&quot;: 3, &quot;stroke&quot;: true, &quot;weight&quot;: 1}\n",
       "            ).addTo(map_0f194e2aaa6e0c52ce4a98779fb6afef);\n",
       "        \n",
       "    \n",
       "        var popup_b9e310166962da5ef9527e6d823cc3a6 = L.popup({\n",
       "  &quot;maxWidth&quot;: 250,\n",
       "});\n",
       "\n",
       "        \n",
       "            \n",
       "                var html_a55a198040c9e0975079f21f45264332 = $(`&lt;div id=&quot;html_a55a198040c9e0975079f21f45264332&quot; style=&quot;width: 100.0%; height: 100.0%;&quot;&gt;             &lt;div style=&quot;width: 200px;&quot;&gt;                 &lt;h4&gt;Marine Monitoring Point&lt;/h4&gt;                 &lt;p&gt;&lt;strong&gt;Coordinates:&lt;/strong&gt; 43.288, 40.219&lt;/p&gt;                 &lt;p&gt;&lt;strong&gt;Hotspot Probability:&lt;/strong&gt; 9.7%&lt;/p&gt;                 &lt;p&gt;&lt;strong&gt;Concentration:&lt;/strong&gt; 33.15 particles/m³&lt;/p&gt;                 &lt;p&gt;&lt;strong&gt;Water Temp:&lt;/strong&gt; 2.4°C&lt;/p&gt;                 &lt;p&gt;&lt;strong&gt;Current Speed:&lt;/strong&gt; 8.0 m/s&lt;/p&gt;                 &lt;p&gt;&lt;strong&gt;Date:&lt;/strong&gt; 2025-09-11&lt;/p&gt;             &lt;/div&gt;             &lt;/div&gt;`)[0];\n",
       "                popup_b9e310166962da5ef9527e6d823cc3a6.setContent(html_a55a198040c9e0975079f21f45264332);\n",
       "            \n",
       "        \n",
       "\n",
       "        circle_marker_40d5e795c02643f2b2d529126585fff5.bindPopup(popup_b9e310166962da5ef9527e6d823cc3a6)\n",
       "        ;\n",
       "\n",
       "        \n",
       "    \n",
       "    \n",
       "            circle_marker_40d5e795c02643f2b2d529126585fff5.bindTooltip(\n",
       "                `&lt;div&gt;\n",
       "                     Hotspot Risk: 9.7%\n",
       "                 &lt;/div&gt;`,\n",
       "                {\n",
       "  &quot;sticky&quot;: true,\n",
       "}\n",
       "            );\n",
       "        \n",
       "    \n",
       "            var circle_marker_dfe495fbaaa7f57400ecd3ddf208d4f1 = L.circleMarker(\n",
       "                [-59.16574433625711, -28.94397752599563],\n",
       "                {&quot;bubblingMouseEvents&quot;: true, &quot;color&quot;: &quot;black&quot;, &quot;dashArray&quot;: null, &quot;dashOffset&quot;: null, &quot;fill&quot;: true, &quot;fillColor&quot;: &quot;green&quot;, &quot;fillOpacity&quot;: 0.7, &quot;fillRule&quot;: &quot;evenodd&quot;, &quot;lineCap&quot;: &quot;round&quot;, &quot;lineJoin&quot;: &quot;round&quot;, &quot;opacity&quot;: 1.0, &quot;radius&quot;: 3, &quot;stroke&quot;: true, &quot;weight&quot;: 1}\n",
       "            ).addTo(map_0f194e2aaa6e0c52ce4a98779fb6afef);\n",
       "        \n",
       "    \n",
       "        var popup_602c934664beab97cedd4465ced74bc4 = L.popup({\n",
       "  &quot;maxWidth&quot;: 250,\n",
       "});\n",
       "\n",
       "        \n",
       "            \n",
       "                var html_4d9c9d79f6a0944be1a079054d931d29 = $(`&lt;div id=&quot;html_4d9c9d79f6a0944be1a079054d931d29&quot; style=&quot;width: 100.0%; height: 100.0%;&quot;&gt;             &lt;div style=&quot;width: 200px;&quot;&gt;                 &lt;h4&gt;Marine Monitoring Point&lt;/h4&gt;                 &lt;p&gt;&lt;strong&gt;Coordinates:&lt;/strong&gt; -59.166, -28.944&lt;/p&gt;                 &lt;p&gt;&lt;strong&gt;Hotspot Probability:&lt;/strong&gt; -10.7%&lt;/p&gt;                 &lt;p&gt;&lt;strong&gt;Concentration:&lt;/strong&gt; 6.50 particles/m³&lt;/p&gt;                 &lt;p&gt;&lt;strong&gt;Water Temp:&lt;/strong&gt; 10.4°C&lt;/p&gt;                 &lt;p&gt;&lt;strong&gt;Current Speed:&lt;/strong&gt; 5.5 m/s&lt;/p&gt;                 &lt;p&gt;&lt;strong&gt;Date:&lt;/strong&gt; 2025-10-04&lt;/p&gt;             &lt;/div&gt;             &lt;/div&gt;`)[0];\n",
       "                popup_602c934664beab97cedd4465ced74bc4.setContent(html_4d9c9d79f6a0944be1a079054d931d29);\n",
       "            \n",
       "        \n",
       "\n",
       "        circle_marker_dfe495fbaaa7f57400ecd3ddf208d4f1.bindPopup(popup_602c934664beab97cedd4465ced74bc4)\n",
       "        ;\n",
       "\n",
       "        \n",
       "    \n",
       "    \n",
       "            circle_marker_dfe495fbaaa7f57400ecd3ddf208d4f1.bindTooltip(\n",
       "                `&lt;div&gt;\n",
       "                     Hotspot Risk: -10.7%\n",
       "                 &lt;/div&gt;`,\n",
       "                {\n",
       "  &quot;sticky&quot;: true,\n",
       "}\n",
       "            );\n",
       "        \n",
       "    \n",
       "            var circle_marker_46f16b66bbc8843325506125d4e69f65 = L.circleMarker(\n",
       "                [1.2896763093078878, -90.81684377958331],\n",
       "                {&quot;bubblingMouseEvents&quot;: true, &quot;color&quot;: &quot;black&quot;, &quot;dashArray&quot;: null, &quot;dashOffset&quot;: null, &quot;fill&quot;: true, &quot;fillColor&quot;: &quot;green&quot;, &quot;fillOpacity&quot;: 0.7, &quot;fillRule&quot;: &quot;evenodd&quot;, &quot;lineCap&quot;: &quot;round&quot;, &quot;lineJoin&quot;: &quot;round&quot;, &quot;opacity&quot;: 1.0, &quot;radius&quot;: 3, &quot;stroke&quot;: true, &quot;weight&quot;: 1}\n",
       "            ).addTo(map_0f194e2aaa6e0c52ce4a98779fb6afef);\n",
       "        \n",
       "    \n",
       "        var popup_3bef58f4ad2d9a548c9dd20ed8156e09 = L.popup({\n",
       "  &quot;maxWidth&quot;: 250,\n",
       "});\n",
       "\n",
       "        \n",
       "            \n",
       "                var html_2dc056b04b4b2765e57bc41423029028 = $(`&lt;div id=&quot;html_2dc056b04b4b2765e57bc41423029028&quot; style=&quot;width: 100.0%; height: 100.0%;&quot;&gt;             &lt;div style=&quot;width: 200px;&quot;&gt;                 &lt;h4&gt;Marine Monitoring Point&lt;/h4&gt;                 &lt;p&gt;&lt;strong&gt;Coordinates:&lt;/strong&gt; 1.290, -90.817&lt;/p&gt;                 &lt;p&gt;&lt;strong&gt;Hotspot Probability:&lt;/strong&gt; 9.1%&lt;/p&gt;                 &lt;p&gt;&lt;strong&gt;Concentration:&lt;/strong&gt; 12.87 particles/m³&lt;/p&gt;                 &lt;p&gt;&lt;strong&gt;Water Temp:&lt;/strong&gt; 11.3°C&lt;/p&gt;                 &lt;p&gt;&lt;strong&gt;Current Speed:&lt;/strong&gt; 7.7 m/s&lt;/p&gt;                 &lt;p&gt;&lt;strong&gt;Date:&lt;/strong&gt; 2025-02-11&lt;/p&gt;             &lt;/div&gt;             &lt;/div&gt;`)[0];\n",
       "                popup_3bef58f4ad2d9a548c9dd20ed8156e09.setContent(html_2dc056b04b4b2765e57bc41423029028);\n",
       "            \n",
       "        \n",
       "\n",
       "        circle_marker_46f16b66bbc8843325506125d4e69f65.bindPopup(popup_3bef58f4ad2d9a548c9dd20ed8156e09)\n",
       "        ;\n",
       "\n",
       "        \n",
       "    \n",
       "    \n",
       "            circle_marker_46f16b66bbc8843325506125d4e69f65.bindTooltip(\n",
       "                `&lt;div&gt;\n",
       "                     Hotspot Risk: 9.1%\n",
       "                 &lt;/div&gt;`,\n",
       "                {\n",
       "  &quot;sticky&quot;: true,\n",
       "}\n",
       "            );\n",
       "        \n",
       "    \n",
       "            var circle_marker_189f41417acadc15c5ec13d0b9a01841 = L.circleMarker(\n",
       "                [-9.910679622146521, -51.84983568554583],\n",
       "                {&quot;bubblingMouseEvents&quot;: true, &quot;color&quot;: &quot;black&quot;, &quot;dashArray&quot;: null, &quot;dashOffset&quot;: null, &quot;fill&quot;: true, &quot;fillColor&quot;: &quot;green&quot;, &quot;fillOpacity&quot;: 0.7, &quot;fillRule&quot;: &quot;evenodd&quot;, &quot;lineCap&quot;: &quot;round&quot;, &quot;lineJoin&quot;: &quot;round&quot;, &quot;opacity&quot;: 1.0, &quot;radius&quot;: 3, &quot;stroke&quot;: true, &quot;weight&quot;: 1}\n",
       "            ).addTo(map_0f194e2aaa6e0c52ce4a98779fb6afef);\n",
       "        \n",
       "    \n",
       "        var popup_5119dbea7e35b95cc6052ad3705edb38 = L.popup({\n",
       "  &quot;maxWidth&quot;: 250,\n",
       "});\n",
       "\n",
       "        \n",
       "            \n",
       "                var html_371f1705ed96e6d6681c2c7451c78f50 = $(`&lt;div id=&quot;html_371f1705ed96e6d6681c2c7451c78f50&quot; style=&quot;width: 100.0%; height: 100.0%;&quot;&gt;             &lt;div style=&quot;width: 200px;&quot;&gt;                 &lt;h4&gt;Marine Monitoring Point&lt;/h4&gt;                 &lt;p&gt;&lt;strong&gt;Coordinates:&lt;/strong&gt; -9.911, -51.850&lt;/p&gt;                 &lt;p&gt;&lt;strong&gt;Hotspot Probability:&lt;/strong&gt; -3.0%&lt;/p&gt;                 &lt;p&gt;&lt;strong&gt;Concentration:&lt;/strong&gt; 1.28 particles/m³&lt;/p&gt;                 &lt;p&gt;&lt;strong&gt;Water Temp:&lt;/strong&gt; 4.4°C&lt;/p&gt;                 &lt;p&gt;&lt;strong&gt;Current Speed:&lt;/strong&gt; 2.6 m/s&lt;/p&gt;                 &lt;p&gt;&lt;strong&gt;Date:&lt;/strong&gt; 2025-08-06&lt;/p&gt;             &lt;/div&gt;             &lt;/div&gt;`)[0];\n",
       "                popup_5119dbea7e35b95cc6052ad3705edb38.setContent(html_371f1705ed96e6d6681c2c7451c78f50);\n",
       "            \n",
       "        \n",
       "\n",
       "        circle_marker_189f41417acadc15c5ec13d0b9a01841.bindPopup(popup_5119dbea7e35b95cc6052ad3705edb38)\n",
       "        ;\n",
       "\n",
       "        \n",
       "    \n",
       "    \n",
       "            circle_marker_189f41417acadc15c5ec13d0b9a01841.bindTooltip(\n",
       "                `&lt;div&gt;\n",
       "                     Hotspot Risk: -3.0%\n",
       "                 &lt;/div&gt;`,\n",
       "                {\n",
       "  &quot;sticky&quot;: true,\n",
       "}\n",
       "            );\n",
       "        \n",
       "    \n",
       "            var circle_marker_900f759e9bd2a91aa4485730b60056c6 = L.circleMarker(\n",
       "                [-33.34706274351237, 92.82459976717288],\n",
       "                {&quot;bubblingMouseEvents&quot;: true, &quot;color&quot;: &quot;black&quot;, &quot;dashArray&quot;: null, &quot;dashOffset&quot;: null, &quot;fill&quot;: true, &quot;fillColor&quot;: &quot;green&quot;, &quot;fillOpacity&quot;: 0.7, &quot;fillRule&quot;: &quot;evenodd&quot;, &quot;lineCap&quot;: &quot;round&quot;, &quot;lineJoin&quot;: &quot;round&quot;, &quot;opacity&quot;: 1.0, &quot;radius&quot;: 3, &quot;stroke&quot;: true, &quot;weight&quot;: 1}\n",
       "            ).addTo(map_0f194e2aaa6e0c52ce4a98779fb6afef);\n",
       "        \n",
       "    \n",
       "        var popup_1eb6eb43ac7aee24a1b7ab25e2e2ce5b = L.popup({\n",
       "  &quot;maxWidth&quot;: 250,\n",
       "});\n",
       "\n",
       "        \n",
       "            \n",
       "                var html_f1198684d96176d875a65315e69a33bd = $(`&lt;div id=&quot;html_f1198684d96176d875a65315e69a33bd&quot; style=&quot;width: 100.0%; height: 100.0%;&quot;&gt;             &lt;div style=&quot;width: 200px;&quot;&gt;                 &lt;h4&gt;Marine Monitoring Point&lt;/h4&gt;                 &lt;p&gt;&lt;strong&gt;Coordinates:&lt;/strong&gt; -33.347, 92.825&lt;/p&gt;                 &lt;p&gt;&lt;strong&gt;Hotspot Probability:&lt;/strong&gt; 16.7%&lt;/p&gt;                 &lt;p&gt;&lt;strong&gt;Concentration:&lt;/strong&gt; 6.53 particles/m³&lt;/p&gt;                 &lt;p&gt;&lt;strong&gt;Water Temp:&lt;/strong&gt; 24.2°C&lt;/p&gt;                 &lt;p&gt;&lt;strong&gt;Current Speed:&lt;/strong&gt; 3.3 m/s&lt;/p&gt;                 &lt;p&gt;&lt;strong&gt;Date:&lt;/strong&gt; 2025-03-24&lt;/p&gt;             &lt;/div&gt;             &lt;/div&gt;`)[0];\n",
       "                popup_1eb6eb43ac7aee24a1b7ab25e2e2ce5b.setContent(html_f1198684d96176d875a65315e69a33bd);\n",
       "            \n",
       "        \n",
       "\n",
       "        circle_marker_900f759e9bd2a91aa4485730b60056c6.bindPopup(popup_1eb6eb43ac7aee24a1b7ab25e2e2ce5b)\n",
       "        ;\n",
       "\n",
       "        \n",
       "    \n",
       "    \n",
       "            circle_marker_900f759e9bd2a91aa4485730b60056c6.bindTooltip(\n",
       "                `&lt;div&gt;\n",
       "                     Hotspot Risk: 16.7%\n",
       "                 &lt;/div&gt;`,\n",
       "                {\n",
       "  &quot;sticky&quot;: true,\n",
       "}\n",
       "            );\n",
       "        \n",
       "    \n",
       "            var circle_marker_a4e9f5332b7d71f7b53e98c69082541b = L.circleMarker(\n",
       "                [-45.61615591995806, -174.8183440932879],\n",
       "                {&quot;bubblingMouseEvents&quot;: true, &quot;color&quot;: &quot;black&quot;, &quot;dashArray&quot;: null, &quot;dashOffset&quot;: null, &quot;fill&quot;: true, &quot;fillColor&quot;: &quot;green&quot;, &quot;fillOpacity&quot;: 0.7, &quot;fillRule&quot;: &quot;evenodd&quot;, &quot;lineCap&quot;: &quot;round&quot;, &quot;lineJoin&quot;: &quot;round&quot;, &quot;opacity&quot;: 1.0, &quot;radius&quot;: 3, &quot;stroke&quot;: true, &quot;weight&quot;: 1}\n",
       "            ).addTo(map_0f194e2aaa6e0c52ce4a98779fb6afef);\n",
       "        \n",
       "    \n",
       "        var popup_71b2f3a05f0bcda1bf11ddaba08d7bac = L.popup({\n",
       "  &quot;maxWidth&quot;: 250,\n",
       "});\n",
       "\n",
       "        \n",
       "            \n",
       "                var html_bd75ecc7f28fe0051885846309c27c46 = $(`&lt;div id=&quot;html_bd75ecc7f28fe0051885846309c27c46&quot; style=&quot;width: 100.0%; height: 100.0%;&quot;&gt;             &lt;div style=&quot;width: 200px;&quot;&gt;                 &lt;h4&gt;Marine Monitoring Point&lt;/h4&gt;                 &lt;p&gt;&lt;strong&gt;Coordinates:&lt;/strong&gt; -45.616, -174.818&lt;/p&gt;                 &lt;p&gt;&lt;strong&gt;Hotspot Probability:&lt;/strong&gt; 13.7%&lt;/p&gt;                 &lt;p&gt;&lt;strong&gt;Concentration:&lt;/strong&gt; 2.16 particles/m³&lt;/p&gt;                 &lt;p&gt;&lt;strong&gt;Water Temp:&lt;/strong&gt; 3.4°C&lt;/p&gt;                 &lt;p&gt;&lt;strong&gt;Current Speed:&lt;/strong&gt; 4.4 m/s&lt;/p&gt;                 &lt;p&gt;&lt;strong&gt;Date:&lt;/strong&gt; 2025-08-15&lt;/p&gt;             &lt;/div&gt;             &lt;/div&gt;`)[0];\n",
       "                popup_71b2f3a05f0bcda1bf11ddaba08d7bac.setContent(html_bd75ecc7f28fe0051885846309c27c46);\n",
       "            \n",
       "        \n",
       "\n",
       "        circle_marker_a4e9f5332b7d71f7b53e98c69082541b.bindPopup(popup_71b2f3a05f0bcda1bf11ddaba08d7bac)\n",
       "        ;\n",
       "\n",
       "        \n",
       "    \n",
       "    \n",
       "            circle_marker_a4e9f5332b7d71f7b53e98c69082541b.bindTooltip(\n",
       "                `&lt;div&gt;\n",
       "                     Hotspot Risk: 13.7%\n",
       "                 &lt;/div&gt;`,\n",
       "                {\n",
       "  &quot;sticky&quot;: true,\n",
       "}\n",
       "            );\n",
       "        \n",
       "    \n",
       "            var circle_marker_27b7d1263c22cd1399b12edaf3153422 = L.circleMarker(\n",
       "                [-19.486179431564643, -138.21384941751015],\n",
       "                {&quot;bubblingMouseEvents&quot;: true, &quot;color&quot;: &quot;black&quot;, &quot;dashArray&quot;: null, &quot;dashOffset&quot;: null, &quot;fill&quot;: true, &quot;fillColor&quot;: &quot;green&quot;, &quot;fillOpacity&quot;: 0.7, &quot;fillRule&quot;: &quot;evenodd&quot;, &quot;lineCap&quot;: &quot;round&quot;, &quot;lineJoin&quot;: &quot;round&quot;, &quot;opacity&quot;: 1.0, &quot;radius&quot;: 3, &quot;stroke&quot;: true, &quot;weight&quot;: 1}\n",
       "            ).addTo(map_0f194e2aaa6e0c52ce4a98779fb6afef);\n",
       "        \n",
       "    \n",
       "        var popup_fd398870fb91190feb998af79ee99a8f = L.popup({\n",
       "  &quot;maxWidth&quot;: 250,\n",
       "});\n",
       "\n",
       "        \n",
       "            \n",
       "                var html_40b74c7ff4d9ab3f0310c23679aea394 = $(`&lt;div id=&quot;html_40b74c7ff4d9ab3f0310c23679aea394&quot; style=&quot;width: 100.0%; height: 100.0%;&quot;&gt;             &lt;div style=&quot;width: 200px;&quot;&gt;                 &lt;h4&gt;Marine Monitoring Point&lt;/h4&gt;                 &lt;p&gt;&lt;strong&gt;Coordinates:&lt;/strong&gt; -19.486, -138.214&lt;/p&gt;                 &lt;p&gt;&lt;strong&gt;Hotspot Probability:&lt;/strong&gt; 0.6%&lt;/p&gt;                 &lt;p&gt;&lt;strong&gt;Concentration:&lt;/strong&gt; 8.54 particles/m³&lt;/p&gt;                 &lt;p&gt;&lt;strong&gt;Water Temp:&lt;/strong&gt; 30.7°C&lt;/p&gt;                 &lt;p&gt;&lt;strong&gt;Current Speed:&lt;/strong&gt; 6.1 m/s&lt;/p&gt;                 &lt;p&gt;&lt;strong&gt;Date:&lt;/strong&gt; 2025-06-01&lt;/p&gt;             &lt;/div&gt;             &lt;/div&gt;`)[0];\n",
       "                popup_fd398870fb91190feb998af79ee99a8f.setContent(html_40b74c7ff4d9ab3f0310c23679aea394);\n",
       "            \n",
       "        \n",
       "\n",
       "        circle_marker_27b7d1263c22cd1399b12edaf3153422.bindPopup(popup_fd398870fb91190feb998af79ee99a8f)\n",
       "        ;\n",
       "\n",
       "        \n",
       "    \n",
       "    \n",
       "            circle_marker_27b7d1263c22cd1399b12edaf3153422.bindTooltip(\n",
       "                `&lt;div&gt;\n",
       "                     Hotspot Risk: 0.6%\n",
       "                 &lt;/div&gt;`,\n",
       "                {\n",
       "  &quot;sticky&quot;: true,\n",
       "}\n",
       "            );\n",
       "        \n",
       "    \n",
       "            var circle_marker_9d1ad96b7a3c9bab3656c0a48c70c657 = L.circleMarker(\n",
       "                [53.149164469502296, -163.439048872169],\n",
       "                {&quot;bubblingMouseEvents&quot;: true, &quot;color&quot;: &quot;black&quot;, &quot;dashArray&quot;: null, &quot;dashOffset&quot;: null, &quot;fill&quot;: true, &quot;fillColor&quot;: &quot;green&quot;, &quot;fillOpacity&quot;: 0.7, &quot;fillRule&quot;: &quot;evenodd&quot;, &quot;lineCap&quot;: &quot;round&quot;, &quot;lineJoin&quot;: &quot;round&quot;, &quot;opacity&quot;: 1.0, &quot;radius&quot;: 3, &quot;stroke&quot;: true, &quot;weight&quot;: 1}\n",
       "            ).addTo(map_0f194e2aaa6e0c52ce4a98779fb6afef);\n",
       "        \n",
       "    \n",
       "        var popup_14a9add7d1588ab70720e92ac88994ce = L.popup({\n",
       "  &quot;maxWidth&quot;: 250,\n",
       "});\n",
       "\n",
       "        \n",
       "            \n",
       "                var html_3518e04dcd5a22cc8d2d233ced65683d = $(`&lt;div id=&quot;html_3518e04dcd5a22cc8d2d233ced65683d&quot; style=&quot;width: 100.0%; height: 100.0%;&quot;&gt;             &lt;div style=&quot;width: 200px;&quot;&gt;                 &lt;h4&gt;Marine Monitoring Point&lt;/h4&gt;                 &lt;p&gt;&lt;strong&gt;Coordinates:&lt;/strong&gt; 53.149, -163.439&lt;/p&gt;                 &lt;p&gt;&lt;strong&gt;Hotspot Probability:&lt;/strong&gt; 4.9%&lt;/p&gt;                 &lt;p&gt;&lt;strong&gt;Concentration:&lt;/strong&gt; 9.36 particles/m³&lt;/p&gt;                 &lt;p&gt;&lt;strong&gt;Water Temp:&lt;/strong&gt; 30.7°C&lt;/p&gt;                 &lt;p&gt;&lt;strong&gt;Current Speed:&lt;/strong&gt; 5.7 m/s&lt;/p&gt;                 &lt;p&gt;&lt;strong&gt;Date:&lt;/strong&gt; 2025-10-16&lt;/p&gt;             &lt;/div&gt;             &lt;/div&gt;`)[0];\n",
       "                popup_14a9add7d1588ab70720e92ac88994ce.setContent(html_3518e04dcd5a22cc8d2d233ced65683d);\n",
       "            \n",
       "        \n",
       "\n",
       "        circle_marker_9d1ad96b7a3c9bab3656c0a48c70c657.bindPopup(popup_14a9add7d1588ab70720e92ac88994ce)\n",
       "        ;\n",
       "\n",
       "        \n",
       "    \n",
       "    \n",
       "            circle_marker_9d1ad96b7a3c9bab3656c0a48c70c657.bindTooltip(\n",
       "                `&lt;div&gt;\n",
       "                     Hotspot Risk: 4.9%\n",
       "                 &lt;/div&gt;`,\n",
       "                {\n",
       "  &quot;sticky&quot;: true,\n",
       "}\n",
       "            );\n",
       "        \n",
       "    \n",
       "            var circle_marker_01f39d3f6212065463129d89d39c74ac = L.circleMarker(\n",
       "                [-21.21564815750937, -165.33763116517076],\n",
       "                {&quot;bubblingMouseEvents&quot;: true, &quot;color&quot;: &quot;black&quot;, &quot;dashArray&quot;: null, &quot;dashOffset&quot;: null, &quot;fill&quot;: true, &quot;fillColor&quot;: &quot;green&quot;, &quot;fillOpacity&quot;: 0.7, &quot;fillRule&quot;: &quot;evenodd&quot;, &quot;lineCap&quot;: &quot;round&quot;, &quot;lineJoin&quot;: &quot;round&quot;, &quot;opacity&quot;: 1.0, &quot;radius&quot;: 3, &quot;stroke&quot;: true, &quot;weight&quot;: 1}\n",
       "            ).addTo(map_0f194e2aaa6e0c52ce4a98779fb6afef);\n",
       "        \n",
       "    \n",
       "        var popup_74c4135d8508ed5a4cad1cd6f04a1175 = L.popup({\n",
       "  &quot;maxWidth&quot;: 250,\n",
       "});\n",
       "\n",
       "        \n",
       "            \n",
       "                var html_46b85d19458c7978163eaf509cd14da2 = $(`&lt;div id=&quot;html_46b85d19458c7978163eaf509cd14da2&quot; style=&quot;width: 100.0%; height: 100.0%;&quot;&gt;             &lt;div style=&quot;width: 200px;&quot;&gt;                 &lt;h4&gt;Marine Monitoring Point&lt;/h4&gt;                 &lt;p&gt;&lt;strong&gt;Coordinates:&lt;/strong&gt; -21.216, -165.338&lt;/p&gt;                 &lt;p&gt;&lt;strong&gt;Hotspot Probability:&lt;/strong&gt; -0.6%&lt;/p&gt;                 &lt;p&gt;&lt;strong&gt;Concentration:&lt;/strong&gt; 9.32 particles/m³&lt;/p&gt;                 &lt;p&gt;&lt;strong&gt;Water Temp:&lt;/strong&gt; 11.9°C&lt;/p&gt;                 &lt;p&gt;&lt;strong&gt;Current Speed:&lt;/strong&gt; 2.8 m/s&lt;/p&gt;                 &lt;p&gt;&lt;strong&gt;Date:&lt;/strong&gt; 2025-05-20&lt;/p&gt;             &lt;/div&gt;             &lt;/div&gt;`)[0];\n",
       "                popup_74c4135d8508ed5a4cad1cd6f04a1175.setContent(html_46b85d19458c7978163eaf509cd14da2);\n",
       "            \n",
       "        \n",
       "\n",
       "        circle_marker_01f39d3f6212065463129d89d39c74ac.bindPopup(popup_74c4135d8508ed5a4cad1cd6f04a1175)\n",
       "        ;\n",
       "\n",
       "        \n",
       "    \n",
       "    \n",
       "            circle_marker_01f39d3f6212065463129d89d39c74ac.bindTooltip(\n",
       "                `&lt;div&gt;\n",
       "                     Hotspot Risk: -0.6%\n",
       "                 &lt;/div&gt;`,\n",
       "                {\n",
       "  &quot;sticky&quot;: true,\n",
       "}\n",
       "            );\n",
       "        \n",
       "    \n",
       "            var circle_marker_228610c27b42003090b2922048df7867 = L.circleMarker(\n",
       "                [2.254874609203932, 127.9658102439626],\n",
       "                {&quot;bubblingMouseEvents&quot;: true, &quot;color&quot;: &quot;black&quot;, &quot;dashArray&quot;: null, &quot;dashOffset&quot;: null, &quot;fill&quot;: true, &quot;fillColor&quot;: &quot;green&quot;, &quot;fillOpacity&quot;: 0.7, &quot;fillRule&quot;: &quot;evenodd&quot;, &quot;lineCap&quot;: &quot;round&quot;, &quot;lineJoin&quot;: &quot;round&quot;, &quot;opacity&quot;: 1.0, &quot;radius&quot;: 3, &quot;stroke&quot;: true, &quot;weight&quot;: 1}\n",
       "            ).addTo(map_0f194e2aaa6e0c52ce4a98779fb6afef);\n",
       "        \n",
       "    \n",
       "        var popup_8ac8cd2d90f7e7619948bd7a0e0febbd = L.popup({\n",
       "  &quot;maxWidth&quot;: 250,\n",
       "});\n",
       "\n",
       "        \n",
       "            \n",
       "                var html_1257d0bb8939bdc855dff6e280b4fdb6 = $(`&lt;div id=&quot;html_1257d0bb8939bdc855dff6e280b4fdb6&quot; style=&quot;width: 100.0%; height: 100.0%;&quot;&gt;             &lt;div style=&quot;width: 200px;&quot;&gt;                 &lt;h4&gt;Marine Monitoring Point&lt;/h4&gt;                 &lt;p&gt;&lt;strong&gt;Coordinates:&lt;/strong&gt; 2.255, 127.966&lt;/p&gt;                 &lt;p&gt;&lt;strong&gt;Hotspot Probability:&lt;/strong&gt; 9.4%&lt;/p&gt;                 &lt;p&gt;&lt;strong&gt;Concentration:&lt;/strong&gt; 4.57 particles/m³&lt;/p&gt;                 &lt;p&gt;&lt;strong&gt;Water Temp:&lt;/strong&gt; 17.6°C&lt;/p&gt;                 &lt;p&gt;&lt;strong&gt;Current Speed:&lt;/strong&gt; 2.4 m/s&lt;/p&gt;                 &lt;p&gt;&lt;strong&gt;Date:&lt;/strong&gt; 2025-04-18&lt;/p&gt;             &lt;/div&gt;             &lt;/div&gt;`)[0];\n",
       "                popup_8ac8cd2d90f7e7619948bd7a0e0febbd.setContent(html_1257d0bb8939bdc855dff6e280b4fdb6);\n",
       "            \n",
       "        \n",
       "\n",
       "        circle_marker_228610c27b42003090b2922048df7867.bindPopup(popup_8ac8cd2d90f7e7619948bd7a0e0febbd)\n",
       "        ;\n",
       "\n",
       "        \n",
       "    \n",
       "    \n",
       "            circle_marker_228610c27b42003090b2922048df7867.bindTooltip(\n",
       "                `&lt;div&gt;\n",
       "                     Hotspot Risk: 9.4%\n",
       "                 &lt;/div&gt;`,\n",
       "                {\n",
       "  &quot;sticky&quot;: true,\n",
       "}\n",
       "            );\n",
       "        \n",
       "    \n",
       "            var circle_marker_ad6199531b7f490d37a55d531a82f174 = L.circleMarker(\n",
       "                [24.362275067421344, 73.31682937680853],\n",
       "                {&quot;bubblingMouseEvents&quot;: true, &quot;color&quot;: &quot;black&quot;, &quot;dashArray&quot;: null, &quot;dashOffset&quot;: null, &quot;fill&quot;: true, &quot;fillColor&quot;: &quot;green&quot;, &quot;fillOpacity&quot;: 0.7, &quot;fillRule&quot;: &quot;evenodd&quot;, &quot;lineCap&quot;: &quot;round&quot;, &quot;lineJoin&quot;: &quot;round&quot;, &quot;opacity&quot;: 1.0, &quot;radius&quot;: 3, &quot;stroke&quot;: true, &quot;weight&quot;: 1}\n",
       "            ).addTo(map_0f194e2aaa6e0c52ce4a98779fb6afef);\n",
       "        \n",
       "    \n",
       "        var popup_abad91239de99a93c7e47d4f5e15bb26 = L.popup({\n",
       "  &quot;maxWidth&quot;: 250,\n",
       "});\n",
       "\n",
       "        \n",
       "            \n",
       "                var html_3eb2d5ba6e1077b6670d1bca6fbe8c21 = $(`&lt;div id=&quot;html_3eb2d5ba6e1077b6670d1bca6fbe8c21&quot; style=&quot;width: 100.0%; height: 100.0%;&quot;&gt;             &lt;div style=&quot;width: 200px;&quot;&gt;                 &lt;h4&gt;Marine Monitoring Point&lt;/h4&gt;                 &lt;p&gt;&lt;strong&gt;Coordinates:&lt;/strong&gt; 24.362, 73.317&lt;/p&gt;                 &lt;p&gt;&lt;strong&gt;Hotspot Probability:&lt;/strong&gt; 19.6%&lt;/p&gt;                 &lt;p&gt;&lt;strong&gt;Concentration:&lt;/strong&gt; 73.59 particles/m³&lt;/p&gt;                 &lt;p&gt;&lt;strong&gt;Water Temp:&lt;/strong&gt; 14.4°C&lt;/p&gt;                 &lt;p&gt;&lt;strong&gt;Current Speed:&lt;/strong&gt; 3.8 m/s&lt;/p&gt;                 &lt;p&gt;&lt;strong&gt;Date:&lt;/strong&gt; 2024-10-31&lt;/p&gt;             &lt;/div&gt;             &lt;/div&gt;`)[0];\n",
       "                popup_abad91239de99a93c7e47d4f5e15bb26.setContent(html_3eb2d5ba6e1077b6670d1bca6fbe8c21);\n",
       "            \n",
       "        \n",
       "\n",
       "        circle_marker_ad6199531b7f490d37a55d531a82f174.bindPopup(popup_abad91239de99a93c7e47d4f5e15bb26)\n",
       "        ;\n",
       "\n",
       "        \n",
       "    \n",
       "    \n",
       "            circle_marker_ad6199531b7f490d37a55d531a82f174.bindTooltip(\n",
       "                `&lt;div&gt;\n",
       "                     Hotspot Risk: 19.6%\n",
       "                 &lt;/div&gt;`,\n",
       "                {\n",
       "  &quot;sticky&quot;: true,\n",
       "}\n",
       "            );\n",
       "        \n",
       "    \n",
       "            var circle_marker_9d6b4d102a57427575715624262b1e6f = L.circleMarker(\n",
       "                [-16.364447714484722, -9.29742152856293],\n",
       "                {&quot;bubblingMouseEvents&quot;: true, &quot;color&quot;: &quot;black&quot;, &quot;dashArray&quot;: null, &quot;dashOffset&quot;: null, &quot;fill&quot;: true, &quot;fillColor&quot;: &quot;yellow&quot;, &quot;fillOpacity&quot;: 0.7, &quot;fillRule&quot;: &quot;evenodd&quot;, &quot;lineCap&quot;: &quot;round&quot;, &quot;lineJoin&quot;: &quot;round&quot;, &quot;opacity&quot;: 1.0, &quot;radius&quot;: 4.5214109304966845, &quot;stroke&quot;: true, &quot;weight&quot;: 1}\n",
       "            ).addTo(map_0f194e2aaa6e0c52ce4a98779fb6afef);\n",
       "        \n",
       "    \n",
       "        var popup_662fe0a1eacfdea8b46a4cdce7cc062b = L.popup({\n",
       "  &quot;maxWidth&quot;: 250,\n",
       "});\n",
       "\n",
       "        \n",
       "            \n",
       "                var html_b76bf35937447b071d0da12dde36b613 = $(`&lt;div id=&quot;html_b76bf35937447b071d0da12dde36b613&quot; style=&quot;width: 100.0%; height: 100.0%;&quot;&gt;             &lt;div style=&quot;width: 200px;&quot;&gt;                 &lt;h4&gt;Marine Monitoring Point&lt;/h4&gt;                 &lt;p&gt;&lt;strong&gt;Coordinates:&lt;/strong&gt; -16.364, -9.297&lt;/p&gt;                 &lt;p&gt;&lt;strong&gt;Hotspot Probability:&lt;/strong&gt; 30.1%&lt;/p&gt;                 &lt;p&gt;&lt;strong&gt;Concentration:&lt;/strong&gt; 2.08 particles/m³&lt;/p&gt;                 &lt;p&gt;&lt;strong&gt;Water Temp:&lt;/strong&gt; 22.2°C&lt;/p&gt;                 &lt;p&gt;&lt;strong&gt;Current Speed:&lt;/strong&gt; 14.6 m/s&lt;/p&gt;                 &lt;p&gt;&lt;strong&gt;Date:&lt;/strong&gt; 2025-03-22&lt;/p&gt;             &lt;/div&gt;             &lt;/div&gt;`)[0];\n",
       "                popup_662fe0a1eacfdea8b46a4cdce7cc062b.setContent(html_b76bf35937447b071d0da12dde36b613);\n",
       "            \n",
       "        \n",
       "\n",
       "        circle_marker_9d6b4d102a57427575715624262b1e6f.bindPopup(popup_662fe0a1eacfdea8b46a4cdce7cc062b)\n",
       "        ;\n",
       "\n",
       "        \n",
       "    \n",
       "    \n",
       "            circle_marker_9d6b4d102a57427575715624262b1e6f.bindTooltip(\n",
       "                `&lt;div&gt;\n",
       "                     Hotspot Risk: 30.1%\n",
       "                 &lt;/div&gt;`,\n",
       "                {\n",
       "  &quot;sticky&quot;: true,\n",
       "}\n",
       "            );\n",
       "        \n",
       "    \n",
       "            var circle_marker_122fe2ea470584d483f24a405cd71d91 = L.circleMarker(\n",
       "                [56.61384992651528, -144.77970216563946],\n",
       "                {&quot;bubblingMouseEvents&quot;: true, &quot;color&quot;: &quot;black&quot;, &quot;dashArray&quot;: null, &quot;dashOffset&quot;: null, &quot;fill&quot;: true, &quot;fillColor&quot;: &quot;green&quot;, &quot;fillOpacity&quot;: 0.7, &quot;fillRule&quot;: &quot;evenodd&quot;, &quot;lineCap&quot;: &quot;round&quot;, &quot;lineJoin&quot;: &quot;round&quot;, &quot;opacity&quot;: 1.0, &quot;radius&quot;: 3, &quot;stroke&quot;: true, &quot;weight&quot;: 1}\n",
       "            ).addTo(map_0f194e2aaa6e0c52ce4a98779fb6afef);\n",
       "        \n",
       "    \n",
       "        var popup_c8920284924e4fe0f500e96de91e3f74 = L.popup({\n",
       "  &quot;maxWidth&quot;: 250,\n",
       "});\n",
       "\n",
       "        \n",
       "            \n",
       "                var html_21379ad6e439b5f2bb00822968dc9e64 = $(`&lt;div id=&quot;html_21379ad6e439b5f2bb00822968dc9e64&quot; style=&quot;width: 100.0%; height: 100.0%;&quot;&gt;             &lt;div style=&quot;width: 200px;&quot;&gt;                 &lt;h4&gt;Marine Monitoring Point&lt;/h4&gt;                 &lt;p&gt;&lt;strong&gt;Coordinates:&lt;/strong&gt; 56.614, -144.780&lt;/p&gt;                 &lt;p&gt;&lt;strong&gt;Hotspot Probability:&lt;/strong&gt; 15.0%&lt;/p&gt;                 &lt;p&gt;&lt;strong&gt;Concentration:&lt;/strong&gt; 1.96 particles/m³&lt;/p&gt;                 &lt;p&gt;&lt;strong&gt;Water Temp:&lt;/strong&gt; 25.2°C&lt;/p&gt;                 &lt;p&gt;&lt;strong&gt;Current Speed:&lt;/strong&gt; 2.6 m/s&lt;/p&gt;                 &lt;p&gt;&lt;strong&gt;Date:&lt;/strong&gt; 2025-03-01&lt;/p&gt;             &lt;/div&gt;             &lt;/div&gt;`)[0];\n",
       "                popup_c8920284924e4fe0f500e96de91e3f74.setContent(html_21379ad6e439b5f2bb00822968dc9e64);\n",
       "            \n",
       "        \n",
       "\n",
       "        circle_marker_122fe2ea470584d483f24a405cd71d91.bindPopup(popup_c8920284924e4fe0f500e96de91e3f74)\n",
       "        ;\n",
       "\n",
       "        \n",
       "    \n",
       "    \n",
       "            circle_marker_122fe2ea470584d483f24a405cd71d91.bindTooltip(\n",
       "                `&lt;div&gt;\n",
       "                     Hotspot Risk: 15.0%\n",
       "                 &lt;/div&gt;`,\n",
       "                {\n",
       "  &quot;sticky&quot;: true,\n",
       "}\n",
       "            );\n",
       "        \n",
       "    \n",
       "            var circle_marker_de192e6348417fae34e04afba12cd20d = L.circleMarker(\n",
       "                [55.49367539305335, -3.0182849579403515],\n",
       "                {&quot;bubblingMouseEvents&quot;: true, &quot;color&quot;: &quot;black&quot;, &quot;dashArray&quot;: null, &quot;dashOffset&quot;: null, &quot;fill&quot;: true, &quot;fillColor&quot;: &quot;green&quot;, &quot;fillOpacity&quot;: 0.7, &quot;fillRule&quot;: &quot;evenodd&quot;, &quot;lineCap&quot;: &quot;round&quot;, &quot;lineJoin&quot;: &quot;round&quot;, &quot;opacity&quot;: 1.0, &quot;radius&quot;: 3, &quot;stroke&quot;: true, &quot;weight&quot;: 1}\n",
       "            ).addTo(map_0f194e2aaa6e0c52ce4a98779fb6afef);\n",
       "        \n",
       "    \n",
       "        var popup_2390b2ec3a7f3a6a082c164ae9c91ddf = L.popup({\n",
       "  &quot;maxWidth&quot;: 250,\n",
       "});\n",
       "\n",
       "        \n",
       "            \n",
       "                var html_22daa1d23d23c7f5b3686f3dc2e2ae38 = $(`&lt;div id=&quot;html_22daa1d23d23c7f5b3686f3dc2e2ae38&quot; style=&quot;width: 100.0%; height: 100.0%;&quot;&gt;             &lt;div style=&quot;width: 200px;&quot;&gt;                 &lt;h4&gt;Marine Monitoring Point&lt;/h4&gt;                 &lt;p&gt;&lt;strong&gt;Coordinates:&lt;/strong&gt; 55.494, -3.018&lt;/p&gt;                 &lt;p&gt;&lt;strong&gt;Hotspot Probability:&lt;/strong&gt; 4.7%&lt;/p&gt;                 &lt;p&gt;&lt;strong&gt;Concentration:&lt;/strong&gt; 38.67 particles/m³&lt;/p&gt;                 &lt;p&gt;&lt;strong&gt;Water Temp:&lt;/strong&gt; 17.1°C&lt;/p&gt;                 &lt;p&gt;&lt;strong&gt;Current Speed:&lt;/strong&gt; 2.4 m/s&lt;/p&gt;                 &lt;p&gt;&lt;strong&gt;Date:&lt;/strong&gt; 2025-07-04&lt;/p&gt;             &lt;/div&gt;             &lt;/div&gt;`)[0];\n",
       "                popup_2390b2ec3a7f3a6a082c164ae9c91ddf.setContent(html_22daa1d23d23c7f5b3686f3dc2e2ae38);\n",
       "            \n",
       "        \n",
       "\n",
       "        circle_marker_de192e6348417fae34e04afba12cd20d.bindPopup(popup_2390b2ec3a7f3a6a082c164ae9c91ddf)\n",
       "        ;\n",
       "\n",
       "        \n",
       "    \n",
       "    \n",
       "            circle_marker_de192e6348417fae34e04afba12cd20d.bindTooltip(\n",
       "                `&lt;div&gt;\n",
       "                     Hotspot Risk: 4.7%\n",
       "                 &lt;/div&gt;`,\n",
       "                {\n",
       "  &quot;sticky&quot;: true,\n",
       "}\n",
       "            );\n",
       "        \n",
       "    \n",
       "            var circle_marker_2a147c298baabaa01a3986957e1dffec = L.circleMarker(\n",
       "                [-29.7861245009563, -9.550162518996355],\n",
       "                {&quot;bubblingMouseEvents&quot;: true, &quot;color&quot;: &quot;black&quot;, &quot;dashArray&quot;: null, &quot;dashOffset&quot;: null, &quot;fill&quot;: true, &quot;fillColor&quot;: &quot;yellow&quot;, &quot;fillOpacity&quot;: 0.7, &quot;fillRule&quot;: &quot;evenodd&quot;, &quot;lineCap&quot;: &quot;round&quot;, &quot;lineJoin&quot;: &quot;round&quot;, &quot;opacity&quot;: 1.0, &quot;radius&quot;: 4.810690751606484, &quot;stroke&quot;: true, &quot;weight&quot;: 1}\n",
       "            ).addTo(map_0f194e2aaa6e0c52ce4a98779fb6afef);\n",
       "        \n",
       "    \n",
       "        var popup_30066c991b01216fb2a1b0a10131ac45 = L.popup({\n",
       "  &quot;maxWidth&quot;: 250,\n",
       "});\n",
       "\n",
       "        \n",
       "            \n",
       "                var html_0d32c39ebf74c9da0c65d2d666a4e087 = $(`&lt;div id=&quot;html_0d32c39ebf74c9da0c65d2d666a4e087&quot; style=&quot;width: 100.0%; height: 100.0%;&quot;&gt;             &lt;div style=&quot;width: 200px;&quot;&gt;                 &lt;h4&gt;Marine Monitoring Point&lt;/h4&gt;                 &lt;p&gt;&lt;strong&gt;Coordinates:&lt;/strong&gt; -29.786, -9.550&lt;/p&gt;                 &lt;p&gt;&lt;strong&gt;Hotspot Probability:&lt;/strong&gt; 32.1%&lt;/p&gt;                 &lt;p&gt;&lt;strong&gt;Concentration:&lt;/strong&gt; 3.65 particles/m³&lt;/p&gt;                 &lt;p&gt;&lt;strong&gt;Water Temp:&lt;/strong&gt; 18.8°C&lt;/p&gt;                 &lt;p&gt;&lt;strong&gt;Current Speed:&lt;/strong&gt; 1.1 m/s&lt;/p&gt;                 &lt;p&gt;&lt;strong&gt;Date:&lt;/strong&gt; 2025-03-22&lt;/p&gt;             &lt;/div&gt;             &lt;/div&gt;`)[0];\n",
       "                popup_30066c991b01216fb2a1b0a10131ac45.setContent(html_0d32c39ebf74c9da0c65d2d666a4e087);\n",
       "            \n",
       "        \n",
       "\n",
       "        circle_marker_2a147c298baabaa01a3986957e1dffec.bindPopup(popup_30066c991b01216fb2a1b0a10131ac45)\n",
       "        ;\n",
       "\n",
       "        \n",
       "    \n",
       "    \n",
       "            circle_marker_2a147c298baabaa01a3986957e1dffec.bindTooltip(\n",
       "                `&lt;div&gt;\n",
       "                     Hotspot Risk: 32.1%\n",
       "                 &lt;/div&gt;`,\n",
       "                {\n",
       "  &quot;sticky&quot;: true,\n",
       "}\n",
       "            );\n",
       "        \n",
       "    \n",
       "            var circle_marker_7305f2fca22e1464b5b5c80c5840465d = L.circleMarker(\n",
       "                [-0.3301792929137459, -117.64732683239454],\n",
       "                {&quot;bubblingMouseEvents&quot;: true, &quot;color&quot;: &quot;black&quot;, &quot;dashArray&quot;: null, &quot;dashOffset&quot;: null, &quot;fill&quot;: true, &quot;fillColor&quot;: &quot;green&quot;, &quot;fillOpacity&quot;: 0.7, &quot;fillRule&quot;: &quot;evenodd&quot;, &quot;lineCap&quot;: &quot;round&quot;, &quot;lineJoin&quot;: &quot;round&quot;, &quot;opacity&quot;: 1.0, &quot;radius&quot;: 3, &quot;stroke&quot;: true, &quot;weight&quot;: 1}\n",
       "            ).addTo(map_0f194e2aaa6e0c52ce4a98779fb6afef);\n",
       "        \n",
       "    \n",
       "        var popup_88437a31f5b9530bb758884a7352adba = L.popup({\n",
       "  &quot;maxWidth&quot;: 250,\n",
       "});\n",
       "\n",
       "        \n",
       "            \n",
       "                var html_a01f03b7ac6a743cc281f7bcc94b611f = $(`&lt;div id=&quot;html_a01f03b7ac6a743cc281f7bcc94b611f&quot; style=&quot;width: 100.0%; height: 100.0%;&quot;&gt;             &lt;div style=&quot;width: 200px;&quot;&gt;                 &lt;h4&gt;Marine Monitoring Point&lt;/h4&gt;                 &lt;p&gt;&lt;strong&gt;Coordinates:&lt;/strong&gt; -0.330, -117.647&lt;/p&gt;                 &lt;p&gt;&lt;strong&gt;Hotspot Probability:&lt;/strong&gt; 8.9%&lt;/p&gt;                 &lt;p&gt;&lt;strong&gt;Concentration:&lt;/strong&gt; 2.87 particles/m³&lt;/p&gt;                 &lt;p&gt;&lt;strong&gt;Water Temp:&lt;/strong&gt; 10.0°C&lt;/p&gt;                 &lt;p&gt;&lt;strong&gt;Current Speed:&lt;/strong&gt; 1.8 m/s&lt;/p&gt;                 &lt;p&gt;&lt;strong&gt;Date:&lt;/strong&gt; 2024-12-02&lt;/p&gt;             &lt;/div&gt;             &lt;/div&gt;`)[0];\n",
       "                popup_88437a31f5b9530bb758884a7352adba.setContent(html_a01f03b7ac6a743cc281f7bcc94b611f);\n",
       "            \n",
       "        \n",
       "\n",
       "        circle_marker_7305f2fca22e1464b5b5c80c5840465d.bindPopup(popup_88437a31f5b9530bb758884a7352adba)\n",
       "        ;\n",
       "\n",
       "        \n",
       "    \n",
       "    \n",
       "            circle_marker_7305f2fca22e1464b5b5c80c5840465d.bindTooltip(\n",
       "                `&lt;div&gt;\n",
       "                     Hotspot Risk: 8.9%\n",
       "                 &lt;/div&gt;`,\n",
       "                {\n",
       "  &quot;sticky&quot;: true,\n",
       "}\n",
       "            );\n",
       "        \n",
       "    \n",
       "            var circle_marker_aaebc76bbf0b2a40129f114edcc3d34e = L.circleMarker(\n",
       "                [-23.89460282198764, -23.813406274329708],\n",
       "                {&quot;bubblingMouseEvents&quot;: true, &quot;color&quot;: &quot;black&quot;, &quot;dashArray&quot;: null, &quot;dashOffset&quot;: null, &quot;fill&quot;: true, &quot;fillColor&quot;: &quot;green&quot;, &quot;fillOpacity&quot;: 0.7, &quot;fillRule&quot;: &quot;evenodd&quot;, &quot;lineCap&quot;: &quot;round&quot;, &quot;lineJoin&quot;: &quot;round&quot;, &quot;opacity&quot;: 1.0, &quot;radius&quot;: 3, &quot;stroke&quot;: true, &quot;weight&quot;: 1}\n",
       "            ).addTo(map_0f194e2aaa6e0c52ce4a98779fb6afef);\n",
       "        \n",
       "    \n",
       "        var popup_aee672d3c12dd882b162c33a62d08025 = L.popup({\n",
       "  &quot;maxWidth&quot;: 250,\n",
       "});\n",
       "\n",
       "        \n",
       "            \n",
       "                var html_9015dfd0c637eb86d192487eed62844b = $(`&lt;div id=&quot;html_9015dfd0c637eb86d192487eed62844b&quot; style=&quot;width: 100.0%; height: 100.0%;&quot;&gt;             &lt;div style=&quot;width: 200px;&quot;&gt;                 &lt;h4&gt;Marine Monitoring Point&lt;/h4&gt;                 &lt;p&gt;&lt;strong&gt;Coordinates:&lt;/strong&gt; -23.895, -23.813&lt;/p&gt;                 &lt;p&gt;&lt;strong&gt;Hotspot Probability:&lt;/strong&gt; -0.4%&lt;/p&gt;                 &lt;p&gt;&lt;strong&gt;Concentration:&lt;/strong&gt; 73.91 particles/m³&lt;/p&gt;                 &lt;p&gt;&lt;strong&gt;Water Temp:&lt;/strong&gt; 18.5°C&lt;/p&gt;                 &lt;p&gt;&lt;strong&gt;Current Speed:&lt;/strong&gt; 3.9 m/s&lt;/p&gt;                 &lt;p&gt;&lt;strong&gt;Date:&lt;/strong&gt; 2025-09-05&lt;/p&gt;             &lt;/div&gt;             &lt;/div&gt;`)[0];\n",
       "                popup_aee672d3c12dd882b162c33a62d08025.setContent(html_9015dfd0c637eb86d192487eed62844b);\n",
       "            \n",
       "        \n",
       "\n",
       "        circle_marker_aaebc76bbf0b2a40129f114edcc3d34e.bindPopup(popup_aee672d3c12dd882b162c33a62d08025)\n",
       "        ;\n",
       "\n",
       "        \n",
       "    \n",
       "    \n",
       "            circle_marker_aaebc76bbf0b2a40129f114edcc3d34e.bindTooltip(\n",
       "                `&lt;div&gt;\n",
       "                     Hotspot Risk: -0.4%\n",
       "                 &lt;/div&gt;`,\n",
       "                {\n",
       "  &quot;sticky&quot;: true,\n",
       "}\n",
       "            );\n",
       "        \n",
       "    \n",
       "            var circle_marker_ae3094df828f3796fdddd53198825afd = L.circleMarker(\n",
       "                [-25.81914067470389, -36.53829561694556],\n",
       "                {&quot;bubblingMouseEvents&quot;: true, &quot;color&quot;: &quot;black&quot;, &quot;dashArray&quot;: null, &quot;dashOffset&quot;: null, &quot;fill&quot;: true, &quot;fillColor&quot;: &quot;green&quot;, &quot;fillOpacity&quot;: 0.7, &quot;fillRule&quot;: &quot;evenodd&quot;, &quot;lineCap&quot;: &quot;round&quot;, &quot;lineJoin&quot;: &quot;round&quot;, &quot;opacity&quot;: 1.0, &quot;radius&quot;: 3, &quot;stroke&quot;: true, &quot;weight&quot;: 1}\n",
       "            ).addTo(map_0f194e2aaa6e0c52ce4a98779fb6afef);\n",
       "        \n",
       "    \n",
       "        var popup_486d916dd7c089c69efe45bf47ea6b55 = L.popup({\n",
       "  &quot;maxWidth&quot;: 250,\n",
       "});\n",
       "\n",
       "        \n",
       "            \n",
       "                var html_9f8ed240a85779da0722dc551726803a = $(`&lt;div id=&quot;html_9f8ed240a85779da0722dc551726803a&quot; style=&quot;width: 100.0%; height: 100.0%;&quot;&gt;             &lt;div style=&quot;width: 200px;&quot;&gt;                 &lt;h4&gt;Marine Monitoring Point&lt;/h4&gt;                 &lt;p&gt;&lt;strong&gt;Coordinates:&lt;/strong&gt; -25.819, -36.538&lt;/p&gt;                 &lt;p&gt;&lt;strong&gt;Hotspot Probability:&lt;/strong&gt; 4.5%&lt;/p&gt;                 &lt;p&gt;&lt;strong&gt;Concentration:&lt;/strong&gt; 19.80 particles/m³&lt;/p&gt;                 &lt;p&gt;&lt;strong&gt;Water Temp:&lt;/strong&gt; 16.3°C&lt;/p&gt;                 &lt;p&gt;&lt;strong&gt;Current Speed:&lt;/strong&gt; 3.1 m/s&lt;/p&gt;                 &lt;p&gt;&lt;strong&gt;Date:&lt;/strong&gt; 2025-09-13&lt;/p&gt;             &lt;/div&gt;             &lt;/div&gt;`)[0];\n",
       "                popup_486d916dd7c089c69efe45bf47ea6b55.setContent(html_9f8ed240a85779da0722dc551726803a);\n",
       "            \n",
       "        \n",
       "\n",
       "        circle_marker_ae3094df828f3796fdddd53198825afd.bindPopup(popup_486d916dd7c089c69efe45bf47ea6b55)\n",
       "        ;\n",
       "\n",
       "        \n",
       "    \n",
       "    \n",
       "            circle_marker_ae3094df828f3796fdddd53198825afd.bindTooltip(\n",
       "                `&lt;div&gt;\n",
       "                     Hotspot Risk: 4.5%\n",
       "                 &lt;/div&gt;`,\n",
       "                {\n",
       "  &quot;sticky&quot;: true,\n",
       "}\n",
       "            );\n",
       "        \n",
       "    \n",
       "            var circle_marker_50ed9bf312e13acd20ce42d4101a0f45 = L.circleMarker(\n",
       "                [-55.57356631745606, 41.70603529879793],\n",
       "                {&quot;bubblingMouseEvents&quot;: true, &quot;color&quot;: &quot;black&quot;, &quot;dashArray&quot;: null, &quot;dashOffset&quot;: null, &quot;fill&quot;: true, &quot;fillColor&quot;: &quot;green&quot;, &quot;fillOpacity&quot;: 0.7, &quot;fillRule&quot;: &quot;evenodd&quot;, &quot;lineCap&quot;: &quot;round&quot;, &quot;lineJoin&quot;: &quot;round&quot;, &quot;opacity&quot;: 1.0, &quot;radius&quot;: 3, &quot;stroke&quot;: true, &quot;weight&quot;: 1}\n",
       "            ).addTo(map_0f194e2aaa6e0c52ce4a98779fb6afef);\n",
       "        \n",
       "    \n",
       "        var popup_0d54bea3d534dcb6d511ab3d0fd9fa02 = L.popup({\n",
       "  &quot;maxWidth&quot;: 250,\n",
       "});\n",
       "\n",
       "        \n",
       "            \n",
       "                var html_72d6ae859762a0af965687b405ad02f5 = $(`&lt;div id=&quot;html_72d6ae859762a0af965687b405ad02f5&quot; style=&quot;width: 100.0%; height: 100.0%;&quot;&gt;             &lt;div style=&quot;width: 200px;&quot;&gt;                 &lt;h4&gt;Marine Monitoring Point&lt;/h4&gt;                 &lt;p&gt;&lt;strong&gt;Coordinates:&lt;/strong&gt; -55.574, 41.706&lt;/p&gt;                 &lt;p&gt;&lt;strong&gt;Hotspot Probability:&lt;/strong&gt; -2.0%&lt;/p&gt;                 &lt;p&gt;&lt;strong&gt;Concentration:&lt;/strong&gt; 4.08 particles/m³&lt;/p&gt;                 &lt;p&gt;&lt;strong&gt;Water Temp:&lt;/strong&gt; 7.7°C&lt;/p&gt;                 &lt;p&gt;&lt;strong&gt;Current Speed:&lt;/strong&gt; 4.4 m/s&lt;/p&gt;                 &lt;p&gt;&lt;strong&gt;Date:&lt;/strong&gt; 2025-04-07&lt;/p&gt;             &lt;/div&gt;             &lt;/div&gt;`)[0];\n",
       "                popup_0d54bea3d534dcb6d511ab3d0fd9fa02.setContent(html_72d6ae859762a0af965687b405ad02f5);\n",
       "            \n",
       "        \n",
       "\n",
       "        circle_marker_50ed9bf312e13acd20ce42d4101a0f45.bindPopup(popup_0d54bea3d534dcb6d511ab3d0fd9fa02)\n",
       "        ;\n",
       "\n",
       "        \n",
       "    \n",
       "    \n",
       "            circle_marker_50ed9bf312e13acd20ce42d4101a0f45.bindTooltip(\n",
       "                `&lt;div&gt;\n",
       "                     Hotspot Risk: -2.0%\n",
       "                 &lt;/div&gt;`,\n",
       "                {\n",
       "  &quot;sticky&quot;: true,\n",
       "}\n",
       "            );\n",
       "        \n",
       "    \n",
       "            var circle_marker_96b8f2fa2d59f2dbe27086053bb01266 = L.circleMarker(\n",
       "                [13.147720077587621, 48.63371431235177],\n",
       "                {&quot;bubblingMouseEvents&quot;: true, &quot;color&quot;: &quot;black&quot;, &quot;dashArray&quot;: null, &quot;dashOffset&quot;: null, &quot;fill&quot;: true, &quot;fillColor&quot;: &quot;yellow&quot;, &quot;fillOpacity&quot;: 0.7, &quot;fillRule&quot;: &quot;evenodd&quot;, &quot;lineCap&quot;: &quot;round&quot;, &quot;lineJoin&quot;: &quot;round&quot;, &quot;opacity&quot;: 1.0, &quot;radius&quot;: 4.447087699374584, &quot;stroke&quot;: true, &quot;weight&quot;: 1}\n",
       "            ).addTo(map_0f194e2aaa6e0c52ce4a98779fb6afef);\n",
       "        \n",
       "    \n",
       "        var popup_4ad5f281bbf0bd969b03fd71fba703ff = L.popup({\n",
       "  &quot;maxWidth&quot;: 250,\n",
       "});\n",
       "\n",
       "        \n",
       "            \n",
       "                var html_7f863431cc5c54fe96b3e4c9ab0e2daf = $(`&lt;div id=&quot;html_7f863431cc5c54fe96b3e4c9ab0e2daf&quot; style=&quot;width: 100.0%; height: 100.0%;&quot;&gt;             &lt;div style=&quot;width: 200px;&quot;&gt;                 &lt;h4&gt;Marine Monitoring Point&lt;/h4&gt;                 &lt;p&gt;&lt;strong&gt;Coordinates:&lt;/strong&gt; 13.148, 48.634&lt;/p&gt;                 &lt;p&gt;&lt;strong&gt;Hotspot Probability:&lt;/strong&gt; 29.6%&lt;/p&gt;                 &lt;p&gt;&lt;strong&gt;Concentration:&lt;/strong&gt; 9.18 particles/m³&lt;/p&gt;                 &lt;p&gt;&lt;strong&gt;Water Temp:&lt;/strong&gt; 14.9°C&lt;/p&gt;                 &lt;p&gt;&lt;strong&gt;Current Speed:&lt;/strong&gt; 8.4 m/s&lt;/p&gt;                 &lt;p&gt;&lt;strong&gt;Date:&lt;/strong&gt; 2025-02-23&lt;/p&gt;             &lt;/div&gt;             &lt;/div&gt;`)[0];\n",
       "                popup_4ad5f281bbf0bd969b03fd71fba703ff.setContent(html_7f863431cc5c54fe96b3e4c9ab0e2daf);\n",
       "            \n",
       "        \n",
       "\n",
       "        circle_marker_96b8f2fa2d59f2dbe27086053bb01266.bindPopup(popup_4ad5f281bbf0bd969b03fd71fba703ff)\n",
       "        ;\n",
       "\n",
       "        \n",
       "    \n",
       "    \n",
       "            circle_marker_96b8f2fa2d59f2dbe27086053bb01266.bindTooltip(\n",
       "                `&lt;div&gt;\n",
       "                     Hotspot Risk: 29.6%\n",
       "                 &lt;/div&gt;`,\n",
       "                {\n",
       "  &quot;sticky&quot;: true,\n",
       "}\n",
       "            );\n",
       "        \n",
       "    \n",
       "            var circle_marker_71f83e95123582a3e7e71d3b05fc21ef = L.circleMarker(\n",
       "                [0.32148278746337855, -163.69055648206398],\n",
       "                {&quot;bubblingMouseEvents&quot;: true, &quot;color&quot;: &quot;black&quot;, &quot;dashArray&quot;: null, &quot;dashOffset&quot;: null, &quot;fill&quot;: true, &quot;fillColor&quot;: &quot;green&quot;, &quot;fillOpacity&quot;: 0.7, &quot;fillRule&quot;: &quot;evenodd&quot;, &quot;lineCap&quot;: &quot;round&quot;, &quot;lineJoin&quot;: &quot;round&quot;, &quot;opacity&quot;: 1.0, &quot;radius&quot;: 3, &quot;stroke&quot;: true, &quot;weight&quot;: 1}\n",
       "            ).addTo(map_0f194e2aaa6e0c52ce4a98779fb6afef);\n",
       "        \n",
       "    \n",
       "        var popup_a39a64fd8afa81ed5700b0af0d4679ff = L.popup({\n",
       "  &quot;maxWidth&quot;: 250,\n",
       "});\n",
       "\n",
       "        \n",
       "            \n",
       "                var html_22fc1ac4a931282fcc2ed050e34f60a4 = $(`&lt;div id=&quot;html_22fc1ac4a931282fcc2ed050e34f60a4&quot; style=&quot;width: 100.0%; height: 100.0%;&quot;&gt;             &lt;div style=&quot;width: 200px;&quot;&gt;                 &lt;h4&gt;Marine Monitoring Point&lt;/h4&gt;                 &lt;p&gt;&lt;strong&gt;Coordinates:&lt;/strong&gt; 0.321, -163.691&lt;/p&gt;                 &lt;p&gt;&lt;strong&gt;Hotspot Probability:&lt;/strong&gt; 10.4%&lt;/p&gt;                 &lt;p&gt;&lt;strong&gt;Concentration:&lt;/strong&gt; 51.72 particles/m³&lt;/p&gt;                 &lt;p&gt;&lt;strong&gt;Water Temp:&lt;/strong&gt; 11.9°C&lt;/p&gt;                 &lt;p&gt;&lt;strong&gt;Current Speed:&lt;/strong&gt; 0.1 m/s&lt;/p&gt;                 &lt;p&gt;&lt;strong&gt;Date:&lt;/strong&gt; 2025-01-19&lt;/p&gt;             &lt;/div&gt;             &lt;/div&gt;`)[0];\n",
       "                popup_a39a64fd8afa81ed5700b0af0d4679ff.setContent(html_22fc1ac4a931282fcc2ed050e34f60a4);\n",
       "            \n",
       "        \n",
       "\n",
       "        circle_marker_71f83e95123582a3e7e71d3b05fc21ef.bindPopup(popup_a39a64fd8afa81ed5700b0af0d4679ff)\n",
       "        ;\n",
       "\n",
       "        \n",
       "    \n",
       "    \n",
       "            circle_marker_71f83e95123582a3e7e71d3b05fc21ef.bindTooltip(\n",
       "                `&lt;div&gt;\n",
       "                     Hotspot Risk: 10.4%\n",
       "                 &lt;/div&gt;`,\n",
       "                {\n",
       "  &quot;sticky&quot;: true,\n",
       "}\n",
       "            );\n",
       "        \n",
       "    \n",
       "            var circle_marker_6495c242dd472f2ebae4383e6382ac18 = L.circleMarker(\n",
       "                [-53.82254985000128, -45.13945873447036],\n",
       "                {&quot;bubblingMouseEvents&quot;: true, &quot;color&quot;: &quot;black&quot;, &quot;dashArray&quot;: null, &quot;dashOffset&quot;: null, &quot;fill&quot;: true, &quot;fillColor&quot;: &quot;green&quot;, &quot;fillOpacity&quot;: 0.7, &quot;fillRule&quot;: &quot;evenodd&quot;, &quot;lineCap&quot;: &quot;round&quot;, &quot;lineJoin&quot;: &quot;round&quot;, &quot;opacity&quot;: 1.0, &quot;radius&quot;: 3, &quot;stroke&quot;: true, &quot;weight&quot;: 1}\n",
       "            ).addTo(map_0f194e2aaa6e0c52ce4a98779fb6afef);\n",
       "        \n",
       "    \n",
       "        var popup_43adcbcadba970b8812da18daeb8b640 = L.popup({\n",
       "  &quot;maxWidth&quot;: 250,\n",
       "});\n",
       "\n",
       "        \n",
       "            \n",
       "                var html_b72a1a7021c1c16b9a3bfa882e3c662b = $(`&lt;div id=&quot;html_b72a1a7021c1c16b9a3bfa882e3c662b&quot; style=&quot;width: 100.0%; height: 100.0%;&quot;&gt;             &lt;div style=&quot;width: 200px;&quot;&gt;                 &lt;h4&gt;Marine Monitoring Point&lt;/h4&gt;                 &lt;p&gt;&lt;strong&gt;Coordinates:&lt;/strong&gt; -53.823, -45.139&lt;/p&gt;                 &lt;p&gt;&lt;strong&gt;Hotspot Probability:&lt;/strong&gt; 3.0%&lt;/p&gt;                 &lt;p&gt;&lt;strong&gt;Concentration:&lt;/strong&gt; 14.76 particles/m³&lt;/p&gt;                 &lt;p&gt;&lt;strong&gt;Water Temp:&lt;/strong&gt; 10.1°C&lt;/p&gt;                 &lt;p&gt;&lt;strong&gt;Current Speed:&lt;/strong&gt; 3.4 m/s&lt;/p&gt;                 &lt;p&gt;&lt;strong&gt;Date:&lt;/strong&gt; 2025-02-08&lt;/p&gt;             &lt;/div&gt;             &lt;/div&gt;`)[0];\n",
       "                popup_43adcbcadba970b8812da18daeb8b640.setContent(html_b72a1a7021c1c16b9a3bfa882e3c662b);\n",
       "            \n",
       "        \n",
       "\n",
       "        circle_marker_6495c242dd472f2ebae4383e6382ac18.bindPopup(popup_43adcbcadba970b8812da18daeb8b640)\n",
       "        ;\n",
       "\n",
       "        \n",
       "    \n",
       "    \n",
       "            circle_marker_6495c242dd472f2ebae4383e6382ac18.bindTooltip(\n",
       "                `&lt;div&gt;\n",
       "                     Hotspot Risk: 3.0%\n",
       "                 &lt;/div&gt;`,\n",
       "                {\n",
       "  &quot;sticky&quot;: true,\n",
       "}\n",
       "            );\n",
       "        \n",
       "    \n",
       "            var circle_marker_d002354b9c60bd169cb10a83bdaf4655 = L.circleMarker(\n",
       "                [-26.56242429160663, 45.309569657125095],\n",
       "                {&quot;bubblingMouseEvents&quot;: true, &quot;color&quot;: &quot;black&quot;, &quot;dashArray&quot;: null, &quot;dashOffset&quot;: null, &quot;fill&quot;: true, &quot;fillColor&quot;: &quot;green&quot;, &quot;fillOpacity&quot;: 0.7, &quot;fillRule&quot;: &quot;evenodd&quot;, &quot;lineCap&quot;: &quot;round&quot;, &quot;lineJoin&quot;: &quot;round&quot;, &quot;opacity&quot;: 1.0, &quot;radius&quot;: 3, &quot;stroke&quot;: true, &quot;weight&quot;: 1}\n",
       "            ).addTo(map_0f194e2aaa6e0c52ce4a98779fb6afef);\n",
       "        \n",
       "    \n",
       "        var popup_8d4ec3b5e463eb66ab17bbc453828aac = L.popup({\n",
       "  &quot;maxWidth&quot;: 250,\n",
       "});\n",
       "\n",
       "        \n",
       "            \n",
       "                var html_f74cfb63a9c0645775cf83d7d7dae8d7 = $(`&lt;div id=&quot;html_f74cfb63a9c0645775cf83d7d7dae8d7&quot; style=&quot;width: 100.0%; height: 100.0%;&quot;&gt;             &lt;div style=&quot;width: 200px;&quot;&gt;                 &lt;h4&gt;Marine Monitoring Point&lt;/h4&gt;                 &lt;p&gt;&lt;strong&gt;Coordinates:&lt;/strong&gt; -26.562, 45.310&lt;/p&gt;                 &lt;p&gt;&lt;strong&gt;Hotspot Probability:&lt;/strong&gt; 12.1%&lt;/p&gt;                 &lt;p&gt;&lt;strong&gt;Concentration:&lt;/strong&gt; 26.74 particles/m³&lt;/p&gt;                 &lt;p&gt;&lt;strong&gt;Water Temp:&lt;/strong&gt; 5.8°C&lt;/p&gt;                 &lt;p&gt;&lt;strong&gt;Current Speed:&lt;/strong&gt; 4.4 m/s&lt;/p&gt;                 &lt;p&gt;&lt;strong&gt;Date:&lt;/strong&gt; 2025-06-16&lt;/p&gt;             &lt;/div&gt;             &lt;/div&gt;`)[0];\n",
       "                popup_8d4ec3b5e463eb66ab17bbc453828aac.setContent(html_f74cfb63a9c0645775cf83d7d7dae8d7);\n",
       "            \n",
       "        \n",
       "\n",
       "        circle_marker_d002354b9c60bd169cb10a83bdaf4655.bindPopup(popup_8d4ec3b5e463eb66ab17bbc453828aac)\n",
       "        ;\n",
       "\n",
       "        \n",
       "    \n",
       "    \n",
       "            circle_marker_d002354b9c60bd169cb10a83bdaf4655.bindTooltip(\n",
       "                `&lt;div&gt;\n",
       "                     Hotspot Risk: 12.1%\n",
       "                 &lt;/div&gt;`,\n",
       "                {\n",
       "  &quot;sticky&quot;: true,\n",
       "}\n",
       "            );\n",
       "        \n",
       "    \n",
       "            var circle_marker_e8edd1ef2b8d966900e56e7fd42f16bb = L.circleMarker(\n",
       "                [48.99190631599844, 1.129053088831573],\n",
       "                {&quot;bubblingMouseEvents&quot;: true, &quot;color&quot;: &quot;black&quot;, &quot;dashArray&quot;: null, &quot;dashOffset&quot;: null, &quot;fill&quot;: true, &quot;fillColor&quot;: &quot;green&quot;, &quot;fillOpacity&quot;: 0.7, &quot;fillRule&quot;: &quot;evenodd&quot;, &quot;lineCap&quot;: &quot;round&quot;, &quot;lineJoin&quot;: &quot;round&quot;, &quot;opacity&quot;: 1.0, &quot;radius&quot;: 3, &quot;stroke&quot;: true, &quot;weight&quot;: 1}\n",
       "            ).addTo(map_0f194e2aaa6e0c52ce4a98779fb6afef);\n",
       "        \n",
       "    \n",
       "        var popup_beed89f7308a7d10590bc88166f47c6b = L.popup({\n",
       "  &quot;maxWidth&quot;: 250,\n",
       "});\n",
       "\n",
       "        \n",
       "            \n",
       "                var html_06c2cfe4e878a8755435407b209928d4 = $(`&lt;div id=&quot;html_06c2cfe4e878a8755435407b209928d4&quot; style=&quot;width: 100.0%; height: 100.0%;&quot;&gt;             &lt;div style=&quot;width: 200px;&quot;&gt;                 &lt;h4&gt;Marine Monitoring Point&lt;/h4&gt;                 &lt;p&gt;&lt;strong&gt;Coordinates:&lt;/strong&gt; 48.992, 1.129&lt;/p&gt;                 &lt;p&gt;&lt;strong&gt;Hotspot Probability:&lt;/strong&gt; 8.9%&lt;/p&gt;                 &lt;p&gt;&lt;strong&gt;Concentration:&lt;/strong&gt; 16.52 particles/m³&lt;/p&gt;                 &lt;p&gt;&lt;strong&gt;Water Temp:&lt;/strong&gt; 15.5°C&lt;/p&gt;                 &lt;p&gt;&lt;strong&gt;Current Speed:&lt;/strong&gt; 11.6 m/s&lt;/p&gt;                 &lt;p&gt;&lt;strong&gt;Date:&lt;/strong&gt; 2025-08-04&lt;/p&gt;             &lt;/div&gt;             &lt;/div&gt;`)[0];\n",
       "                popup_beed89f7308a7d10590bc88166f47c6b.setContent(html_06c2cfe4e878a8755435407b209928d4);\n",
       "            \n",
       "        \n",
       "\n",
       "        circle_marker_e8edd1ef2b8d966900e56e7fd42f16bb.bindPopup(popup_beed89f7308a7d10590bc88166f47c6b)\n",
       "        ;\n",
       "\n",
       "        \n",
       "    \n",
       "    \n",
       "            circle_marker_e8edd1ef2b8d966900e56e7fd42f16bb.bindTooltip(\n",
       "                `&lt;div&gt;\n",
       "                     Hotspot Risk: 8.9%\n",
       "                 &lt;/div&gt;`,\n",
       "                {\n",
       "  &quot;sticky&quot;: true,\n",
       "}\n",
       "            );\n",
       "        \n",
       "    \n",
       "            var circle_marker_4607dce0336d4bb4a18d393208b1e5ed = L.circleMarker(\n",
       "                [-31.25257311996331, 128.33634282779602],\n",
       "                {&quot;bubblingMouseEvents&quot;: true, &quot;color&quot;: &quot;black&quot;, &quot;dashArray&quot;: null, &quot;dashOffset&quot;: null, &quot;fill&quot;: true, &quot;fillColor&quot;: &quot;green&quot;, &quot;fillOpacity&quot;: 0.7, &quot;fillRule&quot;: &quot;evenodd&quot;, &quot;lineCap&quot;: &quot;round&quot;, &quot;lineJoin&quot;: &quot;round&quot;, &quot;opacity&quot;: 1.0, &quot;radius&quot;: 3, &quot;stroke&quot;: true, &quot;weight&quot;: 1}\n",
       "            ).addTo(map_0f194e2aaa6e0c52ce4a98779fb6afef);\n",
       "        \n",
       "    \n",
       "        var popup_79023ce772fb0e4a4cf5f14410a7fbcc = L.popup({\n",
       "  &quot;maxWidth&quot;: 250,\n",
       "});\n",
       "\n",
       "        \n",
       "            \n",
       "                var html_f087e04ca10f632817dfc8674ef34ef1 = $(`&lt;div id=&quot;html_f087e04ca10f632817dfc8674ef34ef1&quot; style=&quot;width: 100.0%; height: 100.0%;&quot;&gt;             &lt;div style=&quot;width: 200px;&quot;&gt;                 &lt;h4&gt;Marine Monitoring Point&lt;/h4&gt;                 &lt;p&gt;&lt;strong&gt;Coordinates:&lt;/strong&gt; -31.253, 128.336&lt;/p&gt;                 &lt;p&gt;&lt;strong&gt;Hotspot Probability:&lt;/strong&gt; 7.8%&lt;/p&gt;                 &lt;p&gt;&lt;strong&gt;Concentration:&lt;/strong&gt; 18.73 particles/m³&lt;/p&gt;                 &lt;p&gt;&lt;strong&gt;Water Temp:&lt;/strong&gt; 8.8°C&lt;/p&gt;                 &lt;p&gt;&lt;strong&gt;Current Speed:&lt;/strong&gt; 5.1 m/s&lt;/p&gt;                 &lt;p&gt;&lt;strong&gt;Date:&lt;/strong&gt; 2025-07-25&lt;/p&gt;             &lt;/div&gt;             &lt;/div&gt;`)[0];\n",
       "                popup_79023ce772fb0e4a4cf5f14410a7fbcc.setContent(html_f087e04ca10f632817dfc8674ef34ef1);\n",
       "            \n",
       "        \n",
       "\n",
       "        circle_marker_4607dce0336d4bb4a18d393208b1e5ed.bindPopup(popup_79023ce772fb0e4a4cf5f14410a7fbcc)\n",
       "        ;\n",
       "\n",
       "        \n",
       "    \n",
       "    \n",
       "            circle_marker_4607dce0336d4bb4a18d393208b1e5ed.bindTooltip(\n",
       "                `&lt;div&gt;\n",
       "                     Hotspot Risk: 7.8%\n",
       "                 &lt;/div&gt;`,\n",
       "                {\n",
       "  &quot;sticky&quot;: true,\n",
       "}\n",
       "            );\n",
       "        \n",
       "    \n",
       "            var circle_marker_5117869dd58f0c3652377dfe2805cb6f = L.circleMarker(\n",
       "                [-42.61261534905323, 57.1297073828202],\n",
       "                {&quot;bubblingMouseEvents&quot;: true, &quot;color&quot;: &quot;black&quot;, &quot;dashArray&quot;: null, &quot;dashOffset&quot;: null, &quot;fill&quot;: true, &quot;fillColor&quot;: &quot;green&quot;, &quot;fillOpacity&quot;: 0.7, &quot;fillRule&quot;: &quot;evenodd&quot;, &quot;lineCap&quot;: &quot;round&quot;, &quot;lineJoin&quot;: &quot;round&quot;, &quot;opacity&quot;: 1.0, &quot;radius&quot;: 3, &quot;stroke&quot;: true, &quot;weight&quot;: 1}\n",
       "            ).addTo(map_0f194e2aaa6e0c52ce4a98779fb6afef);\n",
       "        \n",
       "    \n",
       "        var popup_3e1d11982575d2238a30c4b2bbaf6418 = L.popup({\n",
       "  &quot;maxWidth&quot;: 250,\n",
       "});\n",
       "\n",
       "        \n",
       "            \n",
       "                var html_2fc3cfca91ed914bace5266645ec0607 = $(`&lt;div id=&quot;html_2fc3cfca91ed914bace5266645ec0607&quot; style=&quot;width: 100.0%; height: 100.0%;&quot;&gt;             &lt;div style=&quot;width: 200px;&quot;&gt;                 &lt;h4&gt;Marine Monitoring Point&lt;/h4&gt;                 &lt;p&gt;&lt;strong&gt;Coordinates:&lt;/strong&gt; -42.613, 57.130&lt;/p&gt;                 &lt;p&gt;&lt;strong&gt;Hotspot Probability:&lt;/strong&gt; 16.1%&lt;/p&gt;                 &lt;p&gt;&lt;strong&gt;Concentration:&lt;/strong&gt; 7.69 particles/m³&lt;/p&gt;                 &lt;p&gt;&lt;strong&gt;Water Temp:&lt;/strong&gt; 11.2°C&lt;/p&gt;                 &lt;p&gt;&lt;strong&gt;Current Speed:&lt;/strong&gt; 2.2 m/s&lt;/p&gt;                 &lt;p&gt;&lt;strong&gt;Date:&lt;/strong&gt; 2025-08-11&lt;/p&gt;             &lt;/div&gt;             &lt;/div&gt;`)[0];\n",
       "                popup_3e1d11982575d2238a30c4b2bbaf6418.setContent(html_2fc3cfca91ed914bace5266645ec0607);\n",
       "            \n",
       "        \n",
       "\n",
       "        circle_marker_5117869dd58f0c3652377dfe2805cb6f.bindPopup(popup_3e1d11982575d2238a30c4b2bbaf6418)\n",
       "        ;\n",
       "\n",
       "        \n",
       "    \n",
       "    \n",
       "            circle_marker_5117869dd58f0c3652377dfe2805cb6f.bindTooltip(\n",
       "                `&lt;div&gt;\n",
       "                     Hotspot Risk: 16.1%\n",
       "                 &lt;/div&gt;`,\n",
       "                {\n",
       "  &quot;sticky&quot;: true,\n",
       "}\n",
       "            );\n",
       "        \n",
       "    \n",
       "            var circle_marker_a440d1a281f2424418bee0508881deb7 = L.circleMarker(\n",
       "                [-1.2656687666924382, -121.34360625068531],\n",
       "                {&quot;bubblingMouseEvents&quot;: true, &quot;color&quot;: &quot;black&quot;, &quot;dashArray&quot;: null, &quot;dashOffset&quot;: null, &quot;fill&quot;: true, &quot;fillColor&quot;: &quot;green&quot;, &quot;fillOpacity&quot;: 0.7, &quot;fillRule&quot;: &quot;evenodd&quot;, &quot;lineCap&quot;: &quot;round&quot;, &quot;lineJoin&quot;: &quot;round&quot;, &quot;opacity&quot;: 1.0, &quot;radius&quot;: 3, &quot;stroke&quot;: true, &quot;weight&quot;: 1}\n",
       "            ).addTo(map_0f194e2aaa6e0c52ce4a98779fb6afef);\n",
       "        \n",
       "    \n",
       "        var popup_d6d6142878a9b2018bf4bff9f90ae622 = L.popup({\n",
       "  &quot;maxWidth&quot;: 250,\n",
       "});\n",
       "\n",
       "        \n",
       "            \n",
       "                var html_88942e108cee9455a4fc849c00a4c19e = $(`&lt;div id=&quot;html_88942e108cee9455a4fc849c00a4c19e&quot; style=&quot;width: 100.0%; height: 100.0%;&quot;&gt;             &lt;div style=&quot;width: 200px;&quot;&gt;                 &lt;h4&gt;Marine Monitoring Point&lt;/h4&gt;                 &lt;p&gt;&lt;strong&gt;Coordinates:&lt;/strong&gt; -1.266, -121.344&lt;/p&gt;                 &lt;p&gt;&lt;strong&gt;Hotspot Probability:&lt;/strong&gt; 17.6%&lt;/p&gt;                 &lt;p&gt;&lt;strong&gt;Concentration:&lt;/strong&gt; 7.47 particles/m³&lt;/p&gt;                 &lt;p&gt;&lt;strong&gt;Water Temp:&lt;/strong&gt; 23.6°C&lt;/p&gt;                 &lt;p&gt;&lt;strong&gt;Current Speed:&lt;/strong&gt; 2.3 m/s&lt;/p&gt;                 &lt;p&gt;&lt;strong&gt;Date:&lt;/strong&gt; 2025-07-26&lt;/p&gt;             &lt;/div&gt;             &lt;/div&gt;`)[0];\n",
       "                popup_d6d6142878a9b2018bf4bff9f90ae622.setContent(html_88942e108cee9455a4fc849c00a4c19e);\n",
       "            \n",
       "        \n",
       "\n",
       "        circle_marker_a440d1a281f2424418bee0508881deb7.bindPopup(popup_d6d6142878a9b2018bf4bff9f90ae622)\n",
       "        ;\n",
       "\n",
       "        \n",
       "    \n",
       "    \n",
       "            circle_marker_a440d1a281f2424418bee0508881deb7.bindTooltip(\n",
       "                `&lt;div&gt;\n",
       "                     Hotspot Risk: 17.6%\n",
       "                 &lt;/div&gt;`,\n",
       "                {\n",
       "  &quot;sticky&quot;: true,\n",
       "}\n",
       "            );\n",
       "        \n",
       "    \n",
       "            var circle_marker_73b8e5484d3ce74bfa6c4a0e38032649 = L.circleMarker(\n",
       "                [58.27805449327209, -154.59525093584526],\n",
       "                {&quot;bubblingMouseEvents&quot;: true, &quot;color&quot;: &quot;black&quot;, &quot;dashArray&quot;: null, &quot;dashOffset&quot;: null, &quot;fill&quot;: true, &quot;fillColor&quot;: &quot;green&quot;, &quot;fillOpacity&quot;: 0.7, &quot;fillRule&quot;: &quot;evenodd&quot;, &quot;lineCap&quot;: &quot;round&quot;, &quot;lineJoin&quot;: &quot;round&quot;, &quot;opacity&quot;: 1.0, &quot;radius&quot;: 3, &quot;stroke&quot;: true, &quot;weight&quot;: 1}\n",
       "            ).addTo(map_0f194e2aaa6e0c52ce4a98779fb6afef);\n",
       "        \n",
       "    \n",
       "        var popup_37232c27366cbe8492a439092a0eaef4 = L.popup({\n",
       "  &quot;maxWidth&quot;: 250,\n",
       "});\n",
       "\n",
       "        \n",
       "            \n",
       "                var html_38b1e5ceb062c1c1391f4f1c225ccb04 = $(`&lt;div id=&quot;html_38b1e5ceb062c1c1391f4f1c225ccb04&quot; style=&quot;width: 100.0%; height: 100.0%;&quot;&gt;             &lt;div style=&quot;width: 200px;&quot;&gt;                 &lt;h4&gt;Marine Monitoring Point&lt;/h4&gt;                 &lt;p&gt;&lt;strong&gt;Coordinates:&lt;/strong&gt; 58.278, -154.595&lt;/p&gt;                 &lt;p&gt;&lt;strong&gt;Hotspot Probability:&lt;/strong&gt; 4.7%&lt;/p&gt;                 &lt;p&gt;&lt;strong&gt;Concentration:&lt;/strong&gt; 9.65 particles/m³&lt;/p&gt;                 &lt;p&gt;&lt;strong&gt;Water Temp:&lt;/strong&gt; 20.1°C&lt;/p&gt;                 &lt;p&gt;&lt;strong&gt;Current Speed:&lt;/strong&gt; 2.1 m/s&lt;/p&gt;                 &lt;p&gt;&lt;strong&gt;Date:&lt;/strong&gt; 2024-12-24&lt;/p&gt;             &lt;/div&gt;             &lt;/div&gt;`)[0];\n",
       "                popup_37232c27366cbe8492a439092a0eaef4.setContent(html_38b1e5ceb062c1c1391f4f1c225ccb04);\n",
       "            \n",
       "        \n",
       "\n",
       "        circle_marker_73b8e5484d3ce74bfa6c4a0e38032649.bindPopup(popup_37232c27366cbe8492a439092a0eaef4)\n",
       "        ;\n",
       "\n",
       "        \n",
       "    \n",
       "    \n",
       "            circle_marker_73b8e5484d3ce74bfa6c4a0e38032649.bindTooltip(\n",
       "                `&lt;div&gt;\n",
       "                     Hotspot Risk: 4.7%\n",
       "                 &lt;/div&gt;`,\n",
       "                {\n",
       "  &quot;sticky&quot;: true,\n",
       "}\n",
       "            );\n",
       "        \n",
       "    \n",
       "            var circle_marker_489ae3aa511c1d459cb1f3450cc9555e = L.circleMarker(\n",
       "                [-30.95336741861995, 51.27094015427362],\n",
       "                {&quot;bubblingMouseEvents&quot;: true, &quot;color&quot;: &quot;black&quot;, &quot;dashArray&quot;: null, &quot;dashOffset&quot;: null, &quot;fill&quot;: true, &quot;fillColor&quot;: &quot;green&quot;, &quot;fillOpacity&quot;: 0.7, &quot;fillRule&quot;: &quot;evenodd&quot;, &quot;lineCap&quot;: &quot;round&quot;, &quot;lineJoin&quot;: &quot;round&quot;, &quot;opacity&quot;: 1.0, &quot;radius&quot;: 3, &quot;stroke&quot;: true, &quot;weight&quot;: 1}\n",
       "            ).addTo(map_0f194e2aaa6e0c52ce4a98779fb6afef);\n",
       "        \n",
       "    \n",
       "        var popup_13adec755a77064e8bbc71c0d7d644f6 = L.popup({\n",
       "  &quot;maxWidth&quot;: 250,\n",
       "});\n",
       "\n",
       "        \n",
       "            \n",
       "                var html_b3389e22a75b0dd6be893ccdb0e29f73 = $(`&lt;div id=&quot;html_b3389e22a75b0dd6be893ccdb0e29f73&quot; style=&quot;width: 100.0%; height: 100.0%;&quot;&gt;             &lt;div style=&quot;width: 200px;&quot;&gt;                 &lt;h4&gt;Marine Monitoring Point&lt;/h4&gt;                 &lt;p&gt;&lt;strong&gt;Coordinates:&lt;/strong&gt; -30.953, 51.271&lt;/p&gt;                 &lt;p&gt;&lt;strong&gt;Hotspot Probability:&lt;/strong&gt; 4.2%&lt;/p&gt;                 &lt;p&gt;&lt;strong&gt;Concentration:&lt;/strong&gt; 15.40 particles/m³&lt;/p&gt;                 &lt;p&gt;&lt;strong&gt;Water Temp:&lt;/strong&gt; 7.2°C&lt;/p&gt;                 &lt;p&gt;&lt;strong&gt;Current Speed:&lt;/strong&gt; 3.7 m/s&lt;/p&gt;                 &lt;p&gt;&lt;strong&gt;Date:&lt;/strong&gt; 2025-03-13&lt;/p&gt;             &lt;/div&gt;             &lt;/div&gt;`)[0];\n",
       "                popup_13adec755a77064e8bbc71c0d7d644f6.setContent(html_b3389e22a75b0dd6be893ccdb0e29f73);\n",
       "            \n",
       "        \n",
       "\n",
       "        circle_marker_489ae3aa511c1d459cb1f3450cc9555e.bindPopup(popup_13adec755a77064e8bbc71c0d7d644f6)\n",
       "        ;\n",
       "\n",
       "        \n",
       "    \n",
       "    \n",
       "            circle_marker_489ae3aa511c1d459cb1f3450cc9555e.bindTooltip(\n",
       "                `&lt;div&gt;\n",
       "                     Hotspot Risk: 4.2%\n",
       "                 &lt;/div&gt;`,\n",
       "                {\n",
       "  &quot;sticky&quot;: true,\n",
       "}\n",
       "            );\n",
       "        \n",
       "    \n",
       "            var circle_marker_bc964a5a19ae89d4b381ec76e3597f66 = L.circleMarker(\n",
       "                [20.656265688705425, -170.45592820501614],\n",
       "                {&quot;bubblingMouseEvents&quot;: true, &quot;color&quot;: &quot;black&quot;, &quot;dashArray&quot;: null, &quot;dashOffset&quot;: null, &quot;fill&quot;: true, &quot;fillColor&quot;: &quot;green&quot;, &quot;fillOpacity&quot;: 0.7, &quot;fillRule&quot;: &quot;evenodd&quot;, &quot;lineCap&quot;: &quot;round&quot;, &quot;lineJoin&quot;: &quot;round&quot;, &quot;opacity&quot;: 1.0, &quot;radius&quot;: 3, &quot;stroke&quot;: true, &quot;weight&quot;: 1}\n",
       "            ).addTo(map_0f194e2aaa6e0c52ce4a98779fb6afef);\n",
       "        \n",
       "    \n",
       "        var popup_94dffd472102da35be328a4603349b0e = L.popup({\n",
       "  &quot;maxWidth&quot;: 250,\n",
       "});\n",
       "\n",
       "        \n",
       "            \n",
       "                var html_273f336ee18c15f67312f95cc4aeadb9 = $(`&lt;div id=&quot;html_273f336ee18c15f67312f95cc4aeadb9&quot; style=&quot;width: 100.0%; height: 100.0%;&quot;&gt;             &lt;div style=&quot;width: 200px;&quot;&gt;                 &lt;h4&gt;Marine Monitoring Point&lt;/h4&gt;                 &lt;p&gt;&lt;strong&gt;Coordinates:&lt;/strong&gt; 20.656, -170.456&lt;/p&gt;                 &lt;p&gt;&lt;strong&gt;Hotspot Probability:&lt;/strong&gt; 7.2%&lt;/p&gt;                 &lt;p&gt;&lt;strong&gt;Concentration:&lt;/strong&gt; 5.57 particles/m³&lt;/p&gt;                 &lt;p&gt;&lt;strong&gt;Water Temp:&lt;/strong&gt; 17.8°C&lt;/p&gt;                 &lt;p&gt;&lt;strong&gt;Current Speed:&lt;/strong&gt; 5.5 m/s&lt;/p&gt;                 &lt;p&gt;&lt;strong&gt;Date:&lt;/strong&gt; 2024-10-27&lt;/p&gt;             &lt;/div&gt;             &lt;/div&gt;`)[0];\n",
       "                popup_94dffd472102da35be328a4603349b0e.setContent(html_273f336ee18c15f67312f95cc4aeadb9);\n",
       "            \n",
       "        \n",
       "\n",
       "        circle_marker_bc964a5a19ae89d4b381ec76e3597f66.bindPopup(popup_94dffd472102da35be328a4603349b0e)\n",
       "        ;\n",
       "\n",
       "        \n",
       "    \n",
       "    \n",
       "            circle_marker_bc964a5a19ae89d4b381ec76e3597f66.bindTooltip(\n",
       "                `&lt;div&gt;\n",
       "                     Hotspot Risk: 7.2%\n",
       "                 &lt;/div&gt;`,\n",
       "                {\n",
       "  &quot;sticky&quot;: true,\n",
       "}\n",
       "            );\n",
       "        \n",
       "    \n",
       "            var circle_marker_e05b720eb5edfb75c5107843dbc80c4e = L.circleMarker(\n",
       "                [31.39435383944611, 30.879209258446785],\n",
       "                {&quot;bubblingMouseEvents&quot;: true, &quot;color&quot;: &quot;black&quot;, &quot;dashArray&quot;: null, &quot;dashOffset&quot;: null, &quot;fill&quot;: true, &quot;fillColor&quot;: &quot;yellow&quot;, &quot;fillOpacity&quot;: 0.7, &quot;fillRule&quot;: &quot;evenodd&quot;, &quot;lineCap&quot;: &quot;round&quot;, &quot;lineJoin&quot;: &quot;round&quot;, &quot;opacity&quot;: 1.0, &quot;radius&quot;: 4.047118252896622, &quot;stroke&quot;: true, &quot;weight&quot;: 1}\n",
       "            ).addTo(map_0f194e2aaa6e0c52ce4a98779fb6afef);\n",
       "        \n",
       "    \n",
       "        var popup_9f667874659ba618ec8df5b502dfb8a3 = L.popup({\n",
       "  &quot;maxWidth&quot;: 250,\n",
       "});\n",
       "\n",
       "        \n",
       "            \n",
       "                var html_3eafd343969c187314cb3608dfd5d402 = $(`&lt;div id=&quot;html_3eafd343969c187314cb3608dfd5d402&quot; style=&quot;width: 100.0%; height: 100.0%;&quot;&gt;             &lt;div style=&quot;width: 200px;&quot;&gt;                 &lt;h4&gt;Marine Monitoring Point&lt;/h4&gt;                 &lt;p&gt;&lt;strong&gt;Coordinates:&lt;/strong&gt; 31.394, 30.879&lt;/p&gt;                 &lt;p&gt;&lt;strong&gt;Hotspot Probability:&lt;/strong&gt; 27.0%&lt;/p&gt;                 &lt;p&gt;&lt;strong&gt;Concentration:&lt;/strong&gt; 8.35 particles/m³&lt;/p&gt;                 &lt;p&gt;&lt;strong&gt;Water Temp:&lt;/strong&gt; 16.1°C&lt;/p&gt;                 &lt;p&gt;&lt;strong&gt;Current Speed:&lt;/strong&gt; 1.3 m/s&lt;/p&gt;                 &lt;p&gt;&lt;strong&gt;Date:&lt;/strong&gt; 2025-06-27&lt;/p&gt;             &lt;/div&gt;             &lt;/div&gt;`)[0];\n",
       "                popup_9f667874659ba618ec8df5b502dfb8a3.setContent(html_3eafd343969c187314cb3608dfd5d402);\n",
       "            \n",
       "        \n",
       "\n",
       "        circle_marker_e05b720eb5edfb75c5107843dbc80c4e.bindPopup(popup_9f667874659ba618ec8df5b502dfb8a3)\n",
       "        ;\n",
       "\n",
       "        \n",
       "    \n",
       "    \n",
       "            circle_marker_e05b720eb5edfb75c5107843dbc80c4e.bindTooltip(\n",
       "                `&lt;div&gt;\n",
       "                     Hotspot Risk: 27.0%\n",
       "                 &lt;/div&gt;`,\n",
       "                {\n",
       "  &quot;sticky&quot;: true,\n",
       "}\n",
       "            );\n",
       "        \n",
       "    \n",
       "            var circle_marker_44b3684f580f4f8b325cee75d93c4c35 = L.circleMarker(\n",
       "                [-31.48349472091204, 158.48288691298472],\n",
       "                {&quot;bubblingMouseEvents&quot;: true, &quot;color&quot;: &quot;black&quot;, &quot;dashArray&quot;: null, &quot;dashOffset&quot;: null, &quot;fill&quot;: true, &quot;fillColor&quot;: &quot;green&quot;, &quot;fillOpacity&quot;: 0.7, &quot;fillRule&quot;: &quot;evenodd&quot;, &quot;lineCap&quot;: &quot;round&quot;, &quot;lineJoin&quot;: &quot;round&quot;, &quot;opacity&quot;: 1.0, &quot;radius&quot;: 3, &quot;stroke&quot;: true, &quot;weight&quot;: 1}\n",
       "            ).addTo(map_0f194e2aaa6e0c52ce4a98779fb6afef);\n",
       "        \n",
       "    \n",
       "        var popup_1bc9534dff90602ce412bcccffa52360 = L.popup({\n",
       "  &quot;maxWidth&quot;: 250,\n",
       "});\n",
       "\n",
       "        \n",
       "            \n",
       "                var html_f2d07cfcab7275e7558e17ef548e58ed = $(`&lt;div id=&quot;html_f2d07cfcab7275e7558e17ef548e58ed&quot; style=&quot;width: 100.0%; height: 100.0%;&quot;&gt;             &lt;div style=&quot;width: 200px;&quot;&gt;                 &lt;h4&gt;Marine Monitoring Point&lt;/h4&gt;                 &lt;p&gt;&lt;strong&gt;Coordinates:&lt;/strong&gt; -31.483, 158.483&lt;/p&gt;                 &lt;p&gt;&lt;strong&gt;Hotspot Probability:&lt;/strong&gt; -5.2%&lt;/p&gt;                 &lt;p&gt;&lt;strong&gt;Concentration:&lt;/strong&gt; 5.42 particles/m³&lt;/p&gt;                 &lt;p&gt;&lt;strong&gt;Water Temp:&lt;/strong&gt; 28.6°C&lt;/p&gt;                 &lt;p&gt;&lt;strong&gt;Current Speed:&lt;/strong&gt; 4.2 m/s&lt;/p&gt;                 &lt;p&gt;&lt;strong&gt;Date:&lt;/strong&gt; 2025-09-11&lt;/p&gt;             &lt;/div&gt;             &lt;/div&gt;`)[0];\n",
       "                popup_1bc9534dff90602ce412bcccffa52360.setContent(html_f2d07cfcab7275e7558e17ef548e58ed);\n",
       "            \n",
       "        \n",
       "\n",
       "        circle_marker_44b3684f580f4f8b325cee75d93c4c35.bindPopup(popup_1bc9534dff90602ce412bcccffa52360)\n",
       "        ;\n",
       "\n",
       "        \n",
       "    \n",
       "    \n",
       "            circle_marker_44b3684f580f4f8b325cee75d93c4c35.bindTooltip(\n",
       "                `&lt;div&gt;\n",
       "                     Hotspot Risk: -5.2%\n",
       "                 &lt;/div&gt;`,\n",
       "                {\n",
       "  &quot;sticky&quot;: true,\n",
       "}\n",
       "            );\n",
       "        \n",
       "    \n",
       "            var circle_marker_8c2f81229d956737196608cc33788edd = L.circleMarker(\n",
       "                [27.38596183342315, 27.170704035316426],\n",
       "                {&quot;bubblingMouseEvents&quot;: true, &quot;color&quot;: &quot;black&quot;, &quot;dashArray&quot;: null, &quot;dashOffset&quot;: null, &quot;fill&quot;: true, &quot;fillColor&quot;: &quot;yellow&quot;, &quot;fillOpacity&quot;: 0.7, &quot;fillRule&quot;: &quot;evenodd&quot;, &quot;lineCap&quot;: &quot;round&quot;, &quot;lineJoin&quot;: &quot;round&quot;, &quot;opacity&quot;: 1.0, &quot;radius&quot;: 3.5503114011667867, &quot;stroke&quot;: true, &quot;weight&quot;: 1}\n",
       "            ).addTo(map_0f194e2aaa6e0c52ce4a98779fb6afef);\n",
       "        \n",
       "    \n",
       "        var popup_e9f3496ff70676990f0dc87b48855d1a = L.popup({\n",
       "  &quot;maxWidth&quot;: 250,\n",
       "});\n",
       "\n",
       "        \n",
       "            \n",
       "                var html_6a0f130efc6bc295ae04f59f745bfa61 = $(`&lt;div id=&quot;html_6a0f130efc6bc295ae04f59f745bfa61&quot; style=&quot;width: 100.0%; height: 100.0%;&quot;&gt;             &lt;div style=&quot;width: 200px;&quot;&gt;                 &lt;h4&gt;Marine Monitoring Point&lt;/h4&gt;                 &lt;p&gt;&lt;strong&gt;Coordinates:&lt;/strong&gt; 27.386, 27.171&lt;/p&gt;                 &lt;p&gt;&lt;strong&gt;Hotspot Probability:&lt;/strong&gt; 23.7%&lt;/p&gt;                 &lt;p&gt;&lt;strong&gt;Concentration:&lt;/strong&gt; 8.30 particles/m³&lt;/p&gt;                 &lt;p&gt;&lt;strong&gt;Water Temp:&lt;/strong&gt; 26.1°C&lt;/p&gt;                 &lt;p&gt;&lt;strong&gt;Current Speed:&lt;/strong&gt; 4.1 m/s&lt;/p&gt;                 &lt;p&gt;&lt;strong&gt;Date:&lt;/strong&gt; 2025-10-11&lt;/p&gt;             &lt;/div&gt;             &lt;/div&gt;`)[0];\n",
       "                popup_e9f3496ff70676990f0dc87b48855d1a.setContent(html_6a0f130efc6bc295ae04f59f745bfa61);\n",
       "            \n",
       "        \n",
       "\n",
       "        circle_marker_8c2f81229d956737196608cc33788edd.bindPopup(popup_e9f3496ff70676990f0dc87b48855d1a)\n",
       "        ;\n",
       "\n",
       "        \n",
       "    \n",
       "    \n",
       "            circle_marker_8c2f81229d956737196608cc33788edd.bindTooltip(\n",
       "                `&lt;div&gt;\n",
       "                     Hotspot Risk: 23.7%\n",
       "                 &lt;/div&gt;`,\n",
       "                {\n",
       "  &quot;sticky&quot;: true,\n",
       "}\n",
       "            );\n",
       "        \n",
       "    \n",
       "            var circle_marker_0dae75b6e0b29e4766c3c1b3955a7717 = L.circleMarker(\n",
       "                [-15.866024073689612, -40.258826565652114],\n",
       "                {&quot;bubblingMouseEvents&quot;: true, &quot;color&quot;: &quot;black&quot;, &quot;dashArray&quot;: null, &quot;dashOffset&quot;: null, &quot;fill&quot;: true, &quot;fillColor&quot;: &quot;yellow&quot;, &quot;fillOpacity&quot;: 0.7, &quot;fillRule&quot;: &quot;evenodd&quot;, &quot;lineCap&quot;: &quot;round&quot;, &quot;lineJoin&quot;: &quot;round&quot;, &quot;opacity&quot;: 1.0, &quot;radius&quot;: 3.9674515702519257, &quot;stroke&quot;: true, &quot;weight&quot;: 1}\n",
       "            ).addTo(map_0f194e2aaa6e0c52ce4a98779fb6afef);\n",
       "        \n",
       "    \n",
       "        var popup_ab0c87d71634bd06ee1ea73ee39058fb = L.popup({\n",
       "  &quot;maxWidth&quot;: 250,\n",
       "});\n",
       "\n",
       "        \n",
       "            \n",
       "                var html_e826b9b2dc5579452bf4af9f494e90f2 = $(`&lt;div id=&quot;html_e826b9b2dc5579452bf4af9f494e90f2&quot; style=&quot;width: 100.0%; height: 100.0%;&quot;&gt;             &lt;div style=&quot;width: 200px;&quot;&gt;                 &lt;h4&gt;Marine Monitoring Point&lt;/h4&gt;                 &lt;p&gt;&lt;strong&gt;Coordinates:&lt;/strong&gt; -15.866, -40.259&lt;/p&gt;                 &lt;p&gt;&lt;strong&gt;Hotspot Probability:&lt;/strong&gt; 26.4%&lt;/p&gt;                 &lt;p&gt;&lt;strong&gt;Concentration:&lt;/strong&gt; 2.11 particles/m³&lt;/p&gt;                 &lt;p&gt;&lt;strong&gt;Water Temp:&lt;/strong&gt; 2.7°C&lt;/p&gt;                 &lt;p&gt;&lt;strong&gt;Current Speed:&lt;/strong&gt; 3.0 m/s&lt;/p&gt;                 &lt;p&gt;&lt;strong&gt;Date:&lt;/strong&gt; 2024-11-23&lt;/p&gt;             &lt;/div&gt;             &lt;/div&gt;`)[0];\n",
       "                popup_ab0c87d71634bd06ee1ea73ee39058fb.setContent(html_e826b9b2dc5579452bf4af9f494e90f2);\n",
       "            \n",
       "        \n",
       "\n",
       "        circle_marker_0dae75b6e0b29e4766c3c1b3955a7717.bindPopup(popup_ab0c87d71634bd06ee1ea73ee39058fb)\n",
       "        ;\n",
       "\n",
       "        \n",
       "    \n",
       "    \n",
       "            circle_marker_0dae75b6e0b29e4766c3c1b3955a7717.bindTooltip(\n",
       "                `&lt;div&gt;\n",
       "                     Hotspot Risk: 26.4%\n",
       "                 &lt;/div&gt;`,\n",
       "                {\n",
       "  &quot;sticky&quot;: true,\n",
       "}\n",
       "            );\n",
       "        \n",
       "    \n",
       "            var circle_marker_c84246deb29f5bc820847ae4e2bae50e = L.circleMarker(\n",
       "                [15.876699671229538, 51.583758639247144],\n",
       "                {&quot;bubblingMouseEvents&quot;: true, &quot;color&quot;: &quot;black&quot;, &quot;dashArray&quot;: null, &quot;dashOffset&quot;: null, &quot;fill&quot;: true, &quot;fillColor&quot;: &quot;green&quot;, &quot;fillOpacity&quot;: 0.7, &quot;fillRule&quot;: &quot;evenodd&quot;, &quot;lineCap&quot;: &quot;round&quot;, &quot;lineJoin&quot;: &quot;round&quot;, &quot;opacity&quot;: 1.0, &quot;radius&quot;: 3, &quot;stroke&quot;: true, &quot;weight&quot;: 1}\n",
       "            ).addTo(map_0f194e2aaa6e0c52ce4a98779fb6afef);\n",
       "        \n",
       "    \n",
       "        var popup_d36b3e835bc303b6c7577c7ff1b63c78 = L.popup({\n",
       "  &quot;maxWidth&quot;: 250,\n",
       "});\n",
       "\n",
       "        \n",
       "            \n",
       "                var html_42caa22ed3b0c39b149455a3db781ce3 = $(`&lt;div id=&quot;html_42caa22ed3b0c39b149455a3db781ce3&quot; style=&quot;width: 100.0%; height: 100.0%;&quot;&gt;             &lt;div style=&quot;width: 200px;&quot;&gt;                 &lt;h4&gt;Marine Monitoring Point&lt;/h4&gt;                 &lt;p&gt;&lt;strong&gt;Coordinates:&lt;/strong&gt; 15.877, 51.584&lt;/p&gt;                 &lt;p&gt;&lt;strong&gt;Hotspot Probability:&lt;/strong&gt; 7.5%&lt;/p&gt;                 &lt;p&gt;&lt;strong&gt;Concentration:&lt;/strong&gt; 100.08 particles/m³&lt;/p&gt;                 &lt;p&gt;&lt;strong&gt;Water Temp:&lt;/strong&gt; 21.9°C&lt;/p&gt;                 &lt;p&gt;&lt;strong&gt;Current Speed:&lt;/strong&gt; 3.2 m/s&lt;/p&gt;                 &lt;p&gt;&lt;strong&gt;Date:&lt;/strong&gt; 2025-02-27&lt;/p&gt;             &lt;/div&gt;             &lt;/div&gt;`)[0];\n",
       "                popup_d36b3e835bc303b6c7577c7ff1b63c78.setContent(html_42caa22ed3b0c39b149455a3db781ce3);\n",
       "            \n",
       "        \n",
       "\n",
       "        circle_marker_c84246deb29f5bc820847ae4e2bae50e.bindPopup(popup_d36b3e835bc303b6c7577c7ff1b63c78)\n",
       "        ;\n",
       "\n",
       "        \n",
       "    \n",
       "    \n",
       "            circle_marker_c84246deb29f5bc820847ae4e2bae50e.bindTooltip(\n",
       "                `&lt;div&gt;\n",
       "                     Hotspot Risk: 7.5%\n",
       "                 &lt;/div&gt;`,\n",
       "                {\n",
       "  &quot;sticky&quot;: true,\n",
       "}\n",
       "            );\n",
       "        \n",
       "    \n",
       "            var circle_marker_4378b8344ae2365b5925af38d20ce1c0 = L.circleMarker(\n",
       "                [16.023565291307364, -15.028959423054014],\n",
       "                {&quot;bubblingMouseEvents&quot;: true, &quot;color&quot;: &quot;black&quot;, &quot;dashArray&quot;: null, &quot;dashOffset&quot;: null, &quot;fill&quot;: true, &quot;fillColor&quot;: &quot;orange&quot;, &quot;fillOpacity&quot;: 0.7, &quot;fillRule&quot;: &quot;evenodd&quot;, &quot;lineCap&quot;: &quot;round&quot;, &quot;lineJoin&quot;: &quot;round&quot;, &quot;opacity&quot;: 1.0, &quot;radius&quot;: 6.86483544458365, &quot;stroke&quot;: true, &quot;weight&quot;: 1}\n",
       "            ).addTo(map_0f194e2aaa6e0c52ce4a98779fb6afef);\n",
       "        \n",
       "    \n",
       "        var popup_344828ace02b93190add7fbc5b65c0d2 = L.popup({\n",
       "  &quot;maxWidth&quot;: 250,\n",
       "});\n",
       "\n",
       "        \n",
       "            \n",
       "                var html_cfe780e2ae18a74445ef57c8e361ef55 = $(`&lt;div id=&quot;html_cfe780e2ae18a74445ef57c8e361ef55&quot; style=&quot;width: 100.0%; height: 100.0%;&quot;&gt;             &lt;div style=&quot;width: 200px;&quot;&gt;                 &lt;h4&gt;Marine Monitoring Point&lt;/h4&gt;                 &lt;p&gt;&lt;strong&gt;Coordinates:&lt;/strong&gt; 16.024, -15.029&lt;/p&gt;                 &lt;p&gt;&lt;strong&gt;Hotspot Probability:&lt;/strong&gt; 45.8%&lt;/p&gt;                 &lt;p&gt;&lt;strong&gt;Concentration:&lt;/strong&gt; 3.55 particles/m³&lt;/p&gt;                 &lt;p&gt;&lt;strong&gt;Water Temp:&lt;/strong&gt; 25.1°C&lt;/p&gt;                 &lt;p&gt;&lt;strong&gt;Current Speed:&lt;/strong&gt; 1.3 m/s&lt;/p&gt;                 &lt;p&gt;&lt;strong&gt;Date:&lt;/strong&gt; 2025-05-04&lt;/p&gt;             &lt;/div&gt;             &lt;/div&gt;`)[0];\n",
       "                popup_344828ace02b93190add7fbc5b65c0d2.setContent(html_cfe780e2ae18a74445ef57c8e361ef55);\n",
       "            \n",
       "        \n",
       "\n",
       "        circle_marker_4378b8344ae2365b5925af38d20ce1c0.bindPopup(popup_344828ace02b93190add7fbc5b65c0d2)\n",
       "        ;\n",
       "\n",
       "        \n",
       "    \n",
       "    \n",
       "            circle_marker_4378b8344ae2365b5925af38d20ce1c0.bindTooltip(\n",
       "                `&lt;div&gt;\n",
       "                     Hotspot Risk: 45.8%\n",
       "                 &lt;/div&gt;`,\n",
       "                {\n",
       "  &quot;sticky&quot;: true,\n",
       "}\n",
       "            );\n",
       "        \n",
       "    \n",
       "            var circle_marker_be10d07d1bb5cd15362b43bf1d198e6f = L.circleMarker(\n",
       "                [4.292962088971017, 16.42204415373658],\n",
       "                {&quot;bubblingMouseEvents&quot;: true, &quot;color&quot;: &quot;black&quot;, &quot;dashArray&quot;: null, &quot;dashOffset&quot;: null, &quot;fill&quot;: true, &quot;fillColor&quot;: &quot;orange&quot;, &quot;fillOpacity&quot;: 0.7, &quot;fillRule&quot;: &quot;evenodd&quot;, &quot;lineCap&quot;: &quot;round&quot;, &quot;lineJoin&quot;: &quot;round&quot;, &quot;opacity&quot;: 1.0, &quot;radius&quot;: 6.466875231815304, &quot;stroke&quot;: true, &quot;weight&quot;: 1}\n",
       "            ).addTo(map_0f194e2aaa6e0c52ce4a98779fb6afef);\n",
       "        \n",
       "    \n",
       "        var popup_ed7fbd818f886f2b9d8ffb1dec45b946 = L.popup({\n",
       "  &quot;maxWidth&quot;: 250,\n",
       "});\n",
       "\n",
       "        \n",
       "            \n",
       "                var html_b918b407b718680c5cf67652d3cffe66 = $(`&lt;div id=&quot;html_b918b407b718680c5cf67652d3cffe66&quot; style=&quot;width: 100.0%; height: 100.0%;&quot;&gt;             &lt;div style=&quot;width: 200px;&quot;&gt;                 &lt;h4&gt;Marine Monitoring Point&lt;/h4&gt;                 &lt;p&gt;&lt;strong&gt;Coordinates:&lt;/strong&gt; 4.293, 16.422&lt;/p&gt;                 &lt;p&gt;&lt;strong&gt;Hotspot Probability:&lt;/strong&gt; 43.1%&lt;/p&gt;                 &lt;p&gt;&lt;strong&gt;Concentration:&lt;/strong&gt; 5.15 particles/m³&lt;/p&gt;                 &lt;p&gt;&lt;strong&gt;Water Temp:&lt;/strong&gt; 19.5°C&lt;/p&gt;                 &lt;p&gt;&lt;strong&gt;Current Speed:&lt;/strong&gt; 4.0 m/s&lt;/p&gt;                 &lt;p&gt;&lt;strong&gt;Date:&lt;/strong&gt; 2024-11-08&lt;/p&gt;             &lt;/div&gt;             &lt;/div&gt;`)[0];\n",
       "                popup_ed7fbd818f886f2b9d8ffb1dec45b946.setContent(html_b918b407b718680c5cf67652d3cffe66);\n",
       "            \n",
       "        \n",
       "\n",
       "        circle_marker_be10d07d1bb5cd15362b43bf1d198e6f.bindPopup(popup_ed7fbd818f886f2b9d8ffb1dec45b946)\n",
       "        ;\n",
       "\n",
       "        \n",
       "    \n",
       "    \n",
       "            circle_marker_be10d07d1bb5cd15362b43bf1d198e6f.bindTooltip(\n",
       "                `&lt;div&gt;\n",
       "                     Hotspot Risk: 43.1%\n",
       "                 &lt;/div&gt;`,\n",
       "                {\n",
       "  &quot;sticky&quot;: true,\n",
       "}\n",
       "            );\n",
       "        \n",
       "    \n",
       "            var circle_marker_0af2c7fcc32797b144f4549d615e2c12 = L.circleMarker(\n",
       "                [-49.165227593471, 158.92733115954906],\n",
       "                {&quot;bubblingMouseEvents&quot;: true, &quot;color&quot;: &quot;black&quot;, &quot;dashArray&quot;: null, &quot;dashOffset&quot;: null, &quot;fill&quot;: true, &quot;fillColor&quot;: &quot;orange&quot;, &quot;fillOpacity&quot;: 0.7, &quot;fillRule&quot;: &quot;evenodd&quot;, &quot;lineCap&quot;: &quot;round&quot;, &quot;lineJoin&quot;: &quot;round&quot;, &quot;opacity&quot;: 1.0, &quot;radius&quot;: 6.118321212682856, &quot;stroke&quot;: true, &quot;weight&quot;: 1}\n",
       "            ).addTo(map_0f194e2aaa6e0c52ce4a98779fb6afef);\n",
       "        \n",
       "    \n",
       "        var popup_a33e61dd6d1a76bb3222e1fa7fad65e4 = L.popup({\n",
       "  &quot;maxWidth&quot;: 250,\n",
       "});\n",
       "\n",
       "        \n",
       "            \n",
       "                var html_28c07d27613b52840fb368cbfa1aa468 = $(`&lt;div id=&quot;html_28c07d27613b52840fb368cbfa1aa468&quot; style=&quot;width: 100.0%; height: 100.0%;&quot;&gt;             &lt;div style=&quot;width: 200px;&quot;&gt;                 &lt;h4&gt;Marine Monitoring Point&lt;/h4&gt;                 &lt;p&gt;&lt;strong&gt;Coordinates:&lt;/strong&gt; -49.165, 158.927&lt;/p&gt;                 &lt;p&gt;&lt;strong&gt;Hotspot Probability:&lt;/strong&gt; 40.8%&lt;/p&gt;                 &lt;p&gt;&lt;strong&gt;Concentration:&lt;/strong&gt; 3.26 particles/m³&lt;/p&gt;                 &lt;p&gt;&lt;strong&gt;Water Temp:&lt;/strong&gt; 12.3°C&lt;/p&gt;                 &lt;p&gt;&lt;strong&gt;Current Speed:&lt;/strong&gt; 1.4 m/s&lt;/p&gt;                 &lt;p&gt;&lt;strong&gt;Date:&lt;/strong&gt; 2025-08-15&lt;/p&gt;             &lt;/div&gt;             &lt;/div&gt;`)[0];\n",
       "                popup_a33e61dd6d1a76bb3222e1fa7fad65e4.setContent(html_28c07d27613b52840fb368cbfa1aa468);\n",
       "            \n",
       "        \n",
       "\n",
       "        circle_marker_0af2c7fcc32797b144f4549d615e2c12.bindPopup(popup_a33e61dd6d1a76bb3222e1fa7fad65e4)\n",
       "        ;\n",
       "\n",
       "        \n",
       "    \n",
       "    \n",
       "            circle_marker_0af2c7fcc32797b144f4549d615e2c12.bindTooltip(\n",
       "                `&lt;div&gt;\n",
       "                     Hotspot Risk: 40.8%\n",
       "                 &lt;/div&gt;`,\n",
       "                {\n",
       "  &quot;sticky&quot;: true,\n",
       "}\n",
       "            );\n",
       "        \n",
       "    \n",
       "            var circle_marker_6a2271169488f409364356b2217d216b = L.circleMarker(\n",
       "                [40.23629947070856, -41.00305039172127],\n",
       "                {&quot;bubblingMouseEvents&quot;: true, &quot;color&quot;: &quot;black&quot;, &quot;dashArray&quot;: null, &quot;dashOffset&quot;: null, &quot;fill&quot;: true, &quot;fillColor&quot;: &quot;red&quot;, &quot;fillOpacity&quot;: 0.7, &quot;fillRule&quot;: &quot;evenodd&quot;, &quot;lineCap&quot;: &quot;round&quot;, &quot;lineJoin&quot;: &quot;round&quot;, &quot;opacity&quot;: 1.0, &quot;radius&quot;: 10.679362367151864, &quot;stroke&quot;: true, &quot;weight&quot;: 1}\n",
       "            ).addTo(map_0f194e2aaa6e0c52ce4a98779fb6afef);\n",
       "        \n",
       "    \n",
       "        var popup_06f62e2c75b50963436ac8f9e7d21acc = L.popup({\n",
       "  &quot;maxWidth&quot;: 250,\n",
       "});\n",
       "\n",
       "        \n",
       "            \n",
       "                var html_67561c23670a09f82cc5f7923b7ccc0c = $(`&lt;div id=&quot;html_67561c23670a09f82cc5f7923b7ccc0c&quot; style=&quot;width: 100.0%; height: 100.0%;&quot;&gt;             &lt;div style=&quot;width: 200px;&quot;&gt;                 &lt;h4&gt;Marine Monitoring Point&lt;/h4&gt;                 &lt;p&gt;&lt;strong&gt;Coordinates:&lt;/strong&gt; 40.236, -41.003&lt;/p&gt;                 &lt;p&gt;&lt;strong&gt;Hotspot Probability:&lt;/strong&gt; 71.2%&lt;/p&gt;                 &lt;p&gt;&lt;strong&gt;Concentration:&lt;/strong&gt; 13.68 particles/m³&lt;/p&gt;                 &lt;p&gt;&lt;strong&gt;Water Temp:&lt;/strong&gt; 34.3°C&lt;/p&gt;                 &lt;p&gt;&lt;strong&gt;Current Speed:&lt;/strong&gt; 5.6 m/s&lt;/p&gt;                 &lt;p&gt;&lt;strong&gt;Date:&lt;/strong&gt; 2025-09-27&lt;/p&gt;             &lt;/div&gt;             &lt;/div&gt;`)[0];\n",
       "                popup_06f62e2c75b50963436ac8f9e7d21acc.setContent(html_67561c23670a09f82cc5f7923b7ccc0c);\n",
       "            \n",
       "        \n",
       "\n",
       "        circle_marker_6a2271169488f409364356b2217d216b.bindPopup(popup_06f62e2c75b50963436ac8f9e7d21acc)\n",
       "        ;\n",
       "\n",
       "        \n",
       "    \n",
       "    \n",
       "            circle_marker_6a2271169488f409364356b2217d216b.bindTooltip(\n",
       "                `&lt;div&gt;\n",
       "                     Hotspot Risk: 71.2%\n",
       "                 &lt;/div&gt;`,\n",
       "                {\n",
       "  &quot;sticky&quot;: true,\n",
       "}\n",
       "            );\n",
       "        \n",
       "    \n",
       "            var circle_marker_31c5692be297359d5bf06acaf34627b0 = L.circleMarker(\n",
       "                [-21.506392203391698, 166.0286029766091],\n",
       "                {&quot;bubblingMouseEvents&quot;: true, &quot;color&quot;: &quot;black&quot;, &quot;dashArray&quot;: null, &quot;dashOffset&quot;: null, &quot;fill&quot;: true, &quot;fillColor&quot;: &quot;yellow&quot;, &quot;fillOpacity&quot;: 0.7, &quot;fillRule&quot;: &quot;evenodd&quot;, &quot;lineCap&quot;: &quot;round&quot;, &quot;lineJoin&quot;: &quot;round&quot;, &quot;opacity&quot;: 1.0, &quot;radius&quot;: 5.80812361277885, &quot;stroke&quot;: true, &quot;weight&quot;: 1}\n",
       "            ).addTo(map_0f194e2aaa6e0c52ce4a98779fb6afef);\n",
       "        \n",
       "    \n",
       "        var popup_24fa0123114f7ba177ce5a61998f31ce = L.popup({\n",
       "  &quot;maxWidth&quot;: 250,\n",
       "});\n",
       "\n",
       "        \n",
       "            \n",
       "                var html_e9eced5747ce520506553466a615187c = $(`&lt;div id=&quot;html_e9eced5747ce520506553466a615187c&quot; style=&quot;width: 100.0%; height: 100.0%;&quot;&gt;             &lt;div style=&quot;width: 200px;&quot;&gt;                 &lt;h4&gt;Marine Monitoring Point&lt;/h4&gt;                 &lt;p&gt;&lt;strong&gt;Coordinates:&lt;/strong&gt; -21.506, 166.029&lt;/p&gt;                 &lt;p&gt;&lt;strong&gt;Hotspot Probability:&lt;/strong&gt; 38.7%&lt;/p&gt;                 &lt;p&gt;&lt;strong&gt;Concentration:&lt;/strong&gt; 6.07 particles/m³&lt;/p&gt;                 &lt;p&gt;&lt;strong&gt;Water Temp:&lt;/strong&gt; 20.2°C&lt;/p&gt;                 &lt;p&gt;&lt;strong&gt;Current Speed:&lt;/strong&gt; 2.3 m/s&lt;/p&gt;                 &lt;p&gt;&lt;strong&gt;Date:&lt;/strong&gt; 2025-08-14&lt;/p&gt;             &lt;/div&gt;             &lt;/div&gt;`)[0];\n",
       "                popup_24fa0123114f7ba177ce5a61998f31ce.setContent(html_e9eced5747ce520506553466a615187c);\n",
       "            \n",
       "        \n",
       "\n",
       "        circle_marker_31c5692be297359d5bf06acaf34627b0.bindPopup(popup_24fa0123114f7ba177ce5a61998f31ce)\n",
       "        ;\n",
       "\n",
       "        \n",
       "    \n",
       "    \n",
       "            circle_marker_31c5692be297359d5bf06acaf34627b0.bindTooltip(\n",
       "                `&lt;div&gt;\n",
       "                     Hotspot Risk: 38.7%\n",
       "                 &lt;/div&gt;`,\n",
       "                {\n",
       "  &quot;sticky&quot;: true,\n",
       "}\n",
       "            );\n",
       "        \n",
       "    \n",
       "            var circle_marker_612c137f2208a482c1766b153edc0212 = L.circleMarker(\n",
       "                [-37.61777875201749, 145.92623110418293],\n",
       "                {&quot;bubblingMouseEvents&quot;: true, &quot;color&quot;: &quot;black&quot;, &quot;dashArray&quot;: null, &quot;dashOffset&quot;: null, &quot;fill&quot;: true, &quot;fillColor&quot;: &quot;green&quot;, &quot;fillOpacity&quot;: 0.7, &quot;fillRule&quot;: &quot;evenodd&quot;, &quot;lineCap&quot;: &quot;round&quot;, &quot;lineJoin&quot;: &quot;round&quot;, &quot;opacity&quot;: 1.0, &quot;radius&quot;: 3, &quot;stroke&quot;: true, &quot;weight&quot;: 1}\n",
       "            ).addTo(map_0f194e2aaa6e0c52ce4a98779fb6afef);\n",
       "        \n",
       "    \n",
       "        var popup_df2a71eef8966dc1369399dded499350 = L.popup({\n",
       "  &quot;maxWidth&quot;: 250,\n",
       "});\n",
       "\n",
       "        \n",
       "            \n",
       "                var html_b1f2c19a265c22b0326232309828ef70 = $(`&lt;div id=&quot;html_b1f2c19a265c22b0326232309828ef70&quot; style=&quot;width: 100.0%; height: 100.0%;&quot;&gt;             &lt;div style=&quot;width: 200px;&quot;&gt;                 &lt;h4&gt;Marine Monitoring Point&lt;/h4&gt;                 &lt;p&gt;&lt;strong&gt;Coordinates:&lt;/strong&gt; -37.618, 145.926&lt;/p&gt;                 &lt;p&gt;&lt;strong&gt;Hotspot Probability:&lt;/strong&gt; 0.4%&lt;/p&gt;                 &lt;p&gt;&lt;strong&gt;Concentration:&lt;/strong&gt; 2.82 particles/m³&lt;/p&gt;                 &lt;p&gt;&lt;strong&gt;Water Temp:&lt;/strong&gt; 30.8°C&lt;/p&gt;                 &lt;p&gt;&lt;strong&gt;Current Speed:&lt;/strong&gt; 0.6 m/s&lt;/p&gt;                 &lt;p&gt;&lt;strong&gt;Date:&lt;/strong&gt; 2025-10-14&lt;/p&gt;             &lt;/div&gt;             &lt;/div&gt;`)[0];\n",
       "                popup_df2a71eef8966dc1369399dded499350.setContent(html_b1f2c19a265c22b0326232309828ef70);\n",
       "            \n",
       "        \n",
       "\n",
       "        circle_marker_612c137f2208a482c1766b153edc0212.bindPopup(popup_df2a71eef8966dc1369399dded499350)\n",
       "        ;\n",
       "\n",
       "        \n",
       "    \n",
       "    \n",
       "            circle_marker_612c137f2208a482c1766b153edc0212.bindTooltip(\n",
       "                `&lt;div&gt;\n",
       "                     Hotspot Risk: 0.4%\n",
       "                 &lt;/div&gt;`,\n",
       "                {\n",
       "  &quot;sticky&quot;: true,\n",
       "}\n",
       "            );\n",
       "        \n",
       "    \n",
       "            var circle_marker_fc78ab53fb95448d19e94243854a9f98 = L.circleMarker(\n",
       "                [-55.106983013428334, -109.51519147585329],\n",
       "                {&quot;bubblingMouseEvents&quot;: true, &quot;color&quot;: &quot;black&quot;, &quot;dashArray&quot;: null, &quot;dashOffset&quot;: null, &quot;fill&quot;: true, &quot;fillColor&quot;: &quot;green&quot;, &quot;fillOpacity&quot;: 0.7, &quot;fillRule&quot;: &quot;evenodd&quot;, &quot;lineCap&quot;: &quot;round&quot;, &quot;lineJoin&quot;: &quot;round&quot;, &quot;opacity&quot;: 1.0, &quot;radius&quot;: 3, &quot;stroke&quot;: true, &quot;weight&quot;: 1}\n",
       "            ).addTo(map_0f194e2aaa6e0c52ce4a98779fb6afef);\n",
       "        \n",
       "    \n",
       "        var popup_e513b1b0b9abbd8362c62763a071b31c = L.popup({\n",
       "  &quot;maxWidth&quot;: 250,\n",
       "});\n",
       "\n",
       "        \n",
       "            \n",
       "                var html_d66b538b50e4e6dd33b17710839b81b1 = $(`&lt;div id=&quot;html_d66b538b50e4e6dd33b17710839b81b1&quot; style=&quot;width: 100.0%; height: 100.0%;&quot;&gt;             &lt;div style=&quot;width: 200px;&quot;&gt;                 &lt;h4&gt;Marine Monitoring Point&lt;/h4&gt;                 &lt;p&gt;&lt;strong&gt;Coordinates:&lt;/strong&gt; -55.107, -109.515&lt;/p&gt;                 &lt;p&gt;&lt;strong&gt;Hotspot Probability:&lt;/strong&gt; -6.1%&lt;/p&gt;                 &lt;p&gt;&lt;strong&gt;Concentration:&lt;/strong&gt; 14.25 particles/m³&lt;/p&gt;                 &lt;p&gt;&lt;strong&gt;Water Temp:&lt;/strong&gt; 25.8°C&lt;/p&gt;                 &lt;p&gt;&lt;strong&gt;Current Speed:&lt;/strong&gt; 7.7 m/s&lt;/p&gt;                 &lt;p&gt;&lt;strong&gt;Date:&lt;/strong&gt; 2025-05-22&lt;/p&gt;             &lt;/div&gt;             &lt;/div&gt;`)[0];\n",
       "                popup_e513b1b0b9abbd8362c62763a071b31c.setContent(html_d66b538b50e4e6dd33b17710839b81b1);\n",
       "            \n",
       "        \n",
       "\n",
       "        circle_marker_fc78ab53fb95448d19e94243854a9f98.bindPopup(popup_e513b1b0b9abbd8362c62763a071b31c)\n",
       "        ;\n",
       "\n",
       "        \n",
       "    \n",
       "    \n",
       "            circle_marker_fc78ab53fb95448d19e94243854a9f98.bindTooltip(\n",
       "                `&lt;div&gt;\n",
       "                     Hotspot Risk: -6.1%\n",
       "                 &lt;/div&gt;`,\n",
       "                {\n",
       "  &quot;sticky&quot;: true,\n",
       "}\n",
       "            );\n",
       "        \n",
       "    \n",
       "            var circle_marker_03f6fdc78cb39a634d37f886aea96950 = L.circleMarker(\n",
       "                [10.907153182589017, -155.02993168494044],\n",
       "                {&quot;bubblingMouseEvents&quot;: true, &quot;color&quot;: &quot;black&quot;, &quot;dashArray&quot;: null, &quot;dashOffset&quot;: null, &quot;fill&quot;: true, &quot;fillColor&quot;: &quot;green&quot;, &quot;fillOpacity&quot;: 0.7, &quot;fillRule&quot;: &quot;evenodd&quot;, &quot;lineCap&quot;: &quot;round&quot;, &quot;lineJoin&quot;: &quot;round&quot;, &quot;opacity&quot;: 1.0, &quot;radius&quot;: 3, &quot;stroke&quot;: true, &quot;weight&quot;: 1}\n",
       "            ).addTo(map_0f194e2aaa6e0c52ce4a98779fb6afef);\n",
       "        \n",
       "    \n",
       "        var popup_3670196d7a5cc6cc6749aa8e09e5e733 = L.popup({\n",
       "  &quot;maxWidth&quot;: 250,\n",
       "});\n",
       "\n",
       "        \n",
       "            \n",
       "                var html_d84091603af8a90515224f6973e0a27e = $(`&lt;div id=&quot;html_d84091603af8a90515224f6973e0a27e&quot; style=&quot;width: 100.0%; height: 100.0%;&quot;&gt;             &lt;div style=&quot;width: 200px;&quot;&gt;                 &lt;h4&gt;Marine Monitoring Point&lt;/h4&gt;                 &lt;p&gt;&lt;strong&gt;Coordinates:&lt;/strong&gt; 10.907, -155.030&lt;/p&gt;                 &lt;p&gt;&lt;strong&gt;Hotspot Probability:&lt;/strong&gt; 12.0%&lt;/p&gt;                 &lt;p&gt;&lt;strong&gt;Concentration:&lt;/strong&gt; 16.31 particles/m³&lt;/p&gt;                 &lt;p&gt;&lt;strong&gt;Water Temp:&lt;/strong&gt; 18.7°C&lt;/p&gt;                 &lt;p&gt;&lt;strong&gt;Current Speed:&lt;/strong&gt; 2.1 m/s&lt;/p&gt;                 &lt;p&gt;&lt;strong&gt;Date:&lt;/strong&gt; 2025-03-06&lt;/p&gt;             &lt;/div&gt;             &lt;/div&gt;`)[0];\n",
       "                popup_3670196d7a5cc6cc6749aa8e09e5e733.setContent(html_d84091603af8a90515224f6973e0a27e);\n",
       "            \n",
       "        \n",
       "\n",
       "        circle_marker_03f6fdc78cb39a634d37f886aea96950.bindPopup(popup_3670196d7a5cc6cc6749aa8e09e5e733)\n",
       "        ;\n",
       "\n",
       "        \n",
       "    \n",
       "    \n",
       "            circle_marker_03f6fdc78cb39a634d37f886aea96950.bindTooltip(\n",
       "                `&lt;div&gt;\n",
       "                     Hotspot Risk: 12.0%\n",
       "                 &lt;/div&gt;`,\n",
       "                {\n",
       "  &quot;sticky&quot;: true,\n",
       "}\n",
       "            );\n",
       "        \n",
       "    \n",
       "            var circle_marker_27b4fd196d0500c1fcdafac04f4e1c05 = L.circleMarker(\n",
       "                [21.307723421073888, -143.7199195041264],\n",
       "                {&quot;bubblingMouseEvents&quot;: true, &quot;color&quot;: &quot;black&quot;, &quot;dashArray&quot;: null, &quot;dashOffset&quot;: null, &quot;fill&quot;: true, &quot;fillColor&quot;: &quot;red&quot;, &quot;fillOpacity&quot;: 0.7, &quot;fillRule&quot;: &quot;evenodd&quot;, &quot;lineCap&quot;: &quot;round&quot;, &quot;lineJoin&quot;: &quot;round&quot;, &quot;opacity&quot;: 1.0, &quot;radius&quot;: 9.365473882073545, &quot;stroke&quot;: true, &quot;weight&quot;: 1}\n",
       "            ).addTo(map_0f194e2aaa6e0c52ce4a98779fb6afef);\n",
       "        \n",
       "    \n",
       "        var popup_0b10d7079ef82a0eb6fb13157e7833dc = L.popup({\n",
       "  &quot;maxWidth&quot;: 250,\n",
       "});\n",
       "\n",
       "        \n",
       "            \n",
       "                var html_0f4f84461ba6f75544b4cf52f33e2ada = $(`&lt;div id=&quot;html_0f4f84461ba6f75544b4cf52f33e2ada&quot; style=&quot;width: 100.0%; height: 100.0%;&quot;&gt;             &lt;div style=&quot;width: 200px;&quot;&gt;                 &lt;h4&gt;Marine Monitoring Point&lt;/h4&gt;                 &lt;p&gt;&lt;strong&gt;Coordinates:&lt;/strong&gt; 21.308, -143.720&lt;/p&gt;                 &lt;p&gt;&lt;strong&gt;Hotspot Probability:&lt;/strong&gt; 62.4%&lt;/p&gt;                 &lt;p&gt;&lt;strong&gt;Concentration:&lt;/strong&gt; 6.91 particles/m³&lt;/p&gt;                 &lt;p&gt;&lt;strong&gt;Water Temp:&lt;/strong&gt; 10.4°C&lt;/p&gt;                 &lt;p&gt;&lt;strong&gt;Current Speed:&lt;/strong&gt; 2.0 m/s&lt;/p&gt;                 &lt;p&gt;&lt;strong&gt;Date:&lt;/strong&gt; 2025-01-28&lt;/p&gt;             &lt;/div&gt;             &lt;/div&gt;`)[0];\n",
       "                popup_0b10d7079ef82a0eb6fb13157e7833dc.setContent(html_0f4f84461ba6f75544b4cf52f33e2ada);\n",
       "            \n",
       "        \n",
       "\n",
       "        circle_marker_27b4fd196d0500c1fcdafac04f4e1c05.bindPopup(popup_0b10d7079ef82a0eb6fb13157e7833dc)\n",
       "        ;\n",
       "\n",
       "        \n",
       "    \n",
       "    \n",
       "            circle_marker_27b4fd196d0500c1fcdafac04f4e1c05.bindTooltip(\n",
       "                `&lt;div&gt;\n",
       "                     Hotspot Risk: 62.4%\n",
       "                 &lt;/div&gt;`,\n",
       "                {\n",
       "  &quot;sticky&quot;: true,\n",
       "}\n",
       "            );\n",
       "        \n",
       "    \n",
       "            var circle_marker_e4315ae7cbb1d37fcd1d6f7d3d0b476e = L.circleMarker(\n",
       "                [-58.009460528657264, -173.4401427654421],\n",
       "                {&quot;bubblingMouseEvents&quot;: true, &quot;color&quot;: &quot;black&quot;, &quot;dashArray&quot;: null, &quot;dashOffset&quot;: null, &quot;fill&quot;: true, &quot;fillColor&quot;: &quot;green&quot;, &quot;fillOpacity&quot;: 0.7, &quot;fillRule&quot;: &quot;evenodd&quot;, &quot;lineCap&quot;: &quot;round&quot;, &quot;lineJoin&quot;: &quot;round&quot;, &quot;opacity&quot;: 1.0, &quot;radius&quot;: 3, &quot;stroke&quot;: true, &quot;weight&quot;: 1}\n",
       "            ).addTo(map_0f194e2aaa6e0c52ce4a98779fb6afef);\n",
       "        \n",
       "    \n",
       "        var popup_ff33bb062f10693bb90407a64d6ec476 = L.popup({\n",
       "  &quot;maxWidth&quot;: 250,\n",
       "});\n",
       "\n",
       "        \n",
       "            \n",
       "                var html_f2858d4858fd7febdfd3743e93807a8d = $(`&lt;div id=&quot;html_f2858d4858fd7febdfd3743e93807a8d&quot; style=&quot;width: 100.0%; height: 100.0%;&quot;&gt;             &lt;div style=&quot;width: 200px;&quot;&gt;                 &lt;h4&gt;Marine Monitoring Point&lt;/h4&gt;                 &lt;p&gt;&lt;strong&gt;Coordinates:&lt;/strong&gt; -58.009, -173.440&lt;/p&gt;                 &lt;p&gt;&lt;strong&gt;Hotspot Probability:&lt;/strong&gt; -4.2%&lt;/p&gt;                 &lt;p&gt;&lt;strong&gt;Concentration:&lt;/strong&gt; 3.81 particles/m³&lt;/p&gt;                 &lt;p&gt;&lt;strong&gt;Water Temp:&lt;/strong&gt; 14.8°C&lt;/p&gt;                 &lt;p&gt;&lt;strong&gt;Current Speed:&lt;/strong&gt; 0.8 m/s&lt;/p&gt;                 &lt;p&gt;&lt;strong&gt;Date:&lt;/strong&gt; 2025-05-14&lt;/p&gt;             &lt;/div&gt;             &lt;/div&gt;`)[0];\n",
       "                popup_ff33bb062f10693bb90407a64d6ec476.setContent(html_f2858d4858fd7febdfd3743e93807a8d);\n",
       "            \n",
       "        \n",
       "\n",
       "        circle_marker_e4315ae7cbb1d37fcd1d6f7d3d0b476e.bindPopup(popup_ff33bb062f10693bb90407a64d6ec476)\n",
       "        ;\n",
       "\n",
       "        \n",
       "    \n",
       "    \n",
       "            circle_marker_e4315ae7cbb1d37fcd1d6f7d3d0b476e.bindTooltip(\n",
       "                `&lt;div&gt;\n",
       "                     Hotspot Risk: -4.2%\n",
       "                 &lt;/div&gt;`,\n",
       "                {\n",
       "  &quot;sticky&quot;: true,\n",
       "}\n",
       "            );\n",
       "        \n",
       "    \n",
       "            var circle_marker_4274539653744ad6d0942edf6df373e2 = L.circleMarker(\n",
       "                [1.4511669959137175, -146.0005341278658],\n",
       "                {&quot;bubblingMouseEvents&quot;: true, &quot;color&quot;: &quot;black&quot;, &quot;dashArray&quot;: null, &quot;dashOffset&quot;: null, &quot;fill&quot;: true, &quot;fillColor&quot;: &quot;green&quot;, &quot;fillOpacity&quot;: 0.7, &quot;fillRule&quot;: &quot;evenodd&quot;, &quot;lineCap&quot;: &quot;round&quot;, &quot;lineJoin&quot;: &quot;round&quot;, &quot;opacity&quot;: 1.0, &quot;radius&quot;: 3, &quot;stroke&quot;: true, &quot;weight&quot;: 1}\n",
       "            ).addTo(map_0f194e2aaa6e0c52ce4a98779fb6afef);\n",
       "        \n",
       "    \n",
       "        var popup_7e0b9ef609316a77e1c6a1f0b51f66be = L.popup({\n",
       "  &quot;maxWidth&quot;: 250,\n",
       "});\n",
       "\n",
       "        \n",
       "            \n",
       "                var html_be405cd7ee471ad929b5026fdb2b01b0 = $(`&lt;div id=&quot;html_be405cd7ee471ad929b5026fdb2b01b0&quot; style=&quot;width: 100.0%; height: 100.0%;&quot;&gt;             &lt;div style=&quot;width: 200px;&quot;&gt;                 &lt;h4&gt;Marine Monitoring Point&lt;/h4&gt;                 &lt;p&gt;&lt;strong&gt;Coordinates:&lt;/strong&gt; 1.451, -146.001&lt;/p&gt;                 &lt;p&gt;&lt;strong&gt;Hotspot Probability:&lt;/strong&gt; 3.5%&lt;/p&gt;                 &lt;p&gt;&lt;strong&gt;Concentration:&lt;/strong&gt; 66.09 particles/m³&lt;/p&gt;                 &lt;p&gt;&lt;strong&gt;Water Temp:&lt;/strong&gt; 13.2°C&lt;/p&gt;                 &lt;p&gt;&lt;strong&gt;Current Speed:&lt;/strong&gt; 6.2 m/s&lt;/p&gt;                 &lt;p&gt;&lt;strong&gt;Date:&lt;/strong&gt; 2025-02-04&lt;/p&gt;             &lt;/div&gt;             &lt;/div&gt;`)[0];\n",
       "                popup_7e0b9ef609316a77e1c6a1f0b51f66be.setContent(html_be405cd7ee471ad929b5026fdb2b01b0);\n",
       "            \n",
       "        \n",
       "\n",
       "        circle_marker_4274539653744ad6d0942edf6df373e2.bindPopup(popup_7e0b9ef609316a77e1c6a1f0b51f66be)\n",
       "        ;\n",
       "\n",
       "        \n",
       "    \n",
       "    \n",
       "            circle_marker_4274539653744ad6d0942edf6df373e2.bindTooltip(\n",
       "                `&lt;div&gt;\n",
       "                     Hotspot Risk: 3.5%\n",
       "                 &lt;/div&gt;`,\n",
       "                {\n",
       "  &quot;sticky&quot;: true,\n",
       "}\n",
       "            );\n",
       "        \n",
       "    \n",
       "            var circle_marker_d1b6e68a8a840cb8041e78a0d87731e5 = L.circleMarker(\n",
       "                [-32.820506976247444, 65.88243842988847],\n",
       "                {&quot;bubblingMouseEvents&quot;: true, &quot;color&quot;: &quot;black&quot;, &quot;dashArray&quot;: null, &quot;dashOffset&quot;: null, &quot;fill&quot;: true, &quot;fillColor&quot;: &quot;green&quot;, &quot;fillOpacity&quot;: 0.7, &quot;fillRule&quot;: &quot;evenodd&quot;, &quot;lineCap&quot;: &quot;round&quot;, &quot;lineJoin&quot;: &quot;round&quot;, &quot;opacity&quot;: 1.0, &quot;radius&quot;: 3, &quot;stroke&quot;: true, &quot;weight&quot;: 1}\n",
       "            ).addTo(map_0f194e2aaa6e0c52ce4a98779fb6afef);\n",
       "        \n",
       "    \n",
       "        var popup_41ad9320355becca447a75f3b1cea8dc = L.popup({\n",
       "  &quot;maxWidth&quot;: 250,\n",
       "});\n",
       "\n",
       "        \n",
       "            \n",
       "                var html_15ab133750a099e8b23ea1c6e3d29bc5 = $(`&lt;div id=&quot;html_15ab133750a099e8b23ea1c6e3d29bc5&quot; style=&quot;width: 100.0%; height: 100.0%;&quot;&gt;             &lt;div style=&quot;width: 200px;&quot;&gt;                 &lt;h4&gt;Marine Monitoring Point&lt;/h4&gt;                 &lt;p&gt;&lt;strong&gt;Coordinates:&lt;/strong&gt; -32.821, 65.882&lt;/p&gt;                 &lt;p&gt;&lt;strong&gt;Hotspot Probability:&lt;/strong&gt; -0.8%&lt;/p&gt;                 &lt;p&gt;&lt;strong&gt;Concentration:&lt;/strong&gt; 10.38 particles/m³&lt;/p&gt;                 &lt;p&gt;&lt;strong&gt;Water Temp:&lt;/strong&gt; 5.3°C&lt;/p&gt;                 &lt;p&gt;&lt;strong&gt;Current Speed:&lt;/strong&gt; 1.7 m/s&lt;/p&gt;                 &lt;p&gt;&lt;strong&gt;Date:&lt;/strong&gt; 2025-01-28&lt;/p&gt;             &lt;/div&gt;             &lt;/div&gt;`)[0];\n",
       "                popup_41ad9320355becca447a75f3b1cea8dc.setContent(html_15ab133750a099e8b23ea1c6e3d29bc5);\n",
       "            \n",
       "        \n",
       "\n",
       "        circle_marker_d1b6e68a8a840cb8041e78a0d87731e5.bindPopup(popup_41ad9320355becca447a75f3b1cea8dc)\n",
       "        ;\n",
       "\n",
       "        \n",
       "    \n",
       "    \n",
       "            circle_marker_d1b6e68a8a840cb8041e78a0d87731e5.bindTooltip(\n",
       "                `&lt;div&gt;\n",
       "                     Hotspot Risk: -0.8%\n",
       "                 &lt;/div&gt;`,\n",
       "                {\n",
       "  &quot;sticky&quot;: true,\n",
       "}\n",
       "            );\n",
       "        \n",
       "    \n",
       "            var circle_marker_69759cff7d41b224829a4a022f6f4c14 = L.circleMarker(\n",
       "                [17.420734849133982, -154.37208655431758],\n",
       "                {&quot;bubblingMouseEvents&quot;: true, &quot;color&quot;: &quot;black&quot;, &quot;dashArray&quot;: null, &quot;dashOffset&quot;: null, &quot;fill&quot;: true, &quot;fillColor&quot;: &quot;yellow&quot;, &quot;fillOpacity&quot;: 0.7, &quot;fillRule&quot;: &quot;evenodd&quot;, &quot;lineCap&quot;: &quot;round&quot;, &quot;lineJoin&quot;: &quot;round&quot;, &quot;opacity&quot;: 1.0, &quot;radius&quot;: 4.030712452608848, &quot;stroke&quot;: true, &quot;weight&quot;: 1}\n",
       "            ).addTo(map_0f194e2aaa6e0c52ce4a98779fb6afef);\n",
       "        \n",
       "    \n",
       "        var popup_76e8ef2c57154e28a598f5d2256b7f43 = L.popup({\n",
       "  &quot;maxWidth&quot;: 250,\n",
       "});\n",
       "\n",
       "        \n",
       "            \n",
       "                var html_ee1d54f5e8d42ea32cbc83665890600b = $(`&lt;div id=&quot;html_ee1d54f5e8d42ea32cbc83665890600b&quot; style=&quot;width: 100.0%; height: 100.0%;&quot;&gt;             &lt;div style=&quot;width: 200px;&quot;&gt;                 &lt;h4&gt;Marine Monitoring Point&lt;/h4&gt;                 &lt;p&gt;&lt;strong&gt;Coordinates:&lt;/strong&gt; 17.421, -154.372&lt;/p&gt;                 &lt;p&gt;&lt;strong&gt;Hotspot Probability:&lt;/strong&gt; 26.9%&lt;/p&gt;                 &lt;p&gt;&lt;strong&gt;Concentration:&lt;/strong&gt; 2.07 particles/m³&lt;/p&gt;                 &lt;p&gt;&lt;strong&gt;Water Temp:&lt;/strong&gt; 20.2°C&lt;/p&gt;                 &lt;p&gt;&lt;strong&gt;Current Speed:&lt;/strong&gt; 2.1 m/s&lt;/p&gt;                 &lt;p&gt;&lt;strong&gt;Date:&lt;/strong&gt; 2025-08-28&lt;/p&gt;             &lt;/div&gt;             &lt;/div&gt;`)[0];\n",
       "                popup_76e8ef2c57154e28a598f5d2256b7f43.setContent(html_ee1d54f5e8d42ea32cbc83665890600b);\n",
       "            \n",
       "        \n",
       "\n",
       "        circle_marker_69759cff7d41b224829a4a022f6f4c14.bindPopup(popup_76e8ef2c57154e28a598f5d2256b7f43)\n",
       "        ;\n",
       "\n",
       "        \n",
       "    \n",
       "    \n",
       "            circle_marker_69759cff7d41b224829a4a022f6f4c14.bindTooltip(\n",
       "                `&lt;div&gt;\n",
       "                     Hotspot Risk: 26.9%\n",
       "                 &lt;/div&gt;`,\n",
       "                {\n",
       "  &quot;sticky&quot;: true,\n",
       "}\n",
       "            );\n",
       "        \n",
       "    \n",
       "            var circle_marker_277b311ba904126bcdd489d24859b793 = L.circleMarker(\n",
       "                [-39.07602851940103, -65.16877309424594],\n",
       "                {&quot;bubblingMouseEvents&quot;: true, &quot;color&quot;: &quot;black&quot;, &quot;dashArray&quot;: null, &quot;dashOffset&quot;: null, &quot;fill&quot;: true, &quot;fillColor&quot;: &quot;green&quot;, &quot;fillOpacity&quot;: 0.7, &quot;fillRule&quot;: &quot;evenodd&quot;, &quot;lineCap&quot;: &quot;round&quot;, &quot;lineJoin&quot;: &quot;round&quot;, &quot;opacity&quot;: 1.0, &quot;radius&quot;: 3, &quot;stroke&quot;: true, &quot;weight&quot;: 1}\n",
       "            ).addTo(map_0f194e2aaa6e0c52ce4a98779fb6afef);\n",
       "        \n",
       "    \n",
       "        var popup_3ed9290478ec1aebe06817463775c251 = L.popup({\n",
       "  &quot;maxWidth&quot;: 250,\n",
       "});\n",
       "\n",
       "        \n",
       "            \n",
       "                var html_3e0a79ad83d554a9740e50aa1e041517 = $(`&lt;div id=&quot;html_3e0a79ad83d554a9740e50aa1e041517&quot; style=&quot;width: 100.0%; height: 100.0%;&quot;&gt;             &lt;div style=&quot;width: 200px;&quot;&gt;                 &lt;h4&gt;Marine Monitoring Point&lt;/h4&gt;                 &lt;p&gt;&lt;strong&gt;Coordinates:&lt;/strong&gt; -39.076, -65.169&lt;/p&gt;                 &lt;p&gt;&lt;strong&gt;Hotspot Probability:&lt;/strong&gt; 18.8%&lt;/p&gt;                 &lt;p&gt;&lt;strong&gt;Concentration:&lt;/strong&gt; 30.39 particles/m³&lt;/p&gt;                 &lt;p&gt;&lt;strong&gt;Water Temp:&lt;/strong&gt; 27.5°C&lt;/p&gt;                 &lt;p&gt;&lt;strong&gt;Current Speed:&lt;/strong&gt; 1.0 m/s&lt;/p&gt;                 &lt;p&gt;&lt;strong&gt;Date:&lt;/strong&gt; 2025-04-05&lt;/p&gt;             &lt;/div&gt;             &lt;/div&gt;`)[0];\n",
       "                popup_3ed9290478ec1aebe06817463775c251.setContent(html_3e0a79ad83d554a9740e50aa1e041517);\n",
       "            \n",
       "        \n",
       "\n",
       "        circle_marker_277b311ba904126bcdd489d24859b793.bindPopup(popup_3ed9290478ec1aebe06817463775c251)\n",
       "        ;\n",
       "\n",
       "        \n",
       "    \n",
       "    \n",
       "            circle_marker_277b311ba904126bcdd489d24859b793.bindTooltip(\n",
       "                `&lt;div&gt;\n",
       "                     Hotspot Risk: 18.8%\n",
       "                 &lt;/div&gt;`,\n",
       "                {\n",
       "  &quot;sticky&quot;: true,\n",
       "}\n",
       "            );\n",
       "        \n",
       "    \n",
       "            var circle_marker_e5ff8414beb07f03a195f94fc5594738 = L.circleMarker(\n",
       "                [22.912528572295912, 124.15511194900364],\n",
       "                {&quot;bubblingMouseEvents&quot;: true, &quot;color&quot;: &quot;black&quot;, &quot;dashArray&quot;: null, &quot;dashOffset&quot;: null, &quot;fill&quot;: true, &quot;fillColor&quot;: &quot;green&quot;, &quot;fillOpacity&quot;: 0.7, &quot;fillRule&quot;: &quot;evenodd&quot;, &quot;lineCap&quot;: &quot;round&quot;, &quot;lineJoin&quot;: &quot;round&quot;, &quot;opacity&quot;: 1.0, &quot;radius&quot;: 3, &quot;stroke&quot;: true, &quot;weight&quot;: 1}\n",
       "            ).addTo(map_0f194e2aaa6e0c52ce4a98779fb6afef);\n",
       "        \n",
       "    \n",
       "        var popup_db0b6f7a234735a43125bf146ee9b8f0 = L.popup({\n",
       "  &quot;maxWidth&quot;: 250,\n",
       "});\n",
       "\n",
       "        \n",
       "            \n",
       "                var html_3802e1cc56d0edc7ff170493f82732cf = $(`&lt;div id=&quot;html_3802e1cc56d0edc7ff170493f82732cf&quot; style=&quot;width: 100.0%; height: 100.0%;&quot;&gt;             &lt;div style=&quot;width: 200px;&quot;&gt;                 &lt;h4&gt;Marine Monitoring Point&lt;/h4&gt;                 &lt;p&gt;&lt;strong&gt;Coordinates:&lt;/strong&gt; 22.913, 124.155&lt;/p&gt;                 &lt;p&gt;&lt;strong&gt;Hotspot Probability:&lt;/strong&gt; 9.9%&lt;/p&gt;                 &lt;p&gt;&lt;strong&gt;Concentration:&lt;/strong&gt; 3.14 particles/m³&lt;/p&gt;                 &lt;p&gt;&lt;strong&gt;Water Temp:&lt;/strong&gt; 12.6°C&lt;/p&gt;                 &lt;p&gt;&lt;strong&gt;Current Speed:&lt;/strong&gt; 5.2 m/s&lt;/p&gt;                 &lt;p&gt;&lt;strong&gt;Date:&lt;/strong&gt; 2025-10-07&lt;/p&gt;             &lt;/div&gt;             &lt;/div&gt;`)[0];\n",
       "                popup_db0b6f7a234735a43125bf146ee9b8f0.setContent(html_3802e1cc56d0edc7ff170493f82732cf);\n",
       "            \n",
       "        \n",
       "\n",
       "        circle_marker_e5ff8414beb07f03a195f94fc5594738.bindPopup(popup_db0b6f7a234735a43125bf146ee9b8f0)\n",
       "        ;\n",
       "\n",
       "        \n",
       "    \n",
       "    \n",
       "            circle_marker_e5ff8414beb07f03a195f94fc5594738.bindTooltip(\n",
       "                `&lt;div&gt;\n",
       "                     Hotspot Risk: 9.9%\n",
       "                 &lt;/div&gt;`,\n",
       "                {\n",
       "  &quot;sticky&quot;: true,\n",
       "}\n",
       "            );\n",
       "        \n",
       "    \n",
       "            var circle_marker_8ff77baf96f918cf0dc1d3494822dfb3 = L.circleMarker(\n",
       "                [-13.591758443935511, -171.6221031351027],\n",
       "                {&quot;bubblingMouseEvents&quot;: true, &quot;color&quot;: &quot;black&quot;, &quot;dashArray&quot;: null, &quot;dashOffset&quot;: null, &quot;fill&quot;: true, &quot;fillColor&quot;: &quot;yellow&quot;, &quot;fillOpacity&quot;: 0.7, &quot;fillRule&quot;: &quot;evenodd&quot;, &quot;lineCap&quot;: &quot;round&quot;, &quot;lineJoin&quot;: &quot;round&quot;, &quot;opacity&quot;: 1.0, &quot;radius&quot;: 3.71991620833504, &quot;stroke&quot;: true, &quot;weight&quot;: 1}\n",
       "            ).addTo(map_0f194e2aaa6e0c52ce4a98779fb6afef);\n",
       "        \n",
       "    \n",
       "        var popup_ba12f1017cb8c27a4d762600ad9ce765 = L.popup({\n",
       "  &quot;maxWidth&quot;: 250,\n",
       "});\n",
       "\n",
       "        \n",
       "            \n",
       "                var html_b093e419cb4c286414564f212a2aeea2 = $(`&lt;div id=&quot;html_b093e419cb4c286414564f212a2aeea2&quot; style=&quot;width: 100.0%; height: 100.0%;&quot;&gt;             &lt;div style=&quot;width: 200px;&quot;&gt;                 &lt;h4&gt;Marine Monitoring Point&lt;/h4&gt;                 &lt;p&gt;&lt;strong&gt;Coordinates:&lt;/strong&gt; -13.592, -171.622&lt;/p&gt;                 &lt;p&gt;&lt;strong&gt;Hotspot Probability:&lt;/strong&gt; 24.8%&lt;/p&gt;                 &lt;p&gt;&lt;strong&gt;Concentration:&lt;/strong&gt; 114.65 particles/m³&lt;/p&gt;                 &lt;p&gt;&lt;strong&gt;Water Temp:&lt;/strong&gt; 32.3°C&lt;/p&gt;                 &lt;p&gt;&lt;strong&gt;Current Speed:&lt;/strong&gt; 4.8 m/s&lt;/p&gt;                 &lt;p&gt;&lt;strong&gt;Date:&lt;/strong&gt; 2025-09-05&lt;/p&gt;             &lt;/div&gt;             &lt;/div&gt;`)[0];\n",
       "                popup_ba12f1017cb8c27a4d762600ad9ce765.setContent(html_b093e419cb4c286414564f212a2aeea2);\n",
       "            \n",
       "        \n",
       "\n",
       "        circle_marker_8ff77baf96f918cf0dc1d3494822dfb3.bindPopup(popup_ba12f1017cb8c27a4d762600ad9ce765)\n",
       "        ;\n",
       "\n",
       "        \n",
       "    \n",
       "    \n",
       "            circle_marker_8ff77baf96f918cf0dc1d3494822dfb3.bindTooltip(\n",
       "                `&lt;div&gt;\n",
       "                     Hotspot Risk: 24.8%\n",
       "                 &lt;/div&gt;`,\n",
       "                {\n",
       "  &quot;sticky&quot;: true,\n",
       "}\n",
       "            );\n",
       "        \n",
       "    \n",
       "            var circle_marker_96796dc42cb9c682067ccc89bc989f79 = L.circleMarker(\n",
       "                [52.40759864840814, 113.20865373201688],\n",
       "                {&quot;bubblingMouseEvents&quot;: true, &quot;color&quot;: &quot;black&quot;, &quot;dashArray&quot;: null, &quot;dashOffset&quot;: null, &quot;fill&quot;: true, &quot;fillColor&quot;: &quot;green&quot;, &quot;fillOpacity&quot;: 0.7, &quot;fillRule&quot;: &quot;evenodd&quot;, &quot;lineCap&quot;: &quot;round&quot;, &quot;lineJoin&quot;: &quot;round&quot;, &quot;opacity&quot;: 1.0, &quot;radius&quot;: 3, &quot;stroke&quot;: true, &quot;weight&quot;: 1}\n",
       "            ).addTo(map_0f194e2aaa6e0c52ce4a98779fb6afef);\n",
       "        \n",
       "    \n",
       "        var popup_c4522820db702054cb0cbceb9b5de5ba = L.popup({\n",
       "  &quot;maxWidth&quot;: 250,\n",
       "});\n",
       "\n",
       "        \n",
       "            \n",
       "                var html_7c5dcc791c1eff0ee904f9ca28591717 = $(`&lt;div id=&quot;html_7c5dcc791c1eff0ee904f9ca28591717&quot; style=&quot;width: 100.0%; height: 100.0%;&quot;&gt;             &lt;div style=&quot;width: 200px;&quot;&gt;                 &lt;h4&gt;Marine Monitoring Point&lt;/h4&gt;                 &lt;p&gt;&lt;strong&gt;Coordinates:&lt;/strong&gt; 52.408, 113.209&lt;/p&gt;                 &lt;p&gt;&lt;strong&gt;Hotspot Probability:&lt;/strong&gt; 10.8%&lt;/p&gt;                 &lt;p&gt;&lt;strong&gt;Concentration:&lt;/strong&gt; 8.00 particles/m³&lt;/p&gt;                 &lt;p&gt;&lt;strong&gt;Water Temp:&lt;/strong&gt; 2.5°C&lt;/p&gt;                 &lt;p&gt;&lt;strong&gt;Current Speed:&lt;/strong&gt; 1.3 m/s&lt;/p&gt;                 &lt;p&gt;&lt;strong&gt;Date:&lt;/strong&gt; 2025-02-26&lt;/p&gt;             &lt;/div&gt;             &lt;/div&gt;`)[0];\n",
       "                popup_c4522820db702054cb0cbceb9b5de5ba.setContent(html_7c5dcc791c1eff0ee904f9ca28591717);\n",
       "            \n",
       "        \n",
       "\n",
       "        circle_marker_96796dc42cb9c682067ccc89bc989f79.bindPopup(popup_c4522820db702054cb0cbceb9b5de5ba)\n",
       "        ;\n",
       "\n",
       "        \n",
       "    \n",
       "    \n",
       "            circle_marker_96796dc42cb9c682067ccc89bc989f79.bindTooltip(\n",
       "                `&lt;div&gt;\n",
       "                     Hotspot Risk: 10.8%\n",
       "                 &lt;/div&gt;`,\n",
       "                {\n",
       "  &quot;sticky&quot;: true,\n",
       "}\n",
       "            );\n",
       "        \n",
       "    \n",
       "            var circle_marker_c45f363a616e6aecd20d718dd713f9bc = L.circleMarker(\n",
       "                [-43.49748670248081, -78.53228108157603],\n",
       "                {&quot;bubblingMouseEvents&quot;: true, &quot;color&quot;: &quot;black&quot;, &quot;dashArray&quot;: null, &quot;dashOffset&quot;: null, &quot;fill&quot;: true, &quot;fillColor&quot;: &quot;green&quot;, &quot;fillOpacity&quot;: 0.7, &quot;fillRule&quot;: &quot;evenodd&quot;, &quot;lineCap&quot;: &quot;round&quot;, &quot;lineJoin&quot;: &quot;round&quot;, &quot;opacity&quot;: 1.0, &quot;radius&quot;: 3, &quot;stroke&quot;: true, &quot;weight&quot;: 1}\n",
       "            ).addTo(map_0f194e2aaa6e0c52ce4a98779fb6afef);\n",
       "        \n",
       "    \n",
       "        var popup_df693c90d808eaafede697e878a2eec0 = L.popup({\n",
       "  &quot;maxWidth&quot;: 250,\n",
       "});\n",
       "\n",
       "        \n",
       "            \n",
       "                var html_da43355ea7d813eeddc0c2390a2f1f2e = $(`&lt;div id=&quot;html_da43355ea7d813eeddc0c2390a2f1f2e&quot; style=&quot;width: 100.0%; height: 100.0%;&quot;&gt;             &lt;div style=&quot;width: 200px;&quot;&gt;                 &lt;h4&gt;Marine Monitoring Point&lt;/h4&gt;                 &lt;p&gt;&lt;strong&gt;Coordinates:&lt;/strong&gt; -43.497, -78.532&lt;/p&gt;                 &lt;p&gt;&lt;strong&gt;Hotspot Probability:&lt;/strong&gt; 1.4%&lt;/p&gt;                 &lt;p&gt;&lt;strong&gt;Concentration:&lt;/strong&gt; 20.35 particles/m³&lt;/p&gt;                 &lt;p&gt;&lt;strong&gt;Water Temp:&lt;/strong&gt; 23.4°C&lt;/p&gt;                 &lt;p&gt;&lt;strong&gt;Current Speed:&lt;/strong&gt; 2.3 m/s&lt;/p&gt;                 &lt;p&gt;&lt;strong&gt;Date:&lt;/strong&gt; 2025-08-05&lt;/p&gt;             &lt;/div&gt;             &lt;/div&gt;`)[0];\n",
       "                popup_df693c90d808eaafede697e878a2eec0.setContent(html_da43355ea7d813eeddc0c2390a2f1f2e);\n",
       "            \n",
       "        \n",
       "\n",
       "        circle_marker_c45f363a616e6aecd20d718dd713f9bc.bindPopup(popup_df693c90d808eaafede697e878a2eec0)\n",
       "        ;\n",
       "\n",
       "        \n",
       "    \n",
       "    \n",
       "            circle_marker_c45f363a616e6aecd20d718dd713f9bc.bindTooltip(\n",
       "                `&lt;div&gt;\n",
       "                     Hotspot Risk: 1.4%\n",
       "                 &lt;/div&gt;`,\n",
       "                {\n",
       "  &quot;sticky&quot;: true,\n",
       "}\n",
       "            );\n",
       "        \n",
       "    \n",
       "            var circle_marker_64edef174ca286b21df1fc9f24f55908 = L.circleMarker(\n",
       "                [-19.07203787396898, -137.46066205620374],\n",
       "                {&quot;bubblingMouseEvents&quot;: true, &quot;color&quot;: &quot;black&quot;, &quot;dashArray&quot;: null, &quot;dashOffset&quot;: null, &quot;fill&quot;: true, &quot;fillColor&quot;: &quot;yellow&quot;, &quot;fillOpacity&quot;: 0.7, &quot;fillRule&quot;: &quot;evenodd&quot;, &quot;lineCap&quot;: &quot;round&quot;, &quot;lineJoin&quot;: &quot;round&quot;, &quot;opacity&quot;: 1.0, &quot;radius&quot;: 3.784686115904486, &quot;stroke&quot;: true, &quot;weight&quot;: 1}\n",
       "            ).addTo(map_0f194e2aaa6e0c52ce4a98779fb6afef);\n",
       "        \n",
       "    \n",
       "        var popup_f125adef9299719f0ff6b04c62e380b1 = L.popup({\n",
       "  &quot;maxWidth&quot;: 250,\n",
       "});\n",
       "\n",
       "        \n",
       "            \n",
       "                var html_a80884352746be59bb00de25f208eb31 = $(`&lt;div id=&quot;html_a80884352746be59bb00de25f208eb31&quot; style=&quot;width: 100.0%; height: 100.0%;&quot;&gt;             &lt;div style=&quot;width: 200px;&quot;&gt;                 &lt;h4&gt;Marine Monitoring Point&lt;/h4&gt;                 &lt;p&gt;&lt;strong&gt;Coordinates:&lt;/strong&gt; -19.072, -137.461&lt;/p&gt;                 &lt;p&gt;&lt;strong&gt;Hotspot Probability:&lt;/strong&gt; 25.2%&lt;/p&gt;                 &lt;p&gt;&lt;strong&gt;Concentration:&lt;/strong&gt; 0.92 particles/m³&lt;/p&gt;                 &lt;p&gt;&lt;strong&gt;Water Temp:&lt;/strong&gt; 28.4°C&lt;/p&gt;                 &lt;p&gt;&lt;strong&gt;Current Speed:&lt;/strong&gt; 8.1 m/s&lt;/p&gt;                 &lt;p&gt;&lt;strong&gt;Date:&lt;/strong&gt; 2025-09-09&lt;/p&gt;             &lt;/div&gt;             &lt;/div&gt;`)[0];\n",
       "                popup_f125adef9299719f0ff6b04c62e380b1.setContent(html_a80884352746be59bb00de25f208eb31);\n",
       "            \n",
       "        \n",
       "\n",
       "        circle_marker_64edef174ca286b21df1fc9f24f55908.bindPopup(popup_f125adef9299719f0ff6b04c62e380b1)\n",
       "        ;\n",
       "\n",
       "        \n",
       "    \n",
       "    \n",
       "            circle_marker_64edef174ca286b21df1fc9f24f55908.bindTooltip(\n",
       "                `&lt;div&gt;\n",
       "                     Hotspot Risk: 25.2%\n",
       "                 &lt;/div&gt;`,\n",
       "                {\n",
       "  &quot;sticky&quot;: true,\n",
       "}\n",
       "            );\n",
       "        \n",
       "    \n",
       "            var circle_marker_a39edd27878e6277bc0d84d13e7f374e = L.circleMarker(\n",
       "                [-46.38317745112931, 70.82537953109423],\n",
       "                {&quot;bubblingMouseEvents&quot;: true, &quot;color&quot;: &quot;black&quot;, &quot;dashArray&quot;: null, &quot;dashOffset&quot;: null, &quot;fill&quot;: true, &quot;fillColor&quot;: &quot;green&quot;, &quot;fillOpacity&quot;: 0.7, &quot;fillRule&quot;: &quot;evenodd&quot;, &quot;lineCap&quot;: &quot;round&quot;, &quot;lineJoin&quot;: &quot;round&quot;, &quot;opacity&quot;: 1.0, &quot;radius&quot;: 3, &quot;stroke&quot;: true, &quot;weight&quot;: 1}\n",
       "            ).addTo(map_0f194e2aaa6e0c52ce4a98779fb6afef);\n",
       "        \n",
       "    \n",
       "        var popup_fd8942e9d83fb8ac3c656aa778ffc250 = L.popup({\n",
       "  &quot;maxWidth&quot;: 250,\n",
       "});\n",
       "\n",
       "        \n",
       "            \n",
       "                var html_fb1bd66e4589301bfdc5cd0b46b4d56c = $(`&lt;div id=&quot;html_fb1bd66e4589301bfdc5cd0b46b4d56c&quot; style=&quot;width: 100.0%; height: 100.0%;&quot;&gt;             &lt;div style=&quot;width: 200px;&quot;&gt;                 &lt;h4&gt;Marine Monitoring Point&lt;/h4&gt;                 &lt;p&gt;&lt;strong&gt;Coordinates:&lt;/strong&gt; -46.383, 70.825&lt;/p&gt;                 &lt;p&gt;&lt;strong&gt;Hotspot Probability:&lt;/strong&gt; 15.4%&lt;/p&gt;                 &lt;p&gt;&lt;strong&gt;Concentration:&lt;/strong&gt; 2.05 particles/m³&lt;/p&gt;                 &lt;p&gt;&lt;strong&gt;Water Temp:&lt;/strong&gt; 13.4°C&lt;/p&gt;                 &lt;p&gt;&lt;strong&gt;Current Speed:&lt;/strong&gt; 0.4 m/s&lt;/p&gt;                 &lt;p&gt;&lt;strong&gt;Date:&lt;/strong&gt; 2025-02-20&lt;/p&gt;             &lt;/div&gt;             &lt;/div&gt;`)[0];\n",
       "                popup_fd8942e9d83fb8ac3c656aa778ffc250.setContent(html_fb1bd66e4589301bfdc5cd0b46b4d56c);\n",
       "            \n",
       "        \n",
       "\n",
       "        circle_marker_a39edd27878e6277bc0d84d13e7f374e.bindPopup(popup_fd8942e9d83fb8ac3c656aa778ffc250)\n",
       "        ;\n",
       "\n",
       "        \n",
       "    \n",
       "    \n",
       "            circle_marker_a39edd27878e6277bc0d84d13e7f374e.bindTooltip(\n",
       "                `&lt;div&gt;\n",
       "                     Hotspot Risk: 15.4%\n",
       "                 &lt;/div&gt;`,\n",
       "                {\n",
       "  &quot;sticky&quot;: true,\n",
       "}\n",
       "            );\n",
       "        \n",
       "    \n",
       "            var circle_marker_b7d759d65650598d9f7487eda143024c = L.circleMarker(\n",
       "                [50.96323419342753, 46.41942484075824],\n",
       "                {&quot;bubblingMouseEvents&quot;: true, &quot;color&quot;: &quot;black&quot;, &quot;dashArray&quot;: null, &quot;dashOffset&quot;: null, &quot;fill&quot;: true, &quot;fillColor&quot;: &quot;green&quot;, &quot;fillOpacity&quot;: 0.7, &quot;fillRule&quot;: &quot;evenodd&quot;, &quot;lineCap&quot;: &quot;round&quot;, &quot;lineJoin&quot;: &quot;round&quot;, &quot;opacity&quot;: 1.0, &quot;radius&quot;: 3, &quot;stroke&quot;: true, &quot;weight&quot;: 1}\n",
       "            ).addTo(map_0f194e2aaa6e0c52ce4a98779fb6afef);\n",
       "        \n",
       "    \n",
       "        var popup_06ad194dd4d152c5a934d5a37355704f = L.popup({\n",
       "  &quot;maxWidth&quot;: 250,\n",
       "});\n",
       "\n",
       "        \n",
       "            \n",
       "                var html_5c15c9ac7dd0b4523a5545d442c9dca2 = $(`&lt;div id=&quot;html_5c15c9ac7dd0b4523a5545d442c9dca2&quot; style=&quot;width: 100.0%; height: 100.0%;&quot;&gt;             &lt;div style=&quot;width: 200px;&quot;&gt;                 &lt;h4&gt;Marine Monitoring Point&lt;/h4&gt;                 &lt;p&gt;&lt;strong&gt;Coordinates:&lt;/strong&gt; 50.963, 46.419&lt;/p&gt;                 &lt;p&gt;&lt;strong&gt;Hotspot Probability:&lt;/strong&gt; -0.4%&lt;/p&gt;                 &lt;p&gt;&lt;strong&gt;Concentration:&lt;/strong&gt; 28.05 particles/m³&lt;/p&gt;                 &lt;p&gt;&lt;strong&gt;Water Temp:&lt;/strong&gt; 13.5°C&lt;/p&gt;                 &lt;p&gt;&lt;strong&gt;Current Speed:&lt;/strong&gt; 16.3 m/s&lt;/p&gt;                 &lt;p&gt;&lt;strong&gt;Date:&lt;/strong&gt; 2025-01-30&lt;/p&gt;             &lt;/div&gt;             &lt;/div&gt;`)[0];\n",
       "                popup_06ad194dd4d152c5a934d5a37355704f.setContent(html_5c15c9ac7dd0b4523a5545d442c9dca2);\n",
       "            \n",
       "        \n",
       "\n",
       "        circle_marker_b7d759d65650598d9f7487eda143024c.bindPopup(popup_06ad194dd4d152c5a934d5a37355704f)\n",
       "        ;\n",
       "\n",
       "        \n",
       "    \n",
       "    \n",
       "            circle_marker_b7d759d65650598d9f7487eda143024c.bindTooltip(\n",
       "                `&lt;div&gt;\n",
       "                     Hotspot Risk: -0.4%\n",
       "                 &lt;/div&gt;`,\n",
       "                {\n",
       "  &quot;sticky&quot;: true,\n",
       "}\n",
       "            );\n",
       "        \n",
       "    \n",
       "            var circle_marker_8c4b49c0ed7274c4900435882402c17c = L.circleMarker(\n",
       "                [45.280722405717725, 135.88992486973908],\n",
       "                {&quot;bubblingMouseEvents&quot;: true, &quot;color&quot;: &quot;black&quot;, &quot;dashArray&quot;: null, &quot;dashOffset&quot;: null, &quot;fill&quot;: true, &quot;fillColor&quot;: &quot;green&quot;, &quot;fillOpacity&quot;: 0.7, &quot;fillRule&quot;: &quot;evenodd&quot;, &quot;lineCap&quot;: &quot;round&quot;, &quot;lineJoin&quot;: &quot;round&quot;, &quot;opacity&quot;: 1.0, &quot;radius&quot;: 3, &quot;stroke&quot;: true, &quot;weight&quot;: 1}\n",
       "            ).addTo(map_0f194e2aaa6e0c52ce4a98779fb6afef);\n",
       "        \n",
       "    \n",
       "        var popup_47571f1dec7b9381654689e1cd31b062 = L.popup({\n",
       "  &quot;maxWidth&quot;: 250,\n",
       "});\n",
       "\n",
       "        \n",
       "            \n",
       "                var html_07e286aa8668c911269566b69bb87462 = $(`&lt;div id=&quot;html_07e286aa8668c911269566b69bb87462&quot; style=&quot;width: 100.0%; height: 100.0%;&quot;&gt;             &lt;div style=&quot;width: 200px;&quot;&gt;                 &lt;h4&gt;Marine Monitoring Point&lt;/h4&gt;                 &lt;p&gt;&lt;strong&gt;Coordinates:&lt;/strong&gt; 45.281, 135.890&lt;/p&gt;                 &lt;p&gt;&lt;strong&gt;Hotspot Probability:&lt;/strong&gt; 8.1%&lt;/p&gt;                 &lt;p&gt;&lt;strong&gt;Concentration:&lt;/strong&gt; 10.15 particles/m³&lt;/p&gt;                 &lt;p&gt;&lt;strong&gt;Water Temp:&lt;/strong&gt; 23.3°C&lt;/p&gt;                 &lt;p&gt;&lt;strong&gt;Current Speed:&lt;/strong&gt; 2.8 m/s&lt;/p&gt;                 &lt;p&gt;&lt;strong&gt;Date:&lt;/strong&gt; 2025-01-16&lt;/p&gt;             &lt;/div&gt;             &lt;/div&gt;`)[0];\n",
       "                popup_47571f1dec7b9381654689e1cd31b062.setContent(html_07e286aa8668c911269566b69bb87462);\n",
       "            \n",
       "        \n",
       "\n",
       "        circle_marker_8c4b49c0ed7274c4900435882402c17c.bindPopup(popup_47571f1dec7b9381654689e1cd31b062)\n",
       "        ;\n",
       "\n",
       "        \n",
       "    \n",
       "    \n",
       "            circle_marker_8c4b49c0ed7274c4900435882402c17c.bindTooltip(\n",
       "                `&lt;div&gt;\n",
       "                     Hotspot Risk: 8.1%\n",
       "                 &lt;/div&gt;`,\n",
       "                {\n",
       "  &quot;sticky&quot;: true,\n",
       "}\n",
       "            );\n",
       "        \n",
       "    \n",
       "            var circle_marker_52e47ab111a9b22238b82bdf842bfb92 = L.circleMarker(\n",
       "                [-29.047004674181327, 84.62557576939888],\n",
       "                {&quot;bubblingMouseEvents&quot;: true, &quot;color&quot;: &quot;black&quot;, &quot;dashArray&quot;: null, &quot;dashOffset&quot;: null, &quot;fill&quot;: true, &quot;fillColor&quot;: &quot;green&quot;, &quot;fillOpacity&quot;: 0.7, &quot;fillRule&quot;: &quot;evenodd&quot;, &quot;lineCap&quot;: &quot;round&quot;, &quot;lineJoin&quot;: &quot;round&quot;, &quot;opacity&quot;: 1.0, &quot;radius&quot;: 3, &quot;stroke&quot;: true, &quot;weight&quot;: 1}\n",
       "            ).addTo(map_0f194e2aaa6e0c52ce4a98779fb6afef);\n",
       "        \n",
       "    \n",
       "        var popup_dcd6f77e400aa9a5e181018bbec108ba = L.popup({\n",
       "  &quot;maxWidth&quot;: 250,\n",
       "});\n",
       "\n",
       "        \n",
       "            \n",
       "                var html_e839cd6b3a9fdc38c1ad5b6d4165c9db = $(`&lt;div id=&quot;html_e839cd6b3a9fdc38c1ad5b6d4165c9db&quot; style=&quot;width: 100.0%; height: 100.0%;&quot;&gt;             &lt;div style=&quot;width: 200px;&quot;&gt;                 &lt;h4&gt;Marine Monitoring Point&lt;/h4&gt;                 &lt;p&gt;&lt;strong&gt;Coordinates:&lt;/strong&gt; -29.047, 84.626&lt;/p&gt;                 &lt;p&gt;&lt;strong&gt;Hotspot Probability:&lt;/strong&gt; 1.2%&lt;/p&gt;                 &lt;p&gt;&lt;strong&gt;Concentration:&lt;/strong&gt; 56.96 particles/m³&lt;/p&gt;                 &lt;p&gt;&lt;strong&gt;Water Temp:&lt;/strong&gt; 19.0°C&lt;/p&gt;                 &lt;p&gt;&lt;strong&gt;Current Speed:&lt;/strong&gt; 1.3 m/s&lt;/p&gt;                 &lt;p&gt;&lt;strong&gt;Date:&lt;/strong&gt; 2025-07-30&lt;/p&gt;             &lt;/div&gt;             &lt;/div&gt;`)[0];\n",
       "                popup_dcd6f77e400aa9a5e181018bbec108ba.setContent(html_e839cd6b3a9fdc38c1ad5b6d4165c9db);\n",
       "            \n",
       "        \n",
       "\n",
       "        circle_marker_52e47ab111a9b22238b82bdf842bfb92.bindPopup(popup_dcd6f77e400aa9a5e181018bbec108ba)\n",
       "        ;\n",
       "\n",
       "        \n",
       "    \n",
       "    \n",
       "            circle_marker_52e47ab111a9b22238b82bdf842bfb92.bindTooltip(\n",
       "                `&lt;div&gt;\n",
       "                     Hotspot Risk: 1.2%\n",
       "                 &lt;/div&gt;`,\n",
       "                {\n",
       "  &quot;sticky&quot;: true,\n",
       "}\n",
       "            );\n",
       "        \n",
       "    \n",
       "            var circle_marker_ac985ece5043f000afeb9d6e40751790 = L.circleMarker(\n",
       "                [19.198085524101486, 109.25313493854549],\n",
       "                {&quot;bubblingMouseEvents&quot;: true, &quot;color&quot;: &quot;black&quot;, &quot;dashArray&quot;: null, &quot;dashOffset&quot;: null, &quot;fill&quot;: true, &quot;fillColor&quot;: &quot;green&quot;, &quot;fillOpacity&quot;: 0.7, &quot;fillRule&quot;: &quot;evenodd&quot;, &quot;lineCap&quot;: &quot;round&quot;, &quot;lineJoin&quot;: &quot;round&quot;, &quot;opacity&quot;: 1.0, &quot;radius&quot;: 3, &quot;stroke&quot;: true, &quot;weight&quot;: 1}\n",
       "            ).addTo(map_0f194e2aaa6e0c52ce4a98779fb6afef);\n",
       "        \n",
       "    \n",
       "        var popup_daae26a1661f7c8e4fc6730f8a2c0f75 = L.popup({\n",
       "  &quot;maxWidth&quot;: 250,\n",
       "});\n",
       "\n",
       "        \n",
       "            \n",
       "                var html_68920bcdd4696f6a91b27799c0a8149e = $(`&lt;div id=&quot;html_68920bcdd4696f6a91b27799c0a8149e&quot; style=&quot;width: 100.0%; height: 100.0%;&quot;&gt;             &lt;div style=&quot;width: 200px;&quot;&gt;                 &lt;h4&gt;Marine Monitoring Point&lt;/h4&gt;                 &lt;p&gt;&lt;strong&gt;Coordinates:&lt;/strong&gt; 19.198, 109.253&lt;/p&gt;                 &lt;p&gt;&lt;strong&gt;Hotspot Probability:&lt;/strong&gt; -3.8%&lt;/p&gt;                 &lt;p&gt;&lt;strong&gt;Concentration:&lt;/strong&gt; 12.00 particles/m³&lt;/p&gt;                 &lt;p&gt;&lt;strong&gt;Water Temp:&lt;/strong&gt; -1.0°C&lt;/p&gt;                 &lt;p&gt;&lt;strong&gt;Current Speed:&lt;/strong&gt; 1.4 m/s&lt;/p&gt;                 &lt;p&gt;&lt;strong&gt;Date:&lt;/strong&gt; 2024-12-06&lt;/p&gt;             &lt;/div&gt;             &lt;/div&gt;`)[0];\n",
       "                popup_daae26a1661f7c8e4fc6730f8a2c0f75.setContent(html_68920bcdd4696f6a91b27799c0a8149e);\n",
       "            \n",
       "        \n",
       "\n",
       "        circle_marker_ac985ece5043f000afeb9d6e40751790.bindPopup(popup_daae26a1661f7c8e4fc6730f8a2c0f75)\n",
       "        ;\n",
       "\n",
       "        \n",
       "    \n",
       "    \n",
       "            circle_marker_ac985ece5043f000afeb9d6e40751790.bindTooltip(\n",
       "                `&lt;div&gt;\n",
       "                     Hotspot Risk: -3.8%\n",
       "                 &lt;/div&gt;`,\n",
       "                {\n",
       "  &quot;sticky&quot;: true,\n",
       "}\n",
       "            );\n",
       "        \n",
       "    \n",
       "            var circle_marker_ce0e2d351c67c208f08059aa86029105 = L.circleMarker(\n",
       "                [38.0666640241459, -78.46755387432967],\n",
       "                {&quot;bubblingMouseEvents&quot;: true, &quot;color&quot;: &quot;black&quot;, &quot;dashArray&quot;: null, &quot;dashOffset&quot;: null, &quot;fill&quot;: true, &quot;fillColor&quot;: &quot;green&quot;, &quot;fillOpacity&quot;: 0.7, &quot;fillRule&quot;: &quot;evenodd&quot;, &quot;lineCap&quot;: &quot;round&quot;, &quot;lineJoin&quot;: &quot;round&quot;, &quot;opacity&quot;: 1.0, &quot;radius&quot;: 3, &quot;stroke&quot;: true, &quot;weight&quot;: 1}\n",
       "            ).addTo(map_0f194e2aaa6e0c52ce4a98779fb6afef);\n",
       "        \n",
       "    \n",
       "        var popup_eab102f48697e2c07ee7c5c0fb10bd3d = L.popup({\n",
       "  &quot;maxWidth&quot;: 250,\n",
       "});\n",
       "\n",
       "        \n",
       "            \n",
       "                var html_4af02ce1056c2f4d3d1f570899a4a993 = $(`&lt;div id=&quot;html_4af02ce1056c2f4d3d1f570899a4a993&quot; style=&quot;width: 100.0%; height: 100.0%;&quot;&gt;             &lt;div style=&quot;width: 200px;&quot;&gt;                 &lt;h4&gt;Marine Monitoring Point&lt;/h4&gt;                 &lt;p&gt;&lt;strong&gt;Coordinates:&lt;/strong&gt; 38.067, -78.468&lt;/p&gt;                 &lt;p&gt;&lt;strong&gt;Hotspot Probability:&lt;/strong&gt; 19.3%&lt;/p&gt;                 &lt;p&gt;&lt;strong&gt;Concentration:&lt;/strong&gt; 8.54 particles/m³&lt;/p&gt;                 &lt;p&gt;&lt;strong&gt;Water Temp:&lt;/strong&gt; 8.3°C&lt;/p&gt;                 &lt;p&gt;&lt;strong&gt;Current Speed:&lt;/strong&gt; 5.1 m/s&lt;/p&gt;                 &lt;p&gt;&lt;strong&gt;Date:&lt;/strong&gt; 2024-11-14&lt;/p&gt;             &lt;/div&gt;             &lt;/div&gt;`)[0];\n",
       "                popup_eab102f48697e2c07ee7c5c0fb10bd3d.setContent(html_4af02ce1056c2f4d3d1f570899a4a993);\n",
       "            \n",
       "        \n",
       "\n",
       "        circle_marker_ce0e2d351c67c208f08059aa86029105.bindPopup(popup_eab102f48697e2c07ee7c5c0fb10bd3d)\n",
       "        ;\n",
       "\n",
       "        \n",
       "    \n",
       "    \n",
       "            circle_marker_ce0e2d351c67c208f08059aa86029105.bindTooltip(\n",
       "                `&lt;div&gt;\n",
       "                     Hotspot Risk: 19.3%\n",
       "                 &lt;/div&gt;`,\n",
       "                {\n",
       "  &quot;sticky&quot;: true,\n",
       "}\n",
       "            );\n",
       "        \n",
       "    \n",
       "            var circle_marker_e1e825ec508a4616abb5604534e54f0c = L.circleMarker(\n",
       "                [6.6240973919354795, -116.12176423929978],\n",
       "                {&quot;bubblingMouseEvents&quot;: true, &quot;color&quot;: &quot;black&quot;, &quot;dashArray&quot;: null, &quot;dashOffset&quot;: null, &quot;fill&quot;: true, &quot;fillColor&quot;: &quot;yellow&quot;, &quot;fillOpacity&quot;: 0.7, &quot;fillRule&quot;: &quot;evenodd&quot;, &quot;lineCap&quot;: &quot;round&quot;, &quot;lineJoin&quot;: &quot;round&quot;, &quot;opacity&quot;: 1.0, &quot;radius&quot;: 4.364124960705196, &quot;stroke&quot;: true, &quot;weight&quot;: 1}\n",
       "            ).addTo(map_0f194e2aaa6e0c52ce4a98779fb6afef);\n",
       "        \n",
       "    \n",
       "        var popup_8fe045c5b64b07f63d55896c8f0ca5ed = L.popup({\n",
       "  &quot;maxWidth&quot;: 250,\n",
       "});\n",
       "\n",
       "        \n",
       "            \n",
       "                var html_186ca8d4e0b45f36b6bae03caad7516a = $(`&lt;div id=&quot;html_186ca8d4e0b45f36b6bae03caad7516a&quot; style=&quot;width: 100.0%; height: 100.0%;&quot;&gt;             &lt;div style=&quot;width: 200px;&quot;&gt;                 &lt;h4&gt;Marine Monitoring Point&lt;/h4&gt;                 &lt;p&gt;&lt;strong&gt;Coordinates:&lt;/strong&gt; 6.624, -116.122&lt;/p&gt;                 &lt;p&gt;&lt;strong&gt;Hotspot Probability:&lt;/strong&gt; 29.1%&lt;/p&gt;                 &lt;p&gt;&lt;strong&gt;Concentration:&lt;/strong&gt; 41.00 particles/m³&lt;/p&gt;                 &lt;p&gt;&lt;strong&gt;Water Temp:&lt;/strong&gt; 14.9°C&lt;/p&gt;                 &lt;p&gt;&lt;strong&gt;Current Speed:&lt;/strong&gt; 4.5 m/s&lt;/p&gt;                 &lt;p&gt;&lt;strong&gt;Date:&lt;/strong&gt; 2025-08-08&lt;/p&gt;             &lt;/div&gt;             &lt;/div&gt;`)[0];\n",
       "                popup_8fe045c5b64b07f63d55896c8f0ca5ed.setContent(html_186ca8d4e0b45f36b6bae03caad7516a);\n",
       "            \n",
       "        \n",
       "\n",
       "        circle_marker_e1e825ec508a4616abb5604534e54f0c.bindPopup(popup_8fe045c5b64b07f63d55896c8f0ca5ed)\n",
       "        ;\n",
       "\n",
       "        \n",
       "    \n",
       "    \n",
       "            circle_marker_e1e825ec508a4616abb5604534e54f0c.bindTooltip(\n",
       "                `&lt;div&gt;\n",
       "                     Hotspot Risk: 29.1%\n",
       "                 &lt;/div&gt;`,\n",
       "                {\n",
       "  &quot;sticky&quot;: true,\n",
       "}\n",
       "            );\n",
       "        \n",
       "    \n",
       "            var circle_marker_3a50cbbf4af56e35ff39e0698d30dc13 = L.circleMarker(\n",
       "                [3.558069402720778, 90.221310590709],\n",
       "                {&quot;bubblingMouseEvents&quot;: true, &quot;color&quot;: &quot;black&quot;, &quot;dashArray&quot;: null, &quot;dashOffset&quot;: null, &quot;fill&quot;: true, &quot;fillColor&quot;: &quot;green&quot;, &quot;fillOpacity&quot;: 0.7, &quot;fillRule&quot;: &quot;evenodd&quot;, &quot;lineCap&quot;: &quot;round&quot;, &quot;lineJoin&quot;: &quot;round&quot;, &quot;opacity&quot;: 1.0, &quot;radius&quot;: 3, &quot;stroke&quot;: true, &quot;weight&quot;: 1}\n",
       "            ).addTo(map_0f194e2aaa6e0c52ce4a98779fb6afef);\n",
       "        \n",
       "    \n",
       "        var popup_84fc71d971bfb433fa68d0a964ea70f7 = L.popup({\n",
       "  &quot;maxWidth&quot;: 250,\n",
       "});\n",
       "\n",
       "        \n",
       "            \n",
       "                var html_a84ea48f67d1bfe874ee5c89647ec66b = $(`&lt;div id=&quot;html_a84ea48f67d1bfe874ee5c89647ec66b&quot; style=&quot;width: 100.0%; height: 100.0%;&quot;&gt;             &lt;div style=&quot;width: 200px;&quot;&gt;                 &lt;h4&gt;Marine Monitoring Point&lt;/h4&gt;                 &lt;p&gt;&lt;strong&gt;Coordinates:&lt;/strong&gt; 3.558, 90.221&lt;/p&gt;                 &lt;p&gt;&lt;strong&gt;Hotspot Probability:&lt;/strong&gt; -4.0%&lt;/p&gt;                 &lt;p&gt;&lt;strong&gt;Concentration:&lt;/strong&gt; 20.29 particles/m³&lt;/p&gt;                 &lt;p&gt;&lt;strong&gt;Water Temp:&lt;/strong&gt; 4.0°C&lt;/p&gt;                 &lt;p&gt;&lt;strong&gt;Current Speed:&lt;/strong&gt; 7.0 m/s&lt;/p&gt;                 &lt;p&gt;&lt;strong&gt;Date:&lt;/strong&gt; 2025-08-09&lt;/p&gt;             &lt;/div&gt;             &lt;/div&gt;`)[0];\n",
       "                popup_84fc71d971bfb433fa68d0a964ea70f7.setContent(html_a84ea48f67d1bfe874ee5c89647ec66b);\n",
       "            \n",
       "        \n",
       "\n",
       "        circle_marker_3a50cbbf4af56e35ff39e0698d30dc13.bindPopup(popup_84fc71d971bfb433fa68d0a964ea70f7)\n",
       "        ;\n",
       "\n",
       "        \n",
       "    \n",
       "    \n",
       "            circle_marker_3a50cbbf4af56e35ff39e0698d30dc13.bindTooltip(\n",
       "                `&lt;div&gt;\n",
       "                     Hotspot Risk: -4.0%\n",
       "                 &lt;/div&gt;`,\n",
       "                {\n",
       "  &quot;sticky&quot;: true,\n",
       "}\n",
       "            );\n",
       "        \n",
       "    \n",
       "            var circle_marker_f306c03bc724076361057f9afe47af9e = L.circleMarker(\n",
       "                [-30.9777250919458, 110.46050613621505],\n",
       "                {&quot;bubblingMouseEvents&quot;: true, &quot;color&quot;: &quot;black&quot;, &quot;dashArray&quot;: null, &quot;dashOffset&quot;: null, &quot;fill&quot;: true, &quot;fillColor&quot;: &quot;green&quot;, &quot;fillOpacity&quot;: 0.7, &quot;fillRule&quot;: &quot;evenodd&quot;, &quot;lineCap&quot;: &quot;round&quot;, &quot;lineJoin&quot;: &quot;round&quot;, &quot;opacity&quot;: 1.0, &quot;radius&quot;: 3, &quot;stroke&quot;: true, &quot;weight&quot;: 1}\n",
       "            ).addTo(map_0f194e2aaa6e0c52ce4a98779fb6afef);\n",
       "        \n",
       "    \n",
       "        var popup_0677ca29fdf0b7bf20b0c21857d3b4e4 = L.popup({\n",
       "  &quot;maxWidth&quot;: 250,\n",
       "});\n",
       "\n",
       "        \n",
       "            \n",
       "                var html_6103dcc25f349bebd310017b6cbd812b = $(`&lt;div id=&quot;html_6103dcc25f349bebd310017b6cbd812b&quot; style=&quot;width: 100.0%; height: 100.0%;&quot;&gt;             &lt;div style=&quot;width: 200px;&quot;&gt;                 &lt;h4&gt;Marine Monitoring Point&lt;/h4&gt;                 &lt;p&gt;&lt;strong&gt;Coordinates:&lt;/strong&gt; -30.978, 110.461&lt;/p&gt;                 &lt;p&gt;&lt;strong&gt;Hotspot Probability:&lt;/strong&gt; 15.6%&lt;/p&gt;                 &lt;p&gt;&lt;strong&gt;Concentration:&lt;/strong&gt; 6.07 particles/m³&lt;/p&gt;                 &lt;p&gt;&lt;strong&gt;Water Temp:&lt;/strong&gt; 11.2°C&lt;/p&gt;                 &lt;p&gt;&lt;strong&gt;Current Speed:&lt;/strong&gt; 3.0 m/s&lt;/p&gt;                 &lt;p&gt;&lt;strong&gt;Date:&lt;/strong&gt; 2025-05-18&lt;/p&gt;             &lt;/div&gt;             &lt;/div&gt;`)[0];\n",
       "                popup_0677ca29fdf0b7bf20b0c21857d3b4e4.setContent(html_6103dcc25f349bebd310017b6cbd812b);\n",
       "            \n",
       "        \n",
       "\n",
       "        circle_marker_f306c03bc724076361057f9afe47af9e.bindPopup(popup_0677ca29fdf0b7bf20b0c21857d3b4e4)\n",
       "        ;\n",
       "\n",
       "        \n",
       "    \n",
       "    \n",
       "            circle_marker_f306c03bc724076361057f9afe47af9e.bindTooltip(\n",
       "                `&lt;div&gt;\n",
       "                     Hotspot Risk: 15.6%\n",
       "                 &lt;/div&gt;`,\n",
       "                {\n",
       "  &quot;sticky&quot;: true,\n",
       "}\n",
       "            );\n",
       "        \n",
       "    \n",
       "            var circle_marker_1e43aa52e62fa0ffd7a594194bc0edbe = L.circleMarker(\n",
       "                [-48.82766786329209, 176.5818511202424],\n",
       "                {&quot;bubblingMouseEvents&quot;: true, &quot;color&quot;: &quot;black&quot;, &quot;dashArray&quot;: null, &quot;dashOffset&quot;: null, &quot;fill&quot;: true, &quot;fillColor&quot;: &quot;green&quot;, &quot;fillOpacity&quot;: 0.7, &quot;fillRule&quot;: &quot;evenodd&quot;, &quot;lineCap&quot;: &quot;round&quot;, &quot;lineJoin&quot;: &quot;round&quot;, &quot;opacity&quot;: 1.0, &quot;radius&quot;: 3, &quot;stroke&quot;: true, &quot;weight&quot;: 1}\n",
       "            ).addTo(map_0f194e2aaa6e0c52ce4a98779fb6afef);\n",
       "        \n",
       "    \n",
       "        var popup_6e2e401170dc42f015e9b55a9348e87a = L.popup({\n",
       "  &quot;maxWidth&quot;: 250,\n",
       "});\n",
       "\n",
       "        \n",
       "            \n",
       "                var html_ad94bbbe262519ac92f6e9adbef3bd8d = $(`&lt;div id=&quot;html_ad94bbbe262519ac92f6e9adbef3bd8d&quot; style=&quot;width: 100.0%; height: 100.0%;&quot;&gt;             &lt;div style=&quot;width: 200px;&quot;&gt;                 &lt;h4&gt;Marine Monitoring Point&lt;/h4&gt;                 &lt;p&gt;&lt;strong&gt;Coordinates:&lt;/strong&gt; -48.828, 176.582&lt;/p&gt;                 &lt;p&gt;&lt;strong&gt;Hotspot Probability:&lt;/strong&gt; 3.5%&lt;/p&gt;                 &lt;p&gt;&lt;strong&gt;Concentration:&lt;/strong&gt; 2.47 particles/m³&lt;/p&gt;                 &lt;p&gt;&lt;strong&gt;Water Temp:&lt;/strong&gt; 4.2°C&lt;/p&gt;                 &lt;p&gt;&lt;strong&gt;Current Speed:&lt;/strong&gt; 2.3 m/s&lt;/p&gt;                 &lt;p&gt;&lt;strong&gt;Date:&lt;/strong&gt; 2025-07-10&lt;/p&gt;             &lt;/div&gt;             &lt;/div&gt;`)[0];\n",
       "                popup_6e2e401170dc42f015e9b55a9348e87a.setContent(html_ad94bbbe262519ac92f6e9adbef3bd8d);\n",
       "            \n",
       "        \n",
       "\n",
       "        circle_marker_1e43aa52e62fa0ffd7a594194bc0edbe.bindPopup(popup_6e2e401170dc42f015e9b55a9348e87a)\n",
       "        ;\n",
       "\n",
       "        \n",
       "    \n",
       "    \n",
       "            circle_marker_1e43aa52e62fa0ffd7a594194bc0edbe.bindTooltip(\n",
       "                `&lt;div&gt;\n",
       "                     Hotspot Risk: 3.5%\n",
       "                 &lt;/div&gt;`,\n",
       "                {\n",
       "  &quot;sticky&quot;: true,\n",
       "}\n",
       "            );\n",
       "        \n",
       "    \n",
       "            var circle_marker_004a3caa73e06f2838b0af84e4359e53 = L.circleMarker(\n",
       "                [47.66589095439921, -31.457636311886468],\n",
       "                {&quot;bubblingMouseEvents&quot;: true, &quot;color&quot;: &quot;black&quot;, &quot;dashArray&quot;: null, &quot;dashOffset&quot;: null, &quot;fill&quot;: true, &quot;fillColor&quot;: &quot;green&quot;, &quot;fillOpacity&quot;: 0.7, &quot;fillRule&quot;: &quot;evenodd&quot;, &quot;lineCap&quot;: &quot;round&quot;, &quot;lineJoin&quot;: &quot;round&quot;, &quot;opacity&quot;: 1.0, &quot;radius&quot;: 3, &quot;stroke&quot;: true, &quot;weight&quot;: 1}\n",
       "            ).addTo(map_0f194e2aaa6e0c52ce4a98779fb6afef);\n",
       "        \n",
       "    \n",
       "        var popup_2dfb58a9268ad475c8338eda8e632b2d = L.popup({\n",
       "  &quot;maxWidth&quot;: 250,\n",
       "});\n",
       "\n",
       "        \n",
       "            \n",
       "                var html_9d863940b30ead3c360df94cb2d16cfc = $(`&lt;div id=&quot;html_9d863940b30ead3c360df94cb2d16cfc&quot; style=&quot;width: 100.0%; height: 100.0%;&quot;&gt;             &lt;div style=&quot;width: 200px;&quot;&gt;                 &lt;h4&gt;Marine Monitoring Point&lt;/h4&gt;                 &lt;p&gt;&lt;strong&gt;Coordinates:&lt;/strong&gt; 47.666, -31.458&lt;/p&gt;                 &lt;p&gt;&lt;strong&gt;Hotspot Probability:&lt;/strong&gt; 5.1%&lt;/p&gt;                 &lt;p&gt;&lt;strong&gt;Concentration:&lt;/strong&gt; 0.69 particles/m³&lt;/p&gt;                 &lt;p&gt;&lt;strong&gt;Water Temp:&lt;/strong&gt; 12.0°C&lt;/p&gt;                 &lt;p&gt;&lt;strong&gt;Current Speed:&lt;/strong&gt; 0.6 m/s&lt;/p&gt;                 &lt;p&gt;&lt;strong&gt;Date:&lt;/strong&gt; 2025-06-30&lt;/p&gt;             &lt;/div&gt;             &lt;/div&gt;`)[0];\n",
       "                popup_2dfb58a9268ad475c8338eda8e632b2d.setContent(html_9d863940b30ead3c360df94cb2d16cfc);\n",
       "            \n",
       "        \n",
       "\n",
       "        circle_marker_004a3caa73e06f2838b0af84e4359e53.bindPopup(popup_2dfb58a9268ad475c8338eda8e632b2d)\n",
       "        ;\n",
       "\n",
       "        \n",
       "    \n",
       "    \n",
       "            circle_marker_004a3caa73e06f2838b0af84e4359e53.bindTooltip(\n",
       "                `&lt;div&gt;\n",
       "                     Hotspot Risk: 5.1%\n",
       "                 &lt;/div&gt;`,\n",
       "                {\n",
       "  &quot;sticky&quot;: true,\n",
       "}\n",
       "            );\n",
       "        \n",
       "    \n",
       "            var circle_marker_17dbe5964809b5139131469f52ef909c = L.circleMarker(\n",
       "                [48.050166859599656, -46.07348911459806],\n",
       "                {&quot;bubblingMouseEvents&quot;: true, &quot;color&quot;: &quot;black&quot;, &quot;dashArray&quot;: null, &quot;dashOffset&quot;: null, &quot;fill&quot;: true, &quot;fillColor&quot;: &quot;green&quot;, &quot;fillOpacity&quot;: 0.7, &quot;fillRule&quot;: &quot;evenodd&quot;, &quot;lineCap&quot;: &quot;round&quot;, &quot;lineJoin&quot;: &quot;round&quot;, &quot;opacity&quot;: 1.0, &quot;radius&quot;: 3, &quot;stroke&quot;: true, &quot;weight&quot;: 1}\n",
       "            ).addTo(map_0f194e2aaa6e0c52ce4a98779fb6afef);\n",
       "        \n",
       "    \n",
       "        var popup_34367d223cb131d1208c811e8f837a7e = L.popup({\n",
       "  &quot;maxWidth&quot;: 250,\n",
       "});\n",
       "\n",
       "        \n",
       "            \n",
       "                var html_a3f778c4435b662179add5c964724d70 = $(`&lt;div id=&quot;html_a3f778c4435b662179add5c964724d70&quot; style=&quot;width: 100.0%; height: 100.0%;&quot;&gt;             &lt;div style=&quot;width: 200px;&quot;&gt;                 &lt;h4&gt;Marine Monitoring Point&lt;/h4&gt;                 &lt;p&gt;&lt;strong&gt;Coordinates:&lt;/strong&gt; 48.050, -46.073&lt;/p&gt;                 &lt;p&gt;&lt;strong&gt;Hotspot Probability:&lt;/strong&gt; 4.1%&lt;/p&gt;                 &lt;p&gt;&lt;strong&gt;Concentration:&lt;/strong&gt; 4.77 particles/m³&lt;/p&gt;                 &lt;p&gt;&lt;strong&gt;Water Temp:&lt;/strong&gt; 12.3°C&lt;/p&gt;                 &lt;p&gt;&lt;strong&gt;Current Speed:&lt;/strong&gt; 3.3 m/s&lt;/p&gt;                 &lt;p&gt;&lt;strong&gt;Date:&lt;/strong&gt; 2025-08-14&lt;/p&gt;             &lt;/div&gt;             &lt;/div&gt;`)[0];\n",
       "                popup_34367d223cb131d1208c811e8f837a7e.setContent(html_a3f778c4435b662179add5c964724d70);\n",
       "            \n",
       "        \n",
       "\n",
       "        circle_marker_17dbe5964809b5139131469f52ef909c.bindPopup(popup_34367d223cb131d1208c811e8f837a7e)\n",
       "        ;\n",
       "\n",
       "        \n",
       "    \n",
       "    \n",
       "            circle_marker_17dbe5964809b5139131469f52ef909c.bindTooltip(\n",
       "                `&lt;div&gt;\n",
       "                     Hotspot Risk: 4.1%\n",
       "                 &lt;/div&gt;`,\n",
       "                {\n",
       "  &quot;sticky&quot;: true,\n",
       "}\n",
       "            );\n",
       "        \n",
       "    \n",
       "            var circle_marker_51be8f48f76d9add0c71dbb7f223446f = L.circleMarker(\n",
       "                [15.972174872792152, 99.50866586711886],\n",
       "                {&quot;bubblingMouseEvents&quot;: true, &quot;color&quot;: &quot;black&quot;, &quot;dashArray&quot;: null, &quot;dashOffset&quot;: null, &quot;fill&quot;: true, &quot;fillColor&quot;: &quot;green&quot;, &quot;fillOpacity&quot;: 0.7, &quot;fillRule&quot;: &quot;evenodd&quot;, &quot;lineCap&quot;: &quot;round&quot;, &quot;lineJoin&quot;: &quot;round&quot;, &quot;opacity&quot;: 1.0, &quot;radius&quot;: 3, &quot;stroke&quot;: true, &quot;weight&quot;: 1}\n",
       "            ).addTo(map_0f194e2aaa6e0c52ce4a98779fb6afef);\n",
       "        \n",
       "    \n",
       "        var popup_f569c359b3dcfbd88ce721159721cdce = L.popup({\n",
       "  &quot;maxWidth&quot;: 250,\n",
       "});\n",
       "\n",
       "        \n",
       "            \n",
       "                var html_b9ef578249283bf2a4149773c86247b4 = $(`&lt;div id=&quot;html_b9ef578249283bf2a4149773c86247b4&quot; style=&quot;width: 100.0%; height: 100.0%;&quot;&gt;             &lt;div style=&quot;width: 200px;&quot;&gt;                 &lt;h4&gt;Marine Monitoring Point&lt;/h4&gt;                 &lt;p&gt;&lt;strong&gt;Coordinates:&lt;/strong&gt; 15.972, 99.509&lt;/p&gt;                 &lt;p&gt;&lt;strong&gt;Hotspot Probability:&lt;/strong&gt; 1.4%&lt;/p&gt;                 &lt;p&gt;&lt;strong&gt;Concentration:&lt;/strong&gt; 2.26 particles/m³&lt;/p&gt;                 &lt;p&gt;&lt;strong&gt;Water Temp:&lt;/strong&gt; 17.8°C&lt;/p&gt;                 &lt;p&gt;&lt;strong&gt;Current Speed:&lt;/strong&gt; 2.4 m/s&lt;/p&gt;                 &lt;p&gt;&lt;strong&gt;Date:&lt;/strong&gt; 2025-01-25&lt;/p&gt;             &lt;/div&gt;             &lt;/div&gt;`)[0];\n",
       "                popup_f569c359b3dcfbd88ce721159721cdce.setContent(html_b9ef578249283bf2a4149773c86247b4);\n",
       "            \n",
       "        \n",
       "\n",
       "        circle_marker_51be8f48f76d9add0c71dbb7f223446f.bindPopup(popup_f569c359b3dcfbd88ce721159721cdce)\n",
       "        ;\n",
       "\n",
       "        \n",
       "    \n",
       "    \n",
       "            circle_marker_51be8f48f76d9add0c71dbb7f223446f.bindTooltip(\n",
       "                `&lt;div&gt;\n",
       "                     Hotspot Risk: 1.4%\n",
       "                 &lt;/div&gt;`,\n",
       "                {\n",
       "  &quot;sticky&quot;: true,\n",
       "}\n",
       "            );\n",
       "        \n",
       "    \n",
       "            var circle_marker_542c38946e69d290fa7e4a635740f781 = L.circleMarker(\n",
       "                [-19.31642507415592, -57.31072550891358],\n",
       "                {&quot;bubblingMouseEvents&quot;: true, &quot;color&quot;: &quot;black&quot;, &quot;dashArray&quot;: null, &quot;dashOffset&quot;: null, &quot;fill&quot;: true, &quot;fillColor&quot;: &quot;green&quot;, &quot;fillOpacity&quot;: 0.7, &quot;fillRule&quot;: &quot;evenodd&quot;, &quot;lineCap&quot;: &quot;round&quot;, &quot;lineJoin&quot;: &quot;round&quot;, &quot;opacity&quot;: 1.0, &quot;radius&quot;: 3, &quot;stroke&quot;: true, &quot;weight&quot;: 1}\n",
       "            ).addTo(map_0f194e2aaa6e0c52ce4a98779fb6afef);\n",
       "        \n",
       "    \n",
       "        var popup_8619017f76f0db4d18c6288757a3695e = L.popup({\n",
       "  &quot;maxWidth&quot;: 250,\n",
       "});\n",
       "\n",
       "        \n",
       "            \n",
       "                var html_cb24506e17c25e348a8932f423c007cf = $(`&lt;div id=&quot;html_cb24506e17c25e348a8932f423c007cf&quot; style=&quot;width: 100.0%; height: 100.0%;&quot;&gt;             &lt;div style=&quot;width: 200px;&quot;&gt;                 &lt;h4&gt;Marine Monitoring Point&lt;/h4&gt;                 &lt;p&gt;&lt;strong&gt;Coordinates:&lt;/strong&gt; -19.316, -57.311&lt;/p&gt;                 &lt;p&gt;&lt;strong&gt;Hotspot Probability:&lt;/strong&gt; 10.5%&lt;/p&gt;                 &lt;p&gt;&lt;strong&gt;Concentration:&lt;/strong&gt; 99.26 particles/m³&lt;/p&gt;                 &lt;p&gt;&lt;strong&gt;Water Temp:&lt;/strong&gt; 14.3°C&lt;/p&gt;                 &lt;p&gt;&lt;strong&gt;Current Speed:&lt;/strong&gt; 5.0 m/s&lt;/p&gt;                 &lt;p&gt;&lt;strong&gt;Date:&lt;/strong&gt; 2025-09-27&lt;/p&gt;             &lt;/div&gt;             &lt;/div&gt;`)[0];\n",
       "                popup_8619017f76f0db4d18c6288757a3695e.setContent(html_cb24506e17c25e348a8932f423c007cf);\n",
       "            \n",
       "        \n",
       "\n",
       "        circle_marker_542c38946e69d290fa7e4a635740f781.bindPopup(popup_8619017f76f0db4d18c6288757a3695e)\n",
       "        ;\n",
       "\n",
       "        \n",
       "    \n",
       "    \n",
       "            circle_marker_542c38946e69d290fa7e4a635740f781.bindTooltip(\n",
       "                `&lt;div&gt;\n",
       "                     Hotspot Risk: 10.5%\n",
       "                 &lt;/div&gt;`,\n",
       "                {\n",
       "  &quot;sticky&quot;: true,\n",
       "}\n",
       "            );\n",
       "        \n",
       "    \n",
       "            var circle_marker_1ef8bb9d592745d44ff1e79b9c54b610 = L.circleMarker(\n",
       "                [-18.09485104648069, 155.0726372172833],\n",
       "                {&quot;bubblingMouseEvents&quot;: true, &quot;color&quot;: &quot;black&quot;, &quot;dashArray&quot;: null, &quot;dashOffset&quot;: null, &quot;fill&quot;: true, &quot;fillColor&quot;: &quot;green&quot;, &quot;fillOpacity&quot;: 0.7, &quot;fillRule&quot;: &quot;evenodd&quot;, &quot;lineCap&quot;: &quot;round&quot;, &quot;lineJoin&quot;: &quot;round&quot;, &quot;opacity&quot;: 1.0, &quot;radius&quot;: 3, &quot;stroke&quot;: true, &quot;weight&quot;: 1}\n",
       "            ).addTo(map_0f194e2aaa6e0c52ce4a98779fb6afef);\n",
       "        \n",
       "    \n",
       "        var popup_81a7cdd66ed857a811ec3abb25c14132 = L.popup({\n",
       "  &quot;maxWidth&quot;: 250,\n",
       "});\n",
       "\n",
       "        \n",
       "            \n",
       "                var html_67d4d138ef0cb72d93ad59abd8857729 = $(`&lt;div id=&quot;html_67d4d138ef0cb72d93ad59abd8857729&quot; style=&quot;width: 100.0%; height: 100.0%;&quot;&gt;             &lt;div style=&quot;width: 200px;&quot;&gt;                 &lt;h4&gt;Marine Monitoring Point&lt;/h4&gt;                 &lt;p&gt;&lt;strong&gt;Coordinates:&lt;/strong&gt; -18.095, 155.073&lt;/p&gt;                 &lt;p&gt;&lt;strong&gt;Hotspot Probability:&lt;/strong&gt; 1.7%&lt;/p&gt;                 &lt;p&gt;&lt;strong&gt;Concentration:&lt;/strong&gt; 3.86 particles/m³&lt;/p&gt;                 &lt;p&gt;&lt;strong&gt;Water Temp:&lt;/strong&gt; 19.0°C&lt;/p&gt;                 &lt;p&gt;&lt;strong&gt;Current Speed:&lt;/strong&gt; 6.7 m/s&lt;/p&gt;                 &lt;p&gt;&lt;strong&gt;Date:&lt;/strong&gt; 2025-02-03&lt;/p&gt;             &lt;/div&gt;             &lt;/div&gt;`)[0];\n",
       "                popup_81a7cdd66ed857a811ec3abb25c14132.setContent(html_67d4d138ef0cb72d93ad59abd8857729);\n",
       "            \n",
       "        \n",
       "\n",
       "        circle_marker_1ef8bb9d592745d44ff1e79b9c54b610.bindPopup(popup_81a7cdd66ed857a811ec3abb25c14132)\n",
       "        ;\n",
       "\n",
       "        \n",
       "    \n",
       "    \n",
       "            circle_marker_1ef8bb9d592745d44ff1e79b9c54b610.bindTooltip(\n",
       "                `&lt;div&gt;\n",
       "                     Hotspot Risk: 1.7%\n",
       "                 &lt;/div&gt;`,\n",
       "                {\n",
       "  &quot;sticky&quot;: true,\n",
       "}\n",
       "            );\n",
       "        \n",
       "    \n",
       "            var circle_marker_1c5f25e74cac546b85ab396af8bdffc5 = L.circleMarker(\n",
       "                [27.114681464428724, 129.02859066348424],\n",
       "                {&quot;bubblingMouseEvents&quot;: true, &quot;color&quot;: &quot;black&quot;, &quot;dashArray&quot;: null, &quot;dashOffset&quot;: null, &quot;fill&quot;: true, &quot;fillColor&quot;: &quot;green&quot;, &quot;fillOpacity&quot;: 0.7, &quot;fillRule&quot;: &quot;evenodd&quot;, &quot;lineCap&quot;: &quot;round&quot;, &quot;lineJoin&quot;: &quot;round&quot;, &quot;opacity&quot;: 1.0, &quot;radius&quot;: 3, &quot;stroke&quot;: true, &quot;weight&quot;: 1}\n",
       "            ).addTo(map_0f194e2aaa6e0c52ce4a98779fb6afef);\n",
       "        \n",
       "    \n",
       "        var popup_337e4bbf6ff814f31392b83fb7e3992a = L.popup({\n",
       "  &quot;maxWidth&quot;: 250,\n",
       "});\n",
       "\n",
       "        \n",
       "            \n",
       "                var html_90a22ab0964a35e7bea7e6b66818ae8c = $(`&lt;div id=&quot;html_90a22ab0964a35e7bea7e6b66818ae8c&quot; style=&quot;width: 100.0%; height: 100.0%;&quot;&gt;             &lt;div style=&quot;width: 200px;&quot;&gt;                 &lt;h4&gt;Marine Monitoring Point&lt;/h4&gt;                 &lt;p&gt;&lt;strong&gt;Coordinates:&lt;/strong&gt; 27.115, 129.029&lt;/p&gt;                 &lt;p&gt;&lt;strong&gt;Hotspot Probability:&lt;/strong&gt; 12.7%&lt;/p&gt;                 &lt;p&gt;&lt;strong&gt;Concentration:&lt;/strong&gt; 3.75 particles/m³&lt;/p&gt;                 &lt;p&gt;&lt;strong&gt;Water Temp:&lt;/strong&gt; 18.1°C&lt;/p&gt;                 &lt;p&gt;&lt;strong&gt;Current Speed:&lt;/strong&gt; 4.2 m/s&lt;/p&gt;                 &lt;p&gt;&lt;strong&gt;Date:&lt;/strong&gt; 2025-04-16&lt;/p&gt;             &lt;/div&gt;             &lt;/div&gt;`)[0];\n",
       "                popup_337e4bbf6ff814f31392b83fb7e3992a.setContent(html_90a22ab0964a35e7bea7e6b66818ae8c);\n",
       "            \n",
       "        \n",
       "\n",
       "        circle_marker_1c5f25e74cac546b85ab396af8bdffc5.bindPopup(popup_337e4bbf6ff814f31392b83fb7e3992a)\n",
       "        ;\n",
       "\n",
       "        \n",
       "    \n",
       "    \n",
       "            circle_marker_1c5f25e74cac546b85ab396af8bdffc5.bindTooltip(\n",
       "                `&lt;div&gt;\n",
       "                     Hotspot Risk: 12.7%\n",
       "                 &lt;/div&gt;`,\n",
       "                {\n",
       "  &quot;sticky&quot;: true,\n",
       "}\n",
       "            );\n",
       "        \n",
       "    \n",
       "            var circle_marker_a2e9fa5295f961f459bd75cc34c3a82a = L.circleMarker(\n",
       "                [47.65323119430925, -25.562150144993396],\n",
       "                {&quot;bubblingMouseEvents&quot;: true, &quot;color&quot;: &quot;black&quot;, &quot;dashArray&quot;: null, &quot;dashOffset&quot;: null, &quot;fill&quot;: true, &quot;fillColor&quot;: &quot;green&quot;, &quot;fillOpacity&quot;: 0.7, &quot;fillRule&quot;: &quot;evenodd&quot;, &quot;lineCap&quot;: &quot;round&quot;, &quot;lineJoin&quot;: &quot;round&quot;, &quot;opacity&quot;: 1.0, &quot;radius&quot;: 3, &quot;stroke&quot;: true, &quot;weight&quot;: 1}\n",
       "            ).addTo(map_0f194e2aaa6e0c52ce4a98779fb6afef);\n",
       "        \n",
       "    \n",
       "        var popup_7f07eeb22bd616add1de24a02fc32bb0 = L.popup({\n",
       "  &quot;maxWidth&quot;: 250,\n",
       "});\n",
       "\n",
       "        \n",
       "            \n",
       "                var html_3b922dccc56532cf1f0ca6f9d9f78626 = $(`&lt;div id=&quot;html_3b922dccc56532cf1f0ca6f9d9f78626&quot; style=&quot;width: 100.0%; height: 100.0%;&quot;&gt;             &lt;div style=&quot;width: 200px;&quot;&gt;                 &lt;h4&gt;Marine Monitoring Point&lt;/h4&gt;                 &lt;p&gt;&lt;strong&gt;Coordinates:&lt;/strong&gt; 47.653, -25.562&lt;/p&gt;                 &lt;p&gt;&lt;strong&gt;Hotspot Probability:&lt;/strong&gt; 9.5%&lt;/p&gt;                 &lt;p&gt;&lt;strong&gt;Concentration:&lt;/strong&gt; 1.61 particles/m³&lt;/p&gt;                 &lt;p&gt;&lt;strong&gt;Water Temp:&lt;/strong&gt; 23.3°C&lt;/p&gt;                 &lt;p&gt;&lt;strong&gt;Current Speed:&lt;/strong&gt; 4.7 m/s&lt;/p&gt;                 &lt;p&gt;&lt;strong&gt;Date:&lt;/strong&gt; 2025-08-25&lt;/p&gt;             &lt;/div&gt;             &lt;/div&gt;`)[0];\n",
       "                popup_7f07eeb22bd616add1de24a02fc32bb0.setContent(html_3b922dccc56532cf1f0ca6f9d9f78626);\n",
       "            \n",
       "        \n",
       "\n",
       "        circle_marker_a2e9fa5295f961f459bd75cc34c3a82a.bindPopup(popup_7f07eeb22bd616add1de24a02fc32bb0)\n",
       "        ;\n",
       "\n",
       "        \n",
       "    \n",
       "    \n",
       "            circle_marker_a2e9fa5295f961f459bd75cc34c3a82a.bindTooltip(\n",
       "                `&lt;div&gt;\n",
       "                     Hotspot Risk: 9.5%\n",
       "                 &lt;/div&gt;`,\n",
       "                {\n",
       "  &quot;sticky&quot;: true,\n",
       "}\n",
       "            );\n",
       "        \n",
       "    \n",
       "            var circle_marker_7be54c3b257ae9a29add366daf6bbfea = L.circleMarker(\n",
       "                [46.450370911814076, 90.31358440493905],\n",
       "                {&quot;bubblingMouseEvents&quot;: true, &quot;color&quot;: &quot;black&quot;, &quot;dashArray&quot;: null, &quot;dashOffset&quot;: null, &quot;fill&quot;: true, &quot;fillColor&quot;: &quot;green&quot;, &quot;fillOpacity&quot;: 0.7, &quot;fillRule&quot;: &quot;evenodd&quot;, &quot;lineCap&quot;: &quot;round&quot;, &quot;lineJoin&quot;: &quot;round&quot;, &quot;opacity&quot;: 1.0, &quot;radius&quot;: 3, &quot;stroke&quot;: true, &quot;weight&quot;: 1}\n",
       "            ).addTo(map_0f194e2aaa6e0c52ce4a98779fb6afef);\n",
       "        \n",
       "    \n",
       "        var popup_3815bfde5ee83dc17914c961420d7f6f = L.popup({\n",
       "  &quot;maxWidth&quot;: 250,\n",
       "});\n",
       "\n",
       "        \n",
       "            \n",
       "                var html_a3729f387c52ae4524a02387e5692cf4 = $(`&lt;div id=&quot;html_a3729f387c52ae4524a02387e5692cf4&quot; style=&quot;width: 100.0%; height: 100.0%;&quot;&gt;             &lt;div style=&quot;width: 200px;&quot;&gt;                 &lt;h4&gt;Marine Monitoring Point&lt;/h4&gt;                 &lt;p&gt;&lt;strong&gt;Coordinates:&lt;/strong&gt; 46.450, 90.314&lt;/p&gt;                 &lt;p&gt;&lt;strong&gt;Hotspot Probability:&lt;/strong&gt; 7.6%&lt;/p&gt;                 &lt;p&gt;&lt;strong&gt;Concentration:&lt;/strong&gt; 5.66 particles/m³&lt;/p&gt;                 &lt;p&gt;&lt;strong&gt;Water Temp:&lt;/strong&gt; 22.0°C&lt;/p&gt;                 &lt;p&gt;&lt;strong&gt;Current Speed:&lt;/strong&gt; 3.8 m/s&lt;/p&gt;                 &lt;p&gt;&lt;strong&gt;Date:&lt;/strong&gt; 2024-10-17&lt;/p&gt;             &lt;/div&gt;             &lt;/div&gt;`)[0];\n",
       "                popup_3815bfde5ee83dc17914c961420d7f6f.setContent(html_a3729f387c52ae4524a02387e5692cf4);\n",
       "            \n",
       "        \n",
       "\n",
       "        circle_marker_7be54c3b257ae9a29add366daf6bbfea.bindPopup(popup_3815bfde5ee83dc17914c961420d7f6f)\n",
       "        ;\n",
       "\n",
       "        \n",
       "    \n",
       "    \n",
       "            circle_marker_7be54c3b257ae9a29add366daf6bbfea.bindTooltip(\n",
       "                `&lt;div&gt;\n",
       "                     Hotspot Risk: 7.6%\n",
       "                 &lt;/div&gt;`,\n",
       "                {\n",
       "  &quot;sticky&quot;: true,\n",
       "}\n",
       "            );\n",
       "        \n",
       "    \n",
       "            var circle_marker_9d4b40237f3749049c9477ad4789f561 = L.circleMarker(\n",
       "                [33.585065502914865, 91.63543467048565],\n",
       "                {&quot;bubblingMouseEvents&quot;: true, &quot;color&quot;: &quot;black&quot;, &quot;dashArray&quot;: null, &quot;dashOffset&quot;: null, &quot;fill&quot;: true, &quot;fillColor&quot;: &quot;green&quot;, &quot;fillOpacity&quot;: 0.7, &quot;fillRule&quot;: &quot;evenodd&quot;, &quot;lineCap&quot;: &quot;round&quot;, &quot;lineJoin&quot;: &quot;round&quot;, &quot;opacity&quot;: 1.0, &quot;radius&quot;: 3, &quot;stroke&quot;: true, &quot;weight&quot;: 1}\n",
       "            ).addTo(map_0f194e2aaa6e0c52ce4a98779fb6afef);\n",
       "        \n",
       "    \n",
       "        var popup_c3fc369957c7c04f11a966fd9ed711f6 = L.popup({\n",
       "  &quot;maxWidth&quot;: 250,\n",
       "});\n",
       "\n",
       "        \n",
       "            \n",
       "                var html_10794865047f744ce83e4697a9d7fbc6 = $(`&lt;div id=&quot;html_10794865047f744ce83e4697a9d7fbc6&quot; style=&quot;width: 100.0%; height: 100.0%;&quot;&gt;             &lt;div style=&quot;width: 200px;&quot;&gt;                 &lt;h4&gt;Marine Monitoring Point&lt;/h4&gt;                 &lt;p&gt;&lt;strong&gt;Coordinates:&lt;/strong&gt; 33.585, 91.635&lt;/p&gt;                 &lt;p&gt;&lt;strong&gt;Hotspot Probability:&lt;/strong&gt; 0.9%&lt;/p&gt;                 &lt;p&gt;&lt;strong&gt;Concentration:&lt;/strong&gt; 3.80 particles/m³&lt;/p&gt;                 &lt;p&gt;&lt;strong&gt;Water Temp:&lt;/strong&gt; 21.1°C&lt;/p&gt;                 &lt;p&gt;&lt;strong&gt;Current Speed:&lt;/strong&gt; 4.2 m/s&lt;/p&gt;                 &lt;p&gt;&lt;strong&gt;Date:&lt;/strong&gt; 2025-08-31&lt;/p&gt;             &lt;/div&gt;             &lt;/div&gt;`)[0];\n",
       "                popup_c3fc369957c7c04f11a966fd9ed711f6.setContent(html_10794865047f744ce83e4697a9d7fbc6);\n",
       "            \n",
       "        \n",
       "\n",
       "        circle_marker_9d4b40237f3749049c9477ad4789f561.bindPopup(popup_c3fc369957c7c04f11a966fd9ed711f6)\n",
       "        ;\n",
       "\n",
       "        \n",
       "    \n",
       "    \n",
       "            circle_marker_9d4b40237f3749049c9477ad4789f561.bindTooltip(\n",
       "                `&lt;div&gt;\n",
       "                     Hotspot Risk: 0.9%\n",
       "                 &lt;/div&gt;`,\n",
       "                {\n",
       "  &quot;sticky&quot;: true,\n",
       "}\n",
       "            );\n",
       "        \n",
       "    \n",
       "            var layer_control_9e07ad23b2387396beffd3faffefff33_layers = {\n",
       "                base_layers : {\n",
       "                    &quot;openstreetmap&quot; : tile_layer_ca775de16f76261e5b25d419a49281d8,\n",
       "                    &quot;cartodbpositron&quot; : tile_layer_656256e01d7a66835d8710aa9b779949,\n",
       "                    &quot;cartodbdarkmatter&quot; : tile_layer_bfc7320f3310f79186ac899e80d59abf,\n",
       "                },\n",
       "                overlays :  {\n",
       "                },\n",
       "            };\n",
       "            let layer_control_9e07ad23b2387396beffd3faffefff33 = L.control.layers(\n",
       "                layer_control_9e07ad23b2387396beffd3faffefff33_layers.base_layers,\n",
       "                layer_control_9e07ad23b2387396beffd3faffefff33_layers.overlays,\n",
       "                {\n",
       "  &quot;position&quot;: &quot;topright&quot;,\n",
       "  &quot;collapsed&quot;: true,\n",
       "  &quot;autoZIndex&quot;: true,\n",
       "}\n",
       "            ).addTo(map_0f194e2aaa6e0c52ce4a98779fb6afef);\n",
       "\n",
       "        \n",
       "    \n",
       "            tile_layer_ca775de16f76261e5b25d419a49281d8.addTo(map_0f194e2aaa6e0c52ce4a98779fb6afef);\n",
       "        \n",
       "    \n",
       "            tile_layer_656256e01d7a66835d8710aa9b779949.addTo(map_0f194e2aaa6e0c52ce4a98779fb6afef);\n",
       "        \n",
       "    \n",
       "            tile_layer_bfc7320f3310f79186ac899e80d59abf.addTo(map_0f194e2aaa6e0c52ce4a98779fb6afef);\n",
       "        \n",
       "&lt;/script&gt;\n",
       "&lt;/html&gt;\" style=\"position:absolute;width:100%;height:100%;left:0;top:0;border:none !important;\" allowfullscreen webkitallowfullscreen mozallowfullscreen></iframe></div></div>"
      ],
      "text/plain": [
       "<folium.folium.Map at 0x1297513d0>"
      ]
     },
     "execution_count": 14,
     "metadata": {},
     "output_type": "execute_result"
    }
   ],
   "source": [
    "# Create interactive global map\n",
    "global_map = visualizer.create_global_hotspot_map()\n",
    "print(\"🗺️ Interactive global hotspot map created!\")\n",
    "print(\"💡 The map shows:\")\n",
    "print(\"   • Circle size = Hotspot probability\")\n",
    "print(\"   • Color = Risk level (green=low, red=high)\")\n",
    "print(\"   • Click markers for detailed information\")\n",
    "print(\"   • Use layer controls to switch map styles\")\n",
    "\n",
    "# Display the map\n",
    "global_map"
   ]
  },
  {
   "cell_type": "markdown",
   "id": "d33f649c",
   "metadata": {},
   "source": [
    "## 🔥 Microplastic Concentration Heatmap"
   ]
  },
  {
   "cell_type": "code",
   "execution_count": 15,
   "id": "bfd67092",
   "metadata": {},
   "outputs": [
    {
     "name": "stderr",
     "output_type": "stream",
     "text": [
      "INFO:src.visualization.interactive_maps:Concentration heatmap saved to visualizations/concentration_heatmap.html\n"
     ]
    },
    {
     "data": {
      "application/vnd.plotly.v1+json": {
       "config": {
        "plotlyServerURL": "https://plot.ly"
       },
       "data": [
        {
         "coloraxis": "coloraxis",
         "hovertemplate": "Concentration (particles/m³)=%{z}<br>latitude=%{lat}<br>longitude=%{lon}<extra></extra>",
         "lat": {
          "bdata": "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",
          "dtype": "f8"
         },
         "lon": {
          "bdata": "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",
          "dtype": "f8"
         },
         "name": "",
         "radius": 20,
         "subplot": "mapbox",
         "type": "densitymapbox",
         "z": {
          "bdata": "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",
          "dtype": "f8"
         }
        }
       ],
       "layout": {
        "coloraxis": {
         "colorbar": {
          "title": {
           "text": "Concentration (particles/m³)"
          }
         },
         "colorscale": [
          [
           0,
           "#440154"
          ],
          [
           0.1111111111111111,
           "#482878"
          ],
          [
           0.2222222222222222,
           "#3e4989"
          ],
          [
           0.3333333333333333,
           "#31688e"
          ],
          [
           0.4444444444444444,
           "#26828e"
          ],
          [
           0.5555555555555556,
           "#1f9e89"
          ],
          [
           0.6666666666666666,
           "#35b779"
          ],
          [
           0.7777777777777778,
           "#6ece58"
          ],
          [
           0.8888888888888888,
           "#b5de2b"
          ],
          [
           1,
           "#fde725"
          ]
         ]
        },
        "font": {
         "size": 12
        },
        "height": 600,
        "legend": {
         "tracegroupgap": 0
        },
        "mapbox": {
         "center": {
          "lat": 20,
          "lon": 0
         },
         "domain": {
          "x": [
           0,
           1
          ],
          "y": [
           0,
           1
          ]
         },
         "style": "open-street-map",
         "zoom": 2
        },
        "template": {
         "data": {
          "bar": [
           {
            "error_x": {
             "color": "#2a3f5f"
            },
            "error_y": {
             "color": "#2a3f5f"
            },
            "marker": {
             "line": {
              "color": "#E5ECF6",
              "width": 0.5
             },
             "pattern": {
              "fillmode": "overlay",
              "size": 10,
              "solidity": 0.2
             }
            },
            "type": "bar"
           }
          ],
          "barpolar": [
           {
            "marker": {
             "line": {
              "color": "#E5ECF6",
              "width": 0.5
             },
             "pattern": {
              "fillmode": "overlay",
              "size": 10,
              "solidity": 0.2
             }
            },
            "type": "barpolar"
           }
          ],
          "carpet": [
           {
            "aaxis": {
             "endlinecolor": "#2a3f5f",
             "gridcolor": "white",
             "linecolor": "white",
             "minorgridcolor": "white",
             "startlinecolor": "#2a3f5f"
            },
            "baxis": {
             "endlinecolor": "#2a3f5f",
             "gridcolor": "white",
             "linecolor": "white",
             "minorgridcolor": "white",
             "startlinecolor": "#2a3f5f"
            },
            "type": "carpet"
           }
          ],
          "choropleth": [
           {
            "colorbar": {
             "outlinewidth": 0,
             "ticks": ""
            },
            "type": "choropleth"
           }
          ],
          "contour": [
           {
            "colorbar": {
             "outlinewidth": 0,
             "ticks": ""
            },
            "colorscale": [
             [
              0,
              "#0d0887"
             ],
             [
              0.1111111111111111,
              "#46039f"
             ],
             [
              0.2222222222222222,
              "#7201a8"
             ],
             [
              0.3333333333333333,
              "#9c179e"
             ],
             [
              0.4444444444444444,
              "#bd3786"
             ],
             [
              0.5555555555555556,
              "#d8576b"
             ],
             [
              0.6666666666666666,
              "#ed7953"
             ],
             [
              0.7777777777777778,
              "#fb9f3a"
             ],
             [
              0.8888888888888888,
              "#fdca26"
             ],
             [
              1,
              "#f0f921"
             ]
            ],
            "type": "contour"
           }
          ],
          "contourcarpet": [
           {
            "colorbar": {
             "outlinewidth": 0,
             "ticks": ""
            },
            "type": "contourcarpet"
           }
          ],
          "heatmap": [
           {
            "colorbar": {
             "outlinewidth": 0,
             "ticks": ""
            },
            "colorscale": [
             [
              0,
              "#0d0887"
             ],
             [
              0.1111111111111111,
              "#46039f"
             ],
             [
              0.2222222222222222,
              "#7201a8"
             ],
             [
              0.3333333333333333,
              "#9c179e"
             ],
             [
              0.4444444444444444,
              "#bd3786"
             ],
             [
              0.5555555555555556,
              "#d8576b"
             ],
             [
              0.6666666666666666,
              "#ed7953"
             ],
             [
              0.7777777777777778,
              "#fb9f3a"
             ],
             [
              0.8888888888888888,
              "#fdca26"
             ],
             [
              1,
              "#f0f921"
             ]
            ],
            "type": "heatmap"
           }
          ],
          "histogram": [
           {
            "marker": {
             "pattern": {
              "fillmode": "overlay",
              "size": 10,
              "solidity": 0.2
             }
            },
            "type": "histogram"
           }
          ],
          "histogram2d": [
           {
            "colorbar": {
             "outlinewidth": 0,
             "ticks": ""
            },
            "colorscale": [
             [
              0,
              "#0d0887"
             ],
             [
              0.1111111111111111,
              "#46039f"
             ],
             [
              0.2222222222222222,
              "#7201a8"
             ],
             [
              0.3333333333333333,
              "#9c179e"
             ],
             [
              0.4444444444444444,
              "#bd3786"
             ],
             [
              0.5555555555555556,
              "#d8576b"
             ],
             [
              0.6666666666666666,
              "#ed7953"
             ],
             [
              0.7777777777777778,
              "#fb9f3a"
             ],
             [
              0.8888888888888888,
              "#fdca26"
             ],
             [
              1,
              "#f0f921"
             ]
            ],
            "type": "histogram2d"
           }
          ],
          "histogram2dcontour": [
           {
            "colorbar": {
             "outlinewidth": 0,
             "ticks": ""
            },
            "colorscale": [
             [
              0,
              "#0d0887"
             ],
             [
              0.1111111111111111,
              "#46039f"
             ],
             [
              0.2222222222222222,
              "#7201a8"
             ],
             [
              0.3333333333333333,
              "#9c179e"
             ],
             [
              0.4444444444444444,
              "#bd3786"
             ],
             [
              0.5555555555555556,
              "#d8576b"
             ],
             [
              0.6666666666666666,
              "#ed7953"
             ],
             [
              0.7777777777777778,
              "#fb9f3a"
             ],
             [
              0.8888888888888888,
              "#fdca26"
             ],
             [
              1,
              "#f0f921"
             ]
            ],
            "type": "histogram2dcontour"
           }
          ],
          "mesh3d": [
           {
            "colorbar": {
             "outlinewidth": 0,
             "ticks": ""
            },
            "type": "mesh3d"
           }
          ],
          "parcoords": [
           {
            "line": {
             "colorbar": {
              "outlinewidth": 0,
              "ticks": ""
             }
            },
            "type": "parcoords"
           }
          ],
          "pie": [
           {
            "automargin": true,
            "type": "pie"
           }
          ],
          "scatter": [
           {
            "fillpattern": {
             "fillmode": "overlay",
             "size": 10,
             "solidity": 0.2
            },
            "type": "scatter"
           }
          ],
          "scatter3d": [
           {
            "line": {
             "colorbar": {
              "outlinewidth": 0,
              "ticks": ""
             }
            },
            "marker": {
             "colorbar": {
              "outlinewidth": 0,
              "ticks": ""
             }
            },
            "type": "scatter3d"
           }
          ],
          "scattercarpet": [
           {
            "marker": {
             "colorbar": {
              "outlinewidth": 0,
              "ticks": ""
             }
            },
            "type": "scattercarpet"
           }
          ],
          "scattergeo": [
           {
            "marker": {
             "colorbar": {
              "outlinewidth": 0,
              "ticks": ""
             }
            },
            "type": "scattergeo"
           }
          ],
          "scattergl": [
           {
            "marker": {
             "colorbar": {
              "outlinewidth": 0,
              "ticks": ""
             }
            },
            "type": "scattergl"
           }
          ],
          "scattermap": [
           {
            "marker": {
             "colorbar": {
              "outlinewidth": 0,
              "ticks": ""
             }
            },
            "type": "scattermap"
           }
          ],
          "scattermapbox": [
           {
            "marker": {
             "colorbar": {
              "outlinewidth": 0,
              "ticks": ""
             }
            },
            "type": "scattermapbox"
           }
          ],
          "scatterpolar": [
           {
            "marker": {
             "colorbar": {
              "outlinewidth": 0,
              "ticks": ""
             }
            },
            "type": "scatterpolar"
           }
          ],
          "scatterpolargl": [
           {
            "marker": {
             "colorbar": {
              "outlinewidth": 0,
              "ticks": ""
             }
            },
            "type": "scatterpolargl"
           }
          ],
          "scatterternary": [
           {
            "marker": {
             "colorbar": {
              "outlinewidth": 0,
              "ticks": ""
             }
            },
            "type": "scatterternary"
           }
          ],
          "surface": [
           {
            "colorbar": {
             "outlinewidth": 0,
             "ticks": ""
            },
            "colorscale": [
             [
              0,
              "#0d0887"
             ],
             [
              0.1111111111111111,
              "#46039f"
             ],
             [
              0.2222222222222222,
              "#7201a8"
             ],
             [
              0.3333333333333333,
              "#9c179e"
             ],
             [
              0.4444444444444444,
              "#bd3786"
             ],
             [
              0.5555555555555556,
              "#d8576b"
             ],
             [
              0.6666666666666666,
              "#ed7953"
             ],
             [
              0.7777777777777778,
              "#fb9f3a"
             ],
             [
              0.8888888888888888,
              "#fdca26"
             ],
             [
              1,
              "#f0f921"
             ]
            ],
            "type": "surface"
           }
          ],
          "table": [
           {
            "cells": {
             "fill": {
              "color": "#EBF0F8"
             },
             "line": {
              "color": "white"
             }
            },
            "header": {
             "fill": {
              "color": "#C8D4E3"
             },
             "line": {
              "color": "white"
             }
            },
            "type": "table"
           }
          ]
         },
         "layout": {
          "annotationdefaults": {
           "arrowcolor": "#2a3f5f",
           "arrowhead": 0,
           "arrowwidth": 1
          },
          "autotypenumbers": "strict",
          "coloraxis": {
           "colorbar": {
            "outlinewidth": 0,
            "ticks": ""
           }
          },
          "colorscale": {
           "diverging": [
            [
             0,
             "#8e0152"
            ],
            [
             0.1,
             "#c51b7d"
            ],
            [
             0.2,
             "#de77ae"
            ],
            [
             0.3,
             "#f1b6da"
            ],
            [
             0.4,
             "#fde0ef"
            ],
            [
             0.5,
             "#f7f7f7"
            ],
            [
             0.6,
             "#e6f5d0"
            ],
            [
             0.7,
             "#b8e186"
            ],
            [
             0.8,
             "#7fbc41"
            ],
            [
             0.9,
             "#4d9221"
            ],
            [
             1,
             "#276419"
            ]
           ],
           "sequential": [
            [
             0,
             "#0d0887"
            ],
            [
             0.1111111111111111,
             "#46039f"
            ],
            [
             0.2222222222222222,
             "#7201a8"
            ],
            [
             0.3333333333333333,
             "#9c179e"
            ],
            [
             0.4444444444444444,
             "#bd3786"
            ],
            [
             0.5555555555555556,
             "#d8576b"
            ],
            [
             0.6666666666666666,
             "#ed7953"
            ],
            [
             0.7777777777777778,
             "#fb9f3a"
            ],
            [
             0.8888888888888888,
             "#fdca26"
            ],
            [
             1,
             "#f0f921"
            ]
           ],
           "sequentialminus": [
            [
             0,
             "#0d0887"
            ],
            [
             0.1111111111111111,
             "#46039f"
            ],
            [
             0.2222222222222222,
             "#7201a8"
            ],
            [
             0.3333333333333333,
             "#9c179e"
            ],
            [
             0.4444444444444444,
             "#bd3786"
            ],
            [
             0.5555555555555556,
             "#d8576b"
            ],
            [
             0.6666666666666666,
             "#ed7953"
            ],
            [
             0.7777777777777778,
             "#fb9f3a"
            ],
            [
             0.8888888888888888,
             "#fdca26"
            ],
            [
             1,
             "#f0f921"
            ]
           ]
          },
          "colorway": [
           "#636efa",
           "#EF553B",
           "#00cc96",
           "#ab63fa",
           "#FFA15A",
           "#19d3f3",
           "#FF6692",
           "#B6E880",
           "#FF97FF",
           "#FECB52"
          ],
          "font": {
           "color": "#2a3f5f"
          },
          "geo": {
           "bgcolor": "white",
           "lakecolor": "white",
           "landcolor": "#E5ECF6",
           "showlakes": true,
           "showland": true,
           "subunitcolor": "white"
          },
          "hoverlabel": {
           "align": "left"
          },
          "hovermode": "closest",
          "mapbox": {
           "style": "light"
          },
          "paper_bgcolor": "white",
          "plot_bgcolor": "#E5ECF6",
          "polar": {
           "angularaxis": {
            "gridcolor": "white",
            "linecolor": "white",
            "ticks": ""
           },
           "bgcolor": "#E5ECF6",
           "radialaxis": {
            "gridcolor": "white",
            "linecolor": "white",
            "ticks": ""
           }
          },
          "scene": {
           "xaxis": {
            "backgroundcolor": "#E5ECF6",
            "gridcolor": "white",
            "gridwidth": 2,
            "linecolor": "white",
            "showbackground": true,
            "ticks": "",
            "zerolinecolor": "white"
           },
           "yaxis": {
            "backgroundcolor": "#E5ECF6",
            "gridcolor": "white",
            "gridwidth": 2,
            "linecolor": "white",
            "showbackground": true,
            "ticks": "",
            "zerolinecolor": "white"
           },
           "zaxis": {
            "backgroundcolor": "#E5ECF6",
            "gridcolor": "white",
            "gridwidth": 2,
            "linecolor": "white",
            "showbackground": true,
            "ticks": "",
            "zerolinecolor": "white"
           }
          },
          "shapedefaults": {
           "line": {
            "color": "#2a3f5f"
           }
          },
          "ternary": {
           "aaxis": {
            "gridcolor": "white",
            "linecolor": "white",
            "ticks": ""
           },
           "baxis": {
            "gridcolor": "white",
            "linecolor": "white",
            "ticks": ""
           },
           "bgcolor": "#E5ECF6",
           "caxis": {
            "gridcolor": "white",
            "linecolor": "white",
            "ticks": ""
           }
          },
          "title": {
           "x": 0.05
          },
          "xaxis": {
           "automargin": true,
           "gridcolor": "white",
           "linecolor": "white",
           "ticks": "",
           "title": {
            "standoff": 15
           },
           "zerolinecolor": "white",
           "zerolinewidth": 2
          },
          "yaxis": {
           "automargin": true,
           "gridcolor": "white",
           "linecolor": "white",
           "ticks": "",
           "title": {
            "standoff": 15
           },
           "zerolinecolor": "white",
           "zerolinewidth": 2
          }
         }
        },
        "title": {
         "text": "Global Microplastic Concentration Heatmap",
         "x": 0.5
        }
       }
      }
     },
     "metadata": {},
     "output_type": "display_data"
    },
    {
     "name": "stdout",
     "output_type": "stream",
     "text": [
      "🔥 Concentration heatmap shows density of microplastic particles\n",
      "📊 Darker areas indicate higher concentrations\n"
     ]
    }
   ],
   "source": [
    "# Create concentration heatmap\n",
    "heatmap_fig = visualizer.create_concentration_heatmap()\n",
    "heatmap_fig.show()\n",
    "\n",
    "print(\"🔥 Concentration heatmap shows density of microplastic particles\")\n",
    "print(\"📊 Darker areas indicate higher concentrations\")"
   ]
  },
  {
   "cell_type": "markdown",
   "id": "d4fb23ef",
   "metadata": {},
   "source": [
    "## 📈 Temporal Analysis Dashboard"
   ]
  },
  {
   "cell_type": "code",
   "execution_count": 16,
   "id": "518f3560",
   "metadata": {},
   "outputs": [
    {
     "name": "stderr",
     "output_type": "stream",
     "text": [
      "INFO:src.visualization.interactive_maps:Temporal analysis saved to visualizations/temporal_analysis.html\n"
     ]
    },
    {
     "data": {
      "application/vnd.plotly.v1+json": {
       "config": {
        "plotlyServerURL": "https://plot.ly"
       },
       "data": [
        {
         "marker": {
          "color": {
           "bdata": "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",
           "dtype": "f8"
          },
          "colorscale": [
           [
            0,
            "rgb(255,245,240)"
           ],
           [
            0.125,
            "rgb(254,224,210)"
           ],
           [
            0.25,
            "rgb(252,187,161)"
           ],
           [
            0.375,
            "rgb(252,146,114)"
           ],
           [
            0.5,
            "rgb(251,106,74)"
           ],
           [
            0.625,
            "rgb(239,59,44)"
           ],
           [
            0.75,
            "rgb(203,24,29)"
           ],
           [
            0.875,
            "rgb(165,15,21)"
           ],
           [
            1,
            "rgb(103,0,13)"
           ]
          ],
          "size": 6
         },
         "mode": "markers+lines",
         "name": "Hotspot Probability",
         "type": "scatter",
         "x": [
          "2024-10-17T16:06:16.038169000",
          "2024-10-17T16:06:16.038169000",
          "2024-10-17T16:06:16.038169000",
          "2024-10-20T16:06:16.038169000",
          "2024-10-21T16:06:16.038169000",
          "2024-10-21T16:06:16.038169000",
          "2024-10-26T16:06:16.038169000",
          "2024-10-26T16:06:16.038169000",
          "2024-10-27T16:06:16.038169000",
          "2024-10-29T16:06:16.038169000",
          "2024-10-30T16:06:16.038169000",
          "2024-10-31T16:06:16.038169000",
          "2024-10-31T16:06:16.038169000",
          "2024-11-05T16:06:16.038169000",
          "2024-11-08T16:06:16.038169000",
          "2024-11-08T16:06:16.038169000",
          "2024-11-11T16:06:16.038169000",
          "2024-11-14T16:06:16.038169000",
          "2024-11-20T16:06:16.038169000",
          "2024-11-23T16:06:16.038169000",
          "2024-11-23T16:06:16.038169000",
          "2024-11-23T16:06:16.038169000",
          "2024-11-23T16:06:16.038169000",
          "2024-11-24T16:06:16.038169000",
          "2024-11-27T16:06:16.038169000",
          "2024-11-27T16:06:16.038169000",
          "2024-12-02T16:06:16.038169000",
          "2024-12-02T16:06:16.038169000",
          "2024-12-06T16:06:16.038169000",
          "2024-12-15T16:06:16.038169000",
          "2024-12-17T16:06:16.038169000",
          "2024-12-17T16:06:16.038169000",
          "2024-12-18T16:06:16.038169000",
          "2024-12-22T16:06:16.038169000",
          "2024-12-24T16:06:16.038169000",
          "2024-12-24T16:06:16.038169000",
          "2024-12-30T16:06:16.038169000",
          "2024-12-31T16:06:16.038169000",
          "2025-01-02T16:06:16.038169000",
          "2025-01-08T16:06:16.038169000",
          "2025-01-10T16:06:16.038169000",
          "2025-01-13T16:06:16.038169000",
          "2025-01-13T16:06:16.038169000",
          "2025-01-14T16:06:16.038169000",
          "2025-01-16T16:06:16.038169000",
          "2025-01-18T16:06:16.038169000",
          "2025-01-18T16:06:16.038169000",
          "2025-01-19T16:06:16.038169000",
          "2025-01-19T16:06:16.038169000",
          "2025-01-21T16:06:16.038169000",
          "2025-01-25T16:06:16.038169000",
          "2025-01-25T16:06:16.038169000",
          "2025-01-28T16:06:16.038169000",
          "2025-01-28T16:06:16.038169000",
          "2025-01-28T16:06:16.038169000",
          "2025-01-28T16:06:16.038169000",
          "2025-01-28T16:06:16.038169000",
          "2025-01-30T16:06:16.038169000",
          "2025-02-03T16:06:16.038169000",
          "2025-02-04T16:06:16.038169000",
          "2025-02-04T16:06:16.038169000",
          "2025-02-06T16:06:16.038169000",
          "2025-02-08T16:06:16.038169000",
          "2025-02-11T16:06:16.038169000",
          "2025-02-11T16:06:16.038169000",
          "2025-02-11T16:06:16.038169000",
          "2025-02-16T16:06:16.038169000",
          "2025-02-18T16:06:16.038169000",
          "2025-02-20T16:06:16.038169000",
          "2025-02-23T16:06:16.038169000",
          "2025-02-23T16:06:16.038169000",
          "2025-02-25T16:06:16.038169000",
          "2025-02-26T16:06:16.038169000",
          "2025-02-26T16:06:16.038169000",
          "2025-02-27T16:06:16.038169000",
          "2025-02-27T16:06:16.038169000",
          "2025-02-27T16:06:16.038169000",
          "2025-03-01T16:06:16.038169000",
          "2025-03-02T16:06:16.038169000",
          "2025-03-03T16:06:16.038169000",
          "2025-03-04T16:06:16.038169000",
          "2025-03-05T16:06:16.038169000",
          "2025-03-06T16:06:16.038169000",
          "2025-03-07T16:06:16.038169000",
          "2025-03-08T16:06:16.038169000",
          "2025-03-10T16:06:16.038169000",
          "2025-03-13T16:06:16.038169000",
          "2025-03-18T16:06:16.038169000",
          "2025-03-22T16:06:16.038169000",
          "2025-03-22T16:06:16.038169000",
          "2025-03-22T16:06:16.038169000",
          "2025-03-22T16:06:16.038169000",
          "2025-03-24T16:06:16.038169000",
          "2025-03-26T16:06:16.038169000",
          "2025-03-30T16:06:16.038169000",
          "2025-04-02T16:06:16.038169000",
          "2025-04-05T16:06:16.038169000",
          "2025-04-06T16:06:16.038169000",
          "2025-04-07T16:06:16.038169000",
          "2025-04-07T16:06:16.038169000",
          "2025-04-12T16:06:16.038169000",
          "2025-04-13T16:06:16.038169000",
          "2025-04-13T16:06:16.038169000",
          "2025-04-16T16:06:16.038169000",
          "2025-04-18T16:06:16.038169000",
          "2025-04-28T16:06:16.038169000",
          "2025-04-30T16:06:16.038169000",
          "2025-05-02T16:06:16.038169000",
          "2025-05-04T16:06:16.038169000",
          "2025-05-07T16:06:16.038169000",
          "2025-05-14T16:06:16.038169000",
          "2025-05-16T16:06:16.038169000",
          "2025-05-17T16:06:16.038169000",
          "2025-05-18T16:06:16.038169000",
          "2025-05-20T16:06:16.038169000",
          "2025-05-22T16:06:16.038169000",
          "2025-05-24T16:06:16.038169000",
          "2025-05-29T16:06:16.038169000",
          "2025-05-29T16:06:16.038169000",
          "2025-06-01T16:06:16.038169000",
          "2025-06-02T16:06:16.038169000",
          "2025-06-04T16:06:16.038169000",
          "2025-06-09T16:06:16.038169000",
          "2025-06-10T16:06:16.038169000",
          "2025-06-16T16:06:16.038169000",
          "2025-06-27T16:06:16.038169000",
          "2025-06-27T16:06:16.038169000",
          "2025-06-30T16:06:16.038169000",
          "2025-07-02T16:06:16.038169000",
          "2025-07-04T16:06:16.038169000",
          "2025-07-04T16:06:16.038169000",
          "2025-07-08T16:06:16.038169000",
          "2025-07-10T16:06:16.038169000",
          "2025-07-10T16:06:16.038169000",
          "2025-07-13T16:06:16.038169000",
          "2025-07-16T16:06:16.038169000",
          "2025-07-18T16:06:16.038169000",
          "2025-07-25T16:06:16.038169000",
          "2025-07-26T16:06:16.038169000",
          "2025-07-29T16:06:16.038169000",
          "2025-07-30T16:06:16.038169000",
          "2025-07-31T16:06:16.038169000",
          "2025-08-01T16:06:16.038169000",
          "2025-08-01T16:06:16.038169000",
          "2025-08-03T16:06:16.038169000",
          "2025-08-04T16:06:16.038169000",
          "2025-08-05T16:06:16.038169000",
          "2025-08-05T16:06:16.038169000",
          "2025-08-06T16:06:16.038169000",
          "2025-08-07T16:06:16.038169000",
          "2025-08-08T16:06:16.038169000",
          "2025-08-08T16:06:16.038169000",
          "2025-08-08T16:06:16.038169000",
          "2025-08-09T16:06:16.038169000",
          "2025-08-11T16:06:16.038169000",
          "2025-08-12T16:06:16.038169000",
          "2025-08-14T16:06:16.038169000",
          "2025-08-14T16:06:16.038169000",
          "2025-08-15T16:06:16.038169000",
          "2025-08-15T16:06:16.038169000",
          "2025-08-17T16:06:16.038169000",
          "2025-08-21T16:06:16.038169000",
          "2025-08-25T16:06:16.038169000",
          "2025-08-28T16:06:16.038169000",
          "2025-08-28T16:06:16.038169000",
          "2025-08-30T16:06:16.038169000",
          "2025-08-31T16:06:16.038169000",
          "2025-08-31T16:06:16.038169000",
          "2025-09-01T16:06:16.038169000",
          "2025-09-01T16:06:16.038169000",
          "2025-09-01T16:06:16.038169000",
          "2025-09-02T16:06:16.038169000",
          "2025-09-03T16:06:16.038169000",
          "2025-09-05T16:06:16.038169000",
          "2025-09-05T16:06:16.038169000",
          "2025-09-05T16:06:16.038169000",
          "2025-09-07T16:06:16.038169000",
          "2025-09-09T16:06:16.038169000",
          "2025-09-09T16:06:16.038169000",
          "2025-09-09T16:06:16.038169000",
          "2025-09-10T16:06:16.038169000",
          "2025-09-11T16:06:16.038169000",
          "2025-09-11T16:06:16.038169000",
          "2025-09-13T16:06:16.038169000",
          "2025-09-14T16:06:16.038169000",
          "2025-09-15T16:06:16.038169000",
          "2025-09-16T16:06:16.038169000",
          "2025-09-16T16:06:16.038169000",
          "2025-09-20T16:06:16.038169000",
          "2025-09-27T16:06:16.038169000",
          "2025-09-27T16:06:16.038169000",
          "2025-09-30T16:06:16.038169000",
          "2025-10-04T16:06:16.038169000",
          "2025-10-04T16:06:16.038169000",
          "2025-10-07T16:06:16.038169000",
          "2025-10-07T16:06:16.038169000",
          "2025-10-11T16:06:16.038169000",
          "2025-10-12T16:06:16.038169000",
          "2025-10-14T16:06:16.038169000",
          "2025-10-16T16:06:16.038169000"
         ],
         "xaxis": "x",
         "y": {
          "bdata": "cAqNe1lWpj8esfpLATHpP6kz7Uyhe7M/DpfDTQ6V6D/I1j9WXGWgv/lLlgaQLbg/oy7jSz+vzz+ocVzprwGyvxDTM20Fj7I/NHK9Tg4v0z8YlEkxwcXEPzNnR0CcBsk/IzPLKYhRzj8maS5B2NW1PyCoPKCe6MU/2Up3YI2X2z/Y7dZy0+6Vv92apdayp8g/SxNrtGCw1D/enqRFtpq6v0DAXiuYPqk/ZnIiK4Xq4T9GK7bdg+3QP4iejdAWVLs/0BS4YeCkzD+ml6dikQ/FPz1TYc/kFcI/XxcIdCrctj9k9hTBbpmjv6Ck/m1YoZM/u9LPsgJrxD96f9Pyni2rP1DZhNbVhom/DWQKEv05sz9N8U270AmoP7zr8I1pPpc/HuvjMkAjuj/cVFWULC7UP666GuKW5cs/z1fsv0juwD+ytQxFudLQP1DHTEMrIc4/sJiuVpTKzj9Yc8a6YjSSP4nB2EkyurQ/5khZ00UVvD+eX6plNla/P0y4jSQg7Lk/VY/YBbSAuj9CMEbvA7SyP3CG8fzM2os/Q7Cbcmu04T8Z0fwSGiisP5Fv9SbM+uM/Nfm5bq+PvD/owdzGdrOAvzDisPoe5cs/oAImrxWDbr/oGJCQik+RP9RVvZxwGKI/oNHtXhW8bD/MdCJ9fN6RP3CsMgGEv54/HmIW/IpRtz/WcV7JsUS2PwHPtuxWSbk/fbLIXKA64T+nX/M48sjmP7KgdE+zssM/bggw2Wf50j8OiDbE2DWyP/RlAjSZQbK/Ope1FKSUuz+Eg/Ny6snEPwvZDnWEObM/wWcY2yzR6D/uies+B/PAP25kyql1QMM/EiYafiMUyT9iLgtGbYG1P5aKzMpcir8/gpiroV1fsT/OKMzvBM++P6wq++Wg1r8/IMAgw71Yq7/QBXn/uQ3BP8JUzMzVt6U/MaoLzX0nzT9o+3EPA8SSv2rZAHralMU//+hNIZZK0z+5GH2hjobUP9bZnNkuX8U/zFD/s8AitD+/qn6CuBjDP7CTPLZFILk/jZPy1MEVyD8rFH+y+Ry5P0EoJJ2yn8s/7H/oDkBDlL8Ouh34lMfAPznVa3aA9LU/KPzNlXE8yT+0neJtCEPAP4CQTobT/rc/6JY9WDydkj9XgXgDMH+7P21Wlfb2ZOM/0HkdHjtK3T8AY2LWvrdDv7DWqlaQnqW/SL8wioGHoD84JHMz/82EP4Pfz5+JAcQ/sI393/xAeL+oCHUu0Ayvv8rd6suXgs0/Nyizl0fP1D/uIQmFEkjJP8Dre7IPoHg/ZS8LgThzvT8egAmgeWyzv8WlhAukLMM/U7WnoPOqtj/w33VR8BO/P74iEhy7zuQ/IL38SIhE0T/BX7ykWUKqP3wwsNjQ1Jw/uQdw1i3Hxz8QvVPhAQ2oPwgbf4pDosU/qhkMBBnjoT+sRm8WBkioP/o+wn2qLME/qOI9BCHxwT+s126LZIq7P+xrQiF08bM/LibbUgB/xj9foChAxq7fP+g8JYsveYk/gDBiFISye7+Xf52cC1nKP8026N4K/MU/7Oo/q2bo1T+ijZ1ncrm2P1kmpOs0Fas/oKX87rNojD9wS+s6fC2fv/UD+vR9zbo/IAwIycme0j8MMo9+lcPVP8rTkM/8xdo/GLn12hpopL/7U1krTanEP248zZnr7sY/PU0CCZPepD9N2MwSBcjYP7AWsLIRfsE//jjqm9Ya2j+en3zmuhm8P+77X/KAw+E/SOvjCVxQuD8cFQ/knDLRP/2zTXxRaNI/mkBJ2To6uj+FdH87mHLDP6hvy4ZT7oI/qqv4USxq1D8oTXCCmGmQP02lwE4D378/xKThggmxkT+YYHDaEHajv+c5n+xHvs8/0JVre9QKhT/AyB/H2d5svzqlcTfD18Q/7t56Efe7uT9O/ePw4iXQP+CiACKQxby/EO2USWjn2D8ct6pYtmCqvwrvN+pUw7g/alU3Z2japj9g5wyNtdykvyP5qUnoX88/3zvl0HsY7T846lZcPKixP+2g++EPH9I/7v4dYpfXuj+6TpMTW8jmP0dgRTnXgqQ/ziUBq5ZTu78wR83idOTcP8ghhI4h8aa/3206ullluT/t854KxkvOPzhEhVgxqpg/4AHJNew1cj+4+k7y1+OoPw==",
          "dtype": "f8"
         },
         "yaxis": "y"
        },
        {
         "marker": {
          "color": {
           "bdata": "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",
           "dtype": "f8"
          },
          "colorscale": [
           [
            0,
            "#440154"
           ],
           [
            0.1111111111111111,
            "#482878"
           ],
           [
            0.2222222222222222,
            "#3e4989"
           ],
           [
            0.3333333333333333,
            "#31688e"
           ],
           [
            0.4444444444444444,
            "#26828e"
           ],
           [
            0.5555555555555556,
            "#1f9e89"
           ],
           [
            0.6666666666666666,
            "#35b779"
           ],
           [
            0.7777777777777778,
            "#6ece58"
           ],
           [
            0.8888888888888888,
            "#b5de2b"
           ],
           [
            1,
            "#fde725"
           ]
          ],
          "size": 6
         },
         "mode": "markers",
         "name": "Concentration",
         "type": "scatter",
         "x": [
          "2024-10-17T16:06:16.038169000",
          "2024-10-17T16:06:16.038169000",
          "2024-10-17T16:06:16.038169000",
          "2024-10-20T16:06:16.038169000",
          "2024-10-21T16:06:16.038169000",
          "2024-10-21T16:06:16.038169000",
          "2024-10-26T16:06:16.038169000",
          "2024-10-26T16:06:16.038169000",
          "2024-10-27T16:06:16.038169000",
          "2024-10-29T16:06:16.038169000",
          "2024-10-30T16:06:16.038169000",
          "2024-10-31T16:06:16.038169000",
          "2024-10-31T16:06:16.038169000",
          "2024-11-05T16:06:16.038169000",
          "2024-11-08T16:06:16.038169000",
          "2024-11-08T16:06:16.038169000",
          "2024-11-11T16:06:16.038169000",
          "2024-11-14T16:06:16.038169000",
          "2024-11-20T16:06:16.038169000",
          "2024-11-23T16:06:16.038169000",
          "2024-11-23T16:06:16.038169000",
          "2024-11-23T16:06:16.038169000",
          "2024-11-23T16:06:16.038169000",
          "2024-11-24T16:06:16.038169000",
          "2024-11-27T16:06:16.038169000",
          "2024-11-27T16:06:16.038169000",
          "2024-12-02T16:06:16.038169000",
          "2024-12-02T16:06:16.038169000",
          "2024-12-06T16:06:16.038169000",
          "2024-12-15T16:06:16.038169000",
          "2024-12-17T16:06:16.038169000",
          "2024-12-17T16:06:16.038169000",
          "2024-12-18T16:06:16.038169000",
          "2024-12-22T16:06:16.038169000",
          "2024-12-24T16:06:16.038169000",
          "2024-12-24T16:06:16.038169000",
          "2024-12-30T16:06:16.038169000",
          "2024-12-31T16:06:16.038169000",
          "2025-01-02T16:06:16.038169000",
          "2025-01-08T16:06:16.038169000",
          "2025-01-10T16:06:16.038169000",
          "2025-01-13T16:06:16.038169000",
          "2025-01-13T16:06:16.038169000",
          "2025-01-14T16:06:16.038169000",
          "2025-01-16T16:06:16.038169000",
          "2025-01-18T16:06:16.038169000",
          "2025-01-18T16:06:16.038169000",
          "2025-01-19T16:06:16.038169000",
          "2025-01-19T16:06:16.038169000",
          "2025-01-21T16:06:16.038169000",
          "2025-01-25T16:06:16.038169000",
          "2025-01-25T16:06:16.038169000",
          "2025-01-28T16:06:16.038169000",
          "2025-01-28T16:06:16.038169000",
          "2025-01-28T16:06:16.038169000",
          "2025-01-28T16:06:16.038169000",
          "2025-01-28T16:06:16.038169000",
          "2025-01-30T16:06:16.038169000",
          "2025-02-03T16:06:16.038169000",
          "2025-02-04T16:06:16.038169000",
          "2025-02-04T16:06:16.038169000",
          "2025-02-06T16:06:16.038169000",
          "2025-02-08T16:06:16.038169000",
          "2025-02-11T16:06:16.038169000",
          "2025-02-11T16:06:16.038169000",
          "2025-02-11T16:06:16.038169000",
          "2025-02-16T16:06:16.038169000",
          "2025-02-18T16:06:16.038169000",
          "2025-02-20T16:06:16.038169000",
          "2025-02-23T16:06:16.038169000",
          "2025-02-23T16:06:16.038169000",
          "2025-02-25T16:06:16.038169000",
          "2025-02-26T16:06:16.038169000",
          "2025-02-26T16:06:16.038169000",
          "2025-02-27T16:06:16.038169000",
          "2025-02-27T16:06:16.038169000",
          "2025-02-27T16:06:16.038169000",
          "2025-03-01T16:06:16.038169000",
          "2025-03-02T16:06:16.038169000",
          "2025-03-03T16:06:16.038169000",
          "2025-03-04T16:06:16.038169000",
          "2025-03-05T16:06:16.038169000",
          "2025-03-06T16:06:16.038169000",
          "2025-03-07T16:06:16.038169000",
          "2025-03-08T16:06:16.038169000",
          "2025-03-10T16:06:16.038169000",
          "2025-03-13T16:06:16.038169000",
          "2025-03-18T16:06:16.038169000",
          "2025-03-22T16:06:16.038169000",
          "2025-03-22T16:06:16.038169000",
          "2025-03-22T16:06:16.038169000",
          "2025-03-22T16:06:16.038169000",
          "2025-03-24T16:06:16.038169000",
          "2025-03-26T16:06:16.038169000",
          "2025-03-30T16:06:16.038169000",
          "2025-04-02T16:06:16.038169000",
          "2025-04-05T16:06:16.038169000",
          "2025-04-06T16:06:16.038169000",
          "2025-04-07T16:06:16.038169000",
          "2025-04-07T16:06:16.038169000",
          "2025-04-12T16:06:16.038169000",
          "2025-04-13T16:06:16.038169000",
          "2025-04-13T16:06:16.038169000",
          "2025-04-16T16:06:16.038169000",
          "2025-04-18T16:06:16.038169000",
          "2025-04-28T16:06:16.038169000",
          "2025-04-30T16:06:16.038169000",
          "2025-05-02T16:06:16.038169000",
          "2025-05-04T16:06:16.038169000",
          "2025-05-07T16:06:16.038169000",
          "2025-05-14T16:06:16.038169000",
          "2025-05-16T16:06:16.038169000",
          "2025-05-17T16:06:16.038169000",
          "2025-05-18T16:06:16.038169000",
          "2025-05-20T16:06:16.038169000",
          "2025-05-22T16:06:16.038169000",
          "2025-05-24T16:06:16.038169000",
          "2025-05-29T16:06:16.038169000",
          "2025-05-29T16:06:16.038169000",
          "2025-06-01T16:06:16.038169000",
          "2025-06-02T16:06:16.038169000",
          "2025-06-04T16:06:16.038169000",
          "2025-06-09T16:06:16.038169000",
          "2025-06-10T16:06:16.038169000",
          "2025-06-16T16:06:16.038169000",
          "2025-06-27T16:06:16.038169000",
          "2025-06-27T16:06:16.038169000",
          "2025-06-30T16:06:16.038169000",
          "2025-07-02T16:06:16.038169000",
          "2025-07-04T16:06:16.038169000",
          "2025-07-04T16:06:16.038169000",
          "2025-07-08T16:06:16.038169000",
          "2025-07-10T16:06:16.038169000",
          "2025-07-10T16:06:16.038169000",
          "2025-07-13T16:06:16.038169000",
          "2025-07-16T16:06:16.038169000",
          "2025-07-18T16:06:16.038169000",
          "2025-07-25T16:06:16.038169000",
          "2025-07-26T16:06:16.038169000",
          "2025-07-29T16:06:16.038169000",
          "2025-07-30T16:06:16.038169000",
          "2025-07-31T16:06:16.038169000",
          "2025-08-01T16:06:16.038169000",
          "2025-08-01T16:06:16.038169000",
          "2025-08-03T16:06:16.038169000",
          "2025-08-04T16:06:16.038169000",
          "2025-08-05T16:06:16.038169000",
          "2025-08-05T16:06:16.038169000",
          "2025-08-06T16:06:16.038169000",
          "2025-08-07T16:06:16.038169000",
          "2025-08-08T16:06:16.038169000",
          "2025-08-08T16:06:16.038169000",
          "2025-08-08T16:06:16.038169000",
          "2025-08-09T16:06:16.038169000",
          "2025-08-11T16:06:16.038169000",
          "2025-08-12T16:06:16.038169000",
          "2025-08-14T16:06:16.038169000",
          "2025-08-14T16:06:16.038169000",
          "2025-08-15T16:06:16.038169000",
          "2025-08-15T16:06:16.038169000",
          "2025-08-17T16:06:16.038169000",
          "2025-08-21T16:06:16.038169000",
          "2025-08-25T16:06:16.038169000",
          "2025-08-28T16:06:16.038169000",
          "2025-08-28T16:06:16.038169000",
          "2025-08-30T16:06:16.038169000",
          "2025-08-31T16:06:16.038169000",
          "2025-08-31T16:06:16.038169000",
          "2025-09-01T16:06:16.038169000",
          "2025-09-01T16:06:16.038169000",
          "2025-09-01T16:06:16.038169000",
          "2025-09-02T16:06:16.038169000",
          "2025-09-03T16:06:16.038169000",
          "2025-09-05T16:06:16.038169000",
          "2025-09-05T16:06:16.038169000",
          "2025-09-05T16:06:16.038169000",
          "2025-09-07T16:06:16.038169000",
          "2025-09-09T16:06:16.038169000",
          "2025-09-09T16:06:16.038169000",
          "2025-09-09T16:06:16.038169000",
          "2025-09-10T16:06:16.038169000",
          "2025-09-11T16:06:16.038169000",
          "2025-09-11T16:06:16.038169000",
          "2025-09-13T16:06:16.038169000",
          "2025-09-14T16:06:16.038169000",
          "2025-09-15T16:06:16.038169000",
          "2025-09-16T16:06:16.038169000",
          "2025-09-16T16:06:16.038169000",
          "2025-09-20T16:06:16.038169000",
          "2025-09-27T16:06:16.038169000",
          "2025-09-27T16:06:16.038169000",
          "2025-09-30T16:06:16.038169000",
          "2025-10-04T16:06:16.038169000",
          "2025-10-04T16:06:16.038169000",
          "2025-10-07T16:06:16.038169000",
          "2025-10-07T16:06:16.038169000",
          "2025-10-11T16:06:16.038169000",
          "2025-10-12T16:06:16.038169000",
          "2025-10-14T16:06:16.038169000",
          "2025-10-16T16:06:16.038169000"
         ],
         "xaxis": "x2",
         "y": {
          "bdata": "7cxCQAifIUAAKL05FlozQNjkrgxXpRZAdIiu2cBE+D+Xv7O/OGr6P+TPR+/lFxpAVjFhLnXrE0Dqy4UV4dkwQH+cIDWhQxZACpvtNcrBRkCUS/WAFi0aQIMAOv2RZVJAVaR1M4vNB0AKsZD3RMn6PzmUdsjUZP4/l1fQLTCXFECzjMndyTPdP6L5oyfSFiFAjXIv0l1LNEBeMHQUhRwjQOkxN8qtUwNAH5gi6PwEFkBcXPdoTOsAQIo4BsHTwzxAv4Vj8K6ZFECwyYuI6w8IQFrgLZhyXDZAO9Ej7Z/7BkA36vJMpgEoQFBeOAzj9yZAqqcIq9SgO0BvpInk7PE1QH3NYc2qexJAxC16KMCYRkBylf7DQU0jQP79EixOlDRAp/LOVHaADEBOuXDINGr1P8RiPmmnrxJAKLX69e4lQkDb1lsYMR8hQOYHRvtFPw5AWQtbwS65FEA7UB+k2vf+P/JKOQSTTiRAH2sVxl/FJ0BX3UnSdGo+QMzTD/AevyBAvp1cQ1bcSUCtRkDnwxQ+QAupimKeDAJA9DLU2djkDEAjk8ZOTiL/Pxl+eBbupBtAlSWM9UVxO0CzBEx3jcMkQFr64QpUUB1AjTF0p98LPEAUYpbbE9kOQKe6gSP3hVBAbEVWejDgB0CTEoJ6SnscQKLsJCfagi1AnExJHhC/KUDRiz9uYJ0sQDXCnrp24TRAguWClE05L0Dv9yWm56ExQOsVqLEXXgBA4h+Nf2teIkC+WhUj4EFeQP9TcYMgLDhAQcMf2eIAIECdQDnWUa8nQMa04y4rBVlAnyEPT1f4DUAMYoloa6cKQFJTVnFlS/8/gxjgwtrW/D9l1z3FmsktQDhstGoffPE/aIcjJoq0JkBeZJ/+0U4wQJJQkH+SJiFAnMbR1wy7BUB40a6m5EM2QCFsb/t4zS5A+Hmf+gKXR0D0DNWMHjI4QK3y5N8kMTFAYrj9dy6iAEBIbGm+oToNQPREcUe1HBpACJDtsaynEEBIKY/ODjQjQLbVjK78evk/rKlzXUVjPkBHUdVVgrAiQCUnamWiXSFArp87GZNPEEAlODuFQ+Q1QBtmLKeCON0/LQ34zkbyHEAnSBxwHAQOQGXCCXpiSRJAXgc5zxj1F0B9ugX5VfkFQIbPukDzeBlAAWa0YjdnDEBOGAPZ+fL4P2cirakXcQ5AHioiPEPBDEAW1QjqmQopQOD47SoLShhAFAyrxEqmIkAsXoU27IAsQD+FhBEJlwRA9y5PyI1eN0C08u+Oi/cfQJvR01yEFiFAbb7aiuTaFkC+/fFmK2NSQIEYrvFyyCRA7p6jVLwZM0Bm5xpoW706QOR5AAYngPI/1AvAAlCyIEAmKXhcXBHmP1Zw+tvuo1FAIHhm0zmw9j+2KNruVVVDQBE4sMkUtChAlgSZ2g3LA0CGTwAbzYcEQGH6gdlO4TxA3tuezyeXGEC4EmBONN4HQJm+wvh8uzJA3KKH5L/kHUB9XQxB/I8kQBTe30s5e0xA4OUKLlwIUkAac4c+JcYaQO4aZ/jpARJAaxSZEx+jMUAYnGxJGYYwQP/yszIDQ/4/I5dFNtNaNEDhw4KkQHL0P3uuYvXItx5AxKTElQKARECpBBXdKB4jQI8MR466jyFAvY61M0lKNEA7ozNfJsEeQB7u9kzUCzBAi+IW6GsUE0Axq4DQpksYQBRFl2+MPgFAEUTJ6twNCkBY9HjQrdwWQLTOsdZNrCBAsTb2mzTT+T9gS3kLgogAQFUrZdIp6i9ArjRa4WtW9z+XMMGD9uwVQAcg3AsDag5AXYZFBDiQREB/0FazCsk5QN+Kiu98eQRAntFFGvwHHUBrFoejwqgXQFr7f/OOqVxAbpHsOCNoDUDUvDininpSQKj7bv0em/k/JYY4SRmkI0Dvh8lLCYrtPx+/DxeSbhZAbA8Refh9IEAQ0nJsoasVQE4aH/zlkkBAM4JytwHNM0DtMJMyPNk2QFI0SQtfUh5AXLJ2suLqBkCezuDZf24+QPqV1AGcFTdAQVe4/2XQWEBr+Rh7k1orQDg7Acy/fyZAqjYwi1cDGkC9xOICLkQ1QJ0brNskwxBAaE29WrweCUBrXPrrLJcgQHu9+7VHKhBAnPDHfjeMBkDvzxxyL7YiQA==",
          "dtype": "f8"
         },
         "yaxis": "y2"
        },
        {
         "marker": {
          "color": "red"
         },
         "name": "Monthly Hotspots",
         "type": "bar",
         "x": [
          "2024-10",
          "2024-11",
          "2024-12",
          "2025-01",
          "2025-02",
          "2025-03",
          "2025-04",
          "2025-05",
          "2025-06",
          "2025-07",
          "2025-08",
          "2025-09",
          "2025-10"
         ],
         "xaxis": "x3",
         "y": {
          "bdata": "AgEAAgMAAAEBAAECAA==",
          "dtype": "i1"
         },
         "yaxis": "y3"
        },
        {
         "line": {
          "color": "red"
         },
         "mode": "lines+markers",
         "name": "Avg Hotspot Prob",
         "type": "scatter",
         "x": [
          "Jan",
          "Feb",
          "Mar",
          "Apr",
          "May",
          "Jun",
          "Jul",
          "Aug",
          "Sep",
          "Oct",
          "Nov",
          "Dec"
         ],
         "xaxis": "x4",
         "y": {
          "bdata": "/sR458HfxD9impwQv3XGPyT1JtbF8sA/WNTrcZuavD8JonLQb1XEP/Rc5ibIksM/i5/vCDElvj+/DWthIePHP880uEGRysQ/zGwnb/boxT9vQQpLoBfIPwGhcpsqxrQ/",
          "dtype": "f8"
         },
         "yaxis": "y4"
        }
       ],
       "layout": {
        "annotations": [
         {
          "font": {
           "size": 16
          },
          "showarrow": false,
          "text": "Hotspot Probability Over Time",
          "x": 0.225,
          "xanchor": "center",
          "xref": "paper",
          "y": 1,
          "yanchor": "bottom",
          "yref": "paper"
         },
         {
          "font": {
           "size": 16
          },
          "showarrow": false,
          "text": "Microplastic Concentration Over Time",
          "x": 0.775,
          "xanchor": "center",
          "xref": "paper",
          "y": 1,
          "yanchor": "bottom",
          "yref": "paper"
         },
         {
          "font": {
           "size": 16
          },
          "showarrow": false,
          "text": "Monthly Hotspot Detection Count",
          "x": 0.225,
          "xanchor": "center",
          "xref": "paper",
          "y": 0.375,
          "yanchor": "bottom",
          "yref": "paper"
         },
         {
          "font": {
           "size": 16
          },
          "showarrow": false,
          "text": "Seasonal Patterns",
          "x": 0.775,
          "xanchor": "center",
          "xref": "paper",
          "y": 0.375,
          "yanchor": "bottom",
          "yref": "paper"
         }
        ],
        "height": 800,
        "showlegend": true,
        "template": {
         "data": {
          "bar": [
           {
            "error_x": {
             "color": "#2a3f5f"
            },
            "error_y": {
             "color": "#2a3f5f"
            },
            "marker": {
             "line": {
              "color": "#E5ECF6",
              "width": 0.5
             },
             "pattern": {
              "fillmode": "overlay",
              "size": 10,
              "solidity": 0.2
             }
            },
            "type": "bar"
           }
          ],
          "barpolar": [
           {
            "marker": {
             "line": {
              "color": "#E5ECF6",
              "width": 0.5
             },
             "pattern": {
              "fillmode": "overlay",
              "size": 10,
              "solidity": 0.2
             }
            },
            "type": "barpolar"
           }
          ],
          "carpet": [
           {
            "aaxis": {
             "endlinecolor": "#2a3f5f",
             "gridcolor": "white",
             "linecolor": "white",
             "minorgridcolor": "white",
             "startlinecolor": "#2a3f5f"
            },
            "baxis": {
             "endlinecolor": "#2a3f5f",
             "gridcolor": "white",
             "linecolor": "white",
             "minorgridcolor": "white",
             "startlinecolor": "#2a3f5f"
            },
            "type": "carpet"
           }
          ],
          "choropleth": [
           {
            "colorbar": {
             "outlinewidth": 0,
             "ticks": ""
            },
            "type": "choropleth"
           }
          ],
          "contour": [
           {
            "colorbar": {
             "outlinewidth": 0,
             "ticks": ""
            },
            "colorscale": [
             [
              0,
              "#0d0887"
             ],
             [
              0.1111111111111111,
              "#46039f"
             ],
             [
              0.2222222222222222,
              "#7201a8"
             ],
             [
              0.3333333333333333,
              "#9c179e"
             ],
             [
              0.4444444444444444,
              "#bd3786"
             ],
             [
              0.5555555555555556,
              "#d8576b"
             ],
             [
              0.6666666666666666,
              "#ed7953"
             ],
             [
              0.7777777777777778,
              "#fb9f3a"
             ],
             [
              0.8888888888888888,
              "#fdca26"
             ],
             [
              1,
              "#f0f921"
             ]
            ],
            "type": "contour"
           }
          ],
          "contourcarpet": [
           {
            "colorbar": {
             "outlinewidth": 0,
             "ticks": ""
            },
            "type": "contourcarpet"
           }
          ],
          "heatmap": [
           {
            "colorbar": {
             "outlinewidth": 0,
             "ticks": ""
            },
            "colorscale": [
             [
              0,
              "#0d0887"
             ],
             [
              0.1111111111111111,
              "#46039f"
             ],
             [
              0.2222222222222222,
              "#7201a8"
             ],
             [
              0.3333333333333333,
              "#9c179e"
             ],
             [
              0.4444444444444444,
              "#bd3786"
             ],
             [
              0.5555555555555556,
              "#d8576b"
             ],
             [
              0.6666666666666666,
              "#ed7953"
             ],
             [
              0.7777777777777778,
              "#fb9f3a"
             ],
             [
              0.8888888888888888,
              "#fdca26"
             ],
             [
              1,
              "#f0f921"
             ]
            ],
            "type": "heatmap"
           }
          ],
          "histogram": [
           {
            "marker": {
             "pattern": {
              "fillmode": "overlay",
              "size": 10,
              "solidity": 0.2
             }
            },
            "type": "histogram"
           }
          ],
          "histogram2d": [
           {
            "colorbar": {
             "outlinewidth": 0,
             "ticks": ""
            },
            "colorscale": [
             [
              0,
              "#0d0887"
             ],
             [
              0.1111111111111111,
              "#46039f"
             ],
             [
              0.2222222222222222,
              "#7201a8"
             ],
             [
              0.3333333333333333,
              "#9c179e"
             ],
             [
              0.4444444444444444,
              "#bd3786"
             ],
             [
              0.5555555555555556,
              "#d8576b"
             ],
             [
              0.6666666666666666,
              "#ed7953"
             ],
             [
              0.7777777777777778,
              "#fb9f3a"
             ],
             [
              0.8888888888888888,
              "#fdca26"
             ],
             [
              1,
              "#f0f921"
             ]
            ],
            "type": "histogram2d"
           }
          ],
          "histogram2dcontour": [
           {
            "colorbar": {
             "outlinewidth": 0,
             "ticks": ""
            },
            "colorscale": [
             [
              0,
              "#0d0887"
             ],
             [
              0.1111111111111111,
              "#46039f"
             ],
             [
              0.2222222222222222,
              "#7201a8"
             ],
             [
              0.3333333333333333,
              "#9c179e"
             ],
             [
              0.4444444444444444,
              "#bd3786"
             ],
             [
              0.5555555555555556,
              "#d8576b"
             ],
             [
              0.6666666666666666,
              "#ed7953"
             ],
             [
              0.7777777777777778,
              "#fb9f3a"
             ],
             [
              0.8888888888888888,
              "#fdca26"
             ],
             [
              1,
              "#f0f921"
             ]
            ],
            "type": "histogram2dcontour"
           }
          ],
          "mesh3d": [
           {
            "colorbar": {
             "outlinewidth": 0,
             "ticks": ""
            },
            "type": "mesh3d"
           }
          ],
          "parcoords": [
           {
            "line": {
             "colorbar": {
              "outlinewidth": 0,
              "ticks": ""
             }
            },
            "type": "parcoords"
           }
          ],
          "pie": [
           {
            "automargin": true,
            "type": "pie"
           }
          ],
          "scatter": [
           {
            "fillpattern": {
             "fillmode": "overlay",
             "size": 10,
             "solidity": 0.2
            },
            "type": "scatter"
           }
          ],
          "scatter3d": [
           {
            "line": {
             "colorbar": {
              "outlinewidth": 0,
              "ticks": ""
             }
            },
            "marker": {
             "colorbar": {
              "outlinewidth": 0,
              "ticks": ""
             }
            },
            "type": "scatter3d"
           }
          ],
          "scattercarpet": [
           {
            "marker": {
             "colorbar": {
              "outlinewidth": 0,
              "ticks": ""
             }
            },
            "type": "scattercarpet"
           }
          ],
          "scattergeo": [
           {
            "marker": {
             "colorbar": {
              "outlinewidth": 0,
              "ticks": ""
             }
            },
            "type": "scattergeo"
           }
          ],
          "scattergl": [
           {
            "marker": {
             "colorbar": {
              "outlinewidth": 0,
              "ticks": ""
             }
            },
            "type": "scattergl"
           }
          ],
          "scattermap": [
           {
            "marker": {
             "colorbar": {
              "outlinewidth": 0,
              "ticks": ""
             }
            },
            "type": "scattermap"
           }
          ],
          "scattermapbox": [
           {
            "marker": {
             "colorbar": {
              "outlinewidth": 0,
              "ticks": ""
             }
            },
            "type": "scattermapbox"
           }
          ],
          "scatterpolar": [
           {
            "marker": {
             "colorbar": {
              "outlinewidth": 0,
              "ticks": ""
             }
            },
            "type": "scatterpolar"
           }
          ],
          "scatterpolargl": [
           {
            "marker": {
             "colorbar": {
              "outlinewidth": 0,
              "ticks": ""
             }
            },
            "type": "scatterpolargl"
           }
          ],
          "scatterternary": [
           {
            "marker": {
             "colorbar": {
              "outlinewidth": 0,
              "ticks": ""
             }
            },
            "type": "scatterternary"
           }
          ],
          "surface": [
           {
            "colorbar": {
             "outlinewidth": 0,
             "ticks": ""
            },
            "colorscale": [
             [
              0,
              "#0d0887"
             ],
             [
              0.1111111111111111,
              "#46039f"
             ],
             [
              0.2222222222222222,
              "#7201a8"
             ],
             [
              0.3333333333333333,
              "#9c179e"
             ],
             [
              0.4444444444444444,
              "#bd3786"
             ],
             [
              0.5555555555555556,
              "#d8576b"
             ],
             [
              0.6666666666666666,
              "#ed7953"
             ],
             [
              0.7777777777777778,
              "#fb9f3a"
             ],
             [
              0.8888888888888888,
              "#fdca26"
             ],
             [
              1,
              "#f0f921"
             ]
            ],
            "type": "surface"
           }
          ],
          "table": [
           {
            "cells": {
             "fill": {
              "color": "#EBF0F8"
             },
             "line": {
              "color": "white"
             }
            },
            "header": {
             "fill": {
              "color": "#C8D4E3"
             },
             "line": {
              "color": "white"
             }
            },
            "type": "table"
           }
          ]
         },
         "layout": {
          "annotationdefaults": {
           "arrowcolor": "#2a3f5f",
           "arrowhead": 0,
           "arrowwidth": 1
          },
          "autotypenumbers": "strict",
          "coloraxis": {
           "colorbar": {
            "outlinewidth": 0,
            "ticks": ""
           }
          },
          "colorscale": {
           "diverging": [
            [
             0,
             "#8e0152"
            ],
            [
             0.1,
             "#c51b7d"
            ],
            [
             0.2,
             "#de77ae"
            ],
            [
             0.3,
             "#f1b6da"
            ],
            [
             0.4,
             "#fde0ef"
            ],
            [
             0.5,
             "#f7f7f7"
            ],
            [
             0.6,
             "#e6f5d0"
            ],
            [
             0.7,
             "#b8e186"
            ],
            [
             0.8,
             "#7fbc41"
            ],
            [
             0.9,
             "#4d9221"
            ],
            [
             1,
             "#276419"
            ]
           ],
           "sequential": [
            [
             0,
             "#0d0887"
            ],
            [
             0.1111111111111111,
             "#46039f"
            ],
            [
             0.2222222222222222,
             "#7201a8"
            ],
            [
             0.3333333333333333,
             "#9c179e"
            ],
            [
             0.4444444444444444,
             "#bd3786"
            ],
            [
             0.5555555555555556,
             "#d8576b"
            ],
            [
             0.6666666666666666,
             "#ed7953"
            ],
            [
             0.7777777777777778,
             "#fb9f3a"
            ],
            [
             0.8888888888888888,
             "#fdca26"
            ],
            [
             1,
             "#f0f921"
            ]
           ],
           "sequentialminus": [
            [
             0,
             "#0d0887"
            ],
            [
             0.1111111111111111,
             "#46039f"
            ],
            [
             0.2222222222222222,
             "#7201a8"
            ],
            [
             0.3333333333333333,
             "#9c179e"
            ],
            [
             0.4444444444444444,
             "#bd3786"
            ],
            [
             0.5555555555555556,
             "#d8576b"
            ],
            [
             0.6666666666666666,
             "#ed7953"
            ],
            [
             0.7777777777777778,
             "#fb9f3a"
            ],
            [
             0.8888888888888888,
             "#fdca26"
            ],
            [
             1,
             "#f0f921"
            ]
           ]
          },
          "colorway": [
           "#636efa",
           "#EF553B",
           "#00cc96",
           "#ab63fa",
           "#FFA15A",
           "#19d3f3",
           "#FF6692",
           "#B6E880",
           "#FF97FF",
           "#FECB52"
          ],
          "font": {
           "color": "#2a3f5f"
          },
          "geo": {
           "bgcolor": "white",
           "lakecolor": "white",
           "landcolor": "#E5ECF6",
           "showlakes": true,
           "showland": true,
           "subunitcolor": "white"
          },
          "hoverlabel": {
           "align": "left"
          },
          "hovermode": "closest",
          "mapbox": {
           "style": "light"
          },
          "paper_bgcolor": "white",
          "plot_bgcolor": "#E5ECF6",
          "polar": {
           "angularaxis": {
            "gridcolor": "white",
            "linecolor": "white",
            "ticks": ""
           },
           "bgcolor": "#E5ECF6",
           "radialaxis": {
            "gridcolor": "white",
            "linecolor": "white",
            "ticks": ""
           }
          },
          "scene": {
           "xaxis": {
            "backgroundcolor": "#E5ECF6",
            "gridcolor": "white",
            "gridwidth": 2,
            "linecolor": "white",
            "showbackground": true,
            "ticks": "",
            "zerolinecolor": "white"
           },
           "yaxis": {
            "backgroundcolor": "#E5ECF6",
            "gridcolor": "white",
            "gridwidth": 2,
            "linecolor": "white",
            "showbackground": true,
            "ticks": "",
            "zerolinecolor": "white"
           },
           "zaxis": {
            "backgroundcolor": "#E5ECF6",
            "gridcolor": "white",
            "gridwidth": 2,
            "linecolor": "white",
            "showbackground": true,
            "ticks": "",
            "zerolinecolor": "white"
           }
          },
          "shapedefaults": {
           "line": {
            "color": "#2a3f5f"
           }
          },
          "ternary": {
           "aaxis": {
            "gridcolor": "white",
            "linecolor": "white",
            "ticks": ""
           },
           "baxis": {
            "gridcolor": "white",
            "linecolor": "white",
            "ticks": ""
           },
           "bgcolor": "#E5ECF6",
           "caxis": {
            "gridcolor": "white",
            "linecolor": "white",
            "ticks": ""
           }
          },
          "title": {
           "x": 0.05
          },
          "xaxis": {
           "automargin": true,
           "gridcolor": "white",
           "linecolor": "white",
           "ticks": "",
           "title": {
            "standoff": 15
           },
           "zerolinecolor": "white",
           "zerolinewidth": 2
          },
          "yaxis": {
           "automargin": true,
           "gridcolor": "white",
           "linecolor": "white",
           "ticks": "",
           "title": {
            "standoff": 15
           },
           "zerolinecolor": "white",
           "zerolinewidth": 2
          }
         }
        },
        "title": {
         "text": "Temporal Analysis of Marine Microplastic Data",
         "x": 0.5
        },
        "xaxis": {
         "anchor": "y",
         "domain": [
          0,
          0.45
         ]
        },
        "xaxis2": {
         "anchor": "y2",
         "domain": [
          0.55,
          1
         ]
        },
        "xaxis3": {
         "anchor": "y3",
         "domain": [
          0,
          0.45
         ]
        },
        "xaxis4": {
         "anchor": "y4",
         "domain": [
          0.55,
          1
         ]
        },
        "yaxis": {
         "anchor": "x",
         "domain": [
          0.625,
          1
         ]
        },
        "yaxis2": {
         "anchor": "x2",
         "domain": [
          0.625,
          1
         ]
        },
        "yaxis3": {
         "anchor": "x3",
         "domain": [
          0,
          0.375
         ]
        },
        "yaxis4": {
         "anchor": "x4",
         "domain": [
          0,
          0.375
         ]
        }
       }
      }
     },
     "metadata": {},
     "output_type": "display_data"
    },
    {
     "name": "stdout",
     "output_type": "stream",
     "text": [
      "📈 Temporal analysis reveals:\n",
      "   • Trends over time\n",
      "   • Seasonal patterns\n",
      "   • Monthly hotspot counts\n",
      "   • Long-term concentration changes\n"
     ]
    }
   ],
   "source": [
    "# Create temporal analysis\n",
    "temporal_fig = visualizer.create_temporal_analysis()\n",
    "temporal_fig.show()\n",
    "\n",
    "print(\"📈 Temporal analysis reveals:\")\n",
    "print(\"   • Trends over time\")\n",
    "print(\"   • Seasonal patterns\")\n",
    "print(\"   • Monthly hotspot counts\")\n",
    "print(\"   • Long-term concentration changes\")"
   ]
  },
  {
   "cell_type": "markdown",
   "id": "d877263e",
   "metadata": {},
   "source": [
    "## 🌡️ Environmental Correlations"
   ]
  },
  {
   "cell_type": "code",
   "execution_count": 17,
   "id": "23e4e62f",
   "metadata": {},
   "outputs": [
    {
     "name": "stderr",
     "output_type": "stream",
     "text": [
      "INFO:src.visualization.interactive_maps:Environmental correlations saved to visualizations/environmental_correlations.html\n"
     ]
    },
    {
     "data": {
      "application/vnd.plotly.v1+json": {
       "config": {
        "plotlyServerURL": "https://plot.ly"
       },
       "data": [
        {
         "colorscale": [
          [
           0,
           "rgb(103,0,31)"
          ],
          [
           0.1,
           "rgb(178,24,43)"
          ],
          [
           0.2,
           "rgb(214,96,77)"
          ],
          [
           0.3,
           "rgb(244,165,130)"
          ],
          [
           0.4,
           "rgb(253,219,199)"
          ],
          [
           0.5,
           "rgb(247,247,247)"
          ],
          [
           0.6,
           "rgb(209,229,240)"
          ],
          [
           0.7,
           "rgb(146,197,222)"
          ],
          [
           0.8,
           "rgb(67,147,195)"
          ],
          [
           0.9,
           "rgb(33,102,172)"
          ],
          [
           1,
           "rgb(5,48,97)"
          ]
         ],
         "text": {
          "bdata": "AAAAAAAA8D+amZmZmZm5vwrXo3A9Crc/exSuR+F6lD+amZmZmZm5vwAAAAAAAPA/exSuR+F6hL+4HoXrUbiuvwrXo3A9Crc/exSuR+F6hL8AAAAAAADwP7gehetRuK4/exSuR+F6lD+4HoXrUbiuv7gehetRuK4/AAAAAAAA8D8=",
          "dtype": "f8",
          "shape": "4, 4"
         },
         "textfont": {
          "size": 10
         },
         "texttemplate": "%{text}",
         "type": "heatmap",
         "x": [
          "hotspot_probability",
          "microplastic_concentration",
          "water_temperature",
          "ocean_current_speed"
         ],
         "xaxis": "x",
         "y": [
          "hotspot_probability",
          "microplastic_concentration",
          "water_temperature",
          "ocean_current_speed"
         ],
         "yaxis": "y",
         "z": {
          "bdata": "AAAAAAAA8D8s4G9TS4q5vwWs86HIprc/EMNe8oAvkT8s4G9TS4q5vwAAAAAAAPA/C6+kHzy2hb+zoiEAEp6tvwWs86HIprc/C6+kHzy2hb8AAAAAAADwP/ZR4Voim6w/EMNe8oAvkT+zoiEAEp6tv/ZR4Voim6w/AAAAAAAA8D8=",
          "dtype": "f8",
          "shape": "4, 4"
         },
         "zmid": 0
        },
        {
         "marker": {
          "color": {
           "bdata": "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",
           "dtype": "f8"
          },
          "colorscale": [
           [
            0,
            "rgb(255,245,240)"
           ],
           [
            0.125,
            "rgb(254,224,210)"
           ],
           [
            0.25,
            "rgb(252,187,161)"
           ],
           [
            0.375,
            "rgb(252,146,114)"
           ],
           [
            0.5,
            "rgb(251,106,74)"
           ],
           [
            0.625,
            "rgb(239,59,44)"
           ],
           [
            0.75,
            "rgb(203,24,29)"
           ],
           [
            0.875,
            "rgb(165,15,21)"
           ],
           [
            1,
            "rgb(103,0,13)"
           ]
          ],
          "opacity": 0.7,
          "size": 8
         },
         "mode": "markers",
         "name": "Temp vs Concentration",
         "type": "scatter",
         "x": {
          "bdata": "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",
          "dtype": "f8"
         },
         "xaxis": "x2",
         "y": {
          "bdata": "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",
          "dtype": "f8"
         },
         "yaxis": "y2"
        },
        {
         "marker": {
          "color": {
           "bdata": "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",
           "dtype": "f8"
          },
          "colorscale": [
           [
            0,
            "rgb(247,251,255)"
           ],
           [
            0.125,
            "rgb(222,235,247)"
           ],
           [
            0.25,
            "rgb(198,219,239)"
           ],
           [
            0.375,
            "rgb(158,202,225)"
           ],
           [
            0.5,
            "rgb(107,174,214)"
           ],
           [
            0.625,
            "rgb(66,146,198)"
           ],
           [
            0.75,
            "rgb(33,113,181)"
           ],
           [
            0.875,
            "rgb(8,81,156)"
           ],
           [
            1,
            "rgb(8,48,107)"
           ]
          ],
          "opacity": 0.7,
          "size": 8
         },
         "mode": "markers",
         "name": "Current vs Concentration",
         "type": "scatter",
         "x": {
          "bdata": "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",
          "dtype": "f8"
         },
         "xaxis": "x3",
         "y": {
          "bdata": "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",
          "dtype": "f8"
         },
         "yaxis": "y3"
        },
        {
         "marker": {
          "color": {
           "bdata": "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",
           "dtype": "f8"
          },
          "colorscale": [
           [
            0,
            "#440154"
           ],
           [
            0.1111111111111111,
            "#482878"
           ],
           [
            0.2222222222222222,
            "#3e4989"
           ],
           [
            0.3333333333333333,
            "#31688e"
           ],
           [
            0.4444444444444444,
            "#26828e"
           ],
           [
            0.5555555555555556,
            "#1f9e89"
           ],
           [
            0.6666666666666666,
            "#35b779"
           ],
           [
            0.7777777777777778,
            "#6ece58"
           ],
           [
            0.8888888888888888,
            "#b5de2b"
           ],
           [
            1,
            "#fde725"
           ]
          ],
          "opacity": 0.7,
          "size": {
           "bdata": "T2W5b884I0B6OecPBCscQGk+mvAoXTRAMinb3JKEGUA1NlOH5JceQJOD7Y539RpAyOYL0qXGHEDa8eDXcGEgQMrP5LZIdBVAa0WPYk0vN0CCAroorfMTQGs1B3tXSRJAlEwb0eehIkDiIhCgqSohQBkZ7EMZfyBAooNTAW2DIECwIPkp6+YbQNoz0kxs0hRAZqOSaz+bHEDjnZc9LJUWQJraksmF5iFA3IBelNPSGkAgsca5YWUVQKifhULNbRlABtScAa9NH0CiCU77fX0XQAOBl7YXbBVAVn3eRxLzHUCoM5wIsfUdQArOxsbH8RdA/qXRRFA7GEBP61//PNsdQLlau8FSahBA2fv1oYO9EEDKw+1QoEAWQEDJPzjcShpASZQSG718HkCT/rbHw+YjQGoCA1M+biFAfn7jJXK4GkBOtscHDtkbQGBnNvFo/SVAJ+7yyBXaG0CEClG907AZQOK283ftlB5A36A5vtRhFUBq1JeSzxMgQCpOoSfDEDBAKhT9LaGQKUCpraaitDYfQHK4Rxu1wiBAgIf1OpMyMEDiPcX/8ModQJhJbAvKGRxA4vEGaArIHEBr0hY/4NAVQDDk5mMyMhxAm+cyh+b7H0DbHQWX+M0jQOYraBdL1iFAClW13NucJkAP7MJwPO4mQLOufM+gvjRAXoS6Ab67KkBKazuzW8ImQNzkl+iaiBVAB8Yw6j9IFUAL1/KgcTQXQDSav+qFBAZAC2OB80DLF0BUaeraS+0VQNB+U6gBNB1AXGeZjuq7HkB+kLDtMoElQDtkGeg7zS1A1PIHK0CxJ0BqfwL4C9AUQLgqj1Fz7x9AcQaGkilwEUCURD3taVMlQFZaqCa/tyJA6wvx1SA/GEBIgH4/AJcMQEn+B4VdaiNAqmg0ImwVG0CBhokehvMiQLePFltOnyNASH8Zbz2aJ0CqZXY1vQocQDwhjlw3YBxArID3EkRmGEBI/mZfzH0gQA4VmmuDdRNAorIBJWjcGkDIG5hjlz0zQH5MwA3JDixAivQSkrHYIECDz56luwATQPbDBbNEdA9AMKUTUFccI0Cio6s/lKgeQCL5z76MASdAdf17lzAaMEDgHZrS5uwcQK9GV66ZtyJAikEsIUeKHEAEVh1aGh8xQNhA7wi8gjRARD+jFR8CGkDMXtB+4+IhQGRf1G7dlCBA+38PjXp5I0CMUm011kcUQPFDIEaEviBA3zfxoNM7IkDtD/r7M9wLQFwYy8KviBJAtRx5FE5fB0AU78U6QdgZQCCRqGXD3iBAt1WL8TQBMkBrqBUBv5ccQI/xJ8uzgyRA6HDeXY31EED3OCYO8r4MQL73DgI9jhtAHN/6c0iJL0CzejGJCr0bQF9IH9XB6wZAqv7GbntJG0AbnmVLcpARQBMEAaS+rSBALg6uD8vuHkCba3xOIHsUQC1X3L2Z4xdAPAygD7uGE0AojfgZon8bQEBQFtQQ0iFAoLHQ1J0OJkBiPw/FJAQgQIoVNUsIwhdAdC/uJBnUJkBOh0JEzSQbQIowjt/StxNAWKUgUCCSF0AC1tX+vmoSQEUFvufg2yVAyqzTQThIHEB59RdQ9mYWQPvVdBk7th1AQjxhwPMZG0C6wWRKdDsaQD7qix3odCBA7nvkGbAHIUC0LUSdiMEXQD7t/2e5ZBdA9TEgsrHMGUA09p0t1cokQMemSgTHwQ9AOqxR4613I0AM25FqcpQkQNSjlGT5ARpAImzS8mROLEDIjkpcuD4rQJ9jciHGUCpANBE87Dg9M0AwB8ArA30pQAntDJ0NWxRATG178f5LDkDAzO+KsaAdQLplWZi/fDFAdE51cjmfEEBplX2Y0dMWQG1gO1z9WBNAMm2JDqK/JEAczouSzIYhQFZCMgqs7xtAGMLxeXbrI0BCv3hGc54cQHjeVQcXHBVAUX6O1q0XJEA4ctQI2CcgQPkgykm4sxNAe7wTty96GkBhdG/bu/4UQIC51LEG8BBAZcAT42e0IUCUB6UdPqMlQBSbyc27zxBA2fXwAXtAIEAC5KHoe8sWQPZuvQFeGhhAElxo+cZCF0BAb+EBjBYVQKpfqU5fYxxA8kFL0zZaFUCQoq1E5SkeQIY5F8McmRtAJSAKaKIWGkBd8kNDT70UQA==",
           "dtype": "f8"
          }
         },
         "mode": "markers",
         "name": "Geographic Distribution",
         "type": "scatter",
         "x": {
          "bdata": "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",
          "dtype": "f8"
         },
         "xaxis": "x4",
         "y": {
          "bdata": "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",
          "dtype": "f8"
         },
         "yaxis": "y4"
        }
       ],
       "layout": {
        "annotations": [
         {
          "font": {
           "size": 16
          },
          "showarrow": false,
          "text": "Correlation Matrix",
          "x": 0.225,
          "xanchor": "center",
          "xref": "paper",
          "y": 1,
          "yanchor": "bottom",
          "yref": "paper"
         },
         {
          "font": {
           "size": 16
          },
          "showarrow": false,
          "text": "Temperature vs Microplastics",
          "x": 0.775,
          "xanchor": "center",
          "xref": "paper",
          "y": 1,
          "yanchor": "bottom",
          "yref": "paper"
         },
         {
          "font": {
           "size": 16
          },
          "showarrow": false,
          "text": "Current Speed vs Microplastics",
          "x": 0.225,
          "xanchor": "center",
          "xref": "paper",
          "y": 0.375,
          "yanchor": "bottom",
          "yref": "paper"
         },
         {
          "font": {
           "size": 16
          },
          "showarrow": false,
          "text": "Geographic Distribution",
          "x": 0.775,
          "xanchor": "center",
          "xref": "paper",
          "y": 0.375,
          "yanchor": "bottom",
          "yref": "paper"
         }
        ],
        "height": 800,
        "showlegend": false,
        "template": {
         "data": {
          "bar": [
           {
            "error_x": {
             "color": "#2a3f5f"
            },
            "error_y": {
             "color": "#2a3f5f"
            },
            "marker": {
             "line": {
              "color": "#E5ECF6",
              "width": 0.5
             },
             "pattern": {
              "fillmode": "overlay",
              "size": 10,
              "solidity": 0.2
             }
            },
            "type": "bar"
           }
          ],
          "barpolar": [
           {
            "marker": {
             "line": {
              "color": "#E5ECF6",
              "width": 0.5
             },
             "pattern": {
              "fillmode": "overlay",
              "size": 10,
              "solidity": 0.2
             }
            },
            "type": "barpolar"
           }
          ],
          "carpet": [
           {
            "aaxis": {
             "endlinecolor": "#2a3f5f",
             "gridcolor": "white",
             "linecolor": "white",
             "minorgridcolor": "white",
             "startlinecolor": "#2a3f5f"
            },
            "baxis": {
             "endlinecolor": "#2a3f5f",
             "gridcolor": "white",
             "linecolor": "white",
             "minorgridcolor": "white",
             "startlinecolor": "#2a3f5f"
            },
            "type": "carpet"
           }
          ],
          "choropleth": [
           {
            "colorbar": {
             "outlinewidth": 0,
             "ticks": ""
            },
            "type": "choropleth"
           }
          ],
          "contour": [
           {
            "colorbar": {
             "outlinewidth": 0,
             "ticks": ""
            },
            "colorscale": [
             [
              0,
              "#0d0887"
             ],
             [
              0.1111111111111111,
              "#46039f"
             ],
             [
              0.2222222222222222,
              "#7201a8"
             ],
             [
              0.3333333333333333,
              "#9c179e"
             ],
             [
              0.4444444444444444,
              "#bd3786"
             ],
             [
              0.5555555555555556,
              "#d8576b"
             ],
             [
              0.6666666666666666,
              "#ed7953"
             ],
             [
              0.7777777777777778,
              "#fb9f3a"
             ],
             [
              0.8888888888888888,
              "#fdca26"
             ],
             [
              1,
              "#f0f921"
             ]
            ],
            "type": "contour"
           }
          ],
          "contourcarpet": [
           {
            "colorbar": {
             "outlinewidth": 0,
             "ticks": ""
            },
            "type": "contourcarpet"
           }
          ],
          "heatmap": [
           {
            "colorbar": {
             "outlinewidth": 0,
             "ticks": ""
            },
            "colorscale": [
             [
              0,
              "#0d0887"
             ],
             [
              0.1111111111111111,
              "#46039f"
             ],
             [
              0.2222222222222222,
              "#7201a8"
             ],
             [
              0.3333333333333333,
              "#9c179e"
             ],
             [
              0.4444444444444444,
              "#bd3786"
             ],
             [
              0.5555555555555556,
              "#d8576b"
             ],
             [
              0.6666666666666666,
              "#ed7953"
             ],
             [
              0.7777777777777778,
              "#fb9f3a"
             ],
             [
              0.8888888888888888,
              "#fdca26"
             ],
             [
              1,
              "#f0f921"
             ]
            ],
            "type": "heatmap"
           }
          ],
          "histogram": [
           {
            "marker": {
             "pattern": {
              "fillmode": "overlay",
              "size": 10,
              "solidity": 0.2
             }
            },
            "type": "histogram"
           }
          ],
          "histogram2d": [
           {
            "colorbar": {
             "outlinewidth": 0,
             "ticks": ""
            },
            "colorscale": [
             [
              0,
              "#0d0887"
             ],
             [
              0.1111111111111111,
              "#46039f"
             ],
             [
              0.2222222222222222,
              "#7201a8"
             ],
             [
              0.3333333333333333,
              "#9c179e"
             ],
             [
              0.4444444444444444,
              "#bd3786"
             ],
             [
              0.5555555555555556,
              "#d8576b"
             ],
             [
              0.6666666666666666,
              "#ed7953"
             ],
             [
              0.7777777777777778,
              "#fb9f3a"
             ],
             [
              0.8888888888888888,
              "#fdca26"
             ],
             [
              1,
              "#f0f921"
             ]
            ],
            "type": "histogram2d"
           }
          ],
          "histogram2dcontour": [
           {
            "colorbar": {
             "outlinewidth": 0,
             "ticks": ""
            },
            "colorscale": [
             [
              0,
              "#0d0887"
             ],
             [
              0.1111111111111111,
              "#46039f"
             ],
             [
              0.2222222222222222,
              "#7201a8"
             ],
             [
              0.3333333333333333,
              "#9c179e"
             ],
             [
              0.4444444444444444,
              "#bd3786"
             ],
             [
              0.5555555555555556,
              "#d8576b"
             ],
             [
              0.6666666666666666,
              "#ed7953"
             ],
             [
              0.7777777777777778,
              "#fb9f3a"
             ],
             [
              0.8888888888888888,
              "#fdca26"
             ],
             [
              1,
              "#f0f921"
             ]
            ],
            "type": "histogram2dcontour"
           }
          ],
          "mesh3d": [
           {
            "colorbar": {
             "outlinewidth": 0,
             "ticks": ""
            },
            "type": "mesh3d"
           }
          ],
          "parcoords": [
           {
            "line": {
             "colorbar": {
              "outlinewidth": 0,
              "ticks": ""
             }
            },
            "type": "parcoords"
           }
          ],
          "pie": [
           {
            "automargin": true,
            "type": "pie"
           }
          ],
          "scatter": [
           {
            "fillpattern": {
             "fillmode": "overlay",
             "size": 10,
             "solidity": 0.2
            },
            "type": "scatter"
           }
          ],
          "scatter3d": [
           {
            "line": {
             "colorbar": {
              "outlinewidth": 0,
              "ticks": ""
             }
            },
            "marker": {
             "colorbar": {
              "outlinewidth": 0,
              "ticks": ""
             }
            },
            "type": "scatter3d"
           }
          ],
          "scattercarpet": [
           {
            "marker": {
             "colorbar": {
              "outlinewidth": 0,
              "ticks": ""
             }
            },
            "type": "scattercarpet"
           }
          ],
          "scattergeo": [
           {
            "marker": {
             "colorbar": {
              "outlinewidth": 0,
              "ticks": ""
             }
            },
            "type": "scattergeo"
           }
          ],
          "scattergl": [
           {
            "marker": {
             "colorbar": {
              "outlinewidth": 0,
              "ticks": ""
             }
            },
            "type": "scattergl"
           }
          ],
          "scattermap": [
           {
            "marker": {
             "colorbar": {
              "outlinewidth": 0,
              "ticks": ""
             }
            },
            "type": "scattermap"
           }
          ],
          "scattermapbox": [
           {
            "marker": {
             "colorbar": {
              "outlinewidth": 0,
              "ticks": ""
             }
            },
            "type": "scattermapbox"
           }
          ],
          "scatterpolar": [
           {
            "marker": {
             "colorbar": {
              "outlinewidth": 0,
              "ticks": ""
             }
            },
            "type": "scatterpolar"
           }
          ],
          "scatterpolargl": [
           {
            "marker": {
             "colorbar": {
              "outlinewidth": 0,
              "ticks": ""
             }
            },
            "type": "scatterpolargl"
           }
          ],
          "scatterternary": [
           {
            "marker": {
             "colorbar": {
              "outlinewidth": 0,
              "ticks": ""
             }
            },
            "type": "scatterternary"
           }
          ],
          "surface": [
           {
            "colorbar": {
             "outlinewidth": 0,
             "ticks": ""
            },
            "colorscale": [
             [
              0,
              "#0d0887"
             ],
             [
              0.1111111111111111,
              "#46039f"
             ],
             [
              0.2222222222222222,
              "#7201a8"
             ],
             [
              0.3333333333333333,
              "#9c179e"
             ],
             [
              0.4444444444444444,
              "#bd3786"
             ],
             [
              0.5555555555555556,
              "#d8576b"
             ],
             [
              0.6666666666666666,
              "#ed7953"
             ],
             [
              0.7777777777777778,
              "#fb9f3a"
             ],
             [
              0.8888888888888888,
              "#fdca26"
             ],
             [
              1,
              "#f0f921"
             ]
            ],
            "type": "surface"
           }
          ],
          "table": [
           {
            "cells": {
             "fill": {
              "color": "#EBF0F8"
             },
             "line": {
              "color": "white"
             }
            },
            "header": {
             "fill": {
              "color": "#C8D4E3"
             },
             "line": {
              "color": "white"
             }
            },
            "type": "table"
           }
          ]
         },
         "layout": {
          "annotationdefaults": {
           "arrowcolor": "#2a3f5f",
           "arrowhead": 0,
           "arrowwidth": 1
          },
          "autotypenumbers": "strict",
          "coloraxis": {
           "colorbar": {
            "outlinewidth": 0,
            "ticks": ""
           }
          },
          "colorscale": {
           "diverging": [
            [
             0,
             "#8e0152"
            ],
            [
             0.1,
             "#c51b7d"
            ],
            [
             0.2,
             "#de77ae"
            ],
            [
             0.3,
             "#f1b6da"
            ],
            [
             0.4,
             "#fde0ef"
            ],
            [
             0.5,
             "#f7f7f7"
            ],
            [
             0.6,
             "#e6f5d0"
            ],
            [
             0.7,
             "#b8e186"
            ],
            [
             0.8,
             "#7fbc41"
            ],
            [
             0.9,
             "#4d9221"
            ],
            [
             1,
             "#276419"
            ]
           ],
           "sequential": [
            [
             0,
             "#0d0887"
            ],
            [
             0.1111111111111111,
             "#46039f"
            ],
            [
             0.2222222222222222,
             "#7201a8"
            ],
            [
             0.3333333333333333,
             "#9c179e"
            ],
            [
             0.4444444444444444,
             "#bd3786"
            ],
            [
             0.5555555555555556,
             "#d8576b"
            ],
            [
             0.6666666666666666,
             "#ed7953"
            ],
            [
             0.7777777777777778,
             "#fb9f3a"
            ],
            [
             0.8888888888888888,
             "#fdca26"
            ],
            [
             1,
             "#f0f921"
            ]
           ],
           "sequentialminus": [
            [
             0,
             "#0d0887"
            ],
            [
             0.1111111111111111,
             "#46039f"
            ],
            [
             0.2222222222222222,
             "#7201a8"
            ],
            [
             0.3333333333333333,
             "#9c179e"
            ],
            [
             0.4444444444444444,
             "#bd3786"
            ],
            [
             0.5555555555555556,
             "#d8576b"
            ],
            [
             0.6666666666666666,
             "#ed7953"
            ],
            [
             0.7777777777777778,
             "#fb9f3a"
            ],
            [
             0.8888888888888888,
             "#fdca26"
            ],
            [
             1,
             "#f0f921"
            ]
           ]
          },
          "colorway": [
           "#636efa",
           "#EF553B",
           "#00cc96",
           "#ab63fa",
           "#FFA15A",
           "#19d3f3",
           "#FF6692",
           "#B6E880",
           "#FF97FF",
           "#FECB52"
          ],
          "font": {
           "color": "#2a3f5f"
          },
          "geo": {
           "bgcolor": "white",
           "lakecolor": "white",
           "landcolor": "#E5ECF6",
           "showlakes": true,
           "showland": true,
           "subunitcolor": "white"
          },
          "hoverlabel": {
           "align": "left"
          },
          "hovermode": "closest",
          "mapbox": {
           "style": "light"
          },
          "paper_bgcolor": "white",
          "plot_bgcolor": "#E5ECF6",
          "polar": {
           "angularaxis": {
            "gridcolor": "white",
            "linecolor": "white",
            "ticks": ""
           },
           "bgcolor": "#E5ECF6",
           "radialaxis": {
            "gridcolor": "white",
            "linecolor": "white",
            "ticks": ""
           }
          },
          "scene": {
           "xaxis": {
            "backgroundcolor": "#E5ECF6",
            "gridcolor": "white",
            "gridwidth": 2,
            "linecolor": "white",
            "showbackground": true,
            "ticks": "",
            "zerolinecolor": "white"
           },
           "yaxis": {
            "backgroundcolor": "#E5ECF6",
            "gridcolor": "white",
            "gridwidth": 2,
            "linecolor": "white",
            "showbackground": true,
            "ticks": "",
            "zerolinecolor": "white"
           },
           "zaxis": {
            "backgroundcolor": "#E5ECF6",
            "gridcolor": "white",
            "gridwidth": 2,
            "linecolor": "white",
            "showbackground": true,
            "ticks": "",
            "zerolinecolor": "white"
           }
          },
          "shapedefaults": {
           "line": {
            "color": "#2a3f5f"
           }
          },
          "ternary": {
           "aaxis": {
            "gridcolor": "white",
            "linecolor": "white",
            "ticks": ""
           },
           "baxis": {
            "gridcolor": "white",
            "linecolor": "white",
            "ticks": ""
           },
           "bgcolor": "#E5ECF6",
           "caxis": {
            "gridcolor": "white",
            "linecolor": "white",
            "ticks": ""
           }
          },
          "title": {
           "x": 0.05
          },
          "xaxis": {
           "automargin": true,
           "gridcolor": "white",
           "linecolor": "white",
           "ticks": "",
           "title": {
            "standoff": 15
           },
           "zerolinecolor": "white",
           "zerolinewidth": 2
          },
          "yaxis": {
           "automargin": true,
           "gridcolor": "white",
           "linecolor": "white",
           "ticks": "",
           "title": {
            "standoff": 15
           },
           "zerolinecolor": "white",
           "zerolinewidth": 2
          }
         }
        },
        "title": {
         "text": "Environmental Factors vs Microplastic Distribution",
         "x": 0.5
        },
        "xaxis": {
         "anchor": "y",
         "domain": [
          0,
          0.45
         ]
        },
        "xaxis2": {
         "anchor": "y2",
         "domain": [
          0.55,
          1
         ],
         "title": {
          "text": "Temperature (°C)"
         }
        },
        "xaxis3": {
         "anchor": "y3",
         "domain": [
          0,
          0.45
         ],
         "title": {
          "text": "Current Speed (m/s)"
         }
        },
        "xaxis4": {
         "anchor": "y4",
         "domain": [
          0.55,
          1
         ],
         "title": {
          "text": "Longitude"
         }
        },
        "yaxis": {
         "anchor": "x",
         "domain": [
          0.625,
          1
         ]
        },
        "yaxis2": {
         "anchor": "x2",
         "domain": [
          0.625,
          1
         ],
         "title": {
          "text": "Concentration"
         }
        },
        "yaxis3": {
         "anchor": "x3",
         "domain": [
          0,
          0.375
         ],
         "title": {
          "text": "Concentration"
         }
        },
        "yaxis4": {
         "anchor": "x4",
         "domain": [
          0,
          0.375
         ],
         "title": {
          "text": "Latitude"
         }
        }
       }
      }
     },
     "metadata": {},
     "output_type": "display_data"
    },
    {
     "name": "stdout",
     "output_type": "stream",
     "text": [
      "🌡️ Environmental analysis shows:\n",
      "   • Temperature vs microplastic relationships\n",
      "   • Ocean current impact\n",
      "   • Geographic distribution patterns\n",
      "   • Factor correlation matrix\n"
     ]
    }
   ],
   "source": [
    "# Create environmental correlation analysis\n",
    "correlation_fig = visualizer.create_environmental_correlations()\n",
    "correlation_fig.show()\n",
    "\n",
    "print(\"🌡️ Environmental analysis shows:\")\n",
    "print(\"   • Temperature vs microplastic relationships\")\n",
    "print(\"   • Ocean current impact\")\n",
    "print(\"   • Geographic distribution patterns\")\n",
    "print(\"   • Factor correlation matrix\")"
   ]
  },
  {
   "cell_type": "markdown",
   "id": "55e0c089",
   "metadata": {},
   "source": [
    "## 📋 Comprehensive Risk Dashboard"
   ]
  },
  {
   "cell_type": "code",
   "execution_count": 18,
   "id": "1a4b4272",
   "metadata": {},
   "outputs": [
    {
     "name": "stderr",
     "output_type": "stream",
     "text": [
      "INFO:src.visualization.interactive_maps:Risk dashboard saved to visualizations/risk_dashboard.html\n"
     ]
    },
    {
     "data": {
      "application/vnd.plotly.v1+json": {
       "config": {
        "plotlyServerURL": "https://plot.ly"
       },
       "data": [
        {
         "domain": {
          "x": [
           0,
           0.2888888888888889
          ],
          "y": [
           0.7777777777777778,
           1
          ]
         },
         "labels": [
          "Very Low",
          "Low",
          "Moderate",
          "High",
          "Very High"
         ],
         "name": "Risk Distribution",
         "type": "pie",
         "values": {
          "bdata": "kwAiAAoACAABAA==",
          "dtype": "i2"
         }
        },
        {
         "marker": {
          "color": "red",
          "size": 10,
          "symbol": "cross"
         },
         "mode": "markers",
         "name": "Confirmed Hotspots",
         "type": "scatter",
         "x": {
          "bdata": "DjiqDRN0XsBXjdCE+4ZewOUZWA/d/2RAPVq0WLKuRMAeAdJtOzJgwEqfCU1DyGDA1ML0mN1BLUC9iqDc9XgXQH5zE20q3k/Aj2s5u7q4MUCl85r8RJEzQGdXivRjgETAN7+glAn3YcA=",
          "dtype": "f8"
         },
         "xaxis": "x",
         "y": {
          "bdata": "cAOymNrWO0BoacNV/fc4QLD387jqQwNAJYdfSAqCQEDuj+Z7aLlDQLOma04OQkBAmAWN+PtGNsA9Bc69EoIlwE7BC+6Hqj5Aqmhq4UdyQkCk7iTxtBRDQLBgoQ8/HkRAwLlN9sZONUA=",
          "dtype": "f8"
         },
         "yaxis": "y"
        },
        {
         "marker": {
          "color": "blue"
         },
         "name": "Concentration Distribution",
         "type": "histogram",
         "x": {
          "bdata": "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",
          "dtype": "f8"
         },
         "xaxis": "x2",
         "yaxis": "y2"
        },
        {
         "marker": {
          "color": [
           "lightblue",
           "orange",
           "lightgreen"
          ]
         },
         "name": "Risk by Region",
         "type": "bar",
         "x": [
          "North",
          "South",
          "Tropical"
         ],
         "xaxis": "x3",
         "y": {
          "bdata": "nrhkvTQKxT8HO6Z7APC2P9OrJcvUPsg/",
          "dtype": "f8"
         },
         "yaxis": "y3"
        },
        {
         "line": {
          "color": "red"
         },
         "mode": "lines+markers",
         "name": "Monthly Risk Trend",
         "type": "scatter",
         "x": {
          "bdata": "AQAAAAIAAAADAAAABAAAAAUAAAAGAAAABwAAAAgAAAAJAAAACgAAAAsAAAAMAAAA",
          "dtype": "i4"
         },
         "xaxis": "x4",
         "y": {
          "bdata": "/sR458HfxD9impwQv3XGPyT1JtbF8sA/WNTrcZuavD8JonLQb1XEP/Rc5ibIksM/i5/vCDElvj+/DWthIePHP880uEGRysQ/zGwnb/boxT9vQQpLoBfIPwGhcpsqxrQ/",
          "dtype": "f8"
         },
         "yaxis": "y4"
        },
        {
         "marker": {
          "color": {
           "bdata": "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",
           "dtype": "f8"
          },
          "colorscale": [
           [
            0,
            "#440154"
           ],
           [
            0.1111111111111111,
            "#482878"
           ],
           [
            0.2222222222222222,
            "#3e4989"
           ],
           [
            0.3333333333333333,
            "#31688e"
           ],
           [
            0.4444444444444444,
            "#26828e"
           ],
           [
            0.5555555555555556,
            "#1f9e89"
           ],
           [
            0.6666666666666666,
            "#35b779"
           ],
           [
            0.7777777777777778,
            "#6ece58"
           ],
           [
            0.8888888888888888,
            "#b5de2b"
           ],
           [
            1,
            "#fde725"
           ]
          ],
          "size": 6
         },
         "mode": "markers",
         "name": "Temperature Impact",
         "type": "scatter",
         "x": {
          "bdata": "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",
          "dtype": "f8"
         },
         "xaxis": "x5",
         "y": {
          "bdata": "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",
          "dtype": "f8"
         },
         "yaxis": "y5"
        },
        {
         "marker": {
          "color": "purple",
          "size": 6
         },
         "mode": "markers",
         "name": "Current Speed Impact",
         "type": "scatter",
         "x": {
          "bdata": "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",
          "dtype": "f8"
         },
         "xaxis": "x6",
         "y": {
          "bdata": "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",
          "dtype": "f8"
         },
         "yaxis": "y6"
        },
        {
         "name": "Concentration by Risk",
         "type": "box",
         "x": [
          "Low",
          "Very Low",
          "High",
          "Very Low",
          "Very Low",
          "Very Low",
          "Very Low",
          "Very Low",
          "Very Low",
          "Very High",
          "Very Low",
          "Very Low",
          "Low",
          "Very Low",
          "Very Low",
          "Very Low",
          "Very Low",
          "Very Low",
          "Very Low",
          "Very Low",
          "Very Low",
          "Very Low",
          "Very Low",
          "Very Low",
          "Very Low",
          "Very Low",
          "Very Low",
          "Very Low",
          "Very Low",
          "Very Low",
          "Very Low",
          "Very Low",
          "Very Low",
          "Very Low",
          "Very Low",
          "Very Low",
          "Very Low",
          "Low",
          "Very Low",
          "Very Low",
          "Very Low",
          "Low",
          "Very Low",
          "Very Low",
          "Very Low",
          "Very Low",
          "Very Low",
          "Moderate",
          "Low",
          "Very Low",
          "Very Low",
          "Moderate",
          "Very Low",
          "Very Low",
          "Very Low",
          "Very Low",
          "Very Low",
          "Very Low",
          "Low",
          "Very Low",
          "Low",
          "Low",
          "High",
          "Moderate",
          "Low",
          "Very Low",
          "Very Low",
          "Very Low",
          "Very Low",
          "Very Low",
          "Very Low",
          "Very Low",
          "Very Low",
          "Low",
          "Moderate",
          "Low",
          "Very Low",
          "Very Low",
          "Very Low",
          "Low",
          "Low",
          "Very Low",
          "Very Low",
          "Low",
          "Very Low",
          "Low",
          "Low",
          "Low",
          "Very Low",
          "Very Low",
          "Very Low",
          "Very Low",
          "Very Low",
          "Very Low",
          "High",
          "Moderate",
          "Very Low",
          "Very Low",
          "Very Low",
          "Low",
          "Very Low",
          "Low",
          "Moderate",
          "Very Low",
          "Low",
          "Very Low",
          "High",
          "High",
          "Very Low",
          "Very Low",
          "Very Low",
          "Low",
          "Very Low",
          "Very Low",
          "Low",
          "Very Low",
          "Very Low",
          "Very Low",
          "Very Low",
          "Very Low",
          "High",
          "Very Low",
          "Low",
          "Very Low",
          "Very Low",
          "Very Low",
          "Moderate",
          "Very Low",
          "Very Low",
          "Very Low",
          "Very Low",
          "Very Low",
          "Very Low",
          "Very Low",
          "Very Low",
          "Very Low",
          "Very Low",
          "Very Low",
          "Low",
          "Very Low",
          "Very Low",
          "Low",
          "Very Low",
          "Very Low",
          "Very Low",
          "Very Low",
          "Low",
          "Very Low",
          "Very Low",
          "Very Low",
          "Very Low",
          "Very Low",
          "Very Low",
          "Very Low",
          "Very Low",
          "Very Low",
          "Very Low",
          "Low",
          "Very Low",
          "Low",
          "Low",
          "Very Low",
          "Moderate",
          "Moderate",
          "Moderate",
          "High",
          "Low",
          "Very Low",
          "Very Low",
          "Very Low",
          "High",
          "Very Low",
          "Very Low",
          "Very Low",
          "Low",
          "Very Low",
          "Very Low",
          "Low",
          "Very Low",
          "Very Low",
          "Low",
          "Very Low",
          "Very Low",
          "Very Low",
          "Very Low",
          "Very Low",
          "Very Low",
          "Low",
          "Very Low",
          "Very Low",
          "Very Low",
          "Very Low",
          "Very Low",
          "Very Low",
          "Very Low",
          "Very Low",
          "Very Low",
          "Very Low",
          "Very Low",
          "Very Low"
         ],
         "xaxis": "x7",
         "y": {
          "bdata": "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",
          "dtype": "f8"
         },
         "yaxis": "y7"
        },
        {
         "domain": {
          "x": [
           0.7111111111111111,
           1
          ],
          "y": [
           0,
           0.22222222222222224
          ]
         },
         "gauge": {
          "axis": {
           "range": [
            null,
            100
           ]
          },
          "bar": {
           "color": "darkblue"
          },
          "steps": [
           {
            "color": "lightgray",
            "range": [
             0,
             50
            ]
           },
           {
            "color": "gray",
            "range": [
             50,
             85
            ]
           }
          ],
          "threshold": {
           "line": {
            "color": "red",
            "width": 4
           },
           "thickness": 0.75,
           "value": 90
          }
         },
         "mode": "gauge+number",
         "title": {
          "text": "Model Confidence"
         },
         "type": "indicator",
         "value": 81.81209601276078
        }
       ],
       "layout": {
        "annotations": [
         {
          "font": {
           "size": 16
          },
          "showarrow": false,
          "text": "Risk Level Distribution",
          "x": 0.14444444444444446,
          "xanchor": "center",
          "xref": "paper",
          "y": 1,
          "yanchor": "bottom",
          "yref": "paper"
         },
         {
          "font": {
           "size": 16
          },
          "showarrow": false,
          "text": "Hotspot Locations",
          "x": 0.5,
          "xanchor": "center",
          "xref": "paper",
          "y": 1,
          "yanchor": "bottom",
          "yref": "paper"
         },
         {
          "font": {
           "size": 16
          },
          "showarrow": false,
          "text": "Concentration Distribution",
          "x": 0.8555555555555556,
          "xanchor": "center",
          "xref": "paper",
          "y": 1,
          "yanchor": "bottom",
          "yref": "paper"
         },
         {
          "font": {
           "size": 16
          },
          "showarrow": false,
          "text": "Risk by Ocean Region",
          "x": 0.14444444444444446,
          "xanchor": "center",
          "xref": "paper",
          "y": 0.6111111111111112,
          "yanchor": "bottom",
          "yref": "paper"
         },
         {
          "font": {
           "size": 16
          },
          "showarrow": false,
          "text": "Monthly Risk Trends",
          "x": 0.5,
          "xanchor": "center",
          "xref": "paper",
          "y": 0.6111111111111112,
          "yanchor": "bottom",
          "yref": "paper"
         },
         {
          "font": {
           "size": 16
          },
          "showarrow": false,
          "text": "Temperature Impact",
          "x": 0.8555555555555556,
          "xanchor": "center",
          "xref": "paper",
          "y": 0.6111111111111112,
          "yanchor": "bottom",
          "yref": "paper"
         },
         {
          "font": {
           "size": 16
          },
          "showarrow": false,
          "text": "Current Speed Impact",
          "x": 0.14444444444444446,
          "xanchor": "center",
          "xref": "paper",
          "y": 0.22222222222222224,
          "yanchor": "bottom",
          "yref": "paper"
         },
         {
          "font": {
           "size": 16
          },
          "showarrow": false,
          "text": "Depth Analysis",
          "x": 0.5,
          "xanchor": "center",
          "xref": "paper",
          "y": 0.22222222222222224,
          "yanchor": "bottom",
          "yref": "paper"
         },
         {
          "font": {
           "size": 16
          },
          "showarrow": false,
          "text": "Prediction Confidence",
          "x": 0.8555555555555556,
          "xanchor": "center",
          "xref": "paper",
          "y": 0.22222222222222224,
          "yanchor": "bottom",
          "yref": "paper"
         }
        ],
        "height": 1200,
        "showlegend": false,
        "template": {
         "data": {
          "bar": [
           {
            "error_x": {
             "color": "#2a3f5f"
            },
            "error_y": {
             "color": "#2a3f5f"
            },
            "marker": {
             "line": {
              "color": "#E5ECF6",
              "width": 0.5
             },
             "pattern": {
              "fillmode": "overlay",
              "size": 10,
              "solidity": 0.2
             }
            },
            "type": "bar"
           }
          ],
          "barpolar": [
           {
            "marker": {
             "line": {
              "color": "#E5ECF6",
              "width": 0.5
             },
             "pattern": {
              "fillmode": "overlay",
              "size": 10,
              "solidity": 0.2
             }
            },
            "type": "barpolar"
           }
          ],
          "carpet": [
           {
            "aaxis": {
             "endlinecolor": "#2a3f5f",
             "gridcolor": "white",
             "linecolor": "white",
             "minorgridcolor": "white",
             "startlinecolor": "#2a3f5f"
            },
            "baxis": {
             "endlinecolor": "#2a3f5f",
             "gridcolor": "white",
             "linecolor": "white",
             "minorgridcolor": "white",
             "startlinecolor": "#2a3f5f"
            },
            "type": "carpet"
           }
          ],
          "choropleth": [
           {
            "colorbar": {
             "outlinewidth": 0,
             "ticks": ""
            },
            "type": "choropleth"
           }
          ],
          "contour": [
           {
            "colorbar": {
             "outlinewidth": 0,
             "ticks": ""
            },
            "colorscale": [
             [
              0,
              "#0d0887"
             ],
             [
              0.1111111111111111,
              "#46039f"
             ],
             [
              0.2222222222222222,
              "#7201a8"
             ],
             [
              0.3333333333333333,
              "#9c179e"
             ],
             [
              0.4444444444444444,
              "#bd3786"
             ],
             [
              0.5555555555555556,
              "#d8576b"
             ],
             [
              0.6666666666666666,
              "#ed7953"
             ],
             [
              0.7777777777777778,
              "#fb9f3a"
             ],
             [
              0.8888888888888888,
              "#fdca26"
             ],
             [
              1,
              "#f0f921"
             ]
            ],
            "type": "contour"
           }
          ],
          "contourcarpet": [
           {
            "colorbar": {
             "outlinewidth": 0,
             "ticks": ""
            },
            "type": "contourcarpet"
           }
          ],
          "heatmap": [
           {
            "colorbar": {
             "outlinewidth": 0,
             "ticks": ""
            },
            "colorscale": [
             [
              0,
              "#0d0887"
             ],
             [
              0.1111111111111111,
              "#46039f"
             ],
             [
              0.2222222222222222,
              "#7201a8"
             ],
             [
              0.3333333333333333,
              "#9c179e"
             ],
             [
              0.4444444444444444,
              "#bd3786"
             ],
             [
              0.5555555555555556,
              "#d8576b"
             ],
             [
              0.6666666666666666,
              "#ed7953"
             ],
             [
              0.7777777777777778,
              "#fb9f3a"
             ],
             [
              0.8888888888888888,
              "#fdca26"
             ],
             [
              1,
              "#f0f921"
             ]
            ],
            "type": "heatmap"
           }
          ],
          "histogram": [
           {
            "marker": {
             "pattern": {
              "fillmode": "overlay",
              "size": 10,
              "solidity": 0.2
             }
            },
            "type": "histogram"
           }
          ],
          "histogram2d": [
           {
            "colorbar": {
             "outlinewidth": 0,
             "ticks": ""
            },
            "colorscale": [
             [
              0,
              "#0d0887"
             ],
             [
              0.1111111111111111,
              "#46039f"
             ],
             [
              0.2222222222222222,
              "#7201a8"
             ],
             [
              0.3333333333333333,
              "#9c179e"
             ],
             [
              0.4444444444444444,
              "#bd3786"
             ],
             [
              0.5555555555555556,
              "#d8576b"
             ],
             [
              0.6666666666666666,
              "#ed7953"
             ],
             [
              0.7777777777777778,
              "#fb9f3a"
             ],
             [
              0.8888888888888888,
              "#fdca26"
             ],
             [
              1,
              "#f0f921"
             ]
            ],
            "type": "histogram2d"
           }
          ],
          "histogram2dcontour": [
           {
            "colorbar": {
             "outlinewidth": 0,
             "ticks": ""
            },
            "colorscale": [
             [
              0,
              "#0d0887"
             ],
             [
              0.1111111111111111,
              "#46039f"
             ],
             [
              0.2222222222222222,
              "#7201a8"
             ],
             [
              0.3333333333333333,
              "#9c179e"
             ],
             [
              0.4444444444444444,
              "#bd3786"
             ],
             [
              0.5555555555555556,
              "#d8576b"
             ],
             [
              0.6666666666666666,
              "#ed7953"
             ],
             [
              0.7777777777777778,
              "#fb9f3a"
             ],
             [
              0.8888888888888888,
              "#fdca26"
             ],
             [
              1,
              "#f0f921"
             ]
            ],
            "type": "histogram2dcontour"
           }
          ],
          "mesh3d": [
           {
            "colorbar": {
             "outlinewidth": 0,
             "ticks": ""
            },
            "type": "mesh3d"
           }
          ],
          "parcoords": [
           {
            "line": {
             "colorbar": {
              "outlinewidth": 0,
              "ticks": ""
             }
            },
            "type": "parcoords"
           }
          ],
          "pie": [
           {
            "automargin": true,
            "type": "pie"
           }
          ],
          "scatter": [
           {
            "fillpattern": {
             "fillmode": "overlay",
             "size": 10,
             "solidity": 0.2
            },
            "type": "scatter"
           }
          ],
          "scatter3d": [
           {
            "line": {
             "colorbar": {
              "outlinewidth": 0,
              "ticks": ""
             }
            },
            "marker": {
             "colorbar": {
              "outlinewidth": 0,
              "ticks": ""
             }
            },
            "type": "scatter3d"
           }
          ],
          "scattercarpet": [
           {
            "marker": {
             "colorbar": {
              "outlinewidth": 0,
              "ticks": ""
             }
            },
            "type": "scattercarpet"
           }
          ],
          "scattergeo": [
           {
            "marker": {
             "colorbar": {
              "outlinewidth": 0,
              "ticks": ""
             }
            },
            "type": "scattergeo"
           }
          ],
          "scattergl": [
           {
            "marker": {
             "colorbar": {
              "outlinewidth": 0,
              "ticks": ""
             }
            },
            "type": "scattergl"
           }
          ],
          "scattermap": [
           {
            "marker": {
             "colorbar": {
              "outlinewidth": 0,
              "ticks": ""
             }
            },
            "type": "scattermap"
           }
          ],
          "scattermapbox": [
           {
            "marker": {
             "colorbar": {
              "outlinewidth": 0,
              "ticks": ""
             }
            },
            "type": "scattermapbox"
           }
          ],
          "scatterpolar": [
           {
            "marker": {
             "colorbar": {
              "outlinewidth": 0,
              "ticks": ""
             }
            },
            "type": "scatterpolar"
           }
          ],
          "scatterpolargl": [
           {
            "marker": {
             "colorbar": {
              "outlinewidth": 0,
              "ticks": ""
             }
            },
            "type": "scatterpolargl"
           }
          ],
          "scatterternary": [
           {
            "marker": {
             "colorbar": {
              "outlinewidth": 0,
              "ticks": ""
             }
            },
            "type": "scatterternary"
           }
          ],
          "surface": [
           {
            "colorbar": {
             "outlinewidth": 0,
             "ticks": ""
            },
            "colorscale": [
             [
              0,
              "#0d0887"
             ],
             [
              0.1111111111111111,
              "#46039f"
             ],
             [
              0.2222222222222222,
              "#7201a8"
             ],
             [
              0.3333333333333333,
              "#9c179e"
             ],
             [
              0.4444444444444444,
              "#bd3786"
             ],
             [
              0.5555555555555556,
              "#d8576b"
             ],
             [
              0.6666666666666666,
              "#ed7953"
             ],
             [
              0.7777777777777778,
              "#fb9f3a"
             ],
             [
              0.8888888888888888,
              "#fdca26"
             ],
             [
              1,
              "#f0f921"
             ]
            ],
            "type": "surface"
           }
          ],
          "table": [
           {
            "cells": {
             "fill": {
              "color": "#EBF0F8"
             },
             "line": {
              "color": "white"
             }
            },
            "header": {
             "fill": {
              "color": "#C8D4E3"
             },
             "line": {
              "color": "white"
             }
            },
            "type": "table"
           }
          ]
         },
         "layout": {
          "annotationdefaults": {
           "arrowcolor": "#2a3f5f",
           "arrowhead": 0,
           "arrowwidth": 1
          },
          "autotypenumbers": "strict",
          "coloraxis": {
           "colorbar": {
            "outlinewidth": 0,
            "ticks": ""
           }
          },
          "colorscale": {
           "diverging": [
            [
             0,
             "#8e0152"
            ],
            [
             0.1,
             "#c51b7d"
            ],
            [
             0.2,
             "#de77ae"
            ],
            [
             0.3,
             "#f1b6da"
            ],
            [
             0.4,
             "#fde0ef"
            ],
            [
             0.5,
             "#f7f7f7"
            ],
            [
             0.6,
             "#e6f5d0"
            ],
            [
             0.7,
             "#b8e186"
            ],
            [
             0.8,
             "#7fbc41"
            ],
            [
             0.9,
             "#4d9221"
            ],
            [
             1,
             "#276419"
            ]
           ],
           "sequential": [
            [
             0,
             "#0d0887"
            ],
            [
             0.1111111111111111,
             "#46039f"
            ],
            [
             0.2222222222222222,
             "#7201a8"
            ],
            [
             0.3333333333333333,
             "#9c179e"
            ],
            [
             0.4444444444444444,
             "#bd3786"
            ],
            [
             0.5555555555555556,
             "#d8576b"
            ],
            [
             0.6666666666666666,
             "#ed7953"
            ],
            [
             0.7777777777777778,
             "#fb9f3a"
            ],
            [
             0.8888888888888888,
             "#fdca26"
            ],
            [
             1,
             "#f0f921"
            ]
           ],
           "sequentialminus": [
            [
             0,
             "#0d0887"
            ],
            [
             0.1111111111111111,
             "#46039f"
            ],
            [
             0.2222222222222222,
             "#7201a8"
            ],
            [
             0.3333333333333333,
             "#9c179e"
            ],
            [
             0.4444444444444444,
             "#bd3786"
            ],
            [
             0.5555555555555556,
             "#d8576b"
            ],
            [
             0.6666666666666666,
             "#ed7953"
            ],
            [
             0.7777777777777778,
             "#fb9f3a"
            ],
            [
             0.8888888888888888,
             "#fdca26"
            ],
            [
             1,
             "#f0f921"
            ]
           ]
          },
          "colorway": [
           "#636efa",
           "#EF553B",
           "#00cc96",
           "#ab63fa",
           "#FFA15A",
           "#19d3f3",
           "#FF6692",
           "#B6E880",
           "#FF97FF",
           "#FECB52"
          ],
          "font": {
           "color": "#2a3f5f"
          },
          "geo": {
           "bgcolor": "white",
           "lakecolor": "white",
           "landcolor": "#E5ECF6",
           "showlakes": true,
           "showland": true,
           "subunitcolor": "white"
          },
          "hoverlabel": {
           "align": "left"
          },
          "hovermode": "closest",
          "mapbox": {
           "style": "light"
          },
          "paper_bgcolor": "white",
          "plot_bgcolor": "#E5ECF6",
          "polar": {
           "angularaxis": {
            "gridcolor": "white",
            "linecolor": "white",
            "ticks": ""
           },
           "bgcolor": "#E5ECF6",
           "radialaxis": {
            "gridcolor": "white",
            "linecolor": "white",
            "ticks": ""
           }
          },
          "scene": {
           "xaxis": {
            "backgroundcolor": "#E5ECF6",
            "gridcolor": "white",
            "gridwidth": 2,
            "linecolor": "white",
            "showbackground": true,
            "ticks": "",
            "zerolinecolor": "white"
           },
           "yaxis": {
            "backgroundcolor": "#E5ECF6",
            "gridcolor": "white",
            "gridwidth": 2,
            "linecolor": "white",
            "showbackground": true,
            "ticks": "",
            "zerolinecolor": "white"
           },
           "zaxis": {
            "backgroundcolor": "#E5ECF6",
            "gridcolor": "white",
            "gridwidth": 2,
            "linecolor": "white",
            "showbackground": true,
            "ticks": "",
            "zerolinecolor": "white"
           }
          },
          "shapedefaults": {
           "line": {
            "color": "#2a3f5f"
           }
          },
          "ternary": {
           "aaxis": {
            "gridcolor": "white",
            "linecolor": "white",
            "ticks": ""
           },
           "baxis": {
            "gridcolor": "white",
            "linecolor": "white",
            "ticks": ""
           },
           "bgcolor": "#E5ECF6",
           "caxis": {
            "gridcolor": "white",
            "linecolor": "white",
            "ticks": ""
           }
          },
          "title": {
           "x": 0.05
          },
          "xaxis": {
           "automargin": true,
           "gridcolor": "white",
           "linecolor": "white",
           "ticks": "",
           "title": {
            "standoff": 15
           },
           "zerolinecolor": "white",
           "zerolinewidth": 2
          },
          "yaxis": {
           "automargin": true,
           "gridcolor": "white",
           "linecolor": "white",
           "ticks": "",
           "title": {
            "standoff": 15
           },
           "zerolinecolor": "white",
           "zerolinewidth": 2
          }
         }
        },
        "title": {
         "text": "Marine Microplastic Risk Assessment Dashboard",
         "x": 0.5
        },
        "xaxis": {
         "anchor": "y",
         "domain": [
          0.35555555555555557,
          0.6444444444444445
         ]
        },
        "xaxis2": {
         "anchor": "y2",
         "domain": [
          0.7111111111111111,
          1
         ]
        },
        "xaxis3": {
         "anchor": "y3",
         "domain": [
          0,
          0.2888888888888889
         ]
        },
        "xaxis4": {
         "anchor": "y4",
         "domain": [
          0.35555555555555557,
          0.6444444444444445
         ]
        },
        "xaxis5": {
         "anchor": "y5",
         "domain": [
          0.7111111111111111,
          1
         ]
        },
        "xaxis6": {
         "anchor": "y6",
         "domain": [
          0,
          0.2888888888888889
         ]
        },
        "xaxis7": {
         "anchor": "y7",
         "domain": [
          0.35555555555555557,
          0.6444444444444445
         ]
        },
        "yaxis": {
         "anchor": "x",
         "domain": [
          0.7777777777777778,
          1
         ]
        },
        "yaxis2": {
         "anchor": "x2",
         "domain": [
          0.7777777777777778,
          1
         ]
        },
        "yaxis3": {
         "anchor": "x3",
         "domain": [
          0.3888888888888889,
          0.6111111111111112
         ]
        },
        "yaxis4": {
         "anchor": "x4",
         "domain": [
          0.3888888888888889,
          0.6111111111111112
         ]
        },
        "yaxis5": {
         "anchor": "x5",
         "domain": [
          0.3888888888888889,
          0.6111111111111112
         ]
        },
        "yaxis6": {
         "anchor": "x6",
         "domain": [
          0,
          0.22222222222222224
         ]
        },
        "yaxis7": {
         "anchor": "x7",
         "domain": [
          0,
          0.22222222222222224
         ]
        }
       }
      }
     },
     "metadata": {},
     "output_type": "display_data"
    },
    {
     "name": "stdout",
     "output_type": "stream",
     "text": [
      "📋 Risk dashboard provides:\n",
      "   • Risk level distribution\n",
      "   • Hotspot locations\n",
      "   • Regional risk analysis\n",
      "   • Environmental impact assessment\n",
      "   • Model confidence metrics\n"
     ]
    }
   ],
   "source": [
    "# Create comprehensive risk dashboard\n",
    "dashboard_fig = visualizer.create_risk_dashboard()\n",
    "dashboard_fig.show()\n",
    "\n",
    "print(\"📋 Risk dashboard provides:\")\n",
    "print(\"   • Risk level distribution\")\n",
    "print(\"   • Hotspot locations\")\n",
    "print(\"   • Regional risk analysis\")\n",
    "print(\"   • Environmental impact assessment\")\n",
    "print(\"   • Model confidence metrics\")"
   ]
  },
  {
   "cell_type": "markdown",
   "id": "0b3df3a0",
   "metadata": {},
   "source": [
    "## 🎯 Real-time Prediction Visualization"
   ]
  },
  {
   "cell_type": "code",
   "execution_count": 19,
   "id": "1bbb5357",
   "metadata": {},
   "outputs": [
    {
     "name": "stdout",
     "output_type": "stream",
     "text": [
      "⚠️ Could not predict for North Pacific Gyre: predict_hotspot() missing 1 required positional argument: 'date'\n",
      "⚠️ Could not predict for North Atlantic: predict_hotspot() missing 1 required positional argument: 'date'\n",
      "⚠️ Could not predict for Mediterranean Sea: predict_hotspot() missing 1 required positional argument: 'date'\n",
      "⚠️ Could not predict for South Pacific: predict_hotspot() missing 1 required positional argument: 'date'\n",
      "⚠️ Could not predict for Indian Ocean: predict_hotspot() missing 1 required positional argument: 'date'\n"
     ]
    }
   ],
   "source": [
    "# Initialize prediction engine for real-time analysis\n",
    "try:\n",
    "    from src.inference.predict_and_advise import PredictionEngine\n",
    "    prediction_engine = PredictionEngine()\n",
    "    \n",
    "    # Test locations for real-time prediction\n",
    "    test_locations = [\n",
    "        {\"name\": \"North Pacific Gyre\", \"lat\": 35.0, \"lon\": -140.0},\n",
    "        {\"name\": \"North Atlantic\", \"lat\": 40.7, \"lon\": -74.0},\n",
    "        {\"name\": \"Mediterranean Sea\", \"lat\": 35.0, \"lon\": 15.0},\n",
    "        {\"name\": \"South Pacific\", \"lat\": -20.0, \"lon\": 150.0},\n",
    "        {\"name\": \"Indian Ocean\", \"lat\": -10.0, \"lon\": 80.0}\n",
    "    ]\n",
    "    \n",
    "    # Generate predictions\n",
    "    predictions = []\n",
    "    for loc in test_locations:\n",
    "        try:\n",
    "            prob = prediction_engine.predict_hotspot(loc[\"lat\"], loc[\"lon\"])\n",
    "            predictions.append({\n",
    "                \"location\": loc[\"name\"],\n",
    "                \"latitude\": loc[\"lat\"],\n",
    "                \"longitude\": loc[\"lon\"],\n",
    "                \"hotspot_probability\": prob\n",
    "            })\n",
    "        except Exception as e:\n",
    "            print(f\"⚠️ Could not predict for {loc['name']}: {str(e)}\")\n",
    "    \n",
    "    if predictions:\n",
    "        pred_df = pd.DataFrame(predictions)\n",
    "        \n",
    "        # Create real-time prediction visualization\n",
    "        fig = go.Figure()\n",
    "        \n",
    "        # Add predictions as bar chart\n",
    "        fig.add_trace(go.Bar(\n",
    "            x=pred_df['location'],\n",
    "            y=pred_df['hotspot_probability'] * 100,\n",
    "            marker=dict(\n",
    "                color=pred_df['hotspot_probability'],\n",
    "                colorscale='Reds',\n",
    "                colorbar=dict(title=\"Risk Level\")\n",
    "            ),\n",
    "            text=[f\"{p:.1%}\" for p in pred_df['hotspot_probability']],\n",
    "            textposition='auto'\n",
    "        ))\n",
    "        \n",
    "        fig.update_layout(\n",
    "            title=\"🎯 Real-time Hotspot Predictions\",\n",
    "            xaxis_title=\"Location\",\n",
    "            yaxis_title=\"Hotspot Probability (%)\",\n",
    "            height=500\n",
    "        )\n",
    "        \n",
    "        fig.show()\n",
    "        \n",
    "        print(\"🎯 Real-time predictions generated successfully!\")\n",
    "        print(\"📊 Prediction results:\")\n",
    "        for _, row in pred_df.iterrows():\n",
    "            risk_level = \"🔴 HIGH\" if row['hotspot_probability'] > 0.6 else \"🟡 MODERATE\" if row['hotspot_probability'] > 0.3 else \"🟢 LOW\"\n",
    "            print(f\"   {row['location']}: {row['hotspot_probability']:.1%} {risk_level}\")\n",
    "    \n",
    "except Exception as e:\n",
    "    print(f\"⚠️ Could not initialize prediction engine: {str(e)}\")\n",
    "    print(\"💡 Make sure models are trained first by running: python src/models/train_classifier.py\")"
   ]
  },
  {
   "cell_type": "markdown",
   "id": "3484d09b",
   "metadata": {},
   "source": [
    "## 📊 Statistical Analysis"
   ]
  },
  {
   "cell_type": "code",
   "execution_count": 20,
   "id": "cebcaba8",
   "metadata": {},
   "outputs": [
    {
     "name": "stdout",
     "output_type": "stream",
     "text": [
      "📊 STATISTICAL SUMMARY\n",
      "==================================================\n",
      "\n",
      "🔢 Basic Statistics:\n",
      "       hotspot_probability  microplastic_concentration  water_temperature  \\\n",
      "count           200.000000                  200.000000         200.000000   \n",
      "mean              0.155082                   14.955154          16.101484   \n",
      "std               0.181879                   20.077611           8.116043   \n",
      "min              -0.112390                    0.456286          -4.850360   \n",
      "25%               0.038881                    3.643157          11.029500   \n",
      "50%               0.107495                    7.996737          15.432380   \n",
      "75%               0.217933                   17.910989          21.181093   \n",
      "max               0.909239                  121.029305          40.338973   \n",
      "\n",
      "       ocean_current_speed  \n",
      "count           200.000000  \n",
      "mean              4.000375  \n",
      "std               3.077367  \n",
      "min               0.143677  \n",
      "25%               1.769594  \n",
      "50%               3.391902  \n",
      "75%               5.393387  \n",
      "max              19.494266  \n",
      "\n",
      "🔗 Correlation Matrix:\n",
      "                            hotspot_probability  microplastic_concentration  \\\n",
      "hotspot_probability                    1.000000                   -0.099766   \n",
      "microplastic_concentration            -0.099766                    1.000000   \n",
      "water_temperature                      0.092389                   -0.010601   \n",
      "ocean_current_speed                    0.016783                   -0.057847   \n",
      "\n",
      "                            water_temperature  ocean_current_speed  \n",
      "hotspot_probability                  0.092389             0.016783  \n",
      "microplastic_concentration          -0.010601            -0.057847  \n",
      "water_temperature                    1.000000             0.055871  \n",
      "ocean_current_speed                  0.055871             1.000000  \n"
     ]
    },
    {
     "name": "stderr",
     "output_type": "stream",
     "text": [
      "/var/folders/38/_0twrndx6872x1tw1smjgl680000gn/T/ipykernel_96818/15170667.py:21: UserWarning:\n",
      "\n",
      "Glyph 128293 (\\N{FIRE}) missing from font(s) Arial.\n",
      "\n",
      "/Users/souvikshee/edcc/.venv/lib/python3.9/site-packages/IPython/core/pylabtools.py:152: UserWarning:\n",
      "\n",
      "Glyph 128293 (\\N{FIRE}) missing from font(s) Arial.\n",
      "\n"
     ]
    },
    {
     "data": {
      "image/png": "[encoded data removed]",
      "text/plain": [
       "<Figure size 1000x800 with 2 Axes>"
      ]
     },
     "metadata": {},
     "output_type": "display_data"
    },
    {
     "name": "stdout",
     "output_type": "stream",
     "text": [
      "\n",
      "🎯 Risk Level Distribution:\n",
      "   Very Low: 147 samples (73.5%)\n",
      "   Low: 34 samples (17.0%)\n",
      "   Moderate: 10 samples (5.0%)\n",
      "   High: 8 samples (4.0%)\n",
      "   Very High: 1 samples (0.5%)\n"
     ]
    }
   ],
   "source": [
    "# Create statistical summary\n",
    "print(\"📊 STATISTICAL SUMMARY\")\n",
    "print(\"=\" * 50)\n",
    "\n",
    "# Basic statistics\n",
    "print(\"\\n🔢 Basic Statistics:\")\n",
    "print(visualizer.data[['hotspot_probability', 'microplastic_concentration', \n",
    "                       'water_temperature', 'ocean_current_speed']].describe())\n",
    "\n",
    "# Correlation matrix\n",
    "print(\"\\n🔗 Correlation Matrix:\")\n",
    "corr_matrix = visualizer.data[['hotspot_probability', 'microplastic_concentration', \n",
    "                               'water_temperature', 'ocean_current_speed']].corr()\n",
    "print(corr_matrix)\n",
    "\n",
    "# Create correlation heatmap\n",
    "plt.figure(figsize=(10, 8))\n",
    "sns.heatmap(corr_matrix, annot=True, cmap='RdBu_r', center=0, \n",
    "            square=True, linewidths=0.5)\n",
    "plt.title('🔥 Environmental Factor Correlations')\n",
    "plt.tight_layout()\n",
    "plt.show()\n",
    "\n",
    "# Risk level distribution\n",
    "risk_levels = []\n",
    "for prob in visualizer.data['hotspot_probability']:\n",
    "    if prob < 0.2:\n",
    "        risk_levels.append('Very Low')\n",
    "    elif prob < 0.4:\n",
    "        risk_levels.append('Low')\n",
    "    elif prob < 0.6:\n",
    "        risk_levels.append('Moderate')\n",
    "    elif prob < 0.8:\n",
    "        risk_levels.append('High')\n",
    "    else:\n",
    "        risk_levels.append('Very High')\n",
    "\n",
    "risk_counts = pd.Series(risk_levels).value_counts()\n",
    "print(\"\\n🎯 Risk Level Distribution:\")\n",
    "for level, count in risk_counts.items():\n",
    "    percentage = (count / len(risk_levels)) * 100\n",
    "    print(f\"   {level}: {count} samples ({percentage:.1f}%)\")"
   ]
  },
  {
   "cell_type": "markdown",
   "id": "9df02e41",
   "metadata": {},
   "source": [
    "## 🎨 Custom Visualization Functions"
   ]
  },
  {
   "cell_type": "code",
   "execution_count": 21,
   "id": "5f8d2fc1",
   "metadata": {},
   "outputs": [
    {
     "data": {
      "application/vnd.plotly.v1+json": {
       "config": {
        "plotlyServerURL": "https://plot.ly"
       },
       "data": [
        {
         "hovertemplate": "%{text}<extra></extra>",
         "marker": {
          "color": {
           "bdata": "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",
           "dtype": "f8"
          },
          "colorbar": {
           "title": {
            "text": "Hotspot Probability"
           }
          },
          "colorscale": [
           [
            0,
            "rgb(255,245,240)"
           ],
           [
            0.125,
            "rgb(254,224,210)"
           ],
           [
            0.25,
            "rgb(252,187,161)"
           ],
           [
            0.375,
            "rgb(252,146,114)"
           ],
           [
            0.5,
            "rgb(251,106,74)"
           ],
           [
            0.625,
            "rgb(239,59,44)"
           ],
           [
            0.75,
            "rgb(203,24,29)"
           ],
           [
            0.875,
            "rgb(165,15,21)"
           ],
           [
            1,
            "rgb(103,0,13)"
           ]
          ],
          "opacity": 0.8,
          "size": {
           "bdata": "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",
           "dtype": "f8"
          }
         },
         "mode": "markers",
         "text": [
          "Lat: -15.06<br>Lon: 51.13<br>Concentration: 2.57<br>Risk: 23.1%",
          "Lat: 54.09<br>Lon: -149.71<br>Concentration: 3.56<br>Risk: 10.2%",
          "Lat: 27.84<br>Lon: -121.81<br>Concentration: 1.52<br>Risk: 76.8%",
          "Lat: 11.84<br>Lon: 143.48<br>Concentration: 30.43<br>Risk: 6.9%",
          "Lat: -41.28<br>Lon: 38.31<br>Concentration: 3.33<br>Risk: 13.2%",
          "Lat: -41.28<br>Lon: -176.69<br>Concentration: 14.31<br>Risk: 8.7%",
          "Lat: -53.03<br>Lon: -143.47<br>Concentration: 11.89<br>Risk: 11.0%",
          "Lat: 43.94<br>Lon: 58.86<br>Concentration: 27.63<br>Risk: 16.0%",
          "Lat: 12.13<br>Lon: -178.18<br>Concentration: 5.99<br>Risk: 1.8%",
          "Lat: 24.97<br>Lon: -122.11<br>Concentration: 2.86<br>Risk: 90.9%",
          "Lat: -57.53<br>Lon: 17.54<br>Concentration: 1.56<br>Risk: -0.1%",
          "Lat: 56.39<br>Lon: 69.08<br>Concentration: 0.46<br>Risk: -2.1%",
          "Lat: 39.89<br>Lon: 54.71<br>Concentration: 8.68<br>Risk: 21.6%",
          "Lat: -34.52<br>Lon: -99.26<br>Concentration: 16.05<br>Risk: 17.9%",
          "Lat: -38.18<br>Lon: 76.38<br>Concentration: 11.84<br>Risk: 16.2%",
          "Lat: -37.99<br>Lon: -94.59<br>Concentration: 1.60<br>Risk: 16.3%",
          "Lat: -23.49<br>Lon: -62.86<br>Concentration: 20.88<br>Risk: 9.9%",
          "Lat: 2.97<br>Lon: 88.74<br>Concentration: 3.68<br>Risk: 1.0%",
          "Lat: -8.17<br>Lon: 53.87<br>Concentration: 2.98<br>Risk: 10.8%",
          "Lat: -25.05<br>Lon: 125.72<br>Concentration: 3.59<br>Risk: 3.2%",
          "Lat: 13.42<br>Lon: 56.74<br>Concentration: 7.99<br>Risk: 19.8%",
          "Lat: -43.26<br>Lon: 24.59<br>Concentration: 1.67<br>Risk: 8.5%",
          "Lat: -24.94<br>Lon: -146.28<br>Concentration: 7.12<br>Risk: 1.7%",
          "Lat: -16.04<br>Lon: -47.62<br>Concentration: 11.35<br>Risk: 6.8%",
          "Lat: -5.27<br>Lon: -84.53<br>Concentration: 22.36<br>Risk: 14.1%",
          "Lat: 34.22<br>Lon: -92.16<br>Concentration: 8.81<br>Risk: 4.4%",
          "Lat: -36.04<br>Lon: 170.28<br>Concentration: 1.94<br>Risk: 1.8%",
          "Lat: 1.71<br>Lon: -38.48<br>Concentration: 8.58<br>Risk: 12.4%",
          "Lat: 11.09<br>Lon: 141.14<br>Concentration: 2.56<br>Risk: 12.4%",
          "Lat: -54.43<br>Lon: 47.21<br>Concentration: 2.42<br>Risk: 4.9%",
          "Lat: 12.91<br>Lon: 106.13<br>Concentration: 1.89<br>Risk: 5.3%",
          "Lat: -39.54<br>Lon: 0.95<br>Concentration: 1.09<br>Risk: 12.3%",
          "Lat: -52.19<br>Lon: 27.69<br>Concentration: 4.19<br>Risk: -4.5%",
          "Lat: 53.87<br>Lon: -2.69<br>Concentration: 22.85<br>Risk: -4.1%",
          "Lat: 55.88<br>Lon: -109.71<br>Concentration: 70.56<br>Risk: 2.8%",
          "Lat: 37.01<br>Lon: 80.08<br>Concentration: 4.16<br>Risk: 7.9%",
          "Lat: -23.45<br>Lon: -78.92<br>Concentration: 21.89<br>Risk: 13.1%",
          "Lat: -48.28<br>Lon: -171.25<br>Concentration: 4.98<br>Risk: 24.8%",
          "Lat: 22.11<br>Lon: 52.37<br>Concentration: 1.42<br>Risk: 18.6%",
          "Lat: -7.18<br>Lon: -116.24<br>Concentration: 14.89<br>Risk: 8.4%",
          "Lat: -45.36<br>Lon: 158.57<br>Concentration: 9.34<br>Risk: 9.8%",
          "Lat: -0.58<br>Lon: 163.41<br>Concentration: 45.51<br>Risk: 30.0%",
          "Lat: -55.87<br>Lon: 149.35<br>Concentration: 1.59<br>Risk: 9.8%",
          "Lat: 49.12<br>Lon: -46.74<br>Concentration: 121.03<br>Risk: 7.1%",
          "Lat: -28.95<br>Lon: -174.44<br>Concentration: 36.30<br>Risk: 13.2%",
          "Lat: 19.50<br>Lon: 154.19<br>Concentration: 7.26<br>Risk: 1.7%",
          "Lat: -22.59<br>Lon: -25.85<br>Concentration: 5.48<br>Risk: 15.2%",
          "Lat: 2.41<br>Lon: 168.00<br>Concentration: 3.61<br>Risk: 55.3%",
          "Lat: 5.61<br>Lon: 166.90<br>Concentration: 8.25<br>Risk: 38.9%",
          "Lat: -37.82<br>Lon: 127.08<br>Concentration: 6.15<br>Risk: 14.0%",
          "Lat: 56.35<br>Lon: -74.00<br>Concentration: 12.35<br>Risk: 16.9%",
          "Lat: 33.02<br>Lon: -41.36<br>Concentration: 5.50<br>Risk: 56.0%",
          "Lat: 52.74<br>Lon: 126.41<br>Concentration: 30.42<br>Risk: 12.2%",
          "Lat: 47.38<br>Lon: -65.91<br>Concentration: 8.37<br>Risk: 10.1%",
          "Lat: 11.75<br>Lon: -118.98<br>Concentration: 5.72<br>Risk: 11.0%",
          "Lat: 50.62<br>Lon: 20.45<br>Concentration: 20.58<br>Risk: 2.3%",
          "Lat: -49.38<br>Lon: 157.02<br>Concentration: 1.46<br>Risk: 10.2%",
          "Lat: -36.48<br>Lon: 70.57<br>Concentration: 10.39<br>Risk: 15.0%",
          "Lat: -54.57<br>Lon: 25.22<br>Concentration: 7.58<br>Risk: 24.5%",
          "Lat: -20.96<br>Lon: -145.02<br>Concentration: 1.80<br>Risk: 19.6%",
          "Lat: -13.36<br>Lon: 41.40<br>Concentration: 1.34<br>Risk: 31.5%",
          "Lat: -27.44<br>Lon: 176.42<br>Concentration: 20.29<br>Risk: 32.3%",
          "Lat: 39.45<br>Lon: -129.57<br>Concentration: 19.35<br>Risk: 78.7%",
          "Lat: -17.19<br>Lon: 6.60<br>Concentration: 8.78<br>Risk: 41.8%",
          "Lat: -26.29<br>Lon: 135.85<br>Concentration: 41.13<br>Risk: 31.9%",
          "Lat: 5.12<br>Lon: 86.68<br>Concentration: 11.48<br>Risk: 1.9%",
          "Lat: -43.09<br>Lon: 70.93<br>Concentration: 25.79<br>Risk: 1.6%",
          "Lat: 36.26<br>Lon: 72.89<br>Concentration: 11.25<br>Risk: 4.0%",
          "Lat: -51.05<br>Lon: -50.58<br>Concentration: 5.61<br>Risk: -11.2%",
          "Lat: 58.43<br>Lon: -74.31<br>Concentration: 2.57<br>Risk: 4.7%",
          "Lat: 32.67<br>Lon: 111.37<br>Concentration: 4.04<br>Risk: 2.4%",
          "Lat: -36.15<br>Lon: 111.64<br>Concentration: 5.71<br>Risk: 11.5%",
          "Lat: -59.34<br>Lon: 132.15<br>Concentration: 28.88<br>Risk: 13.4%",
          "Lat: 37.86<br>Lon: 148.77<br>Concentration: 15.96<br>Risk: 28.8%",
          "Lat: 24.82<br>Lon: 4.08<br>Concentration: 10.28<br>Risk: 49.5%",
          "Lat: 27.48<br>Lon: 0.55<br>Concentration: 17.64<br>Risk: 34.2%",
          "Lat: 32.55<br>Lon: 107.39<br>Concentration: 12.52<br>Risk: 1.0%",
          "Lat: -51.11<br>Lon: 53.99<br>Concentration: 9.60<br>Risk: 14.9%",
          "Lat: -16.98<br>Lon: 72.71<br>Concentration: 1.65<br>Risk: -3.2%",
          "Lat: -46.10<br>Lon: 106.49<br>Concentration: 23.08<br>Risk: 28.3%",
          "Lat: 43.57<br>Lon: 140.40<br>Concentration: 4.67<br>Risk: 21.8%",
          "Lat: 14.80<br>Lon: -58.32<br>Concentration: 21.95<br>Risk: 5.3%",
          "Lat: -20.29<br>Lon: -44.79<br>Concentration: 24.17<br>Risk: -7.1%",
          "Lat: -52.37<br>Lon: -146.17<br>Concentration: 3.78<br>Risk: 23.5%",
          "Lat: -22.68<br>Lon: 28.18<br>Concentration: 19.10<br>Risk: 8.9%",
          "Lat: -20.98<br>Lon: -167.06<br>Concentration: 5.15<br>Risk: 22.4%",
          "Lat: 27.55<br>Lon: -12.38<br>Concentration: 5.18<br>Risk: 24.1%",
          "Lat: 16.51<br>Lon: 15.35<br>Concentration: 9.56<br>Risk: 34.0%",
          "Lat: 46.47<br>Lon: -76.85<br>Concentration: 9.82<br>Risk: 10.1%",
          "Lat: -3.33<br>Lon: 32.70<br>Concentration: 7.68<br>Risk: 10.5%",
          "Lat: -45.65<br>Lon: -169.02<br>Concentration: 1.95<br>Risk: 5.5%",
          "Lat: 25.59<br>Lon: -166.55<br>Concentration: 6.54<br>Risk: 16.2%",
          "Lat: 31.29<br>Lon: 116.14<br>Concentration: 72.13<br>Risk: -0.7%",
          "Lat: 7.35<br>Lon: -50.33<br>Concentration: 0.46<br>Risk: 8.6%",
          "Lat: 32.52<br>Lon: -134.26<br>Concentration: 17.63<br>Risk: 71.2%",
          "Lat: -0.74<br>Lon: 8.01<br>Concentration: 21.27<br>Risk: 45.1%",
          "Lat: 2.73<br>Lon: 97.20<br>Concentration: 1.90<br>Risk: 17.1%",
          "Lat: -8.70<br>Lon: -102.30<br>Concentration: 4.62<br>Risk: -1.2%",
          "Lat: -56.95<br>Lon: 44.24<br>Concentration: 2.72<br>Risk: -5.3%",
          "Lat: -47.05<br>Lon: -149.27<br>Concentration: 47.18<br>Risk: 22.8%",
          "Lat: -56.23<br>Lon: -161.39<br>Concentration: 22.27<br>Risk: 13.3%",
          "Lat: 16.37<br>Lon: 11.29<br>Concentration: 23.37<br>Risk: 32.5%",
          "Lat: -22.28<br>Lon: 14.63<br>Concentration: 8.34<br>Risk: 55.5%",
          "Lat: 1.03<br>Lon: 49.47<br>Concentration: 27.44<br>Risk: 11.2%",
          "Lat: 48.91<br>Lon: 81.39<br>Concentration: 7.33<br>Risk: 21.8%",
          "Lat: -30.08<br>Lon: 171.31<br>Concentration: 28.76<br>Risk: 10.7%",
          "Lat: -10.75<br>Lon: 5.87<br>Concentration: 6.37<br>Risk: 60.6%",
          "Lat: 30.67<br>Lon: -63.74<br>Concentration: 3.75<br>Risk: 77.6%",
          "Lat: -32.54<br>Lon: 106.27<br>Concentration: 45.19<br>Risk: 7.5%",
          "Lat: -50.76<br>Lon: -82.50<br>Concentration: 7.24<br>Risk: 19.7%",
          "Lat: -25.23<br>Lon: -21.97<br>Concentration: 3.01<br>Risk: 16.5%",
          "Lat: -40.65<br>Lon: -151.76<br>Concentration: 2.98<br>Risk: 23.7%",
          "Lat: 51.56<br>Lon: -170.87<br>Concentration: 2.98<br>Risk: 0.4%",
          "Lat: 36.97<br>Lon: 166.55<br>Concentration: 17.19<br>Risk: 16.9%",
          "Lat: 16.01<br>Lon: 120.95<br>Concentration: 6.69<br>Risk: 20.6%",
          "Lat: 44.58<br>Lon: 70.55<br>Concentration: 73.55<br>Risk: -7.6%",
          "Lat: 36.44<br>Lon: -32.78<br>Concentration: 24.20<br>Risk: -1.8%",
          "Lat: -37.61<br>Lon: -117.61<br>Concentration: 9.56<br>Risk: -10.4%",
          "Lat: 47.11<br>Lon: -123.68<br>Concentration: 30.08<br>Risk: 7.3%",
          "Lat: 4.72<br>Lon: -89.91<br>Concentration: 4.50<br>Risk: 17.2%",
          "Lat: 36.89<br>Lon: 17.72<br>Concentration: 1.16<br>Risk: 65.0%",
          "Lat: 47.53<br>Lon: 77.25<br>Concentration: 2.75<br>Risk: 10.7%",
          "Lat: -21.84<br>Lon: 57.67<br>Concentration: 8.56<br>Risk: 26.3%",
          "Lat: -46.79<br>Lon: -79.22<br>Concentration: 5.91<br>Risk: -3.8%",
          "Lat: -32.65<br>Lon: 163.75<br>Concentration: 16.85<br>Risk: -7.0%",
          "Lat: -8.75<br>Lon: 85.64<br>Concentration: 6.52<br>Risk: 9.4%",
          "Lat: 38.16<br>Lon: 19.57<br>Concentration: 15.61<br>Risk: 53.8%",
          "Lat: 43.29<br>Lon: 40.22<br>Concentration: 33.15<br>Risk: 9.7%",
          "Lat: -59.17<br>Lon: -28.94<br>Concentration: 6.50<br>Risk: -10.7%",
          "Lat: 1.29<br>Lon: -90.82<br>Concentration: 12.87<br>Risk: 9.1%",
          "Lat: -9.91<br>Lon: -51.85<br>Concentration: 1.28<br>Risk: -3.0%",
          "Lat: -33.35<br>Lon: 92.82<br>Concentration: 6.53<br>Risk: 16.7%",
          "Lat: -45.62<br>Lon: -174.82<br>Concentration: 2.16<br>Risk: 13.7%",
          "Lat: -19.49<br>Lon: -138.21<br>Concentration: 8.54<br>Risk: 0.6%",
          "Lat: 53.15<br>Lon: -163.44<br>Concentration: 9.36<br>Risk: 4.9%",
          "Lat: -21.22<br>Lon: -165.34<br>Concentration: 9.32<br>Risk: -0.6%",
          "Lat: 2.25<br>Lon: 127.97<br>Concentration: 4.57<br>Risk: 9.4%",
          "Lat: 24.36<br>Lon: 73.32<br>Concentration: 73.59<br>Risk: 19.6%",
          "Lat: -16.36<br>Lon: -9.30<br>Concentration: 2.08<br>Risk: 30.1%",
          "Lat: 56.61<br>Lon: -144.78<br>Concentration: 1.96<br>Risk: 15.0%",
          "Lat: 55.49<br>Lon: -3.02<br>Concentration: 38.67<br>Risk: 4.7%",
          "Lat: -29.79<br>Lon: -9.55<br>Concentration: 3.65<br>Risk: 32.1%",
          "Lat: -0.33<br>Lon: -117.65<br>Concentration: 2.87<br>Risk: 8.9%",
          "Lat: -23.89<br>Lon: -23.81<br>Concentration: 73.91<br>Risk: -0.4%",
          "Lat: -25.82<br>Lon: -36.54<br>Concentration: 19.80<br>Risk: 4.5%",
          "Lat: -55.57<br>Lon: 41.71<br>Concentration: 4.08<br>Risk: -2.0%",
          "Lat: 13.15<br>Lon: 48.63<br>Concentration: 9.18<br>Risk: 29.6%",
          "Lat: 0.32<br>Lon: -163.69<br>Concentration: 51.72<br>Risk: 10.4%",
          "Lat: -53.82<br>Lon: -45.14<br>Concentration: 14.76<br>Risk: 3.0%",
          "Lat: -26.56<br>Lon: 45.31<br>Concentration: 26.74<br>Risk: 12.1%",
          "Lat: 48.99<br>Lon: 1.13<br>Concentration: 16.52<br>Risk: 8.9%",
          "Lat: -31.25<br>Lon: 128.34<br>Concentration: 18.73<br>Risk: 7.8%",
          "Lat: -42.61<br>Lon: 57.13<br>Concentration: 7.69<br>Risk: 16.1%",
          "Lat: -1.27<br>Lon: -121.34<br>Concentration: 7.47<br>Risk: 17.6%",
          "Lat: 58.28<br>Lon: -154.60<br>Concentration: 9.65<br>Risk: 4.7%",
          "Lat: -30.95<br>Lon: 51.27<br>Concentration: 15.40<br>Risk: 4.2%",
          "Lat: 20.66<br>Lon: -170.46<br>Concentration: 5.57<br>Risk: 7.2%",
          "Lat: 31.39<br>Lon: 30.88<br>Concentration: 8.35<br>Risk: 27.0%",
          "Lat: -31.48<br>Lon: 158.48<br>Concentration: 5.42<br>Risk: -5.2%",
          "Lat: 27.39<br>Lon: 27.17<br>Concentration: 8.30<br>Risk: 23.7%",
          "Lat: -15.87<br>Lon: -40.26<br>Concentration: 2.11<br>Risk: 26.4%",
          "Lat: 15.88<br>Lon: 51.58<br>Concentration: 100.08<br>Risk: 7.5%",
          "Lat: 16.02<br>Lon: -15.03<br>Concentration: 3.55<br>Risk: 45.8%",
          "Lat: 4.29<br>Lon: 16.42<br>Concentration: 5.15<br>Risk: 43.1%",
          "Lat: -49.17<br>Lon: 158.93<br>Concentration: 3.26<br>Risk: 40.8%",
          "Lat: 40.24<br>Lon: -41.00<br>Concentration: 13.68<br>Risk: 71.2%",
          "Lat: -21.51<br>Lon: 166.03<br>Concentration: 6.07<br>Risk: 38.7%",
          "Lat: -37.62<br>Lon: 145.93<br>Concentration: 2.82<br>Risk: 0.4%",
          "Lat: -55.11<br>Lon: -109.52<br>Concentration: 14.25<br>Risk: -6.1%",
          "Lat: 10.91<br>Lon: -155.03<br>Concentration: 16.31<br>Risk: 12.0%",
          "Lat: 21.31<br>Lon: -143.72<br>Concentration: 6.91<br>Risk: 62.4%",
          "Lat: -58.01<br>Lon: -173.44<br>Concentration: 3.81<br>Risk: -4.2%",
          "Lat: 1.45<br>Lon: -146.00<br>Concentration: 66.09<br>Risk: 3.5%",
          "Lat: -32.82<br>Lon: 65.88<br>Concentration: 10.38<br>Risk: -0.8%",
          "Lat: 17.42<br>Lon: -154.37<br>Concentration: 2.07<br>Risk: 26.9%",
          "Lat: -39.08<br>Lon: -65.17<br>Concentration: 30.39<br>Risk: 18.8%",
          "Lat: 22.91<br>Lon: 124.16<br>Concentration: 3.14<br>Risk: 9.9%",
          "Lat: -13.59<br>Lon: -171.62<br>Concentration: 114.65<br>Risk: 24.8%",
          "Lat: 52.41<br>Lon: 113.21<br>Concentration: 8.00<br>Risk: 10.8%",
          "Lat: -43.50<br>Lon: -78.53<br>Concentration: 20.35<br>Risk: 1.4%",
          "Lat: -19.07<br>Lon: -137.46<br>Concentration: 0.92<br>Risk: 25.2%",
          "Lat: -46.38<br>Lon: 70.83<br>Concentration: 2.05<br>Risk: 15.4%",
          "Lat: 50.96<br>Lon: 46.42<br>Concentration: 28.05<br>Risk: -0.4%",
          "Lat: 45.28<br>Lon: 135.89<br>Concentration: 10.15<br>Risk: 8.1%",
          "Lat: -29.05<br>Lon: 84.63<br>Concentration: 56.96<br>Risk: 1.2%",
          "Lat: 19.20<br>Lon: 109.25<br>Concentration: 12.00<br>Risk: -3.8%",
          "Lat: 38.07<br>Lon: -78.47<br>Concentration: 8.54<br>Risk: 19.3%",
          "Lat: 6.62<br>Lon: -116.12<br>Concentration: 41.00<br>Risk: 29.1%",
          "Lat: 3.56<br>Lon: 90.22<br>Concentration: 20.29<br>Risk: -4.0%",
          "Lat: -30.98<br>Lon: 110.46<br>Concentration: 6.07<br>Risk: 15.6%",
          "Lat: -48.83<br>Lon: 176.58<br>Concentration: 2.47<br>Risk: 3.5%",
          "Lat: 47.67<br>Lon: -31.46<br>Concentration: 0.69<br>Risk: 5.1%",
          "Lat: 48.05<br>Lon: -46.07<br>Concentration: 4.77<br>Risk: 4.1%",
          "Lat: 15.97<br>Lon: 99.51<br>Concentration: 2.26<br>Risk: 1.4%",
          "Lat: -19.32<br>Lon: -57.31<br>Concentration: 99.26<br>Risk: 10.5%",
          "Lat: -18.09<br>Lon: 155.07<br>Concentration: 3.86<br>Risk: 1.7%",
          "Lat: 27.11<br>Lon: 129.03<br>Concentration: 3.75<br>Risk: 12.7%",
          "Lat: 47.65<br>Lon: -25.56<br>Concentration: 1.61<br>Risk: 9.5%",
          "Lat: 46.45<br>Lon: 90.31<br>Concentration: 5.66<br>Risk: 7.6%",
          "Lat: 33.59<br>Lon: 91.64<br>Concentration: 3.80<br>Risk: 0.9%"
         ],
         "type": "scatter3d",
         "x": {
          "bdata": "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",
          "dtype": "f8"
         },
         "y": {
          "bdata": "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",
          "dtype": "f8"
         },
         "z": {
          "bdata": "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",
          "dtype": "f8"
         }
        }
       ],
       "layout": {
        "height": 700,
        "scene": {
         "xaxis": {
          "title": {
           "text": "Longitude"
          }
         },
         "yaxis": {
          "title": {
           "text": "Latitude"
          }
         },
         "zaxis": {
          "title": {
           "text": "Concentration (particles/m³)"
          }
         }
        },
        "template": {
         "data": {
          "bar": [
           {
            "error_x": {
             "color": "#2a3f5f"
            },
            "error_y": {
             "color": "#2a3f5f"
            },
            "marker": {
             "line": {
              "color": "#E5ECF6",
              "width": 0.5
             },
             "pattern": {
              "fillmode": "overlay",
              "size": 10,
              "solidity": 0.2
             }
            },
            "type": "bar"
           }
          ],
          "barpolar": [
           {
            "marker": {
             "line": {
              "color": "#E5ECF6",
              "width": 0.5
             },
             "pattern": {
              "fillmode": "overlay",
              "size": 10,
              "solidity": 0.2
             }
            },
            "type": "barpolar"
           }
          ],
          "carpet": [
           {
            "aaxis": {
             "endlinecolor": "#2a3f5f",
             "gridcolor": "white",
             "linecolor": "white",
             "minorgridcolor": "white",
             "startlinecolor": "#2a3f5f"
            },
            "baxis": {
             "endlinecolor": "#2a3f5f",
             "gridcolor": "white",
             "linecolor": "white",
             "minorgridcolor": "white",
             "startlinecolor": "#2a3f5f"
            },
            "type": "carpet"
           }
          ],
          "choropleth": [
           {
            "colorbar": {
             "outlinewidth": 0,
             "ticks": ""
            },
            "type": "choropleth"
           }
          ],
          "contour": [
           {
            "colorbar": {
             "outlinewidth": 0,
             "ticks": ""
            },
            "colorscale": [
             [
              0,
              "#0d0887"
             ],
             [
              0.1111111111111111,
              "#46039f"
             ],
             [
              0.2222222222222222,
              "#7201a8"
             ],
             [
              0.3333333333333333,
              "#9c179e"
             ],
             [
              0.4444444444444444,
              "#bd3786"
             ],
             [
              0.5555555555555556,
              "#d8576b"
             ],
             [
              0.6666666666666666,
              "#ed7953"
             ],
             [
              0.7777777777777778,
              "#fb9f3a"
             ],
             [
              0.8888888888888888,
              "#fdca26"
             ],
             [
              1,
              "#f0f921"
             ]
            ],
            "type": "contour"
           }
          ],
          "contourcarpet": [
           {
            "colorbar": {
             "outlinewidth": 0,
             "ticks": ""
            },
            "type": "contourcarpet"
           }
          ],
          "heatmap": [
           {
            "colorbar": {
             "outlinewidth": 0,
             "ticks": ""
            },
            "colorscale": [
             [
              0,
              "#0d0887"
             ],
             [
              0.1111111111111111,
              "#46039f"
             ],
             [
              0.2222222222222222,
              "#7201a8"
             ],
             [
              0.3333333333333333,
              "#9c179e"
             ],
             [
              0.4444444444444444,
              "#bd3786"
             ],
             [
              0.5555555555555556,
              "#d8576b"
             ],
             [
              0.6666666666666666,
              "#ed7953"
             ],
             [
              0.7777777777777778,
              "#fb9f3a"
             ],
             [
              0.8888888888888888,
              "#fdca26"
             ],
             [
              1,
              "#f0f921"
             ]
            ],
            "type": "heatmap"
           }
          ],
          "histogram": [
           {
            "marker": {
             "pattern": {
              "fillmode": "overlay",
              "size": 10,
              "solidity": 0.2
             }
            },
            "type": "histogram"
           }
          ],
          "histogram2d": [
           {
            "colorbar": {
             "outlinewidth": 0,
             "ticks": ""
            },
            "colorscale": [
             [
              0,
              "#0d0887"
             ],
             [
              0.1111111111111111,
              "#46039f"
             ],
             [
              0.2222222222222222,
              "#7201a8"
             ],
             [
              0.3333333333333333,
              "#9c179e"
             ],
             [
              0.4444444444444444,
              "#bd3786"
             ],
             [
              0.5555555555555556,
              "#d8576b"
             ],
             [
              0.6666666666666666,
              "#ed7953"
             ],
             [
              0.7777777777777778,
              "#fb9f3a"
             ],
             [
              0.8888888888888888,
              "#fdca26"
             ],
             [
              1,
              "#f0f921"
             ]
            ],
            "type": "histogram2d"
           }
          ],
          "histogram2dcontour": [
           {
            "colorbar": {
             "outlinewidth": 0,
             "ticks": ""
            },
            "colorscale": [
             [
              0,
              "#0d0887"
             ],
             [
              0.1111111111111111,
              "#46039f"
             ],
             [
              0.2222222222222222,
              "#7201a8"
             ],
             [
              0.3333333333333333,
              "#9c179e"
             ],
             [
              0.4444444444444444,
              "#bd3786"
             ],
             [
              0.5555555555555556,
              "#d8576b"
             ],
             [
              0.6666666666666666,
              "#ed7953"
             ],
             [
              0.7777777777777778,
              "#fb9f3a"
             ],
             [
              0.8888888888888888,
              "#fdca26"
             ],
             [
              1,
              "#f0f921"
             ]
            ],
            "type": "histogram2dcontour"
           }
          ],
          "mesh3d": [
           {
            "colorbar": {
             "outlinewidth": 0,
             "ticks": ""
            },
            "type": "mesh3d"
           }
          ],
          "parcoords": [
           {
            "line": {
             "colorbar": {
              "outlinewidth": 0,
              "ticks": ""
             }
            },
            "type": "parcoords"
           }
          ],
          "pie": [
           {
            "automargin": true,
            "type": "pie"
           }
          ],
          "scatter": [
           {
            "fillpattern": {
             "fillmode": "overlay",
             "size": 10,
             "solidity": 0.2
            },
            "type": "scatter"
           }
          ],
          "scatter3d": [
           {
            "line": {
             "colorbar": {
              "outlinewidth": 0,
              "ticks": ""
             }
            },
            "marker": {
             "colorbar": {
              "outlinewidth": 0,
              "ticks": ""
             }
            },
            "type": "scatter3d"
           }
          ],
          "scattercarpet": [
           {
            "marker": {
             "colorbar": {
              "outlinewidth": 0,
              "ticks": ""
             }
            },
            "type": "scattercarpet"
           }
          ],
          "scattergeo": [
           {
            "marker": {
             "colorbar": {
              "outlinewidth": 0,
              "ticks": ""
             }
            },
            "type": "scattergeo"
           }
          ],
          "scattergl": [
           {
            "marker": {
             "colorbar": {
              "outlinewidth": 0,
              "ticks": ""
             }
            },
            "type": "scattergl"
           }
          ],
          "scattermap": [
           {
            "marker": {
             "colorbar": {
              "outlinewidth": 0,
              "ticks": ""
             }
            },
            "type": "scattermap"
           }
          ],
          "scattermapbox": [
           {
            "marker": {
             "colorbar": {
              "outlinewidth": 0,
              "ticks": ""
             }
            },
            "type": "scattermapbox"
           }
          ],
          "scatterpolar": [
           {
            "marker": {
             "colorbar": {
              "outlinewidth": 0,
              "ticks": ""
             }
            },
            "type": "scatterpolar"
           }
          ],
          "scatterpolargl": [
           {
            "marker": {
             "colorbar": {
              "outlinewidth": 0,
              "ticks": ""
             }
            },
            "type": "scatterpolargl"
           }
          ],
          "scatterternary": [
           {
            "marker": {
             "colorbar": {
              "outlinewidth": 0,
              "ticks": ""
             }
            },
            "type": "scatterternary"
           }
          ],
          "surface": [
           {
            "colorbar": {
             "outlinewidth": 0,
             "ticks": ""
            },
            "colorscale": [
             [
              0,
              "#0d0887"
             ],
             [
              0.1111111111111111,
              "#46039f"
             ],
             [
              0.2222222222222222,
              "#7201a8"
             ],
             [
              0.3333333333333333,
              "#9c179e"
             ],
             [
              0.4444444444444444,
              "#bd3786"
             ],
             [
              0.5555555555555556,
              "#d8576b"
             ],
             [
              0.6666666666666666,
              "#ed7953"
             ],
             [
              0.7777777777777778,
              "#fb9f3a"
             ],
             [
              0.8888888888888888,
              "#fdca26"
             ],
             [
              1,
              "#f0f921"
             ]
            ],
            "type": "surface"
           }
          ],
          "table": [
           {
            "cells": {
             "fill": {
              "color": "#EBF0F8"
             },
             "line": {
              "color": "white"
             }
            },
            "header": {
             "fill": {
              "color": "#C8D4E3"
             },
             "line": {
              "color": "white"
             }
            },
            "type": "table"
           }
          ]
         },
         "layout": {
          "annotationdefaults": {
           "arrowcolor": "#2a3f5f",
           "arrowhead": 0,
           "arrowwidth": 1
          },
          "autotypenumbers": "strict",
          "coloraxis": {
           "colorbar": {
            "outlinewidth": 0,
            "ticks": ""
           }
          },
          "colorscale": {
           "diverging": [
            [
             0,
             "#8e0152"
            ],
            [
             0.1,
             "#c51b7d"
            ],
            [
             0.2,
             "#de77ae"
            ],
            [
             0.3,
             "#f1b6da"
            ],
            [
             0.4,
             "#fde0ef"
            ],
            [
             0.5,
             "#f7f7f7"
            ],
            [
             0.6,
             "#e6f5d0"
            ],
            [
             0.7,
             "#b8e186"
            ],
            [
             0.8,
             "#7fbc41"
            ],
            [
             0.9,
             "#4d9221"
            ],
            [
             1,
             "#276419"
            ]
           ],
           "sequential": [
            [
             0,
             "#0d0887"
            ],
            [
             0.1111111111111111,
             "#46039f"
            ],
            [
             0.2222222222222222,
             "#7201a8"
            ],
            [
             0.3333333333333333,
             "#9c179e"
            ],
            [
             0.4444444444444444,
             "#bd3786"
            ],
            [
             0.5555555555555556,
             "#d8576b"
            ],
            [
             0.6666666666666666,
             "#ed7953"
            ],
            [
             0.7777777777777778,
             "#fb9f3a"
            ],
            [
             0.8888888888888888,
             "#fdca26"
            ],
            [
             1,
             "#f0f921"
            ]
           ],
           "sequentialminus": [
            [
             0,
             "#0d0887"
            ],
            [
             0.1111111111111111,
             "#46039f"
            ],
            [
             0.2222222222222222,
             "#7201a8"
            ],
            [
             0.3333333333333333,
             "#9c179e"
            ],
            [
             0.4444444444444444,
             "#bd3786"
            ],
            [
             0.5555555555555556,
             "#d8576b"
            ],
            [
             0.6666666666666666,
             "#ed7953"
            ],
            [
             0.7777777777777778,
             "#fb9f3a"
            ],
            [
             0.8888888888888888,
             "#fdca26"
            ],
            [
             1,
             "#f0f921"
            ]
           ]
          },
          "colorway": [
           "#636efa",
           "#EF553B",
           "#00cc96",
           "#ab63fa",
           "#FFA15A",
           "#19d3f3",
           "#FF6692",
           "#B6E880",
           "#FF97FF",
           "#FECB52"
          ],
          "font": {
           "color": "#2a3f5f"
          },
          "geo": {
           "bgcolor": "white",
           "lakecolor": "white",
           "landcolor": "#E5ECF6",
           "showlakes": true,
           "showland": true,
           "subunitcolor": "white"
          },
          "hoverlabel": {
           "align": "left"
          },
          "hovermode": "closest",
          "mapbox": {
           "style": "light"
          },
          "paper_bgcolor": "white",
          "plot_bgcolor": "#E5ECF6",
          "polar": {
           "angularaxis": {
            "gridcolor": "white",
            "linecolor": "white",
            "ticks": ""
           },
           "bgcolor": "#E5ECF6",
           "radialaxis": {
            "gridcolor": "white",
            "linecolor": "white",
            "ticks": ""
           }
          },
          "scene": {
           "xaxis": {
            "backgroundcolor": "#E5ECF6",
            "gridcolor": "white",
            "gridwidth": 2,
            "linecolor": "white",
            "showbackground": true,
            "ticks": "",
            "zerolinecolor": "white"
           },
           "yaxis": {
            "backgroundcolor": "#E5ECF6",
            "gridcolor": "white",
            "gridwidth": 2,
            "linecolor": "white",
            "showbackground": true,
            "ticks": "",
            "zerolinecolor": "white"
           },
           "zaxis": {
            "backgroundcolor": "#E5ECF6",
            "gridcolor": "white",
            "gridwidth": 2,
            "linecolor": "white",
            "showbackground": true,
            "ticks": "",
            "zerolinecolor": "white"
           }
          },
          "shapedefaults": {
           "line": {
            "color": "#2a3f5f"
           }
          },
          "ternary": {
           "aaxis": {
            "gridcolor": "white",
            "linecolor": "white",
            "ticks": ""
           },
           "baxis": {
            "gridcolor": "white",
            "linecolor": "white",
            "ticks": ""
           },
           "bgcolor": "#E5ECF6",
           "caxis": {
            "gridcolor": "white",
            "linecolor": "white",
            "ticks": ""
           }
          },
          "title": {
           "x": 0.05
          },
          "xaxis": {
           "automargin": true,
           "gridcolor": "white",
           "linecolor": "white",
           "ticks": "",
           "title": {
            "standoff": 15
           },
           "zerolinecolor": "white",
           "zerolinewidth": 2
          },
          "yaxis": {
           "automargin": true,
           "gridcolor": "white",
           "linecolor": "white",
           "ticks": "",
           "title": {
            "standoff": 15
           },
           "zerolinecolor": "white",
           "zerolinewidth": 2
          }
         }
        },
        "title": {
         "text": "🌐 3D Marine Microplastic Distribution"
        }
       }
      }
     },
     "metadata": {},
     "output_type": "display_data"
    },
    {
     "name": "stdout",
     "output_type": "stream",
     "text": [
      "🌐 3D scatter plot shows spatial-concentration relationships\n"
     ]
    },
    {
     "name": "stderr",
     "output_type": "stream",
     "text": [
      "/var/folders/38/_0twrndx6872x1tw1smjgl680000gn/T/ipykernel_96818/3716986354.py:44: DeprecationWarning:\n",
      "\n",
      "*scatter_mapbox* is deprecated! Use *scatter_map* instead. Learn more at: https://plotly.com/python/mapbox-to-maplibre/\n",
      "\n"
     ]
    },
    {
     "data": {
      "application/vnd.plotly.v1+json": {
       "config": {
        "plotlyServerURL": "https://plot.ly"
       },
       "data": [
        {
         "customdata": {
          "bdata": "ogjOr97mPECzZrc4iH4zQFZXUzFDfR1AT/u4Q9JB7D+tX85jSMczQHotKQzAxghAUTiHeNjyK0DVIleCXoL7P3zqu0u6YShA/dudIVmADEACb5TrsRUmQC7oOOhH7AVAiXSZpUCAKEDDQXqZ+Tr8PwYwBQ3L1idAkb1EKoMSBkD1s5W8Hx85QA2JoOWxnfQ/i7Q+7NPPOUD26W5Vg/keQDiTCjREnS1ATe40SJmp6D9aSSUxyGkmQOOPYdPtNwhA",
          "dtype": "f8",
          "shape": "12, 2"
         },
         "hovertemplate": "month=2025-05<br>microplastic_concentration=%{marker.size}<br>latitude=%{lat}<br>longitude=%{lon}<br>water_temperature=%{customdata[0]}<br>ocean_current_speed=%{customdata[1]}<br>hotspot_probability=%{marker.color}<extra></extra>",
         "lat": {
          "bdata": "y4waTkEcLsCWsJN50sNMwIbdINlwDTnApO7+6T3YKkBxcQtotkZAQO9rISCHXjBAPQXOvRKCJcAG8re3NDc1wGB8+18IBjBAfPOPnrGNS8DJl6oANgFNwMRiDjFM+j7A",
          "dtype": "f8"
         },
         "legendgroup": "",
         "lon": {
          "bdata": "C1kledGQSUA4RdpXTosxQJVOHH0bbl9AG27uVM1eTEBMgm+OuNhaQAiYBSNJkyZAvYqg3PV4F0CakN/fzapkwCXb/cTTDi7A8f2q5fhgW8Ci5EemFa5lwKmpuu54nVtA",
          "dtype": "f8"
         },
         "marker": {
          "color": {
           "bdata": "yt3qy5eCzT8AY2LWvrdDv0i/MIqBh6A/7iEJhRJIyT84JHMz/82EPzcos5dHz9Q/bVaV9vZk4z+wjf3f/EB4v9B5HR47St0/qAh1LtAMr7+w1qpWkJ6lv4Pfz5+JAcQ/",
           "dtype": "f8"
          },
          "coloraxis": "coloraxis",
          "size": {
           "bdata": "P4WEEQmXBEBOGAPZ+fL4Px4qIjxDwQxAtPLvjov3H0AW1QjqmQopQPcuT8iNXjdAhs+6QPN4GUAUDKvESqYiQAFmtGI3ZwxALF6FNuyALEBnIq2pF3EOQOD47SoLShhA",
           "dtype": "f8"
          },
          "sizemode": "area",
          "sizeref": 0.3025732630988454
         },
         "mode": "markers",
         "name": "",
         "showlegend": false,
         "subplot": "mapbox",
         "type": "scattermapbox"
        }
       ],
       "frames": [
        {
         "data": [
          {
           "customdata": {
            "bdata": "ogjOr97mPECzZrc4iH4zQFZXUzFDfR1AT/u4Q9JB7D+tX85jSMczQHotKQzAxghAUTiHeNjyK0DVIleCXoL7P3zqu0u6YShA/dudIVmADEACb5TrsRUmQC7oOOhH7AVAiXSZpUCAKEDDQXqZ+Tr8PwYwBQ3L1idAkb1EKoMSBkD1s5W8Hx85QA2JoOWxnfQ/i7Q+7NPPOUD26W5Vg/keQDiTCjREnS1ATe40SJmp6D9aSSUxyGkmQOOPYdPtNwhA",
            "dtype": "f8",
            "shape": "12, 2"
           },
           "hovertemplate": "month=2025-05<br>microplastic_concentration=%{marker.size}<br>latitude=%{lat}<br>longitude=%{lon}<br>water_temperature=%{customdata[0]}<br>ocean_current_speed=%{customdata[1]}<br>hotspot_probability=%{marker.color}<extra></extra>",
           "lat": {
            "bdata": "y4waTkEcLsCWsJN50sNMwIbdINlwDTnApO7+6T3YKkBxcQtotkZAQO9rISCHXjBAPQXOvRKCJcAG8re3NDc1wGB8+18IBjBAfPOPnrGNS8DJl6oANgFNwMRiDjFM+j7A",
            "dtype": "f8"
           },
           "legendgroup": "",
           "lon": {
            "bdata": "C1kledGQSUA4RdpXTosxQJVOHH0bbl9AG27uVM1eTEBMgm+OuNhaQAiYBSNJkyZAvYqg3PV4F0CakN/fzapkwCXb/cTTDi7A8f2q5fhgW8Ci5EemFa5lwKmpuu54nVtA",
            "dtype": "f8"
           },
           "marker": {
            "color": {
             "bdata": "yt3qy5eCzT8AY2LWvrdDv0i/MIqBh6A/7iEJhRJIyT84JHMz/82EPzcos5dHz9Q/bVaV9vZk4z+wjf3f/EB4v9B5HR47St0/qAh1LtAMr7+w1qpWkJ6lv4Pfz5+JAcQ/",
             "dtype": "f8"
            },
            "coloraxis": "coloraxis",
            "size": {
             "bdata": "P4WEEQmXBEBOGAPZ+fL4Px4qIjxDwQxAtPLvjov3H0AW1QjqmQopQPcuT8iNXjdAhs+6QPN4GUAUDKvESqYiQAFmtGI3ZwxALF6FNuyALEBnIq2pF3EOQOD47SoLShhA",
             "dtype": "f8"
            },
            "sizemode": "area",
            "sizeref": 0.3025732630988454
           },
           "mode": "markers",
           "name": "",
           "showlegend": false,
           "subplot": "mapbox",
           "type": "scattermapbox"
          }
         ],
         "name": "2025-05"
        },
        {
         "data": [
          {
           "customdata": {
            "bdata": "jL5WBwpZMEDTKGtQtEARQPgKZgJp6TtA6/tHqmMN5z8uTZQFwgYUQGkZ2CxCYfA/QySi2s1fM0Dmvx8sMlYEQKZLCd2dSx5AdmDsu/teA0Dt8kMyeo8rQGcrN24pvtI/4rqKMjHvMkDeu4rhRn0TQDZyBWNFOy1AL61teycM5T/qqPHY7UQYQEnCVUlWae0/LvJpQwESJEA1yiyS1s/8PxvI8eKSDjRAF0wghQnwAEDQaNGMWVbvv27Lbd9S6/U/",
            "dtype": "f8",
            "shape": "12, 2"
           },
           "hovertemplate": "month=2024-12<br>microplastic_concentration=%{marker.size}<br>latitude=%{lat}<br>longitude=%{lon}<br>water_temperature=%{customdata[0]}<br>ocean_current_speed=%{customdata[1]}<br>hotspot_probability=%{marker.color}<extra></extra>",
           "lat": {
            "bdata": "3jFgxPgKS0BzuIAxd/hFQA5JkM4eFhXAUvXy/fxPSUDmlJTVqrcqwOlYj6R+fhRA+sd72W+XLUDGW6w84WMhwJ24bQGpRUDAYGE4VKgh1b8DjiVKlyNNQLDTn7u1MjNA",
            "dtype": "f8"
           },
           "legendgroup": "",
           "lon": {
            "bdata": "ha98JbW2YsC/TWhZKW5NQIOrbsm8IVXAddjC6c1yNEBdyRlziLNEQEIrjBdPq1VAa+1g5C4pTcAkE2TIe5NZwKuafAUXkVpATb2FzW1pXcDNy7BLDFNjwMih4lwzUFtA",
            "dtype": "f8"
           },
           "marker": {
            "color": {
             "bdata": "HuvjMkAjuj+70s+yAmvEPz1TYc/kFcI/vOvwjWk+lz/cVFWULC7UP6Ck/m1YoZM/en/T8p4tqz9Q2YTW1YaJvw1kChL9ObM/XxcIdCrctj9N8U270AmoP2T2FMFumaO/",
             "dtype": "f8"
            },
            "coloraxis": "coloraxis",
            "size": {
             "bdata": "p/LOVHaADECqpwir1KA7QFrgLZhyXDZA/v0SLE6UNEBOuXDINGr1P1BeOAzj9yZAb6SJ5OzxNUB9zWHNqnsSQMQteijAmEZAO9Ej7Z/7BkBylf7DQU0jQDfq8kymAShA",
             "dtype": "f8"
            },
            "sizemode": "area",
            "sizeref": 0.3025732630988454
           },
           "mode": "markers",
           "name": "",
           "showlegend": false,
           "subplot": "mapbox",
           "type": "scattermapbox"
          }
         ],
         "name": "2024-12"
        },
        {
         "data": [
          {
           "customdata": {
            "bdata": "F0cJZrHbLUDjmV0I3f0IQGK/sHhkkjNA92EPozNn7z9gX+5vf/bsP8TdgfA+FwxA4w/lNVDWMEDqwo0ZDG78P46bVnxXUjdAO42GaHJWHUD60+wVGnUzQIK6rxlsGyJAwaAVW5hNK0C4w5fw3rr1PzBrijZ64TVAtszHLz70I0D2vXPb2ho8QJVxqAOcX+c/bMK+piACO0DXcLWt8jTuP6NXmkft1yxAlkSgNfoBDkAgTaNDrNAxQA8dwSS2FRZA9siF9oH9NUBZKw06YEIOQA==",
            "dtype": "f8",
            "shape": "13, 2"
           },
           "hovertemplate": "month=2024-10<br>microplastic_concentration=%{marker.size}<br>latitude=%{lat}<br>longitude=%{lon}<br>water_temperature=%{customdata[0]}<br>ocean_current_speed=%{customdata[1]}<br>hotspot_probability=%{marker.color}<extra></extra>",
           "lat": {
            "bdata": "cAOymNrWO0AWTSOCTRxBQBKvxJ7BI0jAYAIRUEqF4r/uj+Z7aLlDQEDdO83u+zDAPtS7PuGWOUB0gGUapFNEwFpvpHjqUkDA7AD8WX9+IcAauw4Pvlw4QAp6NgcBqDRA1KcIwaU5R0A=",
            "dtype": "f8"
           },
           "legendgroup": "",
           "lon": {
            "bdata": "DjiqDRN0XsAHLJ2GegpXwEFIDUzhZ2XAHpFS2EFtZEAeAdJtOzJgwMW8Nh1RLVJA+BOotb/RZMDGwna3LvhiwOcK6EsMeGRACHskHCVpVUCA87juRlRSQMk7v/aWTmXA7e9SxBGUVkA=",
            "dtype": "f8"
           },
           "marker": {
            "color": {
             "bdata": "DpfDTQ6V6D9wCo17WVamP6Mu40s/r88/NHK9Tg4v0z8esfpLATHpP8jWP1ZcZaC/GJRJMcHFxD8jM8spiFHOP6hxXOmvAbK/+UuWBpAtuD8zZ0dAnAbJPxDTM20Fj7I/qTPtTKF7sz8=",
             "dtype": "f8"
            },
            "coloraxis": "coloraxis",
            "size": {
             "bdata": "dIiu2cBE+D/tzEJACJ8hQFYxYS516xNACpvtNcrBRkAAKL05FlozQJe/s784avo/lEv1gBYtGkBVpHUzi80HQOrLhRXh2TBA5M9H7+UXGkCDADr9kWVSQH+cIDWhQxZA2OSuDFelFkA=",
             "dtype": "f8"
            },
            "sizemode": "area",
            "sizeref": 0.3025732630988454
           },
           "mode": "markers",
           "name": "",
           "showlegend": false,
           "subplot": "mapbox",
           "type": "scattermapbox"
          }
         ],
         "name": "2024-10"
        },
        {
         "data": [
          {
           "customdata": {
            "bdata": "DtnYYWHYK0Cky/7Ia60DQI6lN8UZASpAtnVqC5/Z/D+5ZFHXMKkwQAAmzcg9ACVA7mI07ApzI0DYwPfmFMUbQPCXw5HuhvY/Nvkj0WyCDkBE77PjUFgjQOJUxlXszg5AN4fiy3TnI0DHBTsbJpkIQImgx9CG6z1AWDAPMQJJE0AUIcfbZpgWQEimUoSI3RVAlGgSK0fWMECQtKq/9r0bQBbOOtQPByFAJTw7rQ+aJEDKayAo6uU1QGeFmxNRjhJAZJ4JHGQ4NEDyOztOy6z0P6IVkvbYvCJASYxMoMMjAkDfmH5VT9Q3QIdcpQobXxNAggjB3xrkKUDqJCQ/W+QFQMCXozTR5QJAO0oEHkL6H0DiAGzkY34yQJYPCwLd3A5ATA9wNFZNMEDHXHiuIboIQPwG2+YSnTxAqenBA9ayEECMLAe8UCdBQGZ2w9NGUhZA2sq/kZUnQEBlT+Dp0xETQABZTQBGXzxAVDtjStQiIEDwGgVgJ4gsQBLedGIF6RNA",
            "dtype": "f8",
            "shape": "24, 2"
           },
           "hovertemplate": "month=2025-09<br>microplastic_concentration=%{marker.size}<br>latitude=%{lat}<br>longitude=%{lon}<br>water_temperature=%{customdata[0]}<br>ocean_current_speed=%{customdata[1]}<br>hotspot_probability=%{marker.color}<extra></extra>",
           "lat": {
            "bdata": "KM/nx5OtJ0BoacNV/fc4QH5vXh/o/kLAmhPZACTEB0AsvQB88y0mQAEHEcHh7kpAepZUQK+AM0CE4A9WwmsWQLuMShBPSUvAEP3kHbFJOsCmJ0dmZ4tFwABQPeG+IUJAZvrh8OaGScAGR6NRQAxHwF2WNXWWO0dAj4F1OZplR8AWLsle0qRFQKJYx7AE5TfANK0INLPROcAaG15Pxns/wLBgoQ8/HkRAdKt39vouK8AoxfgScRIzwFEi0TsBUTPA",
            "dtype": "f8"
           },
           "legendgroup": "",
           "lon": {
            "bdata": "01fjIFjvYUBXjdCE+4ZewAuWMfHHpVfAGW4fdykvVkBByDhWYKRhQGpR5gCOjAXAy0fc1jpGY0BurWPy5txkQJgxK2LWODlAHXlQeVb7YEAseMkfPrtRQOSpObk7OVJAysEP06VKScCeNpInEJ9aQBzfz+wWNlPA3ccRsVLOU8DFBm2MFxxEQHibwmQ70DfAQC7r3uZEQsDyXUHPc89jQGdXivRjgETAKoDVROhzZcDnPFq+vS5hwIxofdrFp0zA",
            "dtype": "f8"
           },
           "marker": {
            "color": {
             "bdata": "OOpWXDyosT/fO+XQexjtPzqlcTfD18Q/0JVre9QKhT9NpcBOA9+/P2DnDI213KS/xKThggmxkT8Q7ZRJaOfYPyP5qUnoX88/qqv4USxq1D8oTXCCmGmQP0dgRTnXgqQ/4KIAIpDFvL/toPvhDx/SP+7eehH3u7k/mGBw2hB2o78K7zfqVMO4P8DIH8fZ3my/alU3Z2japj8ct6pYtmCqv7pOkxNbyOY/5zmf7Ee+zz9O/ePw4iXQP+7+HWKX17o/",
             "dtype": "f8"
            },
            "coloraxis": "coloraxis",
            "size": {
             "bdata": "ns7g2X9uPkBcsnay4uoGQKj7bv0em/k/bpHsOCNoDUDfiorvfHkEQO0wkzI82TZAntFFGvwHHUBsDxF5+H0gQFI0SQtfUh5AXYZFBDiQREB/0FazCsk5QDg7Acy/fyZAH78PF5JuFkD6ldQBnBU3QCWGOEkZpCNAaxaHo8KoF0BOGh/85ZJAQNS8OKeKelJAM4JytwHNM0AQ0nJsoasVQGv5GHuTWitAWvt/846pXEDvh8lLCYrtP0FXuP9l0FhA",
             "dtype": "f8"
            },
            "sizemode": "area",
            "sizeref": 0.3025732630988454
           },
           "mode": "markers",
           "name": "",
           "showlegend": false,
           "subplot": "mapbox",
           "type": "scattermapbox"
          }
         ],
         "name": "2025-09"
        },
        {
         "data": [
          {
           "customdata": {
            "bdata": "LS+ZExZKNUCN6stlZYkUQHKkmIpDwyZAAxBUHSPNHEA4sqzj/6Y1QOcjnRgkOSJAhbLe0+ucK0DcYOfBrV7uP6cKgTeevzJAEnWmn/w4AEB0PxWFalggQO4yEV4dRgJA8UCuGGHsMkDxF97U5CsPQKR0nmvE6iRAuJpMHA0SEkCIqyLwx2Q7QE9fBcHvcRZASH9ylIHUMUB28C7XXgUDQBpjhMuO7DFA/qpSac52GEB4PJap2pEmQJBbaOG51x5ALQ4nBoHGLUC6+mAAJNggQCSPkI+BPyRAqkyGhuNAC0D+3D7nluM1QBB1FjydbwlAIdOK7QtzKkCawcHAGK0YQHRSekqQUARAr8/md1gk9T/m1vRtSrwqQJIblwWzW9o/gBQFnrYFM0CHv2Gsp8AaQA==",
            "dtype": "f8",
            "shape": "19, 2"
           },
           "hovertemplate": "month=2025-02<br>microplastic_concentration=%{marker.size}<br>latitude=%{lat}<br>longitude=%{lon}<br>water_temperature=%{customdata[0]}<br>ocean_current_speed=%{customdata[1]}<br>hotspot_probability=%{marker.color}<extra></extra>",
           "lat": {
            "bdata": "SgAovo2jRMBUDECW7KNEwC70DiMrF0PAfUDTpK19N8Bix2T/UPE4wBzW7k8pj0hADKCRC9BKNMCzpmtODkJAQE7BC+6Hqj5Af8Ku6yfISUCk7iTxtBRDQCh0LqCDovQ/IGdM96FLKkDoikBQSelKwIywgMfewC9AZL5H4vo39z9EZ0gxLDRKQCCVbvULMUfAPqB+KEgYMsA=",
            "dtype": "f8"
           },
           "legendgroup": "",
           "lon": {
            "bdata": "QcEQRkAoQ0Cv6YfKDBZmwJoOdPibGFNANPv595RtT8DITmPe3UhiwNEjrUsWX0fA/rz5NSNlRsBKnwlNQ8hgwH5zE20q3k/APY+WnfVbZcCl85r8RJEzQBbQIStHtFbAbEfzjB1RSECL2KfI2ZFGwHcpZJq4yklA5bYlYARAYsDbzC6VWk1cQJo1qwTTtFFAiRZJC1NiY0A=",
            "dtype": "f8"
           },
           "marker": {
            "color": {
             "bdata": "7onrPgfzwD/WcV7JsUS2P4SD83LqycQ/Ac+27FZJuT/MdCJ9fN6RPw6INsTYNbI/9GUCNJlBsr+nX/M48sjmP8FnGNss0eg/oNHtXhW8bD99sshcoDrhPx5iFvyKUbc/bggw2Wf50j9wrDIBhL+ePwvZDnWEObM/1FW9nHAYoj86l7UUpJS7P7KgdE+zssM/6BiQkIpPkT8=",
             "dtype": "f8"
            },
            "coloraxis": "coloraxis",
            "size": {
             "bdata": "DGKJaGunCkDRiz9uYJ0sQJ1AOdZRrydANcKeunbhNECTEoJ6SnscQL5aFSPgQV5A/1NxgyAsOEDv9yWm56ExQJ8hD09X+A1AbEVWejDgB0CC5YKUTTkvQJxMSR4QvylA4h+Nf2teIkCi7CQn2oItQMa04y4rBVlAp7qBI/eFUEBBwx/Z4gAgQOsVqLEXXgBAFGKW2xPZDkA=",
             "dtype": "f8"
            },
            "sizemode": "area",
            "sizeref": 0.3025732630988454
           },
           "mode": "markers",
           "name": "",
           "showlegend": false,
           "subplot": "mapbox",
           "type": "scattermapbox"
          }
         ],
         "name": "2025-02"
        },
        {
         "data": [
          {
           "customdata": {
            "bdata": "EEr7JXBWNEBq2NNXhQ7wP/zJIi29gUFAl6S1Z1Ql6D+7pHXZvrouQOORoWRgLwBA7LXVKQaTLkBYL5zq0JIRQMCHLb9GQjBA/vq4OzIfJUA40Kyavtk8QO/p1t04LuU/1KpyB3scJUCXF6/uKMcCQB0eNIjqViRAkWZY+aYiEEDyT2TAf50kQBXfQeSxBCBA8RpSOlLvI0C5mtDsIa4HQGw5xtNi2TRAB+Rwc/8KCUB5trleXHIyQF8SsxufHBxAow7DahpMJ0CiZ9yQDoLwP8AALqBVHDNAh1mjuGXIF0A5nQ0CfN4nQHjtG+4EZMI/aiZ8iYu5JEC5ZT43FBIAQHCooySpIhVABWFZEjxv+z+ZQDOd6QUrQNCpFYy8SjBAb0a9RJVXN0BUgB9rwCQGQP96gcFk0DFAuVYbcc1mA0A=",
            "dtype": "f8",
            "shape": "20, 2"
           },
           "hovertemplate": "month=2025-01<br>microplastic_concentration=%{marker.size}<br>latitude=%{lat}<br>longitude=%{lon}<br>water_temperature=%{customdata[0]}<br>ocean_current_speed=%{customdata[1]}<br>hotspot_probability=%{marker.color}<extra></extra>",
           "lat": {
            "bdata": "/T2O8dWDSsBKrKG9AgVCwKY2RGpH8jzAsPfzuOpDA0A+sHYotF5KQFwvc1CMsEdA9hJgxETJRUBrB7hlvi9KwF6V3nWAjTtAFFA2SgjTRsAIguyGqnTwPzGEC5Y4dEhA6OWfyrSNR0Bgx2Xp7tY1wNB0mIosk9Q/wLlN9sZONUCyj2JfBmlAwIGUD0JLe0lA8uc3tu6jRkBARannwPEvQA==",
            "dtype": "f8"
           },
           "legendgroup": "",
           "lon": {
            "bdata": "NjVWPgzvYcAPmyHjFEllQJqTQ5XwzWXA5RlYD93/ZEAjNYVcMJpfQNtkyvMdelDAi7q8jdyMYUDnmEj7U0ViwGfXCyr5xCjAV6NXGqMgZcDr6ZwVxbxIQIpOvvIkWVRAjgYGx7DrXsBnYIcm5dVMQC5Q6AkZdmTAN7+glAn3YcCxRgnfeXhQQOQXk7avNUdApW24Q3r8YEB990f7jeBYQA==",
            "dtype": "f8"
           },
           "marker": {
            "color": {
             "bdata": "5khZ00UVvD9Yc8a6YjSSP89X7L9I7sA/Q7Cbcmu04T+eX6plNla/P0y4jSQg7Lk/rroa4pblyz9Qx0xDKyHOP7CYrlaUys4/GdH8EhoorD81+blur4+8PzDisPoe5cs/QjBG7wO0sj+ytQxFudLQP1WP2AW0gLo/kW/1Jsz64z/owdzGdrOAv6ACJq8Vg26/icHYSTK6tD9whvH8zNqLPw==",
             "dtype": "f8"
            },
            "coloraxis": "coloraxis",
            "size": {
             "bdata": "H2sVxl/FJ0A7UB+k2vf+Pyi1+vXuJUJA9DLU2djkDEBX3UnSdGo+QMzTD/AevyBAxGI+aaevEkDmB0b7RT8OQFkLW8EuuRRAI5PGTk4i/z+VJYz1RXE7QFr64QpUUB1ArUZA58MUPkDb1lsYMR8hQL6dXENW3ElAGX54Fu6kG0CzBEx3jcMkQI0xdKffCzxA8ko5BJNOJEALqYpingwCQA==",
             "dtype": "f8"
            },
            "sizemode": "area",
            "sizeref": 0.3025732630988454
           },
           "mode": "markers",
           "name": "",
           "showlegend": false,
           "subplot": "mapbox",
           "type": "scattermapbox"
          }
         ],
         "name": "2025-01"
        },
        {
         "data": [
          {
           "customdata": {
            "bdata": "/4yXzjuuMkDu7rbedaoWQN4+Jn8vgTNAGu6DyreCCEAOAHZ0qRorQBsGA6SCgAZAbpsWG1EAMEBaAZKqbuPUP2e9gh6pGR1AcW3CeaNDE0Cq5G8tlwM4QIVu6wz9WS5AINUZqluEFkARcpxP7XkVQHTXYL7EZhPAOQzsv2Wm7T+CwjwuwqAxQPcKGZzISQNA63lEXZTSHkAZ68PCInkRQOyf5V7wiTtAusURUhUc8D8Oa0WFfxEyQIvXDeB97hBA",
            "dtype": "f8",
            "shape": "12, 2"
           },
           "hovertemplate": "month=2025-04<br>microplastic_concentration=%{marker.size}<br>latitude=%{lat}<br>longitude=%{lon}<br>water_temperature=%{customdata[0]}<br>ocean_current_speed=%{customdata[1]}<br>hotspot_probability=%{marker.color}<extra></extra>",
           "lat": {
            "bdata": "kjdJnoFEKEBtBYqnUfJDQImwwtdDcjfAc85sIn6tRsDQIzPVyu9LwGm6KPa9aR1Api2CrZZhScCDF6xd9sNHQLLk+LL7CQJAzcf/nmrJS8ADMnJNu4lDwMMts8NbHTtA",
            "dtype": "f8"
           },
           "legendgroup": "",
           "lon": {
            "bdata": "XycnyLBFZsAvE2D1X1pLQL6gkDgBu1PAWLhkOBXSY0A8O9jePKtiQMBnak1qKknA1XXfYQagVMBwp05BSlBTQIP9xNXP/V9AUBRbXV/aREDJDqotzUpQwFiU9zbqIGBA",
            "dtype": "f8"
           },
           "marker": {
            "color": {
             "bdata": "6JY9WDydkj9BKCSdsp/LPw66HfiUx8A/KxR/svkcuT+wkzy2RSC5PznVa3aA9LU/KPzNlXE8yT9XgXgDMH+7P4CQTobT/rc/7H/oDkBDlL+Nk/LUwRXIP7Sd4m0IQ8A/",
             "dtype": "f8"
            },
            "coloraxis": "coloraxis",
            "size": {
             "bdata": "Xgc5zxj1F0AlJ2plol0hQCU4O4VD5DVAR1HVVYKwIkC21Yyu/Hr5PxtmLKeCON0/LQ34zkbyHEB9ugX5VfkFQGXCCXpiSRJArp87GZNPEECsqXNdRWM+QCdIHHAcBA5A",
             "dtype": "f8"
            },
            "sizemode": "area",
            "sizeref": 0.3025732630988454
           },
           "mode": "markers",
           "name": "",
           "showlegend": false,
           "subplot": "mapbox",
           "type": "scattermapbox"
          }
         ],
         "name": "2025-04"
        },
        {
         "data": [
          {
           "customdata": {
            "bdata": "5rRElxeZKUBG9qwuj0AhQNoeXahU+yVAMoK2P8Cw+z8+hxjKQ2swQM0WsEIwbA5Am75zzH4PMED9sc1olAMYQCyzIG9EwTNAoB9HQRXS7T+S1ME+QsY9QAwG+auqmQxAG7rfPShtNECZdS6CofjzPz9h4klL8jBAQfy2zURc9D+nhbiXjok2QBFnX8uqB+c/eEQrvaL6+z9qHyVUNyzjP2TaspUP1wVAuO4zdlZZCEAQoyFSkXkzQCX0q7cr+w9ANd2uJouBIEAfzyBt10EUQA==",
            "dtype": "f8",
            "shape": "13, 2"
           },
           "hovertemplate": "month=2024-11<br>microplastic_concentration=%{marker.size}<br>latitude=%{lat}<br>longitude=%{lon}<br>water_temperature=%{customdata[0]}<br>ocean_current_speed=%{customdata[1]}<br>hotspot_probability=%{marker.color}<extra></extra>",
           "lat": {
            "bdata": "1TxqudAxTEDmZibSX6FFwBnqjIuFNkvAJYdfSAqCQEAPledhKHA7wLPbAkxe+jTAWpBH9dHSBUCNCe8ivhU+wKEGlNrVOjnACU1grUjOQsBWF+SBZ7svwLlk/ED+KxFAYcNdcogIQ0A=",
            "dtype": "f8"
           },
           "legendgroup": "",
           "lon": {
            "bdata": "JXZL7kNFUUA4EGolUpc4QIwcxi3emkdAPVq0WLKuRMCNc0Scaw1mQM515+vx4WTAKAtOxqZMWEARInTi0GllQPyghNRk+DXAOy90gkxnXcDqZ5k6ISFEwEDE7RULbDBATNcVZ+ydU8A=",
            "dtype": "f8"
           },
           "marker": {
            "color": {
             "bdata": "2O3WctPulb8maS5B2NW1P0DAXiuYPqk/ZnIiK4Xq4T9LE2u0YLDUP9AUuGHgpMw/IKg8oJ7oxT+Ino3QFlS7P6aXp2KRD8U/3p6kRbaaur9GK7bdg+3QP9lKd2CNl9s/3Zql1rKnyD8=",
             "dtype": "f8"
            },
            "coloraxis": "coloraxis",
            "size": {
             "bdata": "s4zJ3ckz3T8KsZD3RMn6P+kxN8qtUwNAH5gi6PwEFkCNci/SXUs0QL+FY/CumRRAOZR2yNRk/j+KOAbB08M8QLDJi4jrDwhAXjB0FIUcI0BcXPdoTOsAQJdX0C0wlxRAovmjJ9IWIUA=",
             "dtype": "f8"
            },
            "sizemode": "area",
            "sizeref": 0.3025732630988454
           },
           "mode": "markers",
           "name": "",
           "showlegend": false,
           "subplot": "mapbox",
           "type": "scattermapbox"
          }
         ],
         "name": "2024-11"
        },
        {
         "data": [
          {
           "customdata": {
            "bdata": "nFCPcBLrBUBet1rLWVf8P0DzpQVen9Y/ieoiR/cLHEBKJf2djEI2QHEY41z1HQpA/GFOKYPyJ0C/NqQ+BHIZQHFhprZ9vSlA2Uu/RRAoD0CxuPTi43ssQENrSP5WYdc/2EiVjOlFI0DWcDB/Eu0aQLQholOruChABmE+dwwPIEBa0YPqU0k+QDgzy0SP/QBAgMtKDKfNPEA/cHxMdg76PyQF64TNbCJAWi5e1ZT/8j+sRq3k9QQzQKR88wUeCR5AWkl2HqhKJkC27kXQ2aYeQCBmxqyujRFAB/zKu5PvBEAQQ8RtD/sKQMZUSA5dsxFASXmz3QIAL0AXpVFz5EQnQCBO8UZXdiZAtPzcBBpEAUBnb0LgJqIoQHVvLnxmePY/tyOvERY2NEDfZ+xc+kMCQHkljdPGMzRAWDKn5DSvAEAmV/MnVm83QNutyaBlsQJAVivkRIDILUBJ1jnpWhwSQLyUG7luKxBA3ufEe5fSG0BrC7F8MZ0oQByswzN2kApAV2DTLi9AN0DqjJjmcLwSQCF0+RseJTVACwWiw0r7EEA=",
            "dtype": "f8",
            "shape": "26, 2"
           },
           "hovertemplate": "month=2025-08<br>microplastic_concentration=%{marker.size}<br>latitude=%{lat}<br>longitude=%{lon}<br>water_temperature=%{customdata[0]}<br>ocean_current_speed=%{customdata[1]}<br>hotspot_probability=%{marker.color}<extra></extra>",
           "lat": {
            "bdata": "OYF+pHhCQcALw2hCjs8pQMhmn1k8mDbA6nLRhfl+J0Bhv7hSwbBIwG1rha2JMDHAA8d9z3ztQkAmRtqmGXs7QIHuHvnDgTBAlnwMwnWsCsCYBY34+0Y2wBAZldQpAjBAd/B161/iEkCCgXSZRNIjwHS6ejLezkbAX/RByfZ+SEAKmwQuak5FwGgtgy0mlUjASIRg66KBNcBlUXFHtWsxQMys7qStv0XA8Yb/YhN/GkAGrEwX7XYMQGqpHt5rBkhAgyRsFJ3TR0DBhCht48pAQA==",
            "dtype": "f8"
           },
           "legendgroup": "",
           "lon": {
            "bdata": "11XFydXQWMDOObDSc4haQNMlIISM2jnAbqkOGuO+XcC6qn/EgKBjQFv9JgULZRpA4H51+oeYYkAA/ioovHfhPyWdXVJCtC5AOe7bvZhZQEDUwvSY3UEtQLCL0WL7PF5AlGkNVGd6VsBQMm5qx+xJwHux898v2mXAlKu/+JkQ8j+aoWNAmpBMQGZaZbKs3WNAVyPKUOrAZEBpwg8i6EtjwIJpq+QQolPAWmc8/MoHXcChVuXzKY5WQMTnXxdoCUfANDBoEumPOcC/Hi72quhWQA==",
            "dtype": "f8"
           },
           "marker": {
            "color": {
             "bdata": "bjzNmevuxj9ZJqTrNBWrP4V0fzuYcsM/np985roZvD+aQEnZOjq6P8rTkM/8xdo//bNNfFFo0j/s6j+rZujVPwwyj36Vw9U/9QP69H3Nuj/u+1/ygMPhP5d/nZwLWco/zTbo3gr8xT9wS+s6fC2fv7AWsLIRfsE/oo2dZ3K5tj/7U1krTanEP/446pvWGto/TdjMEgXI2D8cFQ/knDLRP6Cl/O6zaIw/IAwIycme0j8YufXaGmikvz1NAgmT3qQ/SOvjCVxQuD+ob8uGU+6CPw==",
             "dtype": "f8"
            },
            "coloraxis": "coloraxis",
            "size": {
             "bdata": "Hu72TNQLMED/8rMyA0P+P5cwwYP27BVAWPR40K3cFkCuNFrha1b3P48MR466jyFAVStl0inqL0BrFJkTH6MxQKkEFd0oHiNAe65i9ci3HkC0zrHWTawgQBpzhz4lxhpA7hpn+OkBEkDhw4KkQHL0PxRFl2+MPgFAGJxsSRmGMEA7ozNfJsEeQBFEyercDQpAMauA0KZLGEBgS3kLgogAQCOXRTbTWjRAxKTElQKAREC9jrUzSUo0QIviFuhrFBNAsTb2mzTT+T8HINwLA2oOQA==",
             "dtype": "f8"
            },
            "sizemode": "area",
            "sizeref": 0.3025732630988454
           },
           "mode": "markers",
           "name": "",
           "showlegend": false,
           "subplot": "mapbox",
           "type": "scattermapbox"
          }
         ],
         "name": "2025-08"
        },
        {
         "data": [
          {
           "customdata": {
            "bdata": "uK+cxsFgJkBiuUndVwQLQIg4WOoCuQfAvRj8IYtB+D/fdLalSOUsQMaNcHhF6BFAvIm6GFmQNUAIUSrMJpMOQNRk6e9n1DdAwxXLaqWzFkDA+jkkk/fBv2Bwwh2K2RRAea/IMre+J0C3oqaIxebxP4jCnLbcQS1Asavttp+j0T/OMSycOdAmQEWK+hktGwxA9/kcumAQMUCft36sPhkDQNhFN7AtgyFAuehP3Fw9FEA6jYnB2pk3QF21XdPQqgJAWL4qEUUMM0B5mprPBrv0PyJsZUVW+BBATUCnYHSmAkA=",
            "dtype": "f8",
            "shape": "14, 2"
           },
           "hovertemplate": "month=2025-07<br>microplastic_concentration=%{marker.size}<br>latitude=%{lat}<br>longitude=%{lon}<br>water_temperature=%{customdata[0]}<br>ocean_current_speed=%{customdata[1]}<br>hotspot_probability=%{marker.color}<extra></extra>",
           "lat": {
            "bdata": "buFOTUxVIMBsg7mnG/BLQKyJnXmjGzZA5eBDtKLoQsDPL9Hj0SxMQEvuLFaVNk1AfvfkJi6rTcCWjatYqNI4QPxw0xJRSz9AhgBawTC/S0BSF8qhqEA/wOwziOQtQPS/MV6SfwgMPcAWZUIF8WlIwA==",
            "dtype": "f8"
           },
           "legendgroup": "",
           "lon": {
            "bdata": "FGw+gBXvSkAEEen/mW1bwF0oewddL0pASP+YfVbFX0C2l0/E5X9SwAMNKtekk1LAaZTwUKyEYEAW6+4MQ1UQQJln6Ye3CF1AfuaClXIlCMAZtAhSwwpgQEFZEqX9VV7AP6/zbgkoVUCgkj2GnhJmQA==",
            "dtype": "f8"
           },
           "marker": {
            "color": {
             "bdata": "rNdui2SKuz98MLDY0NScP7kHcNYtx8c/qOI9BCHxwT8IG3+KQ6LFP6xGbxYGSKg/+j7CfaoswT9foChAxq7fP4AwYhSEsnu/EL1T4QENqD/sa0IhdPGzPy4m21IAf8Y/6Dwliy95iT+qGQwEGeOhPw==",
             "dtype": "f8"
            },
            "coloraxis": "coloraxis",
            "size": {
             "bdata": "uBJgTjTeB0BWcPrb7qNRQCB4ZtM5sPY/3tuezyeXGEAROLDJFLQoQIZPABvNhwRAYfqB2U7hPEB9XQxB/I8kQODlCi5cCFJAtija7lVVQ0CZvsL4fLsyQNyih+S/5B1AFN7fSzl7TECWBJnaDcsDQA==",
             "dtype": "f8"
            },
            "sizemode": "area",
            "sizeref": 0.3025732630988454
           },
           "mode": "markers",
           "name": "",
           "showlegend": false,
           "subplot": "mapbox",
           "type": "scattermapbox"
          }
         ],
         "name": "2025-07"
        },
        {
         "data": [
          {
           "customdata": {
            "bdata": "9utTzcUQM0Bi8D8tCQbaP7AdX4vIwTJA1keDOki/IUBsK8d6YytEQE5tKovlzvA/aQK2G2LkH0C1c39wROkmQK+CuIOt/ypAV/w+bC9CEkDsI6RFqR4iQC2Q/1qyRBdACnjddu7bN0ByX7q3vMvxP2jx9ranYzlA9aN36iSYEUDqnO6GDrkvQBksTHBJWxJA190bIjWsNUCxsvTUq9UYQN/eATaMZClABSmnRavHEUAilllY649BQCBwXCh1dRhAPX4Yr5Y8OECLK73MWkEKQJYzwuvvNjZAKCN3V/g5LUAktFAIijI5QEGxgLJ7GQVAYiL0QsDAMkD+KaEc0SLxP9umIJHxrRxAfDBLSEBLDUAVy5Q7jLYyQKBL+fbppgBA",
            "dtype": "f8",
            "shape": "18, 2"
           },
           "hovertemplate": "month=2025-03<br>microplastic_concentration=%{marker.size}<br>latitude=%{lat}<br>longitude=%{lon}<br>water_temperature=%{customdata[0]}<br>ocean_current_speed=%{customdata[1]}<br>hotspot_probability=%{marker.color}<extra></extra>",
           "lat": {
            "bdata": "dyiCOl0JMMB0tPnbglT7P5wKn9y/xEPA6v9jt/uAQkCOEgHDD7ocwHP9VCza9TTAmYANlayOScBUeTTtj3lMwPuyfKXJhkfASCLIaT8dTMDdnbehunxCQNdnozFnOEJA2IVOjWysQMBX0AZyTF0wwH+EZ6KSTkxADzGOdD/JPcBtCxzjD/Q+wEJdx2F20CVA",
            "dtype": "f8"
           },
           "legendgroup": "",
           "lon": {
            "bdata": "Ybku4qfPR8CDXYyNDj5DwCjm8qAaYe4/Sq3d9ksFVEDPsc+0Xg9dwDUo09uGIGLAop6Yglb+SkDo2EkKyx5GQJ18gxXMqGLAvxcIZ6AsZMABdVSxtdFkQA7OMMVyY0DA/hIaPsY0V0C1m3SiR5giwFfB9FHzGGLADibV5q4ZI8Ci474qrqJJQN79SjP1YGPA",
            "dtype": "f8"
           },
           "marker": {
            "color": {
             "bdata": "gpiroV1fsT+sKvvloNa/P5aKzMpcir8/zFD/s8AitD9iLgtGbYG1PxImGn4jFMk/v6p+grgYwz8gwCDDvVirvzGqC819J80/0AV5/7kNwT9q2QB62pTFP2j7cQ8DxJK/1tmc2S5fxT//6E0hlkrTP25kyql1QMM/uRh9oY6G1D/CVMzM1belP84ozO8Ez74/",
             "dtype": "f8"
            },
            "coloraxis": "coloraxis",
            "size": {
             "bdata": "aIcjJoq0JkCSUJB/kiYhQDhstGoffPE/CJDtsaynEEBl1z3FmsktQIMY4MLa1vw/SCmPzg40I0CcxtHXDLsFQPh5n/oCl0dAeNGupuRDNkCt8uTfJDExQPQM1YweMjhA9ERxR7UcGkBiuP13LqIAQFJTVnFlS/8/SGxpvqE6DUAhbG/7eM0uQF5kn/7RTjBA",
             "dtype": "f8"
            },
            "sizemode": "area",
            "sizeref": 0.3025732630988454
           },
           "mode": "markers",
           "name": "",
           "showlegend": false,
           "subplot": "mapbox",
           "type": "scattermapbox"
          }
         ],
         "name": "2025-03"
        },
        {
         "data": [
          {
           "customdata": {
            "bdata": "mF+EtFRxQEANCtPp+/EUQJ/cJ7JieClA0pkPNSvkC0Ci4zGCh9k0QIFuy/iXMwJAwKIdQ1nRJEA94wtGK94VQC+XaFrcsz5Ae/hm9FniFkB++oJTrhA6QG0uUzyEhRBADBK2cfbPPkCPiedLwv7jP4TnaR0mOilA0p9+KajmFEA=",
            "dtype": "f8",
            "shape": "8, 2"
           },
           "hovertemplate": "month=2025-10<br>microplastic_concentration=%{marker.size}<br>latitude=%{lat}<br>longitude=%{lon}<br>water_temperature=%{customdata[0]}<br>ocean_current_speed=%{customdata[1]}<br>hotspot_probability=%{marker.color}<extra></extra>",
           "lat": {
            "bdata": "Aohmus4YSsAqLPb9rVVAQGCFl0wt0+e/W9xDHDeVTcBoHkPSF5NKQH8ODGXOYjtAFwrIXxPPQsAwrfZ4m+k2QA==",
            "dtype": "f8"
           },
           "legendgroup": "",
           "lon": {
            "bdata": "SgEaRnavO0AG+HhXrtdbQAoagrDgAyBAa0/agqjxPMD4aTiwDG5kwLL6eEKzKztAHqBpr6M9YkAgDKta7QlfQA==",
            "dtype": "f8"
           },
           "marker": {
            "color": {
             "bdata": "yCGEjiHxpr84RIVYMaqYPzBHzeJ05Nw/ziUBq5ZTu7+4+k7y1+OoP+3zngrGS84/4AHJNew1cj/fbTq6WWW5Pw==",
             "dtype": "f8"
            },
            "coloraxis": "coloraxis",
            "size": {
             "bdata": "nRus2yTDEEB7vfu1RyoQQL3E4gIuRDVAqjYwi1cDGkDvzxxyL7YiQGtc+usslyBAnPDHfjeMBkBoTb1avB4JQA==",
             "dtype": "f8"
            },
            "sizemode": "area",
            "sizeref": 0.3025732630988454
           },
           "mode": "markers",
           "name": "",
           "showlegend": false,
           "subplot": "mapbox",
           "type": "scattermapbox"
          }
         ],
         "name": "2025-10"
        },
        {
         "data": [
          {
           "customdata": {
            "bdata": "9zMrraqzKUADvSJDU2AeQKnC6phuxh9A4iYM9I2PDEAlYKEAk0EqQKdF8M9u8AFAQMHArELEPEAbCOYMtP/7PwQPCqQcAzxARrX+Qwd4BkAi5/Wg/bg+QEsCnchsahhAeKrGq/FPF0DFdgqHvpERQD6tpFPvDzBA325qJ/k99T/6Vf31xxMoQMVV1FBDv+E/",
            "dtype": "f8",
            "shape": "9, 2"
           },
           "hovertemplate": "month=2025-06<br>microplastic_concentration=%{marker.size}<br>latitude=%{lat}<br>longitude=%{lon}<br>water_temperature=%{customdata[0]}<br>ocean_current_speed=%{customdata[1]}<br>hotspot_probability=%{marker.color}<extra></extra>",
           "lat": {
            "bdata": "jP8XB7Q9QsCxgEwluhNCwE6m94GfrjbA3otseaJJRkCqaGrhR3JCQNqOVkF2fDPAK+3SCfuPOsAceYtf9GQ/QGXsL+o71UdA",
            "dtype": "f8"
           },
           "legendgroup": "",
           "lon": {
            "bdata": "z3K2yYakUUA/4KE6A+lbQLK9PTxMLjxANOG+5j6jUUCPazm7urgxQDHPu9rXRmHA1peA+p+nRkCOXqPbE+E+QLIDQacndT/A",
            "dtype": "f8"
           },
           "marker": {
            "color": {
             "bdata": "xaWEC6Qswz9lLwuBOHO9P1O1p6DzqrY/HoAJoHlss7++IhIcu87kP8Dre7IPoHg/8N91UfATvz8gvfxIiETRP8FfvKRZQqo/",
             "dtype": "f8"
            },
            "coloraxis": "coloraxis",
            "size": {
             "bdata": "gRiu8XLIJEBtvtqK5NoWQO6eo1S8GTNAvv3xZitjUkDkeQAGJ4DyP5vR01yEFiFAZucaaFu9OkDUC8ACULIgQCYpeFxcEeY/",
             "dtype": "f8"
            },
            "sizemode": "area",
            "sizeref": 0.3025732630988454
           },
           "mode": "markers",
           "name": "",
           "showlegend": false,
           "subplot": "mapbox",
           "type": "scattermapbox"
          }
         ],
         "name": "2025-06"
        }
       ],
       "layout": {
        "coloraxis": {
         "colorbar": {
          "title": {
           "text": "hotspot_probability"
          }
         },
         "colorscale": [
          [
           0,
           "rgb(255,245,240)"
          ],
          [
           0.125,
           "rgb(254,224,210)"
          ],
          [
           0.25,
           "rgb(252,187,161)"
          ],
          [
           0.375,
           "rgb(252,146,114)"
          ],
          [
           0.5,
           "rgb(251,106,74)"
          ],
          [
           0.625,
           "rgb(239,59,44)"
          ],
          [
           0.75,
           "rgb(203,24,29)"
          ],
          [
           0.875,
           "rgb(165,15,21)"
          ],
          [
           1,
           "rgb(103,0,13)"
          ]
         ]
        },
        "height": 600,
        "legend": {
         "itemsizing": "constant",
         "tracegroupgap": 0
        },
        "mapbox": {
         "center": {
          "lat": -1.9192520080060649,
          "lon": 1.5750488794101642
         },
         "domain": {
          "x": [
           0,
           1
          ],
          "y": [
           0,
           1
          ]
         },
         "style": "open-street-map",
         "zoom": 2
        },
        "sliders": [
         {
          "active": 0,
          "currentvalue": {
           "prefix": "month="
          },
          "len": 0.9,
          "pad": {
           "b": 10,
           "t": 60
          },
          "steps": [
           {
            "args": [
             [
              "2025-05"
             ],
             {
              "frame": {
               "duration": 0,
               "redraw": true
              },
              "fromcurrent": true,
              "mode": "immediate",
              "transition": {
               "duration": 0,
               "easing": "linear"
              }
             }
            ],
            "label": "2025-05",
            "method": "animate"
           },
           {
            "args": [
             [
              "2024-12"
             ],
             {
              "frame": {
               "duration": 0,
               "redraw": true
              },
              "fromcurrent": true,
              "mode": "immediate",
              "transition": {
               "duration": 0,
               "easing": "linear"
              }
             }
            ],
            "label": "2024-12",
            "method": "animate"
           },
           {
            "args": [
             [
              "2024-10"
             ],
             {
              "frame": {
               "duration": 0,
               "redraw": true
              },
              "fromcurrent": true,
              "mode": "immediate",
              "transition": {
               "duration": 0,
               "easing": "linear"
              }
             }
            ],
            "label": "2024-10",
            "method": "animate"
           },
           {
            "args": [
             [
              "2025-09"
             ],
             {
              "frame": {
               "duration": 0,
               "redraw": true
              },
              "fromcurrent": true,
              "mode": "immediate",
              "transition": {
               "duration": 0,
               "easing": "linear"
              }
             }
            ],
            "label": "2025-09",
            "method": "animate"
           },
           {
            "args": [
             [
              "2025-02"
             ],
             {
              "frame": {
               "duration": 0,
               "redraw": true
              },
              "fromcurrent": true,
              "mode": "immediate",
              "transition": {
               "duration": 0,
               "easing": "linear"
              }
             }
            ],
            "label": "2025-02",
            "method": "animate"
           },
           {
            "args": [
             [
              "2025-01"
             ],
             {
              "frame": {
               "duration": 0,
               "redraw": true
              },
              "fromcurrent": true,
              "mode": "immediate",
              "transition": {
               "duration": 0,
               "easing": "linear"
              }
             }
            ],
            "label": "2025-01",
            "method": "animate"
           },
           {
            "args": [
             [
              "2025-04"
             ],
             {
              "frame": {
               "duration": 0,
               "redraw": true
              },
              "fromcurrent": true,
              "mode": "immediate",
              "transition": {
               "duration": 0,
               "easing": "linear"
              }
             }
            ],
            "label": "2025-04",
            "method": "animate"
           },
           {
            "args": [
             [
              "2024-11"
             ],
             {
              "frame": {
               "duration": 0,
               "redraw": true
              },
              "fromcurrent": true,
              "mode": "immediate",
              "transition": {
               "duration": 0,
               "easing": "linear"
              }
             }
            ],
            "label": "2024-11",
            "method": "animate"
           },
           {
            "args": [
             [
              "2025-08"
             ],
             {
              "frame": {
               "duration": 0,
               "redraw": true
              },
              "fromcurrent": true,
              "mode": "immediate",
              "transition": {
               "duration": 0,
               "easing": "linear"
              }
             }
            ],
            "label": "2025-08",
            "method": "animate"
           },
           {
            "args": [
             [
              "2025-07"
             ],
             {
              "frame": {
               "duration": 0,
               "redraw": true
              },
              "fromcurrent": true,
              "mode": "immediate",
              "transition": {
               "duration": 0,
               "easing": "linear"
              }
             }
            ],
            "label": "2025-07",
            "method": "animate"
           },
           {
            "args": [
             [
              "2025-03"
             ],
             {
              "frame": {
               "duration": 0,
               "redraw": true
              },
              "fromcurrent": true,
              "mode": "immediate",
              "transition": {
               "duration": 0,
               "easing": "linear"
              }
             }
            ],
            "label": "2025-03",
            "method": "animate"
           },
           {
            "args": [
             [
              "2025-10"
             ],
             {
              "frame": {
               "duration": 0,
               "redraw": true
              },
              "fromcurrent": true,
              "mode": "immediate",
              "transition": {
               "duration": 0,
               "easing": "linear"
              }
             }
            ],
            "label": "2025-10",
            "method": "animate"
           },
           {
            "args": [
             [
              "2025-06"
             ],
             {
              "frame": {
               "duration": 0,
               "redraw": true
              },
              "fromcurrent": true,
              "mode": "immediate",
              "transition": {
               "duration": 0,
               "easing": "linear"
              }
             }
            ],
            "label": "2025-06",
            "method": "animate"
           }
          ],
          "x": 0.1,
          "xanchor": "left",
          "y": 0,
          "yanchor": "top"
         }
        ],
        "template": {
         "data": {
          "bar": [
           {
            "error_x": {
             "color": "#2a3f5f"
            },
            "error_y": {
             "color": "#2a3f5f"
            },
            "marker": {
             "line": {
              "color": "#E5ECF6",
              "width": 0.5
             },
             "pattern": {
              "fillmode": "overlay",
              "size": 10,
              "solidity": 0.2
             }
            },
            "type": "bar"
           }
          ],
          "barpolar": [
           {
            "marker": {
             "line": {
              "color": "#E5ECF6",
              "width": 0.5
             },
             "pattern": {
              "fillmode": "overlay",
              "size": 10,
              "solidity": 0.2
             }
            },
            "type": "barpolar"
           }
          ],
          "carpet": [
           {
            "aaxis": {
             "endlinecolor": "#2a3f5f",
             "gridcolor": "white",
             "linecolor": "white",
             "minorgridcolor": "white",
             "startlinecolor": "#2a3f5f"
            },
            "baxis": {
             "endlinecolor": "#2a3f5f",
             "gridcolor": "white",
             "linecolor": "white",
             "minorgridcolor": "white",
             "startlinecolor": "#2a3f5f"
            },
            "type": "carpet"
           }
          ],
          "choropleth": [
           {
            "colorbar": {
             "outlinewidth": 0,
             "ticks": ""
            },
            "type": "choropleth"
           }
          ],
          "contour": [
           {
            "colorbar": {
             "outlinewidth": 0,
             "ticks": ""
            },
            "colorscale": [
             [
              0,
              "#0d0887"
             ],
             [
              0.1111111111111111,
              "#46039f"
             ],
             [
              0.2222222222222222,
              "#7201a8"
             ],
             [
              0.3333333333333333,
              "#9c179e"
             ],
             [
              0.4444444444444444,
              "#bd3786"
             ],
             [
              0.5555555555555556,
              "#d8576b"
             ],
             [
              0.6666666666666666,
              "#ed7953"
             ],
             [
              0.7777777777777778,
              "#fb9f3a"
             ],
             [
              0.8888888888888888,
              "#fdca26"
             ],
             [
              1,
              "#f0f921"
             ]
            ],
            "type": "contour"
           }
          ],
          "contourcarpet": [
           {
            "colorbar": {
             "outlinewidth": 0,
             "ticks": ""
            },
            "type": "contourcarpet"
           }
          ],
          "heatmap": [
           {
            "colorbar": {
             "outlinewidth": 0,
             "ticks": ""
            },
            "colorscale": [
             [
              0,
              "#0d0887"
             ],
             [
              0.1111111111111111,
              "#46039f"
             ],
             [
              0.2222222222222222,
              "#7201a8"
             ],
             [
              0.3333333333333333,
              "#9c179e"
             ],
             [
              0.4444444444444444,
              "#bd3786"
             ],
             [
              0.5555555555555556,
              "#d8576b"
             ],
             [
              0.6666666666666666,
              "#ed7953"
             ],
             [
              0.7777777777777778,
              "#fb9f3a"
             ],
             [
              0.8888888888888888,
              "#fdca26"
             ],
             [
              1,
              "#f0f921"
             ]
            ],
            "type": "heatmap"
           }
          ],
          "histogram": [
           {
            "marker": {
             "pattern": {
              "fillmode": "overlay",
              "size": 10,
              "solidity": 0.2
             }
            },
            "type": "histogram"
           }
          ],
          "histogram2d": [
           {
            "colorbar": {
             "outlinewidth": 0,
             "ticks": ""
            },
            "colorscale": [
             [
              0,
              "#0d0887"
             ],
             [
              0.1111111111111111,
              "#46039f"
             ],
             [
              0.2222222222222222,
              "#7201a8"
             ],
             [
              0.3333333333333333,
              "#9c179e"
             ],
             [
              0.4444444444444444,
              "#bd3786"
             ],
             [
              0.5555555555555556,
              "#d8576b"
             ],
             [
              0.6666666666666666,
              "#ed7953"
             ],
             [
              0.7777777777777778,
              "#fb9f3a"
             ],
             [
              0.8888888888888888,
              "#fdca26"
             ],
             [
              1,
              "#f0f921"
             ]
            ],
            "type": "histogram2d"
           }
          ],
          "histogram2dcontour": [
           {
            "colorbar": {
             "outlinewidth": 0,
             "ticks": ""
            },
            "colorscale": [
             [
              0,
              "#0d0887"
             ],
             [
              0.1111111111111111,
              "#46039f"
             ],
             [
              0.2222222222222222,
              "#7201a8"
             ],
             [
              0.3333333333333333,
              "#9c179e"
             ],
             [
              0.4444444444444444,
              "#bd3786"
             ],
             [
              0.5555555555555556,
              "#d8576b"
             ],
             [
              0.6666666666666666,
              "#ed7953"
             ],
             [
              0.7777777777777778,
              "#fb9f3a"
             ],
             [
              0.8888888888888888,
              "#fdca26"
             ],
             [
              1,
              "#f0f921"
             ]
            ],
            "type": "histogram2dcontour"
           }
          ],
          "mesh3d": [
           {
            "colorbar": {
             "outlinewidth": 0,
             "ticks": ""
            },
            "type": "mesh3d"
           }
          ],
          "parcoords": [
           {
            "line": {
             "colorbar": {
              "outlinewidth": 0,
              "ticks": ""
             }
            },
            "type": "parcoords"
           }
          ],
          "pie": [
           {
            "automargin": true,
            "type": "pie"
           }
          ],
          "scatter": [
           {
            "fillpattern": {
             "fillmode": "overlay",
             "size": 10,
             "solidity": 0.2
            },
            "type": "scatter"
           }
          ],
          "scatter3d": [
           {
            "line": {
             "colorbar": {
              "outlinewidth": 0,
              "ticks": ""
             }
            },
            "marker": {
             "colorbar": {
              "outlinewidth": 0,
              "ticks": ""
             }
            },
            "type": "scatter3d"
           }
          ],
          "scattercarpet": [
           {
            "marker": {
             "colorbar": {
              "outlinewidth": 0,
              "ticks": ""
             }
            },
            "type": "scattercarpet"
           }
          ],
          "scattergeo": [
           {
            "marker": {
             "colorbar": {
              "outlinewidth": 0,
              "ticks": ""
             }
            },
            "type": "scattergeo"
           }
          ],
          "scattergl": [
           {
            "marker": {
             "colorbar": {
              "outlinewidth": 0,
              "ticks": ""
             }
            },
            "type": "scattergl"
           }
          ],
          "scattermap": [
           {
            "marker": {
             "colorbar": {
              "outlinewidth": 0,
              "ticks": ""
             }
            },
            "type": "scattermap"
           }
          ],
          "scattermapbox": [
           {
            "marker": {
             "colorbar": {
              "outlinewidth": 0,
              "ticks": ""
             }
            },
            "type": "scattermapbox"
           }
          ],
          "scatterpolar": [
           {
            "marker": {
             "colorbar": {
              "outlinewidth": 0,
              "ticks": ""
             }
            },
            "type": "scatterpolar"
           }
          ],
          "scatterpolargl": [
           {
            "marker": {
             "colorbar": {
              "outlinewidth": 0,
              "ticks": ""
             }
            },
            "type": "scatterpolargl"
           }
          ],
          "scatterternary": [
           {
            "marker": {
             "colorbar": {
              "outlinewidth": 0,
              "ticks": ""
             }
            },
            "type": "scatterternary"
           }
          ],
          "surface": [
           {
            "colorbar": {
             "outlinewidth": 0,
             "ticks": ""
            },
            "colorscale": [
             [
              0,
              "#0d0887"
             ],
             [
              0.1111111111111111,
              "#46039f"
             ],
             [
              0.2222222222222222,
              "#7201a8"
             ],
             [
              0.3333333333333333,
              "#9c179e"
             ],
             [
              0.4444444444444444,
              "#bd3786"
             ],
             [
              0.5555555555555556,
              "#d8576b"
             ],
             [
              0.6666666666666666,
              "#ed7953"
             ],
             [
              0.7777777777777778,
              "#fb9f3a"
             ],
             [
              0.8888888888888888,
              "#fdca26"
             ],
             [
              1,
              "#f0f921"
             ]
            ],
            "type": "surface"
           }
          ],
          "table": [
           {
            "cells": {
             "fill": {
              "color": "#EBF0F8"
             },
             "line": {
              "color": "white"
             }
            },
            "header": {
             "fill": {
              "color": "#C8D4E3"
             },
             "line": {
              "color": "white"
             }
            },
            "type": "table"
           }
          ]
         },
         "layout": {
          "annotationdefaults": {
           "arrowcolor": "#2a3f5f",
           "arrowhead": 0,
           "arrowwidth": 1
          },
          "autotypenumbers": "strict",
          "coloraxis": {
           "colorbar": {
            "outlinewidth": 0,
            "ticks": ""
           }
          },
          "colorscale": {
           "diverging": [
            [
             0,
             "#8e0152"
            ],
            [
             0.1,
             "#c51b7d"
            ],
            [
             0.2,
             "#de77ae"
            ],
            [
             0.3,
             "#f1b6da"
            ],
            [
             0.4,
             "#fde0ef"
            ],
            [
             0.5,
             "#f7f7f7"
            ],
            [
             0.6,
             "#e6f5d0"
            ],
            [
             0.7,
             "#b8e186"
            ],
            [
             0.8,
             "#7fbc41"
            ],
            [
             0.9,
             "#4d9221"
            ],
            [
             1,
             "#276419"
            ]
           ],
           "sequential": [
            [
             0,
             "#0d0887"
            ],
            [
             0.1111111111111111,
             "#46039f"
            ],
            [
             0.2222222222222222,
             "#7201a8"
            ],
            [
             0.3333333333333333,
             "#9c179e"
            ],
            [
             0.4444444444444444,
             "#bd3786"
            ],
            [
             0.5555555555555556,
             "#d8576b"
            ],
            [
             0.6666666666666666,
             "#ed7953"
            ],
            [
             0.7777777777777778,
             "#fb9f3a"
            ],
            [
             0.8888888888888888,
             "#fdca26"
            ],
            [
             1,
             "#f0f921"
            ]
           ],
           "sequentialminus": [
            [
             0,
             "#0d0887"
            ],
            [
             0.1111111111111111,
             "#46039f"
            ],
            [
             0.2222222222222222,
             "#7201a8"
            ],
            [
             0.3333333333333333,
             "#9c179e"
            ],
            [
             0.4444444444444444,
             "#bd3786"
            ],
            [
             0.5555555555555556,
             "#d8576b"
            ],
            [
             0.6666666666666666,
             "#ed7953"
            ],
            [
             0.7777777777777778,
             "#fb9f3a"
            ],
            [
             0.8888888888888888,
             "#fdca26"
            ],
            [
             1,
             "#f0f921"
            ]
           ]
          },
          "colorway": [
           "#636efa",
           "#EF553B",
           "#00cc96",
           "#ab63fa",
           "#FFA15A",
           "#19d3f3",
           "#FF6692",
           "#B6E880",
           "#FF97FF",
           "#FECB52"
          ],
          "font": {
           "color": "#2a3f5f"
          },
          "geo": {
           "bgcolor": "white",
           "lakecolor": "white",
           "landcolor": "#E5ECF6",
           "showlakes": true,
           "showland": true,
           "subunitcolor": "white"
          },
          "hoverlabel": {
           "align": "left"
          },
          "hovermode": "closest",
          "mapbox": {
           "style": "light"
          },
          "paper_bgcolor": "white",
          "plot_bgcolor": "#E5ECF6",
          "polar": {
           "angularaxis": {
            "gridcolor": "white",
            "linecolor": "white",
            "ticks": ""
           },
           "bgcolor": "#E5ECF6",
           "radialaxis": {
            "gridcolor": "white",
            "linecolor": "white",
            "ticks": ""
           }
          },
          "scene": {
           "xaxis": {
            "backgroundcolor": "#E5ECF6",
            "gridcolor": "white",
            "gridwidth": 2,
            "linecolor": "white",
            "showbackground": true,
            "ticks": "",
            "zerolinecolor": "white"
           },
           "yaxis": {
            "backgroundcolor": "#E5ECF6",
            "gridcolor": "white",
            "gridwidth": 2,
            "linecolor": "white",
            "showbackground": true,
            "ticks": "",
            "zerolinecolor": "white"
           },
           "zaxis": {
            "backgroundcolor": "#E5ECF6",
            "gridcolor": "white",
            "gridwidth": 2,
            "linecolor": "white",
            "showbackground": true,
            "ticks": "",
            "zerolinecolor": "white"
           }
          },
          "shapedefaults": {
           "line": {
            "color": "#2a3f5f"
           }
          },
          "ternary": {
           "aaxis": {
            "gridcolor": "white",
            "linecolor": "white",
            "ticks": ""
           },
           "baxis": {
            "gridcolor": "white",
            "linecolor": "white",
            "ticks": ""
           },
           "bgcolor": "#E5ECF6",
           "caxis": {
            "gridcolor": "white",
            "linecolor": "white",
            "ticks": ""
           }
          },
          "title": {
           "x": 0.05
          },
          "xaxis": {
           "automargin": true,
           "gridcolor": "white",
           "linecolor": "white",
           "ticks": "",
           "title": {
            "standoff": 15
           },
           "zerolinecolor": "white",
           "zerolinewidth": 2
          },
          "yaxis": {
           "automargin": true,
           "gridcolor": "white",
           "linecolor": "white",
           "ticks": "",
           "title": {
            "standoff": 15
           },
           "zerolinecolor": "white",
           "zerolinewidth": 2
          }
         }
        },
        "title": {
         "text": "🎬 Animated Marine Microplastic Timeline"
        },
        "updatemenus": [
         {
          "buttons": [
           {
            "args": [
             null,
             {
              "frame": {
               "duration": 500,
               "redraw": true
              },
              "fromcurrent": true,
              "mode": "immediate",
              "transition": {
               "duration": 500,
               "easing": "linear"
              }
             }
            ],
            "label": "&#9654;",
            "method": "animate"
           },
           {
            "args": [
             [
              null
             ],
             {
              "frame": {
               "duration": 0,
               "redraw": true
              },
              "fromcurrent": true,
              "mode": "immediate",
              "transition": {
               "duration": 0,
               "easing": "linear"
              }
             }
            ],
            "label": "&#9724;",
            "method": "animate"
           }
          ],
          "direction": "left",
          "pad": {
           "r": 10,
           "t": 70
          },
          "showactive": false,
          "type": "buttons",
          "x": 0.1,
          "xanchor": "right",
          "y": 0,
          "yanchor": "top"
         }
        ]
       }
      }
     },
     "metadata": {},
     "output_type": "display_data"
    },
    {
     "name": "stdout",
     "output_type": "stream",
     "text": [
      "🎬 Animated timeline shows temporal evolution of microplastic distribution\n",
      "▶️ Use the play button to animate through time\n"
     ]
    }
   ],
   "source": [
    "def create_3d_scatter():\n",
    "    \"\"\"Create 3D scatter plot of marine data\"\"\"\n",
    "    fig = go.Figure(data=[go.Scatter3d(\n",
    "        x=visualizer.data['longitude'],\n",
    "        y=visualizer.data['latitude'],\n",
    "        z=visualizer.data['microplastic_concentration'],\n",
    "        mode='markers',\n",
    "        marker=dict(\n",
    "            size=visualizer.data['hotspot_probability'] * 20 + 5,\n",
    "            color=visualizer.data['hotspot_probability'],\n",
    "            colorscale='Reds',\n",
    "            opacity=0.8,\n",
    "            colorbar=dict(title=\"Hotspot Probability\")\n",
    "        ),\n",
    "        text=[f\"Lat: {lat:.2f}<br>Lon: {lon:.2f}<br>Concentration: {conc:.2f}<br>Risk: {prob:.1%}\" \n",
    "              for lat, lon, conc, prob in zip(visualizer.data['latitude'], \n",
    "                                              visualizer.data['longitude'],\n",
    "                                              visualizer.data['microplastic_concentration'],\n",
    "                                              visualizer.data['hotspot_probability'])],\n",
    "        hovertemplate=\"%{text}<extra></extra>\"\n",
    "    )])\n",
    "    \n",
    "    fig.update_layout(\n",
    "        title=\"🌐 3D Marine Microplastic Distribution\",\n",
    "        scene=dict(\n",
    "            xaxis_title=\"Longitude\",\n",
    "            yaxis_title=\"Latitude\", \n",
    "            zaxis_title=\"Concentration (particles/m³)\"\n",
    "        ),\n",
    "        height=700\n",
    "    )\n",
    "    \n",
    "    return fig\n",
    "\n",
    "def create_animated_timeline():\n",
    "    \"\"\"Create animated timeline of microplastic data\"\"\"\n",
    "    # Convert timestamp to datetime if needed\n",
    "    if not pd.api.types.is_datetime64_any_dtype(visualizer.data['timestamp']):\n",
    "        visualizer.data['timestamp'] = pd.to_datetime(visualizer.data['timestamp'])\n",
    "    \n",
    "    # Add month for animation\n",
    "    visualizer.data['month'] = visualizer.data['timestamp'].dt.to_period('M').astype(str)\n",
    "    \n",
    "    fig = px.scatter_mapbox(\n",
    "        visualizer.data,\n",
    "        lat=\"latitude\",\n",
    "        lon=\"longitude\",\n",
    "        color=\"hotspot_probability\",\n",
    "        size=\"microplastic_concentration\",\n",
    "        animation_frame=\"month\",\n",
    "        hover_data=[\"water_temperature\", \"ocean_current_speed\"],\n",
    "        color_continuous_scale=\"Reds\",\n",
    "        size_max=20,\n",
    "        zoom=2,\n",
    "        mapbox_style=\"open-street-map\",\n",
    "        title=\"🎬 Animated Marine Microplastic Timeline\"\n",
    "    )\n",
    "    \n",
    "    fig.update_layout(height=600)\n",
    "    return fig\n",
    "\n",
    "# Create and display 3D visualization\n",
    "scatter_3d = create_3d_scatter()\n",
    "scatter_3d.show()\n",
    "\n",
    "print(\"🌐 3D scatter plot shows spatial-concentration relationships\")\n",
    "\n",
    "# Create animated timeline\n",
    "animated_fig = create_animated_timeline()\n",
    "animated_fig.show()\n",
    "\n",
    "print(\"🎬 Animated timeline shows temporal evolution of microplastic distribution\")\n",
    "print(\"▶️ Use the play button to animate through time\")"
   ]
  },
  {
   "cell_type": "markdown",
   "id": "589ebe74",
   "metadata": {},
   "source": [
    "## 💾 Save All Visualizations"
   ]
  },
  {
   "cell_type": "code",
   "execution_count": 22,
   "id": "5372503a",
   "metadata": {},
   "outputs": [
    {
     "name": "stderr",
     "output_type": "stream",
     "text": [
      "INFO:src.visualization.interactive_maps:Generating all visualizations...\n"
     ]
    },
    {
     "name": "stdout",
     "output_type": "stream",
     "text": [
      "💾 Generating all visualizations...\n"
     ]
    },
    {
     "name": "stderr",
     "output_type": "stream",
     "text": [
      "INFO:src.visualization.interactive_maps:Global hotspot map saved to visualizations/global_hotspot_map.html\n",
      "INFO:src.visualization.interactive_maps:Concentration heatmap saved to visualizations/concentration_heatmap.html\n",
      "INFO:src.visualization.interactive_maps:Concentration heatmap saved to visualizations/concentration_heatmap.html\n",
      "INFO:src.visualization.interactive_maps:Temporal analysis saved to visualizations/temporal_analysis.html\n",
      "INFO:src.visualization.interactive_maps:Temporal analysis saved to visualizations/temporal_analysis.html\n",
      "INFO:src.visualization.interactive_maps:Environmental correlations saved to visualizations/environmental_correlations.html\n",
      "INFO:src.visualization.interactive_maps:Environmental correlations saved to visualizations/environmental_correlations.html\n",
      "INFO:src.visualization.interactive_maps:Risk dashboard saved to visualizations/risk_dashboard.html\n",
      "INFO:src.visualization.interactive_maps:Successfully generated 5 visualizations\n",
      "INFO:src.visualization.interactive_maps:Risk dashboard saved to visualizations/risk_dashboard.html\n",
      "INFO:src.visualization.interactive_maps:Successfully generated 5 visualizations\n"
     ]
    },
    {
     "name": "stdout",
     "output_type": "stream",
     "text": [
      "\n",
      "✅ All visualizations saved!\n",
      "\n",
      "📁 Generated files:\n",
      "   📊 visualizations/global_hotspot_map.html (352.5 KB)\n",
      "   📊 visualizations/concentration_heatmap.html (4732.6 KB)\n",
      "   📊 visualizations/temporal_analysis.html (4749.9 KB)\n",
      "   📊 visualizations/environmental_correlations.html (4752.1 KB)\n",
      "   📊 visualizations/risk_dashboard.html (4748.8 KB)\n",
      "\n",
      "🌐 Open any HTML file in your browser for interactive exploration!\n",
      "\n",
      "🎯 Visualization Features:\n",
      "   • Interactive maps with zoom and pan\n",
      "   • Hover tooltips with detailed information\n",
      "   • Customizable color scales and filters\n",
      "   • Exportable charts and data\n",
      "   • Real-time prediction capabilities\n"
     ]
    }
   ],
   "source": [
    "# Generate and save all visualizations\n",
    "print(\"💾 Generating all visualizations...\")\n",
    "\n",
    "file_paths = visualizer.generate_all_visualizations()\n",
    "\n",
    "print(\"\\n✅ All visualizations saved!\")\n",
    "print(\"\\n📁 Generated files:\")\n",
    "for path in file_paths:\n",
    "    if os.path.exists(path):\n",
    "        size = os.path.getsize(path) / 1024  # Size in KB\n",
    "        print(f\"   📊 {path} ({size:.1f} KB)\")\n",
    "    else:\n",
    "        print(f\"   ❌ {path} (failed to create)\")\n",
    "\n",
    "print(\"\\n🌐 Open any HTML file in your browser for interactive exploration!\")\n",
    "print(\"\\n🎯 Visualization Features:\")\n",
    "print(\"   • Interactive maps with zoom and pan\")\n",
    "print(\"   • Hover tooltips with detailed information\")\n",
    "print(\"   • Customizable color scales and filters\")\n",
    "print(\"   • Exportable charts and data\")\n",
    "print(\"   • Real-time prediction capabilities\")"
   ]
  },
  {
   "cell_type": "markdown",
   "id": "28f0b58b",
   "metadata": {},
   "source": [
    "## 📋 Summary\n",
    "\n",
    "This notebook provides comprehensive interactive visualizations for the Marine Microplastic Prediction Framework:\n",
    "\n",
    "### 🎨 **Visualization Types Created:**\n",
    "1. **🗺️ Interactive Global Maps** - Hotspot locations with risk levels\n",
    "2. **🔥 Concentration Heatmaps** - Density distributions across oceans\n",
    "3. **📈 Temporal Analysis** - Trends and seasonal patterns\n",
    "4. **🌡️ Environmental Correlations** - Factor relationships\n",
    "5. **📋 Risk Dashboards** - Comprehensive assessment panels\n",
    "6. **🎯 Real-time Predictions** - Live hotspot probability\n",
    "7. **🌐 3D Visualizations** - Spatial-concentration relationships\n",
    "8. **🎬 Animated Timelines** - Temporal evolution\n",
    "\n",
    "### 🚀 **Next Steps:**\n",
    "- Open HTML files in browser for full interactivity\n",
    "- Customize visualizations for specific regions\n",
    "- Integrate with real-time data feeds\n",
    "- Deploy dashboards for stakeholder access\n",
    "\n",
    "**🎉 Your Marine Microplastic Prediction Framework now includes world-class visualizations!**"
   ]
  }
 ],
 "metadata": {
  "kernelspec": {
   "display_name": ".venv (3.9.6)",
   "language": "python",
   "name": "python3"
  },
  "language_info": {
   "codemirror_mode": {
    "name": "ipython",
    "version": 3
   },
   "file_extension": ".py",
   "mimetype": "text/x-python",
   "name": "python",
   "nbconvert_exporter": "python",
   "pygments_lexer": "ipython3",
   "version": "3.9.6"
  }
 },
 "nbformat": 4,
 "nbformat_minor": 5
}
